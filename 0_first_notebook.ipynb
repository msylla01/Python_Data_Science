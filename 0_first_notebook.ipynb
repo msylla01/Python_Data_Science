{
  "nbformat": 4,
  "nbformat_minor": 0,
  "metadata": {
    "colab": {
      "name": "0_first_notebook.ipynb",
      "version": "0.3.2",
      "provenance": [],
      "toc_visible": true,
      "include_colab_link": true
    },
    "kernelspec": {
      "name": "python3",
      "display_name": "Python 3"
    }
  },
  "cells": [
    {
      "cell_type": "markdown",
      "metadata": {
        "id": "view-in-github",
        "colab_type": "text"
      },
      "source": [
        "<a href=\"https://colab.research.google.com/github/titsitits/UNamur_Python_Analytics/blob/master/0_first_notebook.ipynb\" target=\"_parent\"><img src=\"https://colab.research.google.com/assets/colab-badge.svg\" alt=\"Open In Colab\"/></a>"
      ]
    },
    {
      "cell_type": "markdown",
      "metadata": {
        "id": "hyFc8lqvtknr",
        "colab_type": "text"
      },
      "source": [
        "# Notebooks iPython"
      ]
    },
    {
      "cell_type": "markdown",
      "metadata": {
        "id": "VZiE6Yz3oE_6",
        "colab_type": "text"
      },
      "source": [
        "Pour exécuter une cellule de code, sélectionner la cellule et :\n",
        "* appuyer sur le bouton ![Texte alternatif…](https://raw.githubusercontent.com/titsitits/UNamur_Python_Analytics/master/Images/button1.jpg) apparaissant à gauche\n",
        "* ou utiliser le raccourcis Maj+Enter (ou Ctrl+Enter pour rester sur la cellule après exécution)\n",
        "\n"
      ]
    },
    {
      "cell_type": "code",
      "metadata": {
        "id": "49BULEwsn3G4",
        "colab_type": "code",
        "colab": {
          "base_uri": "https://localhost:8080/",
          "height": 36
        },
        "outputId": "cc4b86eb-c36b-4338-a9f9-25dee6f02788"
      },
      "source": [
        "hello = 'Hello World!'\n",
        "print(hello)"
      ],
      "execution_count": 2,
      "outputs": [
        {
          "output_type": "stream",
          "text": [
            "Hello World!\n"
          ],
          "name": "stdout"
        }
      ]
    },
    {
      "cell_type": "markdown",
      "metadata": {
        "id": "XhZ2PbyJp8sY",
        "colab_type": "text"
      },
      "source": [
        "Pour ajouter une cellule, utiliser les boutons de contrôle du menu principal:\n",
        "\n",
        "![Texte alternatif…](https://raw.githubusercontent.com/titsitits/UNamur_Python_Analytics/master/Images/menu1.jpg) \n",
        "\n",
        "ou le menu apparaissant sous une cellule existante:\n",
        "\n",
        "![Texte alternatif…](https://raw.githubusercontent.com/titsitits/UNamur_Python_Analytics/master/Images/menu2.jpg)"
      ]
    },
    {
      "cell_type": "markdown",
      "metadata": {
        "id": "1FekQsATtiSJ",
        "colab_type": "text"
      },
      "source": [
        "# Bases de Python"
      ]
    },
    {
      "cell_type": "markdown",
      "metadata": {
        "id": "j02sjwqOttpj",
        "colab_type": "text"
      },
      "source": [
        "## Types"
      ]
    },
    {
      "cell_type": "code",
      "metadata": {
        "id": "fQpdYIbDwZ6J",
        "colab_type": "code",
        "colab": {}
      },
      "source": [
        "my_int = 3\n",
        "my_float = 1.23\n",
        "my_bool = True\n",
        "my_string = \"hello world\""
      ],
      "execution_count": 0,
      "outputs": []
    },
    {
      "cell_type": "code",
      "metadata": {
        "id": "MDN_RjvEwnQx",
        "colab_type": "code",
        "colab": {
          "base_uri": "https://localhost:8080/",
          "height": 36
        },
        "outputId": "d7378e97-0490-469d-c998-011568e3f64e"
      },
      "source": [
        "print(my_int, my_float, my_bool, my_string)"
      ],
      "execution_count": 45,
      "outputs": [
        {
          "output_type": "stream",
          "text": [
            "3 1.23 True hello world\n"
          ],
          "name": "stdout"
        }
      ]
    },
    {
      "cell_type": "code",
      "metadata": {
        "id": "8yOIDVQ3wtzx",
        "colab_type": "code",
        "colab": {
          "base_uri": "https://localhost:8080/",
          "height": 36
        },
        "outputId": "3eb14d06-5115-44fc-8dcb-5417574e6dbc"
      },
      "source": [
        "type(my_string)"
      ],
      "execution_count": 46,
      "outputs": [
        {
          "output_type": "execute_result",
          "data": {
            "text/plain": [
              "str"
            ]
          },
          "metadata": {
            "tags": []
          },
          "execution_count": 46
        }
      ]
    },
    {
      "cell_type": "markdown",
      "metadata": {
        "id": "erueK9u6w35g",
        "colab_type": "text"
      },
      "source": [
        "### Operations"
      ]
    },
    {
      "cell_type": "code",
      "metadata": {
        "id": "4VW52peNqBSu",
        "colab_type": "code",
        "colab": {}
      },
      "source": [
        "a = 1\n",
        "b = 2\n",
        "c = '3'\n",
        "d = '4'"
      ],
      "execution_count": 0,
      "outputs": []
    },
    {
      "cell_type": "code",
      "metadata": {
        "id": "91uAuVpbsm8I",
        "colab_type": "code",
        "colab": {
          "base_uri": "https://localhost:8080/",
          "height": 36
        },
        "outputId": "068613f9-8c1e-4c45-bd34-f87ad5bd8bef"
      },
      "source": [
        "a+b"
      ],
      "execution_count": 49,
      "outputs": [
        {
          "output_type": "execute_result",
          "data": {
            "text/plain": [
              "3"
            ]
          },
          "metadata": {
            "tags": []
          },
          "execution_count": 49
        }
      ]
    },
    {
      "cell_type": "code",
      "metadata": {
        "id": "yDeqjnWBs7Sn",
        "colab_type": "code",
        "colab": {
          "base_uri": "https://localhost:8080/",
          "height": 36
        },
        "outputId": "d5e7eb5c-0ea4-4055-ebad-b2c9962c8cc7"
      },
      "source": [
        "c+d"
      ],
      "execution_count": 50,
      "outputs": [
        {
          "output_type": "execute_result",
          "data": {
            "text/plain": [
              "'34'"
            ]
          },
          "metadata": {
            "tags": []
          },
          "execution_count": 50
        }
      ]
    },
    {
      "cell_type": "code",
      "metadata": {
        "id": "mhBeoWyks8In",
        "colab_type": "code",
        "colab": {
          "base_uri": "https://localhost:8080/",
          "height": 174
        },
        "outputId": "6d4740e3-f674-4c1f-ea5b-d54f98840cbe"
      },
      "source": [
        "a+d"
      ],
      "execution_count": 51,
      "outputs": [
        {
          "output_type": "error",
          "ename": "TypeError",
          "evalue": "ignored",
          "traceback": [
            "\u001b[0;31m---------------------------------------------------------------------------\u001b[0m",
            "\u001b[0;31mTypeError\u001b[0m                                 Traceback (most recent call last)",
            "\u001b[0;32m<ipython-input-51-2a1ef2cae9c6>\u001b[0m in \u001b[0;36m<module>\u001b[0;34m()\u001b[0m\n\u001b[0;32m----> 1\u001b[0;31m \u001b[0ma\u001b[0m\u001b[0;34m+\u001b[0m\u001b[0md\u001b[0m\u001b[0;34m\u001b[0m\u001b[0;34m\u001b[0m\u001b[0m\n\u001b[0m",
            "\u001b[0;31mTypeError\u001b[0m: unsupported operand type(s) for +: 'int' and 'str'"
          ]
        }
      ]
    },
    {
      "cell_type": "code",
      "metadata": {
        "id": "PVJKhGVXvLdn",
        "colab_type": "code",
        "colab": {
          "base_uri": "https://localhost:8080/",
          "height": 36
        },
        "outputId": "f3eedcb1-0edf-42e0-ccfa-3722180f2946"
      },
      "source": [
        "my_float + a"
      ],
      "execution_count": 52,
      "outputs": [
        {
          "output_type": "execute_result",
          "data": {
            "text/plain": [
              "2.23"
            ]
          },
          "metadata": {
            "tags": []
          },
          "execution_count": 52
        }
      ]
    },
    {
      "cell_type": "markdown",
      "metadata": {
        "id": "qDeZyjk5uwPZ",
        "colab_type": "text"
      },
      "source": [
        "### Type conversion (casting)"
      ]
    },
    {
      "cell_type": "code",
      "metadata": {
        "id": "mvy5DPPQs-P3",
        "colab_type": "code",
        "colab": {
          "base_uri": "https://localhost:8080/",
          "height": 36
        },
        "outputId": "b6ed922b-d4ad-4f77-c0f5-a3013935c1a0"
      },
      "source": [
        "str(a)+d"
      ],
      "execution_count": 53,
      "outputs": [
        {
          "output_type": "execute_result",
          "data": {
            "text/plain": [
              "'14'"
            ]
          },
          "metadata": {
            "tags": []
          },
          "execution_count": 53
        }
      ]
    },
    {
      "cell_type": "code",
      "metadata": {
        "id": "PGkQdMjktCfm",
        "colab_type": "code",
        "colab": {
          "base_uri": "https://localhost:8080/",
          "height": 36
        },
        "outputId": "db1eb5e7-b1f3-4c94-c6e2-3e374945b109"
      },
      "source": [
        "a+int(d)"
      ],
      "execution_count": 54,
      "outputs": [
        {
          "output_type": "execute_result",
          "data": {
            "text/plain": [
              "5"
            ]
          },
          "metadata": {
            "tags": []
          },
          "execution_count": 54
        }
      ]
    },
    {
      "cell_type": "markdown",
      "metadata": {
        "id": "54zxIZLwvfFw",
        "colab_type": "text"
      },
      "source": [
        "### Astuces"
      ]
    },
    {
      "cell_type": "code",
      "metadata": {
        "id": "d5WbImO-tQPf",
        "colab_type": "code",
        "colab": {
          "base_uri": "https://localhost:8080/",
          "height": 279
        },
        "outputId": "89e27f9b-e035-4981-a827-569deac6a77b"
      },
      "source": [
        "whos"
      ],
      "execution_count": 55,
      "outputs": [
        {
          "output_type": "stream",
          "text": [
            "Variable    Type     Data/Info\n",
            "------------------------------\n",
            "a           int      1\n",
            "b           int      2\n",
            "c           str      3\n",
            "copy        str      f\n",
            "d           str      4\n",
            "hello       str      Hello World!\n",
            "my_bool     bool     True\n",
            "my_float    float    1.23\n",
            "my_int      int      3\n",
            "my_string   str      hello world\n",
            "myfloat     float    1.1\n",
            "mytext      str      \\nCeci est un commentaire\\nde plusieurs lignes\\n\n"
          ],
          "name": "stdout"
        }
      ]
    },
    {
      "cell_type": "code",
      "metadata": {
        "id": "27-lWFCiuC4A",
        "colab_type": "code",
        "colab": {
          "base_uri": "https://localhost:8080/",
          "height": 36
        },
        "outputId": "7f5f73a5-af36-4d35-c578-ea20f626af49"
      },
      "source": [
        "# Ceci est un commentaire\n",
        "\n",
        "'''\n",
        "Ceci est un commentaire\n",
        "de plusieurs lignes\n",
        "'''"
      ],
      "execution_count": 56,
      "outputs": [
        {
          "output_type": "execute_result",
          "data": {
            "text/plain": [
              "'\\nCeci est un commentaire\\nde plusieurs lignes\\n'"
            ]
          },
          "metadata": {
            "tags": []
          },
          "execution_count": 56
        }
      ]
    },
    {
      "cell_type": "code",
      "metadata": {
        "id": "WwQ3I9o_v-v3",
        "colab_type": "code",
        "colab": {}
      },
      "source": [
        ""
      ],
      "execution_count": 0,
      "outputs": []
    }
  ]
}