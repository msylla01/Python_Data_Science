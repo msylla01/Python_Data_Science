{
  "nbformat": 4,
  "nbformat_minor": 0,
  "metadata": {
    "colab": {
      "name": "Convert_Notebooks_To_HTML.ipynb",
      "provenance": [],
      "collapsed_sections": [],
      "include_colab_link": true
    },
    "kernelspec": {
      "name": "python3",
      "display_name": "Python 3"
    }
  },
  "cells": [
    {
      "cell_type": "markdown",
      "metadata": {
        "id": "view-in-github",
        "colab_type": "text"
      },
      "source": [
        "<a href=\"https://colab.research.google.com/github/titsitits/Python_Data_Science/blob/master/utils/Convert_Notebooks_To_HTML.ipynb\" target=\"_parent\"><img src=\"https://colab.research.google.com/assets/colab-badge.svg\" alt=\"Open In Colab\"/></a>"
      ]
    },
    {
      "cell_type": "markdown",
      "metadata": {
        "id": "IFvF4nhLejyJ",
        "colab_type": "text"
      },
      "source": [
        "# Conversion de notebooks en fichiers html\n",
        "Remarque importante: assurez-vous d'avoir exécuté votre notebook avant de le convertir, si vous voulez egalement extraire les résultats des cellules.\n",
        "\n",
        "Pour convertir vos notebooks, lancez la cellule ci-dessous et suivez les instructions. Si demandé, vous devez autoriser le téléchargement de multiples fichiers sur cette page.\n",
        "\n",
        "Remarque: la méthode \"upload\" de Google colab n'est pas toujours très stable. Si la cellule plante, relancez-la simplement.\n",
        "\n",
        "En principe, les fichiers html devraient être téléchargés automatiquement. Si ce n'est pas le cas, ils se trouvent dans le dossier /content/output.\n",
        "\n"
      ]
    },
    {
      "cell_type": "code",
      "metadata": {
        "id": "2kTNTSTtZlFX",
        "colab_type": "code",
        "colab": {}
      },
      "source": [
        "from google.colab import files\n",
        "import os, shutil\n",
        "\n",
        "#mise à jour du module nbconvert\n",
        "#!pip install --upgrade nbconvert\n",
        "\n",
        "\n",
        "\n",
        "#Initialisation du dossier de sortie\n",
        "%cd /content\n",
        "if os.path.exists('./output'):\n",
        "  shutil.rmtree('./output')  \n",
        "os.mkdir('./output')\n",
        "%cd ./output\n",
        "\n",
        "\n",
        "\n",
        "#upload des fichiers ipynb\n",
        "uploaded = files.upload()\n",
        "filenames = list(uploaded.keys())\n",
        "\n",
        "\n",
        "\n",
        "for filename in filenames:\n",
        "  \n",
        "  fname = \"'\" + filename + \"'\"\n",
        "  #Conversion en fichier html\n",
        "  !jupyter nbconvert {fname}\n",
        "  \n",
        "  #non-working options so far: --execute --allow-errors --inplace\n",
        "  \n",
        "  name, ext = os.path.splitext(filename)\n",
        "  htmlname = name + '.html'\n",
        "  #téléchargement du fichier html\n",
        "  files.download(htmlname)\n",
        "\n",
        "  \n",
        "  \n",
        "%cd /content\n",
        "#shutil.rmtree('./output')"
      ],
      "execution_count": 0,
      "outputs": []
    },
    {
      "cell_type": "code",
      "metadata": {
        "id": "QRNiZSGie_PF",
        "colab_type": "code",
        "colab": {}
      },
      "source": [
        ""
      ],
      "execution_count": 0,
      "outputs": []
    }
  ]
}