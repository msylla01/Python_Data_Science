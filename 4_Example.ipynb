{
  "nbformat": 4,
  "nbformat_minor": 0,
  "metadata": {
    "colab": {
      "name": "4_Example.ipynb",
      "version": "0.3.2",
      "provenance": [],
      "collapsed_sections": [],
      "toc_visible": true,
      "include_colab_link": true
    },
    "kernelspec": {
      "name": "python3",
      "display_name": "Python 3"
    }
  },
  "cells": [
    {
      "cell_type": "markdown",
      "metadata": {
        "id": "view-in-github",
        "colab_type": "text"
      },
      "source": [
        "<a href=\"https://colab.research.google.com/github/titsitits/UNamur_Python_Analytics/blob/master/4_Example.ipynb\" target=\"_parent\"><img src=\"https://colab.research.google.com/assets/colab-badge.svg\" alt=\"Open In Colab\"/></a>"
      ]
    },
    {
      "cell_type": "markdown",
      "metadata": {
        "id": "DfQ-d2onvooo",
        "colab_type": "text"
      },
      "source": [
        "Mickaël Tits\n",
        "CETIC\n",
        "mickael.tits@cetic.be"
      ]
    },
    {
      "cell_type": "markdown",
      "metadata": {
        "id": "B3OkhhW2zo-0",
        "colab_type": "text"
      },
      "source": [
        "# Un exemple concret: un peu nutrition et de Natural Language Processing (NLP)\n",
        "Dans cet exemple, nous avons une collection de denrées alimentaires, et quelques informations sur ces aliments. Chaque aliment a le même type de propriété (un nom, un poids, des valeurs énergétiques)."
      ]
    },
    {
      "cell_type": "code",
      "metadata": {
        "id": "HSTP6ffZzrY3",
        "colab_type": "code",
        "outputId": "87745f0a-8c15-4652-e24a-814719dcfb00",
        "colab": {
          "base_uri": "https://localhost:8080/",
          "height": 69
        }
      },
      "source": [
        "\n",
        "\n",
        "\n",
        "#extract singular versions of words in text (defaults plurals and exceptions are used, but you can override default rules)\n",
        "def singulize(string, pluriels = None, exceptions = None):\n",
        "  \n",
        "  \"\"\"\n",
        "  Extract singular versions of words in text (defaults plurals and exceptions are used, but you can override default rules)\n",
        "  Default plurals: {'ois':'ois','s':'','eaux':'eau','aux':'al','x':''}\n",
        "  Default exceptions: {'os':'os','chacals':'chacal','souris':'souris','rabais':'rabais','prix':'prix', 'taux':'taux','rhinoceros':'rhinoceros','jus':'jus','noix':'noix','mais':'mais'}\n",
        "\n",
        "  \"\"\"\n",
        "\n",
        "  #singulize (french ad-hoc method...)\n",
        "  #règles du pluriel\n",
        "  if pluriels is None:\n",
        "      pluriels = {'ois':'ois','s':'','eaux':'eau','aux':'al','x':''}\n",
        "  #exceptions\n",
        "  if exceptions is None:\n",
        "      exceptions = {'os':'os','chacals':'chacal','souris':'souris','rabais':'rabais','prix':'prix', 'taux':'taux','rhinoceros':'rhinoceros','jus':'jus','noix':'noix','mais':'mais', 'chips':'chips'}\n",
        "\n",
        "  #Une fonction dans une fonction! Pourquoi diable ? Elle n'est pas appelée ailleurs que dans la fonction singulize. Par soucis de clarté, on la déclare donc uniquement dans la portée de cette fonction.\n",
        "  def singulize_word(word):\n",
        "\n",
        "      if word in exceptions:\n",
        "\n",
        "          return exceptions[word]\n",
        "\n",
        "      isplural = [word.endswith(k) for k in pluriels]\n",
        "\n",
        "      if any(isplural):\n",
        "\n",
        "          #take first key\n",
        "          keyid = isplural.index(True)\n",
        "          key = list(pluriels)[keyid]\n",
        "\n",
        "          #to replace last occurence, reverse all strings and replace first occurrence\n",
        "          return word[::-1].replace(key[::-1], pluriels[key][::-1], 1)[::-1]\n",
        "\n",
        "      return word\n",
        "\n",
        "  return ' '.join([singulize_word(word) for word in string.split()])\n",
        "\n",
        "\n",
        "\n",
        "#remove stopwords from text (defaults stopwords are used but you can override default rules)\n",
        "def remove_stopwords(string, stopwords = None):\n",
        "      \n",
        "  \"\"\"\n",
        "  Remove stopwords from text (defaults stopwords are used but you can override default rules)\n",
        "  Default stopwords: ['de','du','le','les','aux','la','des', 'a', 'une', 'un', 'au','d','l']\n",
        "  \"\"\"\n",
        "  #remove stopwords\n",
        "  if stopwords is None:\n",
        "      stopwords = ['de','du','le','les','aux','la','des', 'a', 'à', 'une', 'un', 'au','d','l','et']\n",
        "\n",
        "  string = string.replace(\"d'\",\"\")\n",
        "  string = string.replace(\"l'\",\"\")        \n",
        "  return ' '.join([word for word in string.split() if word not in (stopwords)])\n",
        "\n",
        "\n",
        "\n",
        "#Un petit test\n",
        "sentence1 = \"cake à la banane noix de cajou\"\n",
        "sentence2 = \"cakes aux bananes et aux noix de cajou\"\n",
        "\n",
        "s1 = singulize( remove_stopwords(sentence1) )\n",
        "s2 = singulize( remove_stopwords(sentence2) )\n",
        "\n",
        "\n",
        "\n",
        "print(s1)\n",
        "print(s2)\n",
        "\n",
        "if s1 == s2:\n",
        "  print(\"Les phrases sont identiques\")\n",
        "  \n",
        "\n",
        "  \n"
      ],
      "execution_count": 5,
      "outputs": [
        {
          "output_type": "stream",
          "text": [
            "cake banane noix cajou\n",
            "cake banane noix cajou\n",
            "Les phrases sont identiques\n"
          ],
          "name": "stdout"
        }
      ]
    },
    {
      "cell_type": "code",
      "metadata": {
        "id": "UZMWGhdiZcWw",
        "colab_type": "code",
        "colab": {
          "base_uri": "https://localhost:8080/",
          "height": 87
        },
        "outputId": "f9ce3113-cb85-44ae-ff65-f234ec960a99"
      },
      "source": [
        "# Pour éviter de redéfinir à chaque fois toutes les règles de traitement (pluriels, stopwords, exceptions) quand on appelle une fonction, on peut à la place créer une classe et définir les règles comme des attributs de cette classe.\n",
        "\n",
        "\n",
        "class NLP:\n",
        "  \n",
        "  def __init__(self, plurals, stopwords, exceptions):\n",
        "    \n",
        "    self.pluriels = plurals\n",
        "    self.stopwords = stopwords\n",
        "    self.exceptions = exceptions\n",
        "    \n",
        "  def singulize(self, string):\n",
        "    \n",
        "    \"\"\"\n",
        "    Extract singular versions of words in text\n",
        "    \"\"\"    \n",
        "    \n",
        "    #Une fonction dans une fonction! Pourquoi diable ? Elle n'est pas appelée ailleurs que dans la fonction singulize. Par soucis de clarté, on la déclare donc uniquement dans la portée de cette fonction.\n",
        "    def singulize_word(word):\n",
        "\n",
        "        if word in self.exceptions:\n",
        "\n",
        "            return self.exceptions[word]\n",
        "\n",
        "        isplural = [word.endswith(k) for k in self.pluriels]\n",
        "\n",
        "        if any(isplural):\n",
        "\n",
        "            #take first key\n",
        "            keyid = isplural.index(True)\n",
        "            key = list(self.pluriels)[keyid]\n",
        "\n",
        "            #to replace last occurence, reverse all strings and replace first occurrence\n",
        "            return word[::-1].replace(key[::-1], self.pluriels[key][::-1], 1)[::-1]\n",
        "\n",
        "        return word\n",
        "\n",
        "    return ' '.join([singulize_word(word) for word in string.split()])\n",
        "  \n",
        "  def remove_stopwords(self, string):\n",
        "\n",
        "    \"\"\"\n",
        "    Remove stopwords from text\n",
        "    \"\"\"\n",
        "\n",
        "    string = string.replace(\"d'\",\"\")\n",
        "    string = string.replace(\"l'\",\"\")        \n",
        "    return ' '.join([word for word in string.split() if word not in (stopwords)])\n",
        "  \n",
        "  def simplify(self, string):\n",
        "    \n",
        "    string = self.remove_stopwords(string)\n",
        "    return self.singulize(string)\n",
        "\n",
        "\n",
        "#Définition unique des règles  \n",
        "pluriels = {'ois':'ois','s':'','eaux':'eau','aux':'al','x':''}\n",
        "exceptions = {'os':'os','chacals':'chacal','souris':'souris','rabais':'rabais','prix':'prix', 'taux':'taux','rhinoceros':'rhinoceros','jus':'jus','noix':'noix','mais':'mais', 'chips':'chips'}\n",
        "stopwords = ['de','du','le','les','aux','la','des', 'a', 'à', 'une', 'un', 'au','d','l','et']\n",
        "\n",
        "textprocessor = NLP(pluriels, stopwords, exceptions)\n",
        "\n",
        "print(textprocessor.pluriels)\n",
        "\n",
        "\n",
        "#Test (le résultat devrait être le même)\n",
        "s1 = textprocessor.simplify(sentence1)\n",
        "s2 = textprocessor.simplify(sentence2)\n",
        "\n",
        "print(s1)\n",
        "print(s2)\n",
        "\n",
        "if s1 == s2:\n",
        "  print(\"Les phrases sont identiques\")"
      ],
      "execution_count": 4,
      "outputs": [
        {
          "output_type": "stream",
          "text": [
            "{'ois': 'ois', 's': '', 'eaux': 'eau', 'aux': 'al', 'x': ''}\n",
            "cake banane noix cajou\n",
            "cake banane noix cajou\n",
            "Les phrases sont identiques\n"
          ],
          "name": "stdout"
        }
      ]
    },
    {
      "cell_type": "code",
      "metadata": {
        "id": "LC9y2TzqckJ4",
        "colab_type": "code",
        "colab": {}
      },
      "source": [
        "class Food:\n",
        "  \n",
        "  def __init__(self, nom, poids, calories_per_100g):\n",
        "    \n",
        "    self.nom = nom\n",
        "    self.poids = poids\n",
        "    self.cal = calories_per_100g\n",
        "    \n",
        "    self.simplify_name()\n",
        "\n",
        "  def simplify_name(self):\n",
        "    \n",
        "    self.nom = singulize( remove_stopwords(self.nom) )\n",
        "    self.nom = self.nom.capitalize()\n",
        "    \n",
        "  def totcal(self):\n",
        "    \n",
        "    return self.poids*self.cal/100\n",
        "  \n",
        "  def display(self):\n",
        "    \n",
        "    print(\"%s: %d cal/100g, %d g, calories totales: %d\" % (self.nom, self.cal, self.poids, self.totcal()) )"
      ],
      "execution_count": 0,
      "outputs": []
    },
    {
      "cell_type": "code",
      "metadata": {
        "id": "K0g1G58afU3e",
        "colab_type": "code",
        "colab": {}
      },
      "source": [
        "#Un inventaire d'aliments\n",
        "\n",
        "dataset = {\"noms\":[\"des pommes\",\"chips\",sentence1, sentence2, \"pomme\"], \n",
        "           \"poids\": [150, 120, 75, 80, 145], \n",
        "           \"calories_per_100g\":[52, 536, 320, 310, 53]}"
      ],
      "execution_count": 0,
      "outputs": []
    },
    {
      "cell_type": "code",
      "metadata": {
        "id": "IzRWmR8XDHd6",
        "colab_type": "code",
        "outputId": "2a9f4c87-6e68-42a0-936f-7a62453ed1f6",
        "colab": {
          "base_uri": "https://localhost:8080/",
          "height": 104
        }
      },
      "source": [
        "\n",
        "\n",
        "n = len(dataset[\"noms\"])\n",
        "\n",
        "#Je peut utiliser la classe Food pour représenter mes aliments de manière structurée:\n",
        "aliments = [Food(dataset[\"noms\"][i], dataset[\"poids\"][i], dataset[\"calories_per_100g\"][i]) for i in range(0,n)]\n",
        "\n",
        "for item in aliments:\n",
        "  item.display()"
      ],
      "execution_count": 16,
      "outputs": [
        {
          "output_type": "stream",
          "text": [
            "Pomme: 52 cal/100g, 150 g, calories totales: 78\n",
            "Chips: 536 cal/100g, 120 g, calories totales: 643\n",
            "Cake banane noix cajou: 320 cal/100g, 75 g, calories totales: 240\n",
            "Cake banane noix cajou: 310 cal/100g, 80 g, calories totales: 248\n",
            "Pomme: 53 cal/100g, 145 g, calories totales: 76\n"
          ],
          "name": "stdout"
        }
      ]
    },
    {
      "cell_type": "code",
      "metadata": {
        "id": "uhiqwYs9eqCJ",
        "colab_type": "code",
        "colab": {
          "base_uri": "https://localhost:8080/",
          "height": 87
        },
        "outputId": "4b3e281a-de0a-4349-e170-12535fc1ac5e"
      },
      "source": [
        "#Lors de la création d'un aliment, son nom est déjà traité (voir la méthode __init__). La liste contient donc deux aliments qui ont le même nom: \"Pomme\"\n",
        "#retirons les duplicatas\n",
        "#On peut pour cela passer par un dictionnaire: chaque clé doit être unique. On utilise donc le nom de l'aliment comme clé:\n",
        "aliments_dict = {item.nom:item for item in aliments}\n",
        "unique_aliments = list(aliments_dict.values())\n",
        "\n",
        "for item in unique_aliments:\n",
        "  item.display()\n",
        "\n",
        "\n",
        "def find_lightest(foods):\n",
        "  \n",
        "  \"\"\"\n",
        "  Arguments d'entrée:\n",
        "  foods: liste d'aliments (objets de la classe Food)\n",
        "  \n",
        "  Résultats:\n",
        "  un tuple contanent le meilleur aliment, et son indice dans la liste\n",
        "  \"\"\"\n",
        "\n",
        "  allcals = [item.totcal() for item in aliments]\n",
        "  mincals = min(allcals)\n",
        "  best = allcals.index(mincals)\n",
        "  \n",
        "  return (aliments[best], best)\n",
        "\n",
        "meilleur_aliment = find_lightest(aliments)[0]\n",
        "\n",
        "print(\"Aliment le plus léger:\", meilleur_aliment.nom)"
      ],
      "execution_count": 17,
      "outputs": [
        {
          "output_type": "stream",
          "text": [
            "Pomme: 53 cal/100g, 145 g, calories totales: 76\n",
            "Chips: 536 cal/100g, 120 g, calories totales: 643\n",
            "Cake banane noix cajou: 310 cal/100g, 80 g, calories totales: 248\n",
            "Aliment le plus léger: Pomme\n"
          ],
          "name": "stdout"
        }
      ]
    },
    {
      "cell_type": "code",
      "metadata": {
        "id": "VOeH2y85VUrI",
        "colab_type": "code",
        "colab": {}
      },
      "source": [
        "#corbeille...\n",
        "\n",
        "\n",
        "\n",
        "#pomme = Food(\"des pommes\", poids = 150, calories_per_100g = 52)\n",
        "#paquet_chips = Food(\"chips\", poids = 120, calories_per_100g = 536)\n",
        "#cake = Food(sentence1, poids = 75, calories_per_100g = 320)\n",
        "#another_cake = Food(sentence2, poids = 80, calories_per_100g = 310)\n",
        "#pomme_dup = Food(\"pomme\", poids = 145, calories_per_100g = 53)\n",
        "#aliments = [pomme, paquet_chips, cake, another_cake, pomme_dup]"
      ],
      "execution_count": 0,
      "outputs": []
    }
  ]
}