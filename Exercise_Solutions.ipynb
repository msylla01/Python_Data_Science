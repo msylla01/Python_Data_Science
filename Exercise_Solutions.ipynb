{
  "nbformat": 4,
  "nbformat_minor": 0,
  "metadata": {
    "colab": {
      "name": "Exercise_Solutions.ipynb",
      "provenance": [],
      "collapsed_sections": [
        "a01M1eSyS_5n",
        "izdRlCtkTGLc"
      ],
      "include_colab_link": true
    },
    "kernelspec": {
      "name": "python3",
      "display_name": "Python 3"
    }
  },
  "cells": [
    {
      "cell_type": "markdown",
      "metadata": {
        "id": "view-in-github",
        "colab_type": "text"
      },
      "source": [
        "<a href=\"https://colab.research.google.com/github/titsitits/Python_Data_Science/blob/master/Exercise_Solutions.ipynb\" target=\"_parent\"><img src=\"https://colab.research.google.com/assets/colab-badge.svg\" alt=\"Open In Colab\"/></a>"
      ]
    },
    {
      "cell_type": "markdown",
      "metadata": {
        "id": "DfQ-d2onvooo",
        "colab_type": "text"
      },
      "source": [
        "Mickaël Tits\n",
        "CETIC\n",
        "mickael.tits@cetic.be"
      ]
    },
    {
      "cell_type": "markdown",
      "metadata": {
        "id": "Nx49_9RZwiWR",
        "colab_type": "text"
      },
      "source": [
        "# Exercice Chapitre 1"
      ]
    },
    {
      "cell_type": "markdown",
      "metadata": {
        "id": "n_5e4iD2OgAg",
        "colab_type": "text"
      },
      "source": [
        "Corrigez ce code rempli d'erreurs de syntaxes."
      ]
    },
    {
      "cell_type": "code",
      "metadata": {
        "id": "dRswVERVOpqV",
        "colab_type": "code",
        "colab": {}
      },
      "source": [
        "prix = 100000\n",
        "mine = False\n",
        "\n",
        "while True:\n",
        "  \n",
        "prix += 20000\n",
        "print(prix)\n",
        "  \n",
        "  if prix > 150000 and prix < 200000 and mine == False\n",
        "    print(\"j'achète\")\n",
        "  mine = True\n",
        "  \n",
        "  elif prix > 200000 and mine:\n",
        "    print(\"Je \n",
        "          revends\")\n",
        "    mine = False\n",
        "    \n",
        "  break"
      ],
      "execution_count": 0,
      "outputs": []
    },
    {
      "cell_type": "code",
      "metadata": {
        "id": "my2OvxwTwkMW",
        "colab_type": "code",
        "colab": {}
      },
      "source": [
        "prix = 100000\n",
        "mine = False\n",
        "while True:\n",
        "  \n",
        "  prix += 20000\n",
        "  print(prix)\n",
        "  \n",
        "  if prix > 150000 and prix < 200000 and mine == False:\n",
        "    print(\"j'achète\")\n",
        "    mine = True    \n",
        "  \n",
        "  elif prix > 200000 and mine:\n",
        "    print(\"Je revends\")\n",
        "    mine = False\n",
        "    \n",
        "    break\n",
        "  "
      ],
      "execution_count": 0,
      "outputs": []
    },
    {
      "cell_type": "markdown",
      "metadata": {
        "id": "iaqayQP0v8VO",
        "colab_type": "text"
      },
      "source": [
        "# Exercice Chapitre 2"
      ]
    },
    {
      "cell_type": "markdown",
      "metadata": {
        "id": "paz4AzXjOYxx",
        "colab_type": "text"
      },
      "source": [
        "Filtrez la liste de prix ci-dessous, pour ne garder que les prix entre 200000 et 300000."
      ]
    },
    {
      "cell_type": "code",
      "metadata": {
        "id": "N0IsrBxEM9k5",
        "colab_type": "code",
        "colab": {}
      },
      "source": [
        "prices = [50000, 1000, 500000, 200000, 300000, 400000, 260000, 270000]"
      ],
      "execution_count": 0,
      "outputs": []
    },
    {
      "cell_type": "code",
      "metadata": {
        "id": "MgbUBQS9jwme",
        "colab_type": "code",
        "colab": {}
      },
      "source": [
        "\n",
        "#Boucle:\n",
        "filtered = []\n",
        "for p in prices:\n",
        "  if p >= 200000 and p <= 300000:\n",
        "    filtered.append(p)\n",
        "    \n",
        "#List-comprehension:\n",
        "filtered = [p for p in prices if p >= 200000 and p <= 300000 ]\n",
        "\n",
        "print(filtered)\n"
      ],
      "execution_count": 0,
      "outputs": []
    },
    {
      "cell_type": "markdown",
      "metadata": {
        "id": "jsnDb2Go8XdJ",
        "colab_type": "text"
      },
      "source": [
        "# Exercice Chapitre 5"
      ]
    },
    {
      "cell_type": "markdown",
      "metadata": {
        "id": "efxswSMMO284",
        "colab_type": "text"
      },
      "source": [
        "## Les maisons plus grandes sont-elles plus chères ?\n",
        "\n",
        "Divisez les maisons en deux groupes égaux (de part et d'autre de la surface médiane) et utilisez la méthode .describe() pour comparer les prix."
      ]
    },
    {
      "cell_type": "code",
      "metadata": {
        "id": "Zo-bLCZO8Y3i",
        "colab_type": "code",
        "outputId": "6452a177-2df6-4358-8dcc-226d1323da1b",
        "colab": {
          "base_uri": "https://localhost:8080/",
          "height": 140
        }
      },
      "source": [
        "#df[\"large_houses\"] = df.surface > df.surface.median()\n",
        "#df.groupby(\"large_houses\")[\"price\"].describe()\n",
        "\n",
        "#ou: (il n'est pas nécessaire d'ajouter une colonne dans le dataframe, \n",
        "#il suffit de donner comme argument du groupby une series de la même longueur que le dataframe)\n",
        "\n",
        "is_large = df.surface > df.surface.median()\n",
        "df.groupby(is_large)[\"price\"].describe()\n",
        "\n",
        "#ou directement:\n",
        "df.groupby(df.surface > df.surface.median())[\"price\"].describe()"
      ],
      "execution_count": 0,
      "outputs": [
        {
          "output_type": "execute_result",
          "data": {
            "text/html": [
              "<div>\n",
              "<style scoped>\n",
              "    .dataframe tbody tr th:only-of-type {\n",
              "        vertical-align: middle;\n",
              "    }\n",
              "\n",
              "    .dataframe tbody tr th {\n",
              "        vertical-align: top;\n",
              "    }\n",
              "\n",
              "    .dataframe thead th {\n",
              "        text-align: right;\n",
              "    }\n",
              "</style>\n",
              "<table border=\"1\" class=\"dataframe\">\n",
              "  <thead>\n",
              "    <tr style=\"text-align: right;\">\n",
              "      <th></th>\n",
              "      <th>count</th>\n",
              "      <th>mean</th>\n",
              "      <th>std</th>\n",
              "      <th>min</th>\n",
              "      <th>25%</th>\n",
              "      <th>50%</th>\n",
              "      <th>75%</th>\n",
              "      <th>max</th>\n",
              "    </tr>\n",
              "    <tr>\n",
              "      <th>surface</th>\n",
              "      <th></th>\n",
              "      <th></th>\n",
              "      <th></th>\n",
              "      <th></th>\n",
              "      <th></th>\n",
              "      <th></th>\n",
              "      <th></th>\n",
              "      <th></th>\n",
              "    </tr>\n",
              "  </thead>\n",
              "  <tbody>\n",
              "    <tr>\n",
              "      <th>False</th>\n",
              "      <td>7.0</td>\n",
              "      <td>318571.428571</td>\n",
              "      <td>92453.334432</td>\n",
              "      <td>150000.0</td>\n",
              "      <td>280000.0</td>\n",
              "      <td>320000.0</td>\n",
              "      <td>400000.0</td>\n",
              "      <td>400000.0</td>\n",
              "    </tr>\n",
              "    <tr>\n",
              "      <th>True</th>\n",
              "      <td>6.0</td>\n",
              "      <td>406666.666667</td>\n",
              "      <td>164276.190200</td>\n",
              "      <td>230000.0</td>\n",
              "      <td>335000.0</td>\n",
              "      <td>350000.0</td>\n",
              "      <td>447500.0</td>\n",
              "      <td>700000.0</td>\n",
              "    </tr>\n",
              "  </tbody>\n",
              "</table>\n",
              "</div>"
            ],
            "text/plain": [
              "         count           mean            std  ...       50%       75%       max\n",
              "surface                                       ...                              \n",
              "False      7.0  318571.428571   92453.334432  ...  320000.0  400000.0  400000.0\n",
              "True       6.0  406666.666667  164276.190200  ...  350000.0  447500.0  700000.0\n",
              "\n",
              "[2 rows x 8 columns]"
            ]
          },
          "metadata": {
            "tags": []
          },
          "execution_count": 401
        }
      ]
    },
    {
      "cell_type": "code",
      "metadata": {
        "id": "TF1htMvN9mnS",
        "colab_type": "code",
        "outputId": "ec295a27-f31d-4417-8ac8-f7defdbf8e09",
        "colab": {
          "base_uri": "https://localhost:8080/",
          "height": 34
        }
      },
      "source": [
        "#Bonus: Anova\n",
        "\n",
        "#Pour avoir un code générique, ou extrait tous les groupes obtenus sous forme d'une liste\n",
        "groups = df.groupby(is_large)[\"price\"]\n",
        "group_list = [g[1].values for g in groups]\n",
        "\n",
        "#La méthode f_oneway prend autant d'arguments que d'échantillon à comparer. Pour transformer une liste en arguments, on utilise le symbole *\n",
        "stats.f_oneway(*group_list)\n"
      ],
      "execution_count": 0,
      "outputs": [
        {
          "output_type": "execute_result",
          "data": {
            "text/plain": [
              "F_onewayResult(statistic=1.4810829736928035, pvalue=0.24907116578758384)"
            ]
          },
          "metadata": {
            "tags": []
          },
          "execution_count": 400
        }
      ]
    },
    {
      "cell_type": "code",
      "metadata": {
        "id": "mSXHJbmDDy52",
        "colab_type": "code",
        "outputId": "d518db76-0e5a-4e0b-bda4-86fae3101618",
        "colab": {
          "base_uri": "https://localhost:8080/",
          "height": 110
        }
      },
      "source": [
        "#Bonus: corrélation\n",
        "df[[\"price\",\"surface\"]].corr()"
      ],
      "execution_count": 0,
      "outputs": [
        {
          "output_type": "execute_result",
          "data": {
            "text/html": [
              "<div>\n",
              "<style scoped>\n",
              "    .dataframe tbody tr th:only-of-type {\n",
              "        vertical-align: middle;\n",
              "    }\n",
              "\n",
              "    .dataframe tbody tr th {\n",
              "        vertical-align: top;\n",
              "    }\n",
              "\n",
              "    .dataframe thead th {\n",
              "        text-align: right;\n",
              "    }\n",
              "</style>\n",
              "<table border=\"1\" class=\"dataframe\">\n",
              "  <thead>\n",
              "    <tr style=\"text-align: right;\">\n",
              "      <th></th>\n",
              "      <th>price</th>\n",
              "      <th>surface</th>\n",
              "    </tr>\n",
              "  </thead>\n",
              "  <tbody>\n",
              "    <tr>\n",
              "      <th>price</th>\n",
              "      <td>1.000000</td>\n",
              "      <td>0.233623</td>\n",
              "    </tr>\n",
              "    <tr>\n",
              "      <th>surface</th>\n",
              "      <td>0.233623</td>\n",
              "      <td>1.000000</td>\n",
              "    </tr>\n",
              "  </tbody>\n",
              "</table>\n",
              "</div>"
            ],
            "text/plain": [
              "            price   surface\n",
              "price    1.000000  0.233623\n",
              "surface  0.233623  1.000000"
            ]
          },
          "metadata": {
            "tags": []
          },
          "execution_count": 402
        }
      ]
    },
    {
      "cell_type": "code",
      "metadata": {
        "id": "sqvqd_OCD42o",
        "colab_type": "code",
        "outputId": "c1f59eca-8577-4950-bc51-ad721593e9ad",
        "colab": {
          "base_uri": "https://localhost:8080/",
          "height": 300
        }
      },
      "source": [
        "#Bonus: scatter plot (plus de détails au chapitre suivant)\n",
        "df.plot.scatter(\"surface\",\"price\")"
      ],
      "execution_count": 0,
      "outputs": [
        {
          "output_type": "execute_result",
          "data": {
            "text/plain": [
              "<matplotlib.axes._subplots.AxesSubplot at 0x7ff1fe2c4400>"
            ]
          },
          "metadata": {
            "tags": []
          },
          "execution_count": 403
        },
        {
          "output_type": "display_data",
          "data": {
            "image/png": "[encoded data removed]",
            "text/plain": [
              "<Figure size 432x288 with 1 Axes>"
            ]
          },
          "metadata": {
            "tags": []
          }
        }
      ]
    },
    {
      "cell_type": "markdown",
      "metadata": {
        "id": "JmLLbgt2Hg9W",
        "colab_type": "text"
      },
      "source": [
        "# Exercices Chapitre 6\n",
        "\n",
        "## 1. Recherchez les maisons ayant un prix anormal\n",
        "\n",
        "Cherchez les maisons ayant un prix s'écartant fortement du IQR (inter-quantile range).\n",
        "\n",
        "Solution: vous devriez trouver une maison à 700000€.\n",
        "\n"
      ]
    },
    {
      "cell_type": "markdown",
      "metadata": {
        "id": "8fFsG7TYJHoF",
        "colab_type": "text"
      },
      "source": [
        "### Solution Exercice 1"
      ]
    },
    {
      "cell_type": "code",
      "metadata": {
        "colab_type": "code",
        "id": "rWG8K6M8fG9U",
        "colab": {}
      },
      "source": [
        "#Inter-quantile range\n",
        "Q1 = df.price.quantile(0.25)\n",
        "Q3 = df.price.quantile(0.75)\n",
        "IQR = Q3 - Q1\n",
        "h = 2\n",
        "print(\"limits:\", (Q1 - h * IQR), \"to\", (Q3 + h * IQR))\n",
        "\n",
        "#Les données s'écartant fortement des quantiles sont potentiellement des anomalies (outlier en anglais)\n",
        "is_outlier = (df.price < (Q1 - h * IQR)) | (df.price > (Q3 + h * IQR))\n",
        "df.loc[is_outlier]\n"
      ],
      "execution_count": 0,
      "outputs": []
    },
    {
      "cell_type": "markdown",
      "metadata": {
        "id": "VHnDqnnzJr_7",
        "colab_type": "text"
      },
      "source": [
        "On retrouve la maison de la Rue de la Loi 50 à Bruxelles qui est effectivement beaucoup plus chère que toutes les autres."
      ]
    },
    {
      "cell_type": "markdown",
      "metadata": {
        "id": "_-ROwVwUlJfl",
        "colab_type": "text"
      },
      "source": [
        "## 2. Définissez une fonction générique permettant de détecter les anomalies sur n'importe quelle colonne numérique\n",
        "\n",
        "Modularisez le code écrit à l'exercice précédent pour le rendre générique.\n",
        "\n"
      ]
    },
    {
      "cell_type": "markdown",
      "metadata": {
        "id": "hc0lIIs9ZU29",
        "colab_type": "text"
      },
      "source": [
        "### Solution Exercice 2"
      ]
    },
    {
      "cell_type": "code",
      "metadata": {
        "id": "7x79_EkqZY2z",
        "colab_type": "code",
        "colab": {}
      },
      "source": [
        "def detect_outliers(df, column, h = 2, left = 0.25, right = 0.75):\n",
        "    \n",
        "  Q1 = df[column].quantile(left)\n",
        "  Q3 = df[column].quantile(right)\n",
        "  IQR = Q3 - Q1\n",
        "  #print(\"limits:\", (Q1 - h * IQR), \"to\", (Q3 + h * IQR))\n",
        "\n",
        "  #Les données s'écartant fortement des quantiles sont potentiellement des anomalies (outlier en anglais)\n",
        "  is_outlier = (df[column] < (Q1 - h * IQR)) | (df[column] > (Q3 + h * IQR))\n",
        "  outliers = df.loc[is_outlier]\n",
        "  \n",
        "  if len(outliers) > 0:    \n",
        "    print(\"Anomalies en terme de\", column, \":\")\n",
        "    display(outliers)\n",
        "  \n",
        "  return outliers\n",
        "\n",
        "out = detect_outliers(df, 'price')\n",
        "out = detect_outliers(df, 'surface')"
      ],
      "execution_count": 0,
      "outputs": []
    },
    {
      "cell_type": "markdown",
      "metadata": {
        "id": "WfUCoCq1XxTI",
        "colab_type": "text"
      },
      "source": [
        "#### Solution plus robuste: assertion du type"
      ]
    },
    {
      "cell_type": "code",
      "metadata": {
        "id": "lDuOK5v7X2gd",
        "colab_type": "code",
        "colab": {}
      },
      "source": [
        "def detect_outliers(df, column, h = 2, left = 0.25, right = 0.75):\n",
        "  \n",
        "  \"\"\"\n",
        "  df: un DataFrame pandas\n",
        "  col: nom de la colonne du dataframe à analyser (string)\n",
        "  \"\"\"\n",
        "  \n",
        "  #On peut éventuellement vérifier les types des arguments  \n",
        "  if type(column) != str:\n",
        "    raise Exception(\"L'argument 'col' doit être un string\")\n",
        "  \n",
        "  #l'instruction \"assert\" permet de directement générer une exception si une condition n'est pas respectée:\n",
        "  #assert <condition>, <exception message if condition not respected>\n",
        "  assert type(column) == str, \"L'argument 'col' doit être un string\"\n",
        "  assert type(df) == pd.DataFrame, \"L'argument 'df' doit être un DataFrame pandas\"\n",
        "    \n",
        "  Q1 = df[column].quantile(left)\n",
        "  Q3 = df[column].quantile(right)\n",
        "  IQR = Q3 - Q1\n",
        "  #print(\"limits:\", (Q1 - h * IQR), \"to\", (Q3 + h * IQR))\n",
        "\n",
        "  #Les données s'écartant fortement des quantiles sont potentiellement des anomalies (outlier en anglais)\n",
        "  is_outlier = (df[column] < (Q1 - h * IQR)) | (df[column] > (Q3 + h * IQR))\n",
        "  outliers = df.loc[is_outlier]\n",
        "  \n",
        "  if len(outliers) > 0:    \n",
        "    print(\"Anomalies en terme de\", column, \":\")\n",
        "    display(outliers)\n",
        "  \n",
        "  return outliers\n",
        "\n",
        "out = detect_outliers(df, 'price')\n",
        "out = detect_outliers(df, 'surface')\n",
        "\n",
        "#Erreur d'assertion\n",
        "try:\n",
        "  out = detect_outliers(42, 'surface')\n",
        "except Exception as e:\n",
        "  print(e)"
      ],
      "execution_count": 0,
      "outputs": []
    },
    {
      "cell_type": "markdown",
      "metadata": {
        "id": "exGQnJJclNHE",
        "colab_type": "text"
      },
      "source": [
        "## 3. Définissez une fonction générique permettant de détecter les anomalies sur une colonne catégorielle\n",
        "\n",
        "Pour les variables catégorielles, vous pouvez simplement détecter une catégorie particulièrement rare (nombre d'occurrences plus petit qu'un seuil nmin). \n"
      ]
    },
    {
      "cell_type": "markdown",
      "metadata": {
        "id": "1qSBlQToZez0",
        "colab_type": "text"
      },
      "source": [
        "### Solution Exercice 3"
      ]
    },
    {
      "cell_type": "code",
      "metadata": {
        "id": "w02bi1caZoQW",
        "colab_type": "code",
        "colab": {}
      },
      "source": [
        "#variables catégorielles (le nombre de chambres peut être considéré comme variable catégorielle aussi)\n",
        "def detect_rare_cat(df, column, nmin = 2):\n",
        "  \n",
        "  \"\"\"\n",
        "  Cette fonction permet de détecter des outliers dans des variables catégorielles\n",
        "  \"\"\"\n",
        "  \n",
        "  counts = df.groupby(column)['price'].count()\n",
        "  rare_cats = counts[counts < nmin]\n",
        "  outliers = df[df[column].isin(rare_cats.index)]\n",
        "  \n",
        "  if len(outliers) > 0:    \n",
        "    print(\"Anomalies en terme de\", column, \":\")\n",
        "    display(outliers)\n",
        "  \n",
        "  return outliers\n",
        "\n",
        "out = detect_rare_cat(df, 'city')"
      ],
      "execution_count": 0,
      "outputs": []
    },
    {
      "cell_type": "markdown",
      "metadata": {
        "id": "bgxvdXf9lPzM",
        "colab_type": "text"
      },
      "source": [
        "## 4. Détectez automatiquement le type d'une variable\n",
        "\n",
        "Indice: vous pouvez aussi définir une variable comme catégorielle si elle compte un nombre limité de valeurs uniques. (Utilisez la méthode pd.Series.unique())\n",
        "Attention: le nombre de chambres 'rooms' peut à la fois être considéré comme catégoriel et numérique. Utilisez la méthode pd.DataFrame. \n",
        "Indice: pour vérifier si une colonne est numérique, vous pouvez essayer de la convertir en float: series.astype(float) et rediriger l'erreur.\n"
      ]
    },
    {
      "cell_type": "markdown",
      "metadata": {
        "id": "F2pWFHgUd55O",
        "colab_type": "text"
      },
      "source": [
        "### Solution Exercice 4"
      ]
    },
    {
      "cell_type": "code",
      "metadata": {
        "id": "smlFBP5Nd8mE",
        "colab_type": "code",
        "colab": {}
      },
      "source": [
        "def is_cat(series, relative_threshold = 0.5, absolute_threshold = 20):\n",
        "  \n",
        "  nvalues = len(series)  \n",
        "  ncats = len(series.unique())\n",
        "  \n",
        "  #On considère la variable comme catégorielle si le nombre de valeurs uniques et plus petit qu'un seuil relatif ou absolu\n",
        "  return (ncats/nvalues <= relative_threshold) and (ncats <= absolute_threshold)\n",
        "\n",
        "def is_num(series):\n",
        "  try:\n",
        "    series.astype(float)\n",
        "    return True\n",
        "  except:\n",
        "    return False\n",
        "\n",
        "is_categorical = df.apply(is_cat)\n",
        "is_numeric = df.apply(is_num)\n",
        "is_numeric\n"
      ],
      "execution_count": 0,
      "outputs": []
    },
    {
      "cell_type": "markdown",
      "metadata": {
        "id": "Q0TeASzvlSOt",
        "colab_type": "text"
      },
      "source": [
        "## 5. Recherchez les anomalies de manière systématique"
      ]
    },
    {
      "cell_type": "markdown",
      "metadata": {
        "id": "UZitkG9-Jay6",
        "colab_type": "text"
      },
      "source": [
        "### Solution Exercice 5"
      ]
    },
    {
      "cell_type": "markdown",
      "metadata": {
        "id": "a01M1eSyS_5n",
        "colab_type": "text"
      },
      "source": [
        "#### Solution simple\n",
        "Pour chaque colonne (boucle for), on vérifie le type de la variable (catégorielle et/ou numérique), et on détecte les outliers selon le type."
      ]
    },
    {
      "cell_type": "code",
      "metadata": {
        "id": "fkgbNaOVTCiQ",
        "colab_type": "code",
        "colab": {}
      },
      "source": [
        "cols = df.columns\n",
        "\n",
        "for col in cols:\n",
        "  \n",
        "  #Détection d'outliers pour les variables catégorielles\n",
        "  if is_cat(df[col]):\n",
        "    outliers = detect_rare_cat(df, col)\n",
        "    \n",
        "    if len(outliers) == 0:\n",
        "      print(\"No categorical outlier detecter for columns\", col)\n",
        "  \n",
        "  #Détection d'outliers pour les variables numériques\n",
        "  if is_num(df[col]):\n",
        "    outliers = detect_outliers(df, col)\n",
        "    \n",
        "    if len(outliers) == 0:\n",
        "      print(\"No numeric outlier detecter for columns\", col)"
      ],
      "execution_count": 0,
      "outputs": []
    },
    {
      "cell_type": "markdown",
      "metadata": {
        "id": "izdRlCtkTGLc",
        "colab_type": "text"
      },
      "source": [
        "#### Solution plus complète\n",
        "On ressemble tous outliers (et leurs ids), en omettant les doublons. On peut ensuite les supprimer du dataframe.\n"
      ]
    },
    {
      "cell_type": "code",
      "metadata": {
        "id": "T17xMWjTJ2w7",
        "colab_type": "code",
        "colab": {}
      },
      "source": [
        "cat_cols = is_categorical[is_categorical == True].index\n",
        "num_cols = is_numeric[is_numeric == True].index\n",
        "\n",
        "\n",
        "#Pour chaque colonne catégorielle, on extrait lest outliers\n",
        "cat_outliers = [detect_rare_cat(df, cat) for cat in cat_cols]\n",
        "#rassemblons les outliers dans un seul dataframe (nous pouvons retirer les doublons)\n",
        "cat_outliers = pd.concat(cat_outliers).drop_duplicates()\n",
        "\n",
        "#Pour chaque colonne numérique, on extrait les outliers\n",
        "num_outliers = [detect_outliers(df, c) for c in num_cols]\n",
        "#Rassemblons les outliers trouvés dans un seul dataframe \n",
        "num_outliers = pd.concat(num_outliers).drop_duplicates()\n",
        "\n",
        "\n",
        "#Rassemblons tous les outliers\n",
        "outliers = pd.concat([num_outliers, cat_outliers]).drop_duplicates()\n",
        "print(\"Tous les outliers:\")\n",
        "display(outliers)\n",
        "\n",
        "#On supprime les outliers (à partir de leur index)\n",
        "df_filtered = df.drop(outliers.index)\n",
        "\n",
        "print(\"Dataframe filtré:\")\n",
        "display(df_filtered)"
      ],
      "execution_count": 0,
      "outputs": []
    },
    {
      "cell_type": "markdown",
      "metadata": {
        "id": "hBkKlSPzpoJm",
        "colab_type": "text"
      },
      "source": [
        "#### Solution alternative\n",
        "On peut définir des fonctions s'appliquant directement sur une Series, et renvoyant un Series de booléens pour chaque item. On peut alors utiliser la méthode \"apply\" pour extraire toutes les détections d'anomalies d'un coup. De plus, on peut ainsi vérifier le nombre de fois qu'une observation (une maison) a été reconnue comme anormale, et en extraire un indice plus global d'anormalité."
      ]
    },
    {
      "cell_type": "code",
      "metadata": {
        "id": "mA4tjMBqppy2",
        "colab_type": "code",
        "colab": {}
      },
      "source": [
        "#Définissons des fonctions de détection d'outliers sur des Series, pour pouvoir utiliser la méthode \"apply\" dessus:\n",
        "\n",
        "def is_cat(series, relative_threshold = 0.5, absolute_threshold = 20):\n",
        "  \n",
        "  nvalues = len(series)  \n",
        "  ncats = len(series.unique())\n",
        "  \n",
        "  #On considère la variable comme catégorielle si le nombre de valeurs uniques et plus petit qu'un seuil relatif ou absolu\n",
        "  return (ncats/nvalues <= relative_threshold) and (ncats <= absolute_threshold)\n",
        "\n",
        "def is_num(series):\n",
        "  try:\n",
        "    series.astype(float)\n",
        "    return True\n",
        "  except:\n",
        "    return False\n",
        "\n",
        "#Détection d'outliers numériques\n",
        "def detect_numeric_outliers_series(series, h = 2, left = 0.25, right = 0.75):\n",
        "\n",
        "  \n",
        "  Q1 = series.quantile(left)\n",
        "  Q3 = series.quantile(right)\n",
        "  IQR = Q3 - Q1\n",
        "  \n",
        "  #Les données s'écartant fortement des quantiles sont potentiellement des anomalies (outlier en anglais)\n",
        "  is_outlier = (series < (Q1 - h * IQR)) | (series > (Q3 + h * IQR))\n",
        "  if is_outlier.sum() > 0:\n",
        "    print(is_outlier.sum(), \"outliers numériques trouvés pour\", series.name)\n",
        "  return is_outlier\n",
        "\n",
        "#Détection d'outliers catégoriels: on identifie une catégorie rare si elle représente moins de 1% (seuil relatif) des données\n",
        "def detect_rare_cat_series(series, relative_threshold = 0.01, nmin = 2):\n",
        "  counts = series.value_counts()\n",
        "  \n",
        "  #on garde la contrainte la plus souple (< rel_th% des données, ou < nmin)\n",
        "  relative_nmin = relative_threshold*len(series)\n",
        "  tot_nmin = max(nmin, relative_nmin)\n",
        "  \n",
        "  \n",
        "  is_rare = (counts <  tot_nmin)\n",
        "  rare_cats = counts[is_rare]\n",
        "  is_outlier = series.isin(rare_cats.index)\n",
        "  if is_outlier.sum() > 0:\n",
        "    print(is_outlier.sum(), \"outliers catégoriels trouvés pour\", series.name)\n",
        "  return is_outlier\n",
        "\n",
        "\n",
        "#Détection générique des outliers dans une Series\n",
        "def detect_outlier_series(series):\n",
        "  \n",
        "  \"\"\"\n",
        "  Il vaut mieux privilégier la représentation catégorielle plutôt que numérique.\n",
        "  En effet, il existe peu de valeurs différentes, la détection numérique peut ne pas être efficace:\n",
        "  E.G.: pour une variable binaire dont 20% des données sont 0, on détectera 20% d'outliers (IQR = 0)\n",
        "  \"\"\"\n",
        "  if is_cat(series):\n",
        "    return detect_rare_cat_series(series)  \n",
        "  elif is_num(series):\n",
        "    return detect_numeric_outliers_series(series)\n",
        "\n",
        "  else:\n",
        "    #return a Series containing only False\n",
        "    return pd.Series(False, series.index)\n",
        "\n",
        "\n",
        "  \n",
        "outliers = df.apply(detect_outlier_series)\n",
        "\n"
      ],
      "execution_count": 0,
      "outputs": []
    },
    {
      "cell_type": "code",
      "metadata": {
        "id": "yYR6yxgnNL1q",
        "colab_type": "code",
        "colab": {}
      },
      "source": [
        "#De cette manière, on peut observer le nombre de fois qu'une maison est considérée comme anormale\n",
        "outlier_sum = outliers.sum(axis = 1) \n",
        "outlier_sum.plot.bar()\n",
        "plt.xticks(range(len(df.address)), labels = df.address, rotation = \"vertical\")\n",
        "\n",
        "#On peut vérifier pour quelles variables chaque maison est considérée comme anormale\n",
        "display(outliers)\n",
        "\n",
        "#Outliers\n",
        "display(df[outlier_sum > 0])"
      ],
      "execution_count": 0,
      "outputs": []
    },
    {
      "cell_type": "markdown",
      "metadata": {
        "id": "Sqza1iffq4Li",
        "colab_type": "text"
      },
      "source": [
        "On remarque que la maison de la Rue de la Loi 50, Bruxelles, et celle de charleroi sont considérées deux fois comme des outliers."
      ]
    }
  ]
}