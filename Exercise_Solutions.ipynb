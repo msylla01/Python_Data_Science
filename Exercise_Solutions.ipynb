{
  "nbformat": 4,
  "nbformat_minor": 0,
  "metadata": {
    "colab": {
      "name": "Exercise_Solutions.ipynb",
      "provenance": [],
      "collapsed_sections": [
        "UZitkG9-Jay6",
        "a01M1eSyS_5n",
        "izdRlCtkTGLc",
        "hBkKlSPzpoJm"
      ],
      "toc_visible": true,
      "include_colab_link": true
    },
    "kernelspec": {
      "name": "python3",
      "display_name": "Python 3"
    }
  },
  "cells": [
    {
      "cell_type": "markdown",
      "metadata": {
        "id": "view-in-github",
        "colab_type": "text"
      },
      "source": [
        "<a href=\"https://colab.research.google.com/github/titsitits/Python_Data_Science/blob/master/Exercise_Solutions.ipynb\" target=\"_parent\"><img src=\"https://colab.research.google.com/assets/colab-badge.svg\" alt=\"Open In Colab\"/></a>"
      ]
    },
    {
      "cell_type": "markdown",
      "metadata": {
        "id": "DfQ-d2onvooo",
        "colab_type": "text"
      },
      "source": [
        "Mickaël Tits\n",
        "CETIC\n",
        "mickael.tits@cetic.be"
      ]
    },
    {
      "cell_type": "markdown",
      "metadata": {
        "id": "JmLLbgt2Hg9W",
        "colab_type": "text"
      },
      "source": [
        "# Exercices Chapitre 6\n",
        "\n",
        "## 1. Recherchez les maisons ayant un prix anormal\n",
        "\n",
        "Cherchez les maisons ayant un prix s'écartant fortement du IQR (inter-quantile range).\n",
        "\n",
        "Solution: vous devriez trouver une maison à 700000€.\n",
        "\n"
      ]
    },
    {
      "cell_type": "markdown",
      "metadata": {
        "id": "8fFsG7TYJHoF",
        "colab_type": "text"
      },
      "source": [
        "### Solution Exercice 1"
      ]
    },
    {
      "cell_type": "code",
      "metadata": {
        "id": "k08jXFtqJJhD",
        "colab_type": "code",
        "colab": {}
      },
      "source": [
        "#Inter-quantile range\n",
        "Q1 = df.price.quantile(0.25)\n",
        "Q3 = df.price.quantile(0.75)\n",
        "IQR = Q3 - Q1\n",
        "h = 2\n",
        "print(\"limits:\", (Q1 - h * IQR), \"to\", (Q3 + h * IQR))\n",
        "\n",
        "#Les données s'écartant fortement des quantiles sont potentiellement des anomalies (outlier en anglais)\n",
        "is_outlier = (df.price < (Q1 - h * IQR)) | (df.price > (Q3 + h * IQR))\n",
        "df.loc[is_outlier]\n"
      ],
      "execution_count": 0,
      "outputs": []
    },
    {
      "cell_type": "markdown",
      "metadata": {
        "id": "VHnDqnnzJr_7",
        "colab_type": "text"
      },
      "source": [
        "On retrouve la maison de la Rue de la Loi 50 à Bruxelles qui est effectivement beaucoup plus chère que toutes les autres."
      ]
    },
    {
      "cell_type": "markdown",
      "metadata": {
        "id": "_-ROwVwUlJfl",
        "colab_type": "text"
      },
      "source": [
        "## 2. Définissez une fonction générique permettant de détecter les anomalies sur n'importe quelle colonne numérique\n",
        "\n",
        "Modularisez le code écrit à l'exercice précédent pour le rendre générique.\n",
        "\n"
      ]
    },
    {
      "cell_type": "markdown",
      "metadata": {
        "id": "hc0lIIs9ZU29",
        "colab_type": "text"
      },
      "source": [
        "### Solution Exercice 2"
      ]
    },
    {
      "cell_type": "code",
      "metadata": {
        "id": "7x79_EkqZY2z",
        "colab_type": "code",
        "colab": {}
      },
      "source": [
        "def detect_outliers(df, column, h = 2, left = 0.25, right = 0.75):\n",
        "    \n",
        "  Q1 = df[column].quantile(left)\n",
        "  Q3 = df[column].quantile(right)\n",
        "  IQR = Q3 - Q1\n",
        "  #print(\"limits:\", (Q1 - h * IQR), \"to\", (Q3 + h * IQR))\n",
        "\n",
        "  #Les données s'écartant fortement des quantiles sont potentiellement des anomalies (outlier en anglais)\n",
        "  is_outlier = (df[column] < (Q1 - h * IQR)) | (df[column] > (Q3 + h * IQR))\n",
        "  outliers = df.loc[is_outlier]\n",
        "  \n",
        "  if len(outliers) > 0:    \n",
        "    print(\"Anomalies en terme de\", column, \":\")\n",
        "    display(outliers)\n",
        "  \n",
        "  return outliers\n",
        "\n",
        "out = detect_outliers(df, 'price')\n",
        "out = detect_outliers(df, 'surface')"
      ],
      "execution_count": 0,
      "outputs": []
    },
    {
      "cell_type": "markdown",
      "metadata": {
        "id": "WfUCoCq1XxTI",
        "colab_type": "text"
      },
      "source": [
        "#### Solution plus robuste: assertion du type"
      ]
    },
    {
      "cell_type": "code",
      "metadata": {
        "id": "lDuOK5v7X2gd",
        "colab_type": "code",
        "colab": {}
      },
      "source": [
        "def detect_outliers(df, column, h = 2, left = 0.25, right = 0.75):\n",
        "  \n",
        "  \"\"\"\n",
        "  df: un DataFrame pandas\n",
        "  col: nom de la colonne du dataframe à analyser (string)\n",
        "  \"\"\"\n",
        "  \n",
        "  #On peut éventuellement vérifier les types des arguments  \n",
        "  if type(column) != str:\n",
        "    raise Exception(\"L'argument 'col' doit être un string\")\n",
        "  \n",
        "  #l'instruction \"assert\" permet de directement générer une exception si une condition n'est pas respectée:\n",
        "  #assert <condition>, <exception message if condition not respected>\n",
        "  assert type(column) == str, \"L'argument 'col' doit être un string\"\n",
        "  assert type(df) == pd.DataFrame, \"L'argument 'df' doit être un DataFrame pandas\"\n",
        "    \n",
        "  Q1 = df[column].quantile(left)\n",
        "  Q3 = df[column].quantile(right)\n",
        "  IQR = Q3 - Q1\n",
        "  #print(\"limits:\", (Q1 - h * IQR), \"to\", (Q3 + h * IQR))\n",
        "\n",
        "  #Les données s'écartant fortement des quantiles sont potentiellement des anomalies (outlier en anglais)\n",
        "  is_outlier = (df[column] < (Q1 - h * IQR)) | (df[column] > (Q3 + h * IQR))\n",
        "  outliers = df.loc[is_outlier]\n",
        "  \n",
        "  if len(outliers) > 0:    \n",
        "    print(\"Anomalies en terme de\", column, \":\")\n",
        "    display(outliers)\n",
        "  \n",
        "  return outliers\n",
        "\n",
        "out = detect_outliers(df, 'price')\n",
        "out = detect_outliers(df, 'surface')\n",
        "\n",
        "#Erreur d'assertion\n",
        "try:\n",
        "  out = detect_outliers(42, 'surface')\n",
        "except Exception as e:\n",
        "  print(e)"
      ],
      "execution_count": 0,
      "outputs": []
    },
    {
      "cell_type": "markdown",
      "metadata": {
        "id": "exGQnJJclNHE",
        "colab_type": "text"
      },
      "source": [
        "## 3. Définissez une fonction générique permettant de détecter les anomalies sur une colonne catégorielle\n",
        "\n",
        "Pour les variables catégorielles, vous pouvez simplement détecter une catégorie particulièrement rare (nombre d'occurrences plus petit qu'un seuil nmin). \n"
      ]
    },
    {
      "cell_type": "markdown",
      "metadata": {
        "id": "1qSBlQToZez0",
        "colab_type": "text"
      },
      "source": [
        "### Solution Exercice 3"
      ]
    },
    {
      "cell_type": "code",
      "metadata": {
        "id": "w02bi1caZoQW",
        "colab_type": "code",
        "colab": {}
      },
      "source": [
        "#variables catégorielles (le nombre de chambres peut être considéré comme variable catégorielle aussi)\n",
        "def detect_rare_cat(df, column, nmin = 2):\n",
        "  \n",
        "  \"\"\"\n",
        "  Cette fonction permet de détecter des outliers dans des variables catégorielles\n",
        "  \"\"\"\n",
        "  \n",
        "  counts = df.groupby(column)['price'].count()\n",
        "  rare_cats = counts[counts < nmin]\n",
        "  outliers = df[df[column].isin(rare_cats.index)]\n",
        "  \n",
        "  if len(outliers) > 0:    \n",
        "    print(\"Anomalies en terme de\", column, \":\")\n",
        "    display(outliers)\n",
        "  \n",
        "  return outliers\n",
        "\n",
        "out = detect_rare_cat(df, 'city')"
      ],
      "execution_count": 0,
      "outputs": []
    },
    {
      "cell_type": "markdown",
      "metadata": {
        "id": "bgxvdXf9lPzM",
        "colab_type": "text"
      },
      "source": [
        "## 4. Détectez automatiquement le type d'une variable\n",
        "\n",
        "Indice: vous pouvez aussi définir une variable comme catégorielle si elle compte un nombre limité de valeurs uniques. (Utilisez la méthode pd.Series.unique())\n",
        "Attention: le nombre de chambres 'rooms' peut à la fois être considéré comme catégoriel et numérique. Utilisez la méthode pd.DataFrame. \n",
        "Indice: pour vérifier si une colonne est numérique, vous pouvez essayer de la convertir en float: series.astype(float) et rediriger l'erreur.\n"
      ]
    },
    {
      "cell_type": "markdown",
      "metadata": {
        "id": "F2pWFHgUd55O",
        "colab_type": "text"
      },
      "source": [
        "### Solution Exercice 4"
      ]
    },
    {
      "cell_type": "code",
      "metadata": {
        "id": "smlFBP5Nd8mE",
        "colab_type": "code",
        "colab": {}
      },
      "source": [
        "def is_cat(series, relative_threshold = 0.5, absolute_threshold = 20):\n",
        "  \n",
        "  nvalues = len(series)  \n",
        "  ncats = len(series.unique())\n",
        "  \n",
        "  #On considère la variable comme catégorielle si le nombre de valeurs uniques et plus petit qu'un seuil relatif ou absolu\n",
        "  return (ncats/nvalues <= relative_threshold) and (ncats <= absolute_threshold)\n",
        "\n",
        "def is_num(series):\n",
        "  try:\n",
        "    series.astype(float)\n",
        "    return True\n",
        "  except:\n",
        "    return False\n",
        "\n",
        "is_categorical = df.apply(is_cat)\n",
        "is_numeric = df.apply(is_num)\n",
        "is_numeric\n"
      ],
      "execution_count": 0,
      "outputs": []
    },
    {
      "cell_type": "markdown",
      "metadata": {
        "id": "Q0TeASzvlSOt",
        "colab_type": "text"
      },
      "source": [
        "## 5. Recherchez les anomalies de manière systématique"
      ]
    },
    {
      "cell_type": "markdown",
      "metadata": {
        "id": "UZitkG9-Jay6",
        "colab_type": "text"
      },
      "source": [
        "### Solution Exercice 5"
      ]
    },
    {
      "cell_type": "markdown",
      "metadata": {
        "id": "a01M1eSyS_5n",
        "colab_type": "text"
      },
      "source": [
        "#### Solution simple\n",
        "Pour chaque colonne (boucle for), on vérifie le type de la variable (catégorielle et/ou numérique), et on détecte les outliers selon le type."
      ]
    },
    {
      "cell_type": "code",
      "metadata": {
        "id": "fkgbNaOVTCiQ",
        "colab_type": "code",
        "colab": {}
      },
      "source": [
        "cols = df.columns\n",
        "\n",
        "for col in cols:\n",
        "  \n",
        "  #Détection d'outliers pour les variables catégorielles\n",
        "  if is_cat(df[col]):\n",
        "    outliers = detect_rare_cat(df, col)\n",
        "    \n",
        "    if len(outliers) == 0:\n",
        "      print(\"No categorical outlier detecter for columns\", col)\n",
        "  \n",
        "  #Détection d'outliers pour les variables numériques\n",
        "  if is_num(df[col]):\n",
        "    outliers = detect_outliers(df, col)\n",
        "    \n",
        "    if len(outliers) == 0:\n",
        "      print(\"No numeric outlier detecter for columns\", col)"
      ],
      "execution_count": 0,
      "outputs": []
    },
    {
      "cell_type": "markdown",
      "metadata": {
        "id": "izdRlCtkTGLc",
        "colab_type": "text"
      },
      "source": [
        "#### Solution plus complète\n",
        "On ressemble tous outliers (et leurs ids), en omettant les doublons. On peut ensuite les supprimer du dataframe.\n"
      ]
    },
    {
      "cell_type": "code",
      "metadata": {
        "id": "T17xMWjTJ2w7",
        "colab_type": "code",
        "colab": {}
      },
      "source": [
        "cat_cols = is_categorical[is_categorical == True].index\n",
        "num_cols = is_numeric[is_numeric == True].index\n",
        "\n",
        "\n",
        "#Pour chaque colonne catégorielle, on extrait lest outliers\n",
        "cat_outliers = [detect_rare_cat(df, cat) for cat in cat_cols]\n",
        "#rassemblons les outliers dans un seul dataframe (nous pouvons retirer les doublons)\n",
        "cat_outliers = pd.concat(cat_outliers).drop_duplicates()\n",
        "\n",
        "#Pour chaque colonne numérique, on extrait les outliers\n",
        "num_outliers = [detect_outliers(df, c) for c in num_cols]\n",
        "#Rassemblons les outliers trouvés dans un seul dataframe \n",
        "num_outliers = pd.concat(num_outliers).drop_duplicates()\n",
        "\n",
        "\n",
        "#Rassemblons tous les outliers\n",
        "outliers = pd.concat([num_outliers, cat_outliers]).drop_duplicates()\n",
        "print(\"Tous les outliers:\")\n",
        "display(outliers)\n",
        "\n",
        "#On supprime les outliers (à partir de leur index)\n",
        "df_filtered = df.drop(outliers.index)\n",
        "\n",
        "print(\"Dataframe filtré:\")\n",
        "display(df_filtered)"
      ],
      "execution_count": 0,
      "outputs": []
    },
    {
      "cell_type": "markdown",
      "metadata": {
        "id": "hBkKlSPzpoJm",
        "colab_type": "text"
      },
      "source": [
        "#### Solution alternative\n",
        "On peut définir des fonctions s'appliquant directement sur une Series, et renvoyant un Series de booléens pour chaque item. On peut alors utiliser la méthode \"apply\" pour extraire toutes les détections d'anomalies d'un coup. De plus, on peut ainsi vérifier le nombre de fois qu'une observation (une maison) a été reconnue comme anormale, et en extraire un indice plus global d'anormalité."
      ]
    },
    {
      "cell_type": "code",
      "metadata": {
        "id": "mA4tjMBqppy2",
        "colab_type": "code",
        "colab": {}
      },
      "source": [
        "#Définissons des fonctions de détection d'outliers sur des Series, pour pouvoir utiliser la méthode \"apply\" dessus:\n",
        "\n",
        "#Détection d'outliers numériques\n",
        "def detect_numeric_outliers_series(series, h = 2, left = 0.25, right = 0.75):\n",
        "\n",
        "  \n",
        "  Q1 = series.quantile(left)\n",
        "  Q3 = series.quantile(right)\n",
        "  IQR = Q3 - Q1\n",
        "\n",
        "  #Les données s'écartant fortement des quantiles sont potentiellement des anomalies (outlier en anglais)\n",
        "  is_outlier = (series < (Q1 - h * IQR)) | (series > (Q3 + h * IQR))\n",
        "  if is_outlier.sum() > 0:\n",
        "    print(is_outlier.sum(), \"outliers numériques trouvés pour\", series.name)\n",
        "  return is_outlier\n",
        "\n",
        "#Détection d'outliers catégoriels\n",
        "def detect_rare_cat_series(series, nmin = 2):\n",
        "  counts = series.value_counts()\n",
        "  rare_cats = counts[counts < nmin]\n",
        "  is_outlier = series.isin(rare_cats.index)\n",
        "  if is_outlier.sum() > 0:\n",
        "    print(is_outlier.sum(), \"outliers catégoriels trouvés pour\", series.name)\n",
        "  return is_outlier\n",
        "\n",
        "\n",
        "#Détection générique des outliers dans une Series\n",
        "def detect_outlier_series(series):\n",
        "  \n",
        "  if is_num(series):\n",
        "    return detect_numeric_outliers_series(series)\n",
        "    \n",
        "  elif is_cat(series):\n",
        "    return detect_rare_cat_series(series)\n",
        "  else:\n",
        "    #return a Series containing only False\n",
        "    return pd.Series(False, series.index)\n",
        "\n",
        "\n",
        "  \n",
        "outliers = df.apply(detect_outlier_series)\n",
        "\n",
        "#De cette manière, on peut observer le nombre de fois qu'une maison est considérée comme anormale\n",
        "outlier_sum = outliers.sum(axis = 1) \n",
        "outlier_sum.plot.bar()\n",
        "plt.xticks(range(len(df.address)), labels = df.address, rotation = \"vertical\")\n",
        "\n",
        "#On peut vérifier pour quelles variables chaque maison est considérée comme anormale\n",
        "display(outliers)\n",
        "\n",
        "#Outliers\n",
        "display(df[outlier_sum > 0])"
      ],
      "execution_count": 0,
      "outputs": []
    },
    {
      "cell_type": "markdown",
      "metadata": {
        "id": "Sqza1iffq4Li",
        "colab_type": "text"
      },
      "source": [
        "On remarque que la maison de la Rue de la Loi 50, Bruxelles, et celle de charleroi sont considérées deux fois comme des outliers."
      ]
    }
  ]
}