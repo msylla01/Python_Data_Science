{
  "nbformat": 4,
  "nbformat_minor": 0,
  "metadata": {
    "colab": {
      "name": "7_Machine_Learning_Introduction.ipynb",
      "version": "0.3.2",
      "provenance": [],
      "collapsed_sections": [],
      "toc_visible": true,
      "include_colab_link": true
    },
    "kernelspec": {
      "name": "python3",
      "display_name": "Python 3"
    }
  },
  "cells": [
    {
      "cell_type": "markdown",
      "metadata": {
        "id": "view-in-github",
        "colab_type": "text"
      },
      "source": [
        "<a href=\"https://colab.research.google.com/github/titsitits/UNamur_Python_Analytics/blob/master/7_Machine_Learning_Introduction.ipynb\" target=\"_parent\"><img src=\"https://colab.research.google.com/assets/colab-badge.svg\" alt=\"Open In Colab\"/></a>"
      ]
    },
    {
      "cell_type": "markdown",
      "metadata": {
        "id": "DfQ-d2onvooo",
        "colab_type": "text"
      },
      "source": [
        "Mickaël Tits\n",
        "CETIC\n",
        "mickael.tits@cetic.be"
      ]
    },
    {
      "cell_type": "markdown",
      "metadata": {
        "id": "Ug1Bj8_tAVWq",
        "colab_type": "text"
      },
      "source": [
        "# Introduction au machine learning\n",
        "\n",
        "Un sous-domaine important de l'analyse de données est le machine learning (apprentissage automatique). Le machine learning regroupe un ensemble de techniques permettant, à partir des données, d'apprendre automatiquement différents types de relations entre les variables.\n",
        "\n",
        "On distingue généralement:\n",
        "* Le machine learning **supervisé**, qui permet d'apprendre des relations entre les données et des labels. Plus spécifiquement, on entraîne généralement un algorithme à prédire les labels qui ont été donnés pour un ensemble de données. Il existe deux applications principales de l'apprentissage supervisé:\n",
        "  * La classification: on a un ensemble de données à partir desquelles on aimerait prédire une classe: le **label** de chaque sample est par exemple \"chat\" ou chien\". Les données permettant d'entraîner l'algorithme sont par exemple les pixels d'images qui ont été labelisées (i.e. on note pour chaque image si elle contient un chat ou un chien). En entrée de l'algorithme, on utilise les images, et en sortie on vérifie la prédiction donnée par l'algorithme. Pour une image contenant un chat, il doit prédire le bon label, c'est-à-dire \"chat\". L'étape de l'entraînement de l'algorithme consiste alors à **minimiser l'erreur moyenne des prédictions en modifiant itérativement les paramètres de l'algorithme**.\n",
        "  * Le régression: le **label** à prédire à partir des données est une valeur continue: par exemple le prix d'une maison, à partir de différentes caractéristiques, ou l'âge d'une personne à partir d'une image. Les algorithmes utilisés sont donc différents puisqu'ils voient prédire une valeur continue et non une classe. Cependant, l'entraînement de l'algorithme consiste toujours en une minimisation de l'erreur moyenne des prédictions sur toutes les données d'entraînement.\n",
        "\n",
        "* Le machine learning **non-supervisé**, qui permet d'apprendre des relations entre différentes données, telles que les similitudes entre différentes variables, ou différentes données (e.g.: Clustering, Réduction de dimensions).\n"
      ]
    },
    {
      "cell_type": "markdown",
      "metadata": {
        "id": "SjzPpoDJYNA-",
        "colab_type": "text"
      },
      "source": [
        "Chargez d'abord le dataframe préparé lors du chapitre précédent (relancer le notebook précédent si nécessaire)."
      ]
    },
    {
      "cell_type": "code",
      "metadata": {
        "id": "p8HniutIYMdW",
        "colab_type": "code",
        "colab": {}
      },
      "source": [
        "df = pd.read_csv(\"houses_features.csv\", index_col = 0)\n",
        "dfbxl = df[df.city == \"Bruxelles\"]"
      ],
      "execution_count": 0,
      "outputs": []
    },
    {
      "cell_type": "markdown",
      "metadata": {
        "id": "aL8QR73xbp57",
        "colab_type": "text"
      },
      "source": [
        "# Prédiction du prix d'une maison"
      ]
    },
    {
      "cell_type": "markdown",
      "metadata": {
        "id": "KVxiLN5Bbg5U",
        "colab_type": "text"
      },
      "source": [
        "## Préparation du dataset"
      ]
    },
    {
      "cell_type": "code",
      "metadata": {
        "id": "Z9ChZn7dl5xz",
        "colab_type": "code",
        "colab": {
          "base_uri": "https://localhost:8080/",
          "height": 263
        },
        "outputId": "ec95582b-a0e5-4bd0-9fc6-f47147d1d8f6"
      },
      "source": [
        "#L'adresse n'a pas d'intérêt (on a déjà extrait la ville, qui est une catégorie intéressante)\n",
        "dataset = dfbxl.drop(\"address\",axis=1)\n",
        "\n",
        "dataset = pd.get_dummies(dataset, drop_first=True)\n",
        "dataset"
      ],
      "execution_count": 83,
      "outputs": [
        {
          "output_type": "execute_result",
          "data": {
            "text/html": [
              "<div>\n",
              "<style scoped>\n",
              "    .dataframe tbody tr th:only-of-type {\n",
              "        vertical-align: middle;\n",
              "    }\n",
              "\n",
              "    .dataframe tbody tr th {\n",
              "        vertical-align: top;\n",
              "    }\n",
              "\n",
              "    .dataframe thead th {\n",
              "        text-align: right;\n",
              "    }\n",
              "</style>\n",
              "<table border=\"1\" class=\"dataframe\">\n",
              "  <thead>\n",
              "    <tr style=\"text-align: right;\">\n",
              "      <th></th>\n",
              "      <th>price</th>\n",
              "      <th>price_per_m2</th>\n",
              "      <th>price_per_room</th>\n",
              "      <th>rooms</th>\n",
              "      <th>surface</th>\n",
              "      <th>website_immoweb</th>\n",
              "    </tr>\n",
              "  </thead>\n",
              "  <tbody>\n",
              "    <tr>\n",
              "      <th>2</th>\n",
              "      <td>400000.0</td>\n",
              "      <td>3333.333333</td>\n",
              "      <td>80000.000000</td>\n",
              "      <td>5.0</td>\n",
              "      <td>120</td>\n",
              "      <td>1</td>\n",
              "    </tr>\n",
              "    <tr>\n",
              "      <th>7</th>\n",
              "      <td>280000.0</td>\n",
              "      <td>2333.333333</td>\n",
              "      <td>93333.333333</td>\n",
              "      <td>3.0</td>\n",
              "      <td>120</td>\n",
              "      <td>1</td>\n",
              "    </tr>\n",
              "    <tr>\n",
              "      <th>8</th>\n",
              "      <td>400000.0</td>\n",
              "      <td>2666.666667</td>\n",
              "      <td>100000.000000</td>\n",
              "      <td>4.0</td>\n",
              "      <td>150</td>\n",
              "      <td>0</td>\n",
              "    </tr>\n",
              "    <tr>\n",
              "      <th>9</th>\n",
              "      <td>480000.0</td>\n",
              "      <td>2400.000000</td>\n",
              "      <td>96000.000000</td>\n",
              "      <td>5.0</td>\n",
              "      <td>200</td>\n",
              "      <td>0</td>\n",
              "    </tr>\n",
              "    <tr>\n",
              "      <th>10</th>\n",
              "      <td>280000.0</td>\n",
              "      <td>2333.333333</td>\n",
              "      <td>93333.333333</td>\n",
              "      <td>3.0</td>\n",
              "      <td>120</td>\n",
              "      <td>0</td>\n",
              "    </tr>\n",
              "    <tr>\n",
              "      <th>11</th>\n",
              "      <td>400000.0</td>\n",
              "      <td>2666.666667</td>\n",
              "      <td>100000.000000</td>\n",
              "      <td>4.0</td>\n",
              "      <td>150</td>\n",
              "      <td>0</td>\n",
              "    </tr>\n",
              "    <tr>\n",
              "      <th>12</th>\n",
              "      <td>480000.0</td>\n",
              "      <td>2400.000000</td>\n",
              "      <td>96000.000000</td>\n",
              "      <td>5.0</td>\n",
              "      <td>200</td>\n",
              "      <td>0</td>\n",
              "    </tr>\n",
              "  </tbody>\n",
              "</table>\n",
              "</div>"
            ],
            "text/plain": [
              "       price  price_per_m2  price_per_room  rooms  surface  website_immoweb\n",
              "2   400000.0   3333.333333    80000.000000    5.0      120                1\n",
              "7   280000.0   2333.333333    93333.333333    3.0      120                1\n",
              "8   400000.0   2666.666667   100000.000000    4.0      150                0\n",
              "9   480000.0   2400.000000    96000.000000    5.0      200                0\n",
              "10  280000.0   2333.333333    93333.333333    3.0      120                0\n",
              "11  400000.0   2666.666667   100000.000000    4.0      150                0\n",
              "12  480000.0   2400.000000    96000.000000    5.0      200                0"
            ]
          },
          "metadata": {
            "tags": []
          },
          "execution_count": 83
        }
      ]
    },
    {
      "cell_type": "code",
      "metadata": {
        "id": "cinRBDirvnUR",
        "colab_type": "code",
        "colab": {
          "base_uri": "https://localhost:8080/",
          "height": 233
        },
        "outputId": "f62bb5ce-9e48-44d8-9c96-dfb48e8baa49"
      },
      "source": [
        "dataset.corr()"
      ],
      "execution_count": 107,
      "outputs": [
        {
          "output_type": "execute_result",
          "data": {
            "text/html": [
              "<div>\n",
              "<style scoped>\n",
              "    .dataframe tbody tr th:only-of-type {\n",
              "        vertical-align: middle;\n",
              "    }\n",
              "\n",
              "    .dataframe tbody tr th {\n",
              "        vertical-align: top;\n",
              "    }\n",
              "\n",
              "    .dataframe thead th {\n",
              "        text-align: right;\n",
              "    }\n",
              "</style>\n",
              "<table border=\"1\" class=\"dataframe\">\n",
              "  <thead>\n",
              "    <tr style=\"text-align: right;\">\n",
              "      <th></th>\n",
              "      <th>price</th>\n",
              "      <th>price_per_m2</th>\n",
              "      <th>price_per_room</th>\n",
              "      <th>rooms</th>\n",
              "      <th>surface</th>\n",
              "      <th>website_immoweb</th>\n",
              "    </tr>\n",
              "  </thead>\n",
              "  <tbody>\n",
              "    <tr>\n",
              "      <th>price</th>\n",
              "      <td>1.000000</td>\n",
              "      <td>0.176690</td>\n",
              "      <td>0.145297</td>\n",
              "      <td>0.925514</td>\n",
              "      <td>0.866031</td>\n",
              "      <td>-0.402939</td>\n",
              "    </tr>\n",
              "    <tr>\n",
              "      <th>price_per_m2</th>\n",
              "      <td>0.176690</td>\n",
              "      <td>1.000000</td>\n",
              "      <td>-0.679186</td>\n",
              "      <td>0.453582</td>\n",
              "      <td>-0.337120</td>\n",
              "      <td>0.463636</td>\n",
              "    </tr>\n",
              "    <tr>\n",
              "      <th>price_per_room</th>\n",
              "      <td>0.145297</td>\n",
              "      <td>-0.679186</td>\n",
              "      <td>1.000000</td>\n",
              "      <td>-0.238949</td>\n",
              "      <td>0.451827</td>\n",
              "      <td>-0.747105</td>\n",
              "    </tr>\n",
              "    <tr>\n",
              "      <th>rooms</th>\n",
              "      <td>0.925514</td>\n",
              "      <td>0.453582</td>\n",
              "      <td>-0.238949</td>\n",
              "      <td>1.000000</td>\n",
              "      <td>0.665445</td>\n",
              "      <td>-0.108465</td>\n",
              "    </tr>\n",
              "    <tr>\n",
              "      <th>surface</th>\n",
              "      <td>0.866031</td>\n",
              "      <td>-0.337120</td>\n",
              "      <td>0.451827</td>\n",
              "      <td>0.665445</td>\n",
              "      <td>1.000000</td>\n",
              "      <td>-0.599876</td>\n",
              "    </tr>\n",
              "    <tr>\n",
              "      <th>website_immoweb</th>\n",
              "      <td>-0.402939</td>\n",
              "      <td>0.463636</td>\n",
              "      <td>-0.747105</td>\n",
              "      <td>-0.108465</td>\n",
              "      <td>-0.599876</td>\n",
              "      <td>1.000000</td>\n",
              "    </tr>\n",
              "  </tbody>\n",
              "</table>\n",
              "</div>"
            ],
            "text/plain": [
              "                    price  price_per_m2  ...   surface  website_immoweb\n",
              "price            1.000000      0.176690  ...  0.866031        -0.402939\n",
              "price_per_m2     0.176690      1.000000  ... -0.337120         0.463636\n",
              "price_per_room   0.145297     -0.679186  ...  0.451827        -0.747105\n",
              "rooms            0.925514      0.453582  ...  0.665445        -0.108465\n",
              "surface          0.866031     -0.337120  ...  1.000000        -0.599876\n",
              "website_immoweb -0.402939      0.463636  ... -0.599876         1.000000\n",
              "\n",
              "[6 rows x 6 columns]"
            ]
          },
          "metadata": {
            "tags": []
          },
          "execution_count": 107
        }
      ]
    },
    {
      "cell_type": "markdown",
      "metadata": {
        "id": "PWDhrdhzaEBD",
        "colab_type": "text"
      },
      "source": [
        "## Une librairie Python de référence pour le machine learing: Scikit-learn\n",
        "\n",
        "Une librairie Python incontournable pour le machine learning est la librairie Scikit-learn: https://scikit-learn.org/stable/ .\n",
        "\n",
        "Elle inclut un geand nombre d'algorithmes de machine learning supervisé, non-supervisé, de préprocessing de caractéristiques, et de sélection de modèles de machine learning. L'API est assez simple, et est basée sur les librairies vues précédemment (Numpy, Scipy, Matplotlib).\n",
        "\n",
        "La librairie contient de nombreuses classes permettant d'instancier des modèles de machine learning, que l'on peut ensuite utiliser pour: \n",
        "1. Entraîner sur un ensemble de **données d'entraînement (ou training set)**.\n",
        "\n",
        "2. Chaque modèle contient généralement différents paramètres qui peuvent être adaptés aux données utilisées, afin d'améliorer les performances de l'algorithme. Pour vérifier les performances du modèles selon différents paramètres, on teste le modèle sur un set de **données de validation (ou validation set)**. On parle généralement de processus de **cross-validation**.\n",
        "\n",
        "3. Afin de vérifier que le modèle obtenu est efficace, on peut ensuite le tester avec de nouvelles données (autres que celles utilisées durant l'entraînement et la cross-validation), les **données de test (ou test set)**."
      ]
    },
    {
      "cell_type": "markdown",
      "metadata": {
        "id": "z43cMjWtqHGw",
        "colab_type": "text"
      },
      "source": [
        "### Régression linéaire"
      ]
    },
    {
      "cell_type": "markdown",
      "metadata": {
        "id": "W3MQD_61rQ-6",
        "colab_type": "text"
      },
      "source": [
        "Etant donné le peu de données de l'exemple, on utilisera un modèle simple (régression linéaire), avec un nombre restreint de caractéristiques (surface et rooms). On ne contentera d'un training set et d'un test set (pas de validation ici: on gardera les paramètres par défaut du modèle)."
      ]
    },
    {
      "cell_type": "code",
      "metadata": {
        "id": "3nRN3Xn6b9bk",
        "colab_type": "code",
        "colab": {}
      },
      "source": [
        "from sklearn.linear_model import LinearRegression\n",
        "\n",
        "#On crée un objet de la classe LinearRegression\n",
        "regressor = LinearRegression()\n"
      ],
      "execution_count": 0,
      "outputs": []
    },
    {
      "cell_type": "code",
      "metadata": {
        "id": "TVGUPjD2bnXE",
        "colab_type": "code",
        "colab": {}
      },
      "source": [
        "trainset = dataset.iloc[:6]\n",
        "testset = dataset.iloc[6:]\n",
        "\n",
        "Xtrain, ytrain, Xtest, ytest = trainset[[\"surface\",\"rooms\"]], trainset[\"price\"], testset[[\"surface\",\"rooms\"]], testset[\"price\"]"
      ],
      "execution_count": 0,
      "outputs": []
    },
    {
      "cell_type": "code",
      "metadata": {
        "id": "JFBVkNPZp3Mi",
        "colab_type": "code",
        "outputId": "1c3da40b-83bc-4bac-c142-51ee4da7c362",
        "colab": {
          "base_uri": "https://localhost:8080/",
          "height": 35
        }
      },
      "source": [
        "regressor.fit(Xtrain, ytrain)"
      ],
      "execution_count": 91,
      "outputs": [
        {
          "output_type": "execute_result",
          "data": {
            "text/plain": [
              "LinearRegression(copy_X=True, fit_intercept=True, n_jobs=None, normalize=False)"
            ]
          },
          "metadata": {
            "tags": []
          },
          "execution_count": 91
        }
      ]
    },
    {
      "cell_type": "code",
      "metadata": {
        "id": "hp-fiF2xqn4L",
        "colab_type": "code",
        "colab": {
          "base_uri": "https://localhost:8080/",
          "height": 35
        },
        "outputId": "ad37fc05-4ba9-48f6-f223-bdb7924c22a6"
      },
      "source": [
        "print(regressor.predict(Xtest)[0], ytest.values[0])"
      ],
      "execution_count": 93,
      "outputs": [
        {
          "output_type": "stream",
          "text": [
            "494399.9999999999 480000.0\n"
          ],
          "name": "stdout"
        }
      ]
    },
    {
      "cell_type": "code",
      "metadata": {
        "id": "u1_XPhrBq9Y8",
        "colab_type": "code",
        "colab": {
          "base_uri": "https://localhost:8080/",
          "height": 35
        },
        "outputId": "7db20d07-8e5e-40ce-9710-40a58a882bc6"
      },
      "source": [
        "regressor.coef_"
      ],
      "execution_count": 94,
      "outputs": [
        {
          "output_type": "execute_result",
          "data": {
            "text/plain": [
              "array([ 1120., 57600.])"
            ]
          },
          "metadata": {
            "tags": []
          },
          "execution_count": 94
        }
      ]
    },
    {
      "cell_type": "markdown",
      "metadata": {
        "id": "8SWA7APirNcj",
        "colab_type": "text"
      },
      "source": [
        "## Leave-one-out validation\n",
        "Lorsque l'ensemble de données est petit (comme dans cet exemple), il est intéressant d'utiliser une technique de tournante sur les données de test pour vérifier la qualité de l'algorithme choisi. Sur l'ensemble des données, on retient itérativement un sous-ensemble différent pour les données de test et on entraîne sur le reste. On peut parcourir itérativement toutes les données, pour ainsi tester au final l'algorithme sur l'ensemble des données."
      ]
    },
    {
      "cell_type": "code",
      "metadata": {
        "id": "GvdvVEv4qRWz",
        "colab_type": "code",
        "colab": {
          "base_uri": "https://localhost:8080/",
          "height": 381
        },
        "outputId": "b70e6484-d052-4706-b685-7231ff88f837"
      },
      "source": [
        "from sklearn.metrics import mean_squared_error\n",
        "import numpy as np\n",
        "\n",
        "testpredictions = []\n",
        "\n",
        "input_features = [\"surface\",\"rooms\"]\n",
        "\n",
        "\n",
        "for i in dataset.index:\n",
        "  trainset = dataset[dataset.index!=i]\n",
        "  testset = dataset.loc[i].to_frame().transpose()\n",
        "  Xtrain, ytrain, Xtest, ytest = trainset[input_features], trainset[\"price\"], testset[input_features], testset[\"price\"]\n",
        "  regressor.fit(Xtrain, ytrain)\n",
        "  \n",
        "  trainpred = regressor.predict(Xtrain)\n",
        "  testpred = regressor.predict(Xtest)\n",
        "  \n",
        "  print(i, \" - training mean error:\", np.mean(np.abs(trainpred - ytrain)), \"\\n\\t test mean error:\", np.mean(np.abs(testpred - ytest)), \"\\n\")\n",
        "        \n",
        "  testpredictions.append(testpred[0])\n",
        "  "
      ],
      "execution_count": 128,
      "outputs": [
        {
          "output_type": "stream",
          "text": [
            "2  - training mean error: 1.9402553637822468e-11 \n",
            "\t test mean error: 240000.0 \n",
            "\n",
            "7  - training mean error: 11962.616822429933 \n",
            "\t test mean error: 17943.925233644957 \n",
            "\n",
            "8  - training mean error: 8258.06451612901 \n",
            "\t test mean error: 24774.19354838709 \n",
            "\n",
            "9  - training mean error: 12799.99999999998 \n",
            "\t test mean error: 14399.999999999942 \n",
            "\n",
            "10  - training mean error: 11962.616822429904 \n",
            "\t test mean error: 17943.9252336449 \n",
            "\n",
            "11  - training mean error: 8258.06451612901 \n",
            "\t test mean error: 24774.19354838709 \n",
            "\n",
            "12  - training mean error: 12799.99999999998 \n",
            "\t test mean error: 14399.999999999884 \n",
            "\n"
          ],
          "name": "stdout"
        }
      ]
    },
    {
      "cell_type": "code",
      "metadata": {
        "id": "5em1yoQltVk6",
        "colab_type": "code",
        "colab": {
          "base_uri": "https://localhost:8080/",
          "height": 139
        },
        "outputId": "7bb74337-c12f-4377-abf8-331370a12342"
      },
      "source": [
        "testpredictions"
      ],
      "execution_count": 97,
      "outputs": [
        {
          "output_type": "execute_result",
          "data": {
            "text/plain": [
              "[640000.0,\n",
              " 297943.92523364496,\n",
              " 375225.8064516129,\n",
              " 494399.99999999994,\n",
              " 297943.9252336449,\n",
              " 375225.8064516129,\n",
              " 494399.9999999999]"
            ]
          },
          "metadata": {
            "tags": []
          },
          "execution_count": 97
        }
      ]
    },
    {
      "cell_type": "code",
      "metadata": {
        "id": "1cu-R5nWt60W",
        "colab_type": "code",
        "colab": {
          "base_uri": "https://localhost:8080/",
          "height": 367
        },
        "outputId": "0bd874dc-8d72-43c7-925c-0421a5cca747"
      },
      "source": [
        "results = dfbxl\n",
        "results[\"predictions\"] = testpredictions\n",
        "results"
      ],
      "execution_count": 109,
      "outputs": [
        {
          "output_type": "stream",
          "text": [
            "/usr/local/lib/python3.6/dist-packages/ipykernel_launcher.py:2: SettingWithCopyWarning: \n",
            "A value is trying to be set on a copy of a slice from a DataFrame.\n",
            "Try using .loc[row_indexer,col_indexer] = value instead\n",
            "\n",
            "See the caveats in the documentation: http://pandas.pydata.org/pandas-docs/stable/indexing.html#indexing-view-versus-copy\n",
            "  \n"
          ],
          "name": "stderr"
        },
        {
          "output_type": "execute_result",
          "data": {
            "text/html": [
              "<div>\n",
              "<style scoped>\n",
              "    .dataframe tbody tr th:only-of-type {\n",
              "        vertical-align: middle;\n",
              "    }\n",
              "\n",
              "    .dataframe tbody tr th {\n",
              "        vertical-align: top;\n",
              "    }\n",
              "\n",
              "    .dataframe thead th {\n",
              "        text-align: right;\n",
              "    }\n",
              "</style>\n",
              "<table border=\"1\" class=\"dataframe\">\n",
              "  <thead>\n",
              "    <tr style=\"text-align: right;\">\n",
              "      <th></th>\n",
              "      <th>address</th>\n",
              "      <th>city</th>\n",
              "      <th>price</th>\n",
              "      <th>price_per_m2</th>\n",
              "      <th>price_per_room</th>\n",
              "      <th>rooms</th>\n",
              "      <th>surface</th>\n",
              "      <th>website</th>\n",
              "      <th>predictions</th>\n",
              "    </tr>\n",
              "  </thead>\n",
              "  <tbody>\n",
              "    <tr>\n",
              "      <th>2</th>\n",
              "      <td>Porte de Namur 25, Bruxelles</td>\n",
              "      <td>Bruxelles</td>\n",
              "      <td>400000.0</td>\n",
              "      <td>3333.333333</td>\n",
              "      <td>80000.000000</td>\n",
              "      <td>5.0</td>\n",
              "      <td>120</td>\n",
              "      <td>immoweb</td>\n",
              "      <td>298367.346939</td>\n",
              "    </tr>\n",
              "    <tr>\n",
              "      <th>7</th>\n",
              "      <td>Rue de la Loi 51, Bruxelles</td>\n",
              "      <td>Bruxelles</td>\n",
              "      <td>280000.0</td>\n",
              "      <td>2333.333333</td>\n",
              "      <td>93333.333333</td>\n",
              "      <td>3.0</td>\n",
              "      <td>120</td>\n",
              "      <td>immoweb</td>\n",
              "      <td>343061.224490</td>\n",
              "    </tr>\n",
              "    <tr>\n",
              "      <th>8</th>\n",
              "      <td>Rue de la Loi 52, Bruxelles</td>\n",
              "      <td>Bruxelles</td>\n",
              "      <td>400000.0</td>\n",
              "      <td>2666.666667</td>\n",
              "      <td>100000.000000</td>\n",
              "      <td>4.0</td>\n",
              "      <td>150</td>\n",
              "      <td>immovlan</td>\n",
              "      <td>383340.563991</td>\n",
              "    </tr>\n",
              "    <tr>\n",
              "      <th>9</th>\n",
              "      <td>Rue de la Loi 53, Bruxelles</td>\n",
              "      <td>Bruxelles</td>\n",
              "      <td>480000.0</td>\n",
              "      <td>2400.000000</td>\n",
              "      <td>96000.000000</td>\n",
              "      <td>5.0</td>\n",
              "      <td>200</td>\n",
              "      <td>immovlan</td>\n",
              "      <td>489729.729730</td>\n",
              "    </tr>\n",
              "    <tr>\n",
              "      <th>10</th>\n",
              "      <td>Rue de la Loi 51, Bruxelles</td>\n",
              "      <td>Bruxelles</td>\n",
              "      <td>280000.0</td>\n",
              "      <td>2333.333333</td>\n",
              "      <td>93333.333333</td>\n",
              "      <td>3.0</td>\n",
              "      <td>120</td>\n",
              "      <td>immovlan</td>\n",
              "      <td>343061.224490</td>\n",
              "    </tr>\n",
              "    <tr>\n",
              "      <th>11</th>\n",
              "      <td>Rue de la Loi 52, Bruxelles</td>\n",
              "      <td>Bruxelles</td>\n",
              "      <td>400000.0</td>\n",
              "      <td>2666.666667</td>\n",
              "      <td>100000.000000</td>\n",
              "      <td>4.0</td>\n",
              "      <td>150</td>\n",
              "      <td>immovlan</td>\n",
              "      <td>383340.563991</td>\n",
              "    </tr>\n",
              "    <tr>\n",
              "      <th>12</th>\n",
              "      <td>Rue de la Loi 53, Bruxelles</td>\n",
              "      <td>Bruxelles</td>\n",
              "      <td>480000.0</td>\n",
              "      <td>2400.000000</td>\n",
              "      <td>96000.000000</td>\n",
              "      <td>5.0</td>\n",
              "      <td>200</td>\n",
              "      <td>immovlan</td>\n",
              "      <td>489729.729730</td>\n",
              "    </tr>\n",
              "  </tbody>\n",
              "</table>\n",
              "</div>"
            ],
            "text/plain": [
              "                         address       city  ...   website    predictions\n",
              "2   Porte de Namur 25, Bruxelles  Bruxelles  ...   immoweb  298367.346939\n",
              "7    Rue de la Loi 51, Bruxelles  Bruxelles  ...   immoweb  343061.224490\n",
              "8    Rue de la Loi 52, Bruxelles  Bruxelles  ...  immovlan  383340.563991\n",
              "9    Rue de la Loi 53, Bruxelles  Bruxelles  ...  immovlan  489729.729730\n",
              "10   Rue de la Loi 51, Bruxelles  Bruxelles  ...  immovlan  343061.224490\n",
              "11   Rue de la Loi 52, Bruxelles  Bruxelles  ...  immovlan  383340.563991\n",
              "12   Rue de la Loi 53, Bruxelles  Bruxelles  ...  immovlan  489729.729730\n",
              "\n",
              "[7 rows x 9 columns]"
            ]
          },
          "metadata": {
            "tags": []
          },
          "execution_count": 109
        }
      ]
    },
    {
      "cell_type": "code",
      "metadata": {
        "id": "M9CD6imFuSzq",
        "colab_type": "code",
        "colab": {
          "base_uri": "https://localhost:8080/",
          "height": 233
        },
        "outputId": "a9f940de-b452-491b-9618-81bf3ef0ef4f"
      },
      "source": [
        "results.corr()"
      ],
      "execution_count": 110,
      "outputs": [
        {
          "output_type": "execute_result",
          "data": {
            "text/html": [
              "<div>\n",
              "<style scoped>\n",
              "    .dataframe tbody tr th:only-of-type {\n",
              "        vertical-align: middle;\n",
              "    }\n",
              "\n",
              "    .dataframe tbody tr th {\n",
              "        vertical-align: top;\n",
              "    }\n",
              "\n",
              "    .dataframe thead th {\n",
              "        text-align: right;\n",
              "    }\n",
              "</style>\n",
              "<table border=\"1\" class=\"dataframe\">\n",
              "  <thead>\n",
              "    <tr style=\"text-align: right;\">\n",
              "      <th></th>\n",
              "      <th>price</th>\n",
              "      <th>price_per_m2</th>\n",
              "      <th>price_per_room</th>\n",
              "      <th>rooms</th>\n",
              "      <th>surface</th>\n",
              "      <th>predictions</th>\n",
              "    </tr>\n",
              "  </thead>\n",
              "  <tbody>\n",
              "    <tr>\n",
              "      <th>price</th>\n",
              "      <td>1.000000</td>\n",
              "      <td>0.176690</td>\n",
              "      <td>0.145297</td>\n",
              "      <td>0.925514</td>\n",
              "      <td>0.866031</td>\n",
              "      <td>0.745566</td>\n",
              "    </tr>\n",
              "    <tr>\n",
              "      <th>price_per_m2</th>\n",
              "      <td>0.176690</td>\n",
              "      <td>1.000000</td>\n",
              "      <td>-0.679186</td>\n",
              "      <td>0.453582</td>\n",
              "      <td>-0.337120</td>\n",
              "      <td>-0.522597</td>\n",
              "    </tr>\n",
              "    <tr>\n",
              "      <th>price_per_room</th>\n",
              "      <td>0.145297</td>\n",
              "      <td>-0.679186</td>\n",
              "      <td>1.000000</td>\n",
              "      <td>-0.238949</td>\n",
              "      <td>0.451827</td>\n",
              "      <td>0.552488</td>\n",
              "    </tr>\n",
              "    <tr>\n",
              "      <th>rooms</th>\n",
              "      <td>0.925514</td>\n",
              "      <td>0.453582</td>\n",
              "      <td>-0.238949</td>\n",
              "      <td>1.000000</td>\n",
              "      <td>0.665445</td>\n",
              "      <td>0.505245</td>\n",
              "    </tr>\n",
              "    <tr>\n",
              "      <th>surface</th>\n",
              "      <td>0.866031</td>\n",
              "      <td>-0.337120</td>\n",
              "      <td>0.451827</td>\n",
              "      <td>0.665445</td>\n",
              "      <td>1.000000</td>\n",
              "      <td>0.978828</td>\n",
              "    </tr>\n",
              "    <tr>\n",
              "      <th>predictions</th>\n",
              "      <td>0.745566</td>\n",
              "      <td>-0.522597</td>\n",
              "      <td>0.552488</td>\n",
              "      <td>0.505245</td>\n",
              "      <td>0.978828</td>\n",
              "      <td>1.000000</td>\n",
              "    </tr>\n",
              "  </tbody>\n",
              "</table>\n",
              "</div>"
            ],
            "text/plain": [
              "                   price  price_per_m2  ...   surface  predictions\n",
              "price           1.000000      0.176690  ...  0.866031     0.745566\n",
              "price_per_m2    0.176690      1.000000  ... -0.337120    -0.522597\n",
              "price_per_room  0.145297     -0.679186  ...  0.451827     0.552488\n",
              "rooms           0.925514      0.453582  ...  0.665445     0.505245\n",
              "surface         0.866031     -0.337120  ...  1.000000     0.978828\n",
              "predictions     0.745566     -0.522597  ...  0.978828     1.000000\n",
              "\n",
              "[6 rows x 6 columns]"
            ]
          },
          "metadata": {
            "tags": []
          },
          "execution_count": 110
        }
      ]
    },
    {
      "cell_type": "markdown",
      "metadata": {
        "id": "BLSgoaulk4Sd",
        "colab_type": "text"
      },
      "source": [
        "Si les performances sur le test set sont bien plus mauvaises que sur les données d'entraînement, il est fort probable qu'on soit dans une situation d'**overfitting**: le modèle a appris \"par coeur\" ce qu'il fallait prédire pour chaque donnée du training set. Il ne se généralise donc pas bien sur de nouvelles données. Afin d'éviter ce problème, on peut soit:\n",
        "\n",
        "* diminuer la complexité (le nombre de degrés de liberté, i.e. de paramètres) du modèle, soit en diminuant le nombre de caractéristique, soit en utilisant un algorithme plus simple.\n",
        "* entraîner le modèle sur plus de données.\n",
        "\n",
        "Si à l'inverse, les performances obtenues lors de l'entraînement sont faibles, on est en situation d'**underfitting**. Il faut alors au contraire augmenter la complexité au modèle et extraire des caractéristiques de meilleure qualité (ayant une relation pus forte avec le label à prédire).\n"
      ]
    },
    {
      "cell_type": "code",
      "metadata": {
        "id": "VREv0Pofk4vj",
        "colab_type": "code",
        "colab": {}
      },
      "source": [
        ""
      ],
      "execution_count": 0,
      "outputs": []
    }
  ]
}