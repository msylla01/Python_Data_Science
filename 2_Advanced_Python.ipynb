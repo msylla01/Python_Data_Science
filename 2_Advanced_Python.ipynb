{
  "nbformat": 4,
  "nbformat_minor": 0,
  "metadata": {
    "colab": {
      "name": "2_Advanced_Python.ipynb",
      "version": "0.3.2",
      "provenance": [],
      "collapsed_sections": [],
      "toc_visible": true,
      "include_colab_link": true
    },
    "kernelspec": {
      "name": "python3",
      "display_name": "Python 3"
    }
  },
  "cells": [
    {
      "cell_type": "markdown",
      "metadata": {
        "id": "view-in-github",
        "colab_type": "text"
      },
      "source": [
        "<a href=\"https://colab.research.google.com/github/titsitits/UNamur_Python_Analytics/blob/master/2_Advanced_Python.ipynb\" target=\"_parent\"><img src=\"https://colab.research.google.com/assets/colab-badge.svg\" alt=\"Open In Colab\"/></a>"
      ]
    },
    {
      "cell_type": "markdown",
      "metadata": {
        "id": "DfQ-d2onvooo",
        "colab_type": "text"
      },
      "source": [
        "Mickaël Tits\n",
        "CETIC\n",
        "mickael.tits@cetic.be"
      ]
    },
    {
      "cell_type": "markdown",
      "metadata": {
        "id": "DO0zZ5fB6pC4",
        "colab_type": "text"
      },
      "source": [
        "# Gestion d'exceptions"
      ]
    },
    {
      "cell_type": "code",
      "metadata": {
        "id": "6hxrBp7L6-gm",
        "colab_type": "code",
        "colab": {
          "base_uri": "https://localhost:8080/",
          "height": 166
        },
        "outputId": "6a7330ed-cc22-4713-f923-8f034340333c"
      },
      "source": [
        "infinity = 1/0"
      ],
      "execution_count": 27,
      "outputs": [
        {
          "output_type": "error",
          "ename": "ZeroDivisionError",
          "evalue": "ignored",
          "traceback": [
            "\u001b[0;31m---------------------------------------------------------------------------\u001b[0m",
            "\u001b[0;31mZeroDivisionError\u001b[0m                         Traceback (most recent call last)",
            "\u001b[0;32m<ipython-input-27-0fb4552e0bd7>\u001b[0m in \u001b[0;36m<module>\u001b[0;34m()\u001b[0m\n\u001b[0;32m----> 1\u001b[0;31m \u001b[0minfinity\u001b[0m \u001b[0;34m=\u001b[0m \u001b[0;36m1\u001b[0m\u001b[0;34m/\u001b[0m\u001b[0;36m0\u001b[0m\u001b[0;34m\u001b[0m\u001b[0;34m\u001b[0m\u001b[0m\n\u001b[0m",
            "\u001b[0;31mZeroDivisionError\u001b[0m: division by zero"
          ]
        }
      ]
    },
    {
      "cell_type": "code",
      "metadata": {
        "id": "CE7wwY086sYm",
        "colab_type": "code",
        "colab": {
          "base_uri": "https://localhost:8080/",
          "height": 72
        },
        "outputId": "80e4a258-472d-4119-984f-73c9d17a6bca"
      },
      "source": [
        "try:\n",
        "  infinity = 1/0\n",
        "except Exception as e:\n",
        "  print(e)\n",
        "  infinity = 10**1000\n",
        "  \n",
        "print(infinity)"
      ],
      "execution_count": 29,
      "outputs": [
        {
          "output_type": "stream",
          "text": [
            "division by zero\n",
            "10000000000000000000000000000000000000000000000000000000000000000000000000000000000000000000000000000000000000000000000000000000000000000000000000000000000000000000000000000000000000000000000000000000000000000000000000000000000000000000000000000000000000000000000000000000000000000000000000000000000000000000000000000000000000000000000000000000000000000000000000000000000000000000000000000000000000000000000000000000000000000000000000000000000000000000000000000000000000000000000000000000000000000000000000000000000000000000000000000000000000000000000000000000000000000000000000000000000000000000000000000000000000000000000000000000000000000000000000000000000000000000000000000000000000000000000000000000000000000000000000000000000000000000000000000000000000000000000000000000000000000000000000000000000000000000000000000000000000000000000000000000000000000000000000000000000000000000000000000000000000000000000000000000000000000000000000000000000000000000000000000000000000000000000000000000000000000\n"
          ],
          "name": "stdout"
        }
      ]
    },
    {
      "cell_type": "markdown",
      "metadata": {
        "id": "hjY_GjCKdm1i",
        "colab_type": "text"
      },
      "source": [
        "# Fonctions\n",
        "\n",
        "* Les fonctions permettent de rendre le code modulaire (on ne réécrit pas 50x la même chose)\n",
        "* \"return\" permet de renvoyer un résultat de la fonction et de sortir de la fonction"
      ]
    },
    {
      "cell_type": "code",
      "metadata": {
        "id": "Ni47Y48owqgD",
        "colab_type": "code",
        "colab": {
          "base_uri": "https://localhost:8080/",
          "height": 35
        },
        "outputId": "6e1a371a-4067-4d08-d28e-a4fe0ee38609"
      },
      "source": [
        "def factorial(n):\n",
        "  \n",
        "  \"\"\"\n",
        "  Cette fonction permet de calculer le factoriel de n\n",
        "  \"\"\"\n",
        "  \n",
        "  f = 1\n",
        "\n",
        "  for i in range(1,n+1): \n",
        "    f = f * i \n",
        "\n",
        "  return f\n",
        "\n",
        "print(factorial(2), factorial(3), factorial(20) )\n"
      ],
      "execution_count": 1,
      "outputs": [
        {
          "output_type": "stream",
          "text": [
            "2 6 2432902008176640000\n"
          ],
          "name": "stdout"
        }
      ]
    },
    {
      "cell_type": "markdown",
      "metadata": {
        "id": "B6NEo4XK33MQ",
        "colab_type": "text"
      },
      "source": [
        "* Les variables définies dans une fonction n'existe que lors de l'exécution de cette fonction\n",
        "* Les traitements effectués sur les variables ne sont valables que durant l'éxécution de la fonction"
      ]
    },
    {
      "cell_type": "code",
      "metadata": {
        "id": "DVsoh-Qp3h4p",
        "colab_type": "code",
        "colab": {
          "base_uri": "https://localhost:8080/",
          "height": 139
        },
        "outputId": "9c98f583-bc2e-48d6-8017-46c4e10a514d"
      },
      "source": [
        "x = 1\n",
        "y = 2\n",
        "\n",
        "def my_function():  \n",
        "   \n",
        "  print('x inside function =', x) #utilise la variable définie en-dehors de la fonction  \n",
        "\n",
        "  try:\n",
        "    print(y)\n",
        "  except Exception as exc:\n",
        "    print(exc)\n",
        "  #print(y) #renvoie une erreur car une fonction locale du même nom est déclarée après  \n",
        "  y = 4\n",
        "  print('y inside function =', y) #imprime la variable locale\n",
        "  \n",
        "  z = 3 \n",
        "  print('z inside function =', z) #imprime la variable locale\n",
        "  \n",
        "\n",
        "my_function()\n",
        "\n",
        "\n",
        "print('x outside function =', x)\n",
        "print('y outside function =', y)\n",
        "try:\n",
        "  print(z)\n",
        "except Exception as exc:\n",
        "  print(exc)\n",
        "#print(z) # renvoie une erreur car la variable n'est pas définie en-dehors de la fonction\n",
        "\n"
      ],
      "execution_count": 39,
      "outputs": [
        {
          "output_type": "stream",
          "text": [
            "x inside function = 1\n",
            "local variable 'y' referenced before assignment\n",
            "y inside function = 4\n",
            "z inside function = 3\n",
            "x outside function = 1\n",
            "y outside function = 2\n",
            "name 'z' is not defined\n"
          ],
          "name": "stdout"
        }
      ]
    },
    {
      "cell_type": "markdown",
      "metadata": {
        "colab_type": "text",
        "id": "BvC5iZXocZu8"
      },
      "source": [
        "# Collections de données"
      ]
    },
    {
      "cell_type": "markdown",
      "metadata": {
        "colab_type": "text",
        "id": "P0kqmbEodMPS"
      },
      "source": [
        "## Les listes\n",
        "* Séquence (collection ordonnée) de données"
      ]
    },
    {
      "cell_type": "code",
      "metadata": {
        "colab_type": "code",
        "outputId": "b052bf71-3fe5-4c93-e7de-b8a38231e6b7",
        "id": "j7uHUigydMPT",
        "colab": {
          "base_uri": "https://localhost:8080/",
          "height": 35
        }
      },
      "source": [
        "#Pour déclarer une liste d'élément, on utilise des crochets []\n",
        "my_list = [1, 3, 5, 7]\n",
        "my_list"
      ],
      "execution_count": 0,
      "outputs": [
        {
          "output_type": "execute_result",
          "data": {
            "text/plain": [
              "[1, 3, 5, 7]"
            ]
          },
          "metadata": {
            "tags": []
          },
          "execution_count": 89
        }
      ]
    },
    {
      "cell_type": "code",
      "metadata": {
        "colab_type": "code",
        "outputId": "335f58f7-7670-40a4-f038-52f71d10d588",
        "id": "3aRsaLrZdMPW",
        "colab": {
          "base_uri": "https://localhost:8080/",
          "height": 35
        }
      },
      "source": [
        "# Une liste peut contenir différents types de données\n",
        "my_list2 = [3.14, 42, my_list, True, 'Hello World!']\n",
        "my_list2"
      ],
      "execution_count": 0,
      "outputs": [
        {
          "output_type": "execute_result",
          "data": {
            "text/plain": [
              "[3.14, 42, [1, 3, 5, 7], True, 'Hello World!']"
            ]
          },
          "metadata": {
            "tags": []
          },
          "execution_count": 36
        }
      ]
    },
    {
      "cell_type": "code",
      "metadata": {
        "colab_type": "code",
        "outputId": "604c6c46-6533-4576-97b8-64446c1fd2c7",
        "id": "EbTB1_PDdMPY",
        "colab": {
          "base_uri": "https://localhost:8080/",
          "height": 35
        }
      },
      "source": [
        "#La fonction len() permet de connaître la longueur d'une liste\n",
        "len(my_list)"
      ],
      "execution_count": 0,
      "outputs": [
        {
          "output_type": "execute_result",
          "data": {
            "text/plain": [
              "4"
            ]
          },
          "metadata": {
            "tags": []
          },
          "execution_count": 37
        }
      ]
    },
    {
      "cell_type": "markdown",
      "metadata": {
        "colab_type": "text",
        "id": "alcUwW-qdMPa"
      },
      "source": [
        "### Accès aux données d'une liste\n",
        "* L'opérateur [x] permet d'accéder aux éléments d'une liste\n",
        "* Attention: l'indexation commence à 0\n",
        "* Une erreur est renvoyée si l'indice est invalide\n",
        "* Un indice négatif démarre de la fin de la liste\n",
        "* Le symbole \":\" permet d'accéder à plusieurs éléments consécutifs"
      ]
    },
    {
      "cell_type": "code",
      "metadata": {
        "colab_type": "code",
        "outputId": "945feaf6-de88-418d-b02e-3095303e4497",
        "id": "_KOIt-wGdMPa",
        "colab": {
          "base_uri": "https://localhost:8080/",
          "height": 35
        }
      },
      "source": [
        "my_list[0]"
      ],
      "execution_count": 0,
      "outputs": [
        {
          "output_type": "execute_result",
          "data": {
            "text/plain": [
              "1"
            ]
          },
          "metadata": {
            "tags": []
          },
          "execution_count": 38
        }
      ]
    },
    {
      "cell_type": "code",
      "metadata": {
        "colab_type": "code",
        "outputId": "f70c14cf-ab90-41ab-d3ec-d2e60f92c86b",
        "id": "h8pFOynCdMPc",
        "colab": {
          "base_uri": "https://localhost:8080/",
          "height": 35
        }
      },
      "source": [
        "my_list[2]"
      ],
      "execution_count": 0,
      "outputs": [
        {
          "output_type": "execute_result",
          "data": {
            "text/plain": [
              "5"
            ]
          },
          "metadata": {
            "tags": []
          },
          "execution_count": 39
        }
      ]
    },
    {
      "cell_type": "code",
      "metadata": {
        "colab_type": "code",
        "id": "sNkopBHkdMPd",
        "colab": {}
      },
      "source": [
        "#Une erreur est obtenue si l'indice est invalide\n",
        "#my_list[4]"
      ],
      "execution_count": 0,
      "outputs": []
    },
    {
      "cell_type": "code",
      "metadata": {
        "colab_type": "code",
        "outputId": "98d7a332-3996-445d-ee3d-1b7f36c027ce",
        "id": "UcYHMIi-dMPf",
        "colab": {
          "base_uri": "https://localhost:8080/",
          "height": 35
        }
      },
      "source": [
        "#Un indice négatif part de la fin d'une liste\n",
        "my_list[-1], my_list[-2]"
      ],
      "execution_count": 0,
      "outputs": [
        {
          "output_type": "execute_result",
          "data": {
            "text/plain": [
              "(7, 5)"
            ]
          },
          "metadata": {
            "tags": []
          },
          "execution_count": 40
        }
      ]
    },
    {
      "cell_type": "code",
      "metadata": {
        "colab_type": "code",
        "outputId": "17bc514f-d001-4d8d-8658-e8cb15366350",
        "id": "OmfDUIgZdMPg",
        "colab": {
          "base_uri": "https://localhost:8080/",
          "height": 104
        }
      },
      "source": [
        "#On peut accéder à plusieurs éléments d'une liste en utilisant un colon (:)\n",
        "print(my_list[1:3]) #permet d'accéder aux éléments entre les indices 1 et 3 (3 exclu)\n",
        "print(my_list[1:]) #permet d'accéder aux élements à partir de l'indice 1 (jusqu'au dernier)\n",
        "print(my_list[:2]) #permet d'accéder aux éléments du premier jusqu'à l'indice 2\n",
        "print(my_list[:]) #permet d'accéder à tous les éléments\n",
        "print(my_list[1:4:2]) #permet d'accéder aux éléments de 1 à 4 (4 exclu) par pas de 2\n",
        "\n"
      ],
      "execution_count": 0,
      "outputs": [
        {
          "output_type": "stream",
          "text": [
            "[3, 5]\n",
            "[3, 5, 7]\n",
            "[1, 3]\n",
            "[1, 3, 5, 7]\n",
            "[3, 7]\n"
          ],
          "name": "stdout"
        }
      ]
    },
    {
      "cell_type": "markdown",
      "metadata": {
        "colab_type": "text",
        "id": "rod9JCbMdMPi"
      },
      "source": [
        "### Manipulation de listes\n",
        "* Addition (+) = concaténation: [1,2] + [3,4] = [1,2,3,4]\n",
        "* Multiplication (\\*) = multiple concaténation: [1,2]\\*2 = [1,2,1,2]\n",
        "* Opération élémentaire => compréhension de liste: [i*4 for i in my_list]"
      ]
    },
    {
      "cell_type": "code",
      "metadata": {
        "colab_type": "code",
        "outputId": "71c26337-0136-4db4-c755-3e5d285fe46b",
        "id": "C4QHuIrudMPi",
        "colab": {
          "base_uri": "https://localhost:8080/",
          "height": 35
        }
      },
      "source": [
        "#Additionner des listes résulte en une concaténation\n",
        "my_list+[4, 5]"
      ],
      "execution_count": 0,
      "outputs": [
        {
          "output_type": "execute_result",
          "data": {
            "text/plain": [
              "[1, 3, 5, 7, 4, 5]"
            ]
          },
          "metadata": {
            "tags": []
          },
          "execution_count": 285
        }
      ]
    },
    {
      "cell_type": "code",
      "metadata": {
        "colab_type": "code",
        "outputId": "41b0acc1-24a4-44a6-dca9-ff91c5cb8295",
        "id": "ZYKKmLuGdMPk",
        "colab": {
          "base_uri": "https://localhost:8080/",
          "height": 35
        }
      },
      "source": [
        "#Naturellement, la multiplication résulte en une multiple concaténation\n",
        "my_list*2, [0]*10"
      ],
      "execution_count": 0,
      "outputs": [
        {
          "output_type": "execute_result",
          "data": {
            "text/plain": [
              "([1, 3, 5, 7, 1, 3, 5, 7], [0, 0, 0, 0, 0, 0, 0, 0, 0, 0])"
            ]
          },
          "metadata": {
            "tags": []
          },
          "execution_count": 286
        }
      ]
    },
    {
      "cell_type": "code",
      "metadata": {
        "colab_type": "code",
        "outputId": "74521f35-d43e-4796-9ac2-a2fdc042fbc7",
        "id": "5zPlIwfddMPl",
        "colab": {
          "base_uri": "https://localhost:8080/",
          "height": 35
        }
      },
      "source": [
        "#On peut modifier les éléments d'une liste (on dit que c'est un objet mutable)\n",
        "my_list[0] = 42\n",
        "my_list"
      ],
      "execution_count": 0,
      "outputs": [
        {
          "output_type": "execute_result",
          "data": {
            "text/plain": [
              "[42, 3, 5, 7]"
            ]
          },
          "metadata": {
            "tags": []
          },
          "execution_count": 320
        }
      ]
    },
    {
      "cell_type": "code",
      "metadata": {
        "colab_type": "code",
        "id": "gnr4rZgkdMPn",
        "colab": {}
      },
      "source": [
        "#On ne peut pas additionner un entier à une liste\n",
        "#my_list + 4"
      ],
      "execution_count": 0,
      "outputs": []
    },
    {
      "cell_type": "code",
      "metadata": {
        "colab_type": "code",
        "outputId": "dd8403ec-c7c1-4ef2-89b8-ac095a2c2fbc",
        "id": "dZKQ4anxdMPo",
        "colab": {
          "base_uri": "https://localhost:8080/",
          "height": 35
        }
      },
      "source": [
        "#Pour réaliser une opération sur chaque élément d'une liste, on peut utiliser une boucle for\n",
        "\n",
        "#%%timeit\n",
        "\n",
        "my_list_plus_4 = [0]*len(my_list)\n",
        "\n",
        "for i in range(len(my_list)):\n",
        "  my_list_plus_4[i] = my_list[i] + 4\n",
        "\n",
        "my_list_plus_4\n",
        "\n"
      ],
      "execution_count": 0,
      "outputs": [
        {
          "output_type": "execute_result",
          "data": {
            "text/plain": [
              "[3, 6, 7, -3, 9, 0, 6, 12, -52, 13, 9.3, -0.5]"
            ]
          },
          "metadata": {
            "tags": []
          },
          "execution_count": 60
        }
      ]
    },
    {
      "cell_type": "code",
      "metadata": {
        "colab_type": "code",
        "outputId": "daa218f0-7ecd-4fc2-d77c-be5ce1a2d131",
        "id": "lukH-ujldMPq",
        "colab": {
          "base_uri": "https://localhost:8080/",
          "height": 52
        }
      },
      "source": [
        "#Ou\n",
        "\n",
        "#%%timeit\n",
        "\n",
        "my_list_plus_4 = [] #liste vide\n",
        "\n",
        "for item in my_list:\n",
        "  my_list_plus_4.append(item + 4)\n",
        "  \n",
        "my_list_plus_4  "
      ],
      "execution_count": 0,
      "outputs": [
        {
          "output_type": "stream",
          "text": [
            "The slowest run took 4.88 times longer than the fastest. This could mean that an intermediate result is being cached.\n",
            "1000000 loops, best of 3: 338 ns per loop\n"
          ],
          "name": "stdout"
        }
      ]
    },
    {
      "cell_type": "code",
      "metadata": {
        "colab_type": "code",
        "outputId": "e837c752-7648-4306-bdc9-ac431b202f42",
        "id": "bhiq2Ge2dMPr",
        "colab": {
          "base_uri": "https://localhost:8080/",
          "height": 52
        }
      },
      "source": [
        "#On peut aussi utiliser une \"list-comprehension\": plus compacte, et plus rapide\n",
        "\n",
        "#%%timeit\n",
        "\n",
        "my_list_plus_4 = [i + 4 for i in my_list]\n",
        "my_list_plus_4"
      ],
      "execution_count": 0,
      "outputs": [
        {
          "output_type": "stream",
          "text": [
            "The slowest run took 10.47 times longer than the fastest. This could mean that an intermediate result is being cached.\n",
            "1000000 loops, best of 3: 329 ns per loop\n"
          ],
          "name": "stdout"
        }
      ]
    },
    {
      "cell_type": "code",
      "metadata": {
        "colab_type": "code",
        "outputId": "6c01ba1e-5a41-48ae-db3f-57e190f737e6",
        "id": "Mv-JRjYFdMPu",
        "colab": {
          "base_uri": "https://localhost:8080/",
          "height": 52
        }
      },
      "source": [
        "my_list = [-1, 2, 3, -7, 5, -4, 2, 8, -56, 9, 5.3, -4.5]\n",
        "\n",
        "#Remplacer les nombres négatifs par 0 ?\n",
        "zero_list = []\n",
        "for item in my_list:\n",
        "  if item < 0:\n",
        "    zero_list.append(0)\n",
        "  else:\n",
        "    zero_list.append(item)\n",
        "\n",
        "print('négatifs remplacés par 0:', zero_list)\n",
        "\n",
        "#Ou\n",
        "zero_list = [0 if item < 0 else item for item in my_list]\n",
        "\n",
        "print('négatifs remplacés par 0, bis:', zero_list)"
      ],
      "execution_count": 0,
      "outputs": [
        {
          "output_type": "stream",
          "text": [
            "négatifs remplacés par 0: [0, 2, 3, 0, 5, 0, 2, 8, 0, 9, 5.3, 0]\n",
            "négatifs remplacés par 0, bis: [0, 2, 3, 0, 5, 0, 2, 8, 0, 9, 5.3, 0]\n"
          ],
          "name": "stdout"
        }
      ]
    },
    {
      "cell_type": "code",
      "metadata": {
        "colab_type": "code",
        "outputId": "5cca8819-a413-4520-d08c-f62dd6a10fd7",
        "id": "pvouVh1JdMPw",
        "colab": {
          "base_uri": "https://localhost:8080/",
          "height": 35
        }
      },
      "source": [
        "#Eliminer les nombres négatifs ?\n",
        "positive_list = [item for item in my_list if item >= 0]\n",
        "print('négatifs éliminés:', positive_list)"
      ],
      "execution_count": 0,
      "outputs": [
        {
          "output_type": "stream",
          "text": [
            "négatifs éliminés: [2, 3, 5, 2, 8, 9, 5.3]\n"
          ],
          "name": "stdout"
        }
      ]
    },
    {
      "cell_type": "markdown",
      "metadata": {
        "colab_type": "text",
        "id": "wTBznGUrdMPx"
      },
      "source": [
        "## Les tuples\n",
        "* ce sont des listes immuables\n",
        "* A quoi ça sert ? => traitement plus rapide, moins de risque de confusion due à de multiple références d'un objet mutable\n",
        "* Certains traitements nécessitent des objets immuables et ne peuvent donc pas être utilisés avec des listes. E.g.: les clés d'un dictionnaires"
      ]
    },
    {
      "cell_type": "code",
      "metadata": {
        "colab_type": "code",
        "outputId": "8dbcda58-dce5-4046-92a8-d260d834b8bb",
        "id": "DpGw57sKdMPy",
        "colab": {
          "base_uri": "https://localhost:8080/",
          "height": 35
        }
      },
      "source": [
        "#L'utilisation de parenthèses permet de déclarer un tuple\n",
        "my_tuple = (1, 3, 5, my_string3)\n",
        "my_tuple"
      ],
      "execution_count": 0,
      "outputs": [
        {
          "output_type": "execute_result",
          "data": {
            "text/plain": [
              "(1, 3, 5, 'hello world!')"
            ]
          },
          "metadata": {
            "tags": []
          },
          "execution_count": 67
        }
      ]
    },
    {
      "cell_type": "code",
      "metadata": {
        "colab_type": "code",
        "outputId": "71760e0a-bf0f-4854-89b0-95a9267c66a7",
        "id": "XEZEZO0ldMPz",
        "colab": {
          "base_uri": "https://localhost:8080/",
          "height": 35
        }
      },
      "source": [
        "# Les parenthèses sont conventionnelles mais ne sont cependant pas nécessaires\n",
        "my_tuple = 1, 3, 5, my_string3\n",
        "my_tuple"
      ],
      "execution_count": 0,
      "outputs": [
        {
          "output_type": "execute_result",
          "data": {
            "text/plain": [
              "(1, 3, 5, 'hello world!')"
            ]
          },
          "metadata": {
            "tags": []
          },
          "execution_count": 68
        }
      ]
    },
    {
      "cell_type": "code",
      "metadata": {
        "colab_type": "code",
        "outputId": "d7e704d6-204a-464a-d5c2-a6a0ef592f14",
        "id": "kfHScQuRdMP1",
        "colab": {
          "base_uri": "https://localhost:8080/",
          "height": 35
        }
      },
      "source": [
        "my_tuple[0]"
      ],
      "execution_count": 0,
      "outputs": [
        {
          "output_type": "execute_result",
          "data": {
            "text/plain": [
              "1"
            ]
          },
          "metadata": {
            "tags": []
          },
          "execution_count": 69
        }
      ]
    },
    {
      "cell_type": "code",
      "metadata": {
        "colab_type": "code",
        "id": "L-9ZVBPFdMP4",
        "colab": {}
      },
      "source": [
        "#On ne peut pas modifier les éléments d'un tuple, on dit que c'est un \"objet immuable\" (immutable en anglais). La ligne suivante donne donc une erreur\n",
        "#my_tuple[0] = 2"
      ],
      "execution_count": 0,
      "outputs": []
    },
    {
      "cell_type": "code",
      "metadata": {
        "colab_type": "code",
        "id": "CMB9TWuedMP6",
        "colab": {}
      },
      "source": [
        "my_list = [-1, 2, 3, -7, 5, -4, 2, 8, -56, 9, 5.3, -4.5]\n",
        "my_tuple = tuple(my_list)"
      ],
      "execution_count": 0,
      "outputs": []
    },
    {
      "cell_type": "code",
      "metadata": {
        "colab_type": "code",
        "outputId": "3cc75ec0-579a-4ad0-c156-3eff6ed5a38e",
        "id": "2zgmYLaSdMP8",
        "colab": {
          "base_uri": "https://localhost:8080/",
          "height": 52
        }
      },
      "source": [
        "%timeit my_list = [-1, 2, 3, -7, 5, -4, 2, 8, -56, 9, 5.3, -4.5]\n",
        "%timeit my_tuple = (-1, 2, 3, -7, 5, -4, 2, 8, -56, 9, 5.3, -4.5)"
      ],
      "execution_count": 0,
      "outputs": [
        {
          "output_type": "stream",
          "text": [
            "10000000 loops, best of 3: 74.2 ns per loop\n",
            "100000000 loops, best of 3: 12 ns per loop\n"
          ],
          "name": "stdout"
        }
      ]
    },
    {
      "cell_type": "code",
      "metadata": {
        "colab_type": "code",
        "outputId": "b63d3f0f-c348-44fc-e9b6-74e147e9a992",
        "id": "DOG20LJddMP9",
        "colab": {
          "base_uri": "https://localhost:8080/",
          "height": 35
        }
      },
      "source": [
        "string1 = \"Salut\"\n",
        "string2 = string1\n",
        "string2"
      ],
      "execution_count": 0,
      "outputs": [
        {
          "output_type": "execute_result",
          "data": {
            "text/plain": [
              "'Salut'"
            ]
          },
          "metadata": {
            "tags": []
          },
          "execution_count": 303
        }
      ]
    },
    {
      "cell_type": "code",
      "metadata": {
        "colab_type": "code",
        "id": "czLleUxrdMP-",
        "colab": {}
      },
      "source": [
        "string2 = string2.lower()"
      ],
      "execution_count": 0,
      "outputs": []
    },
    {
      "cell_type": "code",
      "metadata": {
        "colab_type": "code",
        "outputId": "7fc8d502-1d70-434b-ff7d-3aa8445c48fb",
        "id": "i51zDtv8dMQA",
        "colab": {
          "base_uri": "https://localhost:8080/",
          "height": 35
        }
      },
      "source": [
        "string1"
      ],
      "execution_count": 0,
      "outputs": [
        {
          "output_type": "execute_result",
          "data": {
            "text/plain": [
              "'Salut'"
            ]
          },
          "metadata": {
            "tags": []
          },
          "execution_count": 306
        }
      ]
    },
    {
      "cell_type": "markdown",
      "metadata": {
        "id": "AycsAu2eMpUI",
        "colab_type": "text"
      },
      "source": [
        "## Les dictionnaires\n",
        "* Les dictionnaires sont des collection de données de type paire clé/valeur"
      ]
    },
    {
      "cell_type": "code",
      "metadata": {
        "id": "LPetWxyyMskg",
        "colab_type": "code",
        "outputId": "7db61d63-5389-4894-aabc-cbd0d331b329",
        "colab": {
          "base_uri": "https://localhost:8080/",
          "height": 191
        }
      },
      "source": [
        "my_dict = { \"Prénom\":\"Paul\", \"Nom\": \"Pasteur\", \"Adresse (GPS)\": (50.5,4.6), \"Adresse postale\": \"Rue de l'Eglise 4\", \"Enfants\":[ \"Jacques\", \"Raoul\", \"Roland\"], 1:my_float1 }\n",
        "print(my_dict)\n",
        "print(my_dict['Prénom'])\n",
        "\n",
        "#ajouter une paire clé/valeur:\n",
        "my_dict['Age'] = 42\n",
        "\n",
        "print(my_dict)\n",
        "\n",
        "for key in my_dict:\n",
        "  print(key, ' - ', my_dict[key])"
      ],
      "execution_count": 0,
      "outputs": [
        {
          "output_type": "stream",
          "text": [
            "{'Prénom': 'Paul', 'Nom': 'Pasteur', 'Adresse (GPS)': (50.5, 4.6), 'Adresse postale': \"Rue de l'Eglise 4\", 'Enfants': ['Jacques', 'Raoul', 'Roland'], 1: 4.2}\n",
            "Paul\n",
            "{'Prénom': 'Paul', 'Nom': 'Pasteur', 'Adresse (GPS)': (50.5, 4.6), 'Adresse postale': \"Rue de l'Eglise 4\", 'Enfants': ['Jacques', 'Raoul', 'Roland'], 1: 4.2, 'Age': 42}\n",
            "Prénom  -  Paul\n",
            "Nom  -  Pasteur\n",
            "Adresse (GPS)  -  (50.5, 4.6)\n",
            "Adresse postale  -  Rue de l'Eglise 4\n",
            "Enfants  -  ['Jacques', 'Raoul', 'Roland']\n",
            "1  -  4.2\n",
            "Age  -  42\n"
          ],
          "name": "stdout"
        }
      ]
    },
    {
      "cell_type": "code",
      "metadata": {
        "id": "STKjCBwHQPkW",
        "colab_type": "code",
        "outputId": "6a867985-fa84-4ed1-b383-fef7a32ecd18",
        "colab": {
          "base_uri": "https://localhost:8080/",
          "height": 35
        }
      },
      "source": [
        "is_string = [type(my_dict[key]) is str for key in my_dict]\n",
        "print(is_string)"
      ],
      "execution_count": 0,
      "outputs": [
        {
          "output_type": "stream",
          "text": [
            "[True, True, False, True, False, False, False]\n"
          ],
          "name": "stdout"
        }
      ]
    },
    {
      "cell_type": "markdown",
      "metadata": {
        "colab_type": "text",
        "id": "YSsjbGuactyF"
      },
      "source": [
        "## Les String sont des collections de données du même type\n",
        "* le string est une séquence (une collection ordonnée) de caractères\n",
        "* il existe de nombreuses méthodes spécifiques aux string"
      ]
    },
    {
      "cell_type": "code",
      "metadata": {
        "colab_type": "code",
        "outputId": "6945899f-8fb1-4924-be6b-b98b8b822162",
        "id": "2-dmeXrYctyD",
        "colab": {
          "base_uri": "https://localhost:8080/",
          "height": 87
        }
      },
      "source": [
        "my_fruit = \"Noix de coco\"\n",
        "\n",
        "print(my_fruit[0])\n",
        "\n",
        "#On peut convertir un string en une autre collection simple (e.g., une liste)\n",
        "print(list(my_fruit))\n",
        "\n",
        "print( my_fruit.lower() )\n",
        "\n",
        "print( my_fruit.split(' ') )"
      ],
      "execution_count": 0,
      "outputs": [
        {
          "output_type": "stream",
          "text": [
            "N\n",
            "['N', 'o', 'i', 'x', ' ', 'd', 'e', ' ', 'c', 'o', 'c', 'o']\n",
            "noix de coco\n",
            "['Noix', 'de', 'coco']\n"
          ],
          "name": "stdout"
        }
      ]
    },
    {
      "cell_type": "markdown",
      "metadata": {
        "colab_type": "text",
        "id": "gybv34UucZhL"
      },
      "source": [
        "## Un opérateur spécial: \"in\"\n",
        "* for i in [0,1,2,3]: itération sur chaque élément de la collection\n",
        "* if \"n\" in [\"n\",\"o\",\"i\",\"x\"]: permet de vérifier la condition qu'un élément soit dans une collection"
      ]
    },
    {
      "cell_type": "code",
      "metadata": {
        "colab_type": "code",
        "outputId": "08d6277a-3ba9-42d0-f0b3-d03c3dea06d1",
        "id": "MtMvGFkwctyB",
        "colab": {
          "base_uri": "https://localhost:8080/",
          "height": 52
        }
      },
      "source": [
        "fruit_list = ['Noix de coco','noix de cajou','pomme','noisette','noix de pécan']\n",
        "\n",
        "noix = []\n",
        "\n",
        "for fruit in fruit_list:\n",
        "  if 'noix' in fruit:\n",
        "    noix.append(fruit)\n",
        "\n",
        "print(noix)\n",
        "#Ou\n",
        "noix = [fruit for fruit in fruit_list if 'noix' in fruit]\n",
        "\n",
        "print(noix)"
      ],
      "execution_count": 0,
      "outputs": [
        {
          "output_type": "stream",
          "text": [
            "['noix de cajou', 'noix de pécan']\n",
            "['noix de cajou', 'noix de pécan']\n"
          ],
          "name": "stdout"
        }
      ]
    },
    {
      "cell_type": "markdown",
      "metadata": {
        "id": "B3OkhhW2zo-0",
        "colab_type": "text"
      },
      "source": [
        "# Un exemple concret: Natural Language Processing (NLP)"
      ]
    },
    {
      "cell_type": "code",
      "metadata": {
        "id": "HSTP6ffZzrY3",
        "colab_type": "code",
        "colab": {
          "base_uri": "https://localhost:8080/",
          "height": 69
        },
        "outputId": "5249360f-2634-485f-d416-753f78d6771f"
      },
      "source": [
        "#extract singular versions of words in text (defaults plurals and exceptions are used, but you can override default rules)\n",
        "def singulize(string, pluriels = None, exceptions = None):\n",
        "  \n",
        "  \"\"\"\n",
        "  Extract singular versions of words in text (defaults plurals and exceptions are used, but you can override default rules)\n",
        "  Default plurals: {'ois':'ois','s':'','eaux':'eau','aux':'al','x':''}\n",
        "  Default exceptions: {'os':'os','chacals':'chacal','souris':'souris','rabais':'rabais','prix':'prix', 'taux':'taux','rhinoceros':'rhinoceros','jus':'jus','noix':'noix','mais':'mais'}\n",
        "\n",
        "  \"\"\"\n",
        "\n",
        "  #singulize (french ad-hoc method...)\n",
        "  #règles du pluriel\n",
        "  if pluriels is None:\n",
        "      pluriels = {'ois':'ois','s':'','eaux':'eau','aux':'al','x':''}\n",
        "  #exceptions\n",
        "  if exceptions is None:\n",
        "      exceptions = {'os':'os','chacals':'chacal','souris':'souris','rabais':'rabais','prix':'prix', 'taux':'taux','rhinoceros':'rhinoceros','jus':'jus','noix':'noix','mais':'mais'}\n",
        "\n",
        "  def singulize_word(word):\n",
        "\n",
        "      if word in exceptions:\n",
        "\n",
        "          return exceptions[word]\n",
        "\n",
        "      isplural = [word.endswith(k) for k in pluriels]\n",
        "\n",
        "      if any(isplural):\n",
        "\n",
        "          #take first key\n",
        "          keyid = isplural.index(True)\n",
        "          key = list(pluriels)[keyid]\n",
        "\n",
        "          #to replace last occurence, we reverse all strings and replace first occurrence\n",
        "          return word[::-1].replace(key[::-1], pluriels[key][::-1], 1)[::-1]\n",
        "\n",
        "      return word\n",
        "\n",
        "  return ' '.join([singulize_word(word) for word in string.split()])\n",
        "\n",
        "\n",
        "\n",
        "#remove stopwords from text (defaults stopwords are used but you can override default rules)\n",
        "def remove_stopwords(string, stopwords = None):\n",
        "      \n",
        "  \"\"\"\n",
        "  Remove stopwords from text (defaults stopwords are used but you can override default rules)\n",
        "  Default stopwords: ['de','du','le','les','aux','la','des', 'a', 'une', 'un', 'au','d','l']\n",
        "  \"\"\"\n",
        "  #remove stopwords\n",
        "  if stopwords is None:\n",
        "      stopwords = ['de','du','le','les','aux','la','des', 'a', 'une', 'un', 'au','d','l']\n",
        "\n",
        "  string = string.replace(\"d'\",\"\")\n",
        "  string = string.replace(\"l'\",\"\")        \n",
        "  return ' '.join([word for word in string.split() if word not in (stopwords)])\n",
        "\n",
        "\n",
        "\n",
        "\n",
        "sentence1 = \"cake à la banane noix de cajou\"\n",
        "sentence2 = \"cakes aux bananes et aux noix de cajou\"\n",
        "\n",
        "sentence1 = singulize( remove_stopwords(sentence1) )\n",
        "sentence2 = singulize( remove_stopwords(sentence1) )\n",
        "\n",
        "print(sentence1)\n",
        "print(sentence2)\n",
        "\n",
        "if sentence1 == sentence2:\n",
        "  print(\"Les phrases sont identiques\")"
      ],
      "execution_count": 7,
      "outputs": [
        {
          "output_type": "stream",
          "text": [
            "cake à banane noix cajou\n",
            "cake à banane noix cajou\n",
            "Les phrases sont identiques\n"
          ],
          "name": "stdout"
        }
      ]
    },
    {
      "cell_type": "markdown",
      "metadata": {
        "colab_type": "text",
        "id": "5kYcqRGedMQM"
      },
      "source": [
        "#Objets\n"
      ]
    },
    {
      "cell_type": "markdown",
      "metadata": {
        "colab_type": "text",
        "id": "QIcduaIldMQM"
      },
      "source": [
        "## Objets de base: mutables et immuables"
      ]
    },
    {
      "cell_type": "code",
      "metadata": {
        "id": "QXr2Ps8WDzXd",
        "colab_type": "code",
        "outputId": "3d31c91c-b173-4056-bb9a-4c9e4695bf7a",
        "colab": {
          "base_uri": "https://localhost:8080/",
          "height": 52
        }
      },
      "source": [
        "#La plupart des types de base sont immuables (int, float, bool, string, tuple)\n",
        "\n",
        "my_int1 = 1\n",
        "#On crée une nouvelle étiquette (référence) vers l'objet 1\n",
        "my_int2 = my_int1\n",
        "\n",
        "print( id(my_int1) , id(my_int2) )\n",
        "\n",
        "#L'objet entier est immuable, donc lorsqu'on veut modifier my_int2, l'objet 1 n'est pas modifié en mémoire. A la place, l'étiquette \"my_int2\" est réassignée vers un nouvel objet en mémoire (en l'occurrence un objet de type entier et de valeur égale à 2)\n",
        "my_int2 += 1\n",
        "\n",
        "print( id(my_int1) , id(my_int2) )"
      ],
      "execution_count": 0,
      "outputs": [
        {
          "output_type": "stream",
          "text": [
            "10968800 10968800\n",
            "10968800 10968832\n"
          ],
          "name": "stdout"
        }
      ]
    },
    {
      "cell_type": "code",
      "metadata": {
        "colab_type": "code",
        "outputId": "bbe75fad-82c5-4e90-cbd8-8641b7a167b8",
        "id": "suUIFYWrdMQO",
        "colab": {
          "base_uri": "https://localhost:8080/",
          "height": 52
        }
      },
      "source": [
        "#Les liste sont des objets mutables, contrairement aux types de base et aux tuples\n",
        "\n",
        "\n",
        "my_list1 = [1,2,3,4]\n",
        "my_list2 = my_list1\n",
        "my_list2[0] = 0\n",
        "my_list2.append(5)\n",
        "\n",
        "print(my_list1,  my_list2)\n",
        "\n",
        "#En fait, la variable \"my_list1\" est une étiquette vers un objet (une liste dans ce cas) un mémoire. \"my_list2\" pointe vers le même objet.\n",
        "print(id(my_list1), id(my_list2))\n"
      ],
      "execution_count": 0,
      "outputs": [
        {
          "output_type": "stream",
          "text": [
            "[0, 2, 3, 4, 5] [0, 2, 3, 4, 5]\n",
            "139790268838664 139790268838664\n"
          ],
          "name": "stdout"
        }
      ]
    },
    {
      "cell_type": "code",
      "metadata": {
        "id": "VgA1AWxvFGiw",
        "colab_type": "code",
        "outputId": "a84c053b-fbb2-4664-8b73-0a9c81e49c81",
        "colab": {
          "base_uri": "https://localhost:8080/",
          "height": 52
        }
      },
      "source": [
        "my_list2 += [1]\n",
        "\n",
        "print(my_list1,  my_list2)\n",
        "print(id(my_list1), id(my_list2))"
      ],
      "execution_count": 0,
      "outputs": [
        {
          "output_type": "stream",
          "text": [
            "[0, 2, 3, 4, 5, 1] [0, 2, 3, 4, 5, 1]\n",
            "139790268838664 139790268838664\n"
          ],
          "name": "stdout"
        }
      ]
    },
    {
      "cell_type": "code",
      "metadata": {
        "id": "IQ6rOVx0Fa13",
        "colab_type": "code",
        "outputId": "ede9714a-fddd-4cc8-a9b4-0e456fb6fc2b",
        "colab": {
          "base_uri": "https://localhost:8080/",
          "height": 52
        }
      },
      "source": [
        "#Opérateur \"=\" : réassignation de la variable \"my_list2\" vers un autre objet\n",
        "my_list2 = [1]\n",
        "\n",
        "print(my_list1,  my_list2)\n",
        "print(id(my_list1), id(my_list2))"
      ],
      "execution_count": 0,
      "outputs": [
        {
          "output_type": "stream",
          "text": [
            "[0, 2, 3, 4, 5, 1] [1]\n",
            "139790268838664 139790268838856\n"
          ],
          "name": "stdout"
        }
      ]
    },
    {
      "cell_type": "code",
      "metadata": {
        "id": "CjVEeomEC_l4",
        "colab_type": "code",
        "outputId": "2f92a33b-e6b1-4f25-fb98-4c5d773e6fff",
        "colab": {
          "base_uri": "https://localhost:8080/",
          "height": 35
        }
      },
      "source": [
        "#Les dictionnaires sont aussi des objets mutables\n",
        "\n",
        "#Création d'un dictionnaire en utilisant des accolades {}\n",
        "my_dict1 = {'a':1,'b':2}\n",
        "\n",
        "#Nouvelle référence vers le même dictionnaire\n",
        "my_dict2 = my_dict1\n",
        "\n",
        "#Modification du dictionnaire\n",
        "my_dict2['c'] = 3\n",
        "\n",
        "print(my_dict1)"
      ],
      "execution_count": 0,
      "outputs": [
        {
          "output_type": "stream",
          "text": [
            "{'a': 1, 'b': 2, 'c': 3}\n"
          ],
          "name": "stdout"
        }
      ]
    },
    {
      "cell_type": "markdown",
      "metadata": {
        "id": "TkKuIgFDJ6DX",
        "colab_type": "text"
      },
      "source": [
        "## Les Classes\n",
        "* Les classes permettent de créer des nouveaux types d'objets\n"
      ]
    },
    {
      "cell_type": "code",
      "metadata": {
        "id": "KcRRQgU9DQ_7",
        "colab_type": "code",
        "outputId": "f84dc1a0-084d-45ca-b8c9-8a979c7c1217",
        "colab": {
          "base_uri": "https://localhost:8080/",
          "height": 87
        }
      },
      "source": [
        "# Type de données personnalisé ?\n",
        "\n",
        "\n",
        "class personne:\n",
        "  \n",
        "  #cette méthode est appelée par défaut lorsqu'on crée un nouvel objet (une instance) de cette classe\n",
        "  def __init__(self, prenom, nom, age):\n",
        "    \n",
        "    #On crée les attributs de la classe\n",
        "    self.prenom = prenom\n",
        "    self.nom = nom\n",
        "    self.age = age\n",
        "\n",
        "  #Les méthodes d'une classe sont des fonctions internes qui permettent d'effectuer des traitements qui peuvent faire intervenir les attributs de la classe\n",
        "  def display(self):\n",
        "    \n",
        "    print(\"Je m'appelle %s %s et j'ai %d ans\" % (self.prenom, self.nom, self.age))\n",
        "\n",
        "#On crée un nouvel objet de type personne\n",
        "paul = personne(\"Paul\",\"Pasteur\", 42)\n",
        "\n",
        "print( type(paul) )\n",
        "\n",
        "#On appelle une méthode de cet objet\n",
        "paul.display()\n",
        "\n",
        "#L'objet est mutable donc on crée ici une référence vers le même objet\n",
        "pierre = paul\n",
        "pierre.prenom = \"Pierre\"\n",
        "\n",
        "paul.display()\n",
        "pierre.display()\n",
        "\n"
      ],
      "execution_count": 0,
      "outputs": [
        {
          "output_type": "stream",
          "text": [
            "<class '__main__.personne'>\n",
            "Je m'appelle Paul Pasteur et j'ai 42 ans\n",
            "Je m'appelle Pierre Pasteur et j'ai 42 ans\n",
            "Je m'appelle Pierre Pasteur et j'ai 42 ans\n"
          ],
          "name": "stdout"
        }
      ]
    },
    {
      "cell_type": "code",
      "metadata": {
        "id": "CFrPne3YIvoo",
        "colab_type": "code",
        "outputId": "f3f65746-75c1-4d93-fa69-d448ea181fcd",
        "colab": {
          "base_uri": "https://localhost:8080/",
          "height": 52
        }
      },
      "source": [
        "#Pour créer une copie d'un objet mutable, on peut utiliser un module Python de base: copy.copy\n",
        "from copy import copy\n",
        "\n",
        "\n",
        "\n",
        "#On crée un nouvel objet de type personne\n",
        "paul = personne(\"Paul\",\"Pasteur\", 42)\n",
        "\n",
        "pierre = copy(paul)\n",
        "pierre.prenom = \"Pierre\"\n",
        "\n",
        "paul.display()\n",
        "pierre.display()"
      ],
      "execution_count": 0,
      "outputs": [
        {
          "output_type": "stream",
          "text": [
            "Je m'appelle Paul Pasteur et j'ai 42 ans\n",
            "Je m'appelle Pierre Pasteur et j'ai 42 ans\n"
          ],
          "name": "stdout"
        }
      ]
    },
    {
      "cell_type": "code",
      "metadata": {
        "id": "7oC7T_kpJw9P",
        "colab_type": "code",
        "outputId": "ddc45545-fca1-4ec5-8155-d2b36394cb5c",
        "colab": {
          "base_uri": "https://localhost:8080/",
          "height": 35
        }
      },
      "source": [
        "\n",
        "paul.job = \"pasteurisateur\"\n",
        "print(paul.job)"
      ],
      "execution_count": 0,
      "outputs": [
        {
          "output_type": "stream",
          "text": [
            "pasteurisateur\n"
          ],
          "name": "stdout"
        }
      ]
    },
    {
      "cell_type": "code",
      "metadata": {
        "id": "VXCnd9ddRgqC",
        "colab_type": "code",
        "outputId": "39dc2b72-d899-468f-9419-a789ad8ad10e",
        "colab": {
          "base_uri": "https://localhost:8080/",
          "height": 35
        }
      },
      "source": [
        "id(paul)"
      ],
      "execution_count": 0,
      "outputs": [
        {
          "output_type": "execute_result",
          "data": {
            "text/plain": [
              "139790258940280"
            ]
          },
          "metadata": {
            "tags": []
          },
          "execution_count": 127
        }
      ]
    }
  ]
}