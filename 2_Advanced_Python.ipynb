{
  "nbformat": 4,
  "nbformat_minor": 0,
  "metadata": {
    "colab": {
      "name": "2_Advanced_Python.ipynb",
      "version": "0.3.2",
      "provenance": [],
      "collapsed_sections": [],
      "toc_visible": true,
      "include_colab_link": true
    },
    "kernelspec": {
      "name": "python3",
      "display_name": "Python 3"
    }
  },
  "cells": [
    {
      "cell_type": "markdown",
      "metadata": {
        "id": "view-in-github",
        "colab_type": "text"
      },
      "source": [
        "<a href=\"https://colab.research.google.com/github/titsitits/UNamur_Python_Analytics/blob/master/2_Advanced_Python.ipynb\" target=\"_parent\"><img src=\"https://colab.research.google.com/assets/colab-badge.svg\" alt=\"Open In Colab\"/></a>"
      ]
    },
    {
      "cell_type": "markdown",
      "metadata": {
        "id": "DfQ-d2onvooo",
        "colab_type": "text"
      },
      "source": [
        "Mickaël Tits\n",
        "CETIC\n",
        "mickael.tits@cetic.be"
      ]
    },
    {
      "cell_type": "markdown",
      "metadata": {
        "id": "DO0zZ5fB6pC4",
        "colab_type": "text"
      },
      "source": [
        "# Gestion d'exceptions"
      ]
    },
    {
      "cell_type": "code",
      "metadata": {
        "id": "6hxrBp7L6-gm",
        "colab_type": "code",
        "colab": {
          "base_uri": "https://localhost:8080/",
          "height": 166
        },
        "outputId": "37737a5c-4b70-48a8-9c72-8ff96f63c928"
      },
      "source": [
        "infinity = 1/0"
      ],
      "execution_count": 40,
      "outputs": [
        {
          "output_type": "error",
          "ename": "ZeroDivisionError",
          "evalue": "ignored",
          "traceback": [
            "\u001b[0;31m---------------------------------------------------------------------------\u001b[0m",
            "\u001b[0;31mZeroDivisionError\u001b[0m                         Traceback (most recent call last)",
            "\u001b[0;32m<ipython-input-40-0fb4552e0bd7>\u001b[0m in \u001b[0;36m<module>\u001b[0;34m()\u001b[0m\n\u001b[0;32m----> 1\u001b[0;31m \u001b[0minfinity\u001b[0m \u001b[0;34m=\u001b[0m \u001b[0;36m1\u001b[0m\u001b[0;34m/\u001b[0m\u001b[0;36m0\u001b[0m\u001b[0;34m\u001b[0m\u001b[0;34m\u001b[0m\u001b[0m\n\u001b[0m",
            "\u001b[0;31mZeroDivisionError\u001b[0m: division by zero"
          ]
        }
      ]
    },
    {
      "cell_type": "code",
      "metadata": {
        "id": "CE7wwY086sYm",
        "colab_type": "code",
        "colab": {
          "base_uri": "https://localhost:8080/",
          "height": 72
        },
        "outputId": "26334bd2-49a3-4da0-da35-41fcaaf2506d"
      },
      "source": [
        "try:\n",
        "  infinity = 1/0\n",
        "except Exception as e:\n",
        "  print(e)\n",
        "  infinity = 10**1000\n",
        "  \n",
        "print(infinity)"
      ],
      "execution_count": 41,
      "outputs": [
        {
          "output_type": "stream",
          "text": [
            "division by zero\n",
            "10000000000000000000000000000000000000000000000000000000000000000000000000000000000000000000000000000000000000000000000000000000000000000000000000000000000000000000000000000000000000000000000000000000000000000000000000000000000000000000000000000000000000000000000000000000000000000000000000000000000000000000000000000000000000000000000000000000000000000000000000000000000000000000000000000000000000000000000000000000000000000000000000000000000000000000000000000000000000000000000000000000000000000000000000000000000000000000000000000000000000000000000000000000000000000000000000000000000000000000000000000000000000000000000000000000000000000000000000000000000000000000000000000000000000000000000000000000000000000000000000000000000000000000000000000000000000000000000000000000000000000000000000000000000000000000000000000000000000000000000000000000000000000000000000000000000000000000000000000000000000000000000000000000000000000000000000000000000000000000000000000000000000000000000000000000000000000\n"
          ],
          "name": "stdout"
        }
      ]
    },
    {
      "cell_type": "markdown",
      "metadata": {
        "id": "hjY_GjCKdm1i",
        "colab_type": "text"
      },
      "source": [
        "# Fonctions\n",
        "\n",
        "* Les fonctions permettent de rendre le code modulaire (on ne réécrit pas 50x la même chose)\n",
        "* \"return\" permet de renvoyer un résultat de la fonction et de sortir de la fonction"
      ]
    },
    {
      "cell_type": "code",
      "metadata": {
        "id": "Ni47Y48owqgD",
        "colab_type": "code",
        "colab": {
          "base_uri": "https://localhost:8080/",
          "height": 35
        },
        "outputId": "5766a741-88f4-4cb8-fa9e-6be62ac357c0"
      },
      "source": [
        "def factorial(n):\n",
        "  \n",
        "  \"\"\"\n",
        "  Cette fonction permet de calculer le factoriel de n\n",
        "  \"\"\"\n",
        "  \n",
        "  f = 1\n",
        "\n",
        "  for i in range(1,n+1): \n",
        "    f = f * i \n",
        "\n",
        "  return f\n",
        "\n",
        "print(factorial(2), factorial(3), factorial(20) )\n"
      ],
      "execution_count": 42,
      "outputs": [
        {
          "output_type": "stream",
          "text": [
            "2 6 2432902008176640000\n"
          ],
          "name": "stdout"
        }
      ]
    },
    {
      "cell_type": "markdown",
      "metadata": {
        "id": "B6NEo4XK33MQ",
        "colab_type": "text"
      },
      "source": [
        "* Les variables définies dans une fonction n'existe que lors de l'exécution de cette fonction\n",
        "* Les traitements effectués sur les variables ne sont valables que durant l'éxécution de la fonction"
      ]
    },
    {
      "cell_type": "code",
      "metadata": {
        "id": "DVsoh-Qp3h4p",
        "colab_type": "code",
        "colab": {
          "base_uri": "https://localhost:8080/",
          "height": 139
        },
        "outputId": "33dfdcf5-b6b7-4f50-b09b-0f001872912a"
      },
      "source": [
        "x = 1\n",
        "y = 2\n",
        "\n",
        "def my_function():  \n",
        "   \n",
        "  print('x inside function =', x) #utilise la variable définie en-dehors de la fonction  \n",
        "\n",
        "  try:\n",
        "    print(y)\n",
        "  except Exception as exc:\n",
        "    print(exc)\n",
        "  #print(y) #renvoie une erreur car une fonction locale du même nom est déclarée après  \n",
        "  y = 4\n",
        "  print('y inside function =', y) #imprime la variable locale\n",
        "  \n",
        "  z = 3 \n",
        "  print('z inside function =', z) #imprime la variable locale\n",
        "  \n",
        "\n",
        "my_function()\n",
        "\n",
        "\n",
        "print('x outside function =', x)\n",
        "print('y outside function =', y)\n",
        "try:\n",
        "  print(z)\n",
        "except Exception as exc:\n",
        "  print(exc)\n",
        "#print(z) # renvoie une erreur car la variable n'est pas définie en-dehors de la fonction\n",
        "\n"
      ],
      "execution_count": 43,
      "outputs": [
        {
          "output_type": "stream",
          "text": [
            "x inside function = 1\n",
            "local variable 'y' referenced before assignment\n",
            "y inside function = 4\n",
            "z inside function = 3\n",
            "x outside function = 1\n",
            "y outside function = 2\n",
            "name 'z' is not defined\n"
          ],
          "name": "stdout"
        }
      ]
    },
    {
      "cell_type": "markdown",
      "metadata": {
        "colab_type": "text",
        "id": "BvC5iZXocZu8"
      },
      "source": [
        "# Collections de données"
      ]
    },
    {
      "cell_type": "markdown",
      "metadata": {
        "colab_type": "text",
        "id": "P0kqmbEodMPS"
      },
      "source": [
        "## Les listes\n",
        "* Séquence (collection ordonnée) de données"
      ]
    },
    {
      "cell_type": "code",
      "metadata": {
        "colab_type": "code",
        "outputId": "7b3111e8-3ee9-4ac3-c236-b6b9ecd9ed7f",
        "id": "j7uHUigydMPT",
        "colab": {
          "base_uri": "https://localhost:8080/",
          "height": 35
        }
      },
      "source": [
        "#Pour déclarer une liste d'élément, on utilise des crochets []\n",
        "my_list = [1, 3, 5, 7]\n",
        "my_list"
      ],
      "execution_count": 44,
      "outputs": [
        {
          "output_type": "execute_result",
          "data": {
            "text/plain": [
              "[1, 3, 5, 7]"
            ]
          },
          "metadata": {
            "tags": []
          },
          "execution_count": 44
        }
      ]
    },
    {
      "cell_type": "code",
      "metadata": {
        "colab_type": "code",
        "outputId": "7682ad74-8bb5-4782-fee9-66785a380487",
        "id": "3aRsaLrZdMPW",
        "colab": {
          "base_uri": "https://localhost:8080/",
          "height": 35
        }
      },
      "source": [
        "# Une liste peut contenir différents types de données\n",
        "my_list2 = [3.14, 42, my_list, True, 'Hello World!']\n",
        "my_list2"
      ],
      "execution_count": 45,
      "outputs": [
        {
          "output_type": "execute_result",
          "data": {
            "text/plain": [
              "[3.14, 42, [1, 3, 5, 7], True, 'Hello World!']"
            ]
          },
          "metadata": {
            "tags": []
          },
          "execution_count": 45
        }
      ]
    },
    {
      "cell_type": "code",
      "metadata": {
        "colab_type": "code",
        "outputId": "02dc1b42-4f93-40bc-a2c2-85451cae7a84",
        "id": "EbTB1_PDdMPY",
        "colab": {
          "base_uri": "https://localhost:8080/",
          "height": 35
        }
      },
      "source": [
        "#La fonction len() permet de connaître la longueur d'une liste\n",
        "len(my_list)"
      ],
      "execution_count": 46,
      "outputs": [
        {
          "output_type": "execute_result",
          "data": {
            "text/plain": [
              "4"
            ]
          },
          "metadata": {
            "tags": []
          },
          "execution_count": 46
        }
      ]
    },
    {
      "cell_type": "markdown",
      "metadata": {
        "colab_type": "text",
        "id": "alcUwW-qdMPa"
      },
      "source": [
        "### Accès aux données d'une liste\n",
        "* L'opérateur [x] permet d'accéder aux éléments d'une liste\n",
        "* Attention: l'indexation commence à 0\n",
        "* Une erreur est renvoyée si l'indice est invalide\n",
        "* Un indice négatif démarre de la fin de la liste\n",
        "* Le symbole \":\" permet d'accéder à plusieurs éléments consécutifs"
      ]
    },
    {
      "cell_type": "code",
      "metadata": {
        "colab_type": "code",
        "outputId": "31d11470-fded-41e4-d2e4-6ffee32aaac8",
        "id": "_KOIt-wGdMPa",
        "colab": {
          "base_uri": "https://localhost:8080/",
          "height": 35
        }
      },
      "source": [
        "my_list[0]"
      ],
      "execution_count": 47,
      "outputs": [
        {
          "output_type": "execute_result",
          "data": {
            "text/plain": [
              "1"
            ]
          },
          "metadata": {
            "tags": []
          },
          "execution_count": 47
        }
      ]
    },
    {
      "cell_type": "code",
      "metadata": {
        "colab_type": "code",
        "outputId": "399342e5-d6f3-4d17-a0c2-5e886ebff8f7",
        "id": "h8pFOynCdMPc",
        "colab": {
          "base_uri": "https://localhost:8080/",
          "height": 35
        }
      },
      "source": [
        "my_list[2]"
      ],
      "execution_count": 48,
      "outputs": [
        {
          "output_type": "execute_result",
          "data": {
            "text/plain": [
              "5"
            ]
          },
          "metadata": {
            "tags": []
          },
          "execution_count": 48
        }
      ]
    },
    {
      "cell_type": "code",
      "metadata": {
        "colab_type": "code",
        "id": "sNkopBHkdMPd",
        "colab": {}
      },
      "source": [
        "#Une erreur est obtenue si l'indice est invalide\n",
        "#my_list[4]"
      ],
      "execution_count": 0,
      "outputs": []
    },
    {
      "cell_type": "code",
      "metadata": {
        "colab_type": "code",
        "outputId": "0da2568a-039b-484d-a058-5f73fa21df74",
        "id": "UcYHMIi-dMPf",
        "colab": {
          "base_uri": "https://localhost:8080/",
          "height": 35
        }
      },
      "source": [
        "#Un indice négatif part de la fin d'une liste\n",
        "my_list[-1], my_list[-2]"
      ],
      "execution_count": 50,
      "outputs": [
        {
          "output_type": "execute_result",
          "data": {
            "text/plain": [
              "(7, 5)"
            ]
          },
          "metadata": {
            "tags": []
          },
          "execution_count": 50
        }
      ]
    },
    {
      "cell_type": "code",
      "metadata": {
        "colab_type": "code",
        "outputId": "9b333747-93a0-4b1f-d74e-588b3d5c8c9e",
        "id": "OmfDUIgZdMPg",
        "colab": {
          "base_uri": "https://localhost:8080/",
          "height": 104
        }
      },
      "source": [
        "#On peut accéder à plusieurs éléments d'une liste en utilisant un colon (:)\n",
        "print(my_list[1:3]) #permet d'accéder aux éléments entre les indices 1 et 3 (3 exclu)\n",
        "print(my_list[1:]) #permet d'accéder aux élements à partir de l'indice 1 (jusqu'au dernier)\n",
        "print(my_list[:2]) #permet d'accéder aux éléments du premier jusqu'à l'indice 2\n",
        "print(my_list[:]) #permet d'accéder à tous les éléments\n",
        "print(my_list[1:4:2]) #permet d'accéder aux éléments de 1 à 4 (4 exclu) par pas de 2\n",
        "\n"
      ],
      "execution_count": 51,
      "outputs": [
        {
          "output_type": "stream",
          "text": [
            "[3, 5]\n",
            "[3, 5, 7]\n",
            "[1, 3]\n",
            "[1, 3, 5, 7]\n",
            "[3, 7]\n"
          ],
          "name": "stdout"
        }
      ]
    },
    {
      "cell_type": "markdown",
      "metadata": {
        "colab_type": "text",
        "id": "rod9JCbMdMPi"
      },
      "source": [
        "### Manipulation de listes\n",
        "* Addition (+) = concaténation: [1,2] + [3,4] = [1,2,3,4]\n",
        "* Multiplication (\\*) = multiple concaténation: [1,2]\\*2 = [1,2,1,2]\n",
        "* Opération élémentaire => compréhension de liste: [i*4 for i in my_list]"
      ]
    },
    {
      "cell_type": "code",
      "metadata": {
        "colab_type": "code",
        "outputId": "e25f73e4-0a65-4860-bc8e-4083c5189dc0",
        "id": "C4QHuIrudMPi",
        "colab": {
          "base_uri": "https://localhost:8080/",
          "height": 35
        }
      },
      "source": [
        "#Additionner des listes résulte en une concaténation\n",
        "my_list+[4, 5]"
      ],
      "execution_count": 52,
      "outputs": [
        {
          "output_type": "execute_result",
          "data": {
            "text/plain": [
              "[1, 3, 5, 7, 4, 5]"
            ]
          },
          "metadata": {
            "tags": []
          },
          "execution_count": 52
        }
      ]
    },
    {
      "cell_type": "code",
      "metadata": {
        "colab_type": "code",
        "outputId": "cf77162d-91f8-4719-8acd-e2776eddbb34",
        "id": "ZYKKmLuGdMPk",
        "colab": {
          "base_uri": "https://localhost:8080/",
          "height": 35
        }
      },
      "source": [
        "#Naturellement, la multiplication résulte en une multiple concaténation\n",
        "my_list*2, [0]*10"
      ],
      "execution_count": 53,
      "outputs": [
        {
          "output_type": "execute_result",
          "data": {
            "text/plain": [
              "([1, 3, 5, 7, 1, 3, 5, 7], [0, 0, 0, 0, 0, 0, 0, 0, 0, 0])"
            ]
          },
          "metadata": {
            "tags": []
          },
          "execution_count": 53
        }
      ]
    },
    {
      "cell_type": "code",
      "metadata": {
        "colab_type": "code",
        "outputId": "c76e178c-b883-4a55-8dd7-3fb9ef9014b4",
        "id": "5zPlIwfddMPl",
        "colab": {
          "base_uri": "https://localhost:8080/",
          "height": 35
        }
      },
      "source": [
        "#On peut modifier les éléments d'une liste (on dit que c'est un objet mutable)\n",
        "my_list[0] = 42\n",
        "my_list"
      ],
      "execution_count": 54,
      "outputs": [
        {
          "output_type": "execute_result",
          "data": {
            "text/plain": [
              "[42, 3, 5, 7]"
            ]
          },
          "metadata": {
            "tags": []
          },
          "execution_count": 54
        }
      ]
    },
    {
      "cell_type": "code",
      "metadata": {
        "colab_type": "code",
        "id": "gnr4rZgkdMPn",
        "colab": {}
      },
      "source": [
        "#On ne peut pas additionner un entier à une liste\n",
        "#my_list + 4"
      ],
      "execution_count": 0,
      "outputs": []
    },
    {
      "cell_type": "code",
      "metadata": {
        "colab_type": "code",
        "outputId": "2c75d65e-2f00-49c9-ebf8-7ffdb077a60a",
        "id": "dZKQ4anxdMPo",
        "colab": {
          "base_uri": "https://localhost:8080/",
          "height": 35
        }
      },
      "source": [
        "#Pour réaliser une opération sur chaque élément d'une liste, on peut utiliser une boucle for\n",
        "\n",
        "#%%timeit\n",
        "\n",
        "my_list_plus_4 = [0]*len(my_list)\n",
        "\n",
        "for i in range(len(my_list)):\n",
        "  my_list_plus_4[i] = my_list[i] + 4\n",
        "\n",
        "my_list_plus_4\n",
        "\n"
      ],
      "execution_count": 56,
      "outputs": [
        {
          "output_type": "execute_result",
          "data": {
            "text/plain": [
              "[46, 7, 9, 11]"
            ]
          },
          "metadata": {
            "tags": []
          },
          "execution_count": 56
        }
      ]
    },
    {
      "cell_type": "code",
      "metadata": {
        "colab_type": "code",
        "outputId": "ab4c6a29-bb5f-4ad8-af42-f14f87ec2a68",
        "id": "lukH-ujldMPq",
        "colab": {
          "base_uri": "https://localhost:8080/",
          "height": 35
        }
      },
      "source": [
        "#Ou\n",
        "\n",
        "#%%timeit\n",
        "\n",
        "my_list_plus_4 = [] #liste vide\n",
        "\n",
        "for item in my_list:\n",
        "  my_list_plus_4.append(item + 4)\n",
        "  \n",
        "my_list_plus_4  "
      ],
      "execution_count": 57,
      "outputs": [
        {
          "output_type": "execute_result",
          "data": {
            "text/plain": [
              "[46, 7, 9, 11]"
            ]
          },
          "metadata": {
            "tags": []
          },
          "execution_count": 57
        }
      ]
    },
    {
      "cell_type": "code",
      "metadata": {
        "colab_type": "code",
        "outputId": "8c6705bf-1533-4752-aefc-790af6b5cc53",
        "id": "bhiq2Ge2dMPr",
        "colab": {
          "base_uri": "https://localhost:8080/",
          "height": 35
        }
      },
      "source": [
        "#On peut aussi utiliser une \"list-comprehension\": plus compacte, et plus rapide\n",
        "\n",
        "#%%timeit\n",
        "\n",
        "my_list_plus_4 = [i + 4 for i in my_list]\n",
        "my_list_plus_4"
      ],
      "execution_count": 58,
      "outputs": [
        {
          "output_type": "execute_result",
          "data": {
            "text/plain": [
              "[46, 7, 9, 11]"
            ]
          },
          "metadata": {
            "tags": []
          },
          "execution_count": 58
        }
      ]
    },
    {
      "cell_type": "code",
      "metadata": {
        "colab_type": "code",
        "outputId": "3bdefe49-5f28-46dd-b481-53923faabca6",
        "id": "Mv-JRjYFdMPu",
        "colab": {
          "base_uri": "https://localhost:8080/",
          "height": 52
        }
      },
      "source": [
        "my_list = [-1, 2, 3, -7, 5, -4, 2, 8, -56, 9, 5.3, -4.5]\n",
        "\n",
        "#Remplacer les nombres négatifs par 0 ?\n",
        "zero_list = []\n",
        "for item in my_list:\n",
        "  if item < 0:\n",
        "    zero_list.append(0)\n",
        "  else:\n",
        "    zero_list.append(item)\n",
        "\n",
        "print('négatifs remplacés par 0:', zero_list)\n",
        "\n",
        "#Ou\n",
        "zero_list = [0 if item < 0 else item for item in my_list]\n",
        "\n",
        "print('négatifs remplacés par 0, bis:', zero_list)"
      ],
      "execution_count": 59,
      "outputs": [
        {
          "output_type": "stream",
          "text": [
            "négatifs remplacés par 0: [0, 2, 3, 0, 5, 0, 2, 8, 0, 9, 5.3, 0]\n",
            "négatifs remplacés par 0, bis: [0, 2, 3, 0, 5, 0, 2, 8, 0, 9, 5.3, 0]\n"
          ],
          "name": "stdout"
        }
      ]
    },
    {
      "cell_type": "code",
      "metadata": {
        "colab_type": "code",
        "outputId": "afab13cc-5158-43b2-80b9-2ff26a0692f4",
        "id": "pvouVh1JdMPw",
        "colab": {
          "base_uri": "https://localhost:8080/",
          "height": 35
        }
      },
      "source": [
        "#Eliminer les nombres négatifs ?\n",
        "positive_list = [item for item in my_list if item >= 0]\n",
        "print('négatifs éliminés:', positive_list)"
      ],
      "execution_count": 60,
      "outputs": [
        {
          "output_type": "stream",
          "text": [
            "négatifs éliminés: [2, 3, 5, 2, 8, 9, 5.3]\n"
          ],
          "name": "stdout"
        }
      ]
    },
    {
      "cell_type": "markdown",
      "metadata": {
        "colab_type": "text",
        "id": "wTBznGUrdMPx"
      },
      "source": [
        "## Les tuples\n",
        "* ce sont des listes immuables\n",
        "* A quoi ça sert ? => traitement plus rapide, moins de risque de confusion due à de multiple références d'un objet mutable\n",
        "* Certains traitements nécessitent des objets immuables et ne peuvent donc pas être utilisés avec des listes. E.g.: les clés d'un dictionnaires"
      ]
    },
    {
      "cell_type": "code",
      "metadata": {
        "colab_type": "code",
        "outputId": "0a010af4-3925-4fb8-dfa4-4c5fdcb81e3d",
        "id": "DpGw57sKdMPy",
        "colab": {
          "base_uri": "https://localhost:8080/",
          "height": 35
        }
      },
      "source": [
        "#L'utilisation de parenthèses permet de déclarer un tuple\n",
        "my_tuple = (1, 3, 5, 'Hello World!')\n",
        "my_tuple"
      ],
      "execution_count": 63,
      "outputs": [
        {
          "output_type": "execute_result",
          "data": {
            "text/plain": [
              "(1, 3, 5, 'Hello World!')"
            ]
          },
          "metadata": {
            "tags": []
          },
          "execution_count": 63
        }
      ]
    },
    {
      "cell_type": "code",
      "metadata": {
        "colab_type": "code",
        "outputId": "19015a5f-466a-4ef1-c69d-ec602e454097",
        "id": "XEZEZO0ldMPz",
        "colab": {
          "base_uri": "https://localhost:8080/",
          "height": 35
        }
      },
      "source": [
        "# Les parenthèses sont conventionnelles mais ne sont cependant pas nécessaires\n",
        "my_tuple = 1, 3, 5, 'Hello World!'\n",
        "my_tuple"
      ],
      "execution_count": 64,
      "outputs": [
        {
          "output_type": "execute_result",
          "data": {
            "text/plain": [
              "(1, 3, 5, 'Hello World!')"
            ]
          },
          "metadata": {
            "tags": []
          },
          "execution_count": 64
        }
      ]
    },
    {
      "cell_type": "code",
      "metadata": {
        "colab_type": "code",
        "outputId": "55e8f276-06fc-4447-c3bf-de60202b675f",
        "id": "kfHScQuRdMP1",
        "colab": {
          "base_uri": "https://localhost:8080/",
          "height": 35
        }
      },
      "source": [
        "my_tuple[0]"
      ],
      "execution_count": 65,
      "outputs": [
        {
          "output_type": "execute_result",
          "data": {
            "text/plain": [
              "1"
            ]
          },
          "metadata": {
            "tags": []
          },
          "execution_count": 65
        }
      ]
    },
    {
      "cell_type": "code",
      "metadata": {
        "colab_type": "code",
        "id": "L-9ZVBPFdMP4",
        "colab": {}
      },
      "source": [
        "#On ne peut pas modifier les éléments d'un tuple, on dit que c'est un \"objet immuable\" (immutable en anglais). La ligne suivante donne donc une erreur\n",
        "#my_tuple[0] = 2"
      ],
      "execution_count": 0,
      "outputs": []
    },
    {
      "cell_type": "code",
      "metadata": {
        "colab_type": "code",
        "id": "CMB9TWuedMP6",
        "colab": {}
      },
      "source": [
        "my_list = [-1, 2, 3, -7, 5, -4, 2, 8, -56, 9, 5.3, -4.5]\n",
        "my_tuple = tuple(my_list)"
      ],
      "execution_count": 0,
      "outputs": []
    },
    {
      "cell_type": "code",
      "metadata": {
        "colab_type": "code",
        "outputId": "ae9872f4-0ab1-433f-98ba-ae90f4c20eae",
        "id": "2zgmYLaSdMP8",
        "colab": {
          "base_uri": "https://localhost:8080/",
          "height": 52
        }
      },
      "source": [
        "%timeit my_list = [-1, 2, 3, -7, 5, -4, 2, 8, -56, 9, 5.3, -4.5]\n",
        "%timeit my_tuple = (-1, 2, 3, -7, 5, -4, 2, 8, -56, 9, 5.3, -4.5)"
      ],
      "execution_count": 67,
      "outputs": [
        {
          "output_type": "stream",
          "text": [
            "10000000 loops, best of 3: 76 ns per loop\n",
            "100000000 loops, best of 3: 12.1 ns per loop\n"
          ],
          "name": "stdout"
        }
      ]
    },
    {
      "cell_type": "code",
      "metadata": {
        "colab_type": "code",
        "outputId": "d165acdf-8688-4134-d730-58bba3d594f5",
        "id": "DOG20LJddMP9",
        "colab": {
          "base_uri": "https://localhost:8080/",
          "height": 35
        }
      },
      "source": [
        "string1 = \"Salut\"\n",
        "string2 = string1\n",
        "string2"
      ],
      "execution_count": 68,
      "outputs": [
        {
          "output_type": "execute_result",
          "data": {
            "text/plain": [
              "'Salut'"
            ]
          },
          "metadata": {
            "tags": []
          },
          "execution_count": 68
        }
      ]
    },
    {
      "cell_type": "code",
      "metadata": {
        "colab_type": "code",
        "id": "czLleUxrdMP-",
        "colab": {}
      },
      "source": [
        "string2 = string2.lower()"
      ],
      "execution_count": 0,
      "outputs": []
    },
    {
      "cell_type": "code",
      "metadata": {
        "colab_type": "code",
        "outputId": "a8ac32ea-fd21-48b2-cdce-471e8b31db91",
        "id": "i51zDtv8dMQA",
        "colab": {
          "base_uri": "https://localhost:8080/",
          "height": 35
        }
      },
      "source": [
        "string1"
      ],
      "execution_count": 70,
      "outputs": [
        {
          "output_type": "execute_result",
          "data": {
            "text/plain": [
              "'Salut'"
            ]
          },
          "metadata": {
            "tags": []
          },
          "execution_count": 70
        }
      ]
    },
    {
      "cell_type": "markdown",
      "metadata": {
        "id": "AycsAu2eMpUI",
        "colab_type": "text"
      },
      "source": [
        "## Les dictionnaires\n",
        "* Les dictionnaires sont des collection de données de type paire clé/valeur"
      ]
    },
    {
      "cell_type": "code",
      "metadata": {
        "id": "LPetWxyyMskg",
        "colab_type": "code",
        "colab": {}
      },
      "source": [
        "my_dict = { \"Prénom\":\"Paul\", \"Nom\": \"Pasteur\", \"Adresse (GPS)\": (50.5,4.6), \"Adresse postale\": \"Rue de l'Eglise 4\", \"Enfants\":[ \"Jacques\", \"Raoul\", \"Roland\"], 1:my_float1 }\n",
        "print(my_dict)\n",
        "print(my_dict['Prénom'])\n",
        "\n",
        "#ajouter une paire clé/valeur:\n",
        "my_dict['Age'] = 42\n",
        "\n",
        "print(my_dict)\n",
        "\n",
        "for key in my_dict:\n",
        "  print(key, ' - ', my_dict[key])"
      ],
      "execution_count": 0,
      "outputs": []
    },
    {
      "cell_type": "code",
      "metadata": {
        "id": "STKjCBwHQPkW",
        "colab_type": "code",
        "colab": {}
      },
      "source": [
        "is_string = [type(my_dict[key]) is str for key in my_dict]\n",
        "print(is_string)"
      ],
      "execution_count": 0,
      "outputs": []
    },
    {
      "cell_type": "markdown",
      "metadata": {
        "colab_type": "text",
        "id": "YSsjbGuactyF"
      },
      "source": [
        "## Les String sont des collections de données du même type\n",
        "* le string est une séquence (une collection ordonnée) de caractères\n",
        "* il existe de nombreuses méthodes spécifiques aux string"
      ]
    },
    {
      "cell_type": "code",
      "metadata": {
        "colab_type": "code",
        "id": "2-dmeXrYctyD",
        "colab": {}
      },
      "source": [
        "my_fruit = \"Noix de coco\"\n",
        "\n",
        "print(my_fruit[0])\n",
        "\n",
        "#On peut convertir un string en une autre collection simple (e.g., une liste)\n",
        "print(list(my_fruit))\n",
        "\n",
        "print( my_fruit.lower() )\n",
        "\n",
        "print( my_fruit.split(' ') )"
      ],
      "execution_count": 0,
      "outputs": []
    },
    {
      "cell_type": "markdown",
      "metadata": {
        "colab_type": "text",
        "id": "gybv34UucZhL"
      },
      "source": [
        "## Un opérateur spécial: \"in\"\n",
        "* for i in [0,1,2,3]: itération sur chaque élément de la collection\n",
        "* if \"n\" in [\"n\",\"o\",\"i\",\"x\"]: permet de vérifier la condition qu'un élément soit dans une collection"
      ]
    },
    {
      "cell_type": "code",
      "metadata": {
        "colab_type": "code",
        "id": "MtMvGFkwctyB",
        "colab": {}
      },
      "source": [
        "fruit_list = ['Noix de coco','noix de cajou','pomme','noisette','noix de pécan']\n",
        "\n",
        "noix = []\n",
        "\n",
        "for fruit in fruit_list:\n",
        "  if 'noix' in fruit:\n",
        "    noix.append(fruit)\n",
        "\n",
        "print(noix)\n",
        "#Ou\n",
        "noix = [fruit for fruit in fruit_list if 'noix' in fruit]\n",
        "\n",
        "print(noix)"
      ],
      "execution_count": 0,
      "outputs": []
    },
    {
      "cell_type": "markdown",
      "metadata": {
        "colab_type": "text",
        "id": "5kYcqRGedMQM"
      },
      "source": [
        "#Objets\n"
      ]
    },
    {
      "cell_type": "markdown",
      "metadata": {
        "colab_type": "text",
        "id": "QIcduaIldMQM"
      },
      "source": [
        "## Objets de base: mutables et immuables"
      ]
    },
    {
      "cell_type": "code",
      "metadata": {
        "id": "QXr2Ps8WDzXd",
        "colab_type": "code",
        "colab": {}
      },
      "source": [
        "#La plupart des types de base sont immuables (int, float, bool, string, tuple)\n",
        "\n",
        "my_int1 = 1\n",
        "#On crée une nouvelle étiquette (référence) vers l'objet 1\n",
        "my_int2 = my_int1\n",
        "\n",
        "print( id(my_int1) , id(my_int2) )\n",
        "\n",
        "#L'objet entier est immuable, donc lorsqu'on veut modifier my_int2, l'objet 1 n'est pas modifié en mémoire. A la place, l'étiquette \"my_int2\" est réassignée vers un nouvel objet en mémoire (en l'occurrence un objet de type entier et de valeur égale à 2)\n",
        "my_int2 += 1\n",
        "\n",
        "print( id(my_int1) , id(my_int2) )"
      ],
      "execution_count": 0,
      "outputs": []
    },
    {
      "cell_type": "code",
      "metadata": {
        "colab_type": "code",
        "id": "suUIFYWrdMQO",
        "colab": {}
      },
      "source": [
        "#Les liste sont des objets mutables, contrairement aux types de base et aux tuples\n",
        "\n",
        "\n",
        "my_list1 = [1,2,3,4]\n",
        "my_list2 = my_list1\n",
        "my_list2[0] = 0\n",
        "my_list2.append(5)\n",
        "\n",
        "print(my_list1,  my_list2)\n",
        "\n",
        "#En fait, la variable \"my_list1\" est une étiquette vers un objet (une liste dans ce cas) un mémoire. \"my_list2\" pointe vers le même objet.\n",
        "print(id(my_list1), id(my_list2))\n"
      ],
      "execution_count": 0,
      "outputs": []
    },
    {
      "cell_type": "code",
      "metadata": {
        "id": "VgA1AWxvFGiw",
        "colab_type": "code",
        "colab": {}
      },
      "source": [
        "my_list2 += [1]\n",
        "\n",
        "print(my_list1,  my_list2)\n",
        "print(id(my_list1), id(my_list2))"
      ],
      "execution_count": 0,
      "outputs": []
    },
    {
      "cell_type": "code",
      "metadata": {
        "id": "IQ6rOVx0Fa13",
        "colab_type": "code",
        "colab": {}
      },
      "source": [
        "#Opérateur \"=\" : réassignation de la variable \"my_list2\" vers un autre objet\n",
        "my_list2 = [1]\n",
        "\n",
        "print(my_list1,  my_list2)\n",
        "print(id(my_list1), id(my_list2))"
      ],
      "execution_count": 0,
      "outputs": []
    },
    {
      "cell_type": "code",
      "metadata": {
        "id": "CjVEeomEC_l4",
        "colab_type": "code",
        "outputId": "abf375df-69e9-4d40-de24-4f01b4b5b563",
        "colab": {
          "base_uri": "https://localhost:8080/",
          "height": 35
        }
      },
      "source": [
        "#Les dictionnaires sont aussi des objets mutables\n",
        "\n",
        "#Création d'un dictionnaire en utilisant des accolades {}\n",
        "my_dict1 = {'a':1,'b':2}\n",
        "\n",
        "#Nouvelle référence vers le même dictionnaire\n",
        "my_dict2 = my_dict1\n",
        "\n",
        "#Modification du dictionnaire\n",
        "my_dict2['c'] = 3\n",
        "\n",
        "print(my_dict1)"
      ],
      "execution_count": 83,
      "outputs": [
        {
          "output_type": "stream",
          "text": [
            "{'a': 1, 'b': 2, 'c': 3}\n"
          ],
          "name": "stdout"
        }
      ]
    },
    {
      "cell_type": "markdown",
      "metadata": {
        "id": "H_i4bLqo903Z",
        "colab_type": "text"
      },
      "source": [
        "## Attributs et méthodes\n",
        "* Chaque objet peut contenir des attributs, et des méthodes qui permettent de réaliser des instructions prenant en compte du contexte de l'objet (c'est-à-dire de ses attributs)"
      ]
    },
    {
      "cell_type": "code",
      "metadata": {
        "id": "v39LXlvq-4Ve",
        "colab_type": "code",
        "colab": {
          "base_uri": "https://localhost:8080/",
          "height": 1000
        },
        "outputId": "b88772c4-2e25-4e89-fcb9-bc392199f785"
      },
      "source": [
        "my_float = 4.2\n",
        "help(my_float)"
      ],
      "execution_count": 99,
      "outputs": [
        {
          "output_type": "stream",
          "text": [
            "Help on float object:\n",
            "\n",
            "class float(object)\n",
            " |  float(x) -> floating point number\n",
            " |  \n",
            " |  Convert a string or number to a floating point number, if possible.\n",
            " |  \n",
            " |  Methods defined here:\n",
            " |  \n",
            " |  __abs__(self, /)\n",
            " |      abs(self)\n",
            " |  \n",
            " |  __add__(self, value, /)\n",
            " |      Return self+value.\n",
            " |  \n",
            " |  __bool__(self, /)\n",
            " |      self != 0\n",
            " |  \n",
            " |  __divmod__(self, value, /)\n",
            " |      Return divmod(self, value).\n",
            " |  \n",
            " |  __eq__(self, value, /)\n",
            " |      Return self==value.\n",
            " |  \n",
            " |  __float__(self, /)\n",
            " |      float(self)\n",
            " |  \n",
            " |  __floordiv__(self, value, /)\n",
            " |      Return self//value.\n",
            " |  \n",
            " |  __format__(...)\n",
            " |      float.__format__(format_spec) -> string\n",
            " |      \n",
            " |      Formats the float according to format_spec.\n",
            " |  \n",
            " |  __ge__(self, value, /)\n",
            " |      Return self>=value.\n",
            " |  \n",
            " |  __getattribute__(self, name, /)\n",
            " |      Return getattr(self, name).\n",
            " |  \n",
            " |  __getformat__(...) from builtins.type\n",
            " |      float.__getformat__(typestr) -> string\n",
            " |      \n",
            " |      You probably don't want to use this function.  It exists mainly to be\n",
            " |      used in Python's test suite.\n",
            " |      \n",
            " |      typestr must be 'double' or 'float'.  This function returns whichever of\n",
            " |      'unknown', 'IEEE, big-endian' or 'IEEE, little-endian' best describes the\n",
            " |      format of floating point numbers used by the C type named by typestr.\n",
            " |  \n",
            " |  __getnewargs__(...)\n",
            " |  \n",
            " |  __gt__(self, value, /)\n",
            " |      Return self>value.\n",
            " |  \n",
            " |  __hash__(self, /)\n",
            " |      Return hash(self).\n",
            " |  \n",
            " |  __int__(self, /)\n",
            " |      int(self)\n",
            " |  \n",
            " |  __le__(self, value, /)\n",
            " |      Return self<=value.\n",
            " |  \n",
            " |  __lt__(self, value, /)\n",
            " |      Return self<value.\n",
            " |  \n",
            " |  __mod__(self, value, /)\n",
            " |      Return self%value.\n",
            " |  \n",
            " |  __mul__(self, value, /)\n",
            " |      Return self*value.\n",
            " |  \n",
            " |  __ne__(self, value, /)\n",
            " |      Return self!=value.\n",
            " |  \n",
            " |  __neg__(self, /)\n",
            " |      -self\n",
            " |  \n",
            " |  __new__(*args, **kwargs) from builtins.type\n",
            " |      Create and return a new object.  See help(type) for accurate signature.\n",
            " |  \n",
            " |  __pos__(self, /)\n",
            " |      +self\n",
            " |  \n",
            " |  __pow__(self, value, mod=None, /)\n",
            " |      Return pow(self, value, mod).\n",
            " |  \n",
            " |  __radd__(self, value, /)\n",
            " |      Return value+self.\n",
            " |  \n",
            " |  __rdivmod__(self, value, /)\n",
            " |      Return divmod(value, self).\n",
            " |  \n",
            " |  __repr__(self, /)\n",
            " |      Return repr(self).\n",
            " |  \n",
            " |  __rfloordiv__(self, value, /)\n",
            " |      Return value//self.\n",
            " |  \n",
            " |  __rmod__(self, value, /)\n",
            " |      Return value%self.\n",
            " |  \n",
            " |  __rmul__(self, value, /)\n",
            " |      Return value*self.\n",
            " |  \n",
            " |  __round__(...)\n",
            " |      Return the Integral closest to x, rounding half toward even.\n",
            " |      When an argument is passed, work like built-in round(x, ndigits).\n",
            " |  \n",
            " |  __rpow__(self, value, mod=None, /)\n",
            " |      Return pow(value, self, mod).\n",
            " |  \n",
            " |  __rsub__(self, value, /)\n",
            " |      Return value-self.\n",
            " |  \n",
            " |  __rtruediv__(self, value, /)\n",
            " |      Return value/self.\n",
            " |  \n",
            " |  __setformat__(...) from builtins.type\n",
            " |      float.__setformat__(typestr, fmt) -> None\n",
            " |      \n",
            " |      You probably don't want to use this function.  It exists mainly to be\n",
            " |      used in Python's test suite.\n",
            " |      \n",
            " |      typestr must be 'double' or 'float'.  fmt must be one of 'unknown',\n",
            " |      'IEEE, big-endian' or 'IEEE, little-endian', and in addition can only be\n",
            " |      one of the latter two if it appears to match the underlying C reality.\n",
            " |      \n",
            " |      Override the automatic determination of C-level floating point type.\n",
            " |      This affects how floats are converted to and from binary strings.\n",
            " |  \n",
            " |  __str__(self, /)\n",
            " |      Return str(self).\n",
            " |  \n",
            " |  __sub__(self, value, /)\n",
            " |      Return self-value.\n",
            " |  \n",
            " |  __truediv__(self, value, /)\n",
            " |      Return self/value.\n",
            " |  \n",
            " |  __trunc__(...)\n",
            " |      Return the Integral closest to x between 0 and x.\n",
            " |  \n",
            " |  as_integer_ratio(...)\n",
            " |      float.as_integer_ratio() -> (int, int)\n",
            " |      \n",
            " |      Return a pair of integers, whose ratio is exactly equal to the original\n",
            " |      float and with a positive denominator.\n",
            " |      Raise OverflowError on infinities and a ValueError on NaNs.\n",
            " |      \n",
            " |      >>> (10.0).as_integer_ratio()\n",
            " |      (10, 1)\n",
            " |      >>> (0.0).as_integer_ratio()\n",
            " |      (0, 1)\n",
            " |      >>> (-.25).as_integer_ratio()\n",
            " |      (-1, 4)\n",
            " |  \n",
            " |  conjugate(...)\n",
            " |      Return self, the complex conjugate of any float.\n",
            " |  \n",
            " |  fromhex(...) from builtins.type\n",
            " |      float.fromhex(string) -> float\n",
            " |      \n",
            " |      Create a floating-point number from a hexadecimal string.\n",
            " |      >>> float.fromhex('0x1.ffffp10')\n",
            " |      2047.984375\n",
            " |      >>> float.fromhex('-0x1p-1074')\n",
            " |      -5e-324\n",
            " |  \n",
            " |  hex(...)\n",
            " |      float.hex() -> string\n",
            " |      \n",
            " |      Return a hexadecimal representation of a floating-point number.\n",
            " |      >>> (-0.1).hex()\n",
            " |      '-0x1.999999999999ap-4'\n",
            " |      >>> 3.14159.hex()\n",
            " |      '0x1.921f9f01b866ep+1'\n",
            " |  \n",
            " |  is_integer(...)\n",
            " |      Return True if the float is an integer.\n",
            " |  \n",
            " |  ----------------------------------------------------------------------\n",
            " |  Data descriptors defined here:\n",
            " |  \n",
            " |  imag\n",
            " |      the imaginary part of a complex number\n",
            " |  \n",
            " |  real\n",
            " |      the real part of a complex number\n",
            "\n"
          ],
          "name": "stdout"
        }
      ]
    },
    {
      "cell_type": "code",
      "metadata": {
        "id": "vTZI5h2I_bNP",
        "colab_type": "code",
        "colab": {
          "base_uri": "https://localhost:8080/",
          "height": 35
        },
        "outputId": "5bdfab22-ecbb-4748-c5bf-9b94e2d9133b"
      },
      "source": [
        "#Attributs d'un float\n",
        "print(my_float.real, my_float.imag)"
      ],
      "execution_count": 96,
      "outputs": [
        {
          "output_type": "stream",
          "text": [
            "4.2 0.0\n"
          ],
          "name": "stdout"
        }
      ]
    },
    {
      "cell_type": "code",
      "metadata": {
        "id": "gzyg0Bz9AdhG",
        "colab_type": "code",
        "colab": {
          "base_uri": "https://localhost:8080/",
          "height": 35
        },
        "outputId": "a4e2215e-2a33-417b-abc7-6a29613784e2"
      },
      "source": [
        "#Une méthode d'un float\n",
        "my_float = 4.0\n",
        "my_float.is_integer()"
      ],
      "execution_count": 102,
      "outputs": [
        {
          "output_type": "execute_result",
          "data": {
            "text/plain": [
              "True"
            ]
          },
          "metadata": {
            "tags": []
          },
          "execution_count": 102
        }
      ]
    },
    {
      "cell_type": "code",
      "metadata": {
        "id": "Pxaw816H-JTJ",
        "colab_type": "code",
        "colab": {
          "base_uri": "https://localhost:8080/",
          "height": 55
        },
        "outputId": "80076702-b5ee-489b-a0da-fa702034858a"
      },
      "source": [
        "print(dir(my_list))"
      ],
      "execution_count": 103,
      "outputs": [
        {
          "output_type": "stream",
          "text": [
            "['__add__', '__class__', '__contains__', '__delattr__', '__delitem__', '__dir__', '__doc__', '__eq__', '__format__', '__ge__', '__getattribute__', '__getitem__', '__gt__', '__hash__', '__iadd__', '__imul__', '__init__', '__init_subclass__', '__iter__', '__le__', '__len__', '__lt__', '__mul__', '__ne__', '__new__', '__reduce__', '__reduce_ex__', '__repr__', '__reversed__', '__rmul__', '__setattr__', '__setitem__', '__sizeof__', '__str__', '__subclasshook__', 'append', 'clear', 'copy', 'count', 'extend', 'index', 'insert', 'pop', 'remove', 'reverse', 'sort']\n"
          ],
          "name": "stdout"
        }
      ]
    },
    {
      "cell_type": "code",
      "metadata": {
        "id": "sTo6AQ6CBBvA",
        "colab_type": "code",
        "colab": {
          "base_uri": "https://localhost:8080/",
          "height": 35
        },
        "outputId": "ac7cd689-6b22-42a9-fc47-988cff85139e"
      },
      "source": [
        "my_list.index(2, 5)"
      ],
      "execution_count": 107,
      "outputs": [
        {
          "output_type": "execute_result",
          "data": {
            "text/plain": [
              "6"
            ]
          },
          "metadata": {
            "tags": []
          },
          "execution_count": 107
        }
      ]
    },
    {
      "cell_type": "markdown",
      "metadata": {
        "id": "TkKuIgFDJ6DX",
        "colab_type": "text"
      },
      "source": [
        "## Les Classes\n",
        "* Les classes permettent de créer des nouveaux types d'objets\n"
      ]
    },
    {
      "cell_type": "code",
      "metadata": {
        "id": "KcRRQgU9DQ_7",
        "colab_type": "code",
        "colab": {}
      },
      "source": [
        "# Type de données personnalisé ?\n",
        "\n",
        "\n",
        "class Personne: #Par convention, on donne généralement une majuscule aux identifiants des classes, pour les distinguer des fonctions\n",
        "  \n",
        "  #cette méthode est appelée par défaut lorsqu'on crée un nouvel objet (une instance) de cette classe\n",
        "  def __init__(self, prenom, nom, age):\n",
        "    \n",
        "    #On crée les attributs de la classe\n",
        "    self.prenom = prenom\n",
        "    self.nom = nom\n",
        "    self.age = age\n",
        "\n",
        "  #Les méthodes d'une classe sont des fonctions internes qui permettent d'effectuer des traitements qui peuvent faire intervenir les attributs de la classe\n",
        "  def display(self):\n",
        "    \n",
        "    print(\"Je m'appelle %s %s et j'ai %d ans\" % (self.prenom, self.nom, self.age))\n",
        "\n",
        "#On crée un nouvel objet de type personne\n",
        "paul = Personne(\"Paul\",\"Pasteur\", 42)\n",
        "\n",
        "print( type(paul) )\n",
        "\n",
        "#On appelle une méthode de cet objet\n",
        "paul.display()\n",
        "\n",
        "#L'objet est mutable donc on crée ici une référence vers le même objet\n",
        "pierre = paul\n",
        "pierre.prenom = \"Pierre\"\n",
        "\n",
        "paul.display()\n",
        "pierre.display()\n",
        "\n"
      ],
      "execution_count": 0,
      "outputs": []
    },
    {
      "cell_type": "code",
      "metadata": {
        "id": "CFrPne3YIvoo",
        "colab_type": "code",
        "colab": {}
      },
      "source": [
        "#Pour créer une copie d'un objet mutable, on peut utiliser un module Python de base: copy.copy\n",
        "from copy import copy\n",
        "\n",
        "\n",
        "\n",
        "#On crée un nouvel objet de type personne\n",
        "paul = personne(\"Paul\",\"Pasteur\", 42)\n",
        "\n",
        "pierre = copy(paul)\n",
        "pierre.prenom = \"Pierre\"\n",
        "\n",
        "paul.display()\n",
        "pierre.display()"
      ],
      "execution_count": 0,
      "outputs": []
    },
    {
      "cell_type": "code",
      "metadata": {
        "id": "7oC7T_kpJw9P",
        "colab_type": "code",
        "colab": {}
      },
      "source": [
        "\n",
        "paul.job = \"pasteurisateur\"\n",
        "print(paul.job)"
      ],
      "execution_count": 0,
      "outputs": []
    },
    {
      "cell_type": "code",
      "metadata": {
        "id": "VXCnd9ddRgqC",
        "colab_type": "code",
        "colab": {}
      },
      "source": [
        "id(paul)"
      ],
      "execution_count": 0,
      "outputs": []
    },
    {
      "cell_type": "markdown",
      "metadata": {
        "id": "B3OkhhW2zo-0",
        "colab_type": "text"
      },
      "source": [
        "# Un exemple concret: un peu de Natural Language Processing (NLP), et de nutrition"
      ]
    },
    {
      "cell_type": "code",
      "metadata": {
        "id": "HSTP6ffZzrY3",
        "colab_type": "code",
        "colab": {
          "base_uri": "https://localhost:8080/",
          "height": 139
        },
        "outputId": "7ac4c509-9429-4c86-d555-5f8352a0f91c"
      },
      "source": [
        "#extract singular versions of words in text (defaults plurals and exceptions are used, but you can override default rules)\n",
        "def singulize(string, pluriels = None, exceptions = None):\n",
        "  \n",
        "  \"\"\"\n",
        "  Extract singular versions of words in text (defaults plurals and exceptions are used, but you can override default rules)\n",
        "  Default plurals: {'ois':'ois','s':'','eaux':'eau','aux':'al','x':''}\n",
        "  Default exceptions: {'os':'os','chacals':'chacal','souris':'souris','rabais':'rabais','prix':'prix', 'taux':'taux','rhinoceros':'rhinoceros','jus':'jus','noix':'noix','mais':'mais'}\n",
        "\n",
        "  \"\"\"\n",
        "\n",
        "  #singulize (french ad-hoc method...)\n",
        "  #règles du pluriel\n",
        "  if pluriels is None:\n",
        "      pluriels = {'ois':'ois','s':'','eaux':'eau','aux':'al','x':''}\n",
        "  #exceptions\n",
        "  if exceptions is None:\n",
        "      exceptions = {'os':'os','chacals':'chacal','souris':'souris','rabais':'rabais','prix':'prix', 'taux':'taux','rhinoceros':'rhinoceros','jus':'jus','noix':'noix','mais':'mais', 'chips':'chips'}\n",
        "\n",
        "  def singulize_word(word):\n",
        "\n",
        "      if word in exceptions:\n",
        "\n",
        "          return exceptions[word]\n",
        "\n",
        "      isplural = [word.endswith(k) for k in pluriels]\n",
        "\n",
        "      if any(isplural):\n",
        "\n",
        "          #take first key\n",
        "          keyid = isplural.index(True)\n",
        "          key = list(pluriels)[keyid]\n",
        "\n",
        "          #to replace last occurence, we reverse all strings and replace first occurrence\n",
        "          return word[::-1].replace(key[::-1], pluriels[key][::-1], 1)[::-1]\n",
        "\n",
        "      return word\n",
        "\n",
        "  return ' '.join([singulize_word(word) for word in string.split()])\n",
        "\n",
        "\n",
        "\n",
        "#remove stopwords from text (defaults stopwords are used but you can override default rules)\n",
        "def remove_stopwords(string, stopwords = None):\n",
        "      \n",
        "  \"\"\"\n",
        "  Remove stopwords from text (defaults stopwords are used but you can override default rules)\n",
        "  Default stopwords: ['de','du','le','les','aux','la','des', 'a', 'une', 'un', 'au','d','l']\n",
        "  \"\"\"\n",
        "  #remove stopwords\n",
        "  if stopwords is None:\n",
        "      stopwords = ['de','du','le','les','aux','la','des', 'a', 'à', 'une', 'un', 'au','d','l']\n",
        "\n",
        "  string = string.replace(\"d'\",\"\")\n",
        "  string = string.replace(\"l'\",\"\")        \n",
        "  return ' '.join([word for word in string.split() if word not in (stopwords)])\n",
        "\n",
        "\n",
        "\n",
        "class Aliment:\n",
        "  \n",
        "\n",
        "  def __init__(self, nom, poids, calories_per_100g):\n",
        "    \n",
        "    self.nom = nom\n",
        "    self.poids = poids\n",
        "    self.cal = calories_per_100g\n",
        "    \n",
        "    self.simplify_name()\n",
        "\n",
        "  def simplify_name(self):\n",
        "    \n",
        "    self.nom = singulize( remove_stopwords(self.nom) )\n",
        "    self.nom = self.nom.capitalize()\n",
        "    \n",
        "  def totcal(self):\n",
        "    \n",
        "    return self.poids*self.cal/100\n",
        "  \n",
        "  def display(self):\n",
        "    \n",
        "    print(\"%s: %d cal/100g, %d g, calories totales: %d\" % (self.nom, self.cal, self.poids, self.totcal()) )\n",
        "\n",
        "\n",
        "sentence1 = \"cake à la banane noix de cajou\"\n",
        "sentence2 = \"cakes aux bananes et aux noix de cajou\"\n",
        "\n",
        "sentence1 = singulize( remove_stopwords(sentence1) )\n",
        "sentence2 = singulize( remove_stopwords(sentence1) )\n",
        "\n",
        "\n",
        "\n",
        "print(sentence1)\n",
        "print(sentence2)\n",
        "\n",
        "if sentence1 == sentence2:\n",
        "  print(\"Les phrases sont identiques\")\n",
        "  \n",
        "pomme = Aliment(\"des pommes\", poids = 150, calories_per_100g = 52)\n",
        "paquet_chips = Aliment(\"chips\", poids = 120, calories_per_100g = 536)\n",
        "cake = Aliment(sentence1, poids = 75, calories_per_100g = 320)\n",
        "\n",
        "\n",
        "pomme.display()\n",
        "paquet_chips.display()\n",
        "cake.display()\n",
        "\n",
        "aliments = [pomme, paquet_chips, cake]\n",
        "allcals = [item.totcal() for item in aliments]\n",
        "mincals = min(allcals)\n",
        "best = allcals.index(mincals)\n",
        "\n",
        "print(\"Aliment le plus léger:\", aliments[best].nom)"
      ],
      "execution_count": 121,
      "outputs": [
        {
          "output_type": "stream",
          "text": [
            "cake banane noix cajou\n",
            "cake banane noix cajou\n",
            "Les phrases sont identiques\n",
            "Pomme: 52 cal/100g, 150 g, calories totales: 78\n",
            "Chips: 536 cal/100g, 120 g, calories totales: 643\n",
            "Cake banane noix cajou: 320 cal/100g, 75 g, calories totales: 240\n",
            "Aliment le plus léger: Pomme\n"
          ],
          "name": "stdout"
        }
      ]
    },
    {
      "cell_type": "code",
      "metadata": {
        "id": "IzRWmR8XDHd6",
        "colab_type": "code",
        "colab": {}
      },
      "source": [
        ""
      ],
      "execution_count": 0,
      "outputs": []
    }
  ]
}