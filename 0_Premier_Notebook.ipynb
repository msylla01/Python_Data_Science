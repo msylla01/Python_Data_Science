{
  "nbformat": 4,
  "nbformat_minor": 0,
  "metadata": {
    "colab": {
      "name": "0_Premier_Notebook.ipynb",
      "version": "0.3.2",
      "provenance": [],
      "collapsed_sections": [],
      "toc_visible": true,
      "include_colab_link": true
    },
    "kernelspec": {
      "name": "python3",
      "display_name": "Python 3"
    }
  },
  "cells": [
    {
      "cell_type": "markdown",
      "metadata": {
        "id": "view-in-github",
        "colab_type": "text"
      },
      "source": [
        "<a href=\"https://colab.research.google.com/github/titsitits/UNamur_Python_Analytics/blob/master/0_Premier_Notebook.ipynb\" target=\"_parent\"><img src=\"https://colab.research.google.com/assets/colab-badge.svg\" alt=\"Open In Colab\"/></a>"
      ]
    },
    {
      "cell_type": "markdown",
      "metadata": {
        "id": "hyFc8lqvtknr",
        "colab_type": "text"
      },
      "source": [
        "# Notebooks iPython"
      ]
    },
    {
      "cell_type": "markdown",
      "metadata": {
        "id": "VZiE6Yz3oE_6",
        "colab_type": "text"
      },
      "source": [
        "Pour exécuter une cellule de code, sélectionner la cellule et :\n",
        "* appuyer sur le bouton ![Texte alternatif…](https://raw.githubusercontent.com/titsitits/UNamur_Python_Analytics/master/Images/button1.jpg) apparaissant à gauche\n",
        "* ou utiliser le raccourcis Maj+Enter (ou Ctrl+Enter pour rester sur la cellule après exécution)\n",
        "\n"
      ]
    },
    {
      "cell_type": "code",
      "metadata": {
        "id": "49BULEwsn3G4",
        "colab_type": "code",
        "outputId": "12f9c244-ce68-497b-a841-f016eac57e32",
        "colab": {
          "base_uri": "https://localhost:8080/",
          "height": 35
        }
      },
      "source": [
        "hello = 'Hello World!'\n",
        "print(hello)"
      ],
      "execution_count": 0,
      "outputs": [
        {
          "output_type": "stream",
          "text": [
            "Hello World!\n"
          ],
          "name": "stdout"
        }
      ]
    },
    {
      "cell_type": "markdown",
      "metadata": {
        "id": "XhZ2PbyJp8sY",
        "colab_type": "text"
      },
      "source": [
        "Pour ajouter une cellule, utiliser les boutons de contrôle du menu principal:\n",
        "\n",
        "![Texte alternatif…](https://raw.githubusercontent.com/titsitits/UNamur_Python_Analytics/master/Images/menu1.jpg) \n",
        "\n",
        "ou le menu apparaissant sous une cellule existante:\n",
        "\n",
        "![Texte alternatif…](https://raw.githubusercontent.com/titsitits/UNamur_Python_Analytics/master/Images/menu2.jpg)"
      ]
    },
    {
      "cell_type": "code",
      "metadata": {
        "id": "Dlj-H8nAo6q1",
        "colab_type": "code",
        "colab": {}
      },
      "source": [
        ""
      ],
      "execution_count": 0,
      "outputs": []
    }
  ]
}