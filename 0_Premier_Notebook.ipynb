{
  "nbformat": 4,
  "nbformat_minor": 0,
  "metadata": {
    "colab": {
      "name": "0_Premier_Notebook.ipynb",
      "provenance": [],
      "collapsed_sections": [],
      "toc_visible": true,
      "include_colab_link": true
    },
    "kernelspec": {
      "name": "python3",
      "display_name": "Python 3"
    }
  },
  "cells": [
    {
      "cell_type": "markdown",
      "metadata": {
        "id": "view-in-github",
        "colab_type": "text"
      },
      "source": [
        "<a href=\"https://colab.research.google.com/github/titsitits/Python_Data_Science/blob/master/0_Premier_Notebook.ipynb\" target=\"_parent\"><img src=\"https://colab.research.google.com/assets/colab-badge.svg\" alt=\"Open In Colab\"/></a>"
      ]
    },
    {
      "cell_type": "markdown",
      "metadata": {
        "id": "hyFc8lqvtknr",
        "colab_type": "text"
      },
      "source": [
        "# Notebooks iPython - Google Colab"
      ]
    },
    {
      "cell_type": "markdown",
      "metadata": {
        "id": "VZiE6Yz3oE_6",
        "colab_type": "text"
      },
      "source": [
        "Google Colab est un environnement permettant d'exécuter directement un **Notebook iPython**. Un Notebook est une série de **cellules de texte** (comme celle que vous êtes en train de lire), **ou de code Python** (comme la cellule suivante). Les cellules de code sont **interactives**: lorsque vous les lancez, elles réalisent le script ligne par ligne, et renvoient directement les résultats en-dessous de la cellule. \n",
        "\n",
        "Lorsqu'une cellule de code est lancée, le code de la cellule est en fait envoyé à un **interpréteur Python**, c'est-à-dire un système qui va traduire le code en traitements sur des données informatiques.\n",
        "\n",
        "**Chaque cellule de code peut être exécutée individuellement, mais elles partagent toutes le même interpréteur.** L'interpréteur ne peut exécuter qu'une cellule de code à la fois. **Ainsi, si vous en lancez plusieurs en même temps, elles seront réalisées dans l'ordre dans lequel vous les avec lancées.**\n",
        "\n",
        "**Remarque importante: comme chaque cellule partage le même interpréteur, une variable créée dans une cellule sera accessible, et modifiable dans une autre cellule**. C'est ce qui rend intéressant l'utilisation du Notebook: l'exécution séquentielle des cellules permet de vérifier étape par étape, l'évolution des états d'un programme.\n",
        "\n",
        "Pour exécuter une cellule de code, sélectionner la cellule et :\n",
        "* appuyer sur le bouton ![Texte alternatif…](https://raw.githubusercontent.com/titsitits/UNamur_Python_Analytics/master/Images/button1.jpg) apparaissant à gauche\n",
        "* ou utiliser le raccourcis Shift+Enter (ou Ctrl+Enter pour rester sur la cellule après exécution)\n",
        "\n"
      ]
    },
    {
      "cell_type": "code",
      "metadata": {
        "id": "49BULEwsn3G4",
        "colab_type": "code",
        "outputId": "2262508e-564a-4c20-c18c-0d0233762ebf",
        "colab": {
          "base_uri": "https://localhost:8080/",
          "height": 35
        }
      },
      "source": [
        "hello = 'Hello World!'\n",
        "print(hello)"
      ],
      "execution_count": 2,
      "outputs": [
        {
          "output_type": "stream",
          "text": [
            "Hello World!\n"
          ],
          "name": "stdout"
        }
      ]
    },
    {
      "cell_type": "code",
      "metadata": {
        "id": "RAzJLnByXw5r",
        "colab_type": "code",
        "colab": {
          "base_uri": "https://localhost:8080/",
          "height": 35
        },
        "outputId": "62840c7c-2a41-4764-8f2e-d460adc22099"
      },
      "source": [
        "print(hello, 'Bonjour le monde!')"
      ],
      "execution_count": 3,
      "outputs": [
        {
          "output_type": "stream",
          "text": [
            "Hello World! Bonjour le monde!\n"
          ],
          "name": "stdout"
        }
      ]
    },
    {
      "cell_type": "markdown",
      "metadata": {
        "id": "XhZ2PbyJp8sY",
        "colab_type": "text"
      },
      "source": [
        "Pour ajouter une cellule, utiliser les boutons de contrôle du menu principal:\n",
        "\n",
        "![Texte alternatif…](https://raw.githubusercontent.com/titsitits/UNamur_Python_Analytics/master/Images/notebook0_image1.png) \n",
        "\n",
        "ou le menu apparaissant sous une cellule existante:\n",
        "\n",
        "![Texte alternatif…](https://raw.githubusercontent.com/titsitits/UNamur_Python_Analytics/master/Images/notebook0_image2.png)"
      ]
    },
    {
      "cell_type": "markdown",
      "metadata": {
        "id": "Hiq4Pkiw-z9B",
        "colab_type": "text"
      },
      "source": [
        "Pour plus de détails sur Colab, voir [ici](https://colab.research.google.com/notebooks/basic_features_overview.ipynb)."
      ]
    },
    {
      "cell_type": "markdown",
      "metadata": {
        "id": "-Q3oDl6tX931",
        "colab_type": "text"
      },
      "source": [
        "Vous pouvez maintenant retourner vers la page principale du cours: https://github.com/titsitits/Python_Data_Science\n",
        "\n",
        "Ou passez directement au [Chapitre 1: Introduction au langage de programmation Python](https://colab.research.google.com/github/titsitits/UNamur_Python_Analytics/blob/master/1_Introduction.ipynb)\n",
        "\n",
        "Bonne lecture!"
      ]
    }
  ]
}