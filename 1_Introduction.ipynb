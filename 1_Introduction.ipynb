{
  "nbformat": 4,
  "nbformat_minor": 0,
  "metadata": {
    "colab": {
      "name": "1_Introduction.ipynb",
      "version": "0.3.2",
      "provenance": [],
      "collapsed_sections": [],
      "toc_visible": true,
      "include_colab_link": true
    },
    "kernelspec": {
      "name": "python3",
      "display_name": "Python 3"
    }
  },
  "cells": [
    {
      "cell_type": "markdown",
      "metadata": {
        "id": "view-in-github",
        "colab_type": "text"
      },
      "source": [
        "<a href=\"https://colab.research.google.com/github/titsitits/UNamur_Python_Analytics/blob/master/1_Introduction.ipynb\" target=\"_parent\"><img src=\"https://colab.research.google.com/assets/colab-badge.svg\" alt=\"Open In Colab\"/></a>"
      ]
    },
    {
      "cell_type": "markdown",
      "metadata": {
        "id": "DfQ-d2onvooo",
        "colab_type": "text"
      },
      "source": [
        "Mickaël Tits\n",
        "CETIC\n",
        "mickael.tits@cetic.be"
      ]
    },
    {
      "cell_type": "markdown",
      "metadata": {
        "id": "QL889EyHjniU",
        "colab_type": "text"
      },
      "source": [
        "#Instructions\n",
        "\n",
        "* Les instructions permettent de commander l'interpréteur Python, c'est-à-dire un système qui comprend les instructions et les traduit en traitements sur des données binaires.\n",
        "* Par défaut, chaque ligne de code correspond à une instruction\n",
        "* Les instructions sont interprétées séquentiellement par l'interpréteur Python.\n",
        "* Il existe différents types d'instructions, telles que des assignations de variables, des appels de fonctions, des conditions, des boucles, etc. que nous allons voir ci-dessous.\n"
      ]
    },
    {
      "cell_type": "code",
      "metadata": {
        "id": "K9_3X5sYieOe",
        "colab_type": "code",
        "colab": {
          "base_uri": "https://localhost:8080/",
          "height": 35
        },
        "outputId": "a7ca69ae-6c44-4a3c-be24-d927501cdd26"
      },
      "source": [
        "#Assignation d'une variable\n",
        "variable = 3\n",
        "\n",
        "#Appel d'une fonction de base, \"print\", qui permet d'imprimer la variable dans la console\n",
        "print(variable)"
      ],
      "execution_count": 152,
      "outputs": [
        {
          "output_type": "stream",
          "text": [
            "3\n"
          ],
          "name": "stdout"
        }
      ]
    },
    {
      "cell_type": "code",
      "metadata": {
        "id": "bTU1o58Pik_s",
        "colab_type": "code",
        "colab": {
          "base_uri": "https://localhost:8080/",
          "height": 35
        },
        "outputId": "acacae16-75be-409a-954e-8cbba4199030"
      },
      "source": [
        "#plusieurs instructions sur une seule ligne, avec le symbole ;\n",
        "a = 1; b = 2; c = 3\n",
        "\n",
        "#Une instruction sur plusieurs lignes, avec le symbole \\\n",
        "print(a + b \\\n",
        "     + c)"
      ],
      "execution_count": 179,
      "outputs": [
        {
          "output_type": "stream",
          "text": [
            "6\n"
          ],
          "name": "stdout"
        }
      ]
    },
    {
      "cell_type": "code",
      "metadata": {
        "id": "wF6q5rvmjEKi",
        "colab_type": "code",
        "colab": {}
      },
      "source": [
        "#Oups: variable2 n'existe pas\n",
        "print(variable + \\\n",
        "     variable2)"
      ],
      "execution_count": 0,
      "outputs": []
    },
    {
      "cell_type": "code",
      "metadata": {
        "id": "4aRNFha3iyA7",
        "colab_type": "code",
        "colab": {
          "base_uri": "https://localhost:8080/",
          "height": 35
        },
        "outputId": "be3a147c-0aa5-4f2c-8fb3-5c582e33a169"
      },
      "source": [
        "variable2 = 5\n",
        "print(variable + \\\n",
        "     variable2)"
      ],
      "execution_count": 154,
      "outputs": [
        {
          "output_type": "stream",
          "text": [
            "8\n"
          ],
          "name": "stdout"
        }
      ]
    },
    {
      "cell_type": "code",
      "metadata": {
        "id": "EeasGouZi6ih",
        "colab_type": "code",
        "colab": {
          "base_uri": "https://localhost:8080/",
          "height": 35
        },
        "outputId": "eb069d0d-064f-4b3b-a685-710f3434f0bc"
      },
      "source": [
        "variable2"
      ],
      "execution_count": 153,
      "outputs": [
        {
          "output_type": "execute_result",
          "data": {
            "text/plain": [
              "5"
            ]
          },
          "metadata": {
            "tags": []
          },
          "execution_count": 153
        }
      ]
    },
    {
      "cell_type": "markdown",
      "metadata": {
        "id": "2DCdosyImaOy",
        "colab_type": "text"
      },
      "source": [
        "Les identifiants d'une variables s'écrivent en un mot, peuvent contenir des lettres, des nombres, et \"_\", mais ne peuvent pas commencer par un nombre. Ils ne peuvent pas contenir de symboles spéciaux tels que !, @, #, $, %."
      ]
    },
    {
      "cell_type": "code",
      "metadata": {
        "id": "dMkf4q_ojJDw",
        "colab_type": "code",
        "colab": {
          "base_uri": "https://localhost:8080/",
          "height": 131
        },
        "outputId": "ac9b5974-33ee-4018-d81b-b2259493b5de"
      },
      "source": [
        "_variable = 1\n",
        "#Oups: idantifiants invalides\n",
        "2variable = 1\n",
        "v@ri@ble = 1"
      ],
      "execution_count": 159,
      "outputs": [
        {
          "output_type": "error",
          "ename": "SyntaxError",
          "evalue": "ignored",
          "traceback": [
            "\u001b[0;36m  File \u001b[0;32m\"<ipython-input-159-8c15db36133b>\"\u001b[0;36m, line \u001b[0;32m3\u001b[0m\n\u001b[0;31m    2variable = 1\u001b[0m\n\u001b[0m            ^\u001b[0m\n\u001b[0;31mSyntaxError\u001b[0m\u001b[0;31m:\u001b[0m invalid syntax\n"
          ]
        }
      ]
    },
    {
      "cell_type": "code",
      "metadata": {
        "id": "p7qjS2-8jvps",
        "colab_type": "code",
        "colab": {
          "base_uri": "https://localhost:8080/",
          "height": 183
        },
        "outputId": "ecf810e4-027c-4df9-dff5-ed65c6059637"
      },
      "source": [
        "#Oups, j'ai redéfini une fonction de base\n",
        "print = 1\n",
        "print(\"salut\")\n"
      ],
      "execution_count": 175,
      "outputs": [
        {
          "output_type": "error",
          "ename": "TypeError",
          "evalue": "ignored",
          "traceback": [
            "\u001b[0;31m---------------------------------------------------------------------------\u001b[0m",
            "\u001b[0;31mTypeError\u001b[0m                                 Traceback (most recent call last)",
            "\u001b[0;32m<ipython-input-175-660405c7aec0>\u001b[0m in \u001b[0;36m<module>\u001b[0;34m()\u001b[0m\n\u001b[1;32m      1\u001b[0m \u001b[0mprint\u001b[0m \u001b[0;34m=\u001b[0m \u001b[0;36m1\u001b[0m\u001b[0;34m\u001b[0m\u001b[0;34m\u001b[0m\u001b[0m\n\u001b[0;32m----> 2\u001b[0;31m \u001b[0mprint\u001b[0m\u001b[0;34m(\u001b[0m\u001b[0;34m\"salut\"\u001b[0m\u001b[0;34m)\u001b[0m\u001b[0;34m\u001b[0m\u001b[0;34m\u001b[0m\u001b[0m\n\u001b[0m",
            "\u001b[0;31mTypeError\u001b[0m: 'int' object is not callable"
          ]
        }
      ]
    },
    {
      "cell_type": "code",
      "metadata": {
        "id": "mXfmu6GRkInd",
        "colab_type": "code",
        "colab": {}
      },
      "source": [
        "#supprimer une variable\n",
        "del print"
      ],
      "execution_count": 0,
      "outputs": []
    },
    {
      "cell_type": "code",
      "metadata": {
        "id": "-MPvYjdYkKTA",
        "colab_type": "code",
        "colab": {
          "base_uri": "https://localhost:8080/",
          "height": 35
        },
        "outputId": "120945b4-ce8e-4b1e-cf0e-2a5afe988378"
      },
      "source": [
        "print(\"salut\")"
      ],
      "execution_count": 177,
      "outputs": [
        {
          "output_type": "stream",
          "text": [
            "salut\n"
          ],
          "name": "stdout"
        }
      ]
    },
    {
      "cell_type": "code",
      "metadata": {
        "id": "Cw-8UJdPkx-Z",
        "colab_type": "code",
        "colab": {
          "base_uri": "https://localhost:8080/",
          "height": 131
        },
        "outputId": "5c4f7f52-677b-400e-b572-c494560d5cf1"
      },
      "source": [
        "#Oups, j'ai utilisé un mot-clé comme nom de variable\n",
        "del = 1"
      ],
      "execution_count": 178,
      "outputs": [
        {
          "output_type": "error",
          "ename": "SyntaxError",
          "evalue": "ignored",
          "traceback": [
            "\u001b[0;36m  File \u001b[0;32m\"<ipython-input-178-521f61ecd265>\"\u001b[0;36m, line \u001b[0;32m1\u001b[0m\n\u001b[0;31m    del = 1\u001b[0m\n\u001b[0m        ^\u001b[0m\n\u001b[0;31mSyntaxError\u001b[0m\u001b[0;31m:\u001b[0m invalid syntax\n"
          ]
        }
      ]
    },
    {
      "cell_type": "markdown",
      "metadata": {
        "id": "j02sjwqOttpj",
        "colab_type": "text"
      },
      "source": [
        "# Types de données de base"
      ]
    },
    {
      "cell_type": "markdown",
      "metadata": {
        "id": "OJe8qc_Qiipc",
        "colab_type": "text"
      },
      "source": [
        "* Booléen (bool): True, False\n",
        "* Nombre entier (int): -42, 0, 1, 42, 1000\n",
        "* Nombre décimal à virgule flottante (float): 42.0, 3.14, -0.01\n",
        "* Chaîne de caractères (string): \"Hello World!\" ou 'Hello World!' ou \"\"\"Hello World!\"\"\" ou '''Hello World!'''"
      ]
    },
    {
      "cell_type": "markdown",
      "metadata": {
        "id": "topa9bZ1_LzX",
        "colab_type": "text"
      },
      "source": [
        "## Assignation dynamique\n",
        "* Pas besoin de définir le type d'une variable, l'interpréteur Python comprend tout seul"
      ]
    },
    {
      "cell_type": "code",
      "metadata": {
        "id": "fQpdYIbDwZ6J",
        "colab_type": "code",
        "colab": {}
      },
      "source": [
        "my_int = 3\n",
        "my_float = 1.23\n",
        "my_bool = True\n",
        "my_string = \"hello world\""
      ],
      "execution_count": 0,
      "outputs": []
    },
    {
      "cell_type": "code",
      "metadata": {
        "id": "MDN_RjvEwnQx",
        "colab_type": "code",
        "outputId": "a896f42f-4a40-46ae-b971-1b7894b45ede",
        "colab": {
          "base_uri": "https://localhost:8080/",
          "height": 35
        }
      },
      "source": [
        "my_int, my_float, my_bool, my_string"
      ],
      "execution_count": 2,
      "outputs": [
        {
          "output_type": "execute_result",
          "data": {
            "text/plain": [
              "(3, 1.23, True, 'hello world')"
            ]
          },
          "metadata": {
            "tags": []
          },
          "execution_count": 2
        }
      ]
    },
    {
      "cell_type": "code",
      "metadata": {
        "id": "8yOIDVQ3wtzx",
        "colab_type": "code",
        "outputId": "e0fe2b56-ccc4-4993-8043-504d49a1391e",
        "colab": {
          "base_uri": "https://localhost:8080/",
          "height": 35
        }
      },
      "source": [
        "type(my_string)"
      ],
      "execution_count": 3,
      "outputs": [
        {
          "output_type": "execute_result",
          "data": {
            "text/plain": [
              "str"
            ]
          },
          "metadata": {
            "tags": []
          },
          "execution_count": 3
        }
      ]
    },
    {
      "cell_type": "markdown",
      "metadata": {
        "id": "62yQ85nk_H5Y",
        "colab_type": "text"
      },
      "source": [
        "## Assignation dynamique de type\n",
        "* On peut modifier dynamiquement le type des variables"
      ]
    },
    {
      "cell_type": "code",
      "metadata": {
        "id": "sExIWlgL-98I",
        "colab_type": "code",
        "colab": {
          "base_uri": "https://localhost:8080/",
          "height": 183
        },
        "outputId": "e2a9c5e0-7ef6-4785-9fc9-ade49ccf5f7f"
      },
      "source": [
        "my_string = 5.0\n",
        "type(my_string)"
      ],
      "execution_count": 163,
      "outputs": [
        {
          "output_type": "error",
          "ename": "TypeError",
          "evalue": "ignored",
          "traceback": [
            "\u001b[0;31m---------------------------------------------------------------------------\u001b[0m",
            "\u001b[0;31mTypeError\u001b[0m                                 Traceback (most recent call last)",
            "\u001b[0;32m<ipython-input-163-4661f541f130>\u001b[0m in \u001b[0;36m<module>\u001b[0;34m()\u001b[0m\n\u001b[1;32m      1\u001b[0m \u001b[0mmy_string\u001b[0m \u001b[0;34m=\u001b[0m \u001b[0;36m5.0\u001b[0m\u001b[0;34m\u001b[0m\u001b[0;34m\u001b[0m\u001b[0m\n\u001b[0;32m----> 2\u001b[0;31m \u001b[0mtype\u001b[0m\u001b[0;34m(\u001b[0m\u001b[0mmy_string\u001b[0m\u001b[0;34m)\u001b[0m\u001b[0;34m\u001b[0m\u001b[0;34m\u001b[0m\u001b[0m\n\u001b[0m",
            "\u001b[0;31mTypeError\u001b[0m: 'int' object is not callable"
          ]
        }
      ]
    },
    {
      "cell_type": "code",
      "metadata": {
        "id": "4VW52peNqBSu",
        "colab_type": "code",
        "colab": {}
      },
      "source": [
        "my_int1 = 1\n",
        "my_int2 = 3\n",
        "my_float1 = 4.2\n",
        "my_bool = True\n",
        "my_string1 = '5'\n",
        "my_string2 = '42'\n",
        "my_string3 = \"hello world!\"\n"
      ],
      "execution_count": 0,
      "outputs": []
    },
    {
      "cell_type": "code",
      "metadata": {
        "id": "JStVzuHmCgm4",
        "colab_type": "code",
        "colab": {
          "base_uri": "https://localhost:8080/",
          "height": 225
        },
        "outputId": "21e64e88-c8e5-479d-e759-e2deddb2dc2c"
      },
      "source": [
        "whos"
      ],
      "execution_count": 6,
      "outputs": [
        {
          "output_type": "stream",
          "text": [
            "Variable     Type     Data/Info\n",
            "-------------------------------\n",
            "my_bool      bool     True\n",
            "my_float     float    1.23\n",
            "my_float1    float    4.2\n",
            "my_int       int      3\n",
            "my_int1      int      1\n",
            "my_int2      int      3\n",
            "my_string    float    5.0\n",
            "my_string1   str      5\n",
            "my_string2   str      42\n",
            "my_string3   str      hello world!\n"
          ],
          "name": "stdout"
        }
      ]
    },
    {
      "cell_type": "markdown",
      "metadata": {
        "id": "erueK9u6w35g",
        "colab_type": "text"
      },
      "source": [
        "## Opérations de base"
      ]
    },
    {
      "cell_type": "code",
      "metadata": {
        "id": "91uAuVpbsm8I",
        "colab_type": "code",
        "outputId": "c76bfa98-0f29-4fcc-f6b4-5b25ad128dbd",
        "colab": {
          "base_uri": "https://localhost:8080/",
          "height": 35
        }
      },
      "source": [
        "#Operations sur un seul type de donnée\n",
        "print(my_int1 + my_int2,\\\n",
        "      111-69,\\\n",
        "      6*7,\\\n",
        "      (my_int1 + my_int2) * 10 + 2)"
      ],
      "execution_count": 32,
      "outputs": [
        {
          "output_type": "stream",
          "text": [
            "4 42 42 42\n"
          ],
          "name": "stdout"
        }
      ]
    },
    {
      "cell_type": "code",
      "metadata": {
        "id": "psumtjRGBFD3",
        "colab_type": "code",
        "colab": {
          "base_uri": "https://localhost:8080/",
          "height": 35
        },
        "outputId": "99bb24a1-d93f-4a73-8cbf-ff3c7d90e223"
      },
      "source": [
        "#Opération compatibles entre types différents (entier, float, booléen)\n",
        "print(my_int1 + my_float1,\\\n",
        "      my_float1 + my_bool,\\\n",
        "      (my_int1 + my_int2 - 3.5) * 5 / 2)"
      ],
      "execution_count": 33,
      "outputs": [
        {
          "output_type": "stream",
          "text": [
            "5.2 5.2 1.25\n"
          ],
          "name": "stdout"
        }
      ]
    },
    {
      "cell_type": "code",
      "metadata": {
        "id": "TIJAjY4eBhxg",
        "colab_type": "code",
        "colab": {
          "base_uri": "https://localhost:8080/",
          "height": 52
        },
        "outputId": "a4aa0c71-bc9d-418e-988e-64bdeb7585fd"
      },
      "source": [
        "#Exposant\n",
        "print(2 ** 42)\n",
        "#Modulo\n",
        "print(11%3)"
      ],
      "execution_count": 34,
      "outputs": [
        {
          "output_type": "stream",
          "text": [
            "4398046511104\n",
            "2\n"
          ],
          "name": "stdout"
        }
      ]
    },
    {
      "cell_type": "code",
      "metadata": {
        "id": "c-H_YAb3HcNB",
        "colab_type": "code",
        "colab": {
          "base_uri": "https://localhost:8080/",
          "height": 35
        },
        "outputId": "a88c1566-731d-4e3f-ac70-1d84e60b1bd9"
      },
      "source": [
        "#La division entière renvoie un float (contrairement au langage C)\n",
        "int(8)/int(3)"
      ],
      "execution_count": 35,
      "outputs": [
        {
          "output_type": "execute_result",
          "data": {
            "text/plain": [
              "2.6666666666666665"
            ]
          },
          "metadata": {
            "tags": []
          },
          "execution_count": 35
        }
      ]
    },
    {
      "cell_type": "code",
      "metadata": {
        "id": "OmUps4p3_16q",
        "colab_type": "code",
        "colab": {
          "base_uri": "https://localhost:8080/",
          "height": 35
        },
        "outputId": "141c1b1a-9f97-443d-ee40-8b6aeac46a7f"
      },
      "source": [
        "#Les opérations sur les strings sont des concaténation\n",
        "my_string2 * my_int2 + ', ' + my_string3 + \" Python is awesome.\""
      ],
      "execution_count": 45,
      "outputs": [
        {
          "output_type": "execute_result",
          "data": {
            "text/plain": [
              "'424242, hello world! Python is awesome.'"
            ]
          },
          "metadata": {
            "tags": []
          },
          "execution_count": 45
        }
      ]
    },
    {
      "cell_type": "code",
      "metadata": {
        "id": "mhBeoWyks8In",
        "colab_type": "code",
        "outputId": "3aa8e67f-def5-44cf-a340-2d875b0205d7",
        "colab": {
          "base_uri": "https://localhost:8080/",
          "height": 166
        }
      },
      "source": [
        "#Les opérations invalides renvoient une erreur (décommenter la ligne suivante pour tester)\n",
        "my_int1 + my_string1"
      ],
      "execution_count": 37,
      "outputs": [
        {
          "output_type": "error",
          "ename": "TypeError",
          "evalue": "ignored",
          "traceback": [
            "\u001b[0;31m---------------------------------------------------------------------------\u001b[0m",
            "\u001b[0;31mTypeError\u001b[0m                                 Traceback (most recent call last)",
            "\u001b[0;32m<ipython-input-37-4f5a116eafab>\u001b[0m in \u001b[0;36m<module>\u001b[0;34m()\u001b[0m\n\u001b[0;32m----> 1\u001b[0;31m \u001b[0mmy_int1\u001b[0m \u001b[0;34m+\u001b[0m \u001b[0mmy_string1\u001b[0m\u001b[0;34m\u001b[0m\u001b[0;34m\u001b[0m\u001b[0m\n\u001b[0m",
            "\u001b[0;31mTypeError\u001b[0m: unsupported operand type(s) for +: 'int' and 'str'"
          ]
        }
      ]
    },
    {
      "cell_type": "code",
      "metadata": {
        "id": "ogRkFXK5DNHP",
        "colab_type": "code",
        "colab": {
          "base_uri": "https://localhost:8080/",
          "height": 35
        },
        "outputId": "72a87293-58a6-4601-8835-c5a24e675b99"
      },
      "source": [
        "#Self-operation\n",
        "toto = 1\n",
        "toto += 100\n",
        "toto *= 2\n",
        "toto -= 76\n",
        "toto /= 3\n",
        "toto"
      ],
      "execution_count": 44,
      "outputs": [
        {
          "output_type": "execute_result",
          "data": {
            "text/plain": [
              "42.0"
            ]
          },
          "metadata": {
            "tags": []
          },
          "execution_count": 44
        }
      ]
    },
    {
      "cell_type": "markdown",
      "metadata": {
        "id": "qDeZyjk5uwPZ",
        "colab_type": "text"
      },
      "source": [
        "## Conversion de types (casting)"
      ]
    },
    {
      "cell_type": "code",
      "metadata": {
        "id": "mvy5DPPQs-P3",
        "colab_type": "code",
        "outputId": "6d4dc9ee-d899-45a5-83b0-45c5744eb550",
        "colab": {
          "base_uri": "https://localhost:8080/",
          "height": 35
        }
      },
      "source": [
        "str(my_int1) + my_string1"
      ],
      "execution_count": 50,
      "outputs": [
        {
          "output_type": "execute_result",
          "data": {
            "text/plain": [
              "'25'"
            ]
          },
          "metadata": {
            "tags": []
          },
          "execution_count": 50
        }
      ]
    },
    {
      "cell_type": "code",
      "metadata": {
        "id": "PGkQdMjktCfm",
        "colab_type": "code",
        "outputId": "024db193-ff08-45b6-d2f0-87788f7751da",
        "colab": {
          "base_uri": "https://localhost:8080/",
          "height": 35
        }
      },
      "source": [
        "my_int1 + int(my_string1)"
      ],
      "execution_count": 51,
      "outputs": [
        {
          "output_type": "execute_result",
          "data": {
            "text/plain": [
              "7"
            ]
          },
          "metadata": {
            "tags": []
          },
          "execution_count": 51
        }
      ]
    },
    {
      "cell_type": "code",
      "metadata": {
        "id": "FXxgS126Dxuo",
        "colab_type": "code",
        "colab": {
          "base_uri": "https://localhost:8080/",
          "height": 35
        },
        "outputId": "56516ad9-87a7-4e1b-e0bd-b65cb43f8613"
      },
      "source": [
        "print(  int(3.5)    ,\\\n",
        "        float(\"3.5\") ,\\\n",
        "        str(3.5)     ,\\\n",
        "        int(True)    ,\\\n",
        "        int(False)   ,\\\n",
        "        bool(4.2)    ,\\\n",
        "        bool(-2)     ,\\\n",
        "        bool(0)      )"
      ],
      "execution_count": 56,
      "outputs": [
        {
          "output_type": "stream",
          "text": [
            "3 3.5 3.5 1 0 True True False\n"
          ],
          "name": "stdout"
        }
      ]
    },
    {
      "cell_type": "markdown",
      "metadata": {
        "id": "dSYmLW86ODdZ",
        "colab_type": "text"
      },
      "source": [
        "# Conditions\n",
        "* test d'égalité: ==\n",
        "* test d'inégalité: !=\n",
        "* test de supériorité et infériorité stricte: > et <\n",
        "* inférieur/supérieur ou égal: <= et >=\n",
        "* conditions: if, elif, ..., elif, else"
      ]
    },
    {
      "cell_type": "code",
      "metadata": {
        "id": "e4WF9dj0OFa9",
        "colab_type": "code",
        "colab": {
          "base_uri": "https://localhost:8080/",
          "height": 35
        },
        "outputId": "94524ab6-8190-4174-d9c4-1ce322754e53"
      },
      "source": [
        "a = 42\n",
        "\n",
        "a == 42  ,\\\n",
        "a != 42  ,\\\n",
        "a > 3    ,\\\n",
        "a <= 42  ,\\\n",
        "a is 42  ,\\\n",
        "a is not 42"
      ],
      "execution_count": 148,
      "outputs": [
        {
          "output_type": "execute_result",
          "data": {
            "text/plain": [
              "(True, False, True, True, True, False)"
            ]
          },
          "metadata": {
            "tags": []
          },
          "execution_count": 148
        }
      ]
    },
    {
      "cell_type": "code",
      "metadata": {
        "id": "lEDJ4VzHRR-w",
        "colab_type": "code",
        "colab": {
          "base_uri": "https://localhost:8080/",
          "height": 69
        },
        "outputId": "4158d55c-696f-4386-8530-ddc327bfe314"
      },
      "source": [
        "print(not True)\n",
        "\n",
        "print((a > 41) and (a < 43))\n",
        "\n",
        "print((a == 42) or (a == 43))"
      ],
      "execution_count": 29,
      "outputs": [
        {
          "output_type": "stream",
          "text": [
            "False\n",
            "True\n",
            "True\n"
          ],
          "name": "stdout"
        }
      ]
    },
    {
      "cell_type": "markdown",
      "metadata": {
        "id": "X5eX1xPpPAVD",
        "colab_type": "text"
      },
      "source": [
        "* conditions en chaîne: if, else\n",
        "* Attention à l'**indentation** et au symbole **\":\"** ! Ce qui est indenté après le symbole \":\" dépend de la condition"
      ]
    },
    {
      "cell_type": "code",
      "metadata": {
        "id": "Ey0G8G1BOXvh",
        "colab_type": "code",
        "colab": {
          "base_uri": "https://localhost:8080/",
          "height": 52
        },
        "outputId": "412007d9-874c-45af-cf1b-58c69e11b23e"
      },
      "source": [
        "condition = True\n",
        "#condition = a == 43\n",
        "\n",
        "if condition:\n",
        "  print(\"C'est vrai!\")\n",
        "  \n",
        "if condition == True:\n",
        "  print(\"C'est vraiment vrai!\")\n",
        "  \n",
        "if condition == False:\n",
        "  print(\"C'est faux!\")\n",
        "  \n",
        "if not condition:\n",
        "  print(\"Ce n'est pas vrai!\")\n"
      ],
      "execution_count": 30,
      "outputs": [
        {
          "output_type": "stream",
          "text": [
            "C'est vrai!\n",
            "C'est vraiment vrai!\n"
          ],
          "name": "stdout"
        }
      ]
    },
    {
      "cell_type": "code",
      "metadata": {
        "id": "x1LfvyQ9eEXi",
        "colab_type": "code",
        "colab": {}
      },
      "source": [
        "condition = True\n",
        "#condition = a == 43\n",
        "\n",
        "if condition:\n",
        "  print(\"C'est vrai!\")  \n",
        "else:\n",
        "  print(\"Ce n'est pas vrai!\")"
      ],
      "execution_count": 0,
      "outputs": []
    },
    {
      "cell_type": "code",
      "metadata": {
        "id": "awQni_LeP30h",
        "colab_type": "code",
        "colab": {}
      },
      "source": [
        "a = -1\n",
        "\n",
        "if a < 0:\n",
        "  pass#sortie d'une condition\n",
        "elif a < 5:\n",
        "\tprint(\"a est plus petit que 5\")\n",
        "elif a <= 10:\n",
        "\tprint(\"a est plus petit ou égal à 10\")\n",
        "else:\n",
        "\tprint(\"a est plus grand que 10\")\n"
      ],
      "execution_count": 0,
      "outputs": []
    },
    {
      "cell_type": "markdown",
      "metadata": {
        "id": "akgy0WgBTPGH",
        "colab_type": "text"
      },
      "source": [
        "# Boucles\n",
        "* while: on continue tant qu'on respecte une condition\n",
        "* for: on boucle itérativement sur un ensemble d'éléments"
      ]
    },
    {
      "cell_type": "code",
      "metadata": {
        "id": "3aFkZPXaS4O5",
        "colab_type": "code",
        "colab": {
          "base_uri": "https://localhost:8080/",
          "height": 277
        },
        "outputId": "620ce613-996b-4ecd-8e2d-83ad67b0c928"
      },
      "source": [
        "\n",
        "count = 0\n",
        "while count < 5:\n",
        "\tprint(\"Je suis dans une boucle while depuis \" + str(count) + \" itérations\")\n",
        "\tcount += 1\n",
        "  \n",
        "\n",
        "count = 0\n",
        "while True:\n",
        "\t\n",
        "  count += 1\n",
        "  \n",
        "  if count == 5:\n",
        "    print(\"Ca fait déjà 5!\")\n",
        "    continue #continuer directement la suite de la boucle\n",
        "    \n",
        "  print(count)\n",
        "\n",
        "  if count >= 10:\n",
        "    break #sortie d'une boucle\n",
        "\n"
      ],
      "execution_count": 189,
      "outputs": [
        {
          "output_type": "stream",
          "text": [
            "Je suis dans une boucle while depuis 0 itérations\n",
            "Je suis dans une boucle while depuis 1 itérations\n",
            "Je suis dans une boucle while depuis 2 itérations\n",
            "Je suis dans une boucle while depuis 3 itérations\n",
            "Je suis dans une boucle while depuis 4 itérations\n",
            "1\n",
            "2\n",
            "3\n",
            "4\n",
            "Ca fait déjà 5!\n",
            "6\n",
            "7\n",
            "8\n",
            "9\n",
            "10\n"
          ],
          "name": "stdout"
        }
      ]
    },
    {
      "cell_type": "code",
      "metadata": {
        "id": "wJywAemKU39K",
        "colab_type": "code",
        "colab": {
          "base_uri": "https://localhost:8080/",
          "height": 104
        },
        "outputId": "9f2a33ba-50b0-4cd9-ce20-72bef7e89eb0"
      },
      "source": [
        "for i in range(0, 5):\n",
        "\n",
        "  print(\"Je suis à l'itération\", i)"
      ],
      "execution_count": 190,
      "outputs": [
        {
          "output_type": "stream",
          "text": [
            "Je suis à l'itération 0\n",
            "Je suis à l'itération 1\n",
            "Je suis à l'itération 2\n",
            "Je suis à l'itération 3\n",
            "Je suis à l'itération 4\n"
          ],
          "name": "stdout"
        }
      ]
    },
    {
      "cell_type": "code",
      "metadata": {
        "id": "HmUWZtO_ZKun",
        "colab_type": "code",
        "colab": {
          "base_uri": "https://localhost:8080/",
          "height": 52
        },
        "outputId": "6d8ac5c0-fa70-416f-ffe3-d76bab568268"
      },
      "source": [
        "#Estimation de pi: pi ~ 4*(1-1/3+1/5-1/7+1/9-...)\n",
        "\n",
        "\n",
        "k=3\n",
        "series=1\n",
        "\n",
        "for i in range(10):\n",
        "  \n",
        "    series = series - 1/k + 1/(k+2)\n",
        "    k+=4\n",
        "    \n",
        "    #estimations successives de pi\n",
        "    pi = 4*series\n",
        "    print(pi, end = ' ')\n",
        "\n",
        "print('')\n",
        "print(pi)"
      ],
      "execution_count": 191,
      "outputs": [
        {
          "output_type": "stream",
          "text": [
            "3.466666666666667 3.3396825396825403 3.2837384837384844 3.2523659347188767 3.232315809405594 3.2184027659273333 3.208185652261944 3.200365515409549 3.1941879092319425 3.189184782277596 \n",
            "3.189184782277596\n"
          ],
          "name": "stdout"
        }
      ]
    },
    {
      "cell_type": "markdown",
      "metadata": {
        "id": "71l9Dhjp-pdG",
        "colab_type": "text"
      },
      "source": [
        "# Attention à la syntaxe et à l'indentation !\n",
        "* L'interpréteur Python renvoie une erreur si la syntaxe n'est pas valide\n",
        "* L'indentation permet de contrôler le flux du code"
      ]
    },
    {
      "cell_type": "code",
      "metadata": {
        "id": "sYddNs_XAR3i",
        "colab_type": "code",
        "colab": {
          "base_uri": "https://localhost:8080/",
          "height": 131
        },
        "outputId": "380c3aec-7ee9-46d7-c955-d7e4a2cfdaad"
      },
      "source": [
        "#Une condition sans symbole \":\" et sans code indenté après est invalide\n",
        "toto = 1\n",
        "if toto < 42\n",
        "toto += 3\n",
        "\n",
        "print(toto)\n",
        "\n",
        "if toto < 42:\n",
        "  toto *= 10\n",
        "#Un code non-indenté entre un if et un else est invalide\n",
        "print(toto)\n",
        "else:\n",
        "  toto = toto - 2\n",
        "  \n",
        "for i in range(3)\n",
        "  \n",
        "  if toto+i == 42:\n",
        "    \n",
        "    #un retour à la ligne avant le fin d'une instruction est invalide. Le symbole \"\\\" permet de découper une instruction sur plusieurs lignes\n",
        "    print(toto,\n",
        "         toto+i)\n"
      ],
      "execution_count": 69,
      "outputs": [
        {
          "output_type": "error",
          "ename": "SyntaxError",
          "evalue": "ignored",
          "traceback": [
            "\u001b[0;36m  File \u001b[0;32m\"<ipython-input-69-1d6695aeb53c>\"\u001b[0;36m, line \u001b[0;32m2\u001b[0m\n\u001b[0;31m    if toto < 42\u001b[0m\n\u001b[0m                ^\u001b[0m\n\u001b[0;31mSyntaxError\u001b[0m\u001b[0;31m:\u001b[0m invalid syntax\n"
          ]
        }
      ]
    },
    {
      "cell_type": "code",
      "metadata": {
        "id": "egkbfRzhBMI_",
        "colab_type": "code",
        "colab": {
          "base_uri": "https://localhost:8080/",
          "height": 69
        },
        "outputId": "ae069811-bd2d-490e-e9d0-6a9a5641f9fb"
      },
      "source": [
        "#Une condition sans symbole \":\" et sans code indenté après est invalide\n",
        "toto = 1\n",
        "if toto < 42:\n",
        "  toto += 3\n",
        "\n",
        "print(toto)\n",
        "\n",
        "if toto < 42:\n",
        "  toto *= 10\n",
        "  #Un code non-indenté entre un if et un else est invalide\n",
        "  print(toto)\n",
        "else:\n",
        "  toto = toto - 2\n",
        "  \n",
        "for i in range(3):\n",
        "  \n",
        "  if toto+i == 42:\n",
        "    #un retour à la ligne avant le fin d'une instruction est invalide. Le symbole \"\\\" permet de découper une instruction sur plusieurs lignes\n",
        "    print(toto,\\\n",
        "         toto+i)\n"
      ],
      "execution_count": 70,
      "outputs": [
        {
          "output_type": "stream",
          "text": [
            "4\n",
            "40\n",
            "40 42\n"
          ],
          "name": "stdout"
        }
      ]
    },
    {
      "cell_type": "markdown",
      "metadata": {
        "id": "KG_PPSe9e1-M",
        "colab_type": "text"
      },
      "source": [
        "# Récapitulatif des mots-clés et types de données de base"
      ]
    },
    {
      "cell_type": "code",
      "metadata": {
        "id": "Y5t-fPt2e1G4",
        "colab_type": "code",
        "colab": {}
      },
      "source": [
        "#Types de base\n",
        "42 #entier\n",
        "4.2 #float\n",
        "'42' ou \"42\" #string\n",
        "True False #booléens\n",
        "\n",
        "#Opérateurs\n",
        "is\n",
        "in\n",
        "not\n",
        "and\n",
        "or\n",
        "\n",
        "#Boucles\n",
        "for\n",
        "while\n",
        "\n",
        "#Conditions\n",
        "if\n",
        "elif\n",
        "else\n",
        "\n",
        "pass\t#Sortie de condition \n",
        "break #sortie de boucle\n",
        "\n",
        "#Fonctions de base\n",
        "print\n",
        "range\n",
        "type\n",
        "\n",
        "#Fonctions de conversion de base\n",
        "int\n",
        "float\n",
        "bool\n",
        "str\n",
        "\n"
      ],
      "execution_count": 0,
      "outputs": []
    }
  ]
}