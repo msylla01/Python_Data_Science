{
  "nbformat": 4,
  "nbformat_minor": 0,
  "metadata": {
    "colab": {
      "name": "1_Introduction.ipynb",
      "version": "0.3.2",
      "provenance": [],
      "collapsed_sections": [
        "QL889EyHjniU",
        "j02sjwqOttpj",
        "erueK9u6w35g",
        "1g5ZK-F9qg-V",
        "eeAdHBHmrRzt",
        "Ia4gzC9V1NDZ",
        "KG_PPSe9e1-M"
      ],
      "toc_visible": true,
      "include_colab_link": true
    },
    "kernelspec": {
      "name": "python3",
      "display_name": "Python 3"
    }
  },
  "cells": [
    {
      "cell_type": "markdown",
      "metadata": {
        "id": "view-in-github",
        "colab_type": "text"
      },
      "source": [
        "<a href=\"https://colab.research.google.com/github/titsitits/UNamur_Python_Analytics/blob/master/1_Introduction.ipynb\" target=\"_parent\"><img src=\"https://colab.research.google.com/assets/colab-badge.svg\" alt=\"Open In Colab\"/></a>"
      ]
    },
    {
      "cell_type": "markdown",
      "metadata": {
        "id": "DfQ-d2onvooo",
        "colab_type": "text"
      },
      "source": [
        "Mickaël Tits\n",
        "CETIC\n",
        "mickael.tits@cetic.be"
      ]
    },
    {
      "cell_type": "markdown",
      "metadata": {
        "id": "QL889EyHjniU",
        "colab_type": "text"
      },
      "source": [
        "#Instructions\n"
      ]
    },
    {
      "cell_type": "markdown",
      "metadata": {
        "id": "OWwb8aHl9rn9",
        "colab_type": "text"
      },
      "source": [
        "* Les instructions permettent de commander l'interpréteur Python, c'est-à-dire un système qui comprend les instructions et les traduit en traitements sur des données binaires, représentées sous forme d'**objets** informatiques.\n",
        "* Par défaut, chaque ligne de code correspond à une instruction\n",
        "* Les instructions sont interprétées séquentiellement par l'interpréteur Python.\n",
        "* Il existe différents types d'instructions, telles que des assignations de variables, des opérations, des appels de fonctions, des conditions, des boucles, etc. que nous allons voir ci-dessous.\n"
      ]
    },
    {
      "cell_type": "code",
      "metadata": {
        "id": "K9_3X5sYieOe",
        "colab_type": "code",
        "outputId": "3710a175-e25c-4d0b-99b3-4cd1650f2881",
        "colab": {
          "base_uri": "https://localhost:8080/",
          "height": 35
        }
      },
      "source": [
        "#Assignation d'une variable, dont l'identifiant est \"prix\"\n",
        "prix = 300000\n",
        "\n",
        "#Appel d'une fonction de base, \"print\", qui permet d'imprimer la variable dans la console\n",
        "print(prix)"
      ],
      "execution_count": 0,
      "outputs": [
        {
          "output_type": "stream",
          "text": [
            "300000\n"
          ],
          "name": "stdout"
        }
      ]
    },
    {
      "cell_type": "code",
      "metadata": {
        "id": "bTU1o58Pik_s",
        "colab_type": "code",
        "outputId": "fdb3034f-2401-4e6d-adc9-256a6c5e98f5",
        "colab": {
          "base_uri": "https://localhost:8080/",
          "height": 35
        }
      },
      "source": [
        "#plusieurs instructions sur une seule ligne, avec le symbole ;\n",
        "a = 100000; b = 200000; c = 300000\n",
        "\n",
        "#Une instruction sur plusieurs lignes, avec le symbole \\\n",
        "print(a + b \\\n",
        "     + c)"
      ],
      "execution_count": 0,
      "outputs": [
        {
          "output_type": "stream",
          "text": [
            "600000\n"
          ],
          "name": "stdout"
        }
      ]
    },
    {
      "cell_type": "code",
      "metadata": {
        "id": "wF6q5rvmjEKi",
        "colab_type": "code",
        "outputId": "ef4a2571-eda5-4457-a564-136c949bc0c3",
        "colab": {
          "base_uri": "https://localhost:8080/",
          "height": 166
        }
      },
      "source": [
        "#Oups: prix2 n'existe pas. Il faut bien sûr définir un objet avant de l'utiliser\n",
        "print(prix + \\\n",
        "     prix2)"
      ],
      "execution_count": 0,
      "outputs": [
        {
          "output_type": "error",
          "ename": "NameError",
          "evalue": "ignored",
          "traceback": [
            "\u001b[0;31m---------------------------------------------------------------------------\u001b[0m",
            "\u001b[0;31mNameError\u001b[0m                                 Traceback (most recent call last)",
            "\u001b[0;32m<ipython-input-4-f252c2930f2b>\u001b[0m in \u001b[0;36m<module>\u001b[0;34m()\u001b[0m\n\u001b[0;32m----> 1\u001b[0;31m \u001b[0mprint\u001b[0m\u001b[0;34m(\u001b[0m\u001b[0mprix\u001b[0m \u001b[0;34m+\u001b[0m      \u001b[0mprix2\u001b[0m\u001b[0;34m)\u001b[0m\u001b[0;34m\u001b[0m\u001b[0;34m\u001b[0m\u001b[0m\n\u001b[0m",
            "\u001b[0;31mNameError\u001b[0m: name 'prix2' is not defined"
          ]
        }
      ]
    },
    {
      "cell_type": "code",
      "metadata": {
        "id": "4aRNFha3iyA7",
        "colab_type": "code",
        "outputId": "6fa3bda6-a9a9-48ef-fe3c-6ed16b125d63",
        "colab": {
          "base_uri": "https://localhost:8080/",
          "height": 35
        }
      },
      "source": [
        "prix2 = 250000\n",
        "print(prix + \\\n",
        "     prix2)"
      ],
      "execution_count": 0,
      "outputs": [
        {
          "output_type": "stream",
          "text": [
            "550000\n"
          ],
          "name": "stdout"
        }
      ]
    },
    {
      "cell_type": "code",
      "metadata": {
        "id": "EeasGouZi6ih",
        "colab_type": "code",
        "outputId": "4a7d468e-d478-414f-d2c6-90838f928409",
        "colab": {
          "base_uri": "https://localhost:8080/",
          "height": 35
        }
      },
      "source": [
        "prix2"
      ],
      "execution_count": 0,
      "outputs": [
        {
          "output_type": "execute_result",
          "data": {
            "text/plain": [
              "250000"
            ]
          },
          "metadata": {
            "tags": []
          },
          "execution_count": 6
        }
      ]
    },
    {
      "cell_type": "markdown",
      "metadata": {
        "id": "2DCdosyImaOy",
        "colab_type": "text"
      },
      "source": [
        "Les identifiants d'une variables s'écrivent en un mot, peuvent contenir des lettres, des nombres, et \"_\", mais ne peuvent pas commencer par un nombre. Ils ne peuvent pas contenir de symboles spéciaux tels que !, @, #, $, %."
      ]
    },
    {
      "cell_type": "code",
      "metadata": {
        "id": "dMkf4q_ojJDw",
        "colab_type": "code",
        "outputId": "e68c6249-f7c4-44be-cd11-b53bcd97efb3",
        "colab": {
          "base_uri": "https://localhost:8080/",
          "height": 131
        }
      },
      "source": [
        "_variable = 1\n",
        "#Oups: idantifiants invalides\n",
        "2variable = 1\n",
        "v@ri@ble = 1"
      ],
      "execution_count": 0,
      "outputs": [
        {
          "output_type": "error",
          "ename": "SyntaxError",
          "evalue": "ignored",
          "traceback": [
            "\u001b[0;36m  File \u001b[0;32m\"<ipython-input-7-8c15db36133b>\"\u001b[0;36m, line \u001b[0;32m3\u001b[0m\n\u001b[0;31m    2variable = 1\u001b[0m\n\u001b[0m            ^\u001b[0m\n\u001b[0;31mSyntaxError\u001b[0m\u001b[0;31m:\u001b[0m invalid syntax\n"
          ]
        }
      ]
    },
    {
      "cell_type": "markdown",
      "metadata": {
        "id": "2QZ7fUYrqcFn",
        "colab_type": "text"
      },
      "source": [
        "Certains mots-clés ne peuvent pas être utilisés comme identifiants, car ils ont une signification bien précise pour l'interpréteur python. C'est par exemple le cas de **del** qui est une instruction en soi, et qui permet en l'occurrence de supprimer une variable.\n",
        "Pour éviter tout risque de confusion, il est également préférable d'éviter d'utiliser comme identifiant ceux définissant déjà des fonctions de base de Python, tel que \"print\"."
      ]
    },
    {
      "cell_type": "code",
      "metadata": {
        "id": "p7qjS2-8jvps",
        "colab_type": "code",
        "outputId": "601d9413-c372-493b-e772-faeb032b6049",
        "colab": {
          "base_uri": "https://localhost:8080/",
          "height": 183
        }
      },
      "source": [
        "#Oups, j'ai redéfini une fonction de base. L'interpréteur ne comprend plus alors l'appel à la fonction.\n",
        "print = 1\n",
        "print(\"Rue de Bruxelles 61, Namur\")"
      ],
      "execution_count": 0,
      "outputs": [
        {
          "output_type": "error",
          "ename": "TypeError",
          "evalue": "ignored",
          "traceback": [
            "\u001b[0;31m---------------------------------------------------------------------------\u001b[0m",
            "\u001b[0;31mTypeError\u001b[0m                                 Traceback (most recent call last)",
            "\u001b[0;32m<ipython-input-13-8be82683882c>\u001b[0m in \u001b[0;36m<module>\u001b[0;34m()\u001b[0m\n\u001b[1;32m      1\u001b[0m \u001b[0mprint\u001b[0m \u001b[0;34m=\u001b[0m \u001b[0;36m1\u001b[0m\u001b[0;34m\u001b[0m\u001b[0;34m\u001b[0m\u001b[0m\n\u001b[0;32m----> 2\u001b[0;31m \u001b[0mprint\u001b[0m\u001b[0;34m(\u001b[0m\u001b[0;34m\"Rue de Bruxelles 61, Namur\"\u001b[0m\u001b[0;34m)\u001b[0m\u001b[0;34m\u001b[0m\u001b[0;34m\u001b[0m\u001b[0m\n\u001b[0m",
            "\u001b[0;31mTypeError\u001b[0m: 'int' object is not callable"
          ]
        }
      ]
    },
    {
      "cell_type": "code",
      "metadata": {
        "id": "mXfmu6GRkInd",
        "colab_type": "code",
        "outputId": "128dc717-f010-4087-df6b-d5416011f3dc",
        "colab": {
          "base_uri": "https://localhost:8080/",
          "height": 35
        }
      },
      "source": [
        "#Supprimons la variable créée avec le mot-clé \"del\"\n",
        "del print\n",
        "#La fonction de base fonctionne de nouveau\n",
        "print(\"Rue de Bruxelles 61, Namur\")"
      ],
      "execution_count": 0,
      "outputs": [
        {
          "output_type": "stream",
          "text": [
            "Rue de Bruxelles 61, Namur\n"
          ],
          "name": "stdout"
        }
      ]
    },
    {
      "cell_type": "code",
      "metadata": {
        "id": "Cw-8UJdPkx-Z",
        "colab_type": "code",
        "outputId": "5c4f7f52-677b-400e-b572-c494560d5cf1",
        "colab": {
          "base_uri": "https://localhost:8080/",
          "height": 131
        }
      },
      "source": [
        "#Oups, j'ai utilisé un mot-clé comme nom de variable\n",
        "del = 1"
      ],
      "execution_count": 0,
      "outputs": [
        {
          "output_type": "error",
          "ename": "SyntaxError",
          "evalue": "ignored",
          "traceback": [
            "\u001b[0;36m  File \u001b[0;32m\"<ipython-input-178-521f61ecd265>\"\u001b[0;36m, line \u001b[0;32m1\u001b[0m\n\u001b[0;31m    del = 1\u001b[0m\n\u001b[0m        ^\u001b[0m\n\u001b[0;31mSyntaxError\u001b[0m\u001b[0;31m:\u001b[0m invalid syntax\n"
          ]
        }
      ]
    },
    {
      "cell_type": "markdown",
      "metadata": {
        "id": "j02sjwqOttpj",
        "colab_type": "text"
      },
      "source": [
        "# Types de données de base"
      ]
    },
    {
      "cell_type": "markdown",
      "metadata": {
        "id": "OJe8qc_Qiipc",
        "colab_type": "text"
      },
      "source": [
        "* Booléen (bool): True, False\n",
        "* Nombre entier (int): -42, 0, 1, 42, 250000\n",
        "* Nombre décimal à virgule flottante (float): 42.0, 3.14, -0.01\n",
        "* Chaîne de caractères (string): \"Hello World!\" ou 'Hello World!' ou \"\"\"Hello World!\"\"\" ou '''Hello World!'''"
      ]
    },
    {
      "cell_type": "markdown",
      "metadata": {
        "id": "topa9bZ1_LzX",
        "colab_type": "text"
      },
      "source": [
        "## Assignation dynamique\n",
        "* Pas besoin de définir le type d'une variable, l'interpréteur Python comprend tout seul"
      ]
    },
    {
      "cell_type": "code",
      "metadata": {
        "id": "fQpdYIbDwZ6J",
        "colab_type": "code",
        "colab": {}
      },
      "source": [
        "my_int = 250000\n",
        "my_float = 1.23\n",
        "my_bool = True\n",
        "my_string = \"Rue de Bruxelles 61, Namur\""
      ],
      "execution_count": 0,
      "outputs": []
    },
    {
      "cell_type": "code",
      "metadata": {
        "id": "MDN_RjvEwnQx",
        "colab_type": "code",
        "outputId": "2c0f6181-dd22-4aa0-9120-dab7a77aa653",
        "colab": {
          "base_uri": "https://localhost:8080/",
          "height": 35
        }
      },
      "source": [
        "my_int, my_float, my_bool, my_string"
      ],
      "execution_count": 0,
      "outputs": [
        {
          "output_type": "execute_result",
          "data": {
            "text/plain": [
              "(250000, 1.23, True, 'Rue de Bruxelles 61, Namur')"
            ]
          },
          "metadata": {
            "tags": []
          },
          "execution_count": 16
        }
      ]
    },
    {
      "cell_type": "markdown",
      "metadata": {
        "id": "ExLckC98fWfE",
        "colab_type": "text"
      },
      "source": [
        "* La fonction \"type\" permet de vérifier le type d'une variable"
      ]
    },
    {
      "cell_type": "code",
      "metadata": {
        "id": "8yOIDVQ3wtzx",
        "colab_type": "code",
        "outputId": "8373ab33-7a84-495d-fb73-ca2aad10b654",
        "colab": {
          "base_uri": "https://localhost:8080/",
          "height": 35
        }
      },
      "source": [
        "type(my_string)"
      ],
      "execution_count": 0,
      "outputs": [
        {
          "output_type": "execute_result",
          "data": {
            "text/plain": [
              "str"
            ]
          },
          "metadata": {
            "tags": []
          },
          "execution_count": 17
        }
      ]
    },
    {
      "cell_type": "markdown",
      "metadata": {
        "id": "62yQ85nk_H5Y",
        "colab_type": "text"
      },
      "source": [
        "* On peut également modifier dynamiquement le type des variables."
      ]
    },
    {
      "cell_type": "code",
      "metadata": {
        "id": "sExIWlgL-98I",
        "colab_type": "code",
        "outputId": "55105879-c928-48d5-a42d-81c66f3a7a67",
        "colab": {
          "base_uri": "https://localhost:8080/",
          "height": 35
        }
      },
      "source": [
        "my_string = 5.0\n",
        "type(my_string)"
      ],
      "execution_count": 0,
      "outputs": [
        {
          "output_type": "execute_result",
          "data": {
            "text/plain": [
              "float"
            ]
          },
          "metadata": {
            "tags": []
          },
          "execution_count": 19
        }
      ]
    },
    {
      "cell_type": "code",
      "metadata": {
        "id": "4VW52peNqBSu",
        "colab_type": "code",
        "colab": {}
      },
      "source": [
        "my_int1 = 2\n",
        "my_int2 = 2\n",
        "my_float1 = 4.2\n",
        "my_bool = True\n",
        "my_string1 = \"Rue de Bruxelles\"\n",
        "my_string2 = ' 61'\n",
        "my_string3 = \" Namur\"\n"
      ],
      "execution_count": 0,
      "outputs": []
    },
    {
      "cell_type": "markdown",
      "metadata": {
        "id": "a9oA4Ic-fsGm",
        "colab_type": "text"
      },
      "source": [
        "* La commande \"whos\" permet de visualiser l'ensemble des variables actuellement présentes dans le programme"
      ]
    },
    {
      "cell_type": "code",
      "metadata": {
        "id": "JStVzuHmCgm4",
        "colab_type": "code",
        "outputId": "8521d034-0422-4de5-f2de-36e7f02bd497",
        "colab": {
          "base_uri": "https://localhost:8080/",
          "height": 312
        }
      },
      "source": [
        "whos"
      ],
      "execution_count": 0,
      "outputs": [
        {
          "output_type": "stream",
          "text": [
            "Variable     Type     Data/Info\n",
            "-------------------------------\n",
            "a            int      100000\n",
            "b            int      200000\n",
            "c            int      300000\n",
            "my_bool      bool     True\n",
            "my_float     float    1.23\n",
            "my_float1    float    0.12\n",
            "my_int       int      250000\n",
            "my_int1      int      2\n",
            "my_int2      int      2\n",
            "my_string    float    5.0\n",
            "my_string1   str      Rue de Bruxelles\n",
            "my_string2   str       61\n",
            "my_string3   str       Namur\n",
            "prix         int      300000\n",
            "prix2        int      250000\n"
          ],
          "name": "stdout"
        }
      ]
    },
    {
      "cell_type": "markdown",
      "metadata": {
        "id": "qDeZyjk5uwPZ",
        "colab_type": "text"
      },
      "source": [
        "## Conversion de types (casting)\n",
        "* Lorsque c'est possible, un type de données peut être converti vers un autre type de données.\n",
        "  * convertir un **`int`** en **`str`**:    **`str(4)`** => \"4\"\n",
        "  * convertir un **`str`** en **`int`**:    **`int(\"4\")`** => 4\n",
        "  * convertir un **`float`** en **`int`**:    **`int(4.8)`** => 4\n",
        "  * conversion en **`bool`**: bool(\"\"), bool(0.0), bool(0) => **`False`**. Tout le reste renvoie **`True`**"
      ]
    },
    {
      "cell_type": "code",
      "metadata": {
        "id": "TShUkq-5j41v",
        "colab_type": "code",
        "colab": {
          "base_uri": "https://localhost:8080/",
          "height": 69
        },
        "outputId": "a041d2a7-a850-4f6c-cf8a-0837797a934c"
      },
      "source": [
        "print(bool(\"\"), bool(0.0), bool(0))\n",
        "print(bool(\"0\"), bool(-1.2), bool(-10), bool(\"hi\"))\n",
        "str(True), str(False), int(True), int(False), float(True), float(False)"
      ],
      "execution_count": 12,
      "outputs": [
        {
          "output_type": "stream",
          "text": [
            "False False False\n",
            "True True True True\n"
          ],
          "name": "stdout"
        },
        {
          "output_type": "execute_result",
          "data": {
            "text/plain": [
              "('True', 'False', 1, 0, 1.0, 0.0)"
            ]
          },
          "metadata": {
            "tags": []
          },
          "execution_count": 12
        }
      ]
    },
    {
      "cell_type": "code",
      "metadata": {
        "id": "W_WvNT5Imd-q",
        "colab_type": "code",
        "colab": {
          "base_uri": "https://localhost:8080/",
          "height": 35
        },
        "outputId": "c500c9b6-026b-4e9a-b918-8970744df320"
      },
      "source": [
        "(  int(4.9), float(\"3.5\"), str(3.5), bool(4.2), bool(-2), bool(0) )"
      ],
      "execution_count": 14,
      "outputs": [
        {
          "output_type": "execute_result",
          "data": {
            "text/plain": [
              "(4, 3.5, '3.5', True, True, False)"
            ]
          },
          "metadata": {
            "tags": []
          },
          "execution_count": 14
        }
      ]
    },
    {
      "cell_type": "markdown",
      "metadata": {
        "id": "erueK9u6w35g",
        "colab_type": "text"
      },
      "source": [
        "# Opérations de base\n",
        "  \n",
        "\n",
        "\n"
      ]
    },
    {
      "cell_type": "markdown",
      "metadata": {
        "id": "1g5ZK-F9qg-V",
        "colab_type": "text"
      },
      "source": [
        "## Opérations arithmétiques\n",
        "\n",
        "Les opérations de base peuvent se faire entre différents types de données numériques, en réalisant des conversions implicites de types si nécessaire:\n",
        "\n",
        "* Les **int**, **float** et **bool** peuvent être additionnés (**+**), multiplés (**\\***), divisés (**/**), ou soustraits (**-**) entre eux.  \n",
        "* L'opérateur **\\*\\*** et un opérateur de puissance (exposant): 2\\*\\*10 => 1024\n",
        "* L'opérateur **%** et un modulo (reste de la division entière): 11%3 => 2"
      ]
    },
    {
      "cell_type": "code",
      "metadata": {
        "id": "91uAuVpbsm8I",
        "colab_type": "code",
        "outputId": "67aec15d-e476-4b1a-b52b-e5437fd1ff90",
        "colab": {
          "base_uri": "https://localhost:8080/",
          "height": 35
        }
      },
      "source": [
        "#Operations sur un seul type de donnée\n",
        "print(my_int1 + my_int2,\\\n",
        "      111-69,\\\n",
        "      6*7,\\\n",
        "      (my_int1 + my_int2) * 10 + 2)"
      ],
      "execution_count": 0,
      "outputs": [
        {
          "output_type": "stream",
          "text": [
            "4 42 42 42\n"
          ],
          "name": "stdout"
        }
      ]
    },
    {
      "cell_type": "code",
      "metadata": {
        "id": "psumtjRGBFD3",
        "colab_type": "code",
        "outputId": "47f9b5e0-a396-429a-9986-f86c162e16a8",
        "colab": {
          "base_uri": "https://localhost:8080/",
          "height": 35
        }
      },
      "source": [
        "#Opération compatibles entre types différents (entier, float, booléen)\n",
        "print(my_int1 + my_float1,\\\n",
        "      my_float1 + my_bool,\\\n",
        "      (my_int1 + my_int2 - 3.5) * 5 / 2)"
      ],
      "execution_count": 0,
      "outputs": [
        {
          "output_type": "stream",
          "text": [
            "6.2 5.2 1.25\n"
          ],
          "name": "stdout"
        }
      ]
    },
    {
      "cell_type": "code",
      "metadata": {
        "id": "TIJAjY4eBhxg",
        "colab_type": "code",
        "outputId": "ea0b0b82-950a-413d-bc42-ad49e44e1f89",
        "colab": {
          "base_uri": "https://localhost:8080/",
          "height": 52
        }
      },
      "source": [
        "#Exposant\n",
        "print(2 ** 42)\n",
        "#Modulo\n",
        "print(11%3)"
      ],
      "execution_count": 16,
      "outputs": [
        {
          "output_type": "stream",
          "text": [
            "4398046511104\n",
            "2\n"
          ],
          "name": "stdout"
        }
      ]
    },
    {
      "cell_type": "code",
      "metadata": {
        "id": "c-H_YAb3HcNB",
        "colab_type": "code",
        "outputId": "a88c1566-731d-4e3f-ac70-1d84e60b1bd9",
        "colab": {
          "base_uri": "https://localhost:8080/",
          "height": 35
        }
      },
      "source": [
        "#La division entière renvoie un float (contrairement au langage C)\n",
        "8/3"
      ],
      "execution_count": 0,
      "outputs": [
        {
          "output_type": "execute_result",
          "data": {
            "text/plain": [
              "2.6666666666666665"
            ]
          },
          "metadata": {
            "tags": []
          },
          "execution_count": 35
        }
      ]
    },
    {
      "cell_type": "markdown",
      "metadata": {
        "id": "02YJHXTyqlV9",
        "colab_type": "text"
      },
      "source": [
        "## Opérations sur des string\n",
        "\n",
        "Les string peuvent être additionnés entre eux (**+**), ou multiplés par un entier (**\\**):\n",
        "\n",
        "  * Deux **string** peuvent être additionnés, ce qui résulte en une concaténation: \"hell\" + \"o\" => \"hello\"\n",
        "  * Un **string** peut être multiplié par un entier, ce qui résulte en une concaténation multiple du string: \"hi\"*3 => \"hihihi\""
      ]
    },
    {
      "cell_type": "code",
      "metadata": {
        "id": "OmUps4p3_16q",
        "colab_type": "code",
        "outputId": "e786cb80-4914-4f5b-ccf3-b10c7a44a5de",
        "colab": {
          "base_uri": "https://localhost:8080/",
          "height": 52
        }
      },
      "source": [
        "#Les opérations sur les strings sont des concaténation\n",
        "address = my_string1 + my_string2 + my_string3\n",
        "print(address)\n",
        "print(\"hi\" * 3)"
      ],
      "execution_count": 19,
      "outputs": [
        {
          "output_type": "stream",
          "text": [
            "Rue de Bruxelles 61 Namur\n",
            "hihihi\n"
          ],
          "name": "stdout"
        }
      ]
    },
    {
      "cell_type": "code",
      "metadata": {
        "id": "mhBeoWyks8In",
        "colab_type": "code",
        "outputId": "5bc6f123-75ca-4237-f0f9-a1839e458987",
        "colab": {
          "base_uri": "https://localhost:8080/",
          "height": 166
        }
      },
      "source": [
        "#Les opérations invalides renvoient une erreur (décommenter la ligne suivante pour tester)\n",
        "my_int1 + my_string1"
      ],
      "execution_count": 20,
      "outputs": [
        {
          "output_type": "error",
          "ename": "TypeError",
          "evalue": "ignored",
          "traceback": [
            "\u001b[0;31m---------------------------------------------------------------------------\u001b[0m",
            "\u001b[0;31mTypeError\u001b[0m                                 Traceback (most recent call last)",
            "\u001b[0;32m<ipython-input-20-4f5a116eafab>\u001b[0m in \u001b[0;36m<module>\u001b[0;34m()\u001b[0m\n\u001b[0;32m----> 1\u001b[0;31m \u001b[0mmy_int1\u001b[0m \u001b[0;34m+\u001b[0m \u001b[0mmy_string1\u001b[0m\u001b[0;34m\u001b[0m\u001b[0;34m\u001b[0m\u001b[0m\n\u001b[0m",
            "\u001b[0;31mTypeError\u001b[0m: unsupported operand type(s) for +: 'int' and 'str'"
          ]
        }
      ]
    },
    {
      "cell_type": "code",
      "metadata": {
        "id": "mvy5DPPQs-P3",
        "colab_type": "code",
        "outputId": "98f2d982-7f3c-4205-d0c3-67dd674aa48d",
        "colab": {
          "base_uri": "https://localhost:8080/",
          "height": 35
        }
      },
      "source": [
        "string = '4'\n",
        "string + str(my_int1)"
      ],
      "execution_count": 24,
      "outputs": [
        {
          "output_type": "execute_result",
          "data": {
            "text/plain": [
              "'42'"
            ]
          },
          "metadata": {
            "tags": []
          },
          "execution_count": 24
        }
      ]
    },
    {
      "cell_type": "code",
      "metadata": {
        "id": "PGkQdMjktCfm",
        "colab_type": "code",
        "outputId": "589db944-643e-4b4f-a911-749a97f9635b",
        "colab": {
          "base_uri": "https://localhost:8080/",
          "height": 35
        }
      },
      "source": [
        "my_int1 + int(string)"
      ],
      "execution_count": 0,
      "outputs": [
        {
          "output_type": "execute_result",
          "data": {
            "text/plain": [
              "6"
            ]
          },
          "metadata": {
            "tags": []
          },
          "execution_count": 49
        }
      ]
    },
    {
      "cell_type": "markdown",
      "metadata": {
        "id": "d0WLB3Mah1Tt",
        "colab_type": "text"
      },
      "source": [
        "## Opérateurs spéciaux: +=, *=, -=, /=, **=, %=\n",
        "\n",
        "* Les opérateurs spéciaux **`+=`**, **`*=`**, **`-=`**, **`/=`** permettent à la fois de réaliser une opération arithmétique et une assignation. \n",
        "\n",
        " > L'instruction \"**`toto += 1`**\" est équivalente à \"**`toto =  toto + 1`**\""
      ]
    },
    {
      "cell_type": "code",
      "metadata": {
        "id": "ogRkFXK5DNHP",
        "colab_type": "code",
        "outputId": "bd3aee8b-b0ec-44d1-a13f-1be85f17fdaa",
        "colab": {
          "base_uri": "https://localhost:8080/",
          "height": 35
        }
      },
      "source": [
        "#Self-operation\n",
        "toto = 1\n",
        "toto += 100\n",
        "toto *= 2\n",
        "toto -= 76\n",
        "toto /= 3\n",
        "toto"
      ],
      "execution_count": 0,
      "outputs": [
        {
          "output_type": "execute_result",
          "data": {
            "text/plain": [
              "42.0"
            ]
          },
          "metadata": {
            "tags": []
          },
          "execution_count": 42
        }
      ]
    },
    {
      "cell_type": "code",
      "metadata": {
        "id": "nffPqKhspl-6",
        "colab_type": "code",
        "colab": {
          "base_uri": "https://localhost:8080/",
          "height": 35
        },
        "outputId": "1a808716-281d-4d6d-fa33-de7080a97b7c"
      },
      "source": [
        "hi = 2\n",
        "hi %= 10\n",
        "hi"
      ],
      "execution_count": 22,
      "outputs": [
        {
          "output_type": "execute_result",
          "data": {
            "text/plain": [
              "2"
            ]
          },
          "metadata": {
            "tags": []
          },
          "execution_count": 22
        }
      ]
    },
    {
      "cell_type": "markdown",
      "metadata": {
        "id": "dSYmLW86ODdZ",
        "colab_type": "text"
      },
      "source": [
        "## Opérateurs de tests\n",
        "* test d'égalité: ==\n",
        "* test d'inégalité: !=\n",
        "* test de supériorité et infériorité stricte: > et <\n",
        "* inférieur/supérieur ou égal: <= et >=\n",
        "* conditions: if, elif, ..., elif, else"
      ]
    },
    {
      "cell_type": "code",
      "metadata": {
        "id": "e4WF9dj0OFa9",
        "colab_type": "code",
        "outputId": "38459545-6163-4351-d0bb-a1e52760d624",
        "colab": {
          "base_uri": "https://localhost:8080/",
          "height": 35
        }
      },
      "source": [
        "#assignation de variabla\n",
        "a = 42\n",
        "\n",
        "# l'opérateur de test d'égalité \"==\" renvoie un booléen, ne doit surtout pas être confondue avec l'opération d'assignation \"=\" (c'est une source fréquente de bug dans les conditions)\n",
        "a == 42  ,\\\n",
        "a != 42  ,\\\n",
        "a > 3    ,\\\n",
        "a <= 42  ,\\\n",
        "a is 42  ,\\\n",
        "a is not 42"
      ],
      "execution_count": 0,
      "outputs": [
        {
          "output_type": "execute_result",
          "data": {
            "text/plain": [
              "(True, False, True, True, True, False)"
            ]
          },
          "metadata": {
            "tags": []
          },
          "execution_count": 54
        }
      ]
    },
    {
      "cell_type": "code",
      "metadata": {
        "id": "lEDJ4VzHRR-w",
        "colab_type": "code",
        "outputId": "29da7ad9-4c65-47c1-c7ea-7ea59b9fca71",
        "colab": {
          "base_uri": "https://localhost:8080/",
          "height": 69
        }
      },
      "source": [
        "print(not True)\n",
        "\n",
        "print((a > 41) and (a < 43))\n",
        "\n",
        "print((a == 42) or (a == 43))"
      ],
      "execution_count": 0,
      "outputs": [
        {
          "output_type": "stream",
          "text": [
            "False\n",
            "True\n",
            "True\n"
          ],
          "name": "stdout"
        }
      ]
    },
    {
      "cell_type": "markdown",
      "metadata": {
        "id": "eeAdHBHmrRzt",
        "colab_type": "text"
      },
      "source": [
        "# Contrôle du flux des instructions\n"
      ]
    },
    {
      "cell_type": "markdown",
      "metadata": {
        "id": "PcN74MUv9u49",
        "colab_type": "text"
      },
      "source": [
        "Certaines instructions permettent de contrôler le flux du code\n",
        "* Les **conditions** permettent de réaliser un bloc d'instructions, ou et l'éviter, ou encore de choisir un bloc d'instructions parmi plusieurs.\n",
        "* Les **boucles** permettent de repasser plusieurs fois, de manière itérative, par le même bloc d'instructions\n",
        "* Pour différencier les différents blocs d'instructions, on utilise l'**indentation** (en utilisant des Tab, ou des Whitespace)"
      ]
    },
    {
      "cell_type": "code",
      "metadata": {
        "id": "xyi7hNPwsMdo",
        "colab_type": "code",
        "colab": {
          "base_uri": "https://localhost:8080/",
          "height": 131
        },
        "outputId": "1043b972-4bcf-4985-aacc-05ec9710eab0"
      },
      "source": [
        "a = 1\n",
        "b = 2\n",
        "#On ne peut pas changer d'indentation définir un comportement pour ce nouveau bloc de code (avec une condition ou une boucle)\n",
        "  c = 3\n",
        "  d = 4"
      ],
      "execution_count": 26,
      "outputs": [
        {
          "output_type": "error",
          "ename": "IndentationError",
          "evalue": "ignored",
          "traceback": [
            "\u001b[0;36m  File \u001b[0;32m\"<ipython-input-26-8dca9d78ad27>\"\u001b[0;36m, line \u001b[0;32m4\u001b[0m\n\u001b[0;31m    c = 3\u001b[0m\n\u001b[0m    ^\u001b[0m\n\u001b[0;31mIndentationError\u001b[0m\u001b[0;31m:\u001b[0m unexpected indent\n"
          ]
        }
      ]
    },
    {
      "cell_type": "markdown",
      "metadata": {
        "id": "mzdy9jacqbRX",
        "colab_type": "text"
      },
      "source": [
        "## Conditions\n",
        "Les mot-clés **`if`**, **`elif`**, et **`else`** permettent de définir un flux conditionnel d'instructions:\n",
        "* \"**`if condition:`**\" : si la condition est vraie (**`True`**), le bloc d'instruction indenté sous cette condition et réalisé\n",
        "* \"**`elif condition2:`**\": si la condition précédente était fausse (dans le **`if`** précédent), et que cette condition2 est vraie, le bloc d'instruction indenté sous cette condition et réalisé\n",
        "* \"**`else:`**\": si toutes les conditions précédentes étaient fausses, le bloc indenté suivant est réalisé\n",
        "* Attention à l'**indentation** et au symbole **\":\"** ! C'est le bloc indenté après après le symbole \":\" qui dépend de la condition\n",
        "* Si on veut spécifier un bloc d'instruction qui n'exécute rien, on peut utiliser le mot-clé **`pass`**"
      ]
    },
    {
      "cell_type": "code",
      "metadata": {
        "id": "Ey0G8G1BOXvh",
        "colab_type": "code",
        "outputId": "835f94e8-7030-48c4-a26e-4bfed49ddfb3",
        "colab": {
          "base_uri": "https://localhost:8080/",
          "height": 52
        }
      },
      "source": [
        "condition = True\n",
        "#condition = a == 43\n",
        "\n",
        "if condition:\n",
        "  print(\"C'est vrai!\")\n",
        "  \n",
        "if condition == True:  \n",
        "  print(\"C'est vraiment vrai!\")\n",
        "  \n",
        "if condition == False:\n",
        "  print(\"C'est faux!\")\n",
        "  \n",
        "if not condition:\n",
        "  print(\"Ce n'est pas vrai!\")\n"
      ],
      "execution_count": 28,
      "outputs": [
        {
          "output_type": "stream",
          "text": [
            "C'est vrai!\n",
            "C'est vraiment vrai!\n"
          ],
          "name": "stdout"
        }
      ]
    },
    {
      "cell_type": "code",
      "metadata": {
        "id": "x1LfvyQ9eEXi",
        "colab_type": "code",
        "outputId": "8f93c780-3e48-4d8a-bbbe-f7019e9fe029",
        "colab": {
          "base_uri": "https://localhost:8080/",
          "height": 35
        }
      },
      "source": [
        "prix_maison = 250000\n",
        "\n",
        "condition = prix_maison < 200000\n",
        "#condition = a == 43\n",
        "\n",
        "if condition:\n",
        "  print(\"C'est pas cher!\")\n",
        "else:\n",
        "  print(\"C'est cher!\")"
      ],
      "execution_count": 47,
      "outputs": [
        {
          "output_type": "stream",
          "text": [
            "C'est cher!\n"
          ],
          "name": "stdout"
        }
      ]
    },
    {
      "cell_type": "code",
      "metadata": {
        "id": "awQni_LeP30h",
        "colab_type": "code",
        "outputId": "0401e741-d296-42a9-ea3f-8f5cd3ad2423",
        "colab": {
          "base_uri": "https://localhost:8080/",
          "height": 35
        }
      },
      "source": [
        "PER = 20 #price_earning_ratio\n",
        "\n",
        "if PER < 0:  \n",
        "  pass #il ne se passe rien\n",
        "elif PER < 10:\n",
        "\tprint(\"J'achète!\")\n",
        "elif PER <= 30:\n",
        "\tprint(\"Hodl!\")\n",
        "else:\n",
        "\tprint(\"Je vends!\")\n"
      ],
      "execution_count": 48,
      "outputs": [
        {
          "output_type": "stream",
          "text": [
            "Hodl!\n"
          ],
          "name": "stdout"
        }
      ]
    },
    {
      "cell_type": "markdown",
      "metadata": {
        "id": "akgy0WgBTPGH",
        "colab_type": "text"
      },
      "source": [
        "## Boucles\n",
        "Les boucles permettent de définir un flux itératif d'instructions:\n",
        "* **`while condition:`**: on éxécute le même bloc d'instructions itérativement tant qu'on respecte une condition\n",
        "* **`for variable in variable_set:`**: on exécute le bloc d'instructions itérativement sur un ensemble d'éléments"
      ]
    },
    {
      "cell_type": "code",
      "metadata": {
        "id": "3aFkZPXaS4O5",
        "colab_type": "code",
        "outputId": "303a6f90-135e-4cf4-a9fd-564ecbd7690a",
        "colab": {
          "base_uri": "https://localhost:8080/",
          "height": 104
        }
      },
      "source": [
        "\n",
        "count = 0\n",
        "while count < 5:\n",
        "\tprint(\"Je suis dans une boucle while depuis \" + str(count) + \" itérations\")\n",
        "\tcount += 1"
      ],
      "execution_count": 49,
      "outputs": [
        {
          "output_type": "stream",
          "text": [
            "Je suis dans une boucle while depuis 0 itérations\n",
            "Je suis dans une boucle while depuis 1 itérations\n",
            "Je suis dans une boucle while depuis 2 itérations\n",
            "Je suis dans une boucle while depuis 3 itérations\n",
            "Je suis dans une boucle while depuis 4 itérations\n"
          ],
          "name": "stdout"
        }
      ]
    },
    {
      "cell_type": "code",
      "metadata": {
        "id": "wJywAemKU39K",
        "colab_type": "code",
        "outputId": "6580ee3e-c5fe-4649-b2bc-1f2f0872d263",
        "colab": {
          "base_uri": "https://localhost:8080/",
          "height": 104
        }
      },
      "source": [
        "for i in range(0, 5):\n",
        "\n",
        "  print(\"Je suis à l'itération\", i)"
      ],
      "execution_count": 38,
      "outputs": [
        {
          "output_type": "stream",
          "text": [
            "Je suis à l'itération 0\n",
            "Je suis à l'itération 1\n",
            "Je suis à l'itération 2\n",
            "Je suis à l'itération 3\n",
            "Je suis à l'itération 4\n"
          ],
          "name": "stdout"
        }
      ]
    },
    {
      "cell_type": "code",
      "metadata": {
        "id": "TTygHqOqw13N",
        "colab_type": "code",
        "outputId": "c9cb15d3-0bde-4493-cb09-1cd85af79dda",
        "colab": {
          "base_uri": "https://localhost:8080/",
          "height": 191
        }
      },
      "source": [
        "for year in range(9,50):\n",
        "  \n",
        "  if year % 4 == 0:\n",
        "    print(\"Année bissextile!\")\n",
        "    continue #continuer directement la suite de la boucle\n",
        "    \n",
        "  if year == 18:\n",
        "    print(\"Adulte!\")\n",
        "    break #sortie d'une boucle\n",
        "    \n",
        "  print(year)"
      ],
      "execution_count": 62,
      "outputs": [
        {
          "output_type": "stream",
          "text": [
            "9\n",
            "10\n",
            "11\n",
            "Année bissextile!\n",
            "13\n",
            "14\n",
            "15\n",
            "Année bissextile!\n",
            "17\n",
            "Adulte!\n"
          ],
          "name": "stdout"
        }
      ]
    },
    {
      "cell_type": "code",
      "metadata": {
        "id": "oelH_ek3xwew",
        "colab_type": "code",
        "colab": {
          "base_uri": "https://localhost:8080/",
          "height": 156
        },
        "outputId": "ea7795f8-4bf9-446a-edea-e4d4fc77f204"
      },
      "source": [
        "prix = 100000\n",
        "mine = False\n",
        "while True: #la condition est toujours vraie, c'est une boucle infinie; il faut donc au moins inclure un \"break\" dans le bloc d'instruction pour permettre une sortie de la boucle (sinon il faut arrêter le programme manuellement)\n",
        "  \n",
        "  prix += 20000\n",
        "  print(prix)\n",
        "  \n",
        "  if prix > 150000 and prix < 200000 and mine == False:\n",
        "    print(\"j'achète\")\n",
        "    mine = True    \n",
        "  \n",
        "  elif prix > 200000 and mine:\n",
        "    print(\"Je revends\")\n",
        "    mine = False\n",
        "    \n",
        "    break\n",
        "  "
      ],
      "execution_count": 60,
      "outputs": [
        {
          "output_type": "stream",
          "text": [
            "120000\n",
            "140000\n",
            "160000\n",
            "j'achète\n",
            "180000\n",
            "200000\n",
            "220000\n",
            "Je revends\n"
          ],
          "name": "stdout"
        }
      ]
    },
    {
      "cell_type": "code",
      "metadata": {
        "id": "O837MBoAygsu",
        "colab_type": "code",
        "colab": {
          "base_uri": "https://localhost:8080/",
          "height": 183
        },
        "outputId": "b7a953f1-2c0d-4d36-a839-978d48787040"
      },
      "source": [
        "#Boucle infinie\n",
        "while True:\n",
        "  pass"
      ],
      "execution_count": 50,
      "outputs": [
        {
          "output_type": "error",
          "ename": "KeyboardInterrupt",
          "evalue": "ignored",
          "traceback": [
            "\u001b[0;31m---------------------------------------------------------------------------\u001b[0m",
            "\u001b[0;31mKeyboardInterrupt\u001b[0m                         Traceback (most recent call last)",
            "\u001b[0;32m<ipython-input-50-648a2bab0435>\u001b[0m in \u001b[0;36m<module>\u001b[0;34m()\u001b[0m\n\u001b[1;32m      1\u001b[0m \u001b[0;32mwhile\u001b[0m \u001b[0;32mTrue\u001b[0m\u001b[0;34m:\u001b[0m\u001b[0;34m\u001b[0m\u001b[0;34m\u001b[0m\u001b[0m\n\u001b[0;32m----> 2\u001b[0;31m   \u001b[0;32mpass\u001b[0m\u001b[0;34m\u001b[0m\u001b[0;34m\u001b[0m\u001b[0m\n\u001b[0m",
            "\u001b[0;31mKeyboardInterrupt\u001b[0m: "
          ]
        }
      ]
    },
    {
      "cell_type": "markdown",
      "metadata": {
        "id": "Ia4gzC9V1NDZ",
        "colab_type": "text"
      },
      "source": [
        "# Exemple minimaliste: un petit programme mathématique\n",
        "\n"
      ]
    },
    {
      "cell_type": "markdown",
      "metadata": {
        "id": "fRLbUg989zLU",
        "colab_type": "text"
      },
      "source": [
        "Approximation de $\\pi$:\n",
        "\n",
        "> $\\pi = 4\\sum_{n=0}^{\\infty} \\cfrac {(-1)^n}{2n+1} = 4\\left( \\frac11- \\frac13+ \\frac15- \\frac17+- \\cdots\\right)$\n",
        "\n",
        "\n",
        "* On estime itérativement pi, avec une série de fractions de plus en plus longue\n",
        "* On définit une condition pour sortir de la boucle d'itération: lorsque la nouvelle estimation ne change presque plus, on considère qu'on est assez proche de la solution"
      ]
    },
    {
      "cell_type": "code",
      "metadata": {
        "id": "HmUWZtO_ZKun",
        "colab_type": "code",
        "outputId": "94c493c0-075a-4bb8-b4c4-286112d11b5f",
        "colab": {
          "base_uri": "https://localhost:8080/",
          "height": 72
        }
      },
      "source": [
        "\n",
        "#Remarque: ce n'est pas la meilleure méthode d'estimation mais elle est facile à coder\n",
        "\n",
        "\n",
        "k=3\n",
        "series=1\n",
        "pi = 0\n",
        "newpi = 10\n",
        "\n",
        "epsilon = 10**-6\n",
        "\n",
        "while abs(newpi - pi) > epsilon:\n",
        "  \n",
        "    pi = newpi\n",
        "    series = series - 1/k + 1/(k+2)\n",
        "    k+=4\n",
        "    \n",
        "    #estimations successives de pi\n",
        "    newpi = 4*series\n",
        "    print(pi, end = ' ')\n",
        "    \n",
        "\n",
        "print('')\n",
        "print(pi)"
      ],
      "execution_count": 0,
      "outputs": [
        {
          "output_type": "stream",
          "text": [
            "10 3.466666666666667 3.3396825396825403 3.2837384837384844 3.2523659347188767 3.232315809405594 3.2184027659273333 3.208185652261944 3.200365515409549 3.1941879092319425 3.189184782277596 3.1850504153525314 3.1815766854350325 3.1786170109992202 3.1760651768684385 3.1738423371907505 3.1718887352371485 3.1701582571925884 3.1686147495715193 3.167229468186238 3.1659792728432157 3.1648453252882898 3.163812134018756 3.1628668427508844 3.161998692995051 3.1611986129870506 3.160458899625978 3.1597729697623063 3.159135163814766 3.158540589307148 3.157984995168666 3.157464669965414 3.1569763589112725 3.156517195736159 3.1560846463985 3.155676462307475 3.155290641231999 3.15492539446215 3.1545791190866574 3.1542503744801236 3.1539378622726155 3.1536404092144266 3.1533569524592977 3.153086526877038 3.1528282540763923 3.1525813328751204 3.1523450309994745 3.152118677831945 3.151901658056018 3.1516934060711166 3.1514934010709914 3.1513011626954057 3.1511162471786824 3.150938243930123 3.1507667724908344 3.150601479819498 3.150442037866334 3.1502881414001815 3.150139506058413 3.14999586659347 3.149856975293274 3.149722600555725 3.1495925256000317 3.149466547299794 3.1493444751246202 3.1492261301786892 3.1491113443260454 3.148999959393642 3.148891826444181 3.148786805111723 3.1486847629938386 3.1485855750947622 3.1484891233146244 3.1483952959803765 3.148303987414492 3.1482150975379377 3.148128531504285 3.148044199362143 3.147962015743393 3.1478818995749487 3.1478037738120017 3.1477275651909014 3.1476532040000067 3.147580623867004 3.1475097615613215 3.147440556810415 3.1473729521287908 3.1473068926587526 3.1472423260219484 3.1471792021808627 3.147117473309498 3.1470570936725304 3.1469980195123064 3.146940208943089 3.146883621852019 3.1468282198062982 3.1467739659661436 3.1467208250030967 3.1466687630233094 3.146617747495458 3.1465677471829556 3.146518732080177 3.1464706733524115 3.146423543279301 3.1463773152015224 3.1463319634705034 3.146287463400972 3.1462437912261523 3.146200924055439 3.1461588398343916 3.1461175173068994 3.1460769359793828 3.1460370760869045 3.145997918561073 3.1459594449996233 3.1459216376375845 3.1458844793199274 3.14584795347561 3.145812044092937 3.1457767356961592 3.1457420133232326 3.14570786250468 3.145674269243488 3.145641219995978 3.1456087016536003 3.1455767015256 3.1455452073225016 3.1455142071403754 3.145483689445835 3.14545364306173 3.145424057153498 3.1453949212161403 3.1453662250617835 3.1453379588078043 3.1453101128654803 3.1452826779291465 3.145255644965827 3.145229005205319 3.1452027501307054 3.145176871469279 3.145151361183851 3.1451262114644276 3.1451014147202403 3.145076963572106 3.1450528508451074 3.145029069561572 3.1450056129343418 3.1449824743603143 3.144959647414246 3.1449371258428034 3.1449149035588526 3.1448929746359737 3.1448713333031924 3.144849973939915 3.144828891071064 3.144808079362397 3.1447875336160087 3.1447672487660023 3.1447472198743265 3.1447274421267646 3.1447079108290805 3.1446886214033025 3.144669569384146 3.1446507504155665 3.1446321602474416 3.1446137947323693 3.1445956498225835 3.1445777215669803 3.1445600061082497 3.144542499680108 3.14452519860463 3.1445080992896712 3.144491198226383 3.144474491986811 3.144457977221579 3.1444416506576474 3.1444255090961533 3.1444095494103195 3.1443937685434373 3.1443781635069117 3.1443627313783775 3.1443474692998734 3.144332374476077 3.1443174441726 3.144302675714335 3.144288066483858 3.1442736139198826 3.144259315515763 3.1442451688180446 3.144231171425059 3.1442173209855673 3.1442036151974415 3.1441900518063903 3.144176628604722 3.1441633434301464 3.1441501941646153 3.144137178733194 3.1441242951029738 3.1441115412820086 3.1440989153182923 3.144086415298761 3.1440740393483266 3.14406178562894 3.14404965233868 3.1440376377108703 3.1440257400132237 3.1440139575470063 3.1440022886462313 3.1439907316768734 3.143979285036105 3.143967947151556 3.1439567164805933 3.1439455915096226 3.143934570753406 3.1439236527544026 3.1439128360821247 3.143902119332515 3.1438915011273365 3.1438809801135843 3.1438705549629082 3.1438602243710556 3.1438499870573264 3.143839841764045 3.1438297872560437 3.1438198223201614 3.143809945764758 3.1438001564192373 3.143790453133583 3.1437808347779135 3.1437713002420367 3.1437618484350285 3.143752478284813 3.14374318873776 3.1437339787582865 3.1437248473284756 3.143715793447699 3.1437068161322532 3.1436979144150006 3.143689087345025 3.143680333987292 3.1436716534223175 3.143663044745848 3.1436545070685447 3.143646039515678 3.143637641226829 3.1436293113555984 3.14362104906932 3.143612853548787 3.1436047239879765 3.143596659593789 3.143588659585789 3.1435807231959534 3.143572849668426 3.1435650382592772 3.1435572882362695 3.1435495988786286 3.1435419694768214 3.143534399332336 3.1435268877574685 3.1435194340751167 3.1435120376185743 3.1435046977313332 3.1434974137668896 3.143490185088554 3.143483011069265 3.1434758910914082 3.14346882454664 3.1434618108357117 3.143454849368304 3.1434479395628583 3.1434410808464155 3.1434342726544586 3.1434275144307566 3.143420805627213 3.1434141457037184 3.1434075341280066 3.143400970375509 3.1433944539292202 3.14338798427956 3.1433815609242397 3.143375183368135 3.1433688511231566 3.143362563708125 3.143356320648651 3.1433501214770154 3.143343965732051 3.1433378529590295 3.1433317827095495 3.143325754541427 3.1433197680185865 3.1433138227109576 3.1433079181943713 3.143302054050459 3.1432962298665545 3.143290445235596 3.1432846997560318 3.143278993031727 3.143273324671874 3.1432676942909015 3.1432621015083875 3.143256545948974 3.143251027242283 3.143245545022834 3.143240098929963 3.1432346886077447 3.1432293137049125 3.143223973874786 3.143218668775193 3.143213398068398 3.1432081614210308 3.1432029585040153 3.143197788992502 3.1431926525657983 3.1431875489073047 3.143182477704447 3.143177438648615 3.1431724314350977 3.1431674557630243 3.143162511335302 3.143157597858557 3.1431527150430765 3.143147862602754 3.14314304025503 3.14313824772084 3.143133484724558 3.1431287509939465 3.1431240462601022 3.1431193702574065 3.143114722723475 3.143110103399109 3.1431055120282463 3.1431009483579144 3.1430964121381844 3.1430919031221247 3.1430874210657573 3.143082965728012 3.143078536870685 3.1430741342583945 3.1430697576585422 3.1430654068412682 3.143061081579414 3.143056781648482 3.143052506826595 3.143048256894461 3.143044031635334 3.1430398308349767 3.143035654281625 3.143031501765953 3.143027373081037 3.143023268022322 3.1430191863875865 3.143015127976911 3.143011092592644 3.143007080039371 3.143003090123883 3.142999122655143 3.142995177444259 3.1429912543044525 3.142987353051028 3.1429834735013467 3.1429796154747947 3.1429757787927572 3.142971963278591 3.1429681687575943 3.1429643950569854 3.142960642005872 3.142956909435227 3.1429531971778637 3.1429495050684095 3.142945832943282 3.142942180640665 3.142938548000485 3.1429349348643867 3.142931341075711 3.142927766479473 3.142924210922337 3.142920674252598 3.142917156320157 3.1429136569765026 3.1429101760746883 3.1429067134693116 3.1429032690164953 3.1428998425738666 3.142896434000538 3.1428930431570867 3.142889669905538 3.1428863141093437 3.1428829756333663 3.142879654343859 3.1428763501084487 3.1428730627961183 3.1428697922771893 3.1428665384233043 3.1428633011074116 3.142860080203747 3.142856875587818 3.1428536871363892 3.1428505147274644 3.142847358240272 3.142844217555249 3.142841092554028 3.1428379831194206 3.142834889135402 3.1428318104870976 3.1428287470607703 3.142825698743803 3.142822665424688 3.1428196469930123 3.1428166433394433 3.1428136543557166 3.1428106799346227 3.142807719969994 3.1428047743566934 3.1428018429906 3.1427989257685978 3.142796022588563 3.142793133349354 3.1427902579507965 3.1427873962936754 3.14278454827972 3.1427817138115954 3.1427788927928906 3.142776085128106 3.1427732907226456 3.1427705094828036 3.1427677413157555 3.142764986129548 3.1427622438330873 3.14275951433613 3.142756797549274 3.142754093383947 3.1427514017523976 3.142748722567687 3.142746055743678 3.142743401195026 3.1427407588371707 3.142738128586327 3.142735510359475 3.1427329040743532 3.142730309649448 3.142727727003986 3.142725156057926 3.14272259673195 3.1427200489474556 3.1427175126265476 3.14271498769203 3.142712474067399 3.142709971676834 3.142707480445191 3.142705000297994 3.1427025311614294 3.1427000729623367 3.1426976256282027 3.142695189087153 3.142692763267946 3.142690348099966 3.142687943513217 3.142685549438313 3.142683165806474 3.14268079254952 3.142678429599862 3.142676076890497 3.142673734355001 3.1426714019275246 3.1426690795427836 3.1426667671360566 3.1426644646431763 3.1426621720005246 3.142659889145026 3.1426576160141435 3.1426553525458707 3.1426530986787276 3.142650854351755 3.142648619504508 3.142646394077052 3.1426441780099563 3.142641971244289 3.142639773721611 3.142637585383974 3.1426354061739104 3.142633236034433 3.1426310749090267 3.142628922741646 3.142626779476709 3.1426246450590916 3.1426225194341244 3.142620402547588 3.142618294345708 3.1426161947751488 3.1426141037830124 3.142612021316831 3.1426099473245643 3.142607881754595 3.142605824555723 3.142603775677164 3.1426017350685425 3.1425997026798886 3.142597678461635 3.1425956623646125 3.142593654340044 3.1425916543395442 3.1425896623151117 3.142587678219129 3.142585702004356 3.142583733623927 3.1425817730313477 3.1425798201804906 3.1425778750255917 3.1425759375212476 3.1425740076224105 3.142572085284386 3.1425701704628293 3.1425682631137417 3.1425663631934673 3.142564470658689 3.1425625854664263 3.142560707574032 3.1425588369391875 3.142556973519902 3.1425551172745063 3.142553268161653 3.1425514261403107 3.142549591169763 3.1425477632096044 3.142545942219737 3.142544128160369 3.1425423209920096 3.142540520675469 3.1425387271718526 3.142536940442561 3.142535160449285 3.1425333871540038 3.142531620518982 3.1425298605067677 3.1425281070801887 3.1425263602023508 3.142524619836635 3.142522885946694 3.1425211584964514 3.1425194374500984 3.1425177227720904 3.142516014427146 3.142514312380243 3.1425126165966177 3.1425109270417626 3.142509243681422 3.142507566481591 3.1425058954085134 3.1425042304286794 3.1425025715088233 3.14250091861592 3.1424992717171847 3.14249763078007 3.142495995772264 3.1424943666616874 3.1424927434164918 3.1424911260050576 3.1424895143959928 3.14248790855813 3.142486308460524 3.142484714072451 3.1424831253634062 3.1424815423031016 3.1424799648614634 3.142478393008632 3.1424768267149585 3.1424752659510036 3.142473710687535 3.1424721608955264 3.1424706165461562 3.142469077610803 3.1424675440610477 3.142466015868668 3.1424644930056393 3.142462975444133 3.1424614631565126 3.1424599561153337 3.142458454293342 3.1424569576634718 3.142455466198844 3.1424539798727653 3.1424524986587254 3.142451022530396 3.1424495514616297 3.142448085426458 3.142446624399089 3.1424451683539076 3.1424437172654733 3.142442271108518 3.1424408298579447 3.1424393934888273 3.1424379619764076 3.1424365352960946 3.142435113423464 3.1424336963342534 3.1424322840043666 3.142430876409866 3.142429473526977 3.1424280753320817 3.142426681801721 3.142425292912591 3.1424239086415433 3.142422528965584 3.142421153861871 3.142419783307713 3.142418417280569 3.142417055758046 3.1424156987178997 3.142414346138031 3.1424129979964865 3.1424116542714557 3.1424103149412717 3.1424089799844084 3.1424076493794804 3.1424063231052415 3.1424050011405837 3.142403683464536 3.1424023700562627 3.1424010608950637 3.1423997559603714 3.142398455231752 3.1423971586889023 3.1423958663116505 3.142394578079953 3.1423932939738957 3.1423920139736907 3.1423907380596776 3.1423894662123213 3.1423881984122097 3.1423869346400553 3.1423856748766923 3.142384419103077 3.1423831673002853 3.1423819194495133 3.142380675532075 3.1423794355294024 3.1423781994230446 3.1423769671946657 3.142375738826045 3.1423745142990764 3.142373293595765 3.14237207669823 3.142370863588701 3.142369654249519 3.142368448663133 3.1423672468121024 3.142366048679093 3.142364854246879 3.1423636634983407 3.1423624764164626 3.1423612929843348 3.142360113185151 3.142358937002209 3.1423577644189065 3.142356595418745 3.1423554299853254 3.142354268102349 3.1423531097536155 3.1423519549230243 3.1423508035945713 3.1423496557523496 3.1423485113805487 3.1423473704634537 3.1423462329854446 3.1423450989309942 3.14234396828467 3.1423428410311316 3.1423417171551304 3.1423405966415094 3.142339479475202 3.1423383656412307 3.142337255124709 3.1423361479108367 3.142335043984904 3.142333943332286 3.1423328459384456 3.1423317517889315 3.1423306608693777 3.142329573165503 3.14232848866311 3.142327407348085 3.1423263292063965 3.1423252542240965 3.142324182387318 3.1423231136822745 3.1423220480952607 3.1423209856126504 3.1423199262208974 3.142318869906534 3.14231781665617 3.1423167664564944 3.1423157192942712 3.142314675156342 3.1423136340296245 3.1423125959011107 3.1423115607578684 3.1423105285870387 3.1423094993758376 3.142308473111554 3.142307449781548 3.1423064293732548 3.1423054118741787 3.1423043972718956 3.142303385554053 3.142302376708368 3.142301370722627 3.142300367584686 3.1422993672824697 \n",
            "3.1422993672824697\n"
          ],
          "name": "stdout"
        }
      ]
    },
    {
      "cell_type": "markdown",
      "metadata": {
        "id": "71l9Dhjp-pdG",
        "colab_type": "text"
      },
      "source": [
        "## Attention à la syntaxe et à l'indentation !\n",
        "\n",
        "### Exercice: corrigez ce code"
      ]
    },
    {
      "cell_type": "code",
      "metadata": {
        "id": "5jtjpcPqzvVD",
        "colab_type": "code",
        "colab": {
          "base_uri": "https://localhost:8080/",
          "height": 131
        },
        "outputId": "4eacacdf-53f6-464d-c521-32aa092f82df"
      },
      "source": [
        "prix = 0\n",
        "mine = False\n",
        "\n",
        "while True:\n",
        "  \n",
        "prix += 20000\n",
        "print(prix)\n",
        "  \n",
        "  if prix > 150000 and prix < 200000 and mine == False\n",
        "    print(\"j'achète\")\n",
        "  mine = True\n",
        "  \n",
        "  elif prix > 200000 and mine:\n",
        "    print(\"Je \n",
        "          revends\")\n",
        "    mine = False\n",
        "    \n",
        "  break"
      ],
      "execution_count": 59,
      "outputs": [
        {
          "output_type": "error",
          "ename": "IndentationError",
          "evalue": "ignored",
          "traceback": [
            "\u001b[0;36m  File \u001b[0;32m\"<ipython-input-59-83f25cf4c199>\"\u001b[0;36m, line \u001b[0;32m6\u001b[0m\n\u001b[0;31m    prix += 20000\u001b[0m\n\u001b[0m       ^\u001b[0m\n\u001b[0;31mIndentationError\u001b[0m\u001b[0;31m:\u001b[0m expected an indented block\n"
          ]
        }
      ]
    },
    {
      "cell_type": "markdown",
      "metadata": {
        "id": "z41YPnfj9ySr",
        "colab_type": "text"
      },
      "source": [
        ""
      ]
    },
    {
      "cell_type": "markdown",
      "metadata": {
        "id": "KG_PPSe9e1-M",
        "colab_type": "text"
      },
      "source": [
        "# Récapitulatif des mots-clés et types de données de base"
      ]
    },
    {
      "cell_type": "code",
      "metadata": {
        "id": "Y5t-fPt2e1G4",
        "colab_type": "code",
        "colab": {}
      },
      "source": [
        "#Types de base\n",
        "250000 #entier\n",
        "0.12 #float\n",
        "'42' ou \"42\" #string\n",
        "True False #booléens\n",
        "\n",
        "#Opérateurs de test\n",
        "is\n",
        "in\n",
        "not\n",
        "and\n",
        "or\n",
        "\n",
        "#Boucles\n",
        "for\n",
        "while\n",
        "\n",
        "#Conditions\n",
        "if\n",
        "elif\n",
        "else\n",
        "\n",
        "pass\t#Instruction nulle (il ne se passe rien)\n",
        "break #Sortie de boucle\n",
        "continue #On passe à l'itération suivante dans une boucle\n",
        "\n",
        "#Quelques fonctions de base\n",
        "print\n",
        "range\n",
        "type\n",
        "abs\n",
        "\n",
        "#Fonctions de conversion de type (casting)\n",
        "int\n",
        "float\n",
        "bool\n",
        "str\n",
        "\n"
      ],
      "execution_count": 0,
      "outputs": []
    }
  ]
}