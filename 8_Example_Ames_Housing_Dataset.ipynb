{
  "nbformat": 4,
  "nbformat_minor": 0,
  "metadata": {
    "colab": {
      "name": "8_Example_Ames_Housing_Dataset.ipynb",
      "version": "0.3.2",
      "provenance": [],
      "collapsed_sections": [],
      "toc_visible": true,
      "include_colab_link": true
    },
    "kernelspec": {
      "name": "python3",
      "display_name": "Python 3"
    }
  },
  "cells": [
    {
      "cell_type": "markdown",
      "metadata": {
        "id": "view-in-github",
        "colab_type": "text"
      },
      "source": [
        "<a href=\"https://colab.research.google.com/github/titsitits/Python_Data_Science/blob/master/8_Example_Ames_Housing_Dataset.ipynb\" target=\"_parent\"><img src=\"https://colab.research.google.com/assets/colab-badge.svg\" alt=\"Open In Colab\"/></a>"
      ]
    },
    {
      "cell_type": "markdown",
      "metadata": {
        "id": "DfQ-d2onvooo",
        "colab_type": "text"
      },
      "source": [
        "Mickaël Tits\n",
        "CETIC\n",
        "mickael.tits@cetic.be"
      ]
    },
    {
      "cell_type": "markdown",
      "metadata": {
        "id": "Uvc0ah8oge9x",
        "colab_type": "text"
      },
      "source": [
        "# Chapitre 8 - Un exemple concret: prédiction du prix d'une maison à Ames (Iowa, USA)\n",
        "\n",
        "Dans ce Chapitre, nous allons analyser un vrai Dataset de biens immobiliers: le \"Ames Housing Dataset\". A partir de ces données, nous allons développer un modèle prédictif permettant d'estimer le prix d'une maison à partir de nombreuses caractéristiques, telles que sa surface, le nombre de pièces, différents indices de qualité, etc.\n",
        "\n",
        "Plus d'informations ici: \n",
        "https://www.kaggle.com/c/home-data-for-ml-course/overview/description\n",
        "\n",
        "http://jse.amstat.org/v19n3/decock.pdf\n",
        "\n",
        "Détails sur les variables du dataset: https://github.com/titsitits/Python_Data_Science/blob/master/Donn%C3%A9es/data_description.txt"
      ]
    },
    {
      "cell_type": "markdown",
      "metadata": {
        "id": "BO_L0DC-QxU9",
        "colab_type": "text"
      },
      "source": [
        "## Préparation/exploration du dataset"
      ]
    },
    {
      "cell_type": "code",
      "metadata": {
        "id": "9rW_gAdoCDOm",
        "colab_type": "code",
        "colab": {}
      },
      "source": [
        "import pandas as pd\n",
        "\n",
        "ames = pd.read_csv(\"https://raw.githubusercontent.com/titsitits/Python_Data_Science/master/Donn%C3%A9es/train.csv\")"
      ],
      "execution_count": 0,
      "outputs": []
    },
    {
      "cell_type": "markdown",
      "metadata": {
        "id": "0nrcLRYFj_jN",
        "colab_type": "text"
      },
      "source": [
        "Commençons par explorer brièvement la qualité des données.\n",
        "\n",
        "On a 1460 observations (maisons), et 81 variables dont un Id et le prix de vente (SalePrice). 19 variables contiennent des données invalides ou manquantes."
      ]
    },
    {
      "cell_type": "code",
      "metadata": {
        "id": "xi8-lBq2Nd0Z",
        "colab_type": "code",
        "colab": {}
      },
      "source": [
        "#Quelques fonctions utiles pour l'exploration\n",
        "\n",
        "#Par soucis de lisibilité, on affichera les series comme des dataframes d'une ligne\n",
        "def display_series(series):  \n",
        "  display(series.to_frame().transpose())\n",
        "  \n",
        "#Corrélation entre deux colonnes\n",
        "def col_corr(df,col1,col2):  \n",
        "  return df[[col1,col2]].corr().values[0,1]\n",
        "\n",
        "#Pour analyser l'effet d'une variable continue sur une autre, on peut extraire deux groupes (chaque côté de la médiane), et afficher un boxplot par groupe\n",
        "def mediangroups_boxplot_comparison(df, group_col, comparison_col):\n",
        "  df[\"above_median\"] = df[group_col] > df[group_col].quantile(0.5)\n",
        "  df.boxplot(comparison_col, by = \"above_median\")\n",
        "  df.pop(\"above_median\")\n",
        "\n",
        "#Pour analyser l'effet d'une variable continue sur une autre, on peut extraire deux groupes (chaque côté de la médiane), et calculer la moyenne par groupe\n",
        "def mediangroups_mean_comparison(df, group_col, comparison_col):  \n",
        "  means = df.groupby(df[group_col] > df[group_col].quantile(0.5))[comparison_col].mean()\n",
        "  means.index = ['Below','Above']\n",
        "  return means\n",
        "\n",
        "#Idem en séparant les groupes avec la moyenne\n",
        "def meangroups_mean_comparison(df, group_col, comparison_col):\n",
        "  means = df.groupby(df[group_col] > df[group_col].mean())[comparison_col].mean()\n",
        "  means.index = ['Below','Above']\n",
        "  return means"
      ],
      "execution_count": 0,
      "outputs": []
    },
    {
      "cell_type": "code",
      "metadata": {
        "id": "rjnQoJAxkKi1",
        "colab_type": "code",
        "outputId": "53c56580-f71f-4aff-df3f-c404d52ef229",
        "colab": {
          "base_uri": "https://localhost:8080/",
          "height": 152
        }
      },
      "source": [
        "print(ames.shape)\n",
        "print(list(ames.columns))\n",
        "\n",
        "#Colonnes incomplètes\n",
        "counts = ames.count()\n",
        "incomplete = counts[counts < len(ames)]\n",
        "display_series(incomplete.sort_values())\n",
        "len(incomplete.index)"
      ],
      "execution_count": 8,
      "outputs": [
        {
          "output_type": "stream",
          "text": [
            "(1460, 81)\n",
            "['Id', 'MSSubClass', 'MSZoning', 'LotFrontage', 'LotArea', 'Street', 'Alley', 'LotShape', 'LandContour', 'Utilities', 'LotConfig', 'LandSlope', 'Neighborhood', 'Condition1', 'Condition2', 'BldgType', 'HouseStyle', 'OverallQual', 'OverallCond', 'YearBuilt', 'YearRemodAdd', 'RoofStyle', 'RoofMatl', 'Exterior1st', 'Exterior2nd', 'MasVnrType', 'MasVnrArea', 'ExterQual', 'ExterCond', 'Foundation', 'BsmtQual', 'BsmtCond', 'BsmtExposure', 'BsmtFinType1', 'BsmtFinSF1', 'BsmtFinType2', 'BsmtFinSF2', 'BsmtUnfSF', 'TotalBsmtSF', 'Heating', 'HeatingQC', 'CentralAir', 'Electrical', '1stFlrSF', '2ndFlrSF', 'LowQualFinSF', 'GrLivArea', 'BsmtFullBath', 'BsmtHalfBath', 'FullBath', 'HalfBath', 'BedroomAbvGr', 'KitchenAbvGr', 'KitchenQual', 'TotRmsAbvGrd', 'Functional', 'Fireplaces', 'FireplaceQu', 'GarageType', 'GarageYrBlt', 'GarageFinish', 'GarageCars', 'GarageArea', 'GarageQual', 'GarageCond', 'PavedDrive', 'WoodDeckSF', 'OpenPorchSF', 'EnclosedPorch', '3SsnPorch', 'ScreenPorch', 'PoolArea', 'PoolQC', 'Fence', 'MiscFeature', 'MiscVal', 'MoSold', 'YrSold', 'SaleType', 'SaleCondition', 'SalePrice']\n"
          ],
          "name": "stdout"
        },
        {
          "output_type": "display_data",
          "data": {
            "text/html": [
              "<div>\n",
              "<style scoped>\n",
              "    .dataframe tbody tr th:only-of-type {\n",
              "        vertical-align: middle;\n",
              "    }\n",
              "\n",
              "    .dataframe tbody tr th {\n",
              "        vertical-align: top;\n",
              "    }\n",
              "\n",
              "    .dataframe thead th {\n",
              "        text-align: right;\n",
              "    }\n",
              "</style>\n",
              "<table border=\"1\" class=\"dataframe\">\n",
              "  <thead>\n",
              "    <tr style=\"text-align: right;\">\n",
              "      <th></th>\n",
              "      <th>PoolQC</th>\n",
              "      <th>MiscFeature</th>\n",
              "      <th>Alley</th>\n",
              "      <th>Fence</th>\n",
              "      <th>FireplaceQu</th>\n",
              "      <th>LotFrontage</th>\n",
              "      <th>GarageType</th>\n",
              "      <th>GarageYrBlt</th>\n",
              "      <th>GarageFinish</th>\n",
              "      <th>GarageQual</th>\n",
              "      <th>GarageCond</th>\n",
              "      <th>BsmtExposure</th>\n",
              "      <th>BsmtFinType2</th>\n",
              "      <th>BsmtFinType1</th>\n",
              "      <th>BsmtQual</th>\n",
              "      <th>BsmtCond</th>\n",
              "      <th>MasVnrArea</th>\n",
              "      <th>MasVnrType</th>\n",
              "      <th>Electrical</th>\n",
              "    </tr>\n",
              "  </thead>\n",
              "  <tbody>\n",
              "    <tr>\n",
              "      <th>0</th>\n",
              "      <td>7</td>\n",
              "      <td>54</td>\n",
              "      <td>91</td>\n",
              "      <td>281</td>\n",
              "      <td>770</td>\n",
              "      <td>1201</td>\n",
              "      <td>1379</td>\n",
              "      <td>1379</td>\n",
              "      <td>1379</td>\n",
              "      <td>1379</td>\n",
              "      <td>1379</td>\n",
              "      <td>1422</td>\n",
              "      <td>1422</td>\n",
              "      <td>1423</td>\n",
              "      <td>1423</td>\n",
              "      <td>1423</td>\n",
              "      <td>1452</td>\n",
              "      <td>1452</td>\n",
              "      <td>1459</td>\n",
              "    </tr>\n",
              "  </tbody>\n",
              "</table>\n",
              "</div>"
            ],
            "text/plain": [
              "   PoolQC  MiscFeature  Alley  ...  MasVnrArea  MasVnrType  Electrical\n",
              "0       7           54     91  ...        1452        1452        1459\n",
              "\n",
              "[1 rows x 19 columns]"
            ]
          },
          "metadata": {
            "tags": []
          }
        },
        {
          "output_type": "execute_result",
          "data": {
            "text/plain": [
              "19"
            ]
          },
          "metadata": {
            "tags": []
          },
          "execution_count": 8
        }
      ]
    },
    {
      "cell_type": "code",
      "metadata": {
        "id": "3uRAS8sdiw39",
        "colab_type": "code",
        "outputId": "ea12a664-4d26-420f-adf6-380a639a4e33",
        "colab": {
          "base_uri": "https://localhost:8080/",
          "height": 316
        }
      },
      "source": [
        "ames.hist(\"SalePrice\", bins = 30)"
      ],
      "execution_count": 9,
      "outputs": [
        {
          "output_type": "execute_result",
          "data": {
            "text/plain": [
              "array([[<matplotlib.axes._subplots.AxesSubplot object at 0x7fac738038d0>]],\n",
              "      dtype=object)"
            ]
          },
          "metadata": {
            "tags": []
          },
          "execution_count": 9
        },
        {
          "output_type": "display_data",
          "data": {
            "image/png": "[encoded data removed]",
            "text/plain": [
              "<Figure size 432x288 with 1 Axes>"
            ]
          },
          "metadata": {
            "tags": []
          }
        }
      ]
    },
    {
      "cell_type": "markdown",
      "metadata": {
        "id": "YNidzJlk0Ysk",
        "colab_type": "text"
      },
      "source": [
        "### Données manquantes"
      ]
    },
    {
      "cell_type": "markdown",
      "metadata": {
        "id": "6na2mKJInz9N",
        "colab_type": "text"
      },
      "source": [
        "sur les 19 variables incomplètes, 3 sont des variables numériques (les variables de type \"float64\"), et les autres sont des variables catégorielles (les variables de type \"object\").\n",
        "\n",
        "Après vérification de la description des variables, on remarque que les variables catégorielles contiennent des \"NA\" comme catégories, et qui sont automatiquement interprétées comme des NaN par pandas. \n",
        "\n",
        "Pour les variables catégorielles, nous allons simplement remplacer les NaN par une catégorie \"Nothing\". Nous allons ensuite analyser et corriger chaque variable numérique.\n",
        "\n"
      ]
    },
    {
      "cell_type": "code",
      "metadata": {
        "id": "mMH9OkrIpRWX",
        "colab_type": "code",
        "outputId": "a601f5dc-14cc-41b0-fcf9-7fae2350022d",
        "colab": {
          "base_uri": "https://localhost:8080/",
          "height": 189
        }
      },
      "source": [
        "#Pour vérifier le type d'une colonne: .dtypes()\n",
        "display_series(ames.dtypes)\n",
        "#Les variables catégorielles sont du type \"object\"\n",
        "\n",
        "#Vérifions les données incomplètes uniquement:\n",
        "display_series(ames[incomplete.index].dtypes)\n",
        "#Trois variables de type \"float64\" contiennent des NaN"
      ],
      "execution_count": 10,
      "outputs": [
        {
          "output_type": "display_data",
          "data": {
            "text/html": [
              "<div>\n",
              "<style scoped>\n",
              "    .dataframe tbody tr th:only-of-type {\n",
              "        vertical-align: middle;\n",
              "    }\n",
              "\n",
              "    .dataframe tbody tr th {\n",
              "        vertical-align: top;\n",
              "    }\n",
              "\n",
              "    .dataframe thead th {\n",
              "        text-align: right;\n",
              "    }\n",
              "</style>\n",
              "<table border=\"1\" class=\"dataframe\">\n",
              "  <thead>\n",
              "    <tr style=\"text-align: right;\">\n",
              "      <th></th>\n",
              "      <th>Id</th>\n",
              "      <th>MSSubClass</th>\n",
              "      <th>MSZoning</th>\n",
              "      <th>LotFrontage</th>\n",
              "      <th>LotArea</th>\n",
              "      <th>Street</th>\n",
              "      <th>Alley</th>\n",
              "      <th>LotShape</th>\n",
              "      <th>LandContour</th>\n",
              "      <th>Utilities</th>\n",
              "      <th>LotConfig</th>\n",
              "      <th>LandSlope</th>\n",
              "      <th>Neighborhood</th>\n",
              "      <th>Condition1</th>\n",
              "      <th>Condition2</th>\n",
              "      <th>BldgType</th>\n",
              "      <th>HouseStyle</th>\n",
              "      <th>OverallQual</th>\n",
              "      <th>OverallCond</th>\n",
              "      <th>YearBuilt</th>\n",
              "      <th>YearRemodAdd</th>\n",
              "      <th>RoofStyle</th>\n",
              "      <th>RoofMatl</th>\n",
              "      <th>Exterior1st</th>\n",
              "      <th>Exterior2nd</th>\n",
              "      <th>MasVnrType</th>\n",
              "      <th>MasVnrArea</th>\n",
              "      <th>ExterQual</th>\n",
              "      <th>ExterCond</th>\n",
              "      <th>Foundation</th>\n",
              "      <th>BsmtQual</th>\n",
              "      <th>BsmtCond</th>\n",
              "      <th>BsmtExposure</th>\n",
              "      <th>BsmtFinType1</th>\n",
              "      <th>BsmtFinSF1</th>\n",
              "      <th>BsmtFinType2</th>\n",
              "      <th>BsmtFinSF2</th>\n",
              "      <th>BsmtUnfSF</th>\n",
              "      <th>TotalBsmtSF</th>\n",
              "      <th>Heating</th>\n",
              "      <th>...</th>\n",
              "      <th>CentralAir</th>\n",
              "      <th>Electrical</th>\n",
              "      <th>1stFlrSF</th>\n",
              "      <th>2ndFlrSF</th>\n",
              "      <th>LowQualFinSF</th>\n",
              "      <th>GrLivArea</th>\n",
              "      <th>BsmtFullBath</th>\n",
              "      <th>BsmtHalfBath</th>\n",
              "      <th>FullBath</th>\n",
              "      <th>HalfBath</th>\n",
              "      <th>BedroomAbvGr</th>\n",
              "      <th>KitchenAbvGr</th>\n",
              "      <th>KitchenQual</th>\n",
              "      <th>TotRmsAbvGrd</th>\n",
              "      <th>Functional</th>\n",
              "      <th>Fireplaces</th>\n",
              "      <th>FireplaceQu</th>\n",
              "      <th>GarageType</th>\n",
              "      <th>GarageYrBlt</th>\n",
              "      <th>GarageFinish</th>\n",
              "      <th>GarageCars</th>\n",
              "      <th>GarageArea</th>\n",
              "      <th>GarageQual</th>\n",
              "      <th>GarageCond</th>\n",
              "      <th>PavedDrive</th>\n",
              "      <th>WoodDeckSF</th>\n",
              "      <th>OpenPorchSF</th>\n",
              "      <th>EnclosedPorch</th>\n",
              "      <th>3SsnPorch</th>\n",
              "      <th>ScreenPorch</th>\n",
              "      <th>PoolArea</th>\n",
              "      <th>PoolQC</th>\n",
              "      <th>Fence</th>\n",
              "      <th>MiscFeature</th>\n",
              "      <th>MiscVal</th>\n",
              "      <th>MoSold</th>\n",
              "      <th>YrSold</th>\n",
              "      <th>SaleType</th>\n",
              "      <th>SaleCondition</th>\n",
              "      <th>SalePrice</th>\n",
              "    </tr>\n",
              "  </thead>\n",
              "  <tbody>\n",
              "    <tr>\n",
              "      <th>0</th>\n",
              "      <td>int64</td>\n",
              "      <td>int64</td>\n",
              "      <td>object</td>\n",
              "      <td>float64</td>\n",
              "      <td>int64</td>\n",
              "      <td>object</td>\n",
              "      <td>object</td>\n",
              "      <td>object</td>\n",
              "      <td>object</td>\n",
              "      <td>object</td>\n",
              "      <td>object</td>\n",
              "      <td>object</td>\n",
              "      <td>object</td>\n",
              "      <td>object</td>\n",
              "      <td>object</td>\n",
              "      <td>object</td>\n",
              "      <td>object</td>\n",
              "      <td>int64</td>\n",
              "      <td>int64</td>\n",
              "      <td>int64</td>\n",
              "      <td>int64</td>\n",
              "      <td>object</td>\n",
              "      <td>object</td>\n",
              "      <td>object</td>\n",
              "      <td>object</td>\n",
              "      <td>object</td>\n",
              "      <td>float64</td>\n",
              "      <td>object</td>\n",
              "      <td>object</td>\n",
              "      <td>object</td>\n",
              "      <td>object</td>\n",
              "      <td>object</td>\n",
              "      <td>object</td>\n",
              "      <td>object</td>\n",
              "      <td>int64</td>\n",
              "      <td>object</td>\n",
              "      <td>int64</td>\n",
              "      <td>int64</td>\n",
              "      <td>int64</td>\n",
              "      <td>object</td>\n",
              "      <td>...</td>\n",
              "      <td>object</td>\n",
              "      <td>object</td>\n",
              "      <td>int64</td>\n",
              "      <td>int64</td>\n",
              "      <td>int64</td>\n",
              "      <td>int64</td>\n",
              "      <td>int64</td>\n",
              "      <td>int64</td>\n",
              "      <td>int64</td>\n",
              "      <td>int64</td>\n",
              "      <td>int64</td>\n",
              "      <td>int64</td>\n",
              "      <td>object</td>\n",
              "      <td>int64</td>\n",
              "      <td>object</td>\n",
              "      <td>int64</td>\n",
              "      <td>object</td>\n",
              "      <td>object</td>\n",
              "      <td>float64</td>\n",
              "      <td>object</td>\n",
              "      <td>int64</td>\n",
              "      <td>int64</td>\n",
              "      <td>object</td>\n",
              "      <td>object</td>\n",
              "      <td>object</td>\n",
              "      <td>int64</td>\n",
              "      <td>int64</td>\n",
              "      <td>int64</td>\n",
              "      <td>int64</td>\n",
              "      <td>int64</td>\n",
              "      <td>int64</td>\n",
              "      <td>object</td>\n",
              "      <td>object</td>\n",
              "      <td>object</td>\n",
              "      <td>int64</td>\n",
              "      <td>int64</td>\n",
              "      <td>int64</td>\n",
              "      <td>object</td>\n",
              "      <td>object</td>\n",
              "      <td>int64</td>\n",
              "    </tr>\n",
              "  </tbody>\n",
              "</table>\n",
              "<p>1 rows × 81 columns</p>\n",
              "</div>"
            ],
            "text/plain": [
              "      Id MSSubClass MSZoning  ... SaleType SaleCondition SalePrice\n",
              "0  int64      int64   object  ...   object        object     int64\n",
              "\n",
              "[1 rows x 81 columns]"
            ]
          },
          "metadata": {
            "tags": []
          }
        },
        {
          "output_type": "display_data",
          "data": {
            "text/html": [
              "<div>\n",
              "<style scoped>\n",
              "    .dataframe tbody tr th:only-of-type {\n",
              "        vertical-align: middle;\n",
              "    }\n",
              "\n",
              "    .dataframe tbody tr th {\n",
              "        vertical-align: top;\n",
              "    }\n",
              "\n",
              "    .dataframe thead th {\n",
              "        text-align: right;\n",
              "    }\n",
              "</style>\n",
              "<table border=\"1\" class=\"dataframe\">\n",
              "  <thead>\n",
              "    <tr style=\"text-align: right;\">\n",
              "      <th></th>\n",
              "      <th>LotFrontage</th>\n",
              "      <th>Alley</th>\n",
              "      <th>MasVnrType</th>\n",
              "      <th>MasVnrArea</th>\n",
              "      <th>BsmtQual</th>\n",
              "      <th>BsmtCond</th>\n",
              "      <th>BsmtExposure</th>\n",
              "      <th>BsmtFinType1</th>\n",
              "      <th>BsmtFinType2</th>\n",
              "      <th>Electrical</th>\n",
              "      <th>FireplaceQu</th>\n",
              "      <th>GarageType</th>\n",
              "      <th>GarageYrBlt</th>\n",
              "      <th>GarageFinish</th>\n",
              "      <th>GarageQual</th>\n",
              "      <th>GarageCond</th>\n",
              "      <th>PoolQC</th>\n",
              "      <th>Fence</th>\n",
              "      <th>MiscFeature</th>\n",
              "    </tr>\n",
              "  </thead>\n",
              "  <tbody>\n",
              "    <tr>\n",
              "      <th>0</th>\n",
              "      <td>float64</td>\n",
              "      <td>object</td>\n",
              "      <td>object</td>\n",
              "      <td>float64</td>\n",
              "      <td>object</td>\n",
              "      <td>object</td>\n",
              "      <td>object</td>\n",
              "      <td>object</td>\n",
              "      <td>object</td>\n",
              "      <td>object</td>\n",
              "      <td>object</td>\n",
              "      <td>object</td>\n",
              "      <td>float64</td>\n",
              "      <td>object</td>\n",
              "      <td>object</td>\n",
              "      <td>object</td>\n",
              "      <td>object</td>\n",
              "      <td>object</td>\n",
              "      <td>object</td>\n",
              "    </tr>\n",
              "  </tbody>\n",
              "</table>\n",
              "</div>"
            ],
            "text/plain": [
              "  LotFrontage   Alley MasVnrType  ...  PoolQC   Fence MiscFeature\n",
              "0     float64  object     object  ...  object  object      object\n",
              "\n",
              "[1 rows x 19 columns]"
            ]
          },
          "metadata": {
            "tags": []
          }
        }
      ]
    },
    {
      "cell_type": "markdown",
      "metadata": {
        "id": "iC7ZwVA-XR7s",
        "colab_type": "text"
      },
      "source": [
        "#### Correction de variables catégorielles\n",
        "Pour les variables catégorielles, remplaçons les NaN par la catégorie \"Nothing\"."
      ]
    },
    {
      "cell_type": "code",
      "metadata": {
        "id": "KgDXdSDeoitq",
        "colab_type": "code",
        "colab": {}
      },
      "source": [
        "cat_columns = ames.columns[ames.dtypes == 'object']\n",
        "for col in cat_columns:\n",
        "  ames[col] = ames[col].fillna('Nothing')"
      ],
      "execution_count": 0,
      "outputs": []
    },
    {
      "cell_type": "markdown",
      "metadata": {
        "id": "8FfB4Ys1XVPF",
        "colab_type": "text"
      },
      "source": [
        "#### Exploration et correction des variables numériques\n",
        "Analysons la qualité de chaque variable: quelle est la proportion de données manquantes ?"
      ]
    },
    {
      "cell_type": "code",
      "metadata": {
        "id": "l3xRRb6ep7k5",
        "colab_type": "code",
        "outputId": "892c4606-6958-468a-856f-be72cde3f321",
        "colab": {
          "base_uri": "https://localhost:8080/",
          "height": 78
        }
      },
      "source": [
        "counts = ames.count()\n",
        "incomplete = counts[counts < len(ames)]\n",
        "display_series(incomplete.sort_values())"
      ],
      "execution_count": 12,
      "outputs": [
        {
          "output_type": "display_data",
          "data": {
            "text/html": [
              "<div>\n",
              "<style scoped>\n",
              "    .dataframe tbody tr th:only-of-type {\n",
              "        vertical-align: middle;\n",
              "    }\n",
              "\n",
              "    .dataframe tbody tr th {\n",
              "        vertical-align: top;\n",
              "    }\n",
              "\n",
              "    .dataframe thead th {\n",
              "        text-align: right;\n",
              "    }\n",
              "</style>\n",
              "<table border=\"1\" class=\"dataframe\">\n",
              "  <thead>\n",
              "    <tr style=\"text-align: right;\">\n",
              "      <th></th>\n",
              "      <th>LotFrontage</th>\n",
              "      <th>GarageYrBlt</th>\n",
              "      <th>MasVnrArea</th>\n",
              "    </tr>\n",
              "  </thead>\n",
              "  <tbody>\n",
              "    <tr>\n",
              "      <th>0</th>\n",
              "      <td>1201</td>\n",
              "      <td>1379</td>\n",
              "      <td>1452</td>\n",
              "    </tr>\n",
              "  </tbody>\n",
              "</table>\n",
              "</div>"
            ],
            "text/plain": [
              "   LotFrontage  GarageYrBlt  MasVnrArea\n",
              "0         1201         1379        1452"
            ]
          },
          "metadata": {
            "tags": []
          }
        }
      ]
    },
    {
      "cell_type": "markdown",
      "metadata": {
        "id": "8KECCDEox5Zt",
        "colab_type": "text"
      },
      "source": [
        "Est-ce que le fait que la variable soit manquante est en soi une information intéressante ? autrement dit, est-ce que ça a une influence sur le prix ?"
      ]
    },
    {
      "cell_type": "code",
      "metadata": {
        "id": "CzL2lKa0r7AI",
        "colab_type": "code",
        "outputId": "caa460ce-59ce-482a-8841-e3a522ce0201",
        "colab": {
          "base_uri": "https://localhost:8080/",
          "height": 201
        }
      },
      "source": [
        "#Mean price for NaNs and for non-NaNs\n",
        "display_series(ames.groupby(ames.LotFrontage.isna())[\"SalePrice\"].mean())\n",
        "display_series(ames.groupby(ames.GarageYrBlt.isna())[\"SalePrice\"].mean())\n",
        "display_series(ames.groupby(ames.MasVnrArea.isna())[\"SalePrice\"].mean())"
      ],
      "execution_count": 13,
      "outputs": [
        {
          "output_type": "display_data",
          "data": {
            "text/html": [
              "<div>\n",
              "<style scoped>\n",
              "    .dataframe tbody tr th:only-of-type {\n",
              "        vertical-align: middle;\n",
              "    }\n",
              "\n",
              "    .dataframe tbody tr th {\n",
              "        vertical-align: top;\n",
              "    }\n",
              "\n",
              "    .dataframe thead th {\n",
              "        text-align: right;\n",
              "    }\n",
              "</style>\n",
              "<table border=\"1\" class=\"dataframe\">\n",
              "  <thead>\n",
              "    <tr style=\"text-align: right;\">\n",
              "      <th>LotFrontage</th>\n",
              "      <th>False</th>\n",
              "      <th>True</th>\n",
              "    </tr>\n",
              "  </thead>\n",
              "  <tbody>\n",
              "    <tr>\n",
              "      <th>SalePrice</th>\n",
              "      <td>180770.480433</td>\n",
              "      <td>181620.073359</td>\n",
              "    </tr>\n",
              "  </tbody>\n",
              "</table>\n",
              "</div>"
            ],
            "text/plain": [
              "LotFrontage          False          True \n",
              "SalePrice    180770.480433  181620.073359"
            ]
          },
          "metadata": {
            "tags": []
          }
        },
        {
          "output_type": "display_data",
          "data": {
            "text/html": [
              "<div>\n",
              "<style scoped>\n",
              "    .dataframe tbody tr th:only-of-type {\n",
              "        vertical-align: middle;\n",
              "    }\n",
              "\n",
              "    .dataframe tbody tr th {\n",
              "        vertical-align: top;\n",
              "    }\n",
              "\n",
              "    .dataframe thead th {\n",
              "        text-align: right;\n",
              "    }\n",
              "</style>\n",
              "<table border=\"1\" class=\"dataframe\">\n",
              "  <thead>\n",
              "    <tr style=\"text-align: right;\">\n",
              "      <th>GarageYrBlt</th>\n",
              "      <th>False</th>\n",
              "      <th>True</th>\n",
              "    </tr>\n",
              "  </thead>\n",
              "  <tbody>\n",
              "    <tr>\n",
              "      <th>SalePrice</th>\n",
              "      <td>185479.51124</td>\n",
              "      <td>103317.283951</td>\n",
              "    </tr>\n",
              "  </tbody>\n",
              "</table>\n",
              "</div>"
            ],
            "text/plain": [
              "GarageYrBlt         False          True \n",
              "SalePrice    185479.51124  103317.283951"
            ]
          },
          "metadata": {
            "tags": []
          }
        },
        {
          "output_type": "display_data",
          "data": {
            "text/html": [
              "<div>\n",
              "<style scoped>\n",
              "    .dataframe tbody tr th:only-of-type {\n",
              "        vertical-align: middle;\n",
              "    }\n",
              "\n",
              "    .dataframe tbody tr th {\n",
              "        vertical-align: top;\n",
              "    }\n",
              "\n",
              "    .dataframe thead th {\n",
              "        text-align: right;\n",
              "    }\n",
              "</style>\n",
              "<table border=\"1\" class=\"dataframe\">\n",
              "  <thead>\n",
              "    <tr style=\"text-align: right;\">\n",
              "      <th>MasVnrArea</th>\n",
              "      <th>False</th>\n",
              "      <th>True</th>\n",
              "    </tr>\n",
              "  </thead>\n",
              "  <tbody>\n",
              "    <tr>\n",
              "      <th>SalePrice</th>\n",
              "      <td>180615.063361</td>\n",
              "      <td>236484.25</td>\n",
              "    </tr>\n",
              "  </tbody>\n",
              "</table>\n",
              "</div>"
            ],
            "text/plain": [
              "MasVnrArea          False      True \n",
              "SalePrice   180615.063361  236484.25"
            ]
          },
          "metadata": {
            "tags": []
          }
        }
      ]
    },
    {
      "cell_type": "markdown",
      "metadata": {
        "id": "fXcg6gWatKZD",
        "colab_type": "text"
      },
      "source": [
        "L'absence de LotFrontage ne semble pas avoir d'influence sur le prix. Les deux autres variables ont une influence. GarageYrBlt = NaN signifie probablement qu'il n'y a pas de garage (ce qui diminue la valeur), et MasVnrArea = NaN semble augmenter la valeur."
      ]
    },
    {
      "cell_type": "markdown",
      "metadata": {
        "id": "8988suQTvwIX",
        "colab_type": "text"
      },
      "source": [
        "##### MasVnrArea"
      ]
    },
    {
      "cell_type": "code",
      "metadata": {
        "id": "9kPorBFzt2EC",
        "colab_type": "code",
        "outputId": "0c35a9f6-e31f-4992-b776-f884a006a3f6",
        "colab": {
          "base_uri": "https://localhost:8080/",
          "height": 647
        }
      },
      "source": [
        "#Analysons la relation entre \"MasVnrArea\" et le prix\n",
        "print(col_corr(ames,\"MasVnrArea\",\"SalePrice\"))\n",
        "display_series(mediangroups_mean_comparison(ames,\"MasVnrArea\",\"SalePrice\"))\n",
        "mediangroups_boxplot_comparison(ames,\"MasVnrArea\",\"SalePrice\")\n",
        "ames.plot.scatter(\"MasVnrArea\",\"SalePrice\")\n",
        "#Il semblerait que l'influence soit positive\n",
        "\n",
        "#Une possibilité pour prendre en compte cette information est de remplacer les NaN la moyenne de la colonne (ce qui minimisera l'influence de la variable pour ces observations particulières), et d'ajouter une colonne \"isnan_MasVnrArea\" pour garder l'information\n",
        "#La relation entre \"MasVnrArea\" et \"SalePrice\" ne devrait pas être trop faussée de cette manière, étant donné que le nombre de NaN est assez faible (81).\n",
        "ames[\"isnan_MasVnrArea\"] = ames.MasVnrArea.isna().astype(int) #.astype(int) permet de rendre la variable numérique. #.astype(str) permettrait d'en faire une variable catégorielle\n",
        "ames[\"MasVnrArea\"] = ames[\"MasVnrArea\"].fillna(ames[\"MasVnrArea\"].mean())"
      ],
      "execution_count": 14,
      "outputs": [
        {
          "output_type": "stream",
          "text": [
            "0.4774930470957107\n"
          ],
          "name": "stdout"
        },
        {
          "output_type": "display_data",
          "data": {
            "text/html": [
              "<div>\n",
              "<style scoped>\n",
              "    .dataframe tbody tr th:only-of-type {\n",
              "        vertical-align: middle;\n",
              "    }\n",
              "\n",
              "    .dataframe tbody tr th {\n",
              "        vertical-align: top;\n",
              "    }\n",
              "\n",
              "    .dataframe thead th {\n",
              "        text-align: right;\n",
              "    }\n",
              "</style>\n",
              "<table border=\"1\" class=\"dataframe\">\n",
              "  <thead>\n",
              "    <tr style=\"text-align: right;\">\n",
              "      <th></th>\n",
              "      <th>Below</th>\n",
              "      <th>Above</th>\n",
              "    </tr>\n",
              "  </thead>\n",
              "  <tbody>\n",
              "    <tr>\n",
              "      <th>SalePrice</th>\n",
              "      <td>157293.746835</td>\n",
              "      <td>215662.741117</td>\n",
              "    </tr>\n",
              "  </tbody>\n",
              "</table>\n",
              "</div>"
            ],
            "text/plain": [
              "                   Below          Above\n",
              "SalePrice  157293.746835  215662.741117"
            ]
          },
          "metadata": {
            "tags": []
          }
        },
        {
          "output_type": "display_data",
          "data": {
            "image/png": "[encoded data removed]",
            "text/plain": [
              "<Figure size 432x288 with 1 Axes>"
            ]
          },
          "metadata": {
            "tags": []
          }
        },
        {
          "output_type": "display_data",
          "data": {
            "image/png": "[encoded data removed]",
            "text/plain": [
              "<Figure size 432x288 with 1 Axes>"
            ]
          },
          "metadata": {
            "tags": []
          }
        }
      ]
    },
    {
      "cell_type": "markdown",
      "metadata": {
        "id": "4a9-9-fqv2h6",
        "colab_type": "text"
      },
      "source": [
        "##### LotFrontage"
      ]
    },
    {
      "cell_type": "code",
      "metadata": {
        "id": "Ri_eA_YQxnvA",
        "colab_type": "code",
        "outputId": "7b744985-3869-40c5-e31d-e6638fa291dc",
        "colab": {
          "base_uri": "https://localhost:8080/",
          "height": 647
        }
      },
      "source": [
        "#Analysons la relation entre \"LotFrontage\" et le prix\n",
        "print(col_corr(ames,\"LotFrontage\",\"SalePrice\"))\n",
        "display_series(mediangroups_mean_comparison(ames,\"LotFrontage\",\"SalePrice\"))\n",
        "mediangroups_boxplot_comparison(ames,\"LotFrontage\",\"SalePrice\")\n",
        "ames.plot.scatter(\"LotFrontage\",\"SalePrice\", s = 1)\n",
        "\n",
        "#Ajoutons une variable isnan_LotFrontage pour pouvoir utiliser cette information dans notre modèle plus tard:\n",
        "ames[\"isnan_LotFrontage\"] = ames.LotFrontage.isna().astype(int)\n",
        "#Ensuite, étant donné le grand nombre de NaNs (~18%), il est préférable (dans une premier temps) de ne pas utiliser cette variable en remplaçant les NaN par la moyenne\n",
        "#Une autre possibilité serait d'entraîner un modèle de régression pour prédire ces données manquantes à partir des autres variables.\n",
        "out = ames.pop(\"LotFrontage\")"
      ],
      "execution_count": 15,
      "outputs": [
        {
          "output_type": "stream",
          "text": [
            "0.35179909657067854\n"
          ],
          "name": "stdout"
        },
        {
          "output_type": "display_data",
          "data": {
            "text/html": [
              "<div>\n",
              "<style scoped>\n",
              "    .dataframe tbody tr th:only-of-type {\n",
              "        vertical-align: middle;\n",
              "    }\n",
              "\n",
              "    .dataframe tbody tr th {\n",
              "        vertical-align: top;\n",
              "    }\n",
              "\n",
              "    .dataframe thead th {\n",
              "        text-align: right;\n",
              "    }\n",
              "</style>\n",
              "<table border=\"1\" class=\"dataframe\">\n",
              "  <thead>\n",
              "    <tr style=\"text-align: right;\">\n",
              "      <th></th>\n",
              "      <th>Below</th>\n",
              "      <th>Above</th>\n",
              "    </tr>\n",
              "  </thead>\n",
              "  <tbody>\n",
              "    <tr>\n",
              "      <th>SalePrice</th>\n",
              "      <td>162409.166279</td>\n",
              "      <td>207455.105</td>\n",
              "    </tr>\n",
              "  </tbody>\n",
              "</table>\n",
              "</div>"
            ],
            "text/plain": [
              "                   Below       Above\n",
              "SalePrice  162409.166279  207455.105"
            ]
          },
          "metadata": {
            "tags": []
          }
        },
        {
          "output_type": "display_data",
          "data": {
            "image/png": "[encoded data removed]",
            "text/plain": [
              "<Figure size 432x288 with 1 Axes>"
            ]
          },
          "metadata": {
            "tags": []
          }
        },
        {
          "output_type": "display_data",
          "data": {
            "image/png": "[encoded data removed]",
            "text/plain": [
              "<Figure size 432x288 with 1 Axes>"
            ]
          },
          "metadata": {
            "tags": []
          }
        }
      ]
    },
    {
      "cell_type": "markdown",
      "metadata": {
        "id": "1Xi5TJ6r2V5p",
        "colab_type": "text"
      },
      "source": [
        "On ne peut pas considérer Lotfrontage = NaN comme 0, auquel cas le prix moyen serait plus faible que pour les autres maisons. Il est préférable d'omettre la variable vu la quantité de NaN (plus de 10%). Remplacer NaN par une valeur apporterait des informations erronnées, et omettre les observations réduirait significativement la taille du dataset."
      ]
    },
    {
      "cell_type": "markdown",
      "metadata": {
        "id": "ooOgJTxIv5k8",
        "colab_type": "text"
      },
      "source": [
        "##### GarageYrBlt"
      ]
    },
    {
      "cell_type": "code",
      "metadata": {
        "id": "eeIP_RARu4qW",
        "colab_type": "code",
        "outputId": "e511dc9c-4392-4af1-eeda-6780b41a0ec8",
        "colab": {
          "base_uri": "https://localhost:8080/",
          "height": 412
        }
      },
      "source": [
        "#Concernant l'année de construction du garage, une valeur nulle n'aurait aucun sens.\n",
        "#On peut vérifier que la NaN correspond simplement à une absence de garage. En effet, leur surface est toujours nulle:\n",
        "display_series(ames[ames.GarageYrBlt.isna()].GarageArea.describe())\n",
        "#L'information sur l'absence de garage est donc déjà présente dans une autre variable. \n",
        "\n",
        "ames.corrwith(ames[\"GarageYrBlt\"]).plot.bar(figsize = (10,4))\n",
        "#On remarque aussi que l'année de construction du garage est logiquement corrélée avec l'année de construction du bien.\n",
        "#Pour remplir les quelques NaN, on peut éventuellement \"simuler\" une date de construction du garage avec l'année de construction.\n",
        "ames[\"GarageYrBlt\"] = ames[\"GarageYrBlt\"].fillna(ames[\"YearBuilt\"])"
      ],
      "execution_count": 16,
      "outputs": [
        {
          "output_type": "display_data",
          "data": {
            "text/html": [
              "<div>\n",
              "<style scoped>\n",
              "    .dataframe tbody tr th:only-of-type {\n",
              "        vertical-align: middle;\n",
              "    }\n",
              "\n",
              "    .dataframe tbody tr th {\n",
              "        vertical-align: top;\n",
              "    }\n",
              "\n",
              "    .dataframe thead th {\n",
              "        text-align: right;\n",
              "    }\n",
              "</style>\n",
              "<table border=\"1\" class=\"dataframe\">\n",
              "  <thead>\n",
              "    <tr style=\"text-align: right;\">\n",
              "      <th></th>\n",
              "      <th>count</th>\n",
              "      <th>mean</th>\n",
              "      <th>std</th>\n",
              "      <th>min</th>\n",
              "      <th>25%</th>\n",
              "      <th>50%</th>\n",
              "      <th>75%</th>\n",
              "      <th>max</th>\n",
              "    </tr>\n",
              "  </thead>\n",
              "  <tbody>\n",
              "    <tr>\n",
              "      <th>GarageArea</th>\n",
              "      <td>81.0</td>\n",
              "      <td>0.0</td>\n",
              "      <td>0.0</td>\n",
              "      <td>0.0</td>\n",
              "      <td>0.0</td>\n",
              "      <td>0.0</td>\n",
              "      <td>0.0</td>\n",
              "      <td>0.0</td>\n",
              "    </tr>\n",
              "  </tbody>\n",
              "</table>\n",
              "</div>"
            ],
            "text/plain": [
              "            count  mean  std  min  25%  50%  75%  max\n",
              "GarageArea   81.0   0.0  0.0  0.0  0.0  0.0  0.0  0.0"
            ]
          },
          "metadata": {
            "tags": []
          }
        },
        {
          "output_type": "display_data",
          "data": {
            "image/png": "[encoded data removed]",
            "text/plain": [
              "<Figure size 720x288 with 1 Axes>"
            ]
          },
          "metadata": {
            "tags": []
          }
        }
      ]
    },
    {
      "cell_type": "markdown",
      "metadata": {
        "id": "VgsIPuREtEwY",
        "colab_type": "text"
      },
      "source": [
        "#### Suppression des variables inutiles"
      ]
    },
    {
      "cell_type": "code",
      "metadata": {
        "id": "-ECUyuFItBQi",
        "colab_type": "code",
        "colab": {}
      },
      "source": [
        "out = ames.pop(\"Id\")"
      ],
      "execution_count": 0,
      "outputs": []
    },
    {
      "cell_type": "markdown",
      "metadata": {
        "id": "_TSUZHdqnx7U",
        "colab_type": "text"
      },
      "source": [
        "#### Tout en une fonction\n",
        "Il est intéressant de redéfinir le pipeline de correction avec une fonction, pour pouvoir le réappliquer plus tard sur de nouvelles données (le set de test par exemple)"
      ]
    },
    {
      "cell_type": "code",
      "metadata": {
        "id": "VqIq7Ie0iM21",
        "colab_type": "code",
        "colab": {}
      },
      "source": [
        "def clean_df(df):\n",
        "  #Fill categorical columns\n",
        "  cat_columns = df.columns[df.dtypes == 'object']\n",
        "  for col in cat_columns:\n",
        "    df[col] = df[col].fillna('Nothing')\n",
        "  \n",
        "  #Clean MasVnrArea\n",
        "  df[\"isnan_MasVnrArea\"] = df.MasVnrArea.isna().astype(int)\n",
        "  df[\"MasVnrArea\"] = df[\"MasVnrArea\"].fillna(df[\"MasVnrArea\"].mean())\n",
        "  \n",
        "  #Clean LotFrontage\n",
        "  df[\"isnan_LotFrontage\"] = df.LotFrontage.isna().astype(int)\n",
        "  df = df.drop(\"LotFrontage\", axis=1)\n",
        "  \n",
        "  #Clean GarageYrBlt\n",
        "  df[\"GarageYrBlt\"] = df[\"GarageYrBlt\"].fillna(df[\"YearBuilt\"])\n",
        "  \n",
        "  #Suppression des variables inutiles\n",
        "  out = df.pop(\"Id\")\n",
        "  \n",
        "  return df"
      ],
      "execution_count": 0,
      "outputs": []
    },
    {
      "cell_type": "markdown",
      "metadata": {
        "id": "pOQxM9NltjAW",
        "colab_type": "text"
      },
      "source": [
        "## Sélection de variables prédictives"
      ]
    },
    {
      "cell_type": "markdown",
      "metadata": {
        "id": "m308qsX1pXLP",
        "colab_type": "text"
      },
      "source": [
        "### Analyse de corrélation (variables continues)\n",
        "\n",
        "Remarque: les méthodes pandas.DataFrame.corr() et .corrwith() omettent automatiquement les variables non-numériques."
      ]
    },
    {
      "cell_type": "code",
      "metadata": {
        "id": "FdC4Ay36fqTy",
        "colab_type": "code",
        "outputId": "3a39d986-cc58-447e-e4ec-dd3f246446f0",
        "colab": {
          "base_uri": "https://localhost:8080/",
          "height": 351
        }
      },
      "source": [
        "from matplotlib import pyplot as plt\n",
        "\n",
        "#corrélations des variables avec le prix\n",
        "corr_with_price = ames.corrwith(ames[\"SalePrice\"])\n",
        "\n",
        "#On trie les variables selon la valeur absolue de leur corrélation avec le prix\n",
        "best_features = corr_with_price.abs().sort_values(ascending=False)\n",
        "\n",
        "# On ne évidemment peut utiliser le label comme variable prédictive\n",
        "best_features.pop(\"SalePrice\")\n",
        "\n",
        "best_features.plot.bar(figsize=(10,4))\n",
        "\n",
        "best_features = best_features.index.to_list()"
      ],
      "execution_count": 159,
      "outputs": [
        {
          "output_type": "display_data",
          "data": {
            "image/png": "[encoded data removed]",
            "text/plain": [
              "<Figure size 720x288 with 1 Axes>"
            ]
          },
          "metadata": {
            "tags": []
          }
        }
      ]
    },
    {
      "cell_type": "markdown",
      "metadata": {
        "id": "aWA7fcF4rHOH",
        "colab_type": "text"
      },
      "source": [
        "### Analyse basique d'effet des variables continues"
      ]
    },
    {
      "cell_type": "code",
      "metadata": {
        "id": "aIiC_LlqrENl",
        "colab_type": "code",
        "outputId": "8b58811e-e1f7-4729-a955-9d742a54dd8b",
        "colab": {
          "base_uri": "https://localhost:8080/",
          "height": 351
        }
      },
      "source": [
        "#Analyse de l'effet\n",
        "continuous_col = ames.columns[(ames.dtypes == 'int64') | (ames.dtypes == 'float64')]\n",
        "\n",
        "delta_mean = []\n",
        "\n",
        "for col in list(continuous_col):  \n",
        "  means = meangroups_mean_comparison(ames, col, \"SalePrice\")\n",
        "  delta_mean.append( means[1] - means[0] )\n",
        "\n",
        "best_features_effects = pd.Series(delta_mean, continuous_col).abs().sort_values(ascending = False)\n",
        "best_features_effects = best_features_effects.drop(\"SalePrice\")\n",
        "best_features_effects.plot.bar(figsize=(10,4))\n",
        "\n",
        "best_features_effects = best_features_effects.index.to_list()"
      ],
      "execution_count": 112,
      "outputs": [
        {
          "output_type": "display_data",
          "data": {
            "image/png": "[encoded data removed]",
            "text/plain": [
              "<Figure size 720x288 with 1 Axes>"
            ]
          },
          "metadata": {
            "tags": []
          }
        }
      ]
    },
    {
      "cell_type": "markdown",
      "metadata": {
        "id": "Vi5_I8Z9yMfD",
        "colab_type": "text"
      },
      "source": [
        "Les résultats sont assez similaires. En réalité, les différences principales se trouvent pour les variables dont la distribution est fortement asymmétrique (e.g.: PoolArea est la plupart du temps 0, tout comme isnan_MasVnrArea)"
      ]
    },
    {
      "cell_type": "code",
      "metadata": {
        "id": "1Fl5jS12zcMu",
        "colab_type": "code",
        "outputId": "097868c7-b294-4268-b61e-b5da47ed2120",
        "colab": {
          "base_uri": "https://localhost:8080/",
          "height": 232
        }
      },
      "source": [
        "fig, axes = plt.subplots(1,4,figsize = (15,3))\n",
        "ames.boxplot(\"OverallQual\", ax = axes[0])\n",
        "ames.boxplot(\"GrLivArea\", ax = axes[1])\n",
        "ames.boxplot(\"PoolArea\", ax = axes[2])\n",
        "ames.boxplot(\"isnan_MasVnrArea\", ax = axes[3])"
      ],
      "execution_count": 113,
      "outputs": [
        {
          "output_type": "execute_result",
          "data": {
            "text/plain": [
              "<matplotlib.axes._subplots.AxesSubplot at 0x7fac6479a898>"
            ]
          },
          "metadata": {
            "tags": []
          },
          "execution_count": 113
        },
        {
          "output_type": "display_data",
          "data": {
            "image/png": "[encoded data removed]",
            "text/plain": [
              "<Figure size 1080x216 with 4 Axes>"
            ]
          },
          "metadata": {
            "tags": []
          }
        }
      ]
    },
    {
      "cell_type": "markdown",
      "metadata": {
        "id": "GieK4cCJQecG",
        "colab_type": "text"
      },
      "source": [
        "## Préparation des sets d'entraînement et de validation"
      ]
    },
    {
      "cell_type": "markdown",
      "metadata": {
        "id": "FZcr_oCYSmm9",
        "colab_type": "text"
      },
      "source": [
        "### Sélection des variables prédictives (features)"
      ]
    },
    {
      "cell_type": "code",
      "metadata": {
        "id": "LjOypw1hSXD3",
        "colab_type": "code",
        "colab": {}
      },
      "source": [
        "#Prenons les cinq meilleures variables prédictives (en sa basant sur leur corrélation avec le prix, ou le delta de la moyenne)\n",
        "featurelist = best_features[:5]\n",
        "#featurelist = best_features_effects[:5]\n",
        "\n",
        "X = ames[featurelist]\n",
        "y = ames[\"SalePrice\"]"
      ],
      "execution_count": 0,
      "outputs": []
    },
    {
      "cell_type": "markdown",
      "metadata": {
        "id": "JCqFx1_6Sq92",
        "colab_type": "text"
      },
      "source": [
        "### Séparation des données d'entraînement et de validation"
      ]
    },
    {
      "cell_type": "code",
      "metadata": {
        "id": "vDKVXwL9m5l4",
        "colab_type": "code",
        "colab": {}
      },
      "source": [
        "from sklearn.model_selection import train_test_split\n",
        "import numpy as np\n",
        "\n",
        "ids = ames.index\n",
        "trainids, valids = train_test_split(ids, test_size = 0.4)\n",
        "Xtrain, Xval, ytrain, yval = X.loc[trainids], X.loc[valids], y.loc[trainids], y.loc[valids]\n",
        "\n",
        "#Remarque: ce code est équivalent, mais le but ici est de garder les mêmes ids pour comparer plusieurs modèles (ou pour calculer la moyenne des prédictions, voir fin du notebook)\n",
        "#Xtrain, Xval, ytrain, yval = train_test_split(X, y, test_size = 0.4)"
      ],
      "execution_count": 0,
      "outputs": []
    },
    {
      "cell_type": "markdown",
      "metadata": {
        "id": "laD_Mgz0S4d1",
        "colab_type": "text"
      },
      "source": [
        "## Régression linéaire"
      ]
    },
    {
      "cell_type": "code",
      "metadata": {
        "id": "9pij4mZ5l32w",
        "colab_type": "code",
        "outputId": "08499783-6afd-437d-9ba1-d69a479e1ac3",
        "colab": {
          "base_uri": "https://localhost:8080/",
          "height": 35
        }
      },
      "source": [
        "from sklearn.linear_model import LinearRegression\n",
        "\n",
        "price_predictor = LinearRegression()\n",
        "price_predictor.fit(Xtrain, ytrain)\n"
      ],
      "execution_count": 161,
      "outputs": [
        {
          "output_type": "execute_result",
          "data": {
            "text/plain": [
              "LinearRegression(copy_X=True, fit_intercept=True, n_jobs=None, normalize=False)"
            ]
          },
          "metadata": {
            "tags": []
          },
          "execution_count": 161
        }
      ]
    },
    {
      "cell_type": "code",
      "metadata": {
        "id": "Q4wMp6XSmJFY",
        "colab_type": "code",
        "outputId": "dce005ca-fb80-485d-a6e8-16141f1c2265",
        "colab": {
          "base_uri": "https://localhost:8080/",
          "height": 88
        }
      },
      "source": [
        "import numpy as np\n",
        "from sklearn.metrics import mean_absolute_error as MAE, mean_squared_error as MSE\n",
        "\n",
        "\n",
        "print(\"R2 Scores (train, val):\", price_predictor.score(Xtrain, ytrain), price_predictor.score(Xval, yval))\n",
        "\n",
        "y_pred = price_predictor.predict(Xval)\n",
        "\n",
        "print(\"biais:\", np.mean(y_pred - yval.values) ) #si il est négatif: sous-évaluation (en moyenne), si il est positif: sur-évaluation\n",
        "print(\"MAE:\", MAE(yval.values, y_pred) )\n",
        "print(\"RMSE:\", np.sqrt(MSE(yval.values, y_pred)) )\n",
        "\n",
        "#Tester en gardant ou en retirant les outliers; tester avec différentes ensembles de variables"
      ],
      "execution_count": 162,
      "outputs": [
        {
          "output_type": "stream",
          "text": [
            "R2 Scores (train, val): 0.7873005310776309 0.8294192932234612\n",
            "biais: -2642.8703775899653\n",
            "MAE: 22346.323562213576\n",
            "RMSE: 33202.5578526644\n"
          ],
          "name": "stdout"
        }
      ]
    },
    {
      "cell_type": "markdown",
      "metadata": {
        "id": "tJP043J4-Y0-",
        "colab_type": "text"
      },
      "source": [
        "Remarque: les résultats seront un peu différents chaque fois qu'on relancera le code, étant donné la sélection aléatoire des sets d'entraînement et de validation."
      ]
    },
    {
      "cell_type": "markdown",
      "metadata": {
        "id": "6oTHcBp-Svi3",
        "colab_type": "text"
      },
      "source": [
        "## Comparaison pour différents nombres de variables prédictives"
      ]
    },
    {
      "cell_type": "code",
      "metadata": {
        "id": "n0Rd7RnFo57A",
        "colab_type": "code",
        "outputId": "b034fcd7-86df-42d7-a1c5-d84c10d3bd93",
        "colab": {
          "base_uri": "https://localhost:8080/",
          "height": 287
        }
      },
      "source": [
        "from sklearn.preprocessing import StandardScaler\n",
        "\n",
        "maes = pd.DataFrame(columns = ['train','val'])\n",
        "\n",
        "for n in range(1,len(best_features)):\n",
        "\n",
        "  #Choix des variables\n",
        "  featurelist = best_features[:n]\n",
        "  #featurelist = best_features_effects[:n]\n",
        "  \n",
        "  #Commencer par les plus mauvaises\n",
        "  #featurelist = best_features[::-1][:n]\n",
        "  #featurelist = best_features_effects[::-1][:n]\n",
        "\n",
        "  X = ames[featurelist]\n",
        "  y = ames[\"SalePrice\"]  \n",
        "  \n",
        "  Xtrain, Xval, ytrain, yval = X.loc[trainids], X.loc[valids], y.loc[trainids], y.loc[valids]\n",
        "  #scaler = StandardScaler()\n",
        "  #Xtrain = scaler.fit_transform(Xtrain)\n",
        "  #Xval = scaler.transform(Xval)\n",
        "  price_predictor.fit(Xtrain, ytrain)\n",
        "  trainpred = price_predictor.predict(Xtrain)\n",
        "  valpred = price_predictor.predict(Xval)\n",
        "  \n",
        "  maes.loc[n] = MAE(ytrain, trainpred), MAE(yval, valpred)\n",
        "\n",
        "maes.plot()"
      ],
      "execution_count": 163,
      "outputs": [
        {
          "output_type": "execute_result",
          "data": {
            "text/plain": [
              "<matplotlib.axes._subplots.AxesSubplot at 0x7fac63c24390>"
            ]
          },
          "metadata": {
            "tags": []
          },
          "execution_count": 163
        },
        {
          "output_type": "display_data",
          "data": {
            "image/png": "[encoded data removed]",
            "text/plain": [
              "<Figure size 432x288 with 1 Axes>"
            ]
          },
          "metadata": {
            "tags": []
          }
        }
      ]
    },
    {
      "cell_type": "code",
      "metadata": {
        "id": "W0xYzhPQ1lRN",
        "colab_type": "code",
        "colab": {
          "base_uri": "https://localhost:8080/",
          "height": 35
        },
        "outputId": "4ff20fa9-50fd-4fa3-9c3b-81b7d39378ea"
      },
      "source": [
        "maes['val'].min(), maes['val'].idxmin()"
      ],
      "execution_count": 164,
      "outputs": [
        {
          "output_type": "execute_result",
          "data": {
            "text/plain": [
              "(21975.721104830995, 28)"
            ]
          },
          "metadata": {
            "tags": []
          },
          "execution_count": 164
        }
      ]
    },
    {
      "cell_type": "markdown",
      "metadata": {
        "id": "7b-C0Mb14Hzo",
        "colab_type": "text"
      },
      "source": [
        "* On peut constater que les 10-12 variables prédictives les moins corrélées à SalePrice sont (logiquement) assez inefficaces pour prédire le prix.\n",
        "* Les meilleurs résultats en validation sont obtenus avec les 25-30 variables les plus corrélées au prix.\n",
        "\n"
      ]
    },
    {
      "cell_type": "code",
      "metadata": {
        "id": "dswF-30GVnAN",
        "colab_type": "code",
        "outputId": "db0c3857-6e05-487b-a4a6-abc9d48e4855",
        "colab": {
          "base_uri": "https://localhost:8080/",
          "height": 304
        }
      },
      "source": [
        "#Meilleur résultat en validation\n",
        "featurelist = best_features[:28]\n",
        "\n",
        "X = ames[featurelist]\n",
        "y = ames[\"SalePrice\"]\n",
        "\n",
        "Xtrain, Xval, ytrain, yval = X.loc[trainids], X.loc[valids], y.loc[trainids], y.loc[valids]\n",
        "\n",
        "price_predictor.fit(Xtrain, ytrain)\n",
        "trainpred = price_predictor.predict(Xtrain)\n",
        "valpred = price_predictor.predict(Xval)\n",
        "\n",
        "print(MAE(ytrain, trainpred), MAE(yval, valpred))\n",
        "\n",
        "plt.scatter(yval,price_predictor.predict(Xval))"
      ],
      "execution_count": 201,
      "outputs": [
        {
          "output_type": "stream",
          "text": [
            "21534.159527636817 21975.721104830995\n"
          ],
          "name": "stdout"
        },
        {
          "output_type": "execute_result",
          "data": {
            "text/plain": [
              "<matplotlib.collections.PathCollection at 0x7fac590797f0>"
            ]
          },
          "metadata": {
            "tags": []
          },
          "execution_count": 201
        },
        {
          "output_type": "display_data",
          "data": {
            "image/png": "[encoded data removed]",
            "text/plain": [
              "<Figure size 432x288 with 1 Axes>"
            ]
          },
          "metadata": {
            "tags": []
          }
        }
      ]
    },
    {
      "cell_type": "markdown",
      "metadata": {
        "id": "uugb_WZ_hh8D",
        "colab_type": "text"
      },
      "source": [
        "On constate que le nuage de doit semble former une légère courbe. Cela semble indiquer qu'il existe des relations non-linéaires, telles que des relations polynomiales entre les variables et le prix. La régression linéaire se base en effet sur l'hypothèse très simpliste que les relations seraient linéaires. Si on revisualise les nuages de points plus haut montrant l'interactions entre différentes variables (comme 'OverallQual') et le prix, on constate que la relation et plutôt quadratique que linéaire.\n",
        "\n",
        "Une variation de la régression linéaire, appelée régression polynomiale, permet de facilement prendre en compte de potentielles interactions non-linéaires entre les variables, en créant de nouvelles variables à partir de polynômes des variables d'origine. Bien sûr, les possibilités ne se liminent pas aux polynômes."
      ]
    },
    {
      "cell_type": "markdown",
      "metadata": {
        "id": "TAI-or-klHpt",
        "colab_type": "text"
      },
      "source": [
        "##Régression polynomiale"
      ]
    },
    {
      "cell_type": "code",
      "metadata": {
        "id": "EgiED5-Ug39a",
        "colab_type": "code",
        "colab": {}
      },
      "source": [
        "def add_polynomials(X):\n",
        "  #(remove some unwanted warnings)\n",
        "  prev = pd.options.mode.chained_assignment\n",
        "  pd.options.mode.chained_assignment = None\n",
        "  for col in X.columns:\n",
        "    #prise en compte des carrés des variables\n",
        "    X[col+\"_square\"] = X[col]**2\n",
        "    #prise en compte des racines carrées\n",
        "    X[col+\"_sqrt\"] = X[col]**(1/2)\n",
        "  \n",
        "  pd.options.mode.chained_assignment = prev\n",
        "  \n",
        "  return X"
      ],
      "execution_count": 0,
      "outputs": []
    },
    {
      "cell_type": "code",
      "metadata": {
        "id": "0Cp45O_3hEqJ",
        "colab_type": "code",
        "outputId": "607ce026-dc5d-486a-ac28-cbdc7f746b1a",
        "colab": {
          "base_uri": "https://localhost:8080/",
          "height": 304
        }
      },
      "source": [
        "featurelist = best_features[:28]\n",
        "\n",
        "X = ames[featurelist]\n",
        "X = add_polynomials(X)\n",
        "\n",
        "Xtrain, Xval, ytrain, yval = X.loc[trainids], X.loc[valids], y.loc[trainids], y.loc[valids]\n",
        "price_predictor.fit(Xtrain, ytrain)\n",
        "trainpred, valpred = price_predictor.predict(Xtrain), price_predictor.predict(Xval)\n",
        "\n",
        "print(\"MAE (train,val):\", MAE(trainpred, ytrain), MAE(valpred, yval))\n",
        "plt.scatter(yval,valpred)"
      ],
      "execution_count": 203,
      "outputs": [
        {
          "output_type": "stream",
          "text": [
            "MAE (train,val): 19605.968042182052 23347.92078150135\n"
          ],
          "name": "stdout"
        },
        {
          "output_type": "execute_result",
          "data": {
            "text/plain": [
              "<matplotlib.collections.PathCollection at 0x7fac57ff44e0>"
            ]
          },
          "metadata": {
            "tags": []
          },
          "execution_count": 203
        },
        {
          "output_type": "display_data",
          "data": {
            "image/png": "[encoded data removed]",
            "text/plain": [
              "<Figure size 432x288 with 1 Axes>"
            ]
          },
          "metadata": {
            "tags": []
          }
        }
      ]
    },
    {
      "cell_type": "markdown",
      "metadata": {
        "id": "OO_nP6e-ru99",
        "colab_type": "text"
      },
      "source": [
        "Les prédiction semblent suivre une ligne droite. On remarque par contre que certaines prédictions parfois sont très mauvaises, et parfois négative (c'était déjà le cas pour la régression linéaire). Selon les objectifs, il convient de définir une métrique d'évaluation appropriée: si quelques rares erreurs très grandes sont tolérables, ou si il est préférable d'avoir des prédictions globalement un peu moins précises mais sans gros écarts.\n",
        "Dans tous les cas, on peut facilement améliorer les résultats en contraignant les prédictions entre des valeurs limites."
      ]
    },
    {
      "cell_type": "code",
      "metadata": {
        "id": "Jt96KbO9sFfg",
        "colab_type": "code",
        "outputId": "ebf37e93-8d7d-41ef-e5d5-7ac2aaea050d",
        "colab": {
          "base_uri": "https://localhost:8080/",
          "height": 304
        }
      },
      "source": [
        "trainpred = trainpred.clip(ytrain.min(), ytrain.max())\n",
        "valpred = valpred.clip(ytrain.min(), ytrain.max())\n",
        "\n",
        "print(\"MAE (train,val):\", MAE(trainpred, ytrain), MAE(valpred, yval))\n",
        "plt.scatter(yval,valpred)"
      ],
      "execution_count": 204,
      "outputs": [
        {
          "output_type": "stream",
          "text": [
            "MAE (train,val): 19605.186843663047 21290.896674051677\n"
          ],
          "name": "stdout"
        },
        {
          "output_type": "execute_result",
          "data": {
            "text/plain": [
              "<matplotlib.collections.PathCollection at 0x7fac57fd3128>"
            ]
          },
          "metadata": {
            "tags": []
          },
          "execution_count": 204
        },
        {
          "output_type": "display_data",
          "data": {
            "image/png": "[encoded data removed]",
            "text/plain": [
              "<Figure size 432x288 with 1 Axes>"
            ]
          },
          "metadata": {
            "tags": []
          }
        }
      ]
    },
    {
      "cell_type": "markdown",
      "metadata": {
        "id": "XZoJLuVkVIRx",
        "colab_type": "text"
      },
      "source": [
        "## Comparaison pour différents nombres d'exemples (taille du training set)"
      ]
    },
    {
      "cell_type": "code",
      "metadata": {
        "id": "q74RICIET8YG",
        "colab_type": "code",
        "outputId": "58a4fcc7-f203-4177-94cf-71b1dddd7ed7",
        "colab": {
          "base_uri": "https://localhost:8080/",
          "height": 287
        }
      },
      "source": [
        "maes2 = pd.DataFrame(columns = ['train','val']) \n",
        "\n",
        "for nsamples in range(10,800,10):\n",
        "  \n",
        "  \n",
        "  trainset, valset = train_test_split(ames, test_size = 660)\n",
        "  \n",
        "  #On extrait un sample sur le training set\n",
        "  trainset_sample = trainset.sample(nsamples)\n",
        "  \n",
        "  Xtrain = trainset_sample[featurelist]\n",
        "  ytrain = trainset_sample[\"SalePrice\"]\n",
        "  \n",
        "  Xval = valset[featurelist]\n",
        "  yval = valset[\"SalePrice\"]\n",
        "  \n",
        "  price_predictor.fit(Xtrain, ytrain)\n",
        "  \n",
        "  trainpred = price_predictor.predict(Xtrain)\n",
        "  valpred = price_predictor.predict(Xval)  \n",
        "  trainpred = trainpred.clip(ytrain.min(), ytrain.max())\n",
        "  valpred = valpred.clip(ytrain.min(), ytrain.max())  \n",
        "  maes2.loc[nsamples] = MAE(ytrain, trainpred), MAE(yval, valpred)\n",
        "  \n",
        "maes2.plot()"
      ],
      "execution_count": 205,
      "outputs": [
        {
          "output_type": "execute_result",
          "data": {
            "text/plain": [
              "<matplotlib.axes._subplots.AxesSubplot at 0x7fac63746198>"
            ]
          },
          "metadata": {
            "tags": []
          },
          "execution_count": 205
        },
        {
          "output_type": "display_data",
          "data": {
            "image/png": "[encoded data removed]",
            "text/plain": [
              "<Figure size 432x288 with 1 Axes>"
            ]
          },
          "metadata": {
            "tags": []
          }
        }
      ]
    },
    {
      "cell_type": "markdown",
      "metadata": {
        "id": "atnp5Lo6aaLe",
        "colab_type": "text"
      },
      "source": [
        "On constate que les performances diminuent (l'erreur augmente) avec le nombre d'échantillons d'entraînement, et que les performances en validation sont au départ beaucoup plus faibles, ce qui est signe d'**overfitting**. En effet, en utilisant seulement 50 exemples (gauche du graphe), on remarque que le modèle compte presque autant de paramètres (un par variable prédictive). Dans ce cas, les paramètres peuvent être adaptés aux exemples spécifiques d'entraînement pour apprendre leur prédiction presque \"par coeur\". Le modèle n'est alors pas générique et fonctionne mal sur de nouvelles données (comme le montrent les faibles performances en validation). On constate ensuite que pour 400 échantillons d'entraînement, les performances en entraînement se stabilisent, et les performances en validation sont équivalentes, ce qui signifie que le nombre d'échantillons est suffisant (plus d'overfitting)."
      ]
    },
    {
      "cell_type": "code",
      "metadata": {
        "id": "K6tK_SqBZZY0",
        "colab_type": "code",
        "outputId": "91aaa47e-bd80-4faf-c744-10ec205ffae8",
        "colab": {
          "base_uri": "https://localhost:8080/",
          "height": 35
        }
      },
      "source": [
        "len(price_predictor.coef_)"
      ],
      "execution_count": 206,
      "outputs": [
        {
          "output_type": "execute_result",
          "data": {
            "text/plain": [
              "28"
            ]
          },
          "metadata": {
            "tags": []
          },
          "execution_count": 206
        }
      ]
    },
    {
      "cell_type": "markdown",
      "metadata": {
        "id": "JL63VJR3c7fu",
        "colab_type": "text"
      },
      "source": [
        "## Performances réelles\n",
        "\n",
        "Pour évaluer les performances réelles du modèles, nous pouvons utiliser un set de données qui n'a pas encore été utilisé, ni pour l'entraînement ni pour la validation. Cela permet de simuler une utilisation réelle du modèle, sur de nouvelles maisons (dont on voudrait estimer le prix). L'évaluation des performances à partir du set de validation seraient biaisée, car il a en effet permis de choisir les paramètres du modèles, en l'occurence le choix des variables prédictives (le modèle a donc été indirectement optimisé pour ces données spécifiques).\n",
        "\n",
        "Sur la plateforme [Kaggle](https://www.kaggle.com/), pour garantir l'absence de biais lors du design du modèle, un set de test est généralement fourni séparément, et les labels ne sont volontairement pas fournis. L'utilisateur de la plateforme doit alors soumettre à la plateforme les prédictions données par le modèle développé, et reçoit le résultat de l'évaluation effectuée par la plateforme. Cela permet notamment de classer différents compétiteurs lors d'un concours: https://www.kaggle.com/competitions\n",
        "\n",
        "Concernant le dataset utilisé, on peut soumettre des prédictions ici: https://www.kaggle.com/c/home-data-for-ml-course/overview/evaluation\n",
        "\n",
        "\n"
      ]
    },
    {
      "cell_type": "code",
      "metadata": {
        "id": "i5eYYBMhTQJl",
        "colab_type": "code",
        "outputId": "f548c5b2-70b3-4a57-da24-2b13ce7e2b75",
        "colab": {
          "base_uri": "https://localhost:8080/",
          "height": 35
        }
      },
      "source": [
        "# Vérifions déjà les performances sur le set de validation\n",
        "#Régression linéaire\n",
        "\n",
        "X = ames[featurelist]\n",
        "y = ames[\"SalePrice\"]\n",
        "\n",
        "Xtrain, Xval, ytrain, yval = X.loc[trainids], X.loc[valids], y.loc[trainids], y.loc[valids]\n",
        "\n",
        "price_predictor.fit(Xtrain, ytrain)\n",
        "\n",
        "trainpreds = price_predictor.predict(Xtrain).clip(ytrain.min(), ytrain.max())\n",
        "valpreds_lin = price_predictor.predict(Xval).clip(ytrain.min(), ytrain.max())\n",
        "\n",
        "MAE(trainpreds,ytrain.values), MAE(valpreds_lin,yval.values)"
      ],
      "execution_count": 207,
      "outputs": [
        {
          "output_type": "execute_result",
          "data": {
            "text/plain": [
              "(21458.11626787102, 21822.69876002264)"
            ]
          },
          "metadata": {
            "tags": []
          },
          "execution_count": 207
        }
      ]
    },
    {
      "cell_type": "code",
      "metadata": {
        "id": "P_tHgbL2p_mz",
        "colab_type": "code",
        "outputId": "c2193b57-6930-4484-ece7-e6c5d8bab6a1",
        "colab": {
          "base_uri": "https://localhost:8080/",
          "height": 35
        }
      },
      "source": [
        "#Régression polynomiale\n",
        "X = ames[featurelist]\n",
        "X = add_polynomials(X)\n",
        "\n",
        "Xtrain, Xval, ytrain, yval = X.loc[trainids], X.loc[valids], y.loc[trainids], y.loc[valids]\n",
        "\n",
        "poly_predictor = LinearRegression()\n",
        "poly_predictor.fit(Xtrain, ytrain)\n",
        "\n",
        "trainpreds = poly_predictor.predict(Xtrain).clip(ytrain.min(), ytrain.max())\n",
        "valpreds_poly = poly_predictor.predict(Xval).clip(ytrain.min(), ytrain.max())\n",
        "\n",
        "MAE(trainpreds,ytrain.values), MAE(valpreds_poly,yval.values)"
      ],
      "execution_count": 208,
      "outputs": [
        {
          "output_type": "execute_result",
          "data": {
            "text/plain": [
              "(19605.186843663047, 21290.896674051677)"
            ]
          },
          "metadata": {
            "tags": []
          },
          "execution_count": 208
        }
      ]
    },
    {
      "cell_type": "markdown",
      "metadata": {
        "id": "2chtMCm7-T7k",
        "colab_type": "text"
      },
      "source": [
        "Remarquez que vous obtiendrez des résultats différents à chaque fois que vous relancez les cellules ci-dessus: cela est dû à la séparation aléatoire des sets d'entraînement et de validation. \n",
        "\n",
        "Afin d'avoir un indicateur plus robuste du modèle, une possibilité serait de calculer une moyenne de ces résultats, ou d'utiliser un processus **leave-one-out** (garder une seule observation pour la validation, entraîner le modèle sur tout le reste; calculer des prédictions ainsi pour tout le dataset (sur chaque observation de validation), et calculer la MAE sur toutes les prédictions). Le désavantage de ce processus est qu'il est lourd puisqu'il nécessite l'entraînement d'un modèle pour chaque observation du dataset."
      ]
    },
    {
      "cell_type": "markdown",
      "metadata": {
        "id": "NW14_M7l0N5X",
        "colab_type": "text"
      },
      "source": [
        "### Vérification du set de test"
      ]
    },
    {
      "cell_type": "code",
      "metadata": {
        "id": "QM8eeCvzzsLa",
        "colab_type": "code",
        "outputId": "414d7847-23b4-496a-d325-a51570c3a216",
        "colab": {
          "base_uri": "https://localhost:8080/",
          "height": 114
        }
      },
      "source": [
        "testset = pd.read_csv(\"https://raw.githubusercontent.com/titsitits/Python_Data_Science/master/Donn%C3%A9es/test.csv\")\n",
        "\n",
        "ids = testset['Id']\n",
        "\n",
        "print(len(testset))\n",
        "\n",
        "#nettoyage du testset\n",
        "testset = clean_df(testset)\n",
        "\n",
        "#Colonnes incomplètes\n",
        "counts = testset.count()\n",
        "incomplete = counts[counts < len(testset)]\n",
        "display_series(incomplete.sort_values())\n",
        "len(incomplete.index)"
      ],
      "execution_count": 209,
      "outputs": [
        {
          "output_type": "stream",
          "text": [
            "1459\n"
          ],
          "name": "stdout"
        },
        {
          "output_type": "display_data",
          "data": {
            "text/html": [
              "<div>\n",
              "<style scoped>\n",
              "    .dataframe tbody tr th:only-of-type {\n",
              "        vertical-align: middle;\n",
              "    }\n",
              "\n",
              "    .dataframe tbody tr th {\n",
              "        vertical-align: top;\n",
              "    }\n",
              "\n",
              "    .dataframe thead th {\n",
              "        text-align: right;\n",
              "    }\n",
              "</style>\n",
              "<table border=\"1\" class=\"dataframe\">\n",
              "  <thead>\n",
              "    <tr style=\"text-align: right;\">\n",
              "      <th></th>\n",
              "      <th>BsmtFullBath</th>\n",
              "      <th>BsmtHalfBath</th>\n",
              "      <th>BsmtFinSF1</th>\n",
              "      <th>BsmtFinSF2</th>\n",
              "      <th>BsmtUnfSF</th>\n",
              "      <th>TotalBsmtSF</th>\n",
              "      <th>GarageCars</th>\n",
              "      <th>GarageArea</th>\n",
              "    </tr>\n",
              "  </thead>\n",
              "  <tbody>\n",
              "    <tr>\n",
              "      <th>0</th>\n",
              "      <td>1457</td>\n",
              "      <td>1457</td>\n",
              "      <td>1458</td>\n",
              "      <td>1458</td>\n",
              "      <td>1458</td>\n",
              "      <td>1458</td>\n",
              "      <td>1458</td>\n",
              "      <td>1458</td>\n",
              "    </tr>\n",
              "  </tbody>\n",
              "</table>\n",
              "</div>"
            ],
            "text/plain": [
              "   BsmtFullBath  BsmtHalfBath  BsmtFinSF1  ...  TotalBsmtSF  GarageCars  GarageArea\n",
              "0          1457          1457        1458  ...         1458        1458        1458\n",
              "\n",
              "[1 rows x 8 columns]"
            ]
          },
          "metadata": {
            "tags": []
          }
        },
        {
          "output_type": "execute_result",
          "data": {
            "text/plain": [
              "8"
            ]
          },
          "metadata": {
            "tags": []
          },
          "execution_count": 209
        }
      ]
    },
    {
      "cell_type": "markdown",
      "metadata": {
        "id": "J1KVfZDT4hkF",
        "colab_type": "text"
      },
      "source": [
        "Il reste deux observations contenant des variables invalides. On va simplement remplacer les valeurs manquantes par les moyennes. Si le nombre d'observations à nettoyer était plus conséquent, il serait pertinent d'analyser les variables à corriger."
      ]
    },
    {
      "cell_type": "code",
      "metadata": {
        "id": "1BVOHMFc_H0D",
        "colab_type": "code",
        "colab": {}
      },
      "source": [
        "for col in incomplete.index:\n",
        "  testset[col] = testset[col].fillna(ames[col].mean())"
      ],
      "execution_count": 0,
      "outputs": []
    },
    {
      "cell_type": "markdown",
      "metadata": {
        "id": "1ai3HrFnNLmt",
        "colab_type": "text"
      },
      "source": [
        "### Soumission des résultats"
      ]
    },
    {
      "cell_type": "code",
      "metadata": {
        "id": "tSvjBcA7bEi9",
        "colab_type": "code",
        "colab": {}
      },
      "source": [
        "X = ames[featurelist]\n",
        "y = ames[\"SalePrice\"]\n",
        "#On peut ré-entraîner le modèle sur tout le dataset (entraînement+validation), pour le rendre potentiellement plus robuste\n",
        "price_predictor.fit(X, y)\n",
        "\n",
        "#select features\n",
        "Xtest = testset[featurelist]\n",
        "\n",
        "testpreds_lin = price_predictor.predict(Xtest).clip(ytrain.min(), ytrain.max())\n",
        "\n",
        "submission = ids.to_frame()\n",
        "submission[\"SalePrice\"] = testpreds_lin\n",
        "submission.to_csv(\"mysubmission_linear_regression.csv\", index = False)"
      ],
      "execution_count": 0,
      "outputs": []
    },
    {
      "cell_type": "code",
      "metadata": {
        "id": "DkM2iUzEpspz",
        "colab_type": "code",
        "colab": {}
      },
      "source": [
        "Xtest2 = add_polynomials(Xtest)\n",
        "\n",
        "X = ames[featurelist]\n",
        "X = add_polynomials(X)\n",
        "poly_predictor.fit(X, y)\n",
        "\n",
        "testpreds_poly = poly_predictor.predict(Xtest2).clip(ytrain.min(), ytrain.max())\n",
        "\n",
        "submission = ids.to_frame()\n",
        "submission[\"SalePrice\"] = testpreds_poly\n",
        "submission.to_csv(\"mysubmission_polynomial_regression.csv\", index = False)"
      ],
      "execution_count": 0,
      "outputs": []
    },
    {
      "cell_type": "markdown",
      "metadata": {
        "id": "23u9i5kTpKME",
        "colab_type": "text"
      },
      "source": [
        "## Exploration de base des variables catégorielles"
      ]
    },
    {
      "cell_type": "code",
      "metadata": {
        "id": "KMD_aKxojyyV",
        "colab_type": "code",
        "outputId": "d2cc1dcb-1714-4dd3-a946-198957094ff0",
        "colab": {
          "base_uri": "https://localhost:8080/",
          "height": 331
        }
      },
      "source": [
        "#Analysons l'effet de chaque variable catégorielle\n",
        "\n",
        "from matplotlib import pyplot as plt\n",
        "\n",
        "all_columns = ames.columns\n",
        "cat_columns = ames.columns[ames.dtypes == 'object']\n",
        "\n",
        "diffs_per_group = []\n",
        "\n",
        "ncols = 8\n",
        "ncats = len(cat_columns)\n",
        "#fig, axes = plt.subplots(int(np.ceil(ncats/ncols)),ncols, figsize = (20,30))\n",
        "\n",
        "i=0\n",
        "for cat in cat_columns:  \n",
        "  \n",
        "  group_means = ames.groupby(cat)[\"SalePrice\"].mean()\n",
        "  diffs_per_group.append(group_means.max() - group_means.min())\n",
        "  \n",
        "  #Bonus: vous pouvez afficher les graphes pour chaque groupe\n",
        "  #plt.figure(figsize=(10,3))\n",
        "  #group_means.plot.bar()\n",
        "  #ax = axes[int(i/ncols), int(i%ncols)]\n",
        "  #ames.boxplot(\"SalePrice\", by=cat, ax = ax)\n",
        "  i=i+1\n",
        "\n",
        "best_cats = pd.Series(diffs_per_group, list(cat_columns)).abs().sort_values(ascending = False)\n",
        "best_cats.plot.bar(figsize=(10,4))\n",
        "\n",
        "best_cats = best_cats.index.to_list()"
      ],
      "execution_count": 213,
      "outputs": [
        {
          "output_type": "display_data",
          "data": {
            "image/png": "[encoded data removed]",
            "text/plain": [
              "<Figure size 720x288 with 1 Axes>"
            ]
          },
          "metadata": {
            "tags": []
          }
        }
      ]
    },
    {
      "cell_type": "markdown",
      "metadata": {
        "id": "XIoTezR8R3kr",
        "colab_type": "text"
      },
      "source": [
        "## Bonus - Un algorithme plus moderne: catboost"
      ]
    },
    {
      "cell_type": "code",
      "metadata": {
        "id": "QdEdNo8uPa7F",
        "colab_type": "code",
        "outputId": "84f7d3dc-29df-4114-fb72-c4e466417610",
        "colab": {
          "base_uri": "https://localhost:8080/",
          "height": 355
        }
      },
      "source": [
        "#Installer un nouveau package: on appelle une ligne de commande linux grâce au symbole \"!\". On utilise le gestionnaire de packages python pip pour installer un nouveau package\n",
        "!pip install catboost"
      ],
      "execution_count": 188,
      "outputs": [
        {
          "output_type": "stream",
          "text": [
            "Collecting catboost\n",
            "\u001b[?25l  Downloading https://files.pythonhosted.org/packages/40/83/5974e19d4d040442543e1e4eafa5ebb1c7ef396cbc53ea1084193d311d62/catboost-0.17.1-cp36-none-manylinux1_x86_64.whl (62.5MB)\n",
            "\u001b[K     |████████████████████████████████| 62.5MB 1.3MB/s \n",
            "\u001b[?25hRequirement already satisfied: six in /usr/local/lib/python3.6/dist-packages (from catboost) (1.12.0)\n",
            "Requirement already satisfied: numpy>=1.16.0 in /usr/local/lib/python3.6/dist-packages (from catboost) (1.16.5)\n",
            "Requirement already satisfied: graphviz in /usr/local/lib/python3.6/dist-packages (from catboost) (0.10.1)\n",
            "Requirement already satisfied: plotly in /usr/local/lib/python3.6/dist-packages (from catboost) (4.1.1)\n",
            "Requirement already satisfied: matplotlib in /usr/local/lib/python3.6/dist-packages (from catboost) (3.0.3)\n",
            "Requirement already satisfied: pandas>=0.24.0 in /usr/local/lib/python3.6/dist-packages (from catboost) (0.24.2)\n",
            "Requirement already satisfied: scipy in /usr/local/lib/python3.6/dist-packages (from catboost) (1.3.1)\n",
            "Requirement already satisfied: retrying>=1.3.3 in /usr/local/lib/python3.6/dist-packages (from plotly->catboost) (1.3.3)\n",
            "Requirement already satisfied: kiwisolver>=1.0.1 in /usr/local/lib/python3.6/dist-packages (from matplotlib->catboost) (1.1.0)\n",
            "Requirement already satisfied: cycler>=0.10 in /usr/local/lib/python3.6/dist-packages (from matplotlib->catboost) (0.10.0)\n",
            "Requirement already satisfied: python-dateutil>=2.1 in /usr/local/lib/python3.6/dist-packages (from matplotlib->catboost) (2.5.3)\n",
            "Requirement already satisfied: pyparsing!=2.0.4,!=2.1.2,!=2.1.6,>=2.0.1 in /usr/local/lib/python3.6/dist-packages (from matplotlib->catboost) (2.4.2)\n",
            "Requirement already satisfied: pytz>=2011k in /usr/local/lib/python3.6/dist-packages (from pandas>=0.24.0->catboost) (2018.9)\n",
            "Requirement already satisfied: setuptools in /usr/local/lib/python3.6/dist-packages (from kiwisolver>=1.0.1->matplotlib->catboost) (41.2.0)\n",
            "Installing collected packages: catboost\n",
            "Successfully installed catboost-0.17.1\n"
          ],
          "name": "stdout"
        }
      ]
    },
    {
      "cell_type": "code",
      "metadata": {
        "id": "WDhe159xjnZ6",
        "colab_type": "code",
        "colab": {}
      },
      "source": [
        "contfeatures = best_features[:28]\n",
        "catfeatures = best_cats[:-5] #on retire les plus mauvaises\n",
        "\n",
        "newfeaturelist =  contfeatures + catfeatures"
      ],
      "execution_count": 0,
      "outputs": []
    },
    {
      "cell_type": "code",
      "metadata": {
        "id": "wuMmjKHDQYqT",
        "colab_type": "code",
        "colab": {}
      },
      "source": [
        "X = ames[newfeaturelist]\n",
        "y = ames[\"SalePrice\"]\n",
        "\n",
        "Xtrain, Xval, ytrain, yval = X.loc[trainids], X.loc[valids], y.loc[trainids], y.loc[valids]"
      ],
      "execution_count": 0,
      "outputs": []
    },
    {
      "cell_type": "code",
      "metadata": {
        "id": "4oM1lPqJiVF0",
        "colab_type": "code",
        "outputId": "46e502d0-965b-4959-966a-62a8960ec737",
        "colab": {
          "base_uri": "https://localhost:8080/",
          "height": 35
        }
      },
      "source": [
        "import numpy as np\n",
        "from catboost import Pool, CatBoostRegressor\n",
        "\n",
        "\n",
        "cat_feature_ids = [i for i in range(len(newfeaturelist)) if newfeaturelist[i] in catfeatures]\n",
        "\n",
        "\n",
        "train_pool = Pool(Xtrain.values, ytrain.values, cat_features=cat_feature_ids)\n",
        "val_pool = Pool(Xval, yval, cat_features=cat_feature_ids) \n",
        "all_pool = Pool(X, y, cat_features=cat_feature_ids) \n",
        "\n",
        "# specify the training parameters \n",
        "model = CatBoostRegressor(iterations=300, \n",
        "                          depth=3, \n",
        "                          learning_rate=0.2, \n",
        "                          loss_function='RMSE')\n",
        "#train the model\n",
        "model.fit(train_pool, silent=True)"
      ],
      "execution_count": 226,
      "outputs": [
        {
          "output_type": "execute_result",
          "data": {
            "text/plain": [
              "<catboost.core.CatBoostRegressor at 0x7fac63dfea90>"
            ]
          },
          "metadata": {
            "tags": []
          },
          "execution_count": 226
        }
      ]
    },
    {
      "cell_type": "code",
      "metadata": {
        "id": "Ac894-uU00ou",
        "colab_type": "code",
        "outputId": "b3970507-05bd-4902-8588-15e739ce07fe",
        "colab": {
          "base_uri": "https://localhost:8080/",
          "height": 35
        }
      },
      "source": [
        "# make the prediction using the resulting model\n",
        "trainpreds = model.predict(train_pool)\n",
        "valpreds = model.predict(val_pool)\n",
        "\n",
        "MAE(trainpreds,ytrain.values), MAE(valpreds,yval.values)"
      ],
      "execution_count": 227,
      "outputs": [
        {
          "output_type": "execute_result",
          "data": {
            "text/plain": [
              "(9998.911668514573, 16690.284556689377)"
            ]
          },
          "metadata": {
            "tags": []
          },
          "execution_count": 227
        }
      ]
    },
    {
      "cell_type": "code",
      "metadata": {
        "id": "8pS2SzLIXCmj",
        "colab_type": "code",
        "outputId": "859fd779-7ff8-427f-bc4d-d833303bceb8",
        "colab": {
          "base_uri": "https://localhost:8080/",
          "height": 35
        }
      },
      "source": [
        "# specify the training parameters \n",
        "model = CatBoostRegressor(iterations=300, \n",
        "                          depth=3, \n",
        "                          learning_rate=0.2, \n",
        "                          loss_function='RMSE')\n",
        "\n",
        "#entraînement du modèle, avec un critère d'arrêt lorsque les performances en validation baissent: éviter le surentraînement (overfitting)\n",
        "model.fit(train_pool,eval_set = val_pool, early_stopping_rounds = 100, silent = True)"
      ],
      "execution_count": 228,
      "outputs": [
        {
          "output_type": "execute_result",
          "data": {
            "text/plain": [
              "<catboost.core.CatBoostRegressor at 0x7fac63cf7f98>"
            ]
          },
          "metadata": {
            "tags": []
          },
          "execution_count": 228
        }
      ]
    },
    {
      "cell_type": "code",
      "metadata": {
        "id": "qOJRK7daRgy0",
        "colab_type": "code",
        "outputId": "a16922f2-dcb4-4374-b5c6-310099df0723",
        "colab": {
          "base_uri": "https://localhost:8080/",
          "height": 35
        }
      },
      "source": [
        "# make the prediction using the resulting model\n",
        "trainpreds = model.predict(train_pool)\n",
        "valpreds_catboost = model.predict(val_pool)\n",
        "\n",
        "#Pour éviter de prédire des valeurs anormales, on limite les prédictions au range du set d'entraînement\n",
        "trainpreds = trainpreds.clip(ytrain.min(), ytrain.max())\n",
        "valpreds = valpreds.clip(ytrain.min(), ytrain.max())\n",
        "\n",
        "MAE(trainpreds,ytrain.values), MAE(valpreds_catboost,yval.values)"
      ],
      "execution_count": 229,
      "outputs": [
        {
          "output_type": "execute_result",
          "data": {
            "text/plain": [
              "(10245.838101399662, 16678.221451159407)"
            ]
          },
          "metadata": {
            "tags": []
          },
          "execution_count": 229
        }
      ]
    },
    {
      "cell_type": "markdown",
      "metadata": {
        "id": "IryInRS1ZZna",
        "colab_type": "text"
      },
      "source": [
        "### Soumission des résultats"
      ]
    },
    {
      "cell_type": "code",
      "metadata": {
        "id": "VlG-EhJ8ZM77",
        "colab_type": "code",
        "colab": {}
      },
      "source": [
        "Xtest = testset[newfeaturelist]\n",
        "test_pool = Pool(Xtest.values, cat_features=cat_feature_ids)\n",
        "\n",
        "#Pour la soumission, on peut éventuellement réentraîner le modèle sur toutes les données d'entraînement et de validation (pour espérer avoir un modèle plus générique. Cependant: attention à l'overfitting sans critère d'arrêt)\n",
        "model.fit(all_pool, silent = True)\n",
        "\n",
        "#Prédictions\n",
        "testpreds_catboost = model.predict(test_pool).clip(ytrain.min(), ytrain.max())\n",
        "\n",
        "submission = ids.to_frame()\n",
        "submission[\"SalePrice\"] = testpreds_catboost\n",
        "submission.to_csv(\"mysubmission_catboost.csv\", index = False)"
      ],
      "execution_count": 0,
      "outputs": []
    },
    {
      "cell_type": "code",
      "metadata": {
        "id": "SoJxO1wcUh4p",
        "colab_type": "code",
        "outputId": "d955b9c8-a01c-4870-dd74-55a8bb6779fe",
        "colab": {
          "base_uri": "https://localhost:8080/",
          "height": 287
        }
      },
      "source": [
        "#Pour s'assurer de la plausibilité des résultats, on peut comparer leur distribution avec ceux du dataset d'entraînement\n",
        "plt.subplot(1,2,1)\n",
        "submission.SalePrice.hist()\n",
        "plt.subplot(1,2,2)\n",
        "ames.SalePrice.hist()"
      ],
      "execution_count": 231,
      "outputs": [
        {
          "output_type": "execute_result",
          "data": {
            "text/plain": [
              "<matplotlib.axes._subplots.AxesSubplot at 0x7fac63c7ba58>"
            ]
          },
          "metadata": {
            "tags": []
          },
          "execution_count": 231
        },
        {
          "output_type": "display_data",
          "data": {
            "image/png": "[encoded data removed]",
            "text/plain": [
              "<Figure size 432x288 with 2 Axes>"
            ]
          },
          "metadata": {
            "tags": []
          }
        }
      ]
    },
    {
      "cell_type": "markdown",
      "metadata": {
        "id": "lMqBzDv9gMzb",
        "colab_type": "text"
      },
      "source": [
        "# Conclusion\n",
        "\n",
        "Les résultats avec le fichier de baseline (sample_submission.csv) ont été obtenus avec une régression linéaire sur l'année et le mosi de vente, la surface du lot et le nombre de chambres. Les résultats de la soumission sur Kaggle donnent: \n",
        "\n",
        "`MAE = 59346`\n",
        "\n",
        "Les trois soumissions proposées donnent:\n",
        "\n",
        "* régression linéaire: 20391\n",
        "* régression polynomiale: 19669\n",
        "* catboost: 14328\n",
        "\n",
        "Les algotihmes proposés prédisent donc bien mieux mieux les prix des maisons que la baseline.\n",
        "\n",
        "Le résultat obtenu avec catboost amène à la place 522/13502 au classement de la compétition Kaggle. Il reste donc de la marge de manoeuvre pour améliorer le modèle. (Le meilleur score publique est actuellement à 11824).\n",
        "\n",
        "Il existe de très nombreuses possibilités pour améliorer le modèle, dont par exemple:\n",
        "\n",
        "* Vérifier plus profondément les données et supprimer d'éventuelles anomalies\n",
        "* Tester d'autre ensembles de variables (en explorant plus profondément leurs relations et leur influence sur le prix)\n",
        "* Créer de nouvelles variables pertinentes. Par exemple, à partir de la variable catégorielle \"neighboorhood\" et du prix moyen de chaque quartier, il est possible d'extraire une variable numérique indiquant le \"standing\" du quartier. Les nombreuses variables indiquant une échelle de qualité (\"Excellent\",\"Typical\",\"Fair\", ...) peuvent être traduites en variables numériques. Des variablesd \"dummy\" peuvent être extraites sur d'autres catégories.\n",
        "* Les variables sont peut-être redondantes (elles apportent la même information), ce qui complexifie inutilement le modèle. Il peut être intéressant d'extraire un ensemble de variables apportant un maximum d'informations non-redondantes.\n",
        "* Tester d'autres algorithmes de machine learning\n",
        "* Entraîner plusieurs modèles, et calculer une moyenne pondérée des prédictions (on parle de model blending, ou de ensemble learning)\n",
        "\n",
        "Kaggle est une excellente d'inspiration pour s'améliorer. On y trouve en effet de très nombreux notebooks (généralement en Python) proposant des idées intéressantes de feature engineering et de développement de modèles prédictifs. Par exemple, le notebook suivant est classé 26ème:\n",
        "https://www.kaggle.com/itslek/stack-blend-lrs-xgb-lgb-house-prices-k-v17\n",
        "La méthode propose certaines nouvelles variables prédictives simplifiées, ainsi que la moyenne pondérée de différents modèles prédictifs.\n",
        "\n"
      ]
    },
    {
      "cell_type": "markdown",
      "metadata": {
        "id": "6zGX_8fbgPar",
        "colab_type": "text"
      },
      "source": [
        "## Bonus - Un exemple basique de model blending"
      ]
    },
    {
      "cell_type": "code",
      "metadata": {
        "id": "q_C7oDL4XJbm",
        "colab_type": "code",
        "outputId": "efc9ed62-f1fe-446e-fd63-07cccc8108b0",
        "colab": {
          "base_uri": "https://localhost:8080/",
          "height": 34
        }
      },
      "source": [
        "w1, w2, w3 = 0.02, 0.08, 0.9\n",
        "valpreds_blend = w1*valpreds_lin + w2*valpreds_poly + w3*valpreds_catboost\n",
        "MAE(yval, valpreds_blend)"
      ],
      "execution_count": 0,
      "outputs": [
        {
          "output_type": "execute_result",
          "data": {
            "text/plain": [
              "15526.13441258489"
            ]
          },
          "metadata": {
            "tags": []
          },
          "execution_count": 414
        }
      ]
    },
    {
      "cell_type": "code",
      "metadata": {
        "id": "aXQrS9F3dLx7",
        "colab_type": "code",
        "colab": {}
      },
      "source": [
        "testpreds_blend = w1*testpreds_lin + w2*testpreds_poly + w3*testpreds_catboost\n",
        "submission = ids.to_frame()\n",
        "submission[\"SalePrice\"] = testpreds_catboost\n",
        "submission.to_csv(\"mysubmission_blend.csv\", index = False)\n"
      ],
      "execution_count": 0,
      "outputs": []
    },
    {
      "cell_type": "markdown",
      "metadata": {
        "id": "05Wgi7t8ghzR",
        "colab_type": "text"
      },
      "source": [
        "(Pas de chance: MAE = 14520, le catboost marchait mieux tout seul cette fois-ci)"
      ]
    },
    {
      "cell_type": "code",
      "metadata": {
        "id": "RHbrWxnXgVmI",
        "colab_type": "code",
        "colab": {}
      },
      "source": [
        ""
      ],
      "execution_count": 0,
      "outputs": []
    }
  ]
}