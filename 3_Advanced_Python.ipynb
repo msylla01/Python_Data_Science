{
  "nbformat": 4,
  "nbformat_minor": 0,
  "metadata": {
    "colab": {
      "name": "3_Advanced_Python.ipynb",
      "version": "0.3.2",
      "provenance": [],
      "collapsed_sections": [],
      "toc_visible": true,
      "include_colab_link": true
    },
    "kernelspec": {
      "name": "python3",
      "display_name": "Python 3"
    }
  },
  "cells": [
    {
      "cell_type": "markdown",
      "metadata": {
        "id": "view-in-github",
        "colab_type": "text"
      },
      "source": [
        "<a href=\"https://colab.research.google.com/github/titsitits/UNamur_Python_Analytics/blob/master/3_Advanced_Python.ipynb\" target=\"_parent\"><img src=\"https://colab.research.google.com/assets/colab-badge.svg\" alt=\"Open In Colab\"/></a>"
      ]
    },
    {
      "cell_type": "markdown",
      "metadata": {
        "id": "DfQ-d2onvooo",
        "colab_type": "text"
      },
      "source": [
        "Mickaël Tits\n",
        "CETIC\n",
        "mickael.tits@cetic.be"
      ]
    },
    {
      "cell_type": "markdown",
      "metadata": {
        "id": "DO0zZ5fB6pC4",
        "colab_type": "text"
      },
      "source": [
        "# Gestion d'exceptions\n",
        "Comme dans la plupart des langages de programmations, lorsqu'une instruction ne peut être correctement effectuée, l'interpréteur renvoie un message d'erreur, et s'arrête. On appelle ça une **exception**. Le message d'erreur est en général une source d'information importante pour le développeur, car il permet de comprendre le bug et ainsi de le résoudre.\n",
        "\n",
        "On peut cependant contourner une exception pour permettre au programme de continuer, en définissant un comportement spécifique à adopter lorsqu'une exception survient."
      ]
    },
    {
      "cell_type": "code",
      "metadata": {
        "id": "6hxrBp7L6-gm",
        "colab_type": "code",
        "colab": {
          "base_uri": "https://localhost:8080/",
          "height": 183
        },
        "outputId": "449c0622-dcb3-4ddd-c30b-5177d6f114db"
      },
      "source": [
        "#Exemple d'exception\n",
        "x = 0\n",
        "inverse = 1/x"
      ],
      "execution_count": 1,
      "outputs": [
        {
          "output_type": "error",
          "ename": "ZeroDivisionError",
          "evalue": "ignored",
          "traceback": [
            "\u001b[0;31m---------------------------------------------------------------------------\u001b[0m",
            "\u001b[0;31mZeroDivisionError\u001b[0m                         Traceback (most recent call last)",
            "\u001b[0;32m<ipython-input-1-d2430f3c8e38>\u001b[0m in \u001b[0;36m<module>\u001b[0;34m()\u001b[0m\n\u001b[1;32m      1\u001b[0m \u001b[0mx\u001b[0m \u001b[0;34m=\u001b[0m \u001b[0;36m0\u001b[0m\u001b[0;34m\u001b[0m\u001b[0;34m\u001b[0m\u001b[0m\n\u001b[0;32m----> 2\u001b[0;31m \u001b[0minverse\u001b[0m \u001b[0;34m=\u001b[0m \u001b[0;36m1\u001b[0m\u001b[0;34m/\u001b[0m\u001b[0mx\u001b[0m\u001b[0;34m\u001b[0m\u001b[0;34m\u001b[0m\u001b[0m\n\u001b[0m",
            "\u001b[0;31mZeroDivisionError\u001b[0m: division by zero"
          ]
        }
      ]
    },
    {
      "cell_type": "markdown",
      "metadata": {
        "id": "6yAvFQXlmyzK",
        "colab_type": "text"
      },
      "source": [
        "* On peut rediriger toute exception:"
      ]
    },
    {
      "cell_type": "code",
      "metadata": {
        "id": "G1caGhQbm1Zu",
        "colab_type": "code",
        "colab": {
          "base_uri": "https://localhost:8080/",
          "height": 35
        },
        "outputId": "8d618824-8168-4ce0-9043-98955c1fadab"
      },
      "source": [
        "x = 0\n",
        "try:\n",
        "  inverse = 1/x\n",
        "except:\n",
        "  inverse = float(\"inf\")  \n",
        "print(inverse)"
      ],
      "execution_count": 5,
      "outputs": [
        {
          "output_type": "stream",
          "text": [
            "inf\n"
          ],
          "name": "stdout"
        }
      ]
    },
    {
      "cell_type": "markdown",
      "metadata": {
        "id": "81OEeBylm5sI",
        "colab_type": "text"
      },
      "source": [
        "* On peut vérifier quel type d'exception est survenue de cette manière:"
      ]
    },
    {
      "cell_type": "code",
      "metadata": {
        "id": "jGOO536em-_A",
        "colab_type": "code",
        "colab": {
          "base_uri": "https://localhost:8080/",
          "height": 52
        },
        "outputId": "1a6c848c-8ce4-4dc4-f387-8506fcf10acf"
      },
      "source": [
        "try:\n",
        "  inverse = 1/x\n",
        "except Exception as e:\n",
        "  print(e)\n",
        "  inverse = float(\"inf\")  \n",
        "print(inverse)"
      ],
      "execution_count": 6,
      "outputs": [
        {
          "output_type": "stream",
          "text": [
            "division by zero\n",
            "inf\n"
          ],
          "name": "stdout"
        }
      ]
    },
    {
      "cell_type": "markdown",
      "metadata": {
        "id": "8l6d8atbnGRY",
        "colab_type": "text"
      },
      "source": [
        "* On peut aussi gérer un type d'exception spécifique, pour modifier le comportement de façon pertinente selon le type d'exception.\n",
        "* Ca permet d'éviter de laisser passer un bug inattendu, ce qui rendrait le débogage plus compliqué"
      ]
    },
    {
      "cell_type": "code",
      "metadata": {
        "id": "CE7wwY086sYm",
        "colab_type": "code",
        "colab": {
          "base_uri": "https://localhost:8080/",
          "height": 235
        },
        "outputId": "e28e21c7-419c-46bd-decd-2997ac158aed"
      },
      "source": [
        "try:\n",
        "  inverse = 1/y\n",
        "except ZeroDivisionError as e:\n",
        "  inverse = float(\"inf\")\n",
        "print(inverse)"
      ],
      "execution_count": 7,
      "outputs": [
        {
          "output_type": "error",
          "ename": "NameError",
          "evalue": "ignored",
          "traceback": [
            "\u001b[0;31m---------------------------------------------------------------------------\u001b[0m",
            "\u001b[0;31mNameError\u001b[0m                                 Traceback (most recent call last)",
            "\u001b[0;32m<ipython-input-7-6851652c7ff0>\u001b[0m in \u001b[0;36m<module>\u001b[0;34m()\u001b[0m\n\u001b[1;32m      1\u001b[0m \u001b[0;32mtry\u001b[0m\u001b[0;34m:\u001b[0m\u001b[0;34m\u001b[0m\u001b[0;34m\u001b[0m\u001b[0m\n\u001b[0;32m----> 2\u001b[0;31m   \u001b[0minverse\u001b[0m \u001b[0;34m=\u001b[0m \u001b[0;36m1\u001b[0m\u001b[0;34m/\u001b[0m\u001b[0my\u001b[0m\u001b[0;34m\u001b[0m\u001b[0;34m\u001b[0m\u001b[0m\n\u001b[0m\u001b[1;32m      3\u001b[0m \u001b[0;32mexcept\u001b[0m \u001b[0mZeroDivisionError\u001b[0m \u001b[0;32mas\u001b[0m \u001b[0me\u001b[0m\u001b[0;34m:\u001b[0m\u001b[0;34m\u001b[0m\u001b[0;34m\u001b[0m\u001b[0m\n\u001b[1;32m      4\u001b[0m   \u001b[0minverse\u001b[0m \u001b[0;34m=\u001b[0m \u001b[0mfloat\u001b[0m\u001b[0;34m(\u001b[0m\u001b[0;34m\"inf\"\u001b[0m\u001b[0;34m)\u001b[0m\u001b[0;34m\u001b[0m\u001b[0;34m\u001b[0m\u001b[0m\n\u001b[1;32m      5\u001b[0m \u001b[0mprint\u001b[0m\u001b[0;34m(\u001b[0m\u001b[0minverse\u001b[0m\u001b[0;34m)\u001b[0m\u001b[0;34m\u001b[0m\u001b[0;34m\u001b[0m\u001b[0m\n",
            "\u001b[0;31mNameError\u001b[0m: name 'y' is not defined"
          ]
        }
      ]
    },
    {
      "cell_type": "markdown",
      "metadata": {
        "id": "oclBP29ZmB_6",
        "colab_type": "text"
      },
      "source": [
        ""
      ]
    },
    {
      "cell_type": "markdown",
      "metadata": {
        "id": "hjY_GjCKdm1i",
        "colab_type": "text"
      },
      "source": [
        "# Fonctions\n",
        "\n",
        "* Les fonctions permettent de rendre le code modulaire (on ne réécrit pas 50x la même chose)\n",
        "* On définit d'abord une fonction, avant de pouvoir l'appeler. Pour la définir:\n",
        "  * on utilise le mot-clé \"def\"\n",
        "  * on définit l'étiquette et les arguments de la fonctions (appelés **signature** de la fonction). E.g.: def my_function(x):\n",
        "  * on écrit ensuite dans un bloc indenté les instructions de la fonction  \n",
        "  * le mot-clé \"return\" permet de renvoyer un résultat de la fonction et de sortir de la fonction. Ce mot-clé peut être utilisé plusieurs fois (par exemple pour retourner un résultat différent selon une condition)\n",
        "  \n"
      ]
    },
    {
      "cell_type": "code",
      "metadata": {
        "id": "Ni47Y48owqgD",
        "colab_type": "code",
        "colab": {
          "base_uri": "https://localhost:8080/",
          "height": 35
        },
        "outputId": "5766a741-88f4-4cb8-fa9e-6be62ac357c0"
      },
      "source": [
        "def factorial(n):\n",
        "  \n",
        "  \"\"\"\n",
        "  Cette fonction permet de calculer le factoriel de n\n",
        "  \"\"\"\n",
        "  \n",
        "  f = 1\n",
        "\n",
        "  for i in range(1,n+1): \n",
        "    f = f * i \n",
        "\n",
        "  return f\n",
        "\n",
        "print(factorial(2), factorial(3), factorial(20) )\n"
      ],
      "execution_count": 42,
      "outputs": [
        {
          "output_type": "stream",
          "text": [
            "2 6 2432902008176640000\n"
          ],
          "name": "stdout"
        }
      ]
    },
    {
      "cell_type": "markdown",
      "metadata": {
        "id": "B6NEo4XK33MQ",
        "colab_type": "text"
      },
      "source": [
        "* Les variables définies dans une fonction n'existe que lors de l'exécution de cette fonction\n",
        "* Les traitements effectués sur les variables ne sont valables que durant l'éxécution de la fonction"
      ]
    },
    {
      "cell_type": "code",
      "metadata": {
        "id": "DVsoh-Qp3h4p",
        "colab_type": "code",
        "colab": {
          "base_uri": "https://localhost:8080/",
          "height": 139
        },
        "outputId": "33dfdcf5-b6b7-4f50-b09b-0f001872912a"
      },
      "source": [
        "x = 1\n",
        "y = 2\n",
        "\n",
        "def my_function():  \n",
        "   \n",
        "  print('x inside function =', x) #utilise la variable définie en-dehors de la fonction  \n",
        "\n",
        "  try:\n",
        "    print(y)\n",
        "  except Exception as exc:\n",
        "    print(exc)\n",
        "  #print(y) #renvoie une erreur car une fonction locale du même nom est déclarée après  \n",
        "  y = 4\n",
        "  print('y inside function =', y) #imprime la variable locale\n",
        "  \n",
        "  z = 3 \n",
        "  print('z inside function =', z) #imprime la variable locale\n",
        "  \n",
        "\n",
        "my_function()\n",
        "\n",
        "\n",
        "print('x outside function =', x)\n",
        "print('y outside function =', y)\n",
        "try:\n",
        "  print(z)\n",
        "except Exception as exc:\n",
        "  print(exc)\n",
        "#print(z) # renvoie une erreur car la variable n'est pas définie en-dehors de la fonction\n",
        "\n"
      ],
      "execution_count": 43,
      "outputs": [
        {
          "output_type": "stream",
          "text": [
            "x inside function = 1\n",
            "local variable 'y' referenced before assignment\n",
            "y inside function = 4\n",
            "z inside function = 3\n",
            "x outside function = 1\n",
            "y outside function = 2\n",
            "name 'z' is not defined\n"
          ],
          "name": "stdout"
        }
      ]
    },
    {
      "cell_type": "markdown",
      "metadata": {
        "id": "Yl7v3tpUuMUg",
        "colab_type": "text"
      },
      "source": [
        "* On peut définir plusieurs arguments\n",
        "* On peut définir des aguments par défaut\n",
        "* Lors de l'appel de la fonction, on peut assigner uniquement certains arguments en utilisant leur identifiant"
      ]
    },
    {
      "cell_type": "code",
      "metadata": {
        "id": "xXBrXymjuLIf",
        "colab_type": "code",
        "colab": {
          "base_uri": "https://localhost:8080/",
          "height": 87
        },
        "outputId": "91977654-a36d-463f-ef23-9a3db320f584"
      },
      "source": [
        "def my_function(param1, param2 = \"param2\", param3 = \"param3\", param4 = \"param4\"):\n",
        "  \n",
        "    print(param1, param2, param3, param4)\n",
        "\n",
        "try:\n",
        "  my_function()\n",
        "except Exception as e:\n",
        "  print(\"Exception:\", e)\n",
        "\n",
        "my_function(1)\n",
        "my_function(1, 2)\n",
        "my_function(1, param3 = 2)\n"
      ],
      "execution_count": 17,
      "outputs": [
        {
          "output_type": "stream",
          "text": [
            "Exception: my_function() missing 1 required positional argument: 'param1'\n",
            "1 param2 param3 param4\n",
            "1 2 param3 param4\n",
            "1 param2 2 param4\n"
          ],
          "name": "stdout"
        }
      ]
    },
    {
      "cell_type": "markdown",
      "metadata": {
        "colab_type": "text",
        "id": "5kYcqRGedMQM"
      },
      "source": [
        "#Objets\n",
        "* En Python, tout est objet, que ce soit les types de base, les collections d'objets (les conteneurs), et même les fonctions.\n",
        "* On peut par exemple créer une liste contenant un ensemble de fonctions (pour par exemple manipuler efficacement un pipeline d'opérations, ou pour stocker ensemble des fonctions ad-hoc, des paramètres et des résutlats de ces fonctions)."
      ]
    },
    {
      "cell_type": "code",
      "metadata": {
        "id": "KNFvk9SfyMYr",
        "colab_type": "code",
        "colab": {
          "base_uri": "https://localhost:8080/",
          "height": 52
        },
        "outputId": "95828ca8-4eae-4af3-d1fa-a864b5b07e2c"
      },
      "source": [
        "def square(x):\n",
        "  return x**2\n",
        "def cube(x):\n",
        "  return x**3\n",
        "  \n",
        "my_list = [square, cube]\n",
        "operands = [4,5]\n",
        "operations = [my_list, operands]\n",
        "\n",
        "print(operations)\n",
        "\n",
        "print( [[func(op) for func in operations[0]] for op in operations[1]])"
      ],
      "execution_count": 34,
      "outputs": [
        {
          "output_type": "stream",
          "text": [
            "[[<function square at 0x7f2210a38730>, <function cube at 0x7f2210a387b8>], [4, 5]]\n",
            "[[16, 64], [25, 125]]\n"
          ],
          "name": "stdout"
        }
      ]
    },
    {
      "cell_type": "markdown",
      "metadata": {
        "colab_type": "text",
        "id": "QIcduaIldMQM"
      },
      "source": [
        "## Objets de base: mutables et immuables"
      ]
    },
    {
      "cell_type": "code",
      "metadata": {
        "id": "QXr2Ps8WDzXd",
        "colab_type": "code",
        "colab": {}
      },
      "source": [
        "#La plupart des types de base sont immuables (int, float, bool, string, tuple)\n",
        "\n",
        "my_int1 = 1\n",
        "#On crée une nouvelle étiquette (référence) vers l'objet 1\n",
        "my_int2 = my_int1\n",
        "\n",
        "print( id(my_int1) , id(my_int2) )\n",
        "\n",
        "#L'objet entier est immuable, donc lorsqu'on veut modifier my_int2, l'objet 1 n'est pas modifié en mémoire. A la place, l'étiquette \"my_int2\" est réassignée vers un nouvel objet en mémoire (en l'occurrence un objet de type entier et de valeur égale à 2)\n",
        "my_int2 += 1\n",
        "\n",
        "print( id(my_int1) , id(my_int2) )"
      ],
      "execution_count": 0,
      "outputs": []
    },
    {
      "cell_type": "code",
      "metadata": {
        "colab_type": "code",
        "id": "suUIFYWrdMQO",
        "colab": {}
      },
      "source": [
        "#Les liste sont des objets mutables, contrairement aux types de base et aux tuples\n",
        "\n",
        "\n",
        "my_list1 = [1,2,3,4]\n",
        "my_list2 = my_list1\n",
        "my_list2[0] = 0\n",
        "my_list2.append(5)\n",
        "\n",
        "print(my_list1,  my_list2)\n",
        "\n",
        "#En fait, la variable \"my_list1\" est une étiquette vers un objet (une liste dans ce cas) un mémoire. \"my_list2\" pointe vers le même objet.\n",
        "print(id(my_list1), id(my_list2))\n"
      ],
      "execution_count": 0,
      "outputs": []
    },
    {
      "cell_type": "code",
      "metadata": {
        "id": "VgA1AWxvFGiw",
        "colab_type": "code",
        "colab": {}
      },
      "source": [
        "my_list2 += [1]\n",
        "\n",
        "print(my_list1,  my_list2)\n",
        "print(id(my_list1), id(my_list2))"
      ],
      "execution_count": 0,
      "outputs": []
    },
    {
      "cell_type": "code",
      "metadata": {
        "id": "IQ6rOVx0Fa13",
        "colab_type": "code",
        "colab": {}
      },
      "source": [
        "#Opérateur \"=\" : réassignation de la variable \"my_list2\" vers un autre objet\n",
        "my_list2 = [1]\n",
        "\n",
        "print(my_list1,  my_list2)\n",
        "print(id(my_list1), id(my_list2))"
      ],
      "execution_count": 0,
      "outputs": []
    },
    {
      "cell_type": "code",
      "metadata": {
        "id": "CjVEeomEC_l4",
        "colab_type": "code",
        "outputId": "abf375df-69e9-4d40-de24-4f01b4b5b563",
        "colab": {
          "base_uri": "https://localhost:8080/",
          "height": 35
        }
      },
      "source": [
        "#Les dictionnaires sont aussi des objets mutables\n",
        "\n",
        "#Création d'un dictionnaire en utilisant des accolades {}\n",
        "my_dict1 = {'a':1,'b':2}\n",
        "\n",
        "#Nouvelle référence vers le même dictionnaire\n",
        "my_dict2 = my_dict1\n",
        "\n",
        "#Modification du dictionnaire\n",
        "my_dict2['c'] = 3\n",
        "\n",
        "print(my_dict1)"
      ],
      "execution_count": 83,
      "outputs": [
        {
          "output_type": "stream",
          "text": [
            "{'a': 1, 'b': 2, 'c': 3}\n"
          ],
          "name": "stdout"
        }
      ]
    },
    {
      "cell_type": "markdown",
      "metadata": {
        "id": "H_i4bLqo903Z",
        "colab_type": "text"
      },
      "source": [
        "## Attributs et méthodes\n",
        "* Chaque objet peut contenir des attributs, et des méthodes qui permettent de réaliser des instructions prenant en compte du contexte de l'objet (c'est-à-dire de ses attributs)"
      ]
    },
    {
      "cell_type": "code",
      "metadata": {
        "id": "v39LXlvq-4Ve",
        "colab_type": "code",
        "colab": {
          "base_uri": "https://localhost:8080/",
          "height": 1000
        },
        "outputId": "b88772c4-2e25-4e89-fcb9-bc392199f785"
      },
      "source": [
        "my_float = 4.2\n",
        "help(my_float)"
      ],
      "execution_count": 99,
      "outputs": [
        {
          "output_type": "stream",
          "text": [
            "Help on float object:\n",
            "\n",
            "class float(object)\n",
            " |  float(x) -> floating point number\n",
            " |  \n",
            " |  Convert a string or number to a floating point number, if possible.\n",
            " |  \n",
            " |  Methods defined here:\n",
            " |  \n",
            " |  __abs__(self, /)\n",
            " |      abs(self)\n",
            " |  \n",
            " |  __add__(self, value, /)\n",
            " |      Return self+value.\n",
            " |  \n",
            " |  __bool__(self, /)\n",
            " |      self != 0\n",
            " |  \n",
            " |  __divmod__(self, value, /)\n",
            " |      Return divmod(self, value).\n",
            " |  \n",
            " |  __eq__(self, value, /)\n",
            " |      Return self==value.\n",
            " |  \n",
            " |  __float__(self, /)\n",
            " |      float(self)\n",
            " |  \n",
            " |  __floordiv__(self, value, /)\n",
            " |      Return self//value.\n",
            " |  \n",
            " |  __format__(...)\n",
            " |      float.__format__(format_spec) -> string\n",
            " |      \n",
            " |      Formats the float according to format_spec.\n",
            " |  \n",
            " |  __ge__(self, value, /)\n",
            " |      Return self>=value.\n",
            " |  \n",
            " |  __getattribute__(self, name, /)\n",
            " |      Return getattr(self, name).\n",
            " |  \n",
            " |  __getformat__(...) from builtins.type\n",
            " |      float.__getformat__(typestr) -> string\n",
            " |      \n",
            " |      You probably don't want to use this function.  It exists mainly to be\n",
            " |      used in Python's test suite.\n",
            " |      \n",
            " |      typestr must be 'double' or 'float'.  This function returns whichever of\n",
            " |      'unknown', 'IEEE, big-endian' or 'IEEE, little-endian' best describes the\n",
            " |      format of floating point numbers used by the C type named by typestr.\n",
            " |  \n",
            " |  __getnewargs__(...)\n",
            " |  \n",
            " |  __gt__(self, value, /)\n",
            " |      Return self>value.\n",
            " |  \n",
            " |  __hash__(self, /)\n",
            " |      Return hash(self).\n",
            " |  \n",
            " |  __int__(self, /)\n",
            " |      int(self)\n",
            " |  \n",
            " |  __le__(self, value, /)\n",
            " |      Return self<=value.\n",
            " |  \n",
            " |  __lt__(self, value, /)\n",
            " |      Return self<value.\n",
            " |  \n",
            " |  __mod__(self, value, /)\n",
            " |      Return self%value.\n",
            " |  \n",
            " |  __mul__(self, value, /)\n",
            " |      Return self*value.\n",
            " |  \n",
            " |  __ne__(self, value, /)\n",
            " |      Return self!=value.\n",
            " |  \n",
            " |  __neg__(self, /)\n",
            " |      -self\n",
            " |  \n",
            " |  __new__(*args, **kwargs) from builtins.type\n",
            " |      Create and return a new object.  See help(type) for accurate signature.\n",
            " |  \n",
            " |  __pos__(self, /)\n",
            " |      +self\n",
            " |  \n",
            " |  __pow__(self, value, mod=None, /)\n",
            " |      Return pow(self, value, mod).\n",
            " |  \n",
            " |  __radd__(self, value, /)\n",
            " |      Return value+self.\n",
            " |  \n",
            " |  __rdivmod__(self, value, /)\n",
            " |      Return divmod(value, self).\n",
            " |  \n",
            " |  __repr__(self, /)\n",
            " |      Return repr(self).\n",
            " |  \n",
            " |  __rfloordiv__(self, value, /)\n",
            " |      Return value//self.\n",
            " |  \n",
            " |  __rmod__(self, value, /)\n",
            " |      Return value%self.\n",
            " |  \n",
            " |  __rmul__(self, value, /)\n",
            " |      Return value*self.\n",
            " |  \n",
            " |  __round__(...)\n",
            " |      Return the Integral closest to x, rounding half toward even.\n",
            " |      When an argument is passed, work like built-in round(x, ndigits).\n",
            " |  \n",
            " |  __rpow__(self, value, mod=None, /)\n",
            " |      Return pow(value, self, mod).\n",
            " |  \n",
            " |  __rsub__(self, value, /)\n",
            " |      Return value-self.\n",
            " |  \n",
            " |  __rtruediv__(self, value, /)\n",
            " |      Return value/self.\n",
            " |  \n",
            " |  __setformat__(...) from builtins.type\n",
            " |      float.__setformat__(typestr, fmt) -> None\n",
            " |      \n",
            " |      You probably don't want to use this function.  It exists mainly to be\n",
            " |      used in Python's test suite.\n",
            " |      \n",
            " |      typestr must be 'double' or 'float'.  fmt must be one of 'unknown',\n",
            " |      'IEEE, big-endian' or 'IEEE, little-endian', and in addition can only be\n",
            " |      one of the latter two if it appears to match the underlying C reality.\n",
            " |      \n",
            " |      Override the automatic determination of C-level floating point type.\n",
            " |      This affects how floats are converted to and from binary strings.\n",
            " |  \n",
            " |  __str__(self, /)\n",
            " |      Return str(self).\n",
            " |  \n",
            " |  __sub__(self, value, /)\n",
            " |      Return self-value.\n",
            " |  \n",
            " |  __truediv__(self, value, /)\n",
            " |      Return self/value.\n",
            " |  \n",
            " |  __trunc__(...)\n",
            " |      Return the Integral closest to x between 0 and x.\n",
            " |  \n",
            " |  as_integer_ratio(...)\n",
            " |      float.as_integer_ratio() -> (int, int)\n",
            " |      \n",
            " |      Return a pair of integers, whose ratio is exactly equal to the original\n",
            " |      float and with a positive denominator.\n",
            " |      Raise OverflowError on infinities and a ValueError on NaNs.\n",
            " |      \n",
            " |      >>> (10.0).as_integer_ratio()\n",
            " |      (10, 1)\n",
            " |      >>> (0.0).as_integer_ratio()\n",
            " |      (0, 1)\n",
            " |      >>> (-.25).as_integer_ratio()\n",
            " |      (-1, 4)\n",
            " |  \n",
            " |  conjugate(...)\n",
            " |      Return self, the complex conjugate of any float.\n",
            " |  \n",
            " |  fromhex(...) from builtins.type\n",
            " |      float.fromhex(string) -> float\n",
            " |      \n",
            " |      Create a floating-point number from a hexadecimal string.\n",
            " |      >>> float.fromhex('0x1.ffffp10')\n",
            " |      2047.984375\n",
            " |      >>> float.fromhex('-0x1p-1074')\n",
            " |      -5e-324\n",
            " |  \n",
            " |  hex(...)\n",
            " |      float.hex() -> string\n",
            " |      \n",
            " |      Return a hexadecimal representation of a floating-point number.\n",
            " |      >>> (-0.1).hex()\n",
            " |      '-0x1.999999999999ap-4'\n",
            " |      >>> 3.14159.hex()\n",
            " |      '0x1.921f9f01b866ep+1'\n",
            " |  \n",
            " |  is_integer(...)\n",
            " |      Return True if the float is an integer.\n",
            " |  \n",
            " |  ----------------------------------------------------------------------\n",
            " |  Data descriptors defined here:\n",
            " |  \n",
            " |  imag\n",
            " |      the imaginary part of a complex number\n",
            " |  \n",
            " |  real\n",
            " |      the real part of a complex number\n",
            "\n"
          ],
          "name": "stdout"
        }
      ]
    },
    {
      "cell_type": "code",
      "metadata": {
        "id": "vTZI5h2I_bNP",
        "colab_type": "code",
        "colab": {
          "base_uri": "https://localhost:8080/",
          "height": 35
        },
        "outputId": "5bdfab22-ecbb-4748-c5bf-9b94e2d9133b"
      },
      "source": [
        "#Attributs d'un float\n",
        "print(my_float.real, my_float.imag)"
      ],
      "execution_count": 96,
      "outputs": [
        {
          "output_type": "stream",
          "text": [
            "4.2 0.0\n"
          ],
          "name": "stdout"
        }
      ]
    },
    {
      "cell_type": "code",
      "metadata": {
        "id": "gzyg0Bz9AdhG",
        "colab_type": "code",
        "colab": {
          "base_uri": "https://localhost:8080/",
          "height": 35
        },
        "outputId": "a4e2215e-2a33-417b-abc7-6a29613784e2"
      },
      "source": [
        "#Une méthode d'un float\n",
        "my_float = 4.0\n",
        "my_float.is_integer()"
      ],
      "execution_count": 102,
      "outputs": [
        {
          "output_type": "execute_result",
          "data": {
            "text/plain": [
              "True"
            ]
          },
          "metadata": {
            "tags": []
          },
          "execution_count": 102
        }
      ]
    },
    {
      "cell_type": "code",
      "metadata": {
        "id": "Pxaw816H-JTJ",
        "colab_type": "code",
        "colab": {
          "base_uri": "https://localhost:8080/",
          "height": 55
        },
        "outputId": "80076702-b5ee-489b-a0da-fa702034858a"
      },
      "source": [
        "print(dir(my_list))"
      ],
      "execution_count": 103,
      "outputs": [
        {
          "output_type": "stream",
          "text": [
            "['__add__', '__class__', '__contains__', '__delattr__', '__delitem__', '__dir__', '__doc__', '__eq__', '__format__', '__ge__', '__getattribute__', '__getitem__', '__gt__', '__hash__', '__iadd__', '__imul__', '__init__', '__init_subclass__', '__iter__', '__le__', '__len__', '__lt__', '__mul__', '__ne__', '__new__', '__reduce__', '__reduce_ex__', '__repr__', '__reversed__', '__rmul__', '__setattr__', '__setitem__', '__sizeof__', '__str__', '__subclasshook__', 'append', 'clear', 'copy', 'count', 'extend', 'index', 'insert', 'pop', 'remove', 'reverse', 'sort']\n"
          ],
          "name": "stdout"
        }
      ]
    },
    {
      "cell_type": "code",
      "metadata": {
        "id": "sTo6AQ6CBBvA",
        "colab_type": "code",
        "colab": {
          "base_uri": "https://localhost:8080/",
          "height": 35
        },
        "outputId": "ac7cd689-6b22-42a9-fc47-988cff85139e"
      },
      "source": [
        "my_list.index(2, 5)"
      ],
      "execution_count": 107,
      "outputs": [
        {
          "output_type": "execute_result",
          "data": {
            "text/plain": [
              "6"
            ]
          },
          "metadata": {
            "tags": []
          },
          "execution_count": 107
        }
      ]
    },
    {
      "cell_type": "markdown",
      "metadata": {
        "id": "TkKuIgFDJ6DX",
        "colab_type": "text"
      },
      "source": [
        "## Les Classes\n",
        "* Les classes permettent de créer des nouveaux types d'objets\n"
      ]
    },
    {
      "cell_type": "code",
      "metadata": {
        "id": "KcRRQgU9DQ_7",
        "colab_type": "code",
        "colab": {}
      },
      "source": [
        "# Type de données personnalisé ?\n",
        "\n",
        "\n",
        "class Personne: #Par convention, on donne généralement une majuscule aux identifiants des classes, pour les distinguer des fonctions\n",
        "  \n",
        "  #cette méthode est appelée par défaut lorsqu'on crée un nouvel objet (une instance) de cette classe\n",
        "  def __init__(self, prenom, nom, age):\n",
        "    \n",
        "    #On crée les attributs de la classe\n",
        "    self.prenom = prenom\n",
        "    self.nom = nom\n",
        "    self.age = age\n",
        "\n",
        "  #Les méthodes d'une classe sont des fonctions internes qui permettent d'effectuer des traitements qui peuvent faire intervenir les attributs de la classe\n",
        "  def display(self):\n",
        "    \n",
        "    print(\"Je m'appelle %s %s et j'ai %d ans\" % (self.prenom, self.nom, self.age))\n",
        "\n",
        "#On crée un nouvel objet de type personne\n",
        "paul = Personne(\"Paul\",\"Pasteur\", 42)\n",
        "\n",
        "print( type(paul) )\n",
        "\n",
        "#On appelle une méthode de cet objet\n",
        "paul.display()\n",
        "\n",
        "#L'objet est mutable donc on crée ici une référence vers le même objet\n",
        "pierre = paul\n",
        "pierre.prenom = \"Pierre\"\n",
        "\n",
        "paul.display()\n",
        "pierre.display()\n",
        "\n"
      ],
      "execution_count": 0,
      "outputs": []
    },
    {
      "cell_type": "code",
      "metadata": {
        "id": "CFrPne3YIvoo",
        "colab_type": "code",
        "colab": {}
      },
      "source": [
        "#Pour créer une copie d'un objet mutable, on peut utiliser un module Python de base: copy.copy\n",
        "from copy import copy\n",
        "\n",
        "\n",
        "\n",
        "#On crée un nouvel objet de type personne\n",
        "paul = personne(\"Paul\",\"Pasteur\", 42)\n",
        "\n",
        "pierre = copy(paul)\n",
        "pierre.prenom = \"Pierre\"\n",
        "\n",
        "paul.display()\n",
        "pierre.display()"
      ],
      "execution_count": 0,
      "outputs": []
    },
    {
      "cell_type": "code",
      "metadata": {
        "id": "7oC7T_kpJw9P",
        "colab_type": "code",
        "colab": {}
      },
      "source": [
        "\n",
        "paul.job = \"pasteurisateur\"\n",
        "print(paul.job)"
      ],
      "execution_count": 0,
      "outputs": []
    },
    {
      "cell_type": "code",
      "metadata": {
        "id": "VXCnd9ddRgqC",
        "colab_type": "code",
        "colab": {}
      },
      "source": [
        "id(paul)"
      ],
      "execution_count": 0,
      "outputs": []
    },
    {
      "cell_type": "markdown",
      "metadata": {
        "id": "B3OkhhW2zo-0",
        "colab_type": "text"
      },
      "source": [
        "# Un exemple concret: un peu de Natural Language Processing (NLP), et de nutrition"
      ]
    },
    {
      "cell_type": "code",
      "metadata": {
        "id": "HSTP6ffZzrY3",
        "colab_type": "code",
        "colab": {
          "base_uri": "https://localhost:8080/",
          "height": 139
        },
        "outputId": "7ac4c509-9429-4c86-d555-5f8352a0f91c"
      },
      "source": [
        "#extract singular versions of words in text (defaults plurals and exceptions are used, but you can override default rules)\n",
        "def singulize(string, pluriels = None, exceptions = None):\n",
        "  \n",
        "  \"\"\"\n",
        "  Extract singular versions of words in text (defaults plurals and exceptions are used, but you can override default rules)\n",
        "  Default plurals: {'ois':'ois','s':'','eaux':'eau','aux':'al','x':''}\n",
        "  Default exceptions: {'os':'os','chacals':'chacal','souris':'souris','rabais':'rabais','prix':'prix', 'taux':'taux','rhinoceros':'rhinoceros','jus':'jus','noix':'noix','mais':'mais'}\n",
        "\n",
        "  \"\"\"\n",
        "\n",
        "  #singulize (french ad-hoc method...)\n",
        "  #règles du pluriel\n",
        "  if pluriels is None:\n",
        "      pluriels = {'ois':'ois','s':'','eaux':'eau','aux':'al','x':''}\n",
        "  #exceptions\n",
        "  if exceptions is None:\n",
        "      exceptions = {'os':'os','chacals':'chacal','souris':'souris','rabais':'rabais','prix':'prix', 'taux':'taux','rhinoceros':'rhinoceros','jus':'jus','noix':'noix','mais':'mais', 'chips':'chips'}\n",
        "\n",
        "  def singulize_word(word):\n",
        "\n",
        "      if word in exceptions:\n",
        "\n",
        "          return exceptions[word]\n",
        "\n",
        "      isplural = [word.endswith(k) for k in pluriels]\n",
        "\n",
        "      if any(isplural):\n",
        "\n",
        "          #take first key\n",
        "          keyid = isplural.index(True)\n",
        "          key = list(pluriels)[keyid]\n",
        "\n",
        "          #to replace last occurence, we reverse all strings and replace first occurrence\n",
        "          return word[::-1].replace(key[::-1], pluriels[key][::-1], 1)[::-1]\n",
        "\n",
        "      return word\n",
        "\n",
        "  return ' '.join([singulize_word(word) for word in string.split()])\n",
        "\n",
        "\n",
        "\n",
        "#remove stopwords from text (defaults stopwords are used but you can override default rules)\n",
        "def remove_stopwords(string, stopwords = None):\n",
        "      \n",
        "  \"\"\"\n",
        "  Remove stopwords from text (defaults stopwords are used but you can override default rules)\n",
        "  Default stopwords: ['de','du','le','les','aux','la','des', 'a', 'une', 'un', 'au','d','l']\n",
        "  \"\"\"\n",
        "  #remove stopwords\n",
        "  if stopwords is None:\n",
        "      stopwords = ['de','du','le','les','aux','la','des', 'a', 'à', 'une', 'un', 'au','d','l']\n",
        "\n",
        "  string = string.replace(\"d'\",\"\")\n",
        "  string = string.replace(\"l'\",\"\")        \n",
        "  return ' '.join([word for word in string.split() if word not in (stopwords)])\n",
        "\n",
        "\n",
        "\n",
        "class Aliment:\n",
        "  \n",
        "\n",
        "  def __init__(self, nom, poids, calories_per_100g):\n",
        "    \n",
        "    self.nom = nom\n",
        "    self.poids = poids\n",
        "    self.cal = calories_per_100g\n",
        "    \n",
        "    self.simplify_name()\n",
        "\n",
        "  def simplify_name(self):\n",
        "    \n",
        "    self.nom = singulize( remove_stopwords(self.nom) )\n",
        "    self.nom = self.nom.capitalize()\n",
        "    \n",
        "  def totcal(self):\n",
        "    \n",
        "    return self.poids*self.cal/100\n",
        "  \n",
        "  def display(self):\n",
        "    \n",
        "    print(\"%s: %d cal/100g, %d g, calories totales: %d\" % (self.nom, self.cal, self.poids, self.totcal()) )\n",
        "\n",
        "\n",
        "sentence1 = \"cake à la banane noix de cajou\"\n",
        "sentence2 = \"cakes aux bananes et aux noix de cajou\"\n",
        "\n",
        "sentence1 = singulize( remove_stopwords(sentence1) )\n",
        "sentence2 = singulize( remove_stopwords(sentence1) )\n",
        "\n",
        "\n",
        "\n",
        "print(sentence1)\n",
        "print(sentence2)\n",
        "\n",
        "if sentence1 == sentence2:\n",
        "  print(\"Les phrases sont identiques\")\n",
        "  \n",
        "\n",
        "  \n",
        "pomme = Aliment(\"des pommes\", poids = 150, calories_per_100g = 52)\n",
        "paquet_chips = Aliment(\"chips\", poids = 120, calories_per_100g = 536)\n",
        "cake = Aliment(sentence1, poids = 75, calories_per_100g = 320)\n",
        "\n",
        "\n",
        "pomme.display()\n",
        "paquet_chips.display()\n",
        "cake.display()\n",
        "\n",
        "aliments = [pomme, paquet_chips, cake]\n",
        "allcals = [item.totcal() for item in aliments]\n",
        "mincals = min(allcals)\n",
        "best = allcals.index(mincals)\n",
        "\n",
        "print(\"Aliment le plus léger:\", aliments[best].nom)"
      ],
      "execution_count": 121,
      "outputs": [
        {
          "output_type": "stream",
          "text": [
            "cake banane noix cajou\n",
            "cake banane noix cajou\n",
            "Les phrases sont identiques\n",
            "Pomme: 52 cal/100g, 150 g, calories totales: 78\n",
            "Chips: 536 cal/100g, 120 g, calories totales: 643\n",
            "Cake banane noix cajou: 320 cal/100g, 75 g, calories totales: 240\n",
            "Aliment le plus léger: Pomme\n"
          ],
          "name": "stdout"
        }
      ]
    },
    {
      "cell_type": "code",
      "metadata": {
        "id": "IzRWmR8XDHd6",
        "colab_type": "code",
        "colab": {}
      },
      "source": [
        ""
      ],
      "execution_count": 0,
      "outputs": []
    }
  ]
}