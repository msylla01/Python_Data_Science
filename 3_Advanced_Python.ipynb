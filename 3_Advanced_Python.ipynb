{
  "nbformat": 4,
  "nbformat_minor": 0,
  "metadata": {
    "colab": {
      "name": "3_Advanced_Python.ipynb",
      "version": "0.3.2",
      "provenance": [],
      "collapsed_sections": [],
      "toc_visible": true,
      "include_colab_link": true
    },
    "kernelspec": {
      "name": "python3",
      "display_name": "Python 3"
    }
  },
  "cells": [
    {
      "cell_type": "markdown",
      "metadata": {
        "id": "view-in-github",
        "colab_type": "text"
      },
      "source": [
        "<a href=\"https://colab.research.google.com/github/titsitits/UNamur_Python_Analytics/blob/master/3_Advanced_Python.ipynb\" target=\"_parent\"><img src=\"https://colab.research.google.com/assets/colab-badge.svg\" alt=\"Open In Colab\"/></a>"
      ]
    },
    {
      "cell_type": "markdown",
      "metadata": {
        "id": "DfQ-d2onvooo",
        "colab_type": "text"
      },
      "source": [
        "Mickaël Tits\n",
        "CETIC\n",
        "mickael.tits@cetic.be"
      ]
    },
    {
      "cell_type": "markdown",
      "metadata": {
        "id": "DO0zZ5fB6pC4",
        "colab_type": "text"
      },
      "source": [
        "# Gestion d'exceptions\n"
      ]
    },
    {
      "cell_type": "markdown",
      "metadata": {
        "id": "jKkBgZcWduRW",
        "colab_type": "text"
      },
      "source": [
        "Comme dans la plupart des langages de programmations, lorsqu'une instruction ne peut être correctement effectuée, l'interpréteur renvoie un message d'erreur, et s'arrête. On appelle ça une **exception**. Le message d'erreur est en général une source d'information importante pour le développeur, car il permet de comprendre le bug et ainsi de le résoudre.\n",
        "\n",
        "On peut cependant contourner une exception pour permettre au programme de continuer, en définissant un comportement spécifique à adopter lorsqu'une exception survient."
      ]
    },
    {
      "cell_type": "code",
      "metadata": {
        "id": "6hxrBp7L6-gm",
        "colab_type": "code",
        "colab": {
          "base_uri": "https://localhost:8080/",
          "height": 183
        },
        "outputId": "449c0622-dcb3-4ddd-c30b-5177d6f114db"
      },
      "source": [
        "#Exemple d'exception\n",
        "x = 0\n",
        "inverse = 1/x"
      ],
      "execution_count": 1,
      "outputs": [
        {
          "output_type": "error",
          "ename": "ZeroDivisionError",
          "evalue": "ignored",
          "traceback": [
            "\u001b[0;31m---------------------------------------------------------------------------\u001b[0m",
            "\u001b[0;31mZeroDivisionError\u001b[0m                         Traceback (most recent call last)",
            "\u001b[0;32m<ipython-input-1-d2430f3c8e38>\u001b[0m in \u001b[0;36m<module>\u001b[0;34m()\u001b[0m\n\u001b[1;32m      1\u001b[0m \u001b[0mx\u001b[0m \u001b[0;34m=\u001b[0m \u001b[0;36m0\u001b[0m\u001b[0;34m\u001b[0m\u001b[0;34m\u001b[0m\u001b[0m\n\u001b[0;32m----> 2\u001b[0;31m \u001b[0minverse\u001b[0m \u001b[0;34m=\u001b[0m \u001b[0;36m1\u001b[0m\u001b[0;34m/\u001b[0m\u001b[0mx\u001b[0m\u001b[0;34m\u001b[0m\u001b[0;34m\u001b[0m\u001b[0m\n\u001b[0m",
            "\u001b[0;31mZeroDivisionError\u001b[0m: division by zero"
          ]
        }
      ]
    },
    {
      "cell_type": "markdown",
      "metadata": {
        "id": "6yAvFQXlmyzK",
        "colab_type": "text"
      },
      "source": [
        "* On peut rediriger toute exception:"
      ]
    },
    {
      "cell_type": "code",
      "metadata": {
        "id": "G1caGhQbm1Zu",
        "colab_type": "code",
        "colab": {
          "base_uri": "https://localhost:8080/",
          "height": 35
        },
        "outputId": "8d618824-8168-4ce0-9043-98955c1fadab"
      },
      "source": [
        "x = 0\n",
        "try:\n",
        "  inverse = 1/x\n",
        "except:\n",
        "  inverse = float(\"inf\")  \n",
        "print(inverse)"
      ],
      "execution_count": 5,
      "outputs": [
        {
          "output_type": "stream",
          "text": [
            "inf\n"
          ],
          "name": "stdout"
        }
      ]
    },
    {
      "cell_type": "markdown",
      "metadata": {
        "id": "81OEeBylm5sI",
        "colab_type": "text"
      },
      "source": [
        "* On peut vérifier quel type d'exception est survenue de cette manière:"
      ]
    },
    {
      "cell_type": "code",
      "metadata": {
        "id": "jGOO536em-_A",
        "colab_type": "code",
        "colab": {
          "base_uri": "https://localhost:8080/",
          "height": 52
        },
        "outputId": "1a6c848c-8ce4-4dc4-f387-8506fcf10acf"
      },
      "source": [
        "try:\n",
        "  inverse = 1/x\n",
        "except Exception as e:\n",
        "  print(e)\n",
        "  inverse = float(\"inf\")  \n",
        "print(inverse)"
      ],
      "execution_count": 6,
      "outputs": [
        {
          "output_type": "stream",
          "text": [
            "division by zero\n",
            "inf\n"
          ],
          "name": "stdout"
        }
      ]
    },
    {
      "cell_type": "markdown",
      "metadata": {
        "id": "8l6d8atbnGRY",
        "colab_type": "text"
      },
      "source": [
        "* On peut aussi gérer un type d'exception spécifique, pour modifier le comportement de façon pertinente selon le type d'exception.\n",
        "* Ca permet d'éviter de laisser passer un bug inattendu, ce qui rendrait le débogage plus compliqué"
      ]
    },
    {
      "cell_type": "code",
      "metadata": {
        "id": "CE7wwY086sYm",
        "colab_type": "code",
        "colab": {
          "base_uri": "https://localhost:8080/",
          "height": 235
        },
        "outputId": "e28e21c7-419c-46bd-decd-2997ac158aed"
      },
      "source": [
        "try:\n",
        "  inverse = 1/y\n",
        "except ZeroDivisionError as e:\n",
        "  inverse = float(\"inf\")\n",
        "print(inverse)"
      ],
      "execution_count": 7,
      "outputs": [
        {
          "output_type": "error",
          "ename": "NameError",
          "evalue": "ignored",
          "traceback": [
            "\u001b[0;31m---------------------------------------------------------------------------\u001b[0m",
            "\u001b[0;31mNameError\u001b[0m                                 Traceback (most recent call last)",
            "\u001b[0;32m<ipython-input-7-6851652c7ff0>\u001b[0m in \u001b[0;36m<module>\u001b[0;34m()\u001b[0m\n\u001b[1;32m      1\u001b[0m \u001b[0;32mtry\u001b[0m\u001b[0;34m:\u001b[0m\u001b[0;34m\u001b[0m\u001b[0;34m\u001b[0m\u001b[0m\n\u001b[0;32m----> 2\u001b[0;31m   \u001b[0minverse\u001b[0m \u001b[0;34m=\u001b[0m \u001b[0;36m1\u001b[0m\u001b[0;34m/\u001b[0m\u001b[0my\u001b[0m\u001b[0;34m\u001b[0m\u001b[0;34m\u001b[0m\u001b[0m\n\u001b[0m\u001b[1;32m      3\u001b[0m \u001b[0;32mexcept\u001b[0m \u001b[0mZeroDivisionError\u001b[0m \u001b[0;32mas\u001b[0m \u001b[0me\u001b[0m\u001b[0;34m:\u001b[0m\u001b[0;34m\u001b[0m\u001b[0;34m\u001b[0m\u001b[0m\n\u001b[1;32m      4\u001b[0m   \u001b[0minverse\u001b[0m \u001b[0;34m=\u001b[0m \u001b[0mfloat\u001b[0m\u001b[0;34m(\u001b[0m\u001b[0;34m\"inf\"\u001b[0m\u001b[0;34m)\u001b[0m\u001b[0;34m\u001b[0m\u001b[0;34m\u001b[0m\u001b[0m\n\u001b[1;32m      5\u001b[0m \u001b[0mprint\u001b[0m\u001b[0;34m(\u001b[0m\u001b[0minverse\u001b[0m\u001b[0;34m)\u001b[0m\u001b[0;34m\u001b[0m\u001b[0;34m\u001b[0m\u001b[0m\n",
            "\u001b[0;31mNameError\u001b[0m: name 'y' is not defined"
          ]
        }
      ]
    },
    {
      "cell_type": "markdown",
      "metadata": {
        "id": "oclBP29ZmB_6",
        "colab_type": "text"
      },
      "source": [
        ""
      ]
    },
    {
      "cell_type": "markdown",
      "metadata": {
        "id": "hjY_GjCKdm1i",
        "colab_type": "text"
      },
      "source": [
        "# Fonctions  \n"
      ]
    },
    {
      "cell_type": "markdown",
      "metadata": {
        "id": "93r8gXyNdyMY",
        "colab_type": "text"
      },
      "source": [
        "* Les fonctions permettent de rendre le code modulaire (on ne réécrit pas 50x la même chose)\n",
        "* On définit d'abord une fonction, avant de pouvoir l'appeler. Pour la définir:\n",
        "  * on utilise le mot-clé \"def\"\n",
        "  * on définit l'étiquette et les arguments de la fonctions (appelés **signature** de la fonction). E.g.: def my_function(x):\n",
        "  * on écrit ensuite dans un bloc indenté les instructions de la fonction  \n",
        "  * le mot-clé \"return\" permet de renvoyer un résultat de la fonction et de sortir de la fonction. Ce mot-clé peut être utilisé plusieurs fois (par exemple pour retourner un résultat différent selon une condition)"
      ]
    },
    {
      "cell_type": "code",
      "metadata": {
        "id": "Ni47Y48owqgD",
        "colab_type": "code",
        "colab": {
          "base_uri": "https://localhost:8080/",
          "height": 35
        },
        "outputId": "5766a741-88f4-4cb8-fa9e-6be62ac357c0"
      },
      "source": [
        "def factorial(n):\n",
        "  \n",
        "  \"\"\"\n",
        "  Cette fonction permet de calculer le factoriel de n\n",
        "  \"\"\"\n",
        "  \n",
        "  f = 1\n",
        "\n",
        "  for i in range(1,n+1): \n",
        "    f = f * i \n",
        "\n",
        "  return f\n",
        "\n",
        "print(factorial(2), factorial(3), factorial(20) )\n"
      ],
      "execution_count": 42,
      "outputs": [
        {
          "output_type": "stream",
          "text": [
            "2 6 2432902008176640000\n"
          ],
          "name": "stdout"
        }
      ]
    },
    {
      "cell_type": "markdown",
      "metadata": {
        "id": "B6NEo4XK33MQ",
        "colab_type": "text"
      },
      "source": [
        "* Les variables définies dans une fonction n'existe que lors de l'exécution de cette fonction\n",
        "* Les traitements effectués sur les variables ne sont valables que durant l'éxécution de la fonction"
      ]
    },
    {
      "cell_type": "code",
      "metadata": {
        "id": "DVsoh-Qp3h4p",
        "colab_type": "code",
        "colab": {
          "base_uri": "https://localhost:8080/",
          "height": 139
        },
        "outputId": "33dfdcf5-b6b7-4f50-b09b-0f001872912a"
      },
      "source": [
        "x = 1\n",
        "y = 2\n",
        "\n",
        "def my_function():  \n",
        "   \n",
        "  print('x inside function =', x) #utilise la variable définie en-dehors de la fonction  \n",
        "\n",
        "  try:\n",
        "    print(y)\n",
        "  except Exception as exc:\n",
        "    print(exc)\n",
        "  #print(y) #renvoie une erreur car une fonction locale du même nom est déclarée après  \n",
        "  y = 4\n",
        "  print('y inside function =', y) #imprime la variable locale\n",
        "  \n",
        "  z = 3 \n",
        "  print('z inside function =', z) #imprime la variable locale\n",
        "  \n",
        "\n",
        "my_function()\n",
        "\n",
        "\n",
        "print('x outside function =', x)\n",
        "print('y outside function =', y)\n",
        "try:\n",
        "  print(z)\n",
        "except Exception as exc:\n",
        "  print(exc)\n",
        "#print(z) # renvoie une erreur car la variable n'est pas définie en-dehors de la fonction\n",
        "\n"
      ],
      "execution_count": 43,
      "outputs": [
        {
          "output_type": "stream",
          "text": [
            "x inside function = 1\n",
            "local variable 'y' referenced before assignment\n",
            "y inside function = 4\n",
            "z inside function = 3\n",
            "x outside function = 1\n",
            "y outside function = 2\n",
            "name 'z' is not defined\n"
          ],
          "name": "stdout"
        }
      ]
    },
    {
      "cell_type": "markdown",
      "metadata": {
        "id": "Yl7v3tpUuMUg",
        "colab_type": "text"
      },
      "source": [
        "* On peut définir plusieurs arguments\n",
        "* On peut définir des aguments par défaut\n",
        "* Lors de l'appel de la fonction, on peut assigner uniquement certains arguments en utilisant leur identifiant"
      ]
    },
    {
      "cell_type": "code",
      "metadata": {
        "id": "xXBrXymjuLIf",
        "colab_type": "code",
        "colab": {
          "base_uri": "https://localhost:8080/",
          "height": 87
        },
        "outputId": "91977654-a36d-463f-ef23-9a3db320f584"
      },
      "source": [
        "def my_function(param1, param2 = \"param2\", param3 = \"param3\", param4 = \"param4\"):\n",
        "  \n",
        "    print(param1, param2, param3, param4)\n",
        "\n",
        "try:\n",
        "  my_function()\n",
        "except Exception as e:\n",
        "  print(\"Exception:\", e)\n",
        "\n",
        "my_function(1)\n",
        "my_function(1, 2)\n",
        "my_function(1, param3 = 2)\n"
      ],
      "execution_count": 17,
      "outputs": [
        {
          "output_type": "stream",
          "text": [
            "Exception: my_function() missing 1 required positional argument: 'param1'\n",
            "1 param2 param3 param4\n",
            "1 2 param3 param4\n",
            "1 param2 2 param4\n"
          ],
          "name": "stdout"
        }
      ]
    },
    {
      "cell_type": "markdown",
      "metadata": {
        "colab_type": "text",
        "id": "5kYcqRGedMQM"
      },
      "source": [
        "#Objets"
      ]
    },
    {
      "cell_type": "markdown",
      "metadata": {
        "id": "lH2VAtf1lC5i",
        "colab_type": "text"
      },
      "source": [
        "## En Python, tout est objet"
      ]
    },
    {
      "cell_type": "markdown",
      "metadata": {
        "id": "Nj47HiLJd1lB",
        "colab_type": "text"
      },
      "source": [
        "* En Python, tout est objet, que ce soit les types de base, les collections d'objets (les conteneurs), et même les fonctions.\n",
        "* On peut par exemple créer une liste contenant un ensemble de fonctions (pour par exemple manipuler efficacement un pipeline d'opérations, ou pour regrouper ensemble des fonctions ad-hoc, des paramètres et des résutlats de ces fonctions)."
      ]
    },
    {
      "cell_type": "code",
      "metadata": {
        "id": "KNFvk9SfyMYr",
        "colab_type": "code",
        "colab": {
          "base_uri": "https://localhost:8080/",
          "height": 52
        },
        "outputId": "95828ca8-4eae-4af3-d1fa-a864b5b07e2c"
      },
      "source": [
        "def square(x):\n",
        "  return x**2\n",
        "def cube(x):\n",
        "  return x**3\n",
        "  \n",
        "my_list = [square, cube]\n",
        "operands = [4,5]\n",
        "operations = [my_list, operands]\n",
        "\n",
        "print(operations)\n",
        "\n",
        "print( [[func(op) for func in operations[0]] for op in operations[1]])"
      ],
      "execution_count": 34,
      "outputs": [
        {
          "output_type": "stream",
          "text": [
            "[[<function square at 0x7f2210a38730>, <function cube at 0x7f2210a387b8>], [4, 5]]\n",
            "[[16, 64], [25, 125]]\n"
          ],
          "name": "stdout"
        }
      ]
    },
    {
      "cell_type": "markdown",
      "metadata": {
        "colab_type": "text",
        "id": "QIcduaIldMQM"
      },
      "source": [
        "## Les objets immuables sont simples\n",
        "Les types de base, tel que les **`int, float, string, bool`** sont **immuables**. Comme vu précédemment, les **`tuple`** sont également **immuables**. **Immuable** signifie qu'après leur création, on ne peut pas modifier les objets en mémoire. C'est pourquoi le code suivant donne une erreur :\n"
      ]
    },
    {
      "cell_type": "code",
      "metadata": {
        "id": "iuctahqVjZSe",
        "colab_type": "code",
        "colab": {}
      },
      "source": [
        "my_tuple = (1,2,3)\n",
        "my_tuple[0] = 42"
      ],
      "execution_count": 0,
      "outputs": []
    },
    {
      "cell_type": "code",
      "metadata": {
        "id": "09ZOedRRkGWC",
        "colab_type": "code",
        "colab": {
          "base_uri": "https://localhost:8080/",
          "height": 87
        },
        "outputId": "0c7d9fbd-b39b-432f-d920-2565bb08026c"
      },
      "source": [
        "my_int1 = 1\n",
        "#On crée une nouvelle étiquette (référence) vers l'objet 1\n",
        "my_int2 = my_int1\n",
        "#la fonction id renvoie l'adresse mémoire de l'objet (i.e. des données réellement stockées dans la mémoire RAM de l'ordinateur!)\n",
        "#Rien ne sert de stocker plusieurs fois l'entier 1 en mémoire, c'est pourquoi les deux variables renvoie au même endroit.\n",
        "print( my_int1, my_int2)\n",
        "print( id(my_int1) , id(my_int2) )\n",
        "\n",
        "#L'objet entier est immuable, donc lorsqu'on veut modifier my_int2, l'objet 1 n'est pas modifié en mémoire. A la place, l'étiquette \"my_int2\" est réassignée vers un nouvel objet en mémoire (en l'occurrence un objet de type entier et de valeur égale à 2)\n",
        "my_int2 += 1\n",
        "\n",
        "print( my_int1, my_int2)\n",
        "print( id(my_int1) , id(my_int2) )"
      ],
      "execution_count": 9,
      "outputs": [
        {
          "output_type": "stream",
          "text": [
            "1 1\n",
            "10968800 10968800\n",
            "1 2\n",
            "10968800 10968832\n"
          ],
          "name": "stdout"
        }
      ]
    },
    {
      "cell_type": "code",
      "metadata": {
        "id": "pR_vzKpUl6Ux",
        "colab_type": "code",
        "colab": {
          "base_uri": "https://localhost:8080/",
          "height": 52
        },
        "outputId": "04d228e6-425d-4790-dd52-ca938cf80380"
      },
      "source": [
        "#Les tuples sont plus faciles (et rapides) à assigner\n",
        "%timeit my_tuple = (1,2,3, 4, True, \"hello\" )\n",
        "%timeit my_list = [1,2,3, 4, True, \"hello\" ]"
      ],
      "execution_count": 14,
      "outputs": [
        {
          "output_type": "stream",
          "text": [
            "100000000 loops, best of 3: 12.1 ns per loop\n",
            "10000000 loops, best of 3: 53 ns per loop\n"
          ],
          "name": "stdout"
        }
      ]
    },
    {
      "cell_type": "code",
      "metadata": {
        "id": "bjMfywuilaMt",
        "colab_type": "code",
        "colab": {
          "base_uri": "https://localhost:8080/",
          "height": 35
        },
        "outputId": "c460a045-4c12-41bc-ddfc-11fa6dc3b4ae"
      },
      "source": [
        "#Les tuples sont plsu légers que les listes\n",
        "import sys\n",
        "my_tuple = (1,2,3, 4, True, \"hello\" )\n",
        "my_list = list(my_tuple)\n",
        "print(sys.getsizeof( my_tuple ) , sys.getsizeof( my_list ) )"
      ],
      "execution_count": 20,
      "outputs": [
        {
          "output_type": "stream",
          "text": [
            "96 136\n"
          ],
          "name": "stdout"
        }
      ]
    },
    {
      "cell_type": "markdown",
      "metadata": {
        "id": "wMFsq7dTjW82",
        "colab_type": "text"
      },
      "source": [
        "## Les objets mutables sont pratiques\n",
        "A l'inverse, les **`list, dict, set`** sont **mutables**, c'est-à-dire qu'on peut modifier l'objet lui-même.\n",
        "\n",
        "**Attention: lorsqu'on assigne une variable avec un objet mutable existant, cette variable devient une référence vers le même objet en mémoire!** Ainsi, le code ci-dessous va modifier à la fois les variables `my_list1` et `my_list2` :"
      ]
    },
    {
      "cell_type": "code",
      "metadata": {
        "id": "TPsc0XCijngq",
        "colab_type": "code",
        "colab": {
          "base_uri": "https://localhost:8080/",
          "height": 35
        },
        "outputId": "eea017f7-87f9-40d8-c663-a32e1664dd08"
      },
      "source": [
        "my_list1 = [1,2,3]\n",
        "my_list2 = my_list1\n",
        "my_list2[0] = 42\n",
        "my_list1.append(4)\n",
        "my_list2 += [5]\n",
        "print(my_list1, my_list2)"
      ],
      "execution_count": 30,
      "outputs": [
        {
          "output_type": "stream",
          "text": [
            "[42, 2, 3, 4, 5] [42, 2, 3, 4, 5]\n"
          ],
          "name": "stdout"
        }
      ]
    },
    {
      "cell_type": "code",
      "metadata": {
        "id": "fwiiEHLsnfNp",
        "colab_type": "code",
        "colab": {
          "base_uri": "https://localhost:8080/",
          "height": 35
        },
        "outputId": "d6109bcc-c355-40d9-a689-ba66a8fafd47"
      },
      "source": [
        "#L'opérateur \"=\" réassigne my_list2, ce qui crée donc une nouvelle liste (différente de my_list1)\n",
        "my_list2 = my_list1+[6]\n",
        "my_list2 += [7]\n",
        "print(my_list1, my_list2)"
      ],
      "execution_count": 33,
      "outputs": [
        {
          "output_type": "stream",
          "text": [
            "[42, 2, 3, 4, 5] [42, 2, 3, 4, 5, 6, 7]\n"
          ],
          "name": "stdout"
        }
      ]
    },
    {
      "cell_type": "markdown",
      "metadata": {
        "id": "H_i4bLqo903Z",
        "colab_type": "text"
      },
      "source": [
        "## Attributs et méthodes\n",
        "* Chaque objet peut contenir des attributs, et des méthodes qui permettent de réaliser des instructions prenant en compte du contexte de l'objet (c'est-à-dire de ses attributs)"
      ]
    },
    {
      "cell_type": "code",
      "metadata": {
        "id": "v39LXlvq-4Ve",
        "colab_type": "code",
        "colab": {
          "base_uri": "https://localhost:8080/",
          "height": 1000
        },
        "outputId": "b88772c4-2e25-4e89-fcb9-bc392199f785"
      },
      "source": [
        "my_float = 4.2\n",
        "help(my_float)"
      ],
      "execution_count": 99,
      "outputs": [
        {
          "output_type": "stream",
          "text": [
            "Help on float object:\n",
            "\n",
            "class float(object)\n",
            " |  float(x) -> floating point number\n",
            " |  \n",
            " |  Convert a string or number to a floating point number, if possible.\n",
            " |  \n",
            " |  Methods defined here:\n",
            " |  \n",
            " |  __abs__(self, /)\n",
            " |      abs(self)\n",
            " |  \n",
            " |  __add__(self, value, /)\n",
            " |      Return self+value.\n",
            " |  \n",
            " |  __bool__(self, /)\n",
            " |      self != 0\n",
            " |  \n",
            " |  __divmod__(self, value, /)\n",
            " |      Return divmod(self, value).\n",
            " |  \n",
            " |  __eq__(self, value, /)\n",
            " |      Return self==value.\n",
            " |  \n",
            " |  __float__(self, /)\n",
            " |      float(self)\n",
            " |  \n",
            " |  __floordiv__(self, value, /)\n",
            " |      Return self//value.\n",
            " |  \n",
            " |  __format__(...)\n",
            " |      float.__format__(format_spec) -> string\n",
            " |      \n",
            " |      Formats the float according to format_spec.\n",
            " |  \n",
            " |  __ge__(self, value, /)\n",
            " |      Return self>=value.\n",
            " |  \n",
            " |  __getattribute__(self, name, /)\n",
            " |      Return getattr(self, name).\n",
            " |  \n",
            " |  __getformat__(...) from builtins.type\n",
            " |      float.__getformat__(typestr) -> string\n",
            " |      \n",
            " |      You probably don't want to use this function.  It exists mainly to be\n",
            " |      used in Python's test suite.\n",
            " |      \n",
            " |      typestr must be 'double' or 'float'.  This function returns whichever of\n",
            " |      'unknown', 'IEEE, big-endian' or 'IEEE, little-endian' best describes the\n",
            " |      format of floating point numbers used by the C type named by typestr.\n",
            " |  \n",
            " |  __getnewargs__(...)\n",
            " |  \n",
            " |  __gt__(self, value, /)\n",
            " |      Return self>value.\n",
            " |  \n",
            " |  __hash__(self, /)\n",
            " |      Return hash(self).\n",
            " |  \n",
            " |  __int__(self, /)\n",
            " |      int(self)\n",
            " |  \n",
            " |  __le__(self, value, /)\n",
            " |      Return self<=value.\n",
            " |  \n",
            " |  __lt__(self, value, /)\n",
            " |      Return self<value.\n",
            " |  \n",
            " |  __mod__(self, value, /)\n",
            " |      Return self%value.\n",
            " |  \n",
            " |  __mul__(self, value, /)\n",
            " |      Return self*value.\n",
            " |  \n",
            " |  __ne__(self, value, /)\n",
            " |      Return self!=value.\n",
            " |  \n",
            " |  __neg__(self, /)\n",
            " |      -self\n",
            " |  \n",
            " |  __new__(*args, **kwargs) from builtins.type\n",
            " |      Create and return a new object.  See help(type) for accurate signature.\n",
            " |  \n",
            " |  __pos__(self, /)\n",
            " |      +self\n",
            " |  \n",
            " |  __pow__(self, value, mod=None, /)\n",
            " |      Return pow(self, value, mod).\n",
            " |  \n",
            " |  __radd__(self, value, /)\n",
            " |      Return value+self.\n",
            " |  \n",
            " |  __rdivmod__(self, value, /)\n",
            " |      Return divmod(value, self).\n",
            " |  \n",
            " |  __repr__(self, /)\n",
            " |      Return repr(self).\n",
            " |  \n",
            " |  __rfloordiv__(self, value, /)\n",
            " |      Return value//self.\n",
            " |  \n",
            " |  __rmod__(self, value, /)\n",
            " |      Return value%self.\n",
            " |  \n",
            " |  __rmul__(self, value, /)\n",
            " |      Return value*self.\n",
            " |  \n",
            " |  __round__(...)\n",
            " |      Return the Integral closest to x, rounding half toward even.\n",
            " |      When an argument is passed, work like built-in round(x, ndigits).\n",
            " |  \n",
            " |  __rpow__(self, value, mod=None, /)\n",
            " |      Return pow(value, self, mod).\n",
            " |  \n",
            " |  __rsub__(self, value, /)\n",
            " |      Return value-self.\n",
            " |  \n",
            " |  __rtruediv__(self, value, /)\n",
            " |      Return value/self.\n",
            " |  \n",
            " |  __setformat__(...) from builtins.type\n",
            " |      float.__setformat__(typestr, fmt) -> None\n",
            " |      \n",
            " |      You probably don't want to use this function.  It exists mainly to be\n",
            " |      used in Python's test suite.\n",
            " |      \n",
            " |      typestr must be 'double' or 'float'.  fmt must be one of 'unknown',\n",
            " |      'IEEE, big-endian' or 'IEEE, little-endian', and in addition can only be\n",
            " |      one of the latter two if it appears to match the underlying C reality.\n",
            " |      \n",
            " |      Override the automatic determination of C-level floating point type.\n",
            " |      This affects how floats are converted to and from binary strings.\n",
            " |  \n",
            " |  __str__(self, /)\n",
            " |      Return str(self).\n",
            " |  \n",
            " |  __sub__(self, value, /)\n",
            " |      Return self-value.\n",
            " |  \n",
            " |  __truediv__(self, value, /)\n",
            " |      Return self/value.\n",
            " |  \n",
            " |  __trunc__(...)\n",
            " |      Return the Integral closest to x between 0 and x.\n",
            " |  \n",
            " |  as_integer_ratio(...)\n",
            " |      float.as_integer_ratio() -> (int, int)\n",
            " |      \n",
            " |      Return a pair of integers, whose ratio is exactly equal to the original\n",
            " |      float and with a positive denominator.\n",
            " |      Raise OverflowError on infinities and a ValueError on NaNs.\n",
            " |      \n",
            " |      >>> (10.0).as_integer_ratio()\n",
            " |      (10, 1)\n",
            " |      >>> (0.0).as_integer_ratio()\n",
            " |      (0, 1)\n",
            " |      >>> (-.25).as_integer_ratio()\n",
            " |      (-1, 4)\n",
            " |  \n",
            " |  conjugate(...)\n",
            " |      Return self, the complex conjugate of any float.\n",
            " |  \n",
            " |  fromhex(...) from builtins.type\n",
            " |      float.fromhex(string) -> float\n",
            " |      \n",
            " |      Create a floating-point number from a hexadecimal string.\n",
            " |      >>> float.fromhex('0x1.ffffp10')\n",
            " |      2047.984375\n",
            " |      >>> float.fromhex('-0x1p-1074')\n",
            " |      -5e-324\n",
            " |  \n",
            " |  hex(...)\n",
            " |      float.hex() -> string\n",
            " |      \n",
            " |      Return a hexadecimal representation of a floating-point number.\n",
            " |      >>> (-0.1).hex()\n",
            " |      '-0x1.999999999999ap-4'\n",
            " |      >>> 3.14159.hex()\n",
            " |      '0x1.921f9f01b866ep+1'\n",
            " |  \n",
            " |  is_integer(...)\n",
            " |      Return True if the float is an integer.\n",
            " |  \n",
            " |  ----------------------------------------------------------------------\n",
            " |  Data descriptors defined here:\n",
            " |  \n",
            " |  imag\n",
            " |      the imaginary part of a complex number\n",
            " |  \n",
            " |  real\n",
            " |      the real part of a complex number\n",
            "\n"
          ],
          "name": "stdout"
        }
      ]
    },
    {
      "cell_type": "code",
      "metadata": {
        "id": "vTZI5h2I_bNP",
        "colab_type": "code",
        "colab": {
          "base_uri": "https://localhost:8080/",
          "height": 35
        },
        "outputId": "5bdfab22-ecbb-4748-c5bf-9b94e2d9133b"
      },
      "source": [
        "#Attributs d'un float\n",
        "print(my_float.real, my_float.imag)"
      ],
      "execution_count": 96,
      "outputs": [
        {
          "output_type": "stream",
          "text": [
            "4.2 0.0\n"
          ],
          "name": "stdout"
        }
      ]
    },
    {
      "cell_type": "code",
      "metadata": {
        "id": "gzyg0Bz9AdhG",
        "colab_type": "code",
        "colab": {
          "base_uri": "https://localhost:8080/",
          "height": 35
        },
        "outputId": "a4e2215e-2a33-417b-abc7-6a29613784e2"
      },
      "source": [
        "#Une méthode d'un float\n",
        "my_float = 4.0\n",
        "my_float.is_integer()"
      ],
      "execution_count": 102,
      "outputs": [
        {
          "output_type": "execute_result",
          "data": {
            "text/plain": [
              "True"
            ]
          },
          "metadata": {
            "tags": []
          },
          "execution_count": 102
        }
      ]
    },
    {
      "cell_type": "code",
      "metadata": {
        "id": "Pxaw816H-JTJ",
        "colab_type": "code",
        "colab": {
          "base_uri": "https://localhost:8080/",
          "height": 55
        },
        "outputId": "80076702-b5ee-489b-a0da-fa702034858a"
      },
      "source": [
        "print(dir(my_list))"
      ],
      "execution_count": 103,
      "outputs": [
        {
          "output_type": "stream",
          "text": [
            "['__add__', '__class__', '__contains__', '__delattr__', '__delitem__', '__dir__', '__doc__', '__eq__', '__format__', '__ge__', '__getattribute__', '__getitem__', '__gt__', '__hash__', '__iadd__', '__imul__', '__init__', '__init_subclass__', '__iter__', '__le__', '__len__', '__lt__', '__mul__', '__ne__', '__new__', '__reduce__', '__reduce_ex__', '__repr__', '__reversed__', '__rmul__', '__setattr__', '__setitem__', '__sizeof__', '__str__', '__subclasshook__', 'append', 'clear', 'copy', 'count', 'extend', 'index', 'insert', 'pop', 'remove', 'reverse', 'sort']\n"
          ],
          "name": "stdout"
        }
      ]
    },
    {
      "cell_type": "code",
      "metadata": {
        "id": "sTo6AQ6CBBvA",
        "colab_type": "code",
        "colab": {
          "base_uri": "https://localhost:8080/",
          "height": 35
        },
        "outputId": "ac7cd689-6b22-42a9-fc47-988cff85139e"
      },
      "source": [
        "my_list.index(2, 5)"
      ],
      "execution_count": 107,
      "outputs": [
        {
          "output_type": "execute_result",
          "data": {
            "text/plain": [
              "6"
            ]
          },
          "metadata": {
            "tags": []
          },
          "execution_count": 107
        }
      ]
    },
    {
      "cell_type": "markdown",
      "metadata": {
        "id": "TkKuIgFDJ6DX",
        "colab_type": "text"
      },
      "source": [
        "## Les Classes\n",
        "* Les classes permettent de créer des nouveaux types d'objets, dont on peut définir les attributs et des méthodes.\n",
        "Les classes permettent d'**encapsuler** les différents attributs et méthodes dans une seule entité.\n",
        "L'**encapsulation** du code permet de rendre le code plus clair, et plus modulaire:\n",
        "* il est plus facile de modifier le comportement d'une classe sans impacter le reste du code\n",
        "* on peut facilement reprendre une classe et l'intégrer à un autre projet\n",
        "* on peut facilement ajouter des méthodes internes de vérification/validation/optimisation, transparentes pour le reste du programme.\n",
        "* on peut directement savoir quelles opératiosn peuvent être exécutées par un module (i.e. quels sont les \"responsabilités/services offerts\" par le module).\n"
      ]
    },
    {
      "cell_type": "code",
      "metadata": {
        "id": "sKmSGLaoo1Fx",
        "colab_type": "code",
        "colab": {}
      },
      "source": [
        "class House:\n",
        "  \n",
        "  \"\"\"\n",
        "  Cette classe permet de définir les propriétés d'une maison, donc l'adresse, le prix, la surface et le nombre de chambre.\n",
        "  Elle permet de vérifier la validité desdonnées (validate()), d'afficher les informations sur la maison (display()), et de calculer le prix par m2 (compute_price_m2())\n",
        "  \"\"\"\n",
        "  \n",
        "  def __init__(self, address, price, surface, rooms):\n",
        "    \n",
        "    self.address = address\n",
        "    self.price = price\n",
        "    self.surface = surface\n",
        "    self.rooms = rooms\n",
        "    \n",
        "    #On vérifie la validité des données, et on les rend valides si possible, sinon on renvoie False (pas valide)\n",
        "    self.is_valid = self.validate()\n",
        "    \n",
        "  def compute_price_m2(self):\n",
        "        \n",
        "    return self.price/self.surface\n",
        "  \n",
        "  def validate(self):\n",
        "    \n",
        "    \"\"\"\n",
        "    Vérifie si l'objet est valide\n",
        "    \"\"\"    \n",
        "    \n",
        "    #Si le prix, la surface, ou le nombre de chambre ne sont pas des int, on essaye de les convertir, sinon pas valide\n",
        "    try:\n",
        "      self.price = int(self.price)\n",
        "      self.surface = int(self.surface)\n",
        "      self.rooms = int(self.rooms)\n",
        "      return True\n",
        "    except:\n",
        "      return False\n",
        "  \n",
        "  def display(self):\n",
        "    \n",
        "    if self.is_valid:\n",
        "      print(self.address, \":\", self.price, \"€, \", self.surface, \"m2\", self.rooms, \"rooms\")\n",
        "    else:\n",
        "      print(\"L'élément n'est pas un élément valide:\", self.address)"
      ],
      "execution_count": 0,
      "outputs": []
    },
    {
      "cell_type": "code",
      "metadata": {
        "id": "KzCn2ZsSp27T",
        "colab_type": "code",
        "colab": {
          "base_uri": "https://localhost:8080/",
          "height": 69
        },
        "outputId": "b7f65075-b778-4642-814f-fc93324d97e4"
      },
      "source": [
        "house1 = House(\"Rue de Bruxelles 42, Namur\", 300000, 120, 3)\n",
        "house1.display()\n",
        "#appeler un attribut (pas de parenthèses)\n",
        "print(house1.price)\n",
        "#appeler une méthode (parenthèses nécessaires)\n",
        "print(house1.compute_price_m2())"
      ],
      "execution_count": 54,
      "outputs": [
        {
          "output_type": "stream",
          "text": [
            "Rue de Bruxelles 42, Namur : 300000 €,  120 m2 3 rooms\n",
            "300000\n",
            "2500.0\n"
          ],
          "name": "stdout"
        }
      ]
    },
    {
      "cell_type": "code",
      "metadata": {
        "id": "KGV2JZkiqkVh",
        "colab_type": "code",
        "colab": {
          "base_uri": "https://localhost:8080/",
          "height": 35
        },
        "outputId": "88e047cd-c9c6-4464-89ea-f1f0dd459ffb"
      },
      "source": [
        "#Attention, par défaut les classes sont mutables\n",
        "house2 = house1\n",
        "house2.price = 350000\n",
        "print(house1.price)"
      ],
      "execution_count": 57,
      "outputs": [
        {
          "output_type": "stream",
          "text": [
            "350000\n"
          ],
          "name": "stdout"
        }
      ]
    },
    {
      "cell_type": "code",
      "metadata": {
        "id": "ieMd6ZiVvX9w",
        "colab_type": "code",
        "colab": {
          "base_uri": "https://localhost:8080/",
          "height": 35
        },
        "outputId": "08088254-82cf-4c01-9275-6c88bc066557"
      },
      "source": [
        "#pour créer une copie d'un objet mutable, on peut utiliser un module Python: copy.copy\n",
        "from copy import copy\n",
        "\n",
        "house2 = copy(house1)\n",
        "\n",
        "house2.price = 500000\n",
        "print(house1.price)"
      ],
      "execution_count": 58,
      "outputs": [
        {
          "output_type": "stream",
          "text": [
            "350000\n"
          ],
          "name": "stdout"
        }
      ]
    },
    {
      "cell_type": "markdown",
      "metadata": {
        "id": "8wMDkbRovxK3",
        "colab_type": "text"
      },
      "source": [
        "**Remarque:** On peut tout à fait ajouter un attribut à un objet créé à partir d'une classe. Ce n'est cependant pas conseillé car les objets d'une même classe perdent alors leur homogénéité."
      ]
    },
    {
      "cell_type": "code",
      "metadata": {
        "id": "7oC7T_kpJw9P",
        "colab_type": "code",
        "outputId": "50f751db-eef9-4565-cdff-d6a573297a84",
        "colab": {
          "base_uri": "https://localhost:8080/",
          "height": 35
        }
      },
      "source": [
        "house2.floors = 2\n",
        "print(house2.floors)\n"
      ],
      "execution_count": 61,
      "outputs": [
        {
          "output_type": "stream",
          "text": [
            "2\n"
          ],
          "name": "stdout"
        }
      ]
    },
    {
      "cell_type": "code",
      "metadata": {
        "id": "_5WiuEhSwPL-",
        "colab_type": "code",
        "colab": {
          "base_uri": "https://localhost:8080/",
          "height": 166
        },
        "outputId": "dea1bee0-7c4b-4deb-a9bd-034320a27d22"
      },
      "source": [
        "#L'hétérogénéité des objets d'une même classe rendent le programme plus compliqué, diminuent la clarté et augmentent les risques de bugs\n",
        "print(house1.floors)"
      ],
      "execution_count": 62,
      "outputs": [
        {
          "output_type": "error",
          "ename": "AttributeError",
          "evalue": "ignored",
          "traceback": [
            "\u001b[0;31m---------------------------------------------------------------------------\u001b[0m",
            "\u001b[0;31mAttributeError\u001b[0m                            Traceback (most recent call last)",
            "\u001b[0;32m<ipython-input-62-29a735c6a59c>\u001b[0m in \u001b[0;36m<module>\u001b[0;34m()\u001b[0m\n\u001b[0;32m----> 1\u001b[0;31m \u001b[0mprint\u001b[0m\u001b[0;34m(\u001b[0m\u001b[0mhouse1\u001b[0m\u001b[0;34m.\u001b[0m\u001b[0mfloors\u001b[0m\u001b[0;34m)\u001b[0m\u001b[0;34m\u001b[0m\u001b[0;34m\u001b[0m\u001b[0m\n\u001b[0m",
            "\u001b[0;31mAttributeError\u001b[0m: 'House' object has no attribute 'floors'"
          ]
        }
      ]
    }
  ]
}