{
  "nbformat": 4,
  "nbformat_minor": 0,
  "metadata": {
    "colab": {
      "name": "6_Data_Mining.ipynb",
      "provenance": [],
      "collapsed_sections": [
        "UZitkG9-Jay6"
      ],
      "toc_visible": true,
      "include_colab_link": true
    },
    "kernelspec": {
      "name": "python3",
      "display_name": "Python 3"
    }
  },
  "cells": [
    {
      "cell_type": "markdown",
      "metadata": {
        "id": "view-in-github",
        "colab_type": "text"
      },
      "source": [
        "<a href=\"https://colab.research.google.com/github/titsitits/Python_Data_Science/blob/master/6_Data_Mining.ipynb\" target=\"_parent\"><img src=\"https://colab.research.google.com/assets/colab-badge.svg\" alt=\"Open In Colab\"/></a>"
      ]
    },
    {
      "cell_type": "markdown",
      "metadata": {
        "id": "DfQ-d2onvooo",
        "colab_type": "text"
      },
      "source": [
        "Mickaël Tits\n",
        "CETIC\n",
        "mickael.tits@cetic.be"
      ]
    },
    {
      "cell_type": "markdown",
      "metadata": {
        "id": "Ug1Bj8_tAVWq",
        "colab_type": "text"
      },
      "source": [
        "# Chapitre 6 - Introduction au Data Mining et à la visualisation de données\n",
        "\n"
      ]
    },
    {
      "cell_type": "markdown",
      "metadata": {
        "id": "-ce4y6EYR9Pt",
        "colab_type": "text"
      },
      "source": [
        "Dans ce chapitre, nous allons explorer plus prodonfément les possibilités d'exploration de données (data mining) avec Pandas. \n",
        "* Nous allons d'abord **extraire de nouvelles caractéristiques** à partir des variables existantes, pour améliorer le dataframe.\n",
        "* Nous allons tester différentes méthodes d'exploration de base, selon le type de caractéristique (variables **continues** ou **catégorielles**)\n",
        "* Nous allons détecter les valeurs particulières, souvent appelées **anomalies**, ou outliers.\n",
        "* Nous allons finalement montrer quelques exemples de **visualisation graphique** des données grâce à la librairie **Matplotlib**\n",
        "\n"
      ]
    },
    {
      "cell_type": "markdown",
      "metadata": {
        "id": "fdJpiflmUNkc",
        "colab_type": "text"
      },
      "source": [
        "Chargez d'abord le dataframe préparé lors du chapitre précédent. "
      ]
    },
    {
      "cell_type": "code",
      "metadata": {
        "id": "5LmLdhShSGzL",
        "colab_type": "code",
        "colab": {}
      },
      "source": [
        "import pandas as pd\n",
        "\n",
        "#Si vous venez d'exécuter le notebook précédent, vous pouvez simplement récupérer le fichier temporaire créé.\n",
        "#df = pd.read_csv(\"houses.csv\", index_col=0)\n",
        "\n",
        "#Vous pouvez aussi récupérer une version du fichier hébergée ici:\n",
        "df = pd.read_csv(\"https://raw.githubusercontent.com/titsitits/Python_Data_Science/master/Donn%C3%A9es/houses.csv\", index_col=0)"
      ],
      "execution_count": 0,
      "outputs": []
    },
    {
      "cell_type": "code",
      "metadata": {
        "id": "sEx1UGV2SUk0",
        "colab_type": "code",
        "colab": {}
      },
      "source": [
        "df"
      ],
      "execution_count": 0,
      "outputs": []
    },
    {
      "cell_type": "markdown",
      "metadata": {
        "id": "ZCMYrQKBXKUt",
        "colab_type": "text"
      },
      "source": [
        "# Extraction de caractéristiques (i.e. augmentation du DataFrame par de nouvelles colonnes)"
      ]
    },
    {
      "cell_type": "code",
      "metadata": {
        "id": "zWaSDF3HMz4C",
        "colab_type": "code",
        "colab": {}
      },
      "source": [
        "#Extract city\n",
        "def get_city(address):\n",
        "\n",
        "  #Le nom de la rue est la partie après le dernier nombre, ou une virgule si aucun code postal n'est renseigné. On cherche donc un nombre en commençant par la fin ( range(len(address),0,-1) )\n",
        "  for i in range(len(address)-1,0,-1):\n",
        "    c = address[i]\n",
        "    if c in \"0123456789,\":\n",
        "      #c est un nombre (ou une virgule), on peut sortir de la boucle\n",
        "      break\n",
        "\n",
        "  #On extrait le nom de la ville\n",
        "  city = address[i+2:]\n",
        "\n",
        "  return city"
      ],
      "execution_count": 0,
      "outputs": []
    },
    {
      "cell_type": "code",
      "metadata": {
        "id": "Rzxt1LTVkiYo",
        "colab_type": "code",
        "colab": {}
      },
      "source": [
        "df = df.assign(city = df[\"address\"].apply(get_city))\n",
        "df = df.assign(price_per_m2 = df.price/df.surface)\n",
        "df = df.assign(price_per_room = df.price/df.rooms)\n",
        "df"
      ],
      "execution_count": 0,
      "outputs": []
    },
    {
      "cell_type": "code",
      "metadata": {
        "id": "120j9NbNMIQ2",
        "colab_type": "code",
        "colab": {}
      },
      "source": [
        "#Ou (idem)\n",
        "df[\"city\"] = df[\"address\"].apply(get_city)\n",
        "df[\"price_per_m2\"] = df.price/df.surface\n",
        "df[\"price_per_room\"] = df.price/df.rooms\n",
        "df"
      ],
      "execution_count": 0,
      "outputs": []
    },
    {
      "cell_type": "code",
      "metadata": {
        "id": "siHvkjWKlVDI",
        "colab_type": "code",
        "colab": {}
      },
      "source": [
        "df.groupby(\"website\").mean()"
      ],
      "execution_count": 0,
      "outputs": []
    },
    {
      "cell_type": "markdown",
      "metadata": {
        "id": "CZaA_8dTlgHw",
        "colab_type": "text"
      },
      "source": [
        "Le prix/m2 et le prix/pièce est en moyenne plus élevé sur immovlan."
      ]
    },
    {
      "cell_type": "code",
      "metadata": {
        "id": "VXTedsTKlsTz",
        "colab_type": "code",
        "colab": {}
      },
      "source": [
        "df.groupby(\"city\").mean()"
      ],
      "execution_count": 0,
      "outputs": []
    },
    {
      "cell_type": "markdown",
      "metadata": {
        "id": "NMy1CDKCmA_F",
        "colab_type": "text"
      },
      "source": [
        "Quelques observations:\n",
        "* Bruxelles serait la ville la plus chère\n",
        "* Charleroi la ville la moins chère\n",
        "* Les maisons sont généralement plus grandes à Fleurus\n",
        "* Les maisons de Fleurus sont plus chères qu'à Charleroi, mais le prix au m2 est presque le même\n",
        "* Les maisons de Charleroi seraient petites mais avec beaucoup de pièces (toutes petites du coup)"
      ]
    },
    {
      "cell_type": "markdown",
      "metadata": {
        "id": "QtoIJoNFm964",
        "colab_type": "text"
      },
      "source": [
        "# Exploration selon le type de caractéristiques: variables continues et catégorielles\n",
        "\n",
        "On peut identifier deux types de variables: des variables **continues** (tel que le prix ou la surface), et des variables **catégorielles**, tel que la ville ou la plateforme.\n",
        "\n",
        "* Les variables continues permettent d'extraire toutes sortes de statistiques, et peuvent être comparées entre elles, par exemple par une analyse de corrélation ou une comparaison d'histogrammes, ou par des modèles prédictifs (e.g.: régression linéaire).\n",
        "\n",
        "* Les variables catégorielles permettent quand à elles une analyse comparative de catégories (une analyse factorielle), par comparaison des statistiques extraites sur les variables continues pour chaque catégorie.\n",
        "\n",
        "Certaines variables peuvent également être considérées de plusieurs manières: le nombre de pièces est une variable **discrète**. Etant donné que le nombre de valeurs différentes est très limité, on pourrait la considérer comme une variable catégorielle (plus spécifiquement comme une variable **ordinale**, i.e. une échelle).\n",
        "\n",
        "A l'inverse, l'adresse pourrait être considérée comme une variable continue si on la traduisait en coordonnées GPS, ou en une distance (à vol d'oiseau ou par la route) à un lieu de référence (distance au magasin le plus proche, l'autoroute la plus proche, à la capitale, à la frontière, etc.)."
      ]
    },
    {
      "cell_type": "markdown",
      "metadata": {
        "id": "sABaHctp1ogg",
        "colab_type": "text"
      },
      "source": [
        "## Corrélations entre les variables continues"
      ]
    },
    {
      "cell_type": "markdown",
      "metadata": {
        "id": "HqlFcFT0CJFL",
        "colab_type": "text"
      },
      "source": [
        "La méthode .corr() permet de calculer les corrélations 2 par 2 pour toutes les variables numériques."
      ]
    },
    {
      "cell_type": "code",
      "metadata": {
        "id": "eAMhg_OQ1zR2",
        "colab_type": "code",
        "colab": {}
      },
      "source": [
        "df.corr()"
      ],
      "execution_count": 0,
      "outputs": []
    },
    {
      "cell_type": "markdown",
      "metadata": {
        "id": "jQd4mlrb12S6",
        "colab_type": "text"
      },
      "source": [
        "Les corrélations entre les variables continues peuvent être fortement influencées par d'autres facteurs (**catégoriels** par exemple). Par exemple, on s'attend à ce que le prix augmente avec la surface pour des maisons donc les autres caractéristiques sont semblables, mais il est évident qu'une maison à la capitale est généralement plus chère qu'une maison de la même surface à la campagne."
      ]
    },
    {
      "cell_type": "code",
      "metadata": {
        "id": "V_XUtX_Iy2Gt",
        "colab_type": "code",
        "colab": {}
      },
      "source": [
        "bxldf = df[df.city == \"Bruxelles\"]\n",
        "bxldf"
      ],
      "execution_count": 0,
      "outputs": []
    },
    {
      "cell_type": "code",
      "metadata": {
        "id": "GGjgU3Cg0-2Y",
        "colab_type": "code",
        "colab": {}
      },
      "source": [
        "bxldf.corr()"
      ],
      "execution_count": 0,
      "outputs": []
    },
    {
      "cell_type": "markdown",
      "metadata": {
        "id": "w_uqhLeG35QJ",
        "colab_type": "text"
      },
      "source": [
        "Si on n'analyse que les maisons Bruxelloises, on constate une corrélation forte entre la surface et le prix."
      ]
    },
    {
      "cell_type": "markdown",
      "metadata": {
        "id": "2F5kVGQG1dQT",
        "colab_type": "text"
      },
      "source": [
        "## Comparaison de catégories: maisons par nombre de pièces"
      ]
    },
    {
      "cell_type": "code",
      "metadata": {
        "id": "W7QQ8Pm_qgOh",
        "colab_type": "code",
        "colab": {}
      },
      "source": [
        "df.groupby(\"rooms\").mean()"
      ],
      "execution_count": 0,
      "outputs": []
    },
    {
      "cell_type": "markdown",
      "metadata": {
        "id": "qhmyYJupq-C3",
        "colab_type": "text"
      },
      "source": [
        "* En l'occurence, on remarque étrangement que le prix des maisons semble diminuer, et que les maisons à 5 pièces sont beaucoup moins chères."
      ]
    },
    {
      "cell_type": "code",
      "metadata": {
        "id": "pz8qPP8vs5mY",
        "colab_type": "code",
        "colab": {}
      },
      "source": [
        "df[df.rooms == 5]"
      ],
      "execution_count": 0,
      "outputs": []
    },
    {
      "cell_type": "markdown",
      "metadata": {
        "id": "mW2k4mbjJKXg",
        "colab_type": "text"
      },
      "source": [
        "On remarque que ces résultats sont principalement dus à une maison particulière, celle de Charleroi: le prix par nombre de chambres est anormalement bas, en comparaison à toutes les autres maisons du dataset. Nous verrons plus loin comment gérer les données inhabituelles"
      ]
    },
    {
      "cell_type": "markdown",
      "metadata": {
        "id": "sMx3V1ofPbTB",
        "colab_type": "text"
      },
      "source": [
        "## Comparaison de catégories multiples"
      ]
    },
    {
      "cell_type": "code",
      "metadata": {
        "id": "ztj9hxDiMQL9",
        "colab_type": "code",
        "colab": {}
      },
      "source": [
        "cat1 = \"city\"\n",
        "cat2 = \"rooms\"\n",
        "#cat2 = \"website\"\n",
        "count_analysis = df.groupby([cat1,cat2])[\"price\"].count().unstack(fill_value=0).transpose()\n",
        "count_analysis"
      ],
      "execution_count": 0,
      "outputs": []
    },
    {
      "cell_type": "code",
      "metadata": {
        "id": "H2spQ_K5RXlf",
        "colab_type": "code",
        "colab": {}
      },
      "source": [
        "price_analysis = df.groupby([cat1,cat2])[\"price\"].mean().unstack(fill_value=0).transpose()\n",
        "price_analysis"
      ],
      "execution_count": 0,
      "outputs": []
    },
    {
      "cell_type": "markdown",
      "metadata": {
        "id": "HwCs3n-mrSRa",
        "colab_type": "text"
      },
      "source": [
        "# Détection/suppression des anomalies ?\n",
        "\n",
        "Les anomalies sont des observations très différentes de la masse des données. Par exemple, si pour un dataset de 100 maisons, toutes sont entre 200000 et 400000 et une seule est à 100000, elle peut-être considérée comme une anomalie. Ou si on a 100 maisons à Bruxelles et une seule à Philippeville, on peut également considérer cette dernière comme anormale. Elle risque en effet d'être tellement différente des autres qu'elle aura une forte influence sur les statistiques. Lors d'une analyse statistique exploratoire, il est donc pertinent d'omettre ces données inhabituelles. A l'inverse, il est également parfois intéressant de détecter les valeurs exceptionnelles, permettant par exemple d'identifier des causes de problèmes (sur des données issues de capteurs d'usines par exemples); ou dans le présent contexte des éventuelles bonnes affaires immobilières (ou des fraudeurs: blanchiment d'argent ou arnaque ?).\n",
        "\n",
        "En l'occurrence, dans notre dataset de test, on pourrait considérer la maison de Charleroi comme anormale: son prix par pièce est beaucoup moins élevé que celui de toutes les autres.\n",
        "\n",
        "Les anomalies peuvent se détecter de deux manières: les statistiques et la visualisation graphique."
      ]
    },
    {
      "cell_type": "code",
      "metadata": {
        "id": "AeXpEgLo-Zjv",
        "colab_type": "code",
        "colab": {}
      },
      "source": [
        "df"
      ],
      "execution_count": 0,
      "outputs": []
    },
    {
      "cell_type": "code",
      "metadata": {
        "id": "tbygvQ3F8Mav",
        "colab_type": "code",
        "colab": {}
      },
      "source": [
        "#Inter-quantile range\n",
        "Q1 = df.price_per_room.quantile(0.25)\n",
        "Q3 = df.price_per_room.quantile(0.75)\n",
        "IQR = Q3 - Q1\n",
        "h = 2\n",
        "print(\"limits:\", (Q1 - h * IQR), \"to\", (Q3 + h * IQR))\n",
        "\n",
        "#Les données s'écartant fortement des quantiles sont potentiellement des anomalies (outlier en anglais)\n",
        "is_outlier = (df.price_per_room < (Q1 - h * IQR)) | (df.price_per_room > (Q3 + h * IQR))\n",
        "df.loc[is_outlier]"
      ],
      "execution_count": 0,
      "outputs": []
    },
    {
      "cell_type": "code",
      "metadata": {
        "id": "KSpAhzcBYgj7",
        "colab_type": "code",
        "colab": {}
      },
      "source": [
        "df2 = df[~is_outlier] #détection statistique d'outliers\n",
        "df2.to_csv(\"houses_features.csv\")\n",
        "df2"
      ],
      "execution_count": 0,
      "outputs": []
    },
    {
      "cell_type": "markdown",
      "metadata": {
        "id": "C7DGIGdluWig",
        "colab_type": "text"
      },
      "source": [
        "# Visualisation de données avec `Matplotlib`\n",
        "\n",
        "Matplotlib est une librairie permettent la visualisation graphique des données. Elle est habituellement utilisée avec les trois librairies présentées plus haut (Numpy, Scipy, Pandas)."
      ]
    },
    {
      "cell_type": "code",
      "metadata": {
        "id": "jdWUb0mJ0euk",
        "colab_type": "code",
        "colab": {}
      },
      "source": [
        "from matplotlib import pyplot as plt\n",
        "\n",
        "plt.scatter(df.surface, df.price)\n",
        "plt.xlabel(\"Surface\")\n",
        "plt.ylabel(\"Price\")"
      ],
      "execution_count": 0,
      "outputs": []
    },
    {
      "cell_type": "code",
      "metadata": {
        "id": "E_g3E8o9rY0E",
        "colab_type": "code",
        "colab": {}
      },
      "source": [
        "from matplotlib import pyplot as plt\n",
        "\n",
        "plt.bar(df.address,df.price_per_room)\n",
        "plt.xticks(rotation=90)"
      ],
      "execution_count": 0,
      "outputs": []
    },
    {
      "cell_type": "code",
      "metadata": {
        "id": "6qnUZJK2tbMo",
        "colab_type": "code",
        "colab": {}
      },
      "source": [
        "#méthode intégrée de pandas\n",
        "df.plot.bar(y=\"price_per_room\")\n",
        "plt.xticks(rotation=90)           "
      ],
      "execution_count": 0,
      "outputs": []
    },
    {
      "cell_type": "code",
      "metadata": {
        "id": "xEUcqzP5vvfH",
        "colab_type": "code",
        "colab": {}
      },
      "source": [
        "#On retire les données extrêmes\n",
        "df2 = df.drop([3,11]) #détection manuelle (visuelle)\n",
        "df2"
      ],
      "execution_count": 0,
      "outputs": []
    },
    {
      "cell_type": "code",
      "metadata": {
        "id": "8pd7l-Z3wHAD",
        "colab_type": "code",
        "colab": {}
      },
      "source": [
        "df2.groupby(\"rooms\").mean()"
      ],
      "execution_count": 0,
      "outputs": []
    },
    {
      "cell_type": "markdown",
      "metadata": {
        "id": "mCSyQ5Lswbl5",
        "colab_type": "text"
      },
      "source": [
        "* Après avoir retiré les donénes extrêmes, l'évolution du prix en fonction du nombre de chambres est plus cohérente.\n",
        "* On remarque que le prix au m2 augmente, mais que le prix par pièce diminue."
      ]
    },
    {
      "cell_type": "code",
      "metadata": {
        "id": "zDVI9DvqwxFX",
        "colab_type": "code",
        "colab": {}
      },
      "source": [
        "result = df2.groupby(\"rooms\").mean()\n",
        "#Divide each column by its sum (so that sum is 1) - so that multiple bar plots with various orders are visible\n",
        "result = result/result.sum()\n",
        "result.plot(kind=\"bar\")"
      ],
      "execution_count": 0,
      "outputs": []
    },
    {
      "cell_type": "code",
      "metadata": {
        "id": "ct5UTpmm7ItQ",
        "colab_type": "code",
        "colab": {}
      },
      "source": [
        "#plus lisible (on transpose pour avoir un graphe par variable plutôt que par nombre de chambres)\n",
        "result.transpose().plot(kind=\"bar\")"
      ],
      "execution_count": 0,
      "outputs": []
    },
    {
      "cell_type": "markdown",
      "metadata": {
        "id": "8jXwAMMRzJnf",
        "colab_type": "text"
      },
      "source": [
        "On remarque que:\n",
        "* le prix augmente à peu près\n",
        "* la surface augmente\n",
        "* le prix au m2 diminue\n",
        "* le prix par pièce diminue"
      ]
    },
    {
      "cell_type": "code",
      "metadata": {
        "id": "oFJhEsNat6io",
        "colab_type": "code",
        "colab": {}
      },
      "source": [
        "website_comparison = df.groupby(\"website\").mean()\n",
        "website_comparison.plot.bar(y=\"price\")"
      ],
      "execution_count": 0,
      "outputs": []
    },
    {
      "cell_type": "code",
      "metadata": {
        "id": "ad0KrEotvBiZ",
        "colab_type": "code",
        "colab": {}
      },
      "source": [
        "#df.plot: afficher une courbe. On trie d'abord les maisons par surface croissante pour afficher la courbe (DF.sort_values(\"surface\"))\n",
        "bxldf.sort_values(\"surface\").plot(\"surface\",\"price\")"
      ],
      "execution_count": 0,
      "outputs": []
    },
    {
      "cell_type": "code",
      "metadata": {
        "id": "lnOUpYmJMVn_",
        "colab_type": "code",
        "colab": {}
      },
      "source": [
        "count_analysis.plot.pie(subplots = True, figsize = (15,15))"
      ],
      "execution_count": 0,
      "outputs": []
    },
    {
      "cell_type": "code",
      "metadata": {
        "id": "EZY3bOLpPxuh",
        "colab_type": "code",
        "colab": {}
      },
      "source": [
        "\n",
        "price_analysis.plot.bar(subplots = True, figsize = (10,10))"
      ],
      "execution_count": 0,
      "outputs": []
    },
    {
      "cell_type": "markdown",
      "metadata": {
        "id": "JmLLbgt2Hg9W",
        "colab_type": "text"
      },
      "source": [
        "# Exercices\n",
        "\n",
        "## 1. Recherchez les maisons ayant un prix anormal\n",
        "\n",
        "Cherchez les maisons ayant un prix s'écartant fortement du IQR (inter-quantile range).\n",
        "\n"
      ]
    },
    {
      "cell_type": "code",
      "metadata": {
        "id": "tiFi_eH-lI7S",
        "colab_type": "code",
        "colab": {}
      },
      "source": [
        ""
      ],
      "execution_count": 0,
      "outputs": []
    },
    {
      "cell_type": "markdown",
      "metadata": {
        "id": "8fFsG7TYJHoF",
        "colab_type": "text"
      },
      "source": [
        "### Solution Exercice 1"
      ]
    },
    {
      "cell_type": "code",
      "metadata": {
        "id": "k08jXFtqJJhD",
        "colab_type": "code",
        "colab": {}
      },
      "source": [
        "#Inter-quantile range\n",
        "Q1 = df.price.quantile(0.25)\n",
        "Q3 = df.price.quantile(0.75)\n",
        "IQR = Q3 - Q1\n",
        "h = 2\n",
        "print(\"limits:\", (Q1 - h * IQR), \"to\", (Q3 + h * IQR))\n",
        "\n",
        "#Les données s'écartant fortement des quantiles sont potentiellement des anomalies (outlier en anglais)\n",
        "is_outlier = (df.price < (Q1 - h * IQR)) | (df.price > (Q3 + h * IQR))\n",
        "df.loc[is_outlier]\n",
        "\n"
      ],
      "execution_count": 0,
      "outputs": []
    },
    {
      "cell_type": "markdown",
      "metadata": {
        "id": "VHnDqnnzJr_7",
        "colab_type": "text"
      },
      "source": [
        "On retrouve la maison de la Rue de la Loi 50 à Bruxelles qui est effectivement beaucoup plus chère que toutes les autres."
      ]
    },
    {
      "cell_type": "markdown",
      "metadata": {
        "id": "_-ROwVwUlJfl",
        "colab_type": "text"
      },
      "source": [
        "## 2. Définissez une fonction générique permettant de détecter les anomalies sur n'importe quelle colonne numérique\n",
        "\n",
        "Modularisez le code écrit à l'exercice précédent pour le rendre générique.\n",
        "\n"
      ]
    },
    {
      "cell_type": "code",
      "metadata": {
        "id": "TaNZaAyWlMmM",
        "colab_type": "code",
        "colab": {}
      },
      "source": [
        ""
      ],
      "execution_count": 0,
      "outputs": []
    },
    {
      "cell_type": "markdown",
      "metadata": {
        "id": "hc0lIIs9ZU29",
        "colab_type": "text"
      },
      "source": [
        "### Solution Exercice 2"
      ]
    },
    {
      "cell_type": "code",
      "metadata": {
        "id": "7x79_EkqZY2z",
        "colab_type": "code",
        "colab": {}
      },
      "source": [
        "def detect_outliers(df, column, h = 2, left = 0.25, right = 0.75):\n",
        "  Q1 = df[column].quantile(left)\n",
        "  Q3 = df[column].quantile(right)\n",
        "  IQR = Q3 - Q1\n",
        "  #print(\"limits:\", (Q1 - h * IQR), \"to\", (Q3 + h * IQR))\n",
        "\n",
        "  #Les données s'écartant fortement des quantiles sont potentiellement des anomalies (outlier en anglais)\n",
        "  is_outlier = (df[column] < (Q1 - h * IQR)) | (df[column] > (Q3 + h * IQR))\n",
        "  outliers = df.loc[is_outlier]\n",
        "  \n",
        "  if len(outliers) > 0:    \n",
        "    print(\"Anomalies en terme de\", column, \":\")\n",
        "    display(outliers)\n",
        "  \n",
        "  return outliers\n",
        "\n",
        "out = detect_outliers(df, 'price')\n",
        "out = detect_outliers(df, 'surface')"
      ],
      "execution_count": 0,
      "outputs": []
    },
    {
      "cell_type": "markdown",
      "metadata": {
        "id": "exGQnJJclNHE",
        "colab_type": "text"
      },
      "source": [
        "## 3. Définissez une fonction générique permettant de détecter les anomalies sur une colonne catégorielle\n",
        "\n",
        "Pour les variables catégorielles, vous pouvez simplement détecter une catégorie particulièrement rare (nombre d'occurrences plus petit qu'un seuil nmin). \n"
      ]
    },
    {
      "cell_type": "code",
      "metadata": {
        "id": "OHBdXYpOlPaA",
        "colab_type": "code",
        "colab": {}
      },
      "source": [
        ""
      ],
      "execution_count": 0,
      "outputs": []
    },
    {
      "cell_type": "markdown",
      "metadata": {
        "id": "1qSBlQToZez0",
        "colab_type": "text"
      },
      "source": [
        "### Solution Exercice 3"
      ]
    },
    {
      "cell_type": "code",
      "metadata": {
        "id": "w02bi1caZoQW",
        "colab_type": "code",
        "colab": {}
      },
      "source": [
        "#variables catégorielles (le nombre de chambres peut être considéré comme variable catégorielle aussi)\n",
        "def detect_rare_cat(df, column, nmin = 2):\n",
        "  counts = df.groupby(column)['price'].count()\n",
        "  rare_cats = counts[counts < nmin]\n",
        "  outliers = df[df[column].isin(rare_cats.index)]\n",
        "  \n",
        "  if len(outliers) > 0:    \n",
        "    print(\"Anomalies en terme de\", column, \":\")\n",
        "    display(outliers)\n",
        "  \n",
        "  return outliers\n",
        "\n",
        "out = detect_rare_cat(df, 'city')"
      ],
      "execution_count": 0,
      "outputs": []
    },
    {
      "cell_type": "markdown",
      "metadata": {
        "id": "bgxvdXf9lPzM",
        "colab_type": "text"
      },
      "source": [
        "## 4. Détectez automatiquement le type d'une variable\n",
        "\n",
        "Indice: vous pouvez aussi définir une variable comme catégorielle si elle compte un nombre limité de valeurs uniques. (Utilisez la méthode pd.Series.unique())\n",
        "Attention: le nombre de chambres 'rooms' peut à la fois être considéré comme catégoriel et numérique. Utilisez la méthode pd.DataFrame. \n",
        "Indice: pour vérifier si une colonne est numérique, vous pouvez essayer de la convertir en float: series.astype(float) et rediriger l'erreur.\n"
      ]
    },
    {
      "cell_type": "code",
      "metadata": {
        "id": "SHne6Oo8lR5d",
        "colab_type": "code",
        "colab": {}
      },
      "source": [
        ""
      ],
      "execution_count": 0,
      "outputs": []
    },
    {
      "cell_type": "markdown",
      "metadata": {
        "id": "F2pWFHgUd55O",
        "colab_type": "text"
      },
      "source": [
        "### Solution Exercice 4"
      ]
    },
    {
      "cell_type": "code",
      "metadata": {
        "id": "smlFBP5Nd8mE",
        "colab_type": "code",
        "colab": {}
      },
      "source": [
        "def is_cat(series, relative_threshold = 0.5, absolute_threshold = 20):\n",
        "  \n",
        "  nvalues = len(series)  \n",
        "  ncats = len(series.unique())\n",
        "  \n",
        "  #On considère la variable comme catégorielle si le nombre de valeurs uniques et plus petit qu'un seuil relatif ou absolu\n",
        "  return (ncats/nvalues <= relative_threshold) and (ncats <= absolute_threshold)\n",
        "\n",
        "def is_num(series):\n",
        "  try:\n",
        "    series.astype(float)\n",
        "    return True\n",
        "  except:\n",
        "    return False\n",
        "\n",
        "is_categorical = df.apply(is_cat)\n",
        "is_numeric = df.apply(is_num)\n",
        "is_numeric\n"
      ],
      "execution_count": 0,
      "outputs": []
    },
    {
      "cell_type": "markdown",
      "metadata": {
        "id": "Q0TeASzvlSOt",
        "colab_type": "text"
      },
      "source": [
        "## 5. Recherchez les anomalies de manière systématique"
      ]
    },
    {
      "cell_type": "code",
      "metadata": {
        "id": "Fn_0vnMilTIl",
        "colab_type": "code",
        "colab": {}
      },
      "source": [
        ""
      ],
      "execution_count": 0,
      "outputs": []
    },
    {
      "cell_type": "markdown",
      "metadata": {
        "id": "UZitkG9-Jay6",
        "colab_type": "text"
      },
      "source": [
        "### Solution Exercice 5"
      ]
    },
    {
      "cell_type": "code",
      "metadata": {
        "id": "T17xMWjTJ2w7",
        "colab_type": "code",
        "colab": {}
      },
      "source": [
        "cat_cols = is_categorical[is_categorical == True].index\n",
        "num_cols = is_numeric[is_numeric == True].index\n",
        "\n",
        "\n",
        "#Pour chaque colonne catégorielle, on extrait lest outliers\n",
        "cat_outliers = [detect_rare_cat(df, cat) for cat in cat_cols]\n",
        "#rassemblons les outliers dans un seul dataframe (nous pouvons retirer les doublons)\n",
        "cat_outliers = pd.concat(cat_outliers).drop_duplicates()\n",
        "\n",
        "#Pour chaque colonne numérique, on extrait les outliers\n",
        "num_outliers = [detect_outliers(df, c) for c in num_cols]\n",
        "#Rassemblons les outliers trouvés dans un seul dataframe \n",
        "num_outliers = pd.concat(num_outliers).drop_duplicates()\n",
        "\n",
        "\n",
        "#Rassemblons tous les outliers\n",
        "outliers = pd.concat([num_outliers, cat_outliers]).drop_duplicates()\n",
        "print(\"Tous les outliers:\")\n",
        "display(outliers)\n",
        "\n",
        "#On supprime les outliers (à partir de leur index)\n",
        "df_filtered = df.drop(outliers.index)\n",
        "\n",
        "print(\"Dataframe filtré:\")\n",
        "display(df_filtered)"
      ],
      "execution_count": 0,
      "outputs": []
    },
    {
      "cell_type": "code",
      "metadata": {
        "id": "dQriZOvKmU3X",
        "colab_type": "code",
        "colab": {}
      },
      "source": [
        "cat_cols = is_categorical[is_categorical == True].index\n",
        "num_cols = is_numeric[is_numeric == True].index\n",
        "\n",
        "\n",
        "#Pour chaque colonne catégorielle, on extrait lest outliers\n",
        "cat_outliers = [detect_rare_cat(df, cat) for cat in cat_cols]\n",
        "#rassemblons les outliers dans un seul dataframe (nous pouvons retirer les doublons)\n",
        "cat_outliers = pd.concat(cat_outliers).drop_duplicates()\n",
        "\n",
        "#Pour chaque colonne numérique, on extrait les outliers\n",
        "num_outliers = [detect_outliers(df, c) for c in num_cols]\n",
        "#Rassemblons les outliers trouvés dans un seul dataframe \n",
        "num_outliers = pd.concat(num_outliers).drop_duplicates()\n",
        "\n",
        "\n",
        "#Rassemblons tous les outliers\n",
        "outliers = pd.concat([num_outliers, cat_outliers]).drop_duplicates()\n",
        "print(\"Tous les outliers:\")\n",
        "display(outliers)\n",
        "\n",
        "#On supprime les outliers (à partir de leur index)\n",
        "df_filtered = df.drop(outliers.index)\n",
        "\n",
        "print(\"Dataframe filtré:\")\n",
        "display(df_filtered)"
      ],
      "execution_count": 0,
      "outputs": []
    },
    {
      "cell_type": "markdown",
      "metadata": {
        "id": "hBkKlSPzpoJm",
        "colab_type": "text"
      },
      "source": [
        "### Solution alternative"
      ]
    },
    {
      "cell_type": "code",
      "metadata": {
        "id": "mA4tjMBqppy2",
        "colab_type": "code",
        "colab": {}
      },
      "source": [
        "#Définissons des fonctions de détection d'outliers sur des Series, pour pouvoir utiliser la méthode \"apply\" dessus:\n",
        "\n",
        "#Détection d'outliers numériques\n",
        "def detect_numeric_outliers_series(series, h = 2, left = 0.25, right = 0.75):\n",
        "\n",
        "  \n",
        "  Q1 = series.quantile(left)\n",
        "  Q3 = series.quantile(right)\n",
        "  IQR = Q3 - Q1\n",
        "\n",
        "  #Les données s'écartant fortement des quantiles sont potentiellement des anomalies (outlier en anglais)\n",
        "  is_outlier = (series < (Q1 - h * IQR)) | (series > (Q3 + h * IQR))\n",
        "  if is_outlier.sum() > 0:\n",
        "    print(is_outlier.sum(), \"outliers numériques trouvés pour\", series.name)\n",
        "  return is_outlier\n",
        "\n",
        "#Détection d'outliers catégoriels\n",
        "def detect_rare_cat_series(series, nmin = 2):\n",
        "  counts = series.value_counts()\n",
        "  rare_cats = counts[counts < nmin]\n",
        "  is_outlier = series.isin(rare_cats.index)\n",
        "  if is_outlier.sum() > 0:\n",
        "    print(is_outlier.sum(), \"outliers catégoriels trouvés pour\", series.name)\n",
        "  return is_outlier\n",
        "\n",
        "\n",
        "#Détection générique des outliers dans une Series\n",
        "def detect_outlier_series(series):\n",
        "  \n",
        "  if is_num(series):\n",
        "    return detect_numeric_outliers_series(series)\n",
        "    \n",
        "  elif is_cat(series):\n",
        "    return detect_rare_cat_series(series)\n",
        "  else:\n",
        "    #return a Series containing only False\n",
        "    return pd.Series(False, series.index)\n",
        "\n",
        "\n",
        "  \n",
        "outliers = df.apply(detect_outlier_series)\n",
        "\n",
        "#De cette manière, on peut observer le nombre de fois qu'une maison est considérée comme anormale\n",
        "outlier_sum = outliers.sum(axis = 1) \n",
        "outlier_sum.plot.bar()\n",
        "plt.xticks(range(len(df.address)), labels = df.address, rotation = \"vertical\")\n",
        "\n",
        "#On peut vérifier pour quelles variables chaque maison est considérée comme anormale\n",
        "display(outliers)\n",
        "\n",
        "#Outliers\n",
        "display(df[outlier_sum > 0])"
      ],
      "execution_count": 0,
      "outputs": []
    },
    {
      "cell_type": "markdown",
      "metadata": {
        "id": "Sqza1iffq4Li",
        "colab_type": "text"
      },
      "source": [
        "On remarque que la maison de la Rue de la Loi 50, Bruxelles, et celle de charleroi sont considérées deux fois comme des outliers."
      ]
    },
    {
      "cell_type": "markdown",
      "metadata": {
        "id": "wMt4elplxQVi",
        "colab_type": "text"
      },
      "source": [
        "# Fin\n",
        "Vous pouvez maintenant passer au [Chapitre 7: Introduction au Machine Learning](https://colab.research.google.com/github/titsitits/UNamur_Python_Analytics/blob/master/7_Machine_Learning_Introduction.ipynb)"
      ]
    }
  ]
}