{
  "nbformat": 4,
  "nbformat_minor": 0,
  "metadata": {
    "colab": {
      "name": "6_Data_Mining.ipynb",
      "version": "0.3.2",
      "provenance": [],
      "collapsed_sections": [],
      "toc_visible": true,
      "include_colab_link": true
    },
    "kernelspec": {
      "name": "python3",
      "display_name": "Python 3"
    }
  },
  "cells": [
    {
      "cell_type": "markdown",
      "metadata": {
        "id": "view-in-github",
        "colab_type": "text"
      },
      "source": [
        "<a href=\"https://colab.research.google.com/github/titsitits/UNamur_Python_Analytics/blob/master/6_Data_Mining.ipynb\" target=\"_parent\"><img src=\"https://colab.research.google.com/assets/colab-badge.svg\" alt=\"Open In Colab\"/></a>"
      ]
    },
    {
      "cell_type": "markdown",
      "metadata": {
        "id": "DfQ-d2onvooo",
        "colab_type": "text"
      },
      "source": [
        "Mickaël Tits\n",
        "CETIC\n",
        "mickael.tits@cetic.be"
      ]
    },
    {
      "cell_type": "markdown",
      "metadata": {
        "id": "Ug1Bj8_tAVWq",
        "colab_type": "text"
      },
      "source": [
        "# Introduction au data mining\n",
        "\n"
      ]
    },
    {
      "cell_type": "markdown",
      "metadata": {
        "id": "-ce4y6EYR9Pt",
        "colab_type": "text"
      },
      "source": [
        "Dans ce chapitre, nous allons explorer plus prodonfément les possibilités d'exploration de données (data mining) avec Pandas. \n",
        "* Nous allons d'abord **extraire de nouvelles caractéristiques** à partir des variables existantes, pour améliorer le dataframe.\n",
        "* Nous allons tester différentes méthodes d'exploration de base, selon le type de caractéristique (variables **continues** ou **catégorielles**)\n",
        "* Nous allons détecter les valeurs particulières, souvent appelées **anomalies**, ou outliers.\n",
        "* Nous allons finalement montrer quelques exemples de **visualisation graphique** des données grâce à la librairie **Matplotlib**\n",
        "\n"
      ]
    },
    {
      "cell_type": "markdown",
      "metadata": {
        "id": "fdJpiflmUNkc",
        "colab_type": "text"
      },
      "source": [
        "Chargez d'abord le dataframe préparé lors du chapitre précédent (relancer le notebook précédent si nécessaire)."
      ]
    },
    {
      "cell_type": "code",
      "metadata": {
        "id": "5LmLdhShSGzL",
        "colab_type": "code",
        "colab": {}
      },
      "source": [
        "import pandas as pd\n",
        "df = pd.read_csv(\"houses.csv\", index_col=0)"
      ],
      "execution_count": 0,
      "outputs": []
    },
    {
      "cell_type": "code",
      "metadata": {
        "id": "sEx1UGV2SUk0",
        "colab_type": "code",
        "colab": {
          "base_uri": "https://localhost:8080/",
          "height": 355
        },
        "outputId": "f2101376-7358-4f8d-b8de-a72988849f3b"
      },
      "source": [
        "df"
      ],
      "execution_count": 69,
      "outputs": [
        {
          "output_type": "execute_result",
          "data": {
            "text/html": [
              "<div>\n",
              "<style scoped>\n",
              "    .dataframe tbody tr th:only-of-type {\n",
              "        vertical-align: middle;\n",
              "    }\n",
              "\n",
              "    .dataframe tbody tr th {\n",
              "        vertical-align: top;\n",
              "    }\n",
              "\n",
              "    .dataframe thead th {\n",
              "        text-align: right;\n",
              "    }\n",
              "</style>\n",
              "<table border=\"1\" class=\"dataframe\">\n",
              "  <thead>\n",
              "    <tr style=\"text-align: right;\">\n",
              "      <th></th>\n",
              "      <th>address</th>\n",
              "      <th>price</th>\n",
              "      <th>rooms</th>\n",
              "      <th>surface</th>\n",
              "      <th>website</th>\n",
              "    </tr>\n",
              "  </thead>\n",
              "  <tbody>\n",
              "    <tr>\n",
              "      <th>0</th>\n",
              "      <td>Rue de Fer 26, 5000 Namur</td>\n",
              "      <td>400000.0</td>\n",
              "      <td>3.0</td>\n",
              "      <td>150</td>\n",
              "      <td>immoweb</td>\n",
              "    </tr>\n",
              "    <tr>\n",
              "      <th>1</th>\n",
              "      <td>Rue de Bruxelles 42, 5000 Namur</td>\n",
              "      <td>350000.0</td>\n",
              "      <td>4.0</td>\n",
              "      <td>200</td>\n",
              "      <td>immoweb</td>\n",
              "    </tr>\n",
              "    <tr>\n",
              "      <th>2</th>\n",
              "      <td>Porte de Namur 25, Bruxelles</td>\n",
              "      <td>400000.0</td>\n",
              "      <td>5.0</td>\n",
              "      <td>120</td>\n",
              "      <td>immoweb</td>\n",
              "    </tr>\n",
              "    <tr>\n",
              "      <th>3</th>\n",
              "      <td>Rue de L'Eglise 42, Charleroi</td>\n",
              "      <td>150000.0</td>\n",
              "      <td>5.0</td>\n",
              "      <td>150</td>\n",
              "      <td>immoweb</td>\n",
              "    </tr>\n",
              "    <tr>\n",
              "      <th>4</th>\n",
              "      <td>Rue Saint-ghislain 30, 6224 Fleurus</td>\n",
              "      <td>290000.0</td>\n",
              "      <td>3.0</td>\n",
              "      <td>320</td>\n",
              "      <td>immoweb</td>\n",
              "    </tr>\n",
              "    <tr>\n",
              "      <th>5</th>\n",
              "      <td>Rue de la Closière 20, Fleurus</td>\n",
              "      <td>230000.0</td>\n",
              "      <td>2.0</td>\n",
              "      <td>175</td>\n",
              "      <td>immoweb</td>\n",
              "    </tr>\n",
              "    <tr>\n",
              "      <th>6</th>\n",
              "      <td>Rue de la Loi 50, Bruxelles</td>\n",
              "      <td>700000.0</td>\n",
              "      <td>4.0</td>\n",
              "      <td>220</td>\n",
              "      <td>immovlan</td>\n",
              "    </tr>\n",
              "    <tr>\n",
              "      <th>7</th>\n",
              "      <td>Rue de la Loi 51, Bruxelles</td>\n",
              "      <td>280000.0</td>\n",
              "      <td>3.0</td>\n",
              "      <td>120</td>\n",
              "      <td>immoweb</td>\n",
              "    </tr>\n",
              "    <tr>\n",
              "      <th>8</th>\n",
              "      <td>Rue de la Loi 52, Bruxelles</td>\n",
              "      <td>400000.0</td>\n",
              "      <td>4.0</td>\n",
              "      <td>150</td>\n",
              "      <td>immovlan</td>\n",
              "    </tr>\n",
              "    <tr>\n",
              "      <th>9</th>\n",
              "      <td>Rue de la Loi 53, Bruxelles</td>\n",
              "      <td>480000.0</td>\n",
              "      <td>5.0</td>\n",
              "      <td>200</td>\n",
              "      <td>immovlan</td>\n",
              "    </tr>\n",
              "  </tbody>\n",
              "</table>\n",
              "</div>"
            ],
            "text/plain": [
              "                               address     price  rooms  surface   website\n",
              "0            Rue de Fer 26, 5000 Namur  400000.0    3.0      150   immoweb\n",
              "1      Rue de Bruxelles 42, 5000 Namur  350000.0    4.0      200   immoweb\n",
              "2         Porte de Namur 25, Bruxelles  400000.0    5.0      120   immoweb\n",
              "3        Rue de L'Eglise 42, Charleroi  150000.0    5.0      150   immoweb\n",
              "4  Rue Saint-ghislain 30, 6224 Fleurus  290000.0    3.0      320   immoweb\n",
              "5       Rue de la Closière 20, Fleurus  230000.0    2.0      175   immoweb\n",
              "6          Rue de la Loi 50, Bruxelles  700000.0    4.0      220  immovlan\n",
              "7          Rue de la Loi 51, Bruxelles  280000.0    3.0      120   immoweb\n",
              "8          Rue de la Loi 52, Bruxelles  400000.0    4.0      150  immovlan\n",
              "9          Rue de la Loi 53, Bruxelles  480000.0    5.0      200  immovlan"
            ]
          },
          "metadata": {
            "tags": []
          },
          "execution_count": 69
        }
      ]
    },
    {
      "cell_type": "markdown",
      "metadata": {
        "id": "ZCMYrQKBXKUt",
        "colab_type": "text"
      },
      "source": [
        "# Extraction de caractéristiques (i.e. augmentation du DataFrame par de nouvelles colonnes)"
      ]
    },
    {
      "cell_type": "code",
      "metadata": {
        "id": "zWaSDF3HMz4C",
        "colab_type": "code",
        "colab": {}
      },
      "source": [
        "#Extract city\n",
        "def get_city(address):\n",
        "\n",
        "  #Le nom de la rue est la partie après le dernier nombre, ou une virgule si aucun code postal n'est renseigné. On cherche donc un nombre en commençant par la fin ( range(len(address),0,-1) )\n",
        "  for i in range(len(address)-1,0,-1):\n",
        "    c = address[i]\n",
        "    if c in \"0123456789,\":\n",
        "      #c est un nombre (ou une virgule), on peut sortir de la boucle\n",
        "      break\n",
        "\n",
        "  #On extrait le nom de la ville\n",
        "  city = address[i+2:]\n",
        "\n",
        "  return city"
      ],
      "execution_count": 0,
      "outputs": []
    },
    {
      "cell_type": "code",
      "metadata": {
        "id": "Rzxt1LTVkiYo",
        "colab_type": "code",
        "outputId": "3d6c48b9-c615-4d5e-c7f4-225921c2f6f0",
        "colab": {
          "base_uri": "https://localhost:8080/",
          "height": 355
        }
      },
      "source": [
        "df = df.assign(city = df[\"address\"].apply(get_city))\n",
        "df = df.assign(price_per_m2 = df.price/df.surface)\n",
        "df = df.assign(price_per_room = df.price/df.rooms)\n",
        "df"
      ],
      "execution_count": 71,
      "outputs": [
        {
          "output_type": "execute_result",
          "data": {
            "text/html": [
              "<div>\n",
              "<style scoped>\n",
              "    .dataframe tbody tr th:only-of-type {\n",
              "        vertical-align: middle;\n",
              "    }\n",
              "\n",
              "    .dataframe tbody tr th {\n",
              "        vertical-align: top;\n",
              "    }\n",
              "\n",
              "    .dataframe thead th {\n",
              "        text-align: right;\n",
              "    }\n",
              "</style>\n",
              "<table border=\"1\" class=\"dataframe\">\n",
              "  <thead>\n",
              "    <tr style=\"text-align: right;\">\n",
              "      <th></th>\n",
              "      <th>address</th>\n",
              "      <th>price</th>\n",
              "      <th>rooms</th>\n",
              "      <th>surface</th>\n",
              "      <th>website</th>\n",
              "      <th>city</th>\n",
              "      <th>price_per_m2</th>\n",
              "      <th>price_per_room</th>\n",
              "    </tr>\n",
              "  </thead>\n",
              "  <tbody>\n",
              "    <tr>\n",
              "      <th>0</th>\n",
              "      <td>Rue de Fer 26, 5000 Namur</td>\n",
              "      <td>400000.0</td>\n",
              "      <td>3.0</td>\n",
              "      <td>150</td>\n",
              "      <td>immoweb</td>\n",
              "      <td>Namur</td>\n",
              "      <td>2666.666667</td>\n",
              "      <td>133333.333333</td>\n",
              "    </tr>\n",
              "    <tr>\n",
              "      <th>1</th>\n",
              "      <td>Rue de Bruxelles 42, 5000 Namur</td>\n",
              "      <td>350000.0</td>\n",
              "      <td>4.0</td>\n",
              "      <td>200</td>\n",
              "      <td>immoweb</td>\n",
              "      <td>Namur</td>\n",
              "      <td>1750.000000</td>\n",
              "      <td>87500.000000</td>\n",
              "    </tr>\n",
              "    <tr>\n",
              "      <th>2</th>\n",
              "      <td>Porte de Namur 25, Bruxelles</td>\n",
              "      <td>400000.0</td>\n",
              "      <td>5.0</td>\n",
              "      <td>120</td>\n",
              "      <td>immoweb</td>\n",
              "      <td>Bruxelles</td>\n",
              "      <td>3333.333333</td>\n",
              "      <td>80000.000000</td>\n",
              "    </tr>\n",
              "    <tr>\n",
              "      <th>3</th>\n",
              "      <td>Rue de L'Eglise 42, Charleroi</td>\n",
              "      <td>150000.0</td>\n",
              "      <td>5.0</td>\n",
              "      <td>150</td>\n",
              "      <td>immoweb</td>\n",
              "      <td>Charleroi</td>\n",
              "      <td>1000.000000</td>\n",
              "      <td>30000.000000</td>\n",
              "    </tr>\n",
              "    <tr>\n",
              "      <th>4</th>\n",
              "      <td>Rue Saint-ghislain 30, 6224 Fleurus</td>\n",
              "      <td>290000.0</td>\n",
              "      <td>3.0</td>\n",
              "      <td>320</td>\n",
              "      <td>immoweb</td>\n",
              "      <td>Fleurus</td>\n",
              "      <td>906.250000</td>\n",
              "      <td>96666.666667</td>\n",
              "    </tr>\n",
              "    <tr>\n",
              "      <th>5</th>\n",
              "      <td>Rue de la Closière 20, Fleurus</td>\n",
              "      <td>230000.0</td>\n",
              "      <td>2.0</td>\n",
              "      <td>175</td>\n",
              "      <td>immoweb</td>\n",
              "      <td>Fleurus</td>\n",
              "      <td>1314.285714</td>\n",
              "      <td>115000.000000</td>\n",
              "    </tr>\n",
              "    <tr>\n",
              "      <th>6</th>\n",
              "      <td>Rue de la Loi 50, Bruxelles</td>\n",
              "      <td>700000.0</td>\n",
              "      <td>4.0</td>\n",
              "      <td>220</td>\n",
              "      <td>immovlan</td>\n",
              "      <td>Bruxelles</td>\n",
              "      <td>3181.818182</td>\n",
              "      <td>175000.000000</td>\n",
              "    </tr>\n",
              "    <tr>\n",
              "      <th>7</th>\n",
              "      <td>Rue de la Loi 51, Bruxelles</td>\n",
              "      <td>280000.0</td>\n",
              "      <td>3.0</td>\n",
              "      <td>120</td>\n",
              "      <td>immoweb</td>\n",
              "      <td>Bruxelles</td>\n",
              "      <td>2333.333333</td>\n",
              "      <td>93333.333333</td>\n",
              "    </tr>\n",
              "    <tr>\n",
              "      <th>8</th>\n",
              "      <td>Rue de la Loi 52, Bruxelles</td>\n",
              "      <td>400000.0</td>\n",
              "      <td>4.0</td>\n",
              "      <td>150</td>\n",
              "      <td>immovlan</td>\n",
              "      <td>Bruxelles</td>\n",
              "      <td>2666.666667</td>\n",
              "      <td>100000.000000</td>\n",
              "    </tr>\n",
              "    <tr>\n",
              "      <th>9</th>\n",
              "      <td>Rue de la Loi 53, Bruxelles</td>\n",
              "      <td>480000.0</td>\n",
              "      <td>5.0</td>\n",
              "      <td>200</td>\n",
              "      <td>immovlan</td>\n",
              "      <td>Bruxelles</td>\n",
              "      <td>2400.000000</td>\n",
              "      <td>96000.000000</td>\n",
              "    </tr>\n",
              "  </tbody>\n",
              "</table>\n",
              "</div>"
            ],
            "text/plain": [
              "                               address     price  ...  price_per_m2  price_per_room\n",
              "0            Rue de Fer 26, 5000 Namur  400000.0  ...   2666.666667   133333.333333\n",
              "1      Rue de Bruxelles 42, 5000 Namur  350000.0  ...   1750.000000    87500.000000\n",
              "2         Porte de Namur 25, Bruxelles  400000.0  ...   3333.333333    80000.000000\n",
              "3        Rue de L'Eglise 42, Charleroi  150000.0  ...   1000.000000    30000.000000\n",
              "4  Rue Saint-ghislain 30, 6224 Fleurus  290000.0  ...    906.250000    96666.666667\n",
              "5       Rue de la Closière 20, Fleurus  230000.0  ...   1314.285714   115000.000000\n",
              "6          Rue de la Loi 50, Bruxelles  700000.0  ...   3181.818182   175000.000000\n",
              "7          Rue de la Loi 51, Bruxelles  280000.0  ...   2333.333333    93333.333333\n",
              "8          Rue de la Loi 52, Bruxelles  400000.0  ...   2666.666667   100000.000000\n",
              "9          Rue de la Loi 53, Bruxelles  480000.0  ...   2400.000000    96000.000000\n",
              "\n",
              "[10 rows x 8 columns]"
            ]
          },
          "metadata": {
            "tags": []
          },
          "execution_count": 71
        }
      ]
    },
    {
      "cell_type": "code",
      "metadata": {
        "id": "120j9NbNMIQ2",
        "colab_type": "code",
        "outputId": "933410b3-bcbc-46a1-e02e-d2d7355284d1",
        "colab": {
          "base_uri": "https://localhost:8080/",
          "height": 355
        }
      },
      "source": [
        "#Ou (idem)\n",
        "df[\"city\"] = df[\"address\"].apply(get_city)\n",
        "df[\"price_per_m2\"] = df.price/df.surface\n",
        "df[\"price_per_room\"] = df.price/df.rooms\n",
        "df"
      ],
      "execution_count": 72,
      "outputs": [
        {
          "output_type": "execute_result",
          "data": {
            "text/html": [
              "<div>\n",
              "<style scoped>\n",
              "    .dataframe tbody tr th:only-of-type {\n",
              "        vertical-align: middle;\n",
              "    }\n",
              "\n",
              "    .dataframe tbody tr th {\n",
              "        vertical-align: top;\n",
              "    }\n",
              "\n",
              "    .dataframe thead th {\n",
              "        text-align: right;\n",
              "    }\n",
              "</style>\n",
              "<table border=\"1\" class=\"dataframe\">\n",
              "  <thead>\n",
              "    <tr style=\"text-align: right;\">\n",
              "      <th></th>\n",
              "      <th>address</th>\n",
              "      <th>price</th>\n",
              "      <th>rooms</th>\n",
              "      <th>surface</th>\n",
              "      <th>website</th>\n",
              "      <th>city</th>\n",
              "      <th>price_per_m2</th>\n",
              "      <th>price_per_room</th>\n",
              "    </tr>\n",
              "  </thead>\n",
              "  <tbody>\n",
              "    <tr>\n",
              "      <th>0</th>\n",
              "      <td>Rue de Fer 26, 5000 Namur</td>\n",
              "      <td>400000.0</td>\n",
              "      <td>3.0</td>\n",
              "      <td>150</td>\n",
              "      <td>immoweb</td>\n",
              "      <td>Namur</td>\n",
              "      <td>2666.666667</td>\n",
              "      <td>133333.333333</td>\n",
              "    </tr>\n",
              "    <tr>\n",
              "      <th>1</th>\n",
              "      <td>Rue de Bruxelles 42, 5000 Namur</td>\n",
              "      <td>350000.0</td>\n",
              "      <td>4.0</td>\n",
              "      <td>200</td>\n",
              "      <td>immoweb</td>\n",
              "      <td>Namur</td>\n",
              "      <td>1750.000000</td>\n",
              "      <td>87500.000000</td>\n",
              "    </tr>\n",
              "    <tr>\n",
              "      <th>2</th>\n",
              "      <td>Porte de Namur 25, Bruxelles</td>\n",
              "      <td>400000.0</td>\n",
              "      <td>5.0</td>\n",
              "      <td>120</td>\n",
              "      <td>immoweb</td>\n",
              "      <td>Bruxelles</td>\n",
              "      <td>3333.333333</td>\n",
              "      <td>80000.000000</td>\n",
              "    </tr>\n",
              "    <tr>\n",
              "      <th>3</th>\n",
              "      <td>Rue de L'Eglise 42, Charleroi</td>\n",
              "      <td>150000.0</td>\n",
              "      <td>5.0</td>\n",
              "      <td>150</td>\n",
              "      <td>immoweb</td>\n",
              "      <td>Charleroi</td>\n",
              "      <td>1000.000000</td>\n",
              "      <td>30000.000000</td>\n",
              "    </tr>\n",
              "    <tr>\n",
              "      <th>4</th>\n",
              "      <td>Rue Saint-ghislain 30, 6224 Fleurus</td>\n",
              "      <td>290000.0</td>\n",
              "      <td>3.0</td>\n",
              "      <td>320</td>\n",
              "      <td>immoweb</td>\n",
              "      <td>Fleurus</td>\n",
              "      <td>906.250000</td>\n",
              "      <td>96666.666667</td>\n",
              "    </tr>\n",
              "    <tr>\n",
              "      <th>5</th>\n",
              "      <td>Rue de la Closière 20, Fleurus</td>\n",
              "      <td>230000.0</td>\n",
              "      <td>2.0</td>\n",
              "      <td>175</td>\n",
              "      <td>immoweb</td>\n",
              "      <td>Fleurus</td>\n",
              "      <td>1314.285714</td>\n",
              "      <td>115000.000000</td>\n",
              "    </tr>\n",
              "    <tr>\n",
              "      <th>6</th>\n",
              "      <td>Rue de la Loi 50, Bruxelles</td>\n",
              "      <td>700000.0</td>\n",
              "      <td>4.0</td>\n",
              "      <td>220</td>\n",
              "      <td>immovlan</td>\n",
              "      <td>Bruxelles</td>\n",
              "      <td>3181.818182</td>\n",
              "      <td>175000.000000</td>\n",
              "    </tr>\n",
              "    <tr>\n",
              "      <th>7</th>\n",
              "      <td>Rue de la Loi 51, Bruxelles</td>\n",
              "      <td>280000.0</td>\n",
              "      <td>3.0</td>\n",
              "      <td>120</td>\n",
              "      <td>immoweb</td>\n",
              "      <td>Bruxelles</td>\n",
              "      <td>2333.333333</td>\n",
              "      <td>93333.333333</td>\n",
              "    </tr>\n",
              "    <tr>\n",
              "      <th>8</th>\n",
              "      <td>Rue de la Loi 52, Bruxelles</td>\n",
              "      <td>400000.0</td>\n",
              "      <td>4.0</td>\n",
              "      <td>150</td>\n",
              "      <td>immovlan</td>\n",
              "      <td>Bruxelles</td>\n",
              "      <td>2666.666667</td>\n",
              "      <td>100000.000000</td>\n",
              "    </tr>\n",
              "    <tr>\n",
              "      <th>9</th>\n",
              "      <td>Rue de la Loi 53, Bruxelles</td>\n",
              "      <td>480000.0</td>\n",
              "      <td>5.0</td>\n",
              "      <td>200</td>\n",
              "      <td>immovlan</td>\n",
              "      <td>Bruxelles</td>\n",
              "      <td>2400.000000</td>\n",
              "      <td>96000.000000</td>\n",
              "    </tr>\n",
              "  </tbody>\n",
              "</table>\n",
              "</div>"
            ],
            "text/plain": [
              "                               address     price  ...  price_per_m2  price_per_room\n",
              "0            Rue de Fer 26, 5000 Namur  400000.0  ...   2666.666667   133333.333333\n",
              "1      Rue de Bruxelles 42, 5000 Namur  350000.0  ...   1750.000000    87500.000000\n",
              "2         Porte de Namur 25, Bruxelles  400000.0  ...   3333.333333    80000.000000\n",
              "3        Rue de L'Eglise 42, Charleroi  150000.0  ...   1000.000000    30000.000000\n",
              "4  Rue Saint-ghislain 30, 6224 Fleurus  290000.0  ...    906.250000    96666.666667\n",
              "5       Rue de la Closière 20, Fleurus  230000.0  ...   1314.285714   115000.000000\n",
              "6          Rue de la Loi 50, Bruxelles  700000.0  ...   3181.818182   175000.000000\n",
              "7          Rue de la Loi 51, Bruxelles  280000.0  ...   2333.333333    93333.333333\n",
              "8          Rue de la Loi 52, Bruxelles  400000.0  ...   2666.666667   100000.000000\n",
              "9          Rue de la Loi 53, Bruxelles  480000.0  ...   2400.000000    96000.000000\n",
              "\n",
              "[10 rows x 8 columns]"
            ]
          },
          "metadata": {
            "tags": []
          },
          "execution_count": 72
        }
      ]
    },
    {
      "cell_type": "code",
      "metadata": {
        "id": "siHvkjWKlVDI",
        "colab_type": "code",
        "outputId": "022cea2e-d60e-4b60-c398-e1d253888e6e",
        "colab": {
          "base_uri": "https://localhost:8080/",
          "height": 141
        }
      },
      "source": [
        "df.groupby(\"website\").mean()"
      ],
      "execution_count": 73,
      "outputs": [
        {
          "output_type": "execute_result",
          "data": {
            "text/html": [
              "<div>\n",
              "<style scoped>\n",
              "    .dataframe tbody tr th:only-of-type {\n",
              "        vertical-align: middle;\n",
              "    }\n",
              "\n",
              "    .dataframe tbody tr th {\n",
              "        vertical-align: top;\n",
              "    }\n",
              "\n",
              "    .dataframe thead th {\n",
              "        text-align: right;\n",
              "    }\n",
              "</style>\n",
              "<table border=\"1\" class=\"dataframe\">\n",
              "  <thead>\n",
              "    <tr style=\"text-align: right;\">\n",
              "      <th></th>\n",
              "      <th>price</th>\n",
              "      <th>rooms</th>\n",
              "      <th>surface</th>\n",
              "      <th>price_per_m2</th>\n",
              "      <th>price_per_room</th>\n",
              "    </tr>\n",
              "    <tr>\n",
              "      <th>website</th>\n",
              "      <th></th>\n",
              "      <th></th>\n",
              "      <th></th>\n",
              "      <th></th>\n",
              "      <th></th>\n",
              "    </tr>\n",
              "  </thead>\n",
              "  <tbody>\n",
              "    <tr>\n",
              "      <th>immovlan</th>\n",
              "      <td>526666.666667</td>\n",
              "      <td>4.333333</td>\n",
              "      <td>190.000000</td>\n",
              "      <td>2749.494949</td>\n",
              "      <td>123666.666667</td>\n",
              "    </tr>\n",
              "    <tr>\n",
              "      <th>immoweb</th>\n",
              "      <td>300000.000000</td>\n",
              "      <td>3.571429</td>\n",
              "      <td>176.428571</td>\n",
              "      <td>1900.552721</td>\n",
              "      <td>90833.333333</td>\n",
              "    </tr>\n",
              "  </tbody>\n",
              "</table>\n",
              "</div>"
            ],
            "text/plain": [
              "                  price     rooms     surface  price_per_m2  price_per_room\n",
              "website                                                                    \n",
              "immovlan  526666.666667  4.333333  190.000000   2749.494949   123666.666667\n",
              "immoweb   300000.000000  3.571429  176.428571   1900.552721    90833.333333"
            ]
          },
          "metadata": {
            "tags": []
          },
          "execution_count": 73
        }
      ]
    },
    {
      "cell_type": "markdown",
      "metadata": {
        "id": "CZaA_8dTlgHw",
        "colab_type": "text"
      },
      "source": [
        "Le prix/m2 et le prix/pièce est en moyenne plus élevé sur immovlan."
      ]
    },
    {
      "cell_type": "code",
      "metadata": {
        "id": "VXTedsTKlsTz",
        "colab_type": "code",
        "outputId": "af614f9f-0624-449b-f152-e073eedadbdc",
        "colab": {
          "base_uri": "https://localhost:8080/",
          "height": 202
        }
      },
      "source": [
        "df.groupby(\"city\").mean()"
      ],
      "execution_count": 74,
      "outputs": [
        {
          "output_type": "execute_result",
          "data": {
            "text/html": [
              "<div>\n",
              "<style scoped>\n",
              "    .dataframe tbody tr th:only-of-type {\n",
              "        vertical-align: middle;\n",
              "    }\n",
              "\n",
              "    .dataframe tbody tr th {\n",
              "        vertical-align: top;\n",
              "    }\n",
              "\n",
              "    .dataframe thead th {\n",
              "        text-align: right;\n",
              "    }\n",
              "</style>\n",
              "<table border=\"1\" class=\"dataframe\">\n",
              "  <thead>\n",
              "    <tr style=\"text-align: right;\">\n",
              "      <th></th>\n",
              "      <th>price</th>\n",
              "      <th>rooms</th>\n",
              "      <th>surface</th>\n",
              "      <th>price_per_m2</th>\n",
              "      <th>price_per_room</th>\n",
              "    </tr>\n",
              "    <tr>\n",
              "      <th>city</th>\n",
              "      <th></th>\n",
              "      <th></th>\n",
              "      <th></th>\n",
              "      <th></th>\n",
              "      <th></th>\n",
              "    </tr>\n",
              "  </thead>\n",
              "  <tbody>\n",
              "    <tr>\n",
              "      <th>Bruxelles</th>\n",
              "      <td>452000.0</td>\n",
              "      <td>4.2</td>\n",
              "      <td>162.0</td>\n",
              "      <td>2783.030303</td>\n",
              "      <td>108866.666667</td>\n",
              "    </tr>\n",
              "    <tr>\n",
              "      <th>Charleroi</th>\n",
              "      <td>150000.0</td>\n",
              "      <td>5.0</td>\n",
              "      <td>150.0</td>\n",
              "      <td>1000.000000</td>\n",
              "      <td>30000.000000</td>\n",
              "    </tr>\n",
              "    <tr>\n",
              "      <th>Fleurus</th>\n",
              "      <td>260000.0</td>\n",
              "      <td>2.5</td>\n",
              "      <td>247.5</td>\n",
              "      <td>1110.267857</td>\n",
              "      <td>105833.333333</td>\n",
              "    </tr>\n",
              "    <tr>\n",
              "      <th>Namur</th>\n",
              "      <td>375000.0</td>\n",
              "      <td>3.5</td>\n",
              "      <td>175.0</td>\n",
              "      <td>2208.333333</td>\n",
              "      <td>110416.666667</td>\n",
              "    </tr>\n",
              "  </tbody>\n",
              "</table>\n",
              "</div>"
            ],
            "text/plain": [
              "              price  rooms  surface  price_per_m2  price_per_room\n",
              "city                                                             \n",
              "Bruxelles  452000.0    4.2    162.0   2783.030303   108866.666667\n",
              "Charleroi  150000.0    5.0    150.0   1000.000000    30000.000000\n",
              "Fleurus    260000.0    2.5    247.5   1110.267857   105833.333333\n",
              "Namur      375000.0    3.5    175.0   2208.333333   110416.666667"
            ]
          },
          "metadata": {
            "tags": []
          },
          "execution_count": 74
        }
      ]
    },
    {
      "cell_type": "markdown",
      "metadata": {
        "id": "NMy1CDKCmA_F",
        "colab_type": "text"
      },
      "source": [
        "Quelques observations:\n",
        "* Bruxelles serait la ville la plus chère\n",
        "* Charleroi la ville la moins chère\n",
        "* Les maisons sont généralement plus grandes à Fleurus, mais auraient peu de pièces (très grandes du coup)\n",
        "* Les maisons de Fleurus sont plus chères qu'à Charleroi, mais le prix au m2 est presque le même\n",
        "* Les maisons de Charleroi seraient petites mais avec beaucoup de pièces (toutes petites du coup)"
      ]
    },
    {
      "cell_type": "markdown",
      "metadata": {
        "id": "QtoIJoNFm964",
        "colab_type": "text"
      },
      "source": [
        "# Exploration selon le type de caractéristiques: variables continues et catégorielles\n",
        "\n",
        "On peut identifier deux types de variables: des variables **continues** (tel que le prix ou la surface), et des variables **catégorielles**, tel que la ville ou la plateforme.\n",
        "\n",
        "* Les variables continues permettent d'extraire toutes sortes de statistiques, et peuvent être comparées entre elles, par exemple par une analyse de corrélation ou une comparaison d'histogrammes, ou par des modèles prédictifs (e.g.: régression linéaire).\n",
        "\n",
        "* Les variables catégorielles permettent quand à elles une analyse comparative de catégories (une analyse factorielle), par comparaison des statistiques extraites sur les variables continues pour chaque catégorie.\n",
        "\n",
        "Certaines variables peuvent également être considérées de plusieurs manières: le nombre de pièces est une variable **discrète**. Etant donné que le nombre de valeurs différentes est très limité, on pourrait la considérer comme une variable catégorielle (plus spécifiquement comme une variable **ordinale**, i.e. une échelle).\n",
        "\n",
        "A l'inverse, l'adresse pourrait être considérée comme une variable continue si on la traduisait en coordonnées GPS, ou en une distance (à vol d'oiseau ou par la route) à un lieu de référence (distance au magasin le plus proche, l'autoroute la plus proche, à la capitale, à la frontière, etc.)."
      ]
    },
    {
      "cell_type": "markdown",
      "metadata": {
        "id": "sABaHctp1ogg",
        "colab_type": "text"
      },
      "source": [
        "## Corrélations entre les variables continues"
      ]
    },
    {
      "cell_type": "markdown",
      "metadata": {
        "id": "HqlFcFT0CJFL",
        "colab_type": "text"
      },
      "source": [
        "La méthode .corr() permet de calculer les corrélations 2 par 2 pour toutes les variables numériques."
      ]
    },
    {
      "cell_type": "code",
      "metadata": {
        "id": "eAMhg_OQ1zR2",
        "colab_type": "code",
        "outputId": "8fe63848-73ad-487b-8b23-737e7eb651d7",
        "colab": {
          "base_uri": "https://localhost:8080/",
          "height": 202
        }
      },
      "source": [
        "df.corr()"
      ],
      "execution_count": 75,
      "outputs": [
        {
          "output_type": "execute_result",
          "data": {
            "text/html": [
              "<div>\n",
              "<style scoped>\n",
              "    .dataframe tbody tr th:only-of-type {\n",
              "        vertical-align: middle;\n",
              "    }\n",
              "\n",
              "    .dataframe tbody tr th {\n",
              "        vertical-align: top;\n",
              "    }\n",
              "\n",
              "    .dataframe thead th {\n",
              "        text-align: right;\n",
              "    }\n",
              "</style>\n",
              "<table border=\"1\" class=\"dataframe\">\n",
              "  <thead>\n",
              "    <tr style=\"text-align: right;\">\n",
              "      <th></th>\n",
              "      <th>price</th>\n",
              "      <th>rooms</th>\n",
              "      <th>surface</th>\n",
              "      <th>price_per_m2</th>\n",
              "      <th>price_per_room</th>\n",
              "    </tr>\n",
              "  </thead>\n",
              "  <tbody>\n",
              "    <tr>\n",
              "      <th>price</th>\n",
              "      <td>1.000000</td>\n",
              "      <td>0.238606</td>\n",
              "      <td>0.158984</td>\n",
              "      <td>0.754435</td>\n",
              "      <td>0.770762</td>\n",
              "    </tr>\n",
              "    <tr>\n",
              "      <th>rooms</th>\n",
              "      <td>0.238606</td>\n",
              "      <td>1.000000</td>\n",
              "      <td>-0.196899</td>\n",
              "      <td>0.310021</td>\n",
              "      <td>-0.421635</td>\n",
              "    </tr>\n",
              "    <tr>\n",
              "      <th>surface</th>\n",
              "      <td>0.158984</td>\n",
              "      <td>-0.196899</td>\n",
              "      <td>1.000000</td>\n",
              "      <td>-0.450415</td>\n",
              "      <td>0.241691</td>\n",
              "    </tr>\n",
              "    <tr>\n",
              "      <th>price_per_m2</th>\n",
              "      <td>0.754435</td>\n",
              "      <td>0.310021</td>\n",
              "      <td>-0.450415</td>\n",
              "      <td>1.000000</td>\n",
              "      <td>0.499560</td>\n",
              "    </tr>\n",
              "    <tr>\n",
              "      <th>price_per_room</th>\n",
              "      <td>0.770762</td>\n",
              "      <td>-0.421635</td>\n",
              "      <td>0.241691</td>\n",
              "      <td>0.499560</td>\n",
              "      <td>1.000000</td>\n",
              "    </tr>\n",
              "  </tbody>\n",
              "</table>\n",
              "</div>"
            ],
            "text/plain": [
              "                   price     rooms   surface  price_per_m2  price_per_room\n",
              "price           1.000000  0.238606  0.158984      0.754435        0.770762\n",
              "rooms           0.238606  1.000000 -0.196899      0.310021       -0.421635\n",
              "surface         0.158984 -0.196899  1.000000     -0.450415        0.241691\n",
              "price_per_m2    0.754435  0.310021 -0.450415      1.000000        0.499560\n",
              "price_per_room  0.770762 -0.421635  0.241691      0.499560        1.000000"
            ]
          },
          "metadata": {
            "tags": []
          },
          "execution_count": 75
        }
      ]
    },
    {
      "cell_type": "markdown",
      "metadata": {
        "id": "jQd4mlrb12S6",
        "colab_type": "text"
      },
      "source": [
        "Les corrélations entre les variables continues peuvent être fortement influencées par d'autres facteurs (**catégoriels** par exemple). Par exemple, on s'attend à ce que le prix augmente avec la surface pour des maisons donc les autres caractéristiques sont semblables, mais il est évident qu'une maison à la capitale est généralement plus chère qu'une maison de la même surface à la campagne.\n",
        "\n",
        "Réalisons le même processus sur des maisons plus semblables:"
      ]
    },
    {
      "cell_type": "code",
      "metadata": {
        "id": "V_XUtX_Iy2Gt",
        "colab_type": "code",
        "outputId": "f592ffe5-6a25-4fee-80e4-c0c459c8d602",
        "colab": {
          "base_uri": "https://localhost:8080/",
          "height": 433
        }
      },
      "source": [
        "newhouses = pd.DataFrame({ \"address\": [\"Rue de la Loi 51, Bruxelles\", \"Rue de la Loi 52, Bruxelles\", \"Rue de la Loi 53, Bruxelles\"], \"website\" : [\"immovlan\",\"immovlan\",\"immovlan\"], \"surface\" : [120, 150, 200], \"price\" : [280000, 400000, 480000], \"rooms\" : [3,4,5]})\n",
        "newhouses[\"city\"] = newhouses[\"address\"].apply(get_city)\n",
        "newhouses[\"price_per_m2\"] = newhouses.price/newhouses.surface\n",
        "newhouses[\"price_per_room\"] = newhouses.price/newhouses.rooms\n",
        "newhouses\n",
        "\n",
        "newdf = df.append(newhouses, ignore_index=True)\n",
        "\n",
        "bxldf = newdf[newdf.city == \"Bruxelles\"]\n",
        "bxldf"
      ],
      "execution_count": 76,
      "outputs": [
        {
          "output_type": "stream",
          "text": [
            "/usr/local/lib/python3.6/dist-packages/pandas/core/frame.py:6692: FutureWarning: Sorting because non-concatenation axis is not aligned. A future version\n",
            "of pandas will change to not sort by default.\n",
            "\n",
            "To accept the future behavior, pass 'sort=False'.\n",
            "\n",
            "To retain the current behavior and silence the warning, pass 'sort=True'.\n",
            "\n",
            "  sort=sort)\n"
          ],
          "name": "stderr"
        },
        {
          "output_type": "execute_result",
          "data": {
            "text/html": [
              "<div>\n",
              "<style scoped>\n",
              "    .dataframe tbody tr th:only-of-type {\n",
              "        vertical-align: middle;\n",
              "    }\n",
              "\n",
              "    .dataframe tbody tr th {\n",
              "        vertical-align: top;\n",
              "    }\n",
              "\n",
              "    .dataframe thead th {\n",
              "        text-align: right;\n",
              "    }\n",
              "</style>\n",
              "<table border=\"1\" class=\"dataframe\">\n",
              "  <thead>\n",
              "    <tr style=\"text-align: right;\">\n",
              "      <th></th>\n",
              "      <th>address</th>\n",
              "      <th>city</th>\n",
              "      <th>price</th>\n",
              "      <th>price_per_m2</th>\n",
              "      <th>price_per_room</th>\n",
              "      <th>rooms</th>\n",
              "      <th>surface</th>\n",
              "      <th>website</th>\n",
              "    </tr>\n",
              "  </thead>\n",
              "  <tbody>\n",
              "    <tr>\n",
              "      <th>2</th>\n",
              "      <td>Porte de Namur 25, Bruxelles</td>\n",
              "      <td>Bruxelles</td>\n",
              "      <td>400000.0</td>\n",
              "      <td>3333.333333</td>\n",
              "      <td>80000.000000</td>\n",
              "      <td>5.0</td>\n",
              "      <td>120</td>\n",
              "      <td>immoweb</td>\n",
              "    </tr>\n",
              "    <tr>\n",
              "      <th>6</th>\n",
              "      <td>Rue de la Loi 50, Bruxelles</td>\n",
              "      <td>Bruxelles</td>\n",
              "      <td>700000.0</td>\n",
              "      <td>3181.818182</td>\n",
              "      <td>175000.000000</td>\n",
              "      <td>4.0</td>\n",
              "      <td>220</td>\n",
              "      <td>immovlan</td>\n",
              "    </tr>\n",
              "    <tr>\n",
              "      <th>7</th>\n",
              "      <td>Rue de la Loi 51, Bruxelles</td>\n",
              "      <td>Bruxelles</td>\n",
              "      <td>280000.0</td>\n",
              "      <td>2333.333333</td>\n",
              "      <td>93333.333333</td>\n",
              "      <td>3.0</td>\n",
              "      <td>120</td>\n",
              "      <td>immoweb</td>\n",
              "    </tr>\n",
              "    <tr>\n",
              "      <th>8</th>\n",
              "      <td>Rue de la Loi 52, Bruxelles</td>\n",
              "      <td>Bruxelles</td>\n",
              "      <td>400000.0</td>\n",
              "      <td>2666.666667</td>\n",
              "      <td>100000.000000</td>\n",
              "      <td>4.0</td>\n",
              "      <td>150</td>\n",
              "      <td>immovlan</td>\n",
              "    </tr>\n",
              "    <tr>\n",
              "      <th>9</th>\n",
              "      <td>Rue de la Loi 53, Bruxelles</td>\n",
              "      <td>Bruxelles</td>\n",
              "      <td>480000.0</td>\n",
              "      <td>2400.000000</td>\n",
              "      <td>96000.000000</td>\n",
              "      <td>5.0</td>\n",
              "      <td>200</td>\n",
              "      <td>immovlan</td>\n",
              "    </tr>\n",
              "    <tr>\n",
              "      <th>10</th>\n",
              "      <td>Rue de la Loi 51, Bruxelles</td>\n",
              "      <td>Bruxelles</td>\n",
              "      <td>280000.0</td>\n",
              "      <td>2333.333333</td>\n",
              "      <td>93333.333333</td>\n",
              "      <td>3.0</td>\n",
              "      <td>120</td>\n",
              "      <td>immovlan</td>\n",
              "    </tr>\n",
              "    <tr>\n",
              "      <th>11</th>\n",
              "      <td>Rue de la Loi 52, Bruxelles</td>\n",
              "      <td>Bruxelles</td>\n",
              "      <td>400000.0</td>\n",
              "      <td>2666.666667</td>\n",
              "      <td>100000.000000</td>\n",
              "      <td>4.0</td>\n",
              "      <td>150</td>\n",
              "      <td>immovlan</td>\n",
              "    </tr>\n",
              "    <tr>\n",
              "      <th>12</th>\n",
              "      <td>Rue de la Loi 53, Bruxelles</td>\n",
              "      <td>Bruxelles</td>\n",
              "      <td>480000.0</td>\n",
              "      <td>2400.000000</td>\n",
              "      <td>96000.000000</td>\n",
              "      <td>5.0</td>\n",
              "      <td>200</td>\n",
              "      <td>immovlan</td>\n",
              "    </tr>\n",
              "  </tbody>\n",
              "</table>\n",
              "</div>"
            ],
            "text/plain": [
              "                         address       city     price  ...  rooms  surface   website\n",
              "2   Porte de Namur 25, Bruxelles  Bruxelles  400000.0  ...    5.0      120   immoweb\n",
              "6    Rue de la Loi 50, Bruxelles  Bruxelles  700000.0  ...    4.0      220  immovlan\n",
              "7    Rue de la Loi 51, Bruxelles  Bruxelles  280000.0  ...    3.0      120   immoweb\n",
              "8    Rue de la Loi 52, Bruxelles  Bruxelles  400000.0  ...    4.0      150  immovlan\n",
              "9    Rue de la Loi 53, Bruxelles  Bruxelles  480000.0  ...    5.0      200  immovlan\n",
              "10   Rue de la Loi 51, Bruxelles  Bruxelles  280000.0  ...    3.0      120  immovlan\n",
              "11   Rue de la Loi 52, Bruxelles  Bruxelles  400000.0  ...    4.0      150  immovlan\n",
              "12   Rue de la Loi 53, Bruxelles  Bruxelles  480000.0  ...    5.0      200  immovlan\n",
              "\n",
              "[8 rows x 8 columns]"
            ]
          },
          "metadata": {
            "tags": []
          },
          "execution_count": 76
        }
      ]
    },
    {
      "cell_type": "code",
      "metadata": {
        "id": "y4VdWMo98pP3",
        "colab_type": "code",
        "outputId": "b6142b87-fe63-4d8b-9486-05570e4382da",
        "colab": {
          "base_uri": "https://localhost:8080/",
          "height": 202
        }
      },
      "source": [
        "newdf.corr()"
      ],
      "execution_count": 77,
      "outputs": [
        {
          "output_type": "execute_result",
          "data": {
            "text/html": [
              "<div>\n",
              "<style scoped>\n",
              "    .dataframe tbody tr th:only-of-type {\n",
              "        vertical-align: middle;\n",
              "    }\n",
              "\n",
              "    .dataframe tbody tr th {\n",
              "        vertical-align: top;\n",
              "    }\n",
              "\n",
              "    .dataframe thead th {\n",
              "        text-align: right;\n",
              "    }\n",
              "</style>\n",
              "<table border=\"1\" class=\"dataframe\">\n",
              "  <thead>\n",
              "    <tr style=\"text-align: right;\">\n",
              "      <th></th>\n",
              "      <th>price</th>\n",
              "      <th>price_per_m2</th>\n",
              "      <th>price_per_room</th>\n",
              "      <th>rooms</th>\n",
              "      <th>surface</th>\n",
              "    </tr>\n",
              "  </thead>\n",
              "  <tbody>\n",
              "    <tr>\n",
              "      <th>price</th>\n",
              "      <td>1.000000</td>\n",
              "      <td>0.722994</td>\n",
              "      <td>0.735252</td>\n",
              "      <td>0.333829</td>\n",
              "      <td>0.216673</td>\n",
              "    </tr>\n",
              "    <tr>\n",
              "      <th>price_per_m2</th>\n",
              "      <td>0.722994</td>\n",
              "      <td>1.000000</td>\n",
              "      <td>0.481825</td>\n",
              "      <td>0.298285</td>\n",
              "      <td>-0.444982</td>\n",
              "    </tr>\n",
              "    <tr>\n",
              "      <th>price_per_room</th>\n",
              "      <td>0.735252</td>\n",
              "      <td>0.481825</td>\n",
              "      <td>1.000000</td>\n",
              "      <td>-0.379222</td>\n",
              "      <td>0.239667</td>\n",
              "    </tr>\n",
              "    <tr>\n",
              "      <th>rooms</th>\n",
              "      <td>0.333829</td>\n",
              "      <td>0.298285</td>\n",
              "      <td>-0.379222</td>\n",
              "      <td>1.000000</td>\n",
              "      <td>-0.061230</td>\n",
              "    </tr>\n",
              "    <tr>\n",
              "      <th>surface</th>\n",
              "      <td>0.216673</td>\n",
              "      <td>-0.444982</td>\n",
              "      <td>0.239667</td>\n",
              "      <td>-0.061230</td>\n",
              "      <td>1.000000</td>\n",
              "    </tr>\n",
              "  </tbody>\n",
              "</table>\n",
              "</div>"
            ],
            "text/plain": [
              "                   price  price_per_m2  price_per_room     rooms   surface\n",
              "price           1.000000      0.722994        0.735252  0.333829  0.216673\n",
              "price_per_m2    0.722994      1.000000        0.481825  0.298285 -0.444982\n",
              "price_per_room  0.735252      0.481825        1.000000 -0.379222  0.239667\n",
              "rooms           0.333829      0.298285       -0.379222  1.000000 -0.061230\n",
              "surface         0.216673     -0.444982        0.239667 -0.061230  1.000000"
            ]
          },
          "metadata": {
            "tags": []
          },
          "execution_count": 77
        }
      ]
    },
    {
      "cell_type": "code",
      "metadata": {
        "id": "GGjgU3Cg0-2Y",
        "colab_type": "code",
        "outputId": "b40b0e93-e12b-4d49-e335-02de9cfb627a",
        "colab": {
          "base_uri": "https://localhost:8080/",
          "height": 202
        }
      },
      "source": [
        "bxldf.corr()"
      ],
      "execution_count": 78,
      "outputs": [
        {
          "output_type": "execute_result",
          "data": {
            "text/html": [
              "<div>\n",
              "<style scoped>\n",
              "    .dataframe tbody tr th:only-of-type {\n",
              "        vertical-align: middle;\n",
              "    }\n",
              "\n",
              "    .dataframe tbody tr th {\n",
              "        vertical-align: top;\n",
              "    }\n",
              "\n",
              "    .dataframe thead th {\n",
              "        text-align: right;\n",
              "    }\n",
              "</style>\n",
              "<table border=\"1\" class=\"dataframe\">\n",
              "  <thead>\n",
              "    <tr style=\"text-align: right;\">\n",
              "      <th></th>\n",
              "      <th>price</th>\n",
              "      <th>price_per_m2</th>\n",
              "      <th>price_per_room</th>\n",
              "      <th>rooms</th>\n",
              "      <th>surface</th>\n",
              "    </tr>\n",
              "  </thead>\n",
              "  <tbody>\n",
              "    <tr>\n",
              "      <th>price</th>\n",
              "      <td>1.000000</td>\n",
              "      <td>0.523842</td>\n",
              "      <td>0.820739</td>\n",
              "      <td>0.476136</td>\n",
              "      <td>0.883343</td>\n",
              "    </tr>\n",
              "    <tr>\n",
              "      <th>price_per_m2</th>\n",
              "      <td>0.523842</td>\n",
              "      <td>1.000000</td>\n",
              "      <td>0.397919</td>\n",
              "      <td>0.350579</td>\n",
              "      <td>0.085052</td>\n",
              "    </tr>\n",
              "    <tr>\n",
              "      <th>price_per_room</th>\n",
              "      <td>0.820739</td>\n",
              "      <td>0.397919</td>\n",
              "      <td>1.000000</td>\n",
              "      <td>-0.110324</td>\n",
              "      <td>0.655006</td>\n",
              "    </tr>\n",
              "    <tr>\n",
              "      <th>rooms</th>\n",
              "      <td>0.476136</td>\n",
              "      <td>0.350579</td>\n",
              "      <td>-0.110324</td>\n",
              "      <td>1.000000</td>\n",
              "      <td>0.500326</td>\n",
              "    </tr>\n",
              "    <tr>\n",
              "      <th>surface</th>\n",
              "      <td>0.883343</td>\n",
              "      <td>0.085052</td>\n",
              "      <td>0.655006</td>\n",
              "      <td>0.500326</td>\n",
              "      <td>1.000000</td>\n",
              "    </tr>\n",
              "  </tbody>\n",
              "</table>\n",
              "</div>"
            ],
            "text/plain": [
              "                   price  price_per_m2  price_per_room     rooms   surface\n",
              "price           1.000000      0.523842        0.820739  0.476136  0.883343\n",
              "price_per_m2    0.523842      1.000000        0.397919  0.350579  0.085052\n",
              "price_per_room  0.820739      0.397919        1.000000 -0.110324  0.655006\n",
              "rooms           0.476136      0.350579       -0.110324  1.000000  0.500326\n",
              "surface         0.883343      0.085052        0.655006  0.500326  1.000000"
            ]
          },
          "metadata": {
            "tags": []
          },
          "execution_count": 78
        }
      ]
    },
    {
      "cell_type": "markdown",
      "metadata": {
        "id": "2F5kVGQG1dQT",
        "colab_type": "text"
      },
      "source": [
        "## Comparaison de catégories: maisons par nombre de pièces"
      ]
    },
    {
      "cell_type": "code",
      "metadata": {
        "id": "W7QQ8Pm_qgOh",
        "colab_type": "code",
        "outputId": "aef6c280-7709-47a8-cb44-339cb1da1a5a",
        "colab": {
          "base_uri": "https://localhost:8080/",
          "height": 202
        }
      },
      "source": [
        "df.groupby(\"rooms\").mean()"
      ],
      "execution_count": 79,
      "outputs": [
        {
          "output_type": "execute_result",
          "data": {
            "text/html": [
              "<div>\n",
              "<style scoped>\n",
              "    .dataframe tbody tr th:only-of-type {\n",
              "        vertical-align: middle;\n",
              "    }\n",
              "\n",
              "    .dataframe tbody tr th {\n",
              "        vertical-align: top;\n",
              "    }\n",
              "\n",
              "    .dataframe thead th {\n",
              "        text-align: right;\n",
              "    }\n",
              "</style>\n",
              "<table border=\"1\" class=\"dataframe\">\n",
              "  <thead>\n",
              "    <tr style=\"text-align: right;\">\n",
              "      <th></th>\n",
              "      <th>price</th>\n",
              "      <th>surface</th>\n",
              "      <th>price_per_m2</th>\n",
              "      <th>price_per_room</th>\n",
              "    </tr>\n",
              "    <tr>\n",
              "      <th>rooms</th>\n",
              "      <th></th>\n",
              "      <th></th>\n",
              "      <th></th>\n",
              "      <th></th>\n",
              "    </tr>\n",
              "  </thead>\n",
              "  <tbody>\n",
              "    <tr>\n",
              "      <th>2.0</th>\n",
              "      <td>230000.000000</td>\n",
              "      <td>175.000000</td>\n",
              "      <td>1314.285714</td>\n",
              "      <td>115000.000000</td>\n",
              "    </tr>\n",
              "    <tr>\n",
              "      <th>3.0</th>\n",
              "      <td>323333.333333</td>\n",
              "      <td>196.666667</td>\n",
              "      <td>1968.750000</td>\n",
              "      <td>107777.777778</td>\n",
              "    </tr>\n",
              "    <tr>\n",
              "      <th>4.0</th>\n",
              "      <td>483333.333333</td>\n",
              "      <td>190.000000</td>\n",
              "      <td>2532.828283</td>\n",
              "      <td>120833.333333</td>\n",
              "    </tr>\n",
              "    <tr>\n",
              "      <th>5.0</th>\n",
              "      <td>343333.333333</td>\n",
              "      <td>156.666667</td>\n",
              "      <td>2244.444444</td>\n",
              "      <td>68666.666667</td>\n",
              "    </tr>\n",
              "  </tbody>\n",
              "</table>\n",
              "</div>"
            ],
            "text/plain": [
              "               price     surface  price_per_m2  price_per_room\n",
              "rooms                                                         \n",
              "2.0    230000.000000  175.000000   1314.285714   115000.000000\n",
              "3.0    323333.333333  196.666667   1968.750000   107777.777778\n",
              "4.0    483333.333333  190.000000   2532.828283   120833.333333\n",
              "5.0    343333.333333  156.666667   2244.444444    68666.666667"
            ]
          },
          "metadata": {
            "tags": []
          },
          "execution_count": 79
        }
      ]
    },
    {
      "cell_type": "markdown",
      "metadata": {
        "id": "qhmyYJupq-C3",
        "colab_type": "text"
      },
      "source": [
        "* En l'occurence, on remarque étrangement que les maisons à 5 pièces sont moins chères."
      ]
    },
    {
      "cell_type": "code",
      "metadata": {
        "id": "pz8qPP8vs5mY",
        "colab_type": "code",
        "outputId": "ce12ee66-4333-4b96-e6d5-023164121249",
        "colab": {
          "base_uri": "https://localhost:8080/",
          "height": 141
        }
      },
      "source": [
        "df[df.rooms == 5]"
      ],
      "execution_count": 80,
      "outputs": [
        {
          "output_type": "execute_result",
          "data": {
            "text/html": [
              "<div>\n",
              "<style scoped>\n",
              "    .dataframe tbody tr th:only-of-type {\n",
              "        vertical-align: middle;\n",
              "    }\n",
              "\n",
              "    .dataframe tbody tr th {\n",
              "        vertical-align: top;\n",
              "    }\n",
              "\n",
              "    .dataframe thead th {\n",
              "        text-align: right;\n",
              "    }\n",
              "</style>\n",
              "<table border=\"1\" class=\"dataframe\">\n",
              "  <thead>\n",
              "    <tr style=\"text-align: right;\">\n",
              "      <th></th>\n",
              "      <th>address</th>\n",
              "      <th>price</th>\n",
              "      <th>rooms</th>\n",
              "      <th>surface</th>\n",
              "      <th>website</th>\n",
              "      <th>city</th>\n",
              "      <th>price_per_m2</th>\n",
              "      <th>price_per_room</th>\n",
              "    </tr>\n",
              "  </thead>\n",
              "  <tbody>\n",
              "    <tr>\n",
              "      <th>2</th>\n",
              "      <td>Porte de Namur 25, Bruxelles</td>\n",
              "      <td>400000.0</td>\n",
              "      <td>5.0</td>\n",
              "      <td>120</td>\n",
              "      <td>immoweb</td>\n",
              "      <td>Bruxelles</td>\n",
              "      <td>3333.333333</td>\n",
              "      <td>80000.0</td>\n",
              "    </tr>\n",
              "    <tr>\n",
              "      <th>3</th>\n",
              "      <td>Rue de L'Eglise 42, Charleroi</td>\n",
              "      <td>150000.0</td>\n",
              "      <td>5.0</td>\n",
              "      <td>150</td>\n",
              "      <td>immoweb</td>\n",
              "      <td>Charleroi</td>\n",
              "      <td>1000.000000</td>\n",
              "      <td>30000.0</td>\n",
              "    </tr>\n",
              "    <tr>\n",
              "      <th>9</th>\n",
              "      <td>Rue de la Loi 53, Bruxelles</td>\n",
              "      <td>480000.0</td>\n",
              "      <td>5.0</td>\n",
              "      <td>200</td>\n",
              "      <td>immovlan</td>\n",
              "      <td>Bruxelles</td>\n",
              "      <td>2400.000000</td>\n",
              "      <td>96000.0</td>\n",
              "    </tr>\n",
              "  </tbody>\n",
              "</table>\n",
              "</div>"
            ],
            "text/plain": [
              "                         address     price  ...  price_per_m2  price_per_room\n",
              "2   Porte de Namur 25, Bruxelles  400000.0  ...   3333.333333         80000.0\n",
              "3  Rue de L'Eglise 42, Charleroi  150000.0  ...   1000.000000         30000.0\n",
              "9    Rue de la Loi 53, Bruxelles  480000.0  ...   2400.000000         96000.0\n",
              "\n",
              "[3 rows x 8 columns]"
            ]
          },
          "metadata": {
            "tags": []
          },
          "execution_count": 80
        }
      ]
    },
    {
      "cell_type": "markdown",
      "metadata": {
        "id": "w_uqhLeG35QJ",
        "colab_type": "text"
      },
      "source": [
        "Si on n'analyse que les maisons Bruxelloises, on constate une corrélation forte entre la surface et le prix."
      ]
    },
    {
      "cell_type": "markdown",
      "metadata": {
        "id": "sMx3V1ofPbTB",
        "colab_type": "text"
      },
      "source": [
        "## Comparaison de catégories multiples"
      ]
    },
    {
      "cell_type": "code",
      "metadata": {
        "id": "ztj9hxDiMQL9",
        "colab_type": "code",
        "outputId": "a92fb70f-083e-4290-8fe6-258184781c0d",
        "colab": {
          "base_uri": "https://localhost:8080/",
          "height": 202
        }
      },
      "source": [
        "cat1 = \"city\"\n",
        "cat2 = \"rooms\"\n",
        "#cat2 = \"website\"\n",
        "count_analysis = df.groupby([cat1,cat2])[\"price\"].count().unstack(fill_value=0).transpose()\n",
        "count_analysis"
      ],
      "execution_count": 81,
      "outputs": [
        {
          "output_type": "execute_result",
          "data": {
            "text/html": [
              "<div>\n",
              "<style scoped>\n",
              "    .dataframe tbody tr th:only-of-type {\n",
              "        vertical-align: middle;\n",
              "    }\n",
              "\n",
              "    .dataframe tbody tr th {\n",
              "        vertical-align: top;\n",
              "    }\n",
              "\n",
              "    .dataframe thead th {\n",
              "        text-align: right;\n",
              "    }\n",
              "</style>\n",
              "<table border=\"1\" class=\"dataframe\">\n",
              "  <thead>\n",
              "    <tr style=\"text-align: right;\">\n",
              "      <th>city</th>\n",
              "      <th>Bruxelles</th>\n",
              "      <th>Charleroi</th>\n",
              "      <th>Fleurus</th>\n",
              "      <th>Namur</th>\n",
              "    </tr>\n",
              "    <tr>\n",
              "      <th>rooms</th>\n",
              "      <th></th>\n",
              "      <th></th>\n",
              "      <th></th>\n",
              "      <th></th>\n",
              "    </tr>\n",
              "  </thead>\n",
              "  <tbody>\n",
              "    <tr>\n",
              "      <th>2.0</th>\n",
              "      <td>0</td>\n",
              "      <td>0</td>\n",
              "      <td>1</td>\n",
              "      <td>0</td>\n",
              "    </tr>\n",
              "    <tr>\n",
              "      <th>3.0</th>\n",
              "      <td>1</td>\n",
              "      <td>0</td>\n",
              "      <td>1</td>\n",
              "      <td>1</td>\n",
              "    </tr>\n",
              "    <tr>\n",
              "      <th>4.0</th>\n",
              "      <td>2</td>\n",
              "      <td>0</td>\n",
              "      <td>0</td>\n",
              "      <td>1</td>\n",
              "    </tr>\n",
              "    <tr>\n",
              "      <th>5.0</th>\n",
              "      <td>2</td>\n",
              "      <td>1</td>\n",
              "      <td>0</td>\n",
              "      <td>0</td>\n",
              "    </tr>\n",
              "  </tbody>\n",
              "</table>\n",
              "</div>"
            ],
            "text/plain": [
              "city   Bruxelles  Charleroi  Fleurus  Namur\n",
              "rooms                                      \n",
              "2.0            0          0        1      0\n",
              "3.0            1          0        1      1\n",
              "4.0            2          0        0      1\n",
              "5.0            2          1        0      0"
            ]
          },
          "metadata": {
            "tags": []
          },
          "execution_count": 81
        }
      ]
    },
    {
      "cell_type": "code",
      "metadata": {
        "id": "H2spQ_K5RXlf",
        "colab_type": "code",
        "outputId": "2cf04b63-006c-43ab-9cc4-c0e23ffc9715",
        "colab": {
          "base_uri": "https://localhost:8080/",
          "height": 202
        }
      },
      "source": [
        "price_analysis = df.groupby([cat1,cat2])[\"price\"].mean().unstack(fill_value=0).transpose()\n",
        "price_analysis"
      ],
      "execution_count": 82,
      "outputs": [
        {
          "output_type": "execute_result",
          "data": {
            "text/html": [
              "<div>\n",
              "<style scoped>\n",
              "    .dataframe tbody tr th:only-of-type {\n",
              "        vertical-align: middle;\n",
              "    }\n",
              "\n",
              "    .dataframe tbody tr th {\n",
              "        vertical-align: top;\n",
              "    }\n",
              "\n",
              "    .dataframe thead th {\n",
              "        text-align: right;\n",
              "    }\n",
              "</style>\n",
              "<table border=\"1\" class=\"dataframe\">\n",
              "  <thead>\n",
              "    <tr style=\"text-align: right;\">\n",
              "      <th>city</th>\n",
              "      <th>Bruxelles</th>\n",
              "      <th>Charleroi</th>\n",
              "      <th>Fleurus</th>\n",
              "      <th>Namur</th>\n",
              "    </tr>\n",
              "    <tr>\n",
              "      <th>rooms</th>\n",
              "      <th></th>\n",
              "      <th></th>\n",
              "      <th></th>\n",
              "      <th></th>\n",
              "    </tr>\n",
              "  </thead>\n",
              "  <tbody>\n",
              "    <tr>\n",
              "      <th>2.0</th>\n",
              "      <td>0.0</td>\n",
              "      <td>0.0</td>\n",
              "      <td>230000.0</td>\n",
              "      <td>0.0</td>\n",
              "    </tr>\n",
              "    <tr>\n",
              "      <th>3.0</th>\n",
              "      <td>280000.0</td>\n",
              "      <td>0.0</td>\n",
              "      <td>290000.0</td>\n",
              "      <td>400000.0</td>\n",
              "    </tr>\n",
              "    <tr>\n",
              "      <th>4.0</th>\n",
              "      <td>550000.0</td>\n",
              "      <td>0.0</td>\n",
              "      <td>0.0</td>\n",
              "      <td>350000.0</td>\n",
              "    </tr>\n",
              "    <tr>\n",
              "      <th>5.0</th>\n",
              "      <td>440000.0</td>\n",
              "      <td>150000.0</td>\n",
              "      <td>0.0</td>\n",
              "      <td>0.0</td>\n",
              "    </tr>\n",
              "  </tbody>\n",
              "</table>\n",
              "</div>"
            ],
            "text/plain": [
              "city   Bruxelles  Charleroi   Fleurus     Namur\n",
              "rooms                                          \n",
              "2.0          0.0        0.0  230000.0       0.0\n",
              "3.0     280000.0        0.0  290000.0  400000.0\n",
              "4.0     550000.0        0.0       0.0  350000.0\n",
              "5.0     440000.0   150000.0       0.0       0.0"
            ]
          },
          "metadata": {
            "tags": []
          },
          "execution_count": 82
        }
      ]
    },
    {
      "cell_type": "markdown",
      "metadata": {
        "id": "HwCs3n-mrSRa",
        "colab_type": "text"
      },
      "source": [
        "# Détection/suppression des anomalies ?\n",
        "\n",
        "Les anomalies sont des observations très différentes de la masse des données. Par exemple, si pour un dataset de 100 maisons, toutes sont entre 200000 et 400000 et une seule est à 100000, elle peut-être considérée comme une anomalie. Ou si on a 100 maisons à Bruxelles et une seule à Philippeville, on peut considérer cette dernière comme anormale. Elle risque en effet d'être tellement différente des autres qu'elle aura une forte influence sur les statistiques. Lors d'une analyse statistique exploratoire, il est donc pertinent d'ommettre ces données inhabituelles. A l'inverse, il est également parfois intéressant de détecter les valeurs exceptionnelles, permettant par exemple d'identifier des causes de problèmes (sur des données issues de capteurs d'usines par exemples); ou dans le présent contexte des éventuelles bonnes affaires immobilières (ou des frauders: blanchiment d'argent ou arnaque ?).\n",
        "\n",
        "En l'occurrence, dans notre dataset de test, on pourrait considérer celle de Charleroi comme anormale: son prix par pièce est beaucoup moins élevé que celui de toutes les autres.\n",
        "\n",
        "Les anomalies peuvent se détecter de deux manières: les statistiques et la visualisation graphique."
      ]
    },
    {
      "cell_type": "code",
      "metadata": {
        "id": "AeXpEgLo-Zjv",
        "colab_type": "code",
        "outputId": "2cb9c444-a65c-401f-d26e-9924662e5c95",
        "colab": {
          "base_uri": "https://localhost:8080/",
          "height": 447
        }
      },
      "source": [
        "newdf"
      ],
      "execution_count": 83,
      "outputs": [
        {
          "output_type": "execute_result",
          "data": {
            "text/html": [
              "<div>\n",
              "<style scoped>\n",
              "    .dataframe tbody tr th:only-of-type {\n",
              "        vertical-align: middle;\n",
              "    }\n",
              "\n",
              "    .dataframe tbody tr th {\n",
              "        vertical-align: top;\n",
              "    }\n",
              "\n",
              "    .dataframe thead th {\n",
              "        text-align: right;\n",
              "    }\n",
              "</style>\n",
              "<table border=\"1\" class=\"dataframe\">\n",
              "  <thead>\n",
              "    <tr style=\"text-align: right;\">\n",
              "      <th></th>\n",
              "      <th>address</th>\n",
              "      <th>city</th>\n",
              "      <th>price</th>\n",
              "      <th>price_per_m2</th>\n",
              "      <th>price_per_room</th>\n",
              "      <th>rooms</th>\n",
              "      <th>surface</th>\n",
              "      <th>website</th>\n",
              "    </tr>\n",
              "  </thead>\n",
              "  <tbody>\n",
              "    <tr>\n",
              "      <th>0</th>\n",
              "      <td>Rue de Fer 26, 5000 Namur</td>\n",
              "      <td>Namur</td>\n",
              "      <td>400000.0</td>\n",
              "      <td>2666.666667</td>\n",
              "      <td>133333.333333</td>\n",
              "      <td>3.0</td>\n",
              "      <td>150</td>\n",
              "      <td>immoweb</td>\n",
              "    </tr>\n",
              "    <tr>\n",
              "      <th>1</th>\n",
              "      <td>Rue de Bruxelles 42, 5000 Namur</td>\n",
              "      <td>Namur</td>\n",
              "      <td>350000.0</td>\n",
              "      <td>1750.000000</td>\n",
              "      <td>87500.000000</td>\n",
              "      <td>4.0</td>\n",
              "      <td>200</td>\n",
              "      <td>immoweb</td>\n",
              "    </tr>\n",
              "    <tr>\n",
              "      <th>2</th>\n",
              "      <td>Porte de Namur 25, Bruxelles</td>\n",
              "      <td>Bruxelles</td>\n",
              "      <td>400000.0</td>\n",
              "      <td>3333.333333</td>\n",
              "      <td>80000.000000</td>\n",
              "      <td>5.0</td>\n",
              "      <td>120</td>\n",
              "      <td>immoweb</td>\n",
              "    </tr>\n",
              "    <tr>\n",
              "      <th>3</th>\n",
              "      <td>Rue de L'Eglise 42, Charleroi</td>\n",
              "      <td>Charleroi</td>\n",
              "      <td>150000.0</td>\n",
              "      <td>1000.000000</td>\n",
              "      <td>30000.000000</td>\n",
              "      <td>5.0</td>\n",
              "      <td>150</td>\n",
              "      <td>immoweb</td>\n",
              "    </tr>\n",
              "    <tr>\n",
              "      <th>4</th>\n",
              "      <td>Rue Saint-ghislain 30, 6224 Fleurus</td>\n",
              "      <td>Fleurus</td>\n",
              "      <td>290000.0</td>\n",
              "      <td>906.250000</td>\n",
              "      <td>96666.666667</td>\n",
              "      <td>3.0</td>\n",
              "      <td>320</td>\n",
              "      <td>immoweb</td>\n",
              "    </tr>\n",
              "    <tr>\n",
              "      <th>5</th>\n",
              "      <td>Rue de la Closière 20, Fleurus</td>\n",
              "      <td>Fleurus</td>\n",
              "      <td>230000.0</td>\n",
              "      <td>1314.285714</td>\n",
              "      <td>115000.000000</td>\n",
              "      <td>2.0</td>\n",
              "      <td>175</td>\n",
              "      <td>immoweb</td>\n",
              "    </tr>\n",
              "    <tr>\n",
              "      <th>6</th>\n",
              "      <td>Rue de la Loi 50, Bruxelles</td>\n",
              "      <td>Bruxelles</td>\n",
              "      <td>700000.0</td>\n",
              "      <td>3181.818182</td>\n",
              "      <td>175000.000000</td>\n",
              "      <td>4.0</td>\n",
              "      <td>220</td>\n",
              "      <td>immovlan</td>\n",
              "    </tr>\n",
              "    <tr>\n",
              "      <th>7</th>\n",
              "      <td>Rue de la Loi 51, Bruxelles</td>\n",
              "      <td>Bruxelles</td>\n",
              "      <td>280000.0</td>\n",
              "      <td>2333.333333</td>\n",
              "      <td>93333.333333</td>\n",
              "      <td>3.0</td>\n",
              "      <td>120</td>\n",
              "      <td>immoweb</td>\n",
              "    </tr>\n",
              "    <tr>\n",
              "      <th>8</th>\n",
              "      <td>Rue de la Loi 52, Bruxelles</td>\n",
              "      <td>Bruxelles</td>\n",
              "      <td>400000.0</td>\n",
              "      <td>2666.666667</td>\n",
              "      <td>100000.000000</td>\n",
              "      <td>4.0</td>\n",
              "      <td>150</td>\n",
              "      <td>immovlan</td>\n",
              "    </tr>\n",
              "    <tr>\n",
              "      <th>9</th>\n",
              "      <td>Rue de la Loi 53, Bruxelles</td>\n",
              "      <td>Bruxelles</td>\n",
              "      <td>480000.0</td>\n",
              "      <td>2400.000000</td>\n",
              "      <td>96000.000000</td>\n",
              "      <td>5.0</td>\n",
              "      <td>200</td>\n",
              "      <td>immovlan</td>\n",
              "    </tr>\n",
              "    <tr>\n",
              "      <th>10</th>\n",
              "      <td>Rue de la Loi 51, Bruxelles</td>\n",
              "      <td>Bruxelles</td>\n",
              "      <td>280000.0</td>\n",
              "      <td>2333.333333</td>\n",
              "      <td>93333.333333</td>\n",
              "      <td>3.0</td>\n",
              "      <td>120</td>\n",
              "      <td>immovlan</td>\n",
              "    </tr>\n",
              "    <tr>\n",
              "      <th>11</th>\n",
              "      <td>Rue de la Loi 52, Bruxelles</td>\n",
              "      <td>Bruxelles</td>\n",
              "      <td>400000.0</td>\n",
              "      <td>2666.666667</td>\n",
              "      <td>100000.000000</td>\n",
              "      <td>4.0</td>\n",
              "      <td>150</td>\n",
              "      <td>immovlan</td>\n",
              "    </tr>\n",
              "    <tr>\n",
              "      <th>12</th>\n",
              "      <td>Rue de la Loi 53, Bruxelles</td>\n",
              "      <td>Bruxelles</td>\n",
              "      <td>480000.0</td>\n",
              "      <td>2400.000000</td>\n",
              "      <td>96000.000000</td>\n",
              "      <td>5.0</td>\n",
              "      <td>200</td>\n",
              "      <td>immovlan</td>\n",
              "    </tr>\n",
              "  </tbody>\n",
              "</table>\n",
              "</div>"
            ],
            "text/plain": [
              "                                address       city  ...  surface   website\n",
              "0             Rue de Fer 26, 5000 Namur      Namur  ...      150   immoweb\n",
              "1       Rue de Bruxelles 42, 5000 Namur      Namur  ...      200   immoweb\n",
              "2          Porte de Namur 25, Bruxelles  Bruxelles  ...      120   immoweb\n",
              "3         Rue de L'Eglise 42, Charleroi  Charleroi  ...      150   immoweb\n",
              "4   Rue Saint-ghislain 30, 6224 Fleurus    Fleurus  ...      320   immoweb\n",
              "5        Rue de la Closière 20, Fleurus    Fleurus  ...      175   immoweb\n",
              "6           Rue de la Loi 50, Bruxelles  Bruxelles  ...      220  immovlan\n",
              "7           Rue de la Loi 51, Bruxelles  Bruxelles  ...      120   immoweb\n",
              "8           Rue de la Loi 52, Bruxelles  Bruxelles  ...      150  immovlan\n",
              "9           Rue de la Loi 53, Bruxelles  Bruxelles  ...      200  immovlan\n",
              "10          Rue de la Loi 51, Bruxelles  Bruxelles  ...      120  immovlan\n",
              "11          Rue de la Loi 52, Bruxelles  Bruxelles  ...      150  immovlan\n",
              "12          Rue de la Loi 53, Bruxelles  Bruxelles  ...      200  immovlan\n",
              "\n",
              "[13 rows x 8 columns]"
            ]
          },
          "metadata": {
            "tags": []
          },
          "execution_count": 83
        }
      ]
    },
    {
      "cell_type": "code",
      "metadata": {
        "id": "tbygvQ3F8Mav",
        "colab_type": "code",
        "outputId": "6772437e-6cc6-41eb-afbd-20d62d0ce63d",
        "colab": {
          "base_uri": "https://localhost:8080/",
          "height": 189
        }
      },
      "source": [
        "#Inter-quantile range\n",
        "Q1 = newdf.price_per_room.quantile(0.25)\n",
        "Q3 = newdf.price_per_room.quantile(0.75)\n",
        "IQR = Q3 - Q1\n",
        "h = 2\n",
        "print(\"limits:\", (Q1 - h * IQR), \"to\", (Q3 + h * IQR))\n",
        "\n",
        "#Les données s'écartant fortement des quantiles sont potentiellement des outliers\n",
        "is_outlier = (newdf.price_per_room < (Q1 - h * IQR)) | (newdf.price_per_room > (Q3 + h * IQR))\n",
        "newdf.loc[is_outlier]"
      ],
      "execution_count": 84,
      "outputs": [
        {
          "output_type": "stream",
          "text": [
            "limits: 79999.99999999999 to 113333.33333333334\n"
          ],
          "name": "stdout"
        },
        {
          "output_type": "execute_result",
          "data": {
            "text/html": [
              "<div>\n",
              "<style scoped>\n",
              "    .dataframe tbody tr th:only-of-type {\n",
              "        vertical-align: middle;\n",
              "    }\n",
              "\n",
              "    .dataframe tbody tr th {\n",
              "        vertical-align: top;\n",
              "    }\n",
              "\n",
              "    .dataframe thead th {\n",
              "        text-align: right;\n",
              "    }\n",
              "</style>\n",
              "<table border=\"1\" class=\"dataframe\">\n",
              "  <thead>\n",
              "    <tr style=\"text-align: right;\">\n",
              "      <th></th>\n",
              "      <th>address</th>\n",
              "      <th>city</th>\n",
              "      <th>price</th>\n",
              "      <th>price_per_m2</th>\n",
              "      <th>price_per_room</th>\n",
              "      <th>rooms</th>\n",
              "      <th>surface</th>\n",
              "      <th>website</th>\n",
              "    </tr>\n",
              "  </thead>\n",
              "  <tbody>\n",
              "    <tr>\n",
              "      <th>0</th>\n",
              "      <td>Rue de Fer 26, 5000 Namur</td>\n",
              "      <td>Namur</td>\n",
              "      <td>400000.0</td>\n",
              "      <td>2666.666667</td>\n",
              "      <td>133333.333333</td>\n",
              "      <td>3.0</td>\n",
              "      <td>150</td>\n",
              "      <td>immoweb</td>\n",
              "    </tr>\n",
              "    <tr>\n",
              "      <th>3</th>\n",
              "      <td>Rue de L'Eglise 42, Charleroi</td>\n",
              "      <td>Charleroi</td>\n",
              "      <td>150000.0</td>\n",
              "      <td>1000.000000</td>\n",
              "      <td>30000.000000</td>\n",
              "      <td>5.0</td>\n",
              "      <td>150</td>\n",
              "      <td>immoweb</td>\n",
              "    </tr>\n",
              "    <tr>\n",
              "      <th>5</th>\n",
              "      <td>Rue de la Closière 20, Fleurus</td>\n",
              "      <td>Fleurus</td>\n",
              "      <td>230000.0</td>\n",
              "      <td>1314.285714</td>\n",
              "      <td>115000.000000</td>\n",
              "      <td>2.0</td>\n",
              "      <td>175</td>\n",
              "      <td>immoweb</td>\n",
              "    </tr>\n",
              "    <tr>\n",
              "      <th>6</th>\n",
              "      <td>Rue de la Loi 50, Bruxelles</td>\n",
              "      <td>Bruxelles</td>\n",
              "      <td>700000.0</td>\n",
              "      <td>3181.818182</td>\n",
              "      <td>175000.000000</td>\n",
              "      <td>4.0</td>\n",
              "      <td>220</td>\n",
              "      <td>immovlan</td>\n",
              "    </tr>\n",
              "  </tbody>\n",
              "</table>\n",
              "</div>"
            ],
            "text/plain": [
              "                          address       city  ...  surface   website\n",
              "0       Rue de Fer 26, 5000 Namur      Namur  ...      150   immoweb\n",
              "3   Rue de L'Eglise 42, Charleroi  Charleroi  ...      150   immoweb\n",
              "5  Rue de la Closière 20, Fleurus    Fleurus  ...      175   immoweb\n",
              "6     Rue de la Loi 50, Bruxelles  Bruxelles  ...      220  immovlan\n",
              "\n",
              "[4 rows x 8 columns]"
            ]
          },
          "metadata": {
            "tags": []
          },
          "execution_count": 84
        }
      ]
    },
    {
      "cell_type": "code",
      "metadata": {
        "id": "KSpAhzcBYgj7",
        "colab_type": "code",
        "colab": {
          "base_uri": "https://localhost:8080/",
          "height": 325
        },
        "outputId": "ebf2afba-4075-4e5a-9059-b20d2db55c73"
      },
      "source": [
        "df2 = newdf[~is_outlier] #détection statistique d'outliers\n",
        "df2.to_csv(\"houses_features.csv\")\n",
        "df2"
      ],
      "execution_count": 85,
      "outputs": [
        {
          "output_type": "execute_result",
          "data": {
            "text/html": [
              "<div>\n",
              "<style scoped>\n",
              "    .dataframe tbody tr th:only-of-type {\n",
              "        vertical-align: middle;\n",
              "    }\n",
              "\n",
              "    .dataframe tbody tr th {\n",
              "        vertical-align: top;\n",
              "    }\n",
              "\n",
              "    .dataframe thead th {\n",
              "        text-align: right;\n",
              "    }\n",
              "</style>\n",
              "<table border=\"1\" class=\"dataframe\">\n",
              "  <thead>\n",
              "    <tr style=\"text-align: right;\">\n",
              "      <th></th>\n",
              "      <th>address</th>\n",
              "      <th>city</th>\n",
              "      <th>price</th>\n",
              "      <th>price_per_m2</th>\n",
              "      <th>price_per_room</th>\n",
              "      <th>rooms</th>\n",
              "      <th>surface</th>\n",
              "      <th>website</th>\n",
              "    </tr>\n",
              "  </thead>\n",
              "  <tbody>\n",
              "    <tr>\n",
              "      <th>1</th>\n",
              "      <td>Rue de Bruxelles 42, 5000 Namur</td>\n",
              "      <td>Namur</td>\n",
              "      <td>350000.0</td>\n",
              "      <td>1750.000000</td>\n",
              "      <td>87500.000000</td>\n",
              "      <td>4.0</td>\n",
              "      <td>200</td>\n",
              "      <td>immoweb</td>\n",
              "    </tr>\n",
              "    <tr>\n",
              "      <th>2</th>\n",
              "      <td>Porte de Namur 25, Bruxelles</td>\n",
              "      <td>Bruxelles</td>\n",
              "      <td>400000.0</td>\n",
              "      <td>3333.333333</td>\n",
              "      <td>80000.000000</td>\n",
              "      <td>5.0</td>\n",
              "      <td>120</td>\n",
              "      <td>immoweb</td>\n",
              "    </tr>\n",
              "    <tr>\n",
              "      <th>4</th>\n",
              "      <td>Rue Saint-ghislain 30, 6224 Fleurus</td>\n",
              "      <td>Fleurus</td>\n",
              "      <td>290000.0</td>\n",
              "      <td>906.250000</td>\n",
              "      <td>96666.666667</td>\n",
              "      <td>3.0</td>\n",
              "      <td>320</td>\n",
              "      <td>immoweb</td>\n",
              "    </tr>\n",
              "    <tr>\n",
              "      <th>7</th>\n",
              "      <td>Rue de la Loi 51, Bruxelles</td>\n",
              "      <td>Bruxelles</td>\n",
              "      <td>280000.0</td>\n",
              "      <td>2333.333333</td>\n",
              "      <td>93333.333333</td>\n",
              "      <td>3.0</td>\n",
              "      <td>120</td>\n",
              "      <td>immoweb</td>\n",
              "    </tr>\n",
              "    <tr>\n",
              "      <th>8</th>\n",
              "      <td>Rue de la Loi 52, Bruxelles</td>\n",
              "      <td>Bruxelles</td>\n",
              "      <td>400000.0</td>\n",
              "      <td>2666.666667</td>\n",
              "      <td>100000.000000</td>\n",
              "      <td>4.0</td>\n",
              "      <td>150</td>\n",
              "      <td>immovlan</td>\n",
              "    </tr>\n",
              "    <tr>\n",
              "      <th>9</th>\n",
              "      <td>Rue de la Loi 53, Bruxelles</td>\n",
              "      <td>Bruxelles</td>\n",
              "      <td>480000.0</td>\n",
              "      <td>2400.000000</td>\n",
              "      <td>96000.000000</td>\n",
              "      <td>5.0</td>\n",
              "      <td>200</td>\n",
              "      <td>immovlan</td>\n",
              "    </tr>\n",
              "    <tr>\n",
              "      <th>10</th>\n",
              "      <td>Rue de la Loi 51, Bruxelles</td>\n",
              "      <td>Bruxelles</td>\n",
              "      <td>280000.0</td>\n",
              "      <td>2333.333333</td>\n",
              "      <td>93333.333333</td>\n",
              "      <td>3.0</td>\n",
              "      <td>120</td>\n",
              "      <td>immovlan</td>\n",
              "    </tr>\n",
              "    <tr>\n",
              "      <th>11</th>\n",
              "      <td>Rue de la Loi 52, Bruxelles</td>\n",
              "      <td>Bruxelles</td>\n",
              "      <td>400000.0</td>\n",
              "      <td>2666.666667</td>\n",
              "      <td>100000.000000</td>\n",
              "      <td>4.0</td>\n",
              "      <td>150</td>\n",
              "      <td>immovlan</td>\n",
              "    </tr>\n",
              "    <tr>\n",
              "      <th>12</th>\n",
              "      <td>Rue de la Loi 53, Bruxelles</td>\n",
              "      <td>Bruxelles</td>\n",
              "      <td>480000.0</td>\n",
              "      <td>2400.000000</td>\n",
              "      <td>96000.000000</td>\n",
              "      <td>5.0</td>\n",
              "      <td>200</td>\n",
              "      <td>immovlan</td>\n",
              "    </tr>\n",
              "  </tbody>\n",
              "</table>\n",
              "</div>"
            ],
            "text/plain": [
              "                                address       city  ...  surface   website\n",
              "1       Rue de Bruxelles 42, 5000 Namur      Namur  ...      200   immoweb\n",
              "2          Porte de Namur 25, Bruxelles  Bruxelles  ...      120   immoweb\n",
              "4   Rue Saint-ghislain 30, 6224 Fleurus    Fleurus  ...      320   immoweb\n",
              "7           Rue de la Loi 51, Bruxelles  Bruxelles  ...      120   immoweb\n",
              "8           Rue de la Loi 52, Bruxelles  Bruxelles  ...      150  immovlan\n",
              "9           Rue de la Loi 53, Bruxelles  Bruxelles  ...      200  immovlan\n",
              "10          Rue de la Loi 51, Bruxelles  Bruxelles  ...      120  immovlan\n",
              "11          Rue de la Loi 52, Bruxelles  Bruxelles  ...      150  immovlan\n",
              "12          Rue de la Loi 53, Bruxelles  Bruxelles  ...      200  immovlan\n",
              "\n",
              "[9 rows x 8 columns]"
            ]
          },
          "metadata": {
            "tags": []
          },
          "execution_count": 85
        }
      ]
    },
    {
      "cell_type": "markdown",
      "metadata": {
        "id": "C7DGIGdluWig",
        "colab_type": "text"
      },
      "source": [
        "# Visualisation de données avec Matplotlib\n",
        "\n",
        "Matplotlib est une librairie permettent la visualisation graphique des données. Elle est habituellement utilisée avec les trois librairies présentées plus haut (Numpy, Scipy, Pandas)."
      ]
    },
    {
      "cell_type": "code",
      "metadata": {
        "id": "E_g3E8o9rY0E",
        "colab_type": "code",
        "outputId": "50f9a8a7-c691-4972-c696-717a15cf3e7c",
        "colab": {
          "base_uri": "https://localhost:8080/",
          "height": 455
        }
      },
      "source": [
        "from matplotlib import pyplot as plt\n",
        "\n",
        "plt.bar(newdf.address,newdf.price_per_room)\n",
        "plt.xticks(rotation=90)"
      ],
      "execution_count": 86,
      "outputs": [
        {
          "output_type": "execute_result",
          "data": {
            "text/plain": [
              "([0, 1, 2, 3, 4, 5, 6, 7, 8, 9], <a list of 10 Text xticklabel objects>)"
            ]
          },
          "metadata": {
            "tags": []
          },
          "execution_count": 86
        },
        {
          "output_type": "display_data",
          "data": {
            "image/png": "[encoded data removed]",
            "text/plain": [
              "<Figure size 432x288 with 1 Axes>"
            ]
          },
          "metadata": {
            "tags": []
          }
        }
      ]
    },
    {
      "cell_type": "code",
      "metadata": {
        "id": "6qnUZJK2tbMo",
        "colab_type": "code",
        "outputId": "e8ffd394-fc3a-43a3-9675-a8c75ff545f8",
        "colab": {
          "base_uri": "https://localhost:8080/",
          "height": 307
        }
      },
      "source": [
        "#méthode intégrée de pandas\n",
        "newdf.plot.bar(y=\"price_per_room\")\n",
        "plt.xticks(rotation=90)           "
      ],
      "execution_count": 87,
      "outputs": [
        {
          "output_type": "execute_result",
          "data": {
            "text/plain": [
              "(array([ 0,  1,  2,  3,  4,  5,  6,  7,  8,  9, 10, 11, 12]),\n",
              " <a list of 13 Text xticklabel objects>)"
            ]
          },
          "metadata": {
            "tags": []
          },
          "execution_count": 87
        },
        {
          "output_type": "display_data",
          "data": {
            "image/png": "[encoded data removed]",
            "text/plain": [
              "<Figure size 432x288 with 1 Axes>"
            ]
          },
          "metadata": {
            "tags": []
          }
        }
      ]
    },
    {
      "cell_type": "code",
      "metadata": {
        "id": "xEUcqzP5vvfH",
        "colab_type": "code",
        "outputId": "4e326b26-1894-4446-d1bc-21e4def5c651",
        "colab": {
          "base_uri": "https://localhost:8080/",
          "height": 386
        }
      },
      "source": [
        "#On retire les données extrêmes\n",
        "df2 = newdf.drop([2,6]) #détection manuelle (visuelle)\n",
        "df2"
      ],
      "execution_count": 88,
      "outputs": [
        {
          "output_type": "execute_result",
          "data": {
            "text/html": [
              "<div>\n",
              "<style scoped>\n",
              "    .dataframe tbody tr th:only-of-type {\n",
              "        vertical-align: middle;\n",
              "    }\n",
              "\n",
              "    .dataframe tbody tr th {\n",
              "        vertical-align: top;\n",
              "    }\n",
              "\n",
              "    .dataframe thead th {\n",
              "        text-align: right;\n",
              "    }\n",
              "</style>\n",
              "<table border=\"1\" class=\"dataframe\">\n",
              "  <thead>\n",
              "    <tr style=\"text-align: right;\">\n",
              "      <th></th>\n",
              "      <th>address</th>\n",
              "      <th>city</th>\n",
              "      <th>price</th>\n",
              "      <th>price_per_m2</th>\n",
              "      <th>price_per_room</th>\n",
              "      <th>rooms</th>\n",
              "      <th>surface</th>\n",
              "      <th>website</th>\n",
              "    </tr>\n",
              "  </thead>\n",
              "  <tbody>\n",
              "    <tr>\n",
              "      <th>0</th>\n",
              "      <td>Rue de Fer 26, 5000 Namur</td>\n",
              "      <td>Namur</td>\n",
              "      <td>400000.0</td>\n",
              "      <td>2666.666667</td>\n",
              "      <td>133333.333333</td>\n",
              "      <td>3.0</td>\n",
              "      <td>150</td>\n",
              "      <td>immoweb</td>\n",
              "    </tr>\n",
              "    <tr>\n",
              "      <th>1</th>\n",
              "      <td>Rue de Bruxelles 42, 5000 Namur</td>\n",
              "      <td>Namur</td>\n",
              "      <td>350000.0</td>\n",
              "      <td>1750.000000</td>\n",
              "      <td>87500.000000</td>\n",
              "      <td>4.0</td>\n",
              "      <td>200</td>\n",
              "      <td>immoweb</td>\n",
              "    </tr>\n",
              "    <tr>\n",
              "      <th>3</th>\n",
              "      <td>Rue de L'Eglise 42, Charleroi</td>\n",
              "      <td>Charleroi</td>\n",
              "      <td>150000.0</td>\n",
              "      <td>1000.000000</td>\n",
              "      <td>30000.000000</td>\n",
              "      <td>5.0</td>\n",
              "      <td>150</td>\n",
              "      <td>immoweb</td>\n",
              "    </tr>\n",
              "    <tr>\n",
              "      <th>4</th>\n",
              "      <td>Rue Saint-ghislain 30, 6224 Fleurus</td>\n",
              "      <td>Fleurus</td>\n",
              "      <td>290000.0</td>\n",
              "      <td>906.250000</td>\n",
              "      <td>96666.666667</td>\n",
              "      <td>3.0</td>\n",
              "      <td>320</td>\n",
              "      <td>immoweb</td>\n",
              "    </tr>\n",
              "    <tr>\n",
              "      <th>5</th>\n",
              "      <td>Rue de la Closière 20, Fleurus</td>\n",
              "      <td>Fleurus</td>\n",
              "      <td>230000.0</td>\n",
              "      <td>1314.285714</td>\n",
              "      <td>115000.000000</td>\n",
              "      <td>2.0</td>\n",
              "      <td>175</td>\n",
              "      <td>immoweb</td>\n",
              "    </tr>\n",
              "    <tr>\n",
              "      <th>7</th>\n",
              "      <td>Rue de la Loi 51, Bruxelles</td>\n",
              "      <td>Bruxelles</td>\n",
              "      <td>280000.0</td>\n",
              "      <td>2333.333333</td>\n",
              "      <td>93333.333333</td>\n",
              "      <td>3.0</td>\n",
              "      <td>120</td>\n",
              "      <td>immoweb</td>\n",
              "    </tr>\n",
              "    <tr>\n",
              "      <th>8</th>\n",
              "      <td>Rue de la Loi 52, Bruxelles</td>\n",
              "      <td>Bruxelles</td>\n",
              "      <td>400000.0</td>\n",
              "      <td>2666.666667</td>\n",
              "      <td>100000.000000</td>\n",
              "      <td>4.0</td>\n",
              "      <td>150</td>\n",
              "      <td>immovlan</td>\n",
              "    </tr>\n",
              "    <tr>\n",
              "      <th>9</th>\n",
              "      <td>Rue de la Loi 53, Bruxelles</td>\n",
              "      <td>Bruxelles</td>\n",
              "      <td>480000.0</td>\n",
              "      <td>2400.000000</td>\n",
              "      <td>96000.000000</td>\n",
              "      <td>5.0</td>\n",
              "      <td>200</td>\n",
              "      <td>immovlan</td>\n",
              "    </tr>\n",
              "    <tr>\n",
              "      <th>10</th>\n",
              "      <td>Rue de la Loi 51, Bruxelles</td>\n",
              "      <td>Bruxelles</td>\n",
              "      <td>280000.0</td>\n",
              "      <td>2333.333333</td>\n",
              "      <td>93333.333333</td>\n",
              "      <td>3.0</td>\n",
              "      <td>120</td>\n",
              "      <td>immovlan</td>\n",
              "    </tr>\n",
              "    <tr>\n",
              "      <th>11</th>\n",
              "      <td>Rue de la Loi 52, Bruxelles</td>\n",
              "      <td>Bruxelles</td>\n",
              "      <td>400000.0</td>\n",
              "      <td>2666.666667</td>\n",
              "      <td>100000.000000</td>\n",
              "      <td>4.0</td>\n",
              "      <td>150</td>\n",
              "      <td>immovlan</td>\n",
              "    </tr>\n",
              "    <tr>\n",
              "      <th>12</th>\n",
              "      <td>Rue de la Loi 53, Bruxelles</td>\n",
              "      <td>Bruxelles</td>\n",
              "      <td>480000.0</td>\n",
              "      <td>2400.000000</td>\n",
              "      <td>96000.000000</td>\n",
              "      <td>5.0</td>\n",
              "      <td>200</td>\n",
              "      <td>immovlan</td>\n",
              "    </tr>\n",
              "  </tbody>\n",
              "</table>\n",
              "</div>"
            ],
            "text/plain": [
              "                                address       city  ...  surface   website\n",
              "0             Rue de Fer 26, 5000 Namur      Namur  ...      150   immoweb\n",
              "1       Rue de Bruxelles 42, 5000 Namur      Namur  ...      200   immoweb\n",
              "3         Rue de L'Eglise 42, Charleroi  Charleroi  ...      150   immoweb\n",
              "4   Rue Saint-ghislain 30, 6224 Fleurus    Fleurus  ...      320   immoweb\n",
              "5        Rue de la Closière 20, Fleurus    Fleurus  ...      175   immoweb\n",
              "7           Rue de la Loi 51, Bruxelles  Bruxelles  ...      120   immoweb\n",
              "8           Rue de la Loi 52, Bruxelles  Bruxelles  ...      150  immovlan\n",
              "9           Rue de la Loi 53, Bruxelles  Bruxelles  ...      200  immovlan\n",
              "10          Rue de la Loi 51, Bruxelles  Bruxelles  ...      120  immovlan\n",
              "11          Rue de la Loi 52, Bruxelles  Bruxelles  ...      150  immovlan\n",
              "12          Rue de la Loi 53, Bruxelles  Bruxelles  ...      200  immovlan\n",
              "\n",
              "[11 rows x 8 columns]"
            ]
          },
          "metadata": {
            "tags": []
          },
          "execution_count": 88
        }
      ]
    },
    {
      "cell_type": "code",
      "metadata": {
        "id": "8pd7l-Z3wHAD",
        "colab_type": "code",
        "outputId": "c4202762-7960-41eb-8228-da9fb325f1f3",
        "colab": {
          "base_uri": "https://localhost:8080/",
          "height": 202
        }
      },
      "source": [
        "df2.groupby(\"rooms\").mean()"
      ],
      "execution_count": 89,
      "outputs": [
        {
          "output_type": "execute_result",
          "data": {
            "text/html": [
              "<div>\n",
              "<style scoped>\n",
              "    .dataframe tbody tr th:only-of-type {\n",
              "        vertical-align: middle;\n",
              "    }\n",
              "\n",
              "    .dataframe tbody tr th {\n",
              "        vertical-align: top;\n",
              "    }\n",
              "\n",
              "    .dataframe thead th {\n",
              "        text-align: right;\n",
              "    }\n",
              "</style>\n",
              "<table border=\"1\" class=\"dataframe\">\n",
              "  <thead>\n",
              "    <tr style=\"text-align: right;\">\n",
              "      <th></th>\n",
              "      <th>price</th>\n",
              "      <th>price_per_m2</th>\n",
              "      <th>price_per_room</th>\n",
              "      <th>surface</th>\n",
              "    </tr>\n",
              "    <tr>\n",
              "      <th>rooms</th>\n",
              "      <th></th>\n",
              "      <th></th>\n",
              "      <th></th>\n",
              "      <th></th>\n",
              "    </tr>\n",
              "  </thead>\n",
              "  <tbody>\n",
              "    <tr>\n",
              "      <th>2.0</th>\n",
              "      <td>230000.000000</td>\n",
              "      <td>1314.285714</td>\n",
              "      <td>115000.000000</td>\n",
              "      <td>175.000000</td>\n",
              "    </tr>\n",
              "    <tr>\n",
              "      <th>3.0</th>\n",
              "      <td>312500.000000</td>\n",
              "      <td>2059.895833</td>\n",
              "      <td>104166.666667</td>\n",
              "      <td>177.500000</td>\n",
              "    </tr>\n",
              "    <tr>\n",
              "      <th>4.0</th>\n",
              "      <td>383333.333333</td>\n",
              "      <td>2361.111111</td>\n",
              "      <td>95833.333333</td>\n",
              "      <td>166.666667</td>\n",
              "    </tr>\n",
              "    <tr>\n",
              "      <th>5.0</th>\n",
              "      <td>370000.000000</td>\n",
              "      <td>1933.333333</td>\n",
              "      <td>74000.000000</td>\n",
              "      <td>183.333333</td>\n",
              "    </tr>\n",
              "  </tbody>\n",
              "</table>\n",
              "</div>"
            ],
            "text/plain": [
              "               price  price_per_m2  price_per_room     surface\n",
              "rooms                                                         \n",
              "2.0    230000.000000   1314.285714   115000.000000  175.000000\n",
              "3.0    312500.000000   2059.895833   104166.666667  177.500000\n",
              "4.0    383333.333333   2361.111111    95833.333333  166.666667\n",
              "5.0    370000.000000   1933.333333    74000.000000  183.333333"
            ]
          },
          "metadata": {
            "tags": []
          },
          "execution_count": 89
        }
      ]
    },
    {
      "cell_type": "markdown",
      "metadata": {
        "id": "mCSyQ5Lswbl5",
        "colab_type": "text"
      },
      "source": [
        "* Après avoir retiré les donénes extrêmes, l'évolution du prix en fonction du nombre de chambres est plus cohérent.\n",
        "* On remarque que le prix au m2 augmente, mais que le prix par pièce diminue"
      ]
    },
    {
      "cell_type": "code",
      "metadata": {
        "id": "zDVI9DvqwxFX",
        "colab_type": "code",
        "outputId": "016792b4-d39a-4d9a-b89a-f285bdd4ae1c",
        "colab": {
          "base_uri": "https://localhost:8080/",
          "height": 307
        }
      },
      "source": [
        "result = df2.groupby(\"rooms\").mean()\n",
        "#Divide each column by its sum (so that sum is 1) - so that multiple bar plots with various orders are visible\n",
        "result = result/result.sum()\n",
        "result.plot(kind=\"bar\")"
      ],
      "execution_count": 90,
      "outputs": [
        {
          "output_type": "execute_result",
          "data": {
            "text/plain": [
              "<matplotlib.axes._subplots.AxesSubplot at 0x7f895c6cb128>"
            ]
          },
          "metadata": {
            "tags": []
          },
          "execution_count": 90
        },
        {
          "output_type": "display_data",
          "data": {
            "image/png": "[encoded data removed]",
            "text/plain": [
              "<Figure size 432x288 with 1 Axes>"
            ]
          },
          "metadata": {
            "tags": []
          }
        }
      ]
    },
    {
      "cell_type": "code",
      "metadata": {
        "id": "ct5UTpmm7ItQ",
        "colab_type": "code",
        "outputId": "57183d8d-98f0-44a8-8813-3508f53bf959",
        "colab": {
          "base_uri": "https://localhost:8080/",
          "height": 354
        }
      },
      "source": [
        "#plus lisible (on transpose pour avoir un graphe par varible plutôt que par nombre de chambres)\n",
        "result.transpose().plot(kind=\"bar\")"
      ],
      "execution_count": 91,
      "outputs": [
        {
          "output_type": "execute_result",
          "data": {
            "text/plain": [
              "<matplotlib.axes._subplots.AxesSubplot at 0x7f895c633c88>"
            ]
          },
          "metadata": {
            "tags": []
          },
          "execution_count": 91
        },
        {
          "output_type": "display_data",
          "data": {
            "image/png": "[encoded data removed]",
            "text/plain": [
              "<Figure size 432x288 with 1 Axes>"
            ]
          },
          "metadata": {
            "tags": []
          }
        }
      ]
    },
    {
      "cell_type": "markdown",
      "metadata": {
        "id": "8jXwAMMRzJnf",
        "colab_type": "text"
      },
      "source": [
        "On remarque en effet que:\n",
        "* le prix augmente\n",
        "* la surface diminue\n",
        "* le prix au m2 augmente (logiquement)\n",
        "* le prix par pièce diminue"
      ]
    },
    {
      "cell_type": "code",
      "metadata": {
        "id": "oFJhEsNat6io",
        "colab_type": "code",
        "outputId": "62e75387-9d90-4e14-a51e-a4408886ebf2",
        "colab": {
          "base_uri": "https://localhost:8080/",
          "height": 340
        }
      },
      "source": [
        "website_comparison = df.groupby(\"website\").mean()\n",
        "website_comparison.plot.bar(y=\"price\")"
      ],
      "execution_count": 92,
      "outputs": [
        {
          "output_type": "execute_result",
          "data": {
            "text/plain": [
              "<matplotlib.axes._subplots.AxesSubplot at 0x7f895c5ab4e0>"
            ]
          },
          "metadata": {
            "tags": []
          },
          "execution_count": 92
        },
        {
          "output_type": "display_data",
          "data": {
            "image/png": "[encoded data removed]",
            "text/plain": [
              "<Figure size 432x288 with 1 Axes>"
            ]
          },
          "metadata": {
            "tags": []
          }
        }
      ]
    },
    {
      "cell_type": "code",
      "metadata": {
        "id": "ad0KrEotvBiZ",
        "colab_type": "code",
        "outputId": "fe7c512e-addf-40d5-acbe-477de9e49c01",
        "colab": {
          "base_uri": "https://localhost:8080/",
          "height": 301
        }
      },
      "source": [
        "#DF.plot: afficher une courbe. On trie d'abord les maisons par surface croissante pour afficher la courbe (DF.sort_values(\"surface\"))\n",
        "bxldf.sort_values(\"surface\").plot(\"surface\",\"price\")"
      ],
      "execution_count": 93,
      "outputs": [
        {
          "output_type": "execute_result",
          "data": {
            "text/plain": [
              "<matplotlib.axes._subplots.AxesSubplot at 0x7f895c5c4828>"
            ]
          },
          "metadata": {
            "tags": []
          },
          "execution_count": 93
        },
        {
          "output_type": "display_data",
          "data": {
            "image/png": "[encoded data removed]",
            "text/plain": [
              "<Figure size 432x288 with 1 Axes>"
            ]
          },
          "metadata": {
            "tags": []
          }
        }
      ]
    },
    {
      "cell_type": "code",
      "metadata": {
        "id": "lnOUpYmJMVn_",
        "colab_type": "code",
        "outputId": "8f9969fe-096b-4868-dae0-f6676f3cd8d5",
        "colab": {
          "base_uri": "https://localhost:8080/",
          "height": 307
        }
      },
      "source": [
        "count_analysis.plot.pie(subplots = True, figsize = (15,15))"
      ],
      "execution_count": 94,
      "outputs": [
        {
          "output_type": "execute_result",
          "data": {
            "text/plain": [
              "array([<matplotlib.axes._subplots.AxesSubplot object at 0x7f895c49d4a8>,\n",
              "       <matplotlib.axes._subplots.AxesSubplot object at 0x7f895c7b8b38>,\n",
              "       <matplotlib.axes._subplots.AxesSubplot object at 0x7f895d876f98>,\n",
              "       <matplotlib.axes._subplots.AxesSubplot object at 0x7f895c473438>],\n",
              "      dtype=object)"
            ]
          },
          "metadata": {
            "tags": []
          },
          "execution_count": 94
        },
        {
          "output_type": "display_data",
          "data": {
            "image/png": "[encoded data removed]",
            "text/plain": [
              "<Figure size 1080x1080 with 4 Axes>"
            ]
          },
          "metadata": {
            "tags": []
          }
        }
      ]
    },
    {
      "cell_type": "code",
      "metadata": {
        "id": "EZY3bOLpPxuh",
        "colab_type": "code",
        "outputId": "6b47e663-7b00-4280-b07f-2db52930ddbe",
        "colab": {
          "base_uri": "https://localhost:8080/",
          "height": 714
        }
      },
      "source": [
        "\n",
        "price_analysis.plot.bar(subplots = True, figsize = (10,10))"
      ],
      "execution_count": 95,
      "outputs": [
        {
          "output_type": "execute_result",
          "data": {
            "text/plain": [
              "array([<matplotlib.axes._subplots.AxesSubplot object at 0x7f895c3e7c18>,\n",
              "       <matplotlib.axes._subplots.AxesSubplot object at 0x7f895c3a8cf8>,\n",
              "       <matplotlib.axes._subplots.AxesSubplot object at 0x7f895c35a198>,\n",
              "       <matplotlib.axes._subplots.AxesSubplot object at 0x7f895c3805f8>],\n",
              "      dtype=object)"
            ]
          },
          "metadata": {
            "tags": []
          },
          "execution_count": 95
        },
        {
          "output_type": "display_data",
          "data": {
            "image/png": "[encoded data removed]",
            "text/plain": [
              "<Figure size 720x720 with 4 Axes>"
            ]
          },
          "metadata": {
            "tags": []
          }
        }
      ]
    }
  ]
}