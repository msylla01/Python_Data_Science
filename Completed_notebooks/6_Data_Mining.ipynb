{
  "nbformat": 4,
  "nbformat_minor": 0,
  "metadata": {
    "colab": {
      "name": "6_Data_Mining.ipynb",
      "provenance": [],
      "collapsed_sections": [],
      "toc_visible": true,
      "include_colab_link": true
    },
    "kernelspec": {
      "name": "python3",
      "display_name": "Python 3"
    }
  },
  "cells": [
    {
      "cell_type": "markdown",
      "metadata": {
        "id": "view-in-github",
        "colab_type": "text"
      },
      "source": [
        "<a href=\"https://colab.research.google.com/github/titsitits/Python_Data_Science/blob/master/Completed_notebooks/6_Data_Mining.ipynb\" target=\"_parent\"><img src=\"https://colab.research.google.com/assets/colab-badge.svg\" alt=\"Open In Colab\"/></a>"
      ]
    },
    {
      "cell_type": "markdown",
      "metadata": {
        "id": "DfQ-d2onvooo",
        "colab_type": "text"
      },
      "source": [
        "Mickaël Tits\n",
        "CETIC\n",
        "mickael.tits@cetic.be"
      ]
    },
    {
      "cell_type": "markdown",
      "metadata": {
        "id": "Ug1Bj8_tAVWq",
        "colab_type": "text"
      },
      "source": [
        "# Chapitre 6 - Introduction au Data Mining et à la visualisation de données\n",
        "\n"
      ]
    },
    {
      "cell_type": "markdown",
      "metadata": {
        "id": "-ce4y6EYR9Pt",
        "colab_type": "text"
      },
      "source": [
        "Dans ce chapitre, nous allons explorer plus prodonfément les possibilités d'exploration de données (data mining) avec Pandas. \n",
        "* Nous allons d'abord **extraire de nouvelles caractéristiques** à partir des variables existantes, pour améliorer le dataframe.\n",
        "* Nous allons tester différentes méthodes d'exploration de base, selon le type de caractéristique (variables **continues** ou **catégorielles**)\n",
        "* Nous allons détecter les valeurs particulières, souvent appelées **anomalies**, ou outliers.\n",
        "* Nous allons finalement montrer quelques exemples de **visualisation graphique** des données grâce à la librairie **Matplotlib**\n",
        "\n"
      ]
    },
    {
      "cell_type": "markdown",
      "metadata": {
        "id": "fdJpiflmUNkc",
        "colab_type": "text"
      },
      "source": [
        "Chargez d'abord le dataframe préparé lors du chapitre précédent. "
      ]
    },
    {
      "cell_type": "code",
      "metadata": {
        "id": "5LmLdhShSGzL",
        "colab_type": "code",
        "colab": {}
      },
      "source": [
        "import pandas as pd\n",
        "\n",
        "#Si vous venez d'exécuter le notebook précédent, vous pouvez simplement récupérer le fichier temporaire créé.\n",
        "#df = pd.read_csv(\"houses.csv\", index_col=0)\n",
        "\n",
        "#Vous pouvez aussi récupérer une version du fichier hébergée ici:\n",
        "df = pd.read_csv(\"https://raw.githubusercontent.com/titsitits/Python_Data_Science/master/Donn%C3%A9es/houses.csv\", index_col=0)"
      ],
      "execution_count": 0,
      "outputs": []
    },
    {
      "cell_type": "code",
      "metadata": {
        "id": "sEx1UGV2SUk0",
        "colab_type": "code",
        "colab": {
          "base_uri": "https://localhost:8080/",
          "height": 447
        },
        "outputId": "d08d06f4-e36f-41b4-e67a-a40189a5dd1a"
      },
      "source": [
        "df"
      ],
      "execution_count": 2,
      "outputs": [
        {
          "output_type": "execute_result",
          "data": {
            "text/html": [
              "<div>\n",
              "<style scoped>\n",
              "    .dataframe tbody tr th:only-of-type {\n",
              "        vertical-align: middle;\n",
              "    }\n",
              "\n",
              "    .dataframe tbody tr th {\n",
              "        vertical-align: top;\n",
              "    }\n",
              "\n",
              "    .dataframe thead th {\n",
              "        text-align: right;\n",
              "    }\n",
              "</style>\n",
              "<table border=\"1\" class=\"dataframe\">\n",
              "  <thead>\n",
              "    <tr style=\"text-align: right;\">\n",
              "      <th></th>\n",
              "      <th>address</th>\n",
              "      <th>price</th>\n",
              "      <th>rooms</th>\n",
              "      <th>surface</th>\n",
              "      <th>website</th>\n",
              "    </tr>\n",
              "  </thead>\n",
              "  <tbody>\n",
              "    <tr>\n",
              "      <th>0</th>\n",
              "      <td>Rue de Fer 26, 5000 Namur</td>\n",
              "      <td>400000.0</td>\n",
              "      <td>4.0</td>\n",
              "      <td>150</td>\n",
              "      <td>immoweb</td>\n",
              "    </tr>\n",
              "    <tr>\n",
              "      <th>2</th>\n",
              "      <td>Porte de Namur 25, Bruxelles</td>\n",
              "      <td>400000.0</td>\n",
              "      <td>3.0</td>\n",
              "      <td>120</td>\n",
              "      <td>immoweb</td>\n",
              "    </tr>\n",
              "    <tr>\n",
              "      <th>3</th>\n",
              "      <td>Rue de L'Eglise 42, Charleroi</td>\n",
              "      <td>150000.0</td>\n",
              "      <td>5.0</td>\n",
              "      <td>150</td>\n",
              "      <td>immoweb</td>\n",
              "    </tr>\n",
              "    <tr>\n",
              "      <th>4</th>\n",
              "      <td>Rue Saint-ghislain 30, 6224 Fleurus</td>\n",
              "      <td>330000.0</td>\n",
              "      <td>5.0</td>\n",
              "      <td>320</td>\n",
              "      <td>immoweb</td>\n",
              "    </tr>\n",
              "    <tr>\n",
              "      <th>6</th>\n",
              "      <td>Rue de la Closière 20, Fleurus</td>\n",
              "      <td>230000.0</td>\n",
              "      <td>3.0</td>\n",
              "      <td>170</td>\n",
              "      <td>immoweb</td>\n",
              "    </tr>\n",
              "    <tr>\n",
              "      <th>10</th>\n",
              "      <td>Rue de Bruxelles 42, 5000 Namur</td>\n",
              "      <td>350000.0</td>\n",
              "      <td>4.0</td>\n",
              "      <td>200</td>\n",
              "      <td>immovlan</td>\n",
              "    </tr>\n",
              "    <tr>\n",
              "      <th>11</th>\n",
              "      <td>Rue de la Loi 50, Bruxelles</td>\n",
              "      <td>700000.0</td>\n",
              "      <td>3.0</td>\n",
              "      <td>220</td>\n",
              "      <td>immovlan</td>\n",
              "    </tr>\n",
              "    <tr>\n",
              "      <th>12</th>\n",
              "      <td>Rue de la Loi 51, Bruxelles</td>\n",
              "      <td>280000.0</td>\n",
              "      <td>3.0</td>\n",
              "      <td>120</td>\n",
              "      <td>immoweb</td>\n",
              "    </tr>\n",
              "    <tr>\n",
              "      <th>13</th>\n",
              "      <td>Rue de la Loi 52, Bruxelles</td>\n",
              "      <td>400000.0</td>\n",
              "      <td>4.0</td>\n",
              "      <td>150</td>\n",
              "      <td>immovlan</td>\n",
              "    </tr>\n",
              "    <tr>\n",
              "      <th>14</th>\n",
              "      <td>Rue de la Loi 53, Bruxelles</td>\n",
              "      <td>480000.0</td>\n",
              "      <td>5.0</td>\n",
              "      <td>170</td>\n",
              "      <td>immovlan</td>\n",
              "    </tr>\n",
              "    <tr>\n",
              "      <th>15</th>\n",
              "      <td>Rue de Fer 27, Namur</td>\n",
              "      <td>280000.0</td>\n",
              "      <td>3.0</td>\n",
              "      <td>140</td>\n",
              "      <td>immoweb</td>\n",
              "    </tr>\n",
              "    <tr>\n",
              "      <th>16</th>\n",
              "      <td>Rue de Fer 28, Namur</td>\n",
              "      <td>320000.0</td>\n",
              "      <td>4.0</td>\n",
              "      <td>160</td>\n",
              "      <td>immoweb</td>\n",
              "    </tr>\n",
              "    <tr>\n",
              "      <th>17</th>\n",
              "      <td>Rue de Fer 29, Namur</td>\n",
              "      <td>350000.0</td>\n",
              "      <td>5.0</td>\n",
              "      <td>180</td>\n",
              "      <td>immovlan</td>\n",
              "    </tr>\n",
              "  </tbody>\n",
              "</table>\n",
              "</div>"
            ],
            "text/plain": [
              "                                address     price  rooms  surface   website\n",
              "0             Rue de Fer 26, 5000 Namur  400000.0    4.0      150   immoweb\n",
              "2          Porte de Namur 25, Bruxelles  400000.0    3.0      120   immoweb\n",
              "3         Rue de L'Eglise 42, Charleroi  150000.0    5.0      150   immoweb\n",
              "4   Rue Saint-ghislain 30, 6224 Fleurus  330000.0    5.0      320   immoweb\n",
              "6        Rue de la Closière 20, Fleurus  230000.0    3.0      170   immoweb\n",
              "10      Rue de Bruxelles 42, 5000 Namur  350000.0    4.0      200  immovlan\n",
              "11          Rue de la Loi 50, Bruxelles  700000.0    3.0      220  immovlan\n",
              "12          Rue de la Loi 51, Bruxelles  280000.0    3.0      120   immoweb\n",
              "13          Rue de la Loi 52, Bruxelles  400000.0    4.0      150  immovlan\n",
              "14          Rue de la Loi 53, Bruxelles  480000.0    5.0      170  immovlan\n",
              "15                 Rue de Fer 27, Namur  280000.0    3.0      140   immoweb\n",
              "16                 Rue de Fer 28, Namur  320000.0    4.0      160   immoweb\n",
              "17                 Rue de Fer 29, Namur  350000.0    5.0      180  immovlan"
            ]
          },
          "metadata": {
            "tags": []
          },
          "execution_count": 2
        }
      ]
    },
    {
      "cell_type": "markdown",
      "metadata": {
        "id": "ZCMYrQKBXKUt",
        "colab_type": "text"
      },
      "source": [
        "# Extraction de caractéristiques (i.e. augmentation du DataFrame par de nouvelles colonnes)"
      ]
    },
    {
      "cell_type": "code",
      "metadata": {
        "id": "zWaSDF3HMz4C",
        "colab_type": "code",
        "colab": {}
      },
      "source": [
        "#Extract city\n",
        "def get_city(address):\n",
        "\n",
        "  #Le nom de la rue est la partie après le dernier nombre, ou une virgule si aucun code postal n'est renseigné. On cherche donc un nombre en commençant par la fin ( range(len(address),0,-1) )\n",
        "  for i in range(len(address)-1,0,-1):\n",
        "    c = address[i]\n",
        "    if c in \"0123456789,\":\n",
        "      #c est un nombre (ou une virgule), on peut sortir de la boucle\n",
        "      break\n",
        "\n",
        "  #On extrait le nom de la ville\n",
        "  city = address[i+2:]\n",
        "\n",
        "  return city"
      ],
      "execution_count": 0,
      "outputs": []
    },
    {
      "cell_type": "code",
      "metadata": {
        "id": "Rzxt1LTVkiYo",
        "colab_type": "code",
        "colab": {
          "base_uri": "https://localhost:8080/",
          "height": 447
        },
        "outputId": "b6eb08a8-037b-4778-a6ae-4c279c770d18"
      },
      "source": [
        "df = df.assign(city = df[\"address\"].apply(get_city))\n",
        "df = df.assign(price_per_m2 = df.price/df.surface)\n",
        "df = df.assign(price_per_room = df.price/df.rooms)\n",
        "df"
      ],
      "execution_count": 4,
      "outputs": [
        {
          "output_type": "execute_result",
          "data": {
            "text/html": [
              "<div>\n",
              "<style scoped>\n",
              "    .dataframe tbody tr th:only-of-type {\n",
              "        vertical-align: middle;\n",
              "    }\n",
              "\n",
              "    .dataframe tbody tr th {\n",
              "        vertical-align: top;\n",
              "    }\n",
              "\n",
              "    .dataframe thead th {\n",
              "        text-align: right;\n",
              "    }\n",
              "</style>\n",
              "<table border=\"1\" class=\"dataframe\">\n",
              "  <thead>\n",
              "    <tr style=\"text-align: right;\">\n",
              "      <th></th>\n",
              "      <th>address</th>\n",
              "      <th>price</th>\n",
              "      <th>rooms</th>\n",
              "      <th>surface</th>\n",
              "      <th>website</th>\n",
              "      <th>city</th>\n",
              "      <th>price_per_m2</th>\n",
              "      <th>price_per_room</th>\n",
              "    </tr>\n",
              "  </thead>\n",
              "  <tbody>\n",
              "    <tr>\n",
              "      <th>0</th>\n",
              "      <td>Rue de Fer 26, 5000 Namur</td>\n",
              "      <td>400000.0</td>\n",
              "      <td>4.0</td>\n",
              "      <td>150</td>\n",
              "      <td>immoweb</td>\n",
              "      <td>Namur</td>\n",
              "      <td>2666.666667</td>\n",
              "      <td>100000.000000</td>\n",
              "    </tr>\n",
              "    <tr>\n",
              "      <th>2</th>\n",
              "      <td>Porte de Namur 25, Bruxelles</td>\n",
              "      <td>400000.0</td>\n",
              "      <td>3.0</td>\n",
              "      <td>120</td>\n",
              "      <td>immoweb</td>\n",
              "      <td>Bruxelles</td>\n",
              "      <td>3333.333333</td>\n",
              "      <td>133333.333333</td>\n",
              "    </tr>\n",
              "    <tr>\n",
              "      <th>3</th>\n",
              "      <td>Rue de L'Eglise 42, Charleroi</td>\n",
              "      <td>150000.0</td>\n",
              "      <td>5.0</td>\n",
              "      <td>150</td>\n",
              "      <td>immoweb</td>\n",
              "      <td>Charleroi</td>\n",
              "      <td>1000.000000</td>\n",
              "      <td>30000.000000</td>\n",
              "    </tr>\n",
              "    <tr>\n",
              "      <th>4</th>\n",
              "      <td>Rue Saint-ghislain 30, 6224 Fleurus</td>\n",
              "      <td>330000.0</td>\n",
              "      <td>5.0</td>\n",
              "      <td>320</td>\n",
              "      <td>immoweb</td>\n",
              "      <td>Fleurus</td>\n",
              "      <td>1031.250000</td>\n",
              "      <td>66000.000000</td>\n",
              "    </tr>\n",
              "    <tr>\n",
              "      <th>6</th>\n",
              "      <td>Rue de la Closière 20, Fleurus</td>\n",
              "      <td>230000.0</td>\n",
              "      <td>3.0</td>\n",
              "      <td>170</td>\n",
              "      <td>immoweb</td>\n",
              "      <td>Fleurus</td>\n",
              "      <td>1352.941176</td>\n",
              "      <td>76666.666667</td>\n",
              "    </tr>\n",
              "    <tr>\n",
              "      <th>10</th>\n",
              "      <td>Rue de Bruxelles 42, 5000 Namur</td>\n",
              "      <td>350000.0</td>\n",
              "      <td>4.0</td>\n",
              "      <td>200</td>\n",
              "      <td>immovlan</td>\n",
              "      <td>Namur</td>\n",
              "      <td>1750.000000</td>\n",
              "      <td>87500.000000</td>\n",
              "    </tr>\n",
              "    <tr>\n",
              "      <th>11</th>\n",
              "      <td>Rue de la Loi 50, Bruxelles</td>\n",
              "      <td>700000.0</td>\n",
              "      <td>3.0</td>\n",
              "      <td>220</td>\n",
              "      <td>immovlan</td>\n",
              "      <td>Bruxelles</td>\n",
              "      <td>3181.818182</td>\n",
              "      <td>233333.333333</td>\n",
              "    </tr>\n",
              "    <tr>\n",
              "      <th>12</th>\n",
              "      <td>Rue de la Loi 51, Bruxelles</td>\n",
              "      <td>280000.0</td>\n",
              "      <td>3.0</td>\n",
              "      <td>120</td>\n",
              "      <td>immoweb</td>\n",
              "      <td>Bruxelles</td>\n",
              "      <td>2333.333333</td>\n",
              "      <td>93333.333333</td>\n",
              "    </tr>\n",
              "    <tr>\n",
              "      <th>13</th>\n",
              "      <td>Rue de la Loi 52, Bruxelles</td>\n",
              "      <td>400000.0</td>\n",
              "      <td>4.0</td>\n",
              "      <td>150</td>\n",
              "      <td>immovlan</td>\n",
              "      <td>Bruxelles</td>\n",
              "      <td>2666.666667</td>\n",
              "      <td>100000.000000</td>\n",
              "    </tr>\n",
              "    <tr>\n",
              "      <th>14</th>\n",
              "      <td>Rue de la Loi 53, Bruxelles</td>\n",
              "      <td>480000.0</td>\n",
              "      <td>5.0</td>\n",
              "      <td>170</td>\n",
              "      <td>immovlan</td>\n",
              "      <td>Bruxelles</td>\n",
              "      <td>2823.529412</td>\n",
              "      <td>96000.000000</td>\n",
              "    </tr>\n",
              "    <tr>\n",
              "      <th>15</th>\n",
              "      <td>Rue de Fer 27, Namur</td>\n",
              "      <td>280000.0</td>\n",
              "      <td>3.0</td>\n",
              "      <td>140</td>\n",
              "      <td>immoweb</td>\n",
              "      <td>Namur</td>\n",
              "      <td>2000.000000</td>\n",
              "      <td>93333.333333</td>\n",
              "    </tr>\n",
              "    <tr>\n",
              "      <th>16</th>\n",
              "      <td>Rue de Fer 28, Namur</td>\n",
              "      <td>320000.0</td>\n",
              "      <td>4.0</td>\n",
              "      <td>160</td>\n",
              "      <td>immoweb</td>\n",
              "      <td>Namur</td>\n",
              "      <td>2000.000000</td>\n",
              "      <td>80000.000000</td>\n",
              "    </tr>\n",
              "    <tr>\n",
              "      <th>17</th>\n",
              "      <td>Rue de Fer 29, Namur</td>\n",
              "      <td>350000.0</td>\n",
              "      <td>5.0</td>\n",
              "      <td>180</td>\n",
              "      <td>immovlan</td>\n",
              "      <td>Namur</td>\n",
              "      <td>1944.444444</td>\n",
              "      <td>70000.000000</td>\n",
              "    </tr>\n",
              "  </tbody>\n",
              "</table>\n",
              "</div>"
            ],
            "text/plain": [
              "                                address     price  ...  price_per_m2  price_per_room\n",
              "0             Rue de Fer 26, 5000 Namur  400000.0  ...   2666.666667   100000.000000\n",
              "2          Porte de Namur 25, Bruxelles  400000.0  ...   3333.333333   133333.333333\n",
              "3         Rue de L'Eglise 42, Charleroi  150000.0  ...   1000.000000    30000.000000\n",
              "4   Rue Saint-ghislain 30, 6224 Fleurus  330000.0  ...   1031.250000    66000.000000\n",
              "6        Rue de la Closière 20, Fleurus  230000.0  ...   1352.941176    76666.666667\n",
              "10      Rue de Bruxelles 42, 5000 Namur  350000.0  ...   1750.000000    87500.000000\n",
              "11          Rue de la Loi 50, Bruxelles  700000.0  ...   3181.818182   233333.333333\n",
              "12          Rue de la Loi 51, Bruxelles  280000.0  ...   2333.333333    93333.333333\n",
              "13          Rue de la Loi 52, Bruxelles  400000.0  ...   2666.666667   100000.000000\n",
              "14          Rue de la Loi 53, Bruxelles  480000.0  ...   2823.529412    96000.000000\n",
              "15                 Rue de Fer 27, Namur  280000.0  ...   2000.000000    93333.333333\n",
              "16                 Rue de Fer 28, Namur  320000.0  ...   2000.000000    80000.000000\n",
              "17                 Rue de Fer 29, Namur  350000.0  ...   1944.444444    70000.000000\n",
              "\n",
              "[13 rows x 8 columns]"
            ]
          },
          "metadata": {
            "tags": []
          },
          "execution_count": 4
        }
      ]
    },
    {
      "cell_type": "code",
      "metadata": {
        "id": "120j9NbNMIQ2",
        "colab_type": "code",
        "colab": {
          "base_uri": "https://localhost:8080/",
          "height": 447
        },
        "outputId": "9d2c4786-0ec7-4306-ef9b-2df1a480981e"
      },
      "source": [
        "#Ou (idem)\n",
        "df[\"city\"] = df[\"address\"].apply(get_city)\n",
        "df[\"price_per_m2\"] = df.price/df.surface\n",
        "df[\"price_per_room\"] = df.price/df.rooms\n",
        "df"
      ],
      "execution_count": 5,
      "outputs": [
        {
          "output_type": "execute_result",
          "data": {
            "text/html": [
              "<div>\n",
              "<style scoped>\n",
              "    .dataframe tbody tr th:only-of-type {\n",
              "        vertical-align: middle;\n",
              "    }\n",
              "\n",
              "    .dataframe tbody tr th {\n",
              "        vertical-align: top;\n",
              "    }\n",
              "\n",
              "    .dataframe thead th {\n",
              "        text-align: right;\n",
              "    }\n",
              "</style>\n",
              "<table border=\"1\" class=\"dataframe\">\n",
              "  <thead>\n",
              "    <tr style=\"text-align: right;\">\n",
              "      <th></th>\n",
              "      <th>address</th>\n",
              "      <th>price</th>\n",
              "      <th>rooms</th>\n",
              "      <th>surface</th>\n",
              "      <th>website</th>\n",
              "      <th>city</th>\n",
              "      <th>price_per_m2</th>\n",
              "      <th>price_per_room</th>\n",
              "    </tr>\n",
              "  </thead>\n",
              "  <tbody>\n",
              "    <tr>\n",
              "      <th>0</th>\n",
              "      <td>Rue de Fer 26, 5000 Namur</td>\n",
              "      <td>400000.0</td>\n",
              "      <td>4.0</td>\n",
              "      <td>150</td>\n",
              "      <td>immoweb</td>\n",
              "      <td>Namur</td>\n",
              "      <td>2666.666667</td>\n",
              "      <td>100000.000000</td>\n",
              "    </tr>\n",
              "    <tr>\n",
              "      <th>2</th>\n",
              "      <td>Porte de Namur 25, Bruxelles</td>\n",
              "      <td>400000.0</td>\n",
              "      <td>3.0</td>\n",
              "      <td>120</td>\n",
              "      <td>immoweb</td>\n",
              "      <td>Bruxelles</td>\n",
              "      <td>3333.333333</td>\n",
              "      <td>133333.333333</td>\n",
              "    </tr>\n",
              "    <tr>\n",
              "      <th>3</th>\n",
              "      <td>Rue de L'Eglise 42, Charleroi</td>\n",
              "      <td>150000.0</td>\n",
              "      <td>5.0</td>\n",
              "      <td>150</td>\n",
              "      <td>immoweb</td>\n",
              "      <td>Charleroi</td>\n",
              "      <td>1000.000000</td>\n",
              "      <td>30000.000000</td>\n",
              "    </tr>\n",
              "    <tr>\n",
              "      <th>4</th>\n",
              "      <td>Rue Saint-ghislain 30, 6224 Fleurus</td>\n",
              "      <td>330000.0</td>\n",
              "      <td>5.0</td>\n",
              "      <td>320</td>\n",
              "      <td>immoweb</td>\n",
              "      <td>Fleurus</td>\n",
              "      <td>1031.250000</td>\n",
              "      <td>66000.000000</td>\n",
              "    </tr>\n",
              "    <tr>\n",
              "      <th>6</th>\n",
              "      <td>Rue de la Closière 20, Fleurus</td>\n",
              "      <td>230000.0</td>\n",
              "      <td>3.0</td>\n",
              "      <td>170</td>\n",
              "      <td>immoweb</td>\n",
              "      <td>Fleurus</td>\n",
              "      <td>1352.941176</td>\n",
              "      <td>76666.666667</td>\n",
              "    </tr>\n",
              "    <tr>\n",
              "      <th>10</th>\n",
              "      <td>Rue de Bruxelles 42, 5000 Namur</td>\n",
              "      <td>350000.0</td>\n",
              "      <td>4.0</td>\n",
              "      <td>200</td>\n",
              "      <td>immovlan</td>\n",
              "      <td>Namur</td>\n",
              "      <td>1750.000000</td>\n",
              "      <td>87500.000000</td>\n",
              "    </tr>\n",
              "    <tr>\n",
              "      <th>11</th>\n",
              "      <td>Rue de la Loi 50, Bruxelles</td>\n",
              "      <td>700000.0</td>\n",
              "      <td>3.0</td>\n",
              "      <td>220</td>\n",
              "      <td>immovlan</td>\n",
              "      <td>Bruxelles</td>\n",
              "      <td>3181.818182</td>\n",
              "      <td>233333.333333</td>\n",
              "    </tr>\n",
              "    <tr>\n",
              "      <th>12</th>\n",
              "      <td>Rue de la Loi 51, Bruxelles</td>\n",
              "      <td>280000.0</td>\n",
              "      <td>3.0</td>\n",
              "      <td>120</td>\n",
              "      <td>immoweb</td>\n",
              "      <td>Bruxelles</td>\n",
              "      <td>2333.333333</td>\n",
              "      <td>93333.333333</td>\n",
              "    </tr>\n",
              "    <tr>\n",
              "      <th>13</th>\n",
              "      <td>Rue de la Loi 52, Bruxelles</td>\n",
              "      <td>400000.0</td>\n",
              "      <td>4.0</td>\n",
              "      <td>150</td>\n",
              "      <td>immovlan</td>\n",
              "      <td>Bruxelles</td>\n",
              "      <td>2666.666667</td>\n",
              "      <td>100000.000000</td>\n",
              "    </tr>\n",
              "    <tr>\n",
              "      <th>14</th>\n",
              "      <td>Rue de la Loi 53, Bruxelles</td>\n",
              "      <td>480000.0</td>\n",
              "      <td>5.0</td>\n",
              "      <td>170</td>\n",
              "      <td>immovlan</td>\n",
              "      <td>Bruxelles</td>\n",
              "      <td>2823.529412</td>\n",
              "      <td>96000.000000</td>\n",
              "    </tr>\n",
              "    <tr>\n",
              "      <th>15</th>\n",
              "      <td>Rue de Fer 27, Namur</td>\n",
              "      <td>280000.0</td>\n",
              "      <td>3.0</td>\n",
              "      <td>140</td>\n",
              "      <td>immoweb</td>\n",
              "      <td>Namur</td>\n",
              "      <td>2000.000000</td>\n",
              "      <td>93333.333333</td>\n",
              "    </tr>\n",
              "    <tr>\n",
              "      <th>16</th>\n",
              "      <td>Rue de Fer 28, Namur</td>\n",
              "      <td>320000.0</td>\n",
              "      <td>4.0</td>\n",
              "      <td>160</td>\n",
              "      <td>immoweb</td>\n",
              "      <td>Namur</td>\n",
              "      <td>2000.000000</td>\n",
              "      <td>80000.000000</td>\n",
              "    </tr>\n",
              "    <tr>\n",
              "      <th>17</th>\n",
              "      <td>Rue de Fer 29, Namur</td>\n",
              "      <td>350000.0</td>\n",
              "      <td>5.0</td>\n",
              "      <td>180</td>\n",
              "      <td>immovlan</td>\n",
              "      <td>Namur</td>\n",
              "      <td>1944.444444</td>\n",
              "      <td>70000.000000</td>\n",
              "    </tr>\n",
              "  </tbody>\n",
              "</table>\n",
              "</div>"
            ],
            "text/plain": [
              "                                address     price  ...  price_per_m2  price_per_room\n",
              "0             Rue de Fer 26, 5000 Namur  400000.0  ...   2666.666667   100000.000000\n",
              "2          Porte de Namur 25, Bruxelles  400000.0  ...   3333.333333   133333.333333\n",
              "3         Rue de L'Eglise 42, Charleroi  150000.0  ...   1000.000000    30000.000000\n",
              "4   Rue Saint-ghislain 30, 6224 Fleurus  330000.0  ...   1031.250000    66000.000000\n",
              "6        Rue de la Closière 20, Fleurus  230000.0  ...   1352.941176    76666.666667\n",
              "10      Rue de Bruxelles 42, 5000 Namur  350000.0  ...   1750.000000    87500.000000\n",
              "11          Rue de la Loi 50, Bruxelles  700000.0  ...   3181.818182   233333.333333\n",
              "12          Rue de la Loi 51, Bruxelles  280000.0  ...   2333.333333    93333.333333\n",
              "13          Rue de la Loi 52, Bruxelles  400000.0  ...   2666.666667   100000.000000\n",
              "14          Rue de la Loi 53, Bruxelles  480000.0  ...   2823.529412    96000.000000\n",
              "15                 Rue de Fer 27, Namur  280000.0  ...   2000.000000    93333.333333\n",
              "16                 Rue de Fer 28, Namur  320000.0  ...   2000.000000    80000.000000\n",
              "17                 Rue de Fer 29, Namur  350000.0  ...   1944.444444    70000.000000\n",
              "\n",
              "[13 rows x 8 columns]"
            ]
          },
          "metadata": {
            "tags": []
          },
          "execution_count": 5
        }
      ]
    },
    {
      "cell_type": "code",
      "metadata": {
        "id": "siHvkjWKlVDI",
        "colab_type": "code",
        "colab": {
          "base_uri": "https://localhost:8080/",
          "height": 141
        },
        "outputId": "0a154ab5-5011-4714-d4d3-0d5ec6296c86"
      },
      "source": [
        "df.groupby(\"website\").mean()"
      ],
      "execution_count": 6,
      "outputs": [
        {
          "output_type": "execute_result",
          "data": {
            "text/html": [
              "<div>\n",
              "<style scoped>\n",
              "    .dataframe tbody tr th:only-of-type {\n",
              "        vertical-align: middle;\n",
              "    }\n",
              "\n",
              "    .dataframe tbody tr th {\n",
              "        vertical-align: top;\n",
              "    }\n",
              "\n",
              "    .dataframe thead th {\n",
              "        text-align: right;\n",
              "    }\n",
              "</style>\n",
              "<table border=\"1\" class=\"dataframe\">\n",
              "  <thead>\n",
              "    <tr style=\"text-align: right;\">\n",
              "      <th></th>\n",
              "      <th>price</th>\n",
              "      <th>rooms</th>\n",
              "      <th>surface</th>\n",
              "      <th>price_per_m2</th>\n",
              "      <th>price_per_room</th>\n",
              "    </tr>\n",
              "    <tr>\n",
              "      <th>website</th>\n",
              "      <th></th>\n",
              "      <th></th>\n",
              "      <th></th>\n",
              "      <th></th>\n",
              "      <th></th>\n",
              "    </tr>\n",
              "  </thead>\n",
              "  <tbody>\n",
              "    <tr>\n",
              "      <th>immovlan</th>\n",
              "      <td>456000.0</td>\n",
              "      <td>4.20</td>\n",
              "      <td>184.00</td>\n",
              "      <td>2473.291741</td>\n",
              "      <td>117366.666667</td>\n",
              "    </tr>\n",
              "    <tr>\n",
              "      <th>immoweb</th>\n",
              "      <td>298750.0</td>\n",
              "      <td>3.75</td>\n",
              "      <td>166.25</td>\n",
              "      <td>1964.690564</td>\n",
              "      <td>84083.333333</td>\n",
              "    </tr>\n",
              "  </tbody>\n",
              "</table>\n",
              "</div>"
            ],
            "text/plain": [
              "             price  rooms  surface  price_per_m2  price_per_room\n",
              "website                                                         \n",
              "immovlan  456000.0   4.20   184.00   2473.291741   117366.666667\n",
              "immoweb   298750.0   3.75   166.25   1964.690564    84083.333333"
            ]
          },
          "metadata": {
            "tags": []
          },
          "execution_count": 6
        }
      ]
    },
    {
      "cell_type": "markdown",
      "metadata": {
        "id": "CZaA_8dTlgHw",
        "colab_type": "text"
      },
      "source": [
        "Le prix/m2 et le prix/pièce est en moyenne plus élevé sur immovlan."
      ]
    },
    {
      "cell_type": "code",
      "metadata": {
        "id": "VXTedsTKlsTz",
        "colab_type": "code",
        "colab": {
          "base_uri": "https://localhost:8080/",
          "height": 202
        },
        "outputId": "7b82b9a7-7ec7-490f-fb77-69fafd50e27b"
      },
      "source": [
        "df.groupby(\"city\").mean()"
      ],
      "execution_count": 7,
      "outputs": [
        {
          "output_type": "execute_result",
          "data": {
            "text/html": [
              "<div>\n",
              "<style scoped>\n",
              "    .dataframe tbody tr th:only-of-type {\n",
              "        vertical-align: middle;\n",
              "    }\n",
              "\n",
              "    .dataframe tbody tr th {\n",
              "        vertical-align: top;\n",
              "    }\n",
              "\n",
              "    .dataframe thead th {\n",
              "        text-align: right;\n",
              "    }\n",
              "</style>\n",
              "<table border=\"1\" class=\"dataframe\">\n",
              "  <thead>\n",
              "    <tr style=\"text-align: right;\">\n",
              "      <th></th>\n",
              "      <th>price</th>\n",
              "      <th>rooms</th>\n",
              "      <th>surface</th>\n",
              "      <th>price_per_m2</th>\n",
              "      <th>price_per_room</th>\n",
              "    </tr>\n",
              "    <tr>\n",
              "      <th>city</th>\n",
              "      <th></th>\n",
              "      <th></th>\n",
              "      <th></th>\n",
              "      <th></th>\n",
              "      <th></th>\n",
              "    </tr>\n",
              "  </thead>\n",
              "  <tbody>\n",
              "    <tr>\n",
              "      <th>Bruxelles</th>\n",
              "      <td>452000.0</td>\n",
              "      <td>3.6</td>\n",
              "      <td>156</td>\n",
              "      <td>2867.736185</td>\n",
              "      <td>131200.000000</td>\n",
              "    </tr>\n",
              "    <tr>\n",
              "      <th>Charleroi</th>\n",
              "      <td>150000.0</td>\n",
              "      <td>5.0</td>\n",
              "      <td>150</td>\n",
              "      <td>1000.000000</td>\n",
              "      <td>30000.000000</td>\n",
              "    </tr>\n",
              "    <tr>\n",
              "      <th>Fleurus</th>\n",
              "      <td>280000.0</td>\n",
              "      <td>4.0</td>\n",
              "      <td>245</td>\n",
              "      <td>1192.095588</td>\n",
              "      <td>71333.333333</td>\n",
              "    </tr>\n",
              "    <tr>\n",
              "      <th>Namur</th>\n",
              "      <td>340000.0</td>\n",
              "      <td>4.0</td>\n",
              "      <td>166</td>\n",
              "      <td>2072.222222</td>\n",
              "      <td>86166.666667</td>\n",
              "    </tr>\n",
              "  </tbody>\n",
              "</table>\n",
              "</div>"
            ],
            "text/plain": [
              "              price  rooms  surface  price_per_m2  price_per_room\n",
              "city                                                             \n",
              "Bruxelles  452000.0    3.6      156   2867.736185   131200.000000\n",
              "Charleroi  150000.0    5.0      150   1000.000000    30000.000000\n",
              "Fleurus    280000.0    4.0      245   1192.095588    71333.333333\n",
              "Namur      340000.0    4.0      166   2072.222222    86166.666667"
            ]
          },
          "metadata": {
            "tags": []
          },
          "execution_count": 7
        }
      ]
    },
    {
      "cell_type": "markdown",
      "metadata": {
        "id": "NMy1CDKCmA_F",
        "colab_type": "text"
      },
      "source": [
        "Quelques observations:\n",
        "* Bruxelles serait la ville la plus chère\n",
        "* Charleroi la ville la moins chère\n",
        "* Les maisons sont généralement plus grandes à Fleurus, mais auraient peu de pièces (très grandes du coup)\n",
        "* Les maisons de Fleurus sont plus chères qu'à Charleroi, mais le prix au m2 est presque le même\n",
        "* Les maisons de Charleroi seraient petites mais avec beaucoup de pièces (toutes petites du coup)"
      ]
    },
    {
      "cell_type": "markdown",
      "metadata": {
        "id": "QtoIJoNFm964",
        "colab_type": "text"
      },
      "source": [
        "# Exploration selon le type de caractéristiques: variables continues et catégorielles\n",
        "\n",
        "On peut identifier deux types de variables: des variables **continues** (tel que le prix ou la surface), et des variables **catégorielles**, tel que la ville ou la plateforme.\n",
        "\n",
        "* Les variables continues permettent d'extraire toutes sortes de statistiques, et peuvent être comparées entre elles, par exemple par une analyse de corrélation ou une comparaison d'histogrammes, ou par des modèles prédictifs (e.g.: régression linéaire).\n",
        "\n",
        "* Les variables catégorielles permettent quand à elles une analyse comparative de catégories (une analyse factorielle), par comparaison des statistiques extraites sur les variables continues pour chaque catégorie.\n",
        "\n",
        "Certaines variables peuvent également être considérées de plusieurs manières: le nombre de pièces est une variable **discrète**. Etant donné que le nombre de valeurs différentes est très limité, on pourrait la considérer comme une variable catégorielle (plus spécifiquement comme une variable **ordinale**, i.e. une échelle).\n",
        "\n",
        "A l'inverse, l'adresse pourrait être considérée comme une variable continue si on la traduisait en coordonnées GPS, ou en une distance (à vol d'oiseau ou par la route) à un lieu de référence (distance au magasin le plus proche, l'autoroute la plus proche, à la capitale, à la frontière, etc.)."
      ]
    },
    {
      "cell_type": "markdown",
      "metadata": {
        "id": "sABaHctp1ogg",
        "colab_type": "text"
      },
      "source": [
        "## Corrélations entre les variables continues"
      ]
    },
    {
      "cell_type": "markdown",
      "metadata": {
        "id": "HqlFcFT0CJFL",
        "colab_type": "text"
      },
      "source": [
        "La méthode .corr() permet de calculer les corrélations 2 par 2 pour toutes les variables numériques."
      ]
    },
    {
      "cell_type": "code",
      "metadata": {
        "id": "eAMhg_OQ1zR2",
        "colab_type": "code",
        "colab": {
          "base_uri": "https://localhost:8080/",
          "height": 202
        },
        "outputId": "6d4a4316-07e8-428f-defb-9ee84a3d13bc"
      },
      "source": [
        "df.corr()"
      ],
      "execution_count": 8,
      "outputs": [
        {
          "output_type": "execute_result",
          "data": {
            "text/html": [
              "<div>\n",
              "<style scoped>\n",
              "    .dataframe tbody tr th:only-of-type {\n",
              "        vertical-align: middle;\n",
              "    }\n",
              "\n",
              "    .dataframe tbody tr th {\n",
              "        vertical-align: top;\n",
              "    }\n",
              "\n",
              "    .dataframe thead th {\n",
              "        text-align: right;\n",
              "    }\n",
              "</style>\n",
              "<table border=\"1\" class=\"dataframe\">\n",
              "  <thead>\n",
              "    <tr style=\"text-align: right;\">\n",
              "      <th></th>\n",
              "      <th>price</th>\n",
              "      <th>rooms</th>\n",
              "      <th>surface</th>\n",
              "      <th>price_per_m2</th>\n",
              "      <th>price_per_room</th>\n",
              "    </tr>\n",
              "  </thead>\n",
              "  <tbody>\n",
              "    <tr>\n",
              "      <th>price</th>\n",
              "      <td>1.000000</td>\n",
              "      <td>-0.160783</td>\n",
              "      <td>0.233623</td>\n",
              "      <td>0.750157</td>\n",
              "      <td>0.890961</td>\n",
              "    </tr>\n",
              "    <tr>\n",
              "      <th>rooms</th>\n",
              "      <td>-0.160783</td>\n",
              "      <td>1.000000</td>\n",
              "      <td>0.410615</td>\n",
              "      <td>-0.411927</td>\n",
              "      <td>-0.553127</td>\n",
              "    </tr>\n",
              "    <tr>\n",
              "      <th>surface</th>\n",
              "      <td>0.233623</td>\n",
              "      <td>0.410615</td>\n",
              "      <td>1.000000</td>\n",
              "      <td>-0.397963</td>\n",
              "      <td>0.049693</td>\n",
              "    </tr>\n",
              "    <tr>\n",
              "      <th>price_per_m2</th>\n",
              "      <td>0.750157</td>\n",
              "      <td>-0.411927</td>\n",
              "      <td>-0.397963</td>\n",
              "      <td>1.000000</td>\n",
              "      <td>0.753682</td>\n",
              "    </tr>\n",
              "    <tr>\n",
              "      <th>price_per_room</th>\n",
              "      <td>0.890961</td>\n",
              "      <td>-0.553127</td>\n",
              "      <td>0.049693</td>\n",
              "      <td>0.753682</td>\n",
              "      <td>1.000000</td>\n",
              "    </tr>\n",
              "  </tbody>\n",
              "</table>\n",
              "</div>"
            ],
            "text/plain": [
              "                   price     rooms   surface  price_per_m2  price_per_room\n",
              "price           1.000000 -0.160783  0.233623      0.750157        0.890961\n",
              "rooms          -0.160783  1.000000  0.410615     -0.411927       -0.553127\n",
              "surface         0.233623  0.410615  1.000000     -0.397963        0.049693\n",
              "price_per_m2    0.750157 -0.411927 -0.397963      1.000000        0.753682\n",
              "price_per_room  0.890961 -0.553127  0.049693      0.753682        1.000000"
            ]
          },
          "metadata": {
            "tags": []
          },
          "execution_count": 8
        }
      ]
    },
    {
      "cell_type": "markdown",
      "metadata": {
        "id": "jQd4mlrb12S6",
        "colab_type": "text"
      },
      "source": [
        "Les corrélations entre les variables continues peuvent être fortement influencées par d'autres facteurs (**catégoriels** par exemple). Par exemple, on s'attend à ce que le prix augmente avec la surface pour des maisons donc les autres caractéristiques sont semblables, mais il est évident qu'une maison à la capitale est généralement plus chère qu'une maison de la même surface à la campagne."
      ]
    },
    {
      "cell_type": "code",
      "metadata": {
        "id": "V_XUtX_Iy2Gt",
        "colab_type": "code",
        "colab": {
          "base_uri": "https://localhost:8080/",
          "height": 202
        },
        "outputId": "e81b342c-c98f-4d41-e844-41248b5d3921"
      },
      "source": [
        "bxldf = df[df.city == \"Bruxelles\"]\n",
        "bxldf"
      ],
      "execution_count": 9,
      "outputs": [
        {
          "output_type": "execute_result",
          "data": {
            "text/html": [
              "<div>\n",
              "<style scoped>\n",
              "    .dataframe tbody tr th:only-of-type {\n",
              "        vertical-align: middle;\n",
              "    }\n",
              "\n",
              "    .dataframe tbody tr th {\n",
              "        vertical-align: top;\n",
              "    }\n",
              "\n",
              "    .dataframe thead th {\n",
              "        text-align: right;\n",
              "    }\n",
              "</style>\n",
              "<table border=\"1\" class=\"dataframe\">\n",
              "  <thead>\n",
              "    <tr style=\"text-align: right;\">\n",
              "      <th></th>\n",
              "      <th>address</th>\n",
              "      <th>price</th>\n",
              "      <th>rooms</th>\n",
              "      <th>surface</th>\n",
              "      <th>website</th>\n",
              "      <th>city</th>\n",
              "      <th>price_per_m2</th>\n",
              "      <th>price_per_room</th>\n",
              "    </tr>\n",
              "  </thead>\n",
              "  <tbody>\n",
              "    <tr>\n",
              "      <th>2</th>\n",
              "      <td>Porte de Namur 25, Bruxelles</td>\n",
              "      <td>400000.0</td>\n",
              "      <td>3.0</td>\n",
              "      <td>120</td>\n",
              "      <td>immoweb</td>\n",
              "      <td>Bruxelles</td>\n",
              "      <td>3333.333333</td>\n",
              "      <td>133333.333333</td>\n",
              "    </tr>\n",
              "    <tr>\n",
              "      <th>11</th>\n",
              "      <td>Rue de la Loi 50, Bruxelles</td>\n",
              "      <td>700000.0</td>\n",
              "      <td>3.0</td>\n",
              "      <td>220</td>\n",
              "      <td>immovlan</td>\n",
              "      <td>Bruxelles</td>\n",
              "      <td>3181.818182</td>\n",
              "      <td>233333.333333</td>\n",
              "    </tr>\n",
              "    <tr>\n",
              "      <th>12</th>\n",
              "      <td>Rue de la Loi 51, Bruxelles</td>\n",
              "      <td>280000.0</td>\n",
              "      <td>3.0</td>\n",
              "      <td>120</td>\n",
              "      <td>immoweb</td>\n",
              "      <td>Bruxelles</td>\n",
              "      <td>2333.333333</td>\n",
              "      <td>93333.333333</td>\n",
              "    </tr>\n",
              "    <tr>\n",
              "      <th>13</th>\n",
              "      <td>Rue de la Loi 52, Bruxelles</td>\n",
              "      <td>400000.0</td>\n",
              "      <td>4.0</td>\n",
              "      <td>150</td>\n",
              "      <td>immovlan</td>\n",
              "      <td>Bruxelles</td>\n",
              "      <td>2666.666667</td>\n",
              "      <td>100000.000000</td>\n",
              "    </tr>\n",
              "    <tr>\n",
              "      <th>14</th>\n",
              "      <td>Rue de la Loi 53, Bruxelles</td>\n",
              "      <td>480000.0</td>\n",
              "      <td>5.0</td>\n",
              "      <td>170</td>\n",
              "      <td>immovlan</td>\n",
              "      <td>Bruxelles</td>\n",
              "      <td>2823.529412</td>\n",
              "      <td>96000.000000</td>\n",
              "    </tr>\n",
              "  </tbody>\n",
              "</table>\n",
              "</div>"
            ],
            "text/plain": [
              "                         address     price  ...  price_per_m2  price_per_room\n",
              "2   Porte de Namur 25, Bruxelles  400000.0  ...   3333.333333   133333.333333\n",
              "11   Rue de la Loi 50, Bruxelles  700000.0  ...   3181.818182   233333.333333\n",
              "12   Rue de la Loi 51, Bruxelles  280000.0  ...   2333.333333    93333.333333\n",
              "13   Rue de la Loi 52, Bruxelles  400000.0  ...   2666.666667   100000.000000\n",
              "14   Rue de la Loi 53, Bruxelles  480000.0  ...   2823.529412    96000.000000\n",
              "\n",
              "[5 rows x 8 columns]"
            ]
          },
          "metadata": {
            "tags": []
          },
          "execution_count": 9
        }
      ]
    },
    {
      "cell_type": "code",
      "metadata": {
        "id": "GGjgU3Cg0-2Y",
        "colab_type": "code",
        "colab": {
          "base_uri": "https://localhost:8080/",
          "height": 202
        },
        "outputId": "ab4ec16d-5715-4a0c-ae9b-ca4133d73f3c"
      },
      "source": [
        "bxldf.corr()"
      ],
      "execution_count": 10,
      "outputs": [
        {
          "output_type": "execute_result",
          "data": {
            "text/html": [
              "<div>\n",
              "<style scoped>\n",
              "    .dataframe tbody tr th:only-of-type {\n",
              "        vertical-align: middle;\n",
              "    }\n",
              "\n",
              "    .dataframe tbody tr th {\n",
              "        vertical-align: top;\n",
              "    }\n",
              "\n",
              "    .dataframe thead th {\n",
              "        text-align: right;\n",
              "    }\n",
              "</style>\n",
              "<table border=\"1\" class=\"dataframe\">\n",
              "  <thead>\n",
              "    <tr style=\"text-align: right;\">\n",
              "      <th></th>\n",
              "      <th>price</th>\n",
              "      <th>rooms</th>\n",
              "      <th>surface</th>\n",
              "      <th>price_per_m2</th>\n",
              "      <th>price_per_room</th>\n",
              "    </tr>\n",
              "  </thead>\n",
              "  <tbody>\n",
              "    <tr>\n",
              "      <th>price</th>\n",
              "      <td>1.000000</td>\n",
              "      <td>0.007169</td>\n",
              "      <td>0.949677</td>\n",
              "      <td>0.618822</td>\n",
              "      <td>0.874520</td>\n",
              "    </tr>\n",
              "    <tr>\n",
              "      <th>rooms</th>\n",
              "      <td>0.007169</td>\n",
              "      <td>1.000000</td>\n",
              "      <td>0.147841</td>\n",
              "      <td>-0.201748</td>\n",
              "      <td>-0.478613</td>\n",
              "    </tr>\n",
              "    <tr>\n",
              "      <th>surface</th>\n",
              "      <td>0.949677</td>\n",
              "      <td>0.147841</td>\n",
              "      <td>1.000000</td>\n",
              "      <td>0.347179</td>\n",
              "      <td>0.761512</td>\n",
              "    </tr>\n",
              "    <tr>\n",
              "      <th>price_per_m2</th>\n",
              "      <td>0.618822</td>\n",
              "      <td>-0.201748</td>\n",
              "      <td>0.347179</td>\n",
              "      <td>1.000000</td>\n",
              "      <td>0.642289</td>\n",
              "    </tr>\n",
              "    <tr>\n",
              "      <th>price_per_room</th>\n",
              "      <td>0.874520</td>\n",
              "      <td>-0.478613</td>\n",
              "      <td>0.761512</td>\n",
              "      <td>0.642289</td>\n",
              "      <td>1.000000</td>\n",
              "    </tr>\n",
              "  </tbody>\n",
              "</table>\n",
              "</div>"
            ],
            "text/plain": [
              "                   price     rooms   surface  price_per_m2  price_per_room\n",
              "price           1.000000  0.007169  0.949677      0.618822        0.874520\n",
              "rooms           0.007169  1.000000  0.147841     -0.201748       -0.478613\n",
              "surface         0.949677  0.147841  1.000000      0.347179        0.761512\n",
              "price_per_m2    0.618822 -0.201748  0.347179      1.000000        0.642289\n",
              "price_per_room  0.874520 -0.478613  0.761512      0.642289        1.000000"
            ]
          },
          "metadata": {
            "tags": []
          },
          "execution_count": 10
        }
      ]
    },
    {
      "cell_type": "markdown",
      "metadata": {
        "id": "w_uqhLeG35QJ",
        "colab_type": "text"
      },
      "source": [
        "Si on n'analyse que les maisons Bruxelloises, on constate une corrélation forte entre la surface et le prix."
      ]
    },
    {
      "cell_type": "markdown",
      "metadata": {
        "id": "2F5kVGQG1dQT",
        "colab_type": "text"
      },
      "source": [
        "## Comparaison de catégories: maisons par nombre de pièces"
      ]
    },
    {
      "cell_type": "code",
      "metadata": {
        "id": "W7QQ8Pm_qgOh",
        "colab_type": "code",
        "colab": {
          "base_uri": "https://localhost:8080/",
          "height": 171
        },
        "outputId": "d24b1db8-a01f-440f-db0c-1b08a0aa7a66"
      },
      "source": [
        "df.groupby(\"rooms\").mean()"
      ],
      "execution_count": 11,
      "outputs": [
        {
          "output_type": "execute_result",
          "data": {
            "text/html": [
              "<div>\n",
              "<style scoped>\n",
              "    .dataframe tbody tr th:only-of-type {\n",
              "        vertical-align: middle;\n",
              "    }\n",
              "\n",
              "    .dataframe tbody tr th {\n",
              "        vertical-align: top;\n",
              "    }\n",
              "\n",
              "    .dataframe thead th {\n",
              "        text-align: right;\n",
              "    }\n",
              "</style>\n",
              "<table border=\"1\" class=\"dataframe\">\n",
              "  <thead>\n",
              "    <tr style=\"text-align: right;\">\n",
              "      <th></th>\n",
              "      <th>price</th>\n",
              "      <th>surface</th>\n",
              "      <th>price_per_m2</th>\n",
              "      <th>price_per_room</th>\n",
              "    </tr>\n",
              "    <tr>\n",
              "      <th>rooms</th>\n",
              "      <th></th>\n",
              "      <th></th>\n",
              "      <th></th>\n",
              "      <th></th>\n",
              "    </tr>\n",
              "  </thead>\n",
              "  <tbody>\n",
              "    <tr>\n",
              "      <th>3.0</th>\n",
              "      <td>378000.0</td>\n",
              "      <td>154</td>\n",
              "      <td>2440.285205</td>\n",
              "      <td>126000.0</td>\n",
              "    </tr>\n",
              "    <tr>\n",
              "      <th>4.0</th>\n",
              "      <td>367500.0</td>\n",
              "      <td>165</td>\n",
              "      <td>2270.833333</td>\n",
              "      <td>91875.0</td>\n",
              "    </tr>\n",
              "    <tr>\n",
              "      <th>5.0</th>\n",
              "      <td>327500.0</td>\n",
              "      <td>205</td>\n",
              "      <td>1699.805964</td>\n",
              "      <td>65500.0</td>\n",
              "    </tr>\n",
              "  </tbody>\n",
              "</table>\n",
              "</div>"
            ],
            "text/plain": [
              "          price  surface  price_per_m2  price_per_room\n",
              "rooms                                                 \n",
              "3.0    378000.0      154   2440.285205        126000.0\n",
              "4.0    367500.0      165   2270.833333         91875.0\n",
              "5.0    327500.0      205   1699.805964         65500.0"
            ]
          },
          "metadata": {
            "tags": []
          },
          "execution_count": 11
        }
      ]
    },
    {
      "cell_type": "markdown",
      "metadata": {
        "id": "qhmyYJupq-C3",
        "colab_type": "text"
      },
      "source": [
        "* En l'occurence, on remarque étrangement que le prix des maisons semble diminuer, et que les maisons à 5 pièces sont beaucoup moins chères."
      ]
    },
    {
      "cell_type": "code",
      "metadata": {
        "id": "pz8qPP8vs5mY",
        "colab_type": "code",
        "colab": {
          "base_uri": "https://localhost:8080/",
          "height": 171
        },
        "outputId": "3a65fcfa-962f-42c0-83b7-234d26e59191"
      },
      "source": [
        "df[df.rooms == 5]"
      ],
      "execution_count": 12,
      "outputs": [
        {
          "output_type": "execute_result",
          "data": {
            "text/html": [
              "<div>\n",
              "<style scoped>\n",
              "    .dataframe tbody tr th:only-of-type {\n",
              "        vertical-align: middle;\n",
              "    }\n",
              "\n",
              "    .dataframe tbody tr th {\n",
              "        vertical-align: top;\n",
              "    }\n",
              "\n",
              "    .dataframe thead th {\n",
              "        text-align: right;\n",
              "    }\n",
              "</style>\n",
              "<table border=\"1\" class=\"dataframe\">\n",
              "  <thead>\n",
              "    <tr style=\"text-align: right;\">\n",
              "      <th></th>\n",
              "      <th>address</th>\n",
              "      <th>price</th>\n",
              "      <th>rooms</th>\n",
              "      <th>surface</th>\n",
              "      <th>website</th>\n",
              "      <th>city</th>\n",
              "      <th>price_per_m2</th>\n",
              "      <th>price_per_room</th>\n",
              "    </tr>\n",
              "  </thead>\n",
              "  <tbody>\n",
              "    <tr>\n",
              "      <th>3</th>\n",
              "      <td>Rue de L'Eglise 42, Charleroi</td>\n",
              "      <td>150000.0</td>\n",
              "      <td>5.0</td>\n",
              "      <td>150</td>\n",
              "      <td>immoweb</td>\n",
              "      <td>Charleroi</td>\n",
              "      <td>1000.000000</td>\n",
              "      <td>30000.0</td>\n",
              "    </tr>\n",
              "    <tr>\n",
              "      <th>4</th>\n",
              "      <td>Rue Saint-ghislain 30, 6224 Fleurus</td>\n",
              "      <td>330000.0</td>\n",
              "      <td>5.0</td>\n",
              "      <td>320</td>\n",
              "      <td>immoweb</td>\n",
              "      <td>Fleurus</td>\n",
              "      <td>1031.250000</td>\n",
              "      <td>66000.0</td>\n",
              "    </tr>\n",
              "    <tr>\n",
              "      <th>14</th>\n",
              "      <td>Rue de la Loi 53, Bruxelles</td>\n",
              "      <td>480000.0</td>\n",
              "      <td>5.0</td>\n",
              "      <td>170</td>\n",
              "      <td>immovlan</td>\n",
              "      <td>Bruxelles</td>\n",
              "      <td>2823.529412</td>\n",
              "      <td>96000.0</td>\n",
              "    </tr>\n",
              "    <tr>\n",
              "      <th>17</th>\n",
              "      <td>Rue de Fer 29, Namur</td>\n",
              "      <td>350000.0</td>\n",
              "      <td>5.0</td>\n",
              "      <td>180</td>\n",
              "      <td>immovlan</td>\n",
              "      <td>Namur</td>\n",
              "      <td>1944.444444</td>\n",
              "      <td>70000.0</td>\n",
              "    </tr>\n",
              "  </tbody>\n",
              "</table>\n",
              "</div>"
            ],
            "text/plain": [
              "                                address     price  ...  price_per_m2  price_per_room\n",
              "3         Rue de L'Eglise 42, Charleroi  150000.0  ...   1000.000000         30000.0\n",
              "4   Rue Saint-ghislain 30, 6224 Fleurus  330000.0  ...   1031.250000         66000.0\n",
              "14          Rue de la Loi 53, Bruxelles  480000.0  ...   2823.529412         96000.0\n",
              "17                 Rue de Fer 29, Namur  350000.0  ...   1944.444444         70000.0\n",
              "\n",
              "[4 rows x 8 columns]"
            ]
          },
          "metadata": {
            "tags": []
          },
          "execution_count": 12
        }
      ]
    },
    {
      "cell_type": "markdown",
      "metadata": {
        "id": "mW2k4mbjJKXg",
        "colab_type": "text"
      },
      "source": [
        "On remarque que ces résultats sont principalement dus à une maison particulière, celle de Charleroi: le prix par nombre de chambres est anormalement bas, en comparaison à toutes les autres maisons du dataset. Nous verrons plus loin comment gérer les données inhabituelles"
      ]
    },
    {
      "cell_type": "markdown",
      "metadata": {
        "id": "sMx3V1ofPbTB",
        "colab_type": "text"
      },
      "source": [
        "## Comparaison de catégories multiples"
      ]
    },
    {
      "cell_type": "code",
      "metadata": {
        "id": "ztj9hxDiMQL9",
        "colab_type": "code",
        "colab": {
          "base_uri": "https://localhost:8080/",
          "height": 171
        },
        "outputId": "7a506685-c792-4217-906c-474cbfd06a12"
      },
      "source": [
        "cat1 = \"city\"\n",
        "cat2 = \"rooms\"\n",
        "#cat2 = \"website\"\n",
        "count_analysis = df.groupby([cat1,cat2])[\"price\"].count().unstack(fill_value=0).transpose()\n",
        "count_analysis"
      ],
      "execution_count": 13,
      "outputs": [
        {
          "output_type": "execute_result",
          "data": {
            "text/html": [
              "<div>\n",
              "<style scoped>\n",
              "    .dataframe tbody tr th:only-of-type {\n",
              "        vertical-align: middle;\n",
              "    }\n",
              "\n",
              "    .dataframe tbody tr th {\n",
              "        vertical-align: top;\n",
              "    }\n",
              "\n",
              "    .dataframe thead th {\n",
              "        text-align: right;\n",
              "    }\n",
              "</style>\n",
              "<table border=\"1\" class=\"dataframe\">\n",
              "  <thead>\n",
              "    <tr style=\"text-align: right;\">\n",
              "      <th>city</th>\n",
              "      <th>Bruxelles</th>\n",
              "      <th>Charleroi</th>\n",
              "      <th>Fleurus</th>\n",
              "      <th>Namur</th>\n",
              "    </tr>\n",
              "    <tr>\n",
              "      <th>rooms</th>\n",
              "      <th></th>\n",
              "      <th></th>\n",
              "      <th></th>\n",
              "      <th></th>\n",
              "    </tr>\n",
              "  </thead>\n",
              "  <tbody>\n",
              "    <tr>\n",
              "      <th>3.0</th>\n",
              "      <td>3</td>\n",
              "      <td>0</td>\n",
              "      <td>1</td>\n",
              "      <td>1</td>\n",
              "    </tr>\n",
              "    <tr>\n",
              "      <th>4.0</th>\n",
              "      <td>1</td>\n",
              "      <td>0</td>\n",
              "      <td>0</td>\n",
              "      <td>3</td>\n",
              "    </tr>\n",
              "    <tr>\n",
              "      <th>5.0</th>\n",
              "      <td>1</td>\n",
              "      <td>1</td>\n",
              "      <td>1</td>\n",
              "      <td>1</td>\n",
              "    </tr>\n",
              "  </tbody>\n",
              "</table>\n",
              "</div>"
            ],
            "text/plain": [
              "city   Bruxelles  Charleroi  Fleurus  Namur\n",
              "rooms                                      \n",
              "3.0            3          0        1      1\n",
              "4.0            1          0        0      3\n",
              "5.0            1          1        1      1"
            ]
          },
          "metadata": {
            "tags": []
          },
          "execution_count": 13
        }
      ]
    },
    {
      "cell_type": "code",
      "metadata": {
        "id": "H2spQ_K5RXlf",
        "colab_type": "code",
        "colab": {
          "base_uri": "https://localhost:8080/",
          "height": 171
        },
        "outputId": "77fdfcf7-cf72-4b0f-c20e-1d3d8d3f8ca0"
      },
      "source": [
        "price_analysis = df.groupby([cat1,cat2])[\"price\"].mean().unstack(fill_value=0).transpose()\n",
        "price_analysis"
      ],
      "execution_count": 14,
      "outputs": [
        {
          "output_type": "execute_result",
          "data": {
            "text/html": [
              "<div>\n",
              "<style scoped>\n",
              "    .dataframe tbody tr th:only-of-type {\n",
              "        vertical-align: middle;\n",
              "    }\n",
              "\n",
              "    .dataframe tbody tr th {\n",
              "        vertical-align: top;\n",
              "    }\n",
              "\n",
              "    .dataframe thead th {\n",
              "        text-align: right;\n",
              "    }\n",
              "</style>\n",
              "<table border=\"1\" class=\"dataframe\">\n",
              "  <thead>\n",
              "    <tr style=\"text-align: right;\">\n",
              "      <th>city</th>\n",
              "      <th>Bruxelles</th>\n",
              "      <th>Charleroi</th>\n",
              "      <th>Fleurus</th>\n",
              "      <th>Namur</th>\n",
              "    </tr>\n",
              "    <tr>\n",
              "      <th>rooms</th>\n",
              "      <th></th>\n",
              "      <th></th>\n",
              "      <th></th>\n",
              "      <th></th>\n",
              "    </tr>\n",
              "  </thead>\n",
              "  <tbody>\n",
              "    <tr>\n",
              "      <th>3.0</th>\n",
              "      <td>460000.0</td>\n",
              "      <td>0.0</td>\n",
              "      <td>230000.0</td>\n",
              "      <td>280000.000000</td>\n",
              "    </tr>\n",
              "    <tr>\n",
              "      <th>4.0</th>\n",
              "      <td>400000.0</td>\n",
              "      <td>0.0</td>\n",
              "      <td>0.0</td>\n",
              "      <td>356666.666667</td>\n",
              "    </tr>\n",
              "    <tr>\n",
              "      <th>5.0</th>\n",
              "      <td>480000.0</td>\n",
              "      <td>150000.0</td>\n",
              "      <td>330000.0</td>\n",
              "      <td>350000.000000</td>\n",
              "    </tr>\n",
              "  </tbody>\n",
              "</table>\n",
              "</div>"
            ],
            "text/plain": [
              "city   Bruxelles  Charleroi   Fleurus          Namur\n",
              "rooms                                               \n",
              "3.0     460000.0        0.0  230000.0  280000.000000\n",
              "4.0     400000.0        0.0       0.0  356666.666667\n",
              "5.0     480000.0   150000.0  330000.0  350000.000000"
            ]
          },
          "metadata": {
            "tags": []
          },
          "execution_count": 14
        }
      ]
    },
    {
      "cell_type": "markdown",
      "metadata": {
        "id": "HwCs3n-mrSRa",
        "colab_type": "text"
      },
      "source": [
        "# Détection/suppression des anomalies ?\n",
        "\n",
        "Les anomalies sont des observations très différentes de la masse des données. Par exemple, si pour un dataset de 100 maisons, toutes sont entre 200000 et 400000 et une seule est à 100000, elle peut-être considérée comme une anomalie. Ou si on a 100 maisons à Bruxelles et une seule à Philippeville, on peut également considérer cette dernière comme anormale. Elle risque en effet d'être tellement différente des autres qu'elle aura une forte influence sur les statistiques. Lors d'une analyse statistique exploratoire, il est donc pertinent d'omettre ces données inhabituelles. A l'inverse, il est également parfois intéressant de détecter les valeurs exceptionnelles, permettant par exemple d'identifier des causes de problèmes (sur des données issues de capteurs d'usines par exemples); ou dans le présent contexte des éventuelles bonnes affaires immobilières (ou des fraudeurs: blanchiment d'argent ou arnaque ?).\n",
        "\n",
        "En l'occurrence, dans notre dataset de test, on pourrait considérer la maison de Charleroi comme anormale: son prix par pièce est beaucoup moins élevé que celui de toutes les autres.\n",
        "\n",
        "Les anomalies peuvent se détecter de deux manières: les statistiques et la visualisation graphique."
      ]
    },
    {
      "cell_type": "code",
      "metadata": {
        "id": "AeXpEgLo-Zjv",
        "colab_type": "code",
        "colab": {
          "base_uri": "https://localhost:8080/",
          "height": 447
        },
        "outputId": "6a9a3dc8-d8a0-458c-d5cc-98c596b07d0b"
      },
      "source": [
        "df"
      ],
      "execution_count": 15,
      "outputs": [
        {
          "output_type": "execute_result",
          "data": {
            "text/html": [
              "<div>\n",
              "<style scoped>\n",
              "    .dataframe tbody tr th:only-of-type {\n",
              "        vertical-align: middle;\n",
              "    }\n",
              "\n",
              "    .dataframe tbody tr th {\n",
              "        vertical-align: top;\n",
              "    }\n",
              "\n",
              "    .dataframe thead th {\n",
              "        text-align: right;\n",
              "    }\n",
              "</style>\n",
              "<table border=\"1\" class=\"dataframe\">\n",
              "  <thead>\n",
              "    <tr style=\"text-align: right;\">\n",
              "      <th></th>\n",
              "      <th>address</th>\n",
              "      <th>price</th>\n",
              "      <th>rooms</th>\n",
              "      <th>surface</th>\n",
              "      <th>website</th>\n",
              "      <th>city</th>\n",
              "      <th>price_per_m2</th>\n",
              "      <th>price_per_room</th>\n",
              "    </tr>\n",
              "  </thead>\n",
              "  <tbody>\n",
              "    <tr>\n",
              "      <th>0</th>\n",
              "      <td>Rue de Fer 26, 5000 Namur</td>\n",
              "      <td>400000.0</td>\n",
              "      <td>4.0</td>\n",
              "      <td>150</td>\n",
              "      <td>immoweb</td>\n",
              "      <td>Namur</td>\n",
              "      <td>2666.666667</td>\n",
              "      <td>100000.000000</td>\n",
              "    </tr>\n",
              "    <tr>\n",
              "      <th>2</th>\n",
              "      <td>Porte de Namur 25, Bruxelles</td>\n",
              "      <td>400000.0</td>\n",
              "      <td>3.0</td>\n",
              "      <td>120</td>\n",
              "      <td>immoweb</td>\n",
              "      <td>Bruxelles</td>\n",
              "      <td>3333.333333</td>\n",
              "      <td>133333.333333</td>\n",
              "    </tr>\n",
              "    <tr>\n",
              "      <th>3</th>\n",
              "      <td>Rue de L'Eglise 42, Charleroi</td>\n",
              "      <td>150000.0</td>\n",
              "      <td>5.0</td>\n",
              "      <td>150</td>\n",
              "      <td>immoweb</td>\n",
              "      <td>Charleroi</td>\n",
              "      <td>1000.000000</td>\n",
              "      <td>30000.000000</td>\n",
              "    </tr>\n",
              "    <tr>\n",
              "      <th>4</th>\n",
              "      <td>Rue Saint-ghislain 30, 6224 Fleurus</td>\n",
              "      <td>330000.0</td>\n",
              "      <td>5.0</td>\n",
              "      <td>320</td>\n",
              "      <td>immoweb</td>\n",
              "      <td>Fleurus</td>\n",
              "      <td>1031.250000</td>\n",
              "      <td>66000.000000</td>\n",
              "    </tr>\n",
              "    <tr>\n",
              "      <th>6</th>\n",
              "      <td>Rue de la Closière 20, Fleurus</td>\n",
              "      <td>230000.0</td>\n",
              "      <td>3.0</td>\n",
              "      <td>170</td>\n",
              "      <td>immoweb</td>\n",
              "      <td>Fleurus</td>\n",
              "      <td>1352.941176</td>\n",
              "      <td>76666.666667</td>\n",
              "    </tr>\n",
              "    <tr>\n",
              "      <th>10</th>\n",
              "      <td>Rue de Bruxelles 42, 5000 Namur</td>\n",
              "      <td>350000.0</td>\n",
              "      <td>4.0</td>\n",
              "      <td>200</td>\n",
              "      <td>immovlan</td>\n",
              "      <td>Namur</td>\n",
              "      <td>1750.000000</td>\n",
              "      <td>87500.000000</td>\n",
              "    </tr>\n",
              "    <tr>\n",
              "      <th>11</th>\n",
              "      <td>Rue de la Loi 50, Bruxelles</td>\n",
              "      <td>700000.0</td>\n",
              "      <td>3.0</td>\n",
              "      <td>220</td>\n",
              "      <td>immovlan</td>\n",
              "      <td>Bruxelles</td>\n",
              "      <td>3181.818182</td>\n",
              "      <td>233333.333333</td>\n",
              "    </tr>\n",
              "    <tr>\n",
              "      <th>12</th>\n",
              "      <td>Rue de la Loi 51, Bruxelles</td>\n",
              "      <td>280000.0</td>\n",
              "      <td>3.0</td>\n",
              "      <td>120</td>\n",
              "      <td>immoweb</td>\n",
              "      <td>Bruxelles</td>\n",
              "      <td>2333.333333</td>\n",
              "      <td>93333.333333</td>\n",
              "    </tr>\n",
              "    <tr>\n",
              "      <th>13</th>\n",
              "      <td>Rue de la Loi 52, Bruxelles</td>\n",
              "      <td>400000.0</td>\n",
              "      <td>4.0</td>\n",
              "      <td>150</td>\n",
              "      <td>immovlan</td>\n",
              "      <td>Bruxelles</td>\n",
              "      <td>2666.666667</td>\n",
              "      <td>100000.000000</td>\n",
              "    </tr>\n",
              "    <tr>\n",
              "      <th>14</th>\n",
              "      <td>Rue de la Loi 53, Bruxelles</td>\n",
              "      <td>480000.0</td>\n",
              "      <td>5.0</td>\n",
              "      <td>170</td>\n",
              "      <td>immovlan</td>\n",
              "      <td>Bruxelles</td>\n",
              "      <td>2823.529412</td>\n",
              "      <td>96000.000000</td>\n",
              "    </tr>\n",
              "    <tr>\n",
              "      <th>15</th>\n",
              "      <td>Rue de Fer 27, Namur</td>\n",
              "      <td>280000.0</td>\n",
              "      <td>3.0</td>\n",
              "      <td>140</td>\n",
              "      <td>immoweb</td>\n",
              "      <td>Namur</td>\n",
              "      <td>2000.000000</td>\n",
              "      <td>93333.333333</td>\n",
              "    </tr>\n",
              "    <tr>\n",
              "      <th>16</th>\n",
              "      <td>Rue de Fer 28, Namur</td>\n",
              "      <td>320000.0</td>\n",
              "      <td>4.0</td>\n",
              "      <td>160</td>\n",
              "      <td>immoweb</td>\n",
              "      <td>Namur</td>\n",
              "      <td>2000.000000</td>\n",
              "      <td>80000.000000</td>\n",
              "    </tr>\n",
              "    <tr>\n",
              "      <th>17</th>\n",
              "      <td>Rue de Fer 29, Namur</td>\n",
              "      <td>350000.0</td>\n",
              "      <td>5.0</td>\n",
              "      <td>180</td>\n",
              "      <td>immovlan</td>\n",
              "      <td>Namur</td>\n",
              "      <td>1944.444444</td>\n",
              "      <td>70000.000000</td>\n",
              "    </tr>\n",
              "  </tbody>\n",
              "</table>\n",
              "</div>"
            ],
            "text/plain": [
              "                                address     price  ...  price_per_m2  price_per_room\n",
              "0             Rue de Fer 26, 5000 Namur  400000.0  ...   2666.666667   100000.000000\n",
              "2          Porte de Namur 25, Bruxelles  400000.0  ...   3333.333333   133333.333333\n",
              "3         Rue de L'Eglise 42, Charleroi  150000.0  ...   1000.000000    30000.000000\n",
              "4   Rue Saint-ghislain 30, 6224 Fleurus  330000.0  ...   1031.250000    66000.000000\n",
              "6        Rue de la Closière 20, Fleurus  230000.0  ...   1352.941176    76666.666667\n",
              "10      Rue de Bruxelles 42, 5000 Namur  350000.0  ...   1750.000000    87500.000000\n",
              "11          Rue de la Loi 50, Bruxelles  700000.0  ...   3181.818182   233333.333333\n",
              "12          Rue de la Loi 51, Bruxelles  280000.0  ...   2333.333333    93333.333333\n",
              "13          Rue de la Loi 52, Bruxelles  400000.0  ...   2666.666667   100000.000000\n",
              "14          Rue de la Loi 53, Bruxelles  480000.0  ...   2823.529412    96000.000000\n",
              "15                 Rue de Fer 27, Namur  280000.0  ...   2000.000000    93333.333333\n",
              "16                 Rue de Fer 28, Namur  320000.0  ...   2000.000000    80000.000000\n",
              "17                 Rue de Fer 29, Namur  350000.0  ...   1944.444444    70000.000000\n",
              "\n",
              "[13 rows x 8 columns]"
            ]
          },
          "metadata": {
            "tags": []
          },
          "execution_count": 15
        }
      ]
    },
    {
      "cell_type": "code",
      "metadata": {
        "id": "tbygvQ3F8Mav",
        "colab_type": "code",
        "colab": {
          "base_uri": "https://localhost:8080/",
          "height": 127
        },
        "outputId": "1889e143-ecd6-40ac-8e35-833ebbb0c0e3"
      },
      "source": [
        "#Inter-quantile range\n",
        "Q1 = df.price_per_room.quantile(0.25)\n",
        "Q3 = df.price_per_room.quantile(0.75)\n",
        "IQR = Q3 - Q1\n",
        "h = 2\n",
        "print(\"limits:\", (Q1 - h * IQR), \"to\", (Q3 + h * IQR))\n",
        "\n",
        "#Les données s'écartant fortement des quantiles sont potentiellement des outliers\n",
        "is_outlier = (df.price_per_room < (Q1 - h * IQR)) | (df.price_per_room > (Q3 + h * IQR))\n",
        "df.loc[is_outlier]"
      ],
      "execution_count": 16,
      "outputs": [
        {
          "output_type": "stream",
          "text": [
            "limits: 30000.000000000015 to 146666.66666666666\n"
          ],
          "name": "stdout"
        },
        {
          "output_type": "execute_result",
          "data": {
            "text/html": [
              "<div>\n",
              "<style scoped>\n",
              "    .dataframe tbody tr th:only-of-type {\n",
              "        vertical-align: middle;\n",
              "    }\n",
              "\n",
              "    .dataframe tbody tr th {\n",
              "        vertical-align: top;\n",
              "    }\n",
              "\n",
              "    .dataframe thead th {\n",
              "        text-align: right;\n",
              "    }\n",
              "</style>\n",
              "<table border=\"1\" class=\"dataframe\">\n",
              "  <thead>\n",
              "    <tr style=\"text-align: right;\">\n",
              "      <th></th>\n",
              "      <th>address</th>\n",
              "      <th>price</th>\n",
              "      <th>rooms</th>\n",
              "      <th>surface</th>\n",
              "      <th>website</th>\n",
              "      <th>city</th>\n",
              "      <th>price_per_m2</th>\n",
              "      <th>price_per_room</th>\n",
              "    </tr>\n",
              "  </thead>\n",
              "  <tbody>\n",
              "    <tr>\n",
              "      <th>3</th>\n",
              "      <td>Rue de L'Eglise 42, Charleroi</td>\n",
              "      <td>150000.0</td>\n",
              "      <td>5.0</td>\n",
              "      <td>150</td>\n",
              "      <td>immoweb</td>\n",
              "      <td>Charleroi</td>\n",
              "      <td>1000.000000</td>\n",
              "      <td>30000.000000</td>\n",
              "    </tr>\n",
              "    <tr>\n",
              "      <th>11</th>\n",
              "      <td>Rue de la Loi 50, Bruxelles</td>\n",
              "      <td>700000.0</td>\n",
              "      <td>3.0</td>\n",
              "      <td>220</td>\n",
              "      <td>immovlan</td>\n",
              "      <td>Bruxelles</td>\n",
              "      <td>3181.818182</td>\n",
              "      <td>233333.333333</td>\n",
              "    </tr>\n",
              "  </tbody>\n",
              "</table>\n",
              "</div>"
            ],
            "text/plain": [
              "                          address     price  ...  price_per_m2  price_per_room\n",
              "3   Rue de L'Eglise 42, Charleroi  150000.0  ...   1000.000000    30000.000000\n",
              "11    Rue de la Loi 50, Bruxelles  700000.0  ...   3181.818182   233333.333333\n",
              "\n",
              "[2 rows x 8 columns]"
            ]
          },
          "metadata": {
            "tags": []
          },
          "execution_count": 16
        }
      ]
    },
    {
      "cell_type": "code",
      "metadata": {
        "id": "KSpAhzcBYgj7",
        "colab_type": "code",
        "colab": {
          "base_uri": "https://localhost:8080/",
          "height": 386
        },
        "outputId": "7b678495-73cb-48cb-f304-17f379b5fcd5"
      },
      "source": [
        "df2 = df[~is_outlier] #détection statistique d'outliers\n",
        "df2.to_csv(\"houses_features.csv\")\n",
        "df2"
      ],
      "execution_count": 17,
      "outputs": [
        {
          "output_type": "execute_result",
          "data": {
            "text/html": [
              "<div>\n",
              "<style scoped>\n",
              "    .dataframe tbody tr th:only-of-type {\n",
              "        vertical-align: middle;\n",
              "    }\n",
              "\n",
              "    .dataframe tbody tr th {\n",
              "        vertical-align: top;\n",
              "    }\n",
              "\n",
              "    .dataframe thead th {\n",
              "        text-align: right;\n",
              "    }\n",
              "</style>\n",
              "<table border=\"1\" class=\"dataframe\">\n",
              "  <thead>\n",
              "    <tr style=\"text-align: right;\">\n",
              "      <th></th>\n",
              "      <th>address</th>\n",
              "      <th>price</th>\n",
              "      <th>rooms</th>\n",
              "      <th>surface</th>\n",
              "      <th>website</th>\n",
              "      <th>city</th>\n",
              "      <th>price_per_m2</th>\n",
              "      <th>price_per_room</th>\n",
              "    </tr>\n",
              "  </thead>\n",
              "  <tbody>\n",
              "    <tr>\n",
              "      <th>0</th>\n",
              "      <td>Rue de Fer 26, 5000 Namur</td>\n",
              "      <td>400000.0</td>\n",
              "      <td>4.0</td>\n",
              "      <td>150</td>\n",
              "      <td>immoweb</td>\n",
              "      <td>Namur</td>\n",
              "      <td>2666.666667</td>\n",
              "      <td>100000.000000</td>\n",
              "    </tr>\n",
              "    <tr>\n",
              "      <th>2</th>\n",
              "      <td>Porte de Namur 25, Bruxelles</td>\n",
              "      <td>400000.0</td>\n",
              "      <td>3.0</td>\n",
              "      <td>120</td>\n",
              "      <td>immoweb</td>\n",
              "      <td>Bruxelles</td>\n",
              "      <td>3333.333333</td>\n",
              "      <td>133333.333333</td>\n",
              "    </tr>\n",
              "    <tr>\n",
              "      <th>4</th>\n",
              "      <td>Rue Saint-ghislain 30, 6224 Fleurus</td>\n",
              "      <td>330000.0</td>\n",
              "      <td>5.0</td>\n",
              "      <td>320</td>\n",
              "      <td>immoweb</td>\n",
              "      <td>Fleurus</td>\n",
              "      <td>1031.250000</td>\n",
              "      <td>66000.000000</td>\n",
              "    </tr>\n",
              "    <tr>\n",
              "      <th>6</th>\n",
              "      <td>Rue de la Closière 20, Fleurus</td>\n",
              "      <td>230000.0</td>\n",
              "      <td>3.0</td>\n",
              "      <td>170</td>\n",
              "      <td>immoweb</td>\n",
              "      <td>Fleurus</td>\n",
              "      <td>1352.941176</td>\n",
              "      <td>76666.666667</td>\n",
              "    </tr>\n",
              "    <tr>\n",
              "      <th>10</th>\n",
              "      <td>Rue de Bruxelles 42, 5000 Namur</td>\n",
              "      <td>350000.0</td>\n",
              "      <td>4.0</td>\n",
              "      <td>200</td>\n",
              "      <td>immovlan</td>\n",
              "      <td>Namur</td>\n",
              "      <td>1750.000000</td>\n",
              "      <td>87500.000000</td>\n",
              "    </tr>\n",
              "    <tr>\n",
              "      <th>12</th>\n",
              "      <td>Rue de la Loi 51, Bruxelles</td>\n",
              "      <td>280000.0</td>\n",
              "      <td>3.0</td>\n",
              "      <td>120</td>\n",
              "      <td>immoweb</td>\n",
              "      <td>Bruxelles</td>\n",
              "      <td>2333.333333</td>\n",
              "      <td>93333.333333</td>\n",
              "    </tr>\n",
              "    <tr>\n",
              "      <th>13</th>\n",
              "      <td>Rue de la Loi 52, Bruxelles</td>\n",
              "      <td>400000.0</td>\n",
              "      <td>4.0</td>\n",
              "      <td>150</td>\n",
              "      <td>immovlan</td>\n",
              "      <td>Bruxelles</td>\n",
              "      <td>2666.666667</td>\n",
              "      <td>100000.000000</td>\n",
              "    </tr>\n",
              "    <tr>\n",
              "      <th>14</th>\n",
              "      <td>Rue de la Loi 53, Bruxelles</td>\n",
              "      <td>480000.0</td>\n",
              "      <td>5.0</td>\n",
              "      <td>170</td>\n",
              "      <td>immovlan</td>\n",
              "      <td>Bruxelles</td>\n",
              "      <td>2823.529412</td>\n",
              "      <td>96000.000000</td>\n",
              "    </tr>\n",
              "    <tr>\n",
              "      <th>15</th>\n",
              "      <td>Rue de Fer 27, Namur</td>\n",
              "      <td>280000.0</td>\n",
              "      <td>3.0</td>\n",
              "      <td>140</td>\n",
              "      <td>immoweb</td>\n",
              "      <td>Namur</td>\n",
              "      <td>2000.000000</td>\n",
              "      <td>93333.333333</td>\n",
              "    </tr>\n",
              "    <tr>\n",
              "      <th>16</th>\n",
              "      <td>Rue de Fer 28, Namur</td>\n",
              "      <td>320000.0</td>\n",
              "      <td>4.0</td>\n",
              "      <td>160</td>\n",
              "      <td>immoweb</td>\n",
              "      <td>Namur</td>\n",
              "      <td>2000.000000</td>\n",
              "      <td>80000.000000</td>\n",
              "    </tr>\n",
              "    <tr>\n",
              "      <th>17</th>\n",
              "      <td>Rue de Fer 29, Namur</td>\n",
              "      <td>350000.0</td>\n",
              "      <td>5.0</td>\n",
              "      <td>180</td>\n",
              "      <td>immovlan</td>\n",
              "      <td>Namur</td>\n",
              "      <td>1944.444444</td>\n",
              "      <td>70000.000000</td>\n",
              "    </tr>\n",
              "  </tbody>\n",
              "</table>\n",
              "</div>"
            ],
            "text/plain": [
              "                                address     price  ...  price_per_m2  price_per_room\n",
              "0             Rue de Fer 26, 5000 Namur  400000.0  ...   2666.666667   100000.000000\n",
              "2          Porte de Namur 25, Bruxelles  400000.0  ...   3333.333333   133333.333333\n",
              "4   Rue Saint-ghislain 30, 6224 Fleurus  330000.0  ...   1031.250000    66000.000000\n",
              "6        Rue de la Closière 20, Fleurus  230000.0  ...   1352.941176    76666.666667\n",
              "10      Rue de Bruxelles 42, 5000 Namur  350000.0  ...   1750.000000    87500.000000\n",
              "12          Rue de la Loi 51, Bruxelles  280000.0  ...   2333.333333    93333.333333\n",
              "13          Rue de la Loi 52, Bruxelles  400000.0  ...   2666.666667   100000.000000\n",
              "14          Rue de la Loi 53, Bruxelles  480000.0  ...   2823.529412    96000.000000\n",
              "15                 Rue de Fer 27, Namur  280000.0  ...   2000.000000    93333.333333\n",
              "16                 Rue de Fer 28, Namur  320000.0  ...   2000.000000    80000.000000\n",
              "17                 Rue de Fer 29, Namur  350000.0  ...   1944.444444    70000.000000\n",
              "\n",
              "[11 rows x 8 columns]"
            ]
          },
          "metadata": {
            "tags": []
          },
          "execution_count": 17
        }
      ]
    },
    {
      "cell_type": "markdown",
      "metadata": {
        "id": "C7DGIGdluWig",
        "colab_type": "text"
      },
      "source": [
        "# Visualisation de données avec `Matplotlib`\n",
        "\n",
        "Matplotlib est une librairie permettent la visualisation graphique des données. Elle est habituellement utilisée avec les trois librairies présentées plus haut (Numpy, Scipy, Pandas)."
      ]
    },
    {
      "cell_type": "code",
      "metadata": {
        "id": "jdWUb0mJ0euk",
        "colab_type": "code",
        "colab": {
          "base_uri": "https://localhost:8080/",
          "height": 301
        },
        "outputId": "56221dda-09a7-49a3-ef9d-7565e6de9eb8"
      },
      "source": [
        "from matplotlib import pyplot as plt\n",
        "\n",
        "plt.scatter(df.surface, df.price)\n",
        "plt.xlabel(\"Surface\")\n",
        "plt.ylabel(\"Price\")"
      ],
      "execution_count": 18,
      "outputs": [
        {
          "output_type": "execute_result",
          "data": {
            "text/plain": [
              "Text(0, 0.5, 'Price')"
            ]
          },
          "metadata": {
            "tags": []
          },
          "execution_count": 18
        },
        {
          "output_type": "display_data",
          "data": {
            "image/png": "[encoded data removed]",
            "text/plain": [
              "<Figure size 432x288 with 1 Axes>"
            ]
          },
          "metadata": {
            "tags": []
          }
        }
      ]
    },
    {
      "cell_type": "code",
      "metadata": {
        "id": "E_g3E8o9rY0E",
        "colab_type": "code",
        "colab": {
          "base_uri": "https://localhost:8080/",
          "height": 472
        },
        "outputId": "82c43941-dfb5-4fbc-8ac3-2e000a689069"
      },
      "source": [
        "from matplotlib import pyplot as plt\n",
        "\n",
        "plt.bar(df.address,df.price_per_room)\n",
        "plt.xticks(rotation=90)"
      ],
      "execution_count": 19,
      "outputs": [
        {
          "output_type": "execute_result",
          "data": {
            "text/plain": [
              "([0, 1, 2, 3, 4, 5, 6, 7, 8, 9, 10, 11, 12],\n",
              " <a list of 13 Text xticklabel objects>)"
            ]
          },
          "metadata": {
            "tags": []
          },
          "execution_count": 19
        },
        {
          "output_type": "display_data",
          "data": {
            "image/png": "[encoded data removed]",
            "text/plain": [
              "<Figure size 432x288 with 1 Axes>"
            ]
          },
          "metadata": {
            "tags": []
          }
        }
      ]
    },
    {
      "cell_type": "code",
      "metadata": {
        "id": "6qnUZJK2tbMo",
        "colab_type": "code",
        "colab": {
          "base_uri": "https://localhost:8080/",
          "height": 307
        },
        "outputId": "6eb8eaa1-a241-44b8-d45b-0212f7eb06e9"
      },
      "source": [
        "#méthode intégrée de pandas\n",
        "df.plot.bar(y=\"price_per_room\")\n",
        "plt.xticks(rotation=90)           "
      ],
      "execution_count": 20,
      "outputs": [
        {
          "output_type": "execute_result",
          "data": {
            "text/plain": [
              "(array([ 0,  1,  2,  3,  4,  5,  6,  7,  8,  9, 10, 11, 12]),\n",
              " <a list of 13 Text xticklabel objects>)"
            ]
          },
          "metadata": {
            "tags": []
          },
          "execution_count": 20
        },
        {
          "output_type": "display_data",
          "data": {
            "image/png": "[encoded data removed]",
            "text/plain": [
              "<Figure size 432x288 with 1 Axes>"
            ]
          },
          "metadata": {
            "tags": []
          }
        }
      ]
    },
    {
      "cell_type": "code",
      "metadata": {
        "id": "xEUcqzP5vvfH",
        "colab_type": "code",
        "colab": {
          "base_uri": "https://localhost:8080/",
          "height": 386
        },
        "outputId": "901bc028-8d7a-48ef-9af7-793c2771316b"
      },
      "source": [
        "#On retire les données extrêmes\n",
        "df2 = df.drop([3,11]) #détection manuelle (visuelle)\n",
        "df2"
      ],
      "execution_count": 21,
      "outputs": [
        {
          "output_type": "execute_result",
          "data": {
            "text/html": [
              "<div>\n",
              "<style scoped>\n",
              "    .dataframe tbody tr th:only-of-type {\n",
              "        vertical-align: middle;\n",
              "    }\n",
              "\n",
              "    .dataframe tbody tr th {\n",
              "        vertical-align: top;\n",
              "    }\n",
              "\n",
              "    .dataframe thead th {\n",
              "        text-align: right;\n",
              "    }\n",
              "</style>\n",
              "<table border=\"1\" class=\"dataframe\">\n",
              "  <thead>\n",
              "    <tr style=\"text-align: right;\">\n",
              "      <th></th>\n",
              "      <th>address</th>\n",
              "      <th>price</th>\n",
              "      <th>rooms</th>\n",
              "      <th>surface</th>\n",
              "      <th>website</th>\n",
              "      <th>city</th>\n",
              "      <th>price_per_m2</th>\n",
              "      <th>price_per_room</th>\n",
              "    </tr>\n",
              "  </thead>\n",
              "  <tbody>\n",
              "    <tr>\n",
              "      <th>0</th>\n",
              "      <td>Rue de Fer 26, 5000 Namur</td>\n",
              "      <td>400000.0</td>\n",
              "      <td>4.0</td>\n",
              "      <td>150</td>\n",
              "      <td>immoweb</td>\n",
              "      <td>Namur</td>\n",
              "      <td>2666.666667</td>\n",
              "      <td>100000.000000</td>\n",
              "    </tr>\n",
              "    <tr>\n",
              "      <th>2</th>\n",
              "      <td>Porte de Namur 25, Bruxelles</td>\n",
              "      <td>400000.0</td>\n",
              "      <td>3.0</td>\n",
              "      <td>120</td>\n",
              "      <td>immoweb</td>\n",
              "      <td>Bruxelles</td>\n",
              "      <td>3333.333333</td>\n",
              "      <td>133333.333333</td>\n",
              "    </tr>\n",
              "    <tr>\n",
              "      <th>4</th>\n",
              "      <td>Rue Saint-ghislain 30, 6224 Fleurus</td>\n",
              "      <td>330000.0</td>\n",
              "      <td>5.0</td>\n",
              "      <td>320</td>\n",
              "      <td>immoweb</td>\n",
              "      <td>Fleurus</td>\n",
              "      <td>1031.250000</td>\n",
              "      <td>66000.000000</td>\n",
              "    </tr>\n",
              "    <tr>\n",
              "      <th>6</th>\n",
              "      <td>Rue de la Closière 20, Fleurus</td>\n",
              "      <td>230000.0</td>\n",
              "      <td>3.0</td>\n",
              "      <td>170</td>\n",
              "      <td>immoweb</td>\n",
              "      <td>Fleurus</td>\n",
              "      <td>1352.941176</td>\n",
              "      <td>76666.666667</td>\n",
              "    </tr>\n",
              "    <tr>\n",
              "      <th>10</th>\n",
              "      <td>Rue de Bruxelles 42, 5000 Namur</td>\n",
              "      <td>350000.0</td>\n",
              "      <td>4.0</td>\n",
              "      <td>200</td>\n",
              "      <td>immovlan</td>\n",
              "      <td>Namur</td>\n",
              "      <td>1750.000000</td>\n",
              "      <td>87500.000000</td>\n",
              "    </tr>\n",
              "    <tr>\n",
              "      <th>12</th>\n",
              "      <td>Rue de la Loi 51, Bruxelles</td>\n",
              "      <td>280000.0</td>\n",
              "      <td>3.0</td>\n",
              "      <td>120</td>\n",
              "      <td>immoweb</td>\n",
              "      <td>Bruxelles</td>\n",
              "      <td>2333.333333</td>\n",
              "      <td>93333.333333</td>\n",
              "    </tr>\n",
              "    <tr>\n",
              "      <th>13</th>\n",
              "      <td>Rue de la Loi 52, Bruxelles</td>\n",
              "      <td>400000.0</td>\n",
              "      <td>4.0</td>\n",
              "      <td>150</td>\n",
              "      <td>immovlan</td>\n",
              "      <td>Bruxelles</td>\n",
              "      <td>2666.666667</td>\n",
              "      <td>100000.000000</td>\n",
              "    </tr>\n",
              "    <tr>\n",
              "      <th>14</th>\n",
              "      <td>Rue de la Loi 53, Bruxelles</td>\n",
              "      <td>480000.0</td>\n",
              "      <td>5.0</td>\n",
              "      <td>170</td>\n",
              "      <td>immovlan</td>\n",
              "      <td>Bruxelles</td>\n",
              "      <td>2823.529412</td>\n",
              "      <td>96000.000000</td>\n",
              "    </tr>\n",
              "    <tr>\n",
              "      <th>15</th>\n",
              "      <td>Rue de Fer 27, Namur</td>\n",
              "      <td>280000.0</td>\n",
              "      <td>3.0</td>\n",
              "      <td>140</td>\n",
              "      <td>immoweb</td>\n",
              "      <td>Namur</td>\n",
              "      <td>2000.000000</td>\n",
              "      <td>93333.333333</td>\n",
              "    </tr>\n",
              "    <tr>\n",
              "      <th>16</th>\n",
              "      <td>Rue de Fer 28, Namur</td>\n",
              "      <td>320000.0</td>\n",
              "      <td>4.0</td>\n",
              "      <td>160</td>\n",
              "      <td>immoweb</td>\n",
              "      <td>Namur</td>\n",
              "      <td>2000.000000</td>\n",
              "      <td>80000.000000</td>\n",
              "    </tr>\n",
              "    <tr>\n",
              "      <th>17</th>\n",
              "      <td>Rue de Fer 29, Namur</td>\n",
              "      <td>350000.0</td>\n",
              "      <td>5.0</td>\n",
              "      <td>180</td>\n",
              "      <td>immovlan</td>\n",
              "      <td>Namur</td>\n",
              "      <td>1944.444444</td>\n",
              "      <td>70000.000000</td>\n",
              "    </tr>\n",
              "  </tbody>\n",
              "</table>\n",
              "</div>"
            ],
            "text/plain": [
              "                                address     price  ...  price_per_m2  price_per_room\n",
              "0             Rue de Fer 26, 5000 Namur  400000.0  ...   2666.666667   100000.000000\n",
              "2          Porte de Namur 25, Bruxelles  400000.0  ...   3333.333333   133333.333333\n",
              "4   Rue Saint-ghislain 30, 6224 Fleurus  330000.0  ...   1031.250000    66000.000000\n",
              "6        Rue de la Closière 20, Fleurus  230000.0  ...   1352.941176    76666.666667\n",
              "10      Rue de Bruxelles 42, 5000 Namur  350000.0  ...   1750.000000    87500.000000\n",
              "12          Rue de la Loi 51, Bruxelles  280000.0  ...   2333.333333    93333.333333\n",
              "13          Rue de la Loi 52, Bruxelles  400000.0  ...   2666.666667   100000.000000\n",
              "14          Rue de la Loi 53, Bruxelles  480000.0  ...   2823.529412    96000.000000\n",
              "15                 Rue de Fer 27, Namur  280000.0  ...   2000.000000    93333.333333\n",
              "16                 Rue de Fer 28, Namur  320000.0  ...   2000.000000    80000.000000\n",
              "17                 Rue de Fer 29, Namur  350000.0  ...   1944.444444    70000.000000\n",
              "\n",
              "[11 rows x 8 columns]"
            ]
          },
          "metadata": {
            "tags": []
          },
          "execution_count": 21
        }
      ]
    },
    {
      "cell_type": "code",
      "metadata": {
        "id": "8pd7l-Z3wHAD",
        "colab_type": "code",
        "colab": {
          "base_uri": "https://localhost:8080/",
          "height": 171
        },
        "outputId": "ff5e8f46-d856-4045-8ff9-951c93df45a1"
      },
      "source": [
        "df2.groupby(\"rooms\").mean()"
      ],
      "execution_count": 22,
      "outputs": [
        {
          "output_type": "execute_result",
          "data": {
            "text/html": [
              "<div>\n",
              "<style scoped>\n",
              "    .dataframe tbody tr th:only-of-type {\n",
              "        vertical-align: middle;\n",
              "    }\n",
              "\n",
              "    .dataframe tbody tr th {\n",
              "        vertical-align: top;\n",
              "    }\n",
              "\n",
              "    .dataframe thead th {\n",
              "        text-align: right;\n",
              "    }\n",
              "</style>\n",
              "<table border=\"1\" class=\"dataframe\">\n",
              "  <thead>\n",
              "    <tr style=\"text-align: right;\">\n",
              "      <th></th>\n",
              "      <th>price</th>\n",
              "      <th>surface</th>\n",
              "      <th>price_per_m2</th>\n",
              "      <th>price_per_room</th>\n",
              "    </tr>\n",
              "    <tr>\n",
              "      <th>rooms</th>\n",
              "      <th></th>\n",
              "      <th></th>\n",
              "      <th></th>\n",
              "      <th></th>\n",
              "    </tr>\n",
              "  </thead>\n",
              "  <tbody>\n",
              "    <tr>\n",
              "      <th>3.0</th>\n",
              "      <td>297500.000000</td>\n",
              "      <td>137.500000</td>\n",
              "      <td>2254.901961</td>\n",
              "      <td>99166.666667</td>\n",
              "    </tr>\n",
              "    <tr>\n",
              "      <th>4.0</th>\n",
              "      <td>367500.000000</td>\n",
              "      <td>165.000000</td>\n",
              "      <td>2270.833333</td>\n",
              "      <td>91875.000000</td>\n",
              "    </tr>\n",
              "    <tr>\n",
              "      <th>5.0</th>\n",
              "      <td>386666.666667</td>\n",
              "      <td>223.333333</td>\n",
              "      <td>1933.074619</td>\n",
              "      <td>77333.333333</td>\n",
              "    </tr>\n",
              "  </tbody>\n",
              "</table>\n",
              "</div>"
            ],
            "text/plain": [
              "               price     surface  price_per_m2  price_per_room\n",
              "rooms                                                         \n",
              "3.0    297500.000000  137.500000   2254.901961    99166.666667\n",
              "4.0    367500.000000  165.000000   2270.833333    91875.000000\n",
              "5.0    386666.666667  223.333333   1933.074619    77333.333333"
            ]
          },
          "metadata": {
            "tags": []
          },
          "execution_count": 22
        }
      ]
    },
    {
      "cell_type": "markdown",
      "metadata": {
        "id": "mCSyQ5Lswbl5",
        "colab_type": "text"
      },
      "source": [
        "* Après avoir retiré les donénes extrêmes, l'évolution du prix en fonction du nombre de chambres est plus cohérente.\n",
        "* On remarque que le prix au m2 augmente, mais que le prix par pièce diminue."
      ]
    },
    {
      "cell_type": "code",
      "metadata": {
        "id": "zDVI9DvqwxFX",
        "colab_type": "code",
        "colab": {
          "base_uri": "https://localhost:8080/",
          "height": 307
        },
        "outputId": "18e80b35-b051-4940-8590-fb46be3b7057"
      },
      "source": [
        "result = df2.groupby(\"rooms\").mean()\n",
        "#Divide each column by its sum (so that sum is 1) - so that multiple bar plots with various orders are visible\n",
        "result = result/result.sum()\n",
        "result.plot(kind=\"bar\")"
      ],
      "execution_count": 23,
      "outputs": [
        {
          "output_type": "execute_result",
          "data": {
            "text/plain": [
              "<matplotlib.axes._subplots.AxesSubplot at 0x7f7293705c88>"
            ]
          },
          "metadata": {
            "tags": []
          },
          "execution_count": 23
        },
        {
          "output_type": "display_data",
          "data": {
            "image/png": "[encoded data removed]",
            "text/plain": [
              "<Figure size 432x288 with 1 Axes>"
            ]
          },
          "metadata": {
            "tags": []
          }
        }
      ]
    },
    {
      "cell_type": "code",
      "metadata": {
        "id": "ct5UTpmm7ItQ",
        "colab_type": "code",
        "colab": {
          "base_uri": "https://localhost:8080/",
          "height": 353
        },
        "outputId": "5f51df12-3194-48b2-da6d-cc89b516088d"
      },
      "source": [
        "#plus lisible (on transpose pour avoir un graphe par varible plutôt que par nombre de chambres)\n",
        "result.transpose().plot(kind=\"bar\")"
      ],
      "execution_count": 24,
      "outputs": [
        {
          "output_type": "execute_result",
          "data": {
            "text/plain": [
              "<matplotlib.axes._subplots.AxesSubplot at 0x7f72937c8e48>"
            ]
          },
          "metadata": {
            "tags": []
          },
          "execution_count": 24
        },
        {
          "output_type": "display_data",
          "data": {
            "image/png": "[encoded data removed]",
            "text/plain": [
              "<Figure size 432x288 with 1 Axes>"
            ]
          },
          "metadata": {
            "tags": []
          }
        }
      ]
    },
    {
      "cell_type": "markdown",
      "metadata": {
        "id": "8jXwAMMRzJnf",
        "colab_type": "text"
      },
      "source": [
        "On remarque que:\n",
        "* le prix augmente à peu près\n",
        "* la surface augmente\n",
        "* le prix au m2 diminue\n",
        "* le prix par pièce diminue"
      ]
    },
    {
      "cell_type": "code",
      "metadata": {
        "id": "oFJhEsNat6io",
        "colab_type": "code",
        "colab": {
          "base_uri": "https://localhost:8080/",
          "height": 339
        },
        "outputId": "d7bdc75e-f18e-4bea-e570-17067229f8e7"
      },
      "source": [
        "website_comparison = df.groupby(\"website\").mean()\n",
        "website_comparison.plot.bar(y=\"price\")"
      ],
      "execution_count": 25,
      "outputs": [
        {
          "output_type": "execute_result",
          "data": {
            "text/plain": [
              "<matplotlib.axes._subplots.AxesSubplot at 0x7f72935993c8>"
            ]
          },
          "metadata": {
            "tags": []
          },
          "execution_count": 25
        },
        {
          "output_type": "display_data",
          "data": {
            "image/png": "[encoded data removed]",
            "text/plain": [
              "<Figure size 432x288 with 1 Axes>"
            ]
          },
          "metadata": {
            "tags": []
          }
        }
      ]
    },
    {
      "cell_type": "code",
      "metadata": {
        "id": "ad0KrEotvBiZ",
        "colab_type": "code",
        "colab": {
          "base_uri": "https://localhost:8080/",
          "height": 301
        },
        "outputId": "325c1414-6ad1-426a-b658-29c2606abb33"
      },
      "source": [
        "#DF.plot: afficher une courbe. On trie d'abord les maisons par surface croissante pour afficher la courbe (DF.sort_values(\"surface\"))\n",
        "bxldf.sort_values(\"surface\").plot(\"surface\",\"price\")"
      ],
      "execution_count": 26,
      "outputs": [
        {
          "output_type": "execute_result",
          "data": {
            "text/plain": [
              "<matplotlib.axes._subplots.AxesSubplot at 0x7f72935f6518>"
            ]
          },
          "metadata": {
            "tags": []
          },
          "execution_count": 26
        },
        {
          "output_type": "display_data",
          "data": {
            "image/png": "[encoded data removed]",
            "text/plain": [
              "<Figure size 432x288 with 1 Axes>"
            ]
          },
          "metadata": {
            "tags": []
          }
        }
      ]
    },
    {
      "cell_type": "code",
      "metadata": {
        "id": "lnOUpYmJMVn_",
        "colab_type": "code",
        "colab": {
          "base_uri": "https://localhost:8080/",
          "height": 307
        },
        "outputId": "48b46a20-1044-4a04-f392-d9c62d09aa02"
      },
      "source": [
        "count_analysis.plot.pie(subplots = True, figsize = (15,15))"
      ],
      "execution_count": 27,
      "outputs": [
        {
          "output_type": "execute_result",
          "data": {
            "text/plain": [
              "array([<matplotlib.axes._subplots.AxesSubplot object at 0x7f72934e2d30>,\n",
              "       <matplotlib.axes._subplots.AxesSubplot object at 0x7f72935035c0>,\n",
              "       <matplotlib.axes._subplots.AxesSubplot object at 0x7f72934ada20>,\n",
              "       <matplotlib.axes._subplots.AxesSubplot object at 0x7f7293454e80>],\n",
              "      dtype=object)"
            ]
          },
          "metadata": {
            "tags": []
          },
          "execution_count": 27
        },
        {
          "output_type": "display_data",
          "data": {
            "image/png": "[encoded data removed]",
            "text/plain": [
              "<Figure size 1080x1080 with 4 Axes>"
            ]
          },
          "metadata": {
            "tags": []
          }
        }
      ]
    },
    {
      "cell_type": "code",
      "metadata": {
        "id": "EZY3bOLpPxuh",
        "colab_type": "code",
        "colab": {
          "base_uri": "https://localhost:8080/",
          "height": 714
        },
        "outputId": "cde677d6-674e-4ff5-add4-5cff38380d72"
      },
      "source": [
        "\n",
        "price_analysis.plot.bar(subplots = True, figsize = (10,10))"
      ],
      "execution_count": 28,
      "outputs": [
        {
          "output_type": "execute_result",
          "data": {
            "text/plain": [
              "array([<matplotlib.axes._subplots.AxesSubplot object at 0x7f72933c9390>,\n",
              "       <matplotlib.axes._subplots.AxesSubplot object at 0x7f7293405860>,\n",
              "       <matplotlib.axes._subplots.AxesSubplot object at 0x7f72933accc0>,\n",
              "       <matplotlib.axes._subplots.AxesSubplot object at 0x7f7293361160>],\n",
              "      dtype=object)"
            ]
          },
          "metadata": {
            "tags": []
          },
          "execution_count": 28
        },
        {
          "output_type": "display_data",
          "data": {
            "image/png": "[encoded data removed]",
            "text/plain": [
              "<Figure size 720x720 with 4 Axes>"
            ]
          },
          "metadata": {
            "tags": []
          }
        }
      ]
    },
    {
      "cell_type": "markdown",
      "metadata": {
        "id": "wMt4elplxQVi",
        "colab_type": "text"
      },
      "source": [
        "Vous pouvez maintenant passer au [Chapitre 7: Introduction au Machine Learning](https://colab.research.google.com/github/titsitits/UNamur_Python_Analytics/blob/master/7_Machine_Learning_Introduction.ipynb)"
      ]
    }
  ]
}