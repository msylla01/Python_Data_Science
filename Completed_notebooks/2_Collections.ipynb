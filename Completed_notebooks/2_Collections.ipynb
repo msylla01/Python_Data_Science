{
  "nbformat": 4,
  "nbformat_minor": 0,
  "metadata": {
    "colab": {
      "name": "2_Collections.ipynb",
      "provenance": [],
      "collapsed_sections": [
        "iaqayQP0v8VO"
      ],
      "toc_visible": true,
      "include_colab_link": true
    },
    "kernelspec": {
      "name": "python3",
      "display_name": "Python 3"
    }
  },
  "cells": [
    {
      "cell_type": "markdown",
      "metadata": {
        "id": "view-in-github",
        "colab_type": "text"
      },
      "source": [
        "<a href=\"https://colab.research.google.com/github/titsitits/Python_Data_Science/blob/master/Completed_notebooks/2_Collections.ipynb\" target=\"_parent\"><img src=\"https://colab.research.google.com/assets/colab-badge.svg\" alt=\"Open In Colab\"/></a>"
      ]
    },
    {
      "cell_type": "markdown",
      "metadata": {
        "id": "DfQ-d2onvooo",
        "colab_type": "text"
      },
      "source": [
        "Mickaël Tits\n",
        "CETIC\n",
        "mickael.tits@cetic.be"
      ]
    },
    {
      "cell_type": "markdown",
      "metadata": {
        "colab_type": "text",
        "id": "BvC5iZXocZu8"
      },
      "source": [
        "# Chapitre 2 - Les collections d'objets Python\n",
        "\n"
      ]
    },
    {
      "cell_type": "markdown",
      "metadata": {
        "id": "zYk7hlzIa-tk",
        "colab_type": "text"
      },
      "source": [
        "Les collections de données sont des **objets** de type dit **conteneur**, qui contiennent d'autres objets, tels que des int, string, d'autres collections de données, ou tout autre type d'objet (tels que ceux vus dans les chapitres suivants).\n",
        "\n",
        "Ces collections permettent de structurer les données, en représentant soit différentes données d'un même type (une liste de prix par exemple), ou les différentes caractéristiques d'un élément (e.g.: l'adresse, la surface, et le prix d'une maison en vente).\n",
        "\n",
        "La représentation des objets sous forme de collection permet de les traiter de manière systématique: appliquer une instruction sur chaque élément, filtrer tous les éléments respectant une conditions, etc.\n",
        "\n",
        "En Python, il existe différents types de collection de données, qui ont chacune leurs spécificités, avantages et inconvénients:\n",
        "\n",
        "* Les **listes** (**`list`**): une séquence ordonnée d'objets modifiable\n",
        "* Les **tuples** (**`tuple`**): une séquence ordonnée d'objets immuable (voir ci-dessous)\n",
        "* Les **dictionnaires** (**`dict`**): un ensemble de paires clé-valeur\n",
        "* Le **string** (**`str`**) peut être vu comme une séquence ordonnée de caractères\n",
        "* Le **set** (**`set`**): un ensemble d'objets distincts (pas abordés dans ce cours. Pour plus d'informations, voir [ici](https://docs.python.org/3/tutorial/datastructures.html#sets) ou [ici](https://www.programiz.com/python-programming/set#methods))\n",
        "\n"
      ]
    },
    {
      "cell_type": "markdown",
      "metadata": {
        "colab_type": "text",
        "id": "P0kqmbEodMPS"
      },
      "source": [
        "# Les listes"
      ]
    },
    {
      "cell_type": "markdown",
      "metadata": {
        "id": "rXfBTS3wbBy6",
        "colab_type": "text"
      },
      "source": [
        "* Séquence (collection ordonnée) de données"
      ]
    },
    {
      "cell_type": "code",
      "metadata": {
        "id": "fguPPOnVx-jP",
        "colab_type": "code",
        "outputId": "ce0c22b4-c772-4bcb-9eb7-26e0ad3b20e7",
        "colab": {
          "base_uri": "https://localhost:8080/",
          "height": 201
        }
      },
      "source": [
        "mystring = \"1234\"\n",
        "mystring[2] = \"0\"\n",
        "mystring"
      ],
      "execution_count": 1,
      "outputs": [
        {
          "output_type": "error",
          "ename": "TypeError",
          "evalue": "ignored",
          "traceback": [
            "\u001b[0;31m---------------------------------------------------------------------------\u001b[0m",
            "\u001b[0;31mTypeError\u001b[0m                                 Traceback (most recent call last)",
            "\u001b[0;32m<ipython-input-1-c156ff861b57>\u001b[0m in \u001b[0;36m<module>\u001b[0;34m()\u001b[0m\n\u001b[1;32m      1\u001b[0m \u001b[0mmystring\u001b[0m \u001b[0;34m=\u001b[0m \u001b[0;34m\"1234\"\u001b[0m\u001b[0;34m\u001b[0m\u001b[0;34m\u001b[0m\u001b[0m\n\u001b[0;32m----> 2\u001b[0;31m \u001b[0mmystring\u001b[0m\u001b[0;34m[\u001b[0m\u001b[0;36m2\u001b[0m\u001b[0;34m]\u001b[0m \u001b[0;34m=\u001b[0m \u001b[0;34m\"0\"\u001b[0m\u001b[0;34m\u001b[0m\u001b[0;34m\u001b[0m\u001b[0m\n\u001b[0m\u001b[1;32m      3\u001b[0m \u001b[0mmystring\u001b[0m\u001b[0;34m\u001b[0m\u001b[0;34m\u001b[0m\u001b[0m\n",
            "\u001b[0;31mTypeError\u001b[0m: 'str' object does not support item assignment"
          ]
        }
      ]
    },
    {
      "cell_type": "code",
      "metadata": {
        "colab_type": "code",
        "id": "j7uHUigydMPT",
        "colab": {
          "base_uri": "https://localhost:8080/",
          "height": 35
        },
        "outputId": "83cfb7b2-f899-4604-eb4c-5796694abd6f"
      },
      "source": [
        "#Pour déclarer une liste d'éléments, on utilise des crochets []\n",
        "my_list = [1, 3, 5, 7]\n",
        "my_list"
      ],
      "execution_count": 2,
      "outputs": [
        {
          "output_type": "execute_result",
          "data": {
            "text/plain": [
              "[1, 3, 5, 7]"
            ]
          },
          "metadata": {
            "tags": []
          },
          "execution_count": 2
        }
      ]
    },
    {
      "cell_type": "code",
      "metadata": {
        "colab_type": "code",
        "id": "3aRsaLrZdMPW",
        "colab": {
          "base_uri": "https://localhost:8080/",
          "height": 35
        },
        "outputId": "5dc3d74f-9a3f-4b05-b27b-3a0271f7f141"
      },
      "source": [
        "# Une liste peut contenir différents types de données\n",
        "my_list2 = [3.14, 42, my_list, True, 'Namur']\n",
        "my_list2"
      ],
      "execution_count": 3,
      "outputs": [
        {
          "output_type": "execute_result",
          "data": {
            "text/plain": [
              "[3.14, 42, [1, 3, 5, 7], True, 'Namur']"
            ]
          },
          "metadata": {
            "tags": []
          },
          "execution_count": 3
        }
      ]
    },
    {
      "cell_type": "code",
      "metadata": {
        "colab_type": "code",
        "id": "EbTB1_PDdMPY",
        "colab": {
          "base_uri": "https://localhost:8080/",
          "height": 35
        },
        "outputId": "aca60ba7-81ab-4ce8-b69b-29eec64420aa"
      },
      "source": [
        "#La fonction len() permet de connaître la longueur d'une liste\n",
        "len(my_list)"
      ],
      "execution_count": 4,
      "outputs": [
        {
          "output_type": "execute_result",
          "data": {
            "text/plain": [
              "4"
            ]
          },
          "metadata": {
            "tags": []
          },
          "execution_count": 4
        }
      ]
    },
    {
      "cell_type": "markdown",
      "metadata": {
        "colab_type": "text",
        "id": "alcUwW-qdMPa"
      },
      "source": [
        "### Accès aux données d'une liste\n",
        "* L'opérateur [x] permet d'accéder aux éléments d'une liste\n",
        "* Attention: l'indexation commence à 0\n",
        "* Une erreur est renvoyée si l'indice est invalide\n",
        "* Un indice négatif démarre de la fin de la liste\n",
        "* Le symbole \":\" permet d'accéder à plusieurs éléments consécutifs"
      ]
    },
    {
      "cell_type": "code",
      "metadata": {
        "colab_type": "code",
        "id": "_KOIt-wGdMPa",
        "colab": {
          "base_uri": "https://localhost:8080/",
          "height": 35
        },
        "outputId": "687847a1-54e1-40be-bfce-46b5a491d69c"
      },
      "source": [
        "my_list[0]"
      ],
      "execution_count": 5,
      "outputs": [
        {
          "output_type": "execute_result",
          "data": {
            "text/plain": [
              "1"
            ]
          },
          "metadata": {
            "tags": []
          },
          "execution_count": 5
        }
      ]
    },
    {
      "cell_type": "code",
      "metadata": {
        "colab_type": "code",
        "id": "h8pFOynCdMPc",
        "colab": {
          "base_uri": "https://localhost:8080/",
          "height": 35
        },
        "outputId": "40c1b3a4-2c58-4717-c4e2-bde011aaf849"
      },
      "source": [
        "my_list[2]"
      ],
      "execution_count": 6,
      "outputs": [
        {
          "output_type": "execute_result",
          "data": {
            "text/plain": [
              "5"
            ]
          },
          "metadata": {
            "tags": []
          },
          "execution_count": 6
        }
      ]
    },
    {
      "cell_type": "code",
      "metadata": {
        "colab_type": "code",
        "id": "sNkopBHkdMPd",
        "colab": {}
      },
      "source": [
        "#Une erreur est obtenue si l'indice est invalide\n",
        "#my_list[4]"
      ],
      "execution_count": 0,
      "outputs": []
    },
    {
      "cell_type": "code",
      "metadata": {
        "colab_type": "code",
        "id": "UcYHMIi-dMPf",
        "colab": {
          "base_uri": "https://localhost:8080/",
          "height": 35
        },
        "outputId": "fc61100c-cb35-4c31-e310-361bab096f8f"
      },
      "source": [
        "#Un indice négatif part de la fin d'une liste\n",
        "my_list[-1], my_list[-2]"
      ],
      "execution_count": 8,
      "outputs": [
        {
          "output_type": "execute_result",
          "data": {
            "text/plain": [
              "(7, 5)"
            ]
          },
          "metadata": {
            "tags": []
          },
          "execution_count": 8
        }
      ]
    },
    {
      "cell_type": "code",
      "metadata": {
        "colab_type": "code",
        "id": "OmfDUIgZdMPg",
        "colab": {
          "base_uri": "https://localhost:8080/",
          "height": 104
        },
        "outputId": "ff246941-f929-449f-c687-7f079f9f6779"
      },
      "source": [
        "#On peut accéder à plusieurs éléments d'une liste en utilisant un colon (:)\n",
        "print(my_list[1:3]) #permet d'accéder aux éléments entre les indices 1 et 3 (3 exclu)\n",
        "print(my_list[1:]) #permet d'accéder aux élements à partir de l'indice 1 (jusqu'au dernier)\n",
        "print(my_list[:2]) #permet d'accéder aux éléments du premier jusqu'à l'indice 2 (2 exclu)\n",
        "print(my_list[:]) #permet d'accéder à tous les éléments\n",
        "print(my_list[1:4:2]) #permet d'accéder aux éléments de 1 à 4 (4 exclu) par pas de 2\n",
        "\n"
      ],
      "execution_count": 9,
      "outputs": [
        {
          "output_type": "stream",
          "text": [
            "[3, 5]\n",
            "[3, 5, 7]\n",
            "[1, 3]\n",
            "[1, 3, 5, 7]\n",
            "[3, 7]\n"
          ],
          "name": "stdout"
        }
      ]
    },
    {
      "cell_type": "markdown",
      "metadata": {
        "colab_type": "text",
        "id": "rod9JCbMdMPi"
      },
      "source": [
        "### Manipulation de listes\n",
        "* Addition (+) = concaténation: [1,2] + [3,4] = [1,2,3,4]\n",
        "* Multiplication (\\*) = multiple concaténation: [1,2]\\*2 = [1,2,1,2]\n",
        "* Opération élémentaire => compréhension de liste: [i*4 for i in my_list]"
      ]
    },
    {
      "cell_type": "code",
      "metadata": {
        "colab_type": "code",
        "id": "C4QHuIrudMPi",
        "colab": {
          "base_uri": "https://localhost:8080/",
          "height": 35
        },
        "outputId": "f7e51e13-b04f-4fd2-c4d3-38fa985b7074"
      },
      "source": [
        "#Additionner des listes résulte en une concaténation\n",
        "my_list+[4, 5]"
      ],
      "execution_count": 10,
      "outputs": [
        {
          "output_type": "execute_result",
          "data": {
            "text/plain": [
              "[1, 3, 5, 7, 4, 5]"
            ]
          },
          "metadata": {
            "tags": []
          },
          "execution_count": 10
        }
      ]
    },
    {
      "cell_type": "code",
      "metadata": {
        "colab_type": "code",
        "id": "ZYKKmLuGdMPk",
        "colab": {
          "base_uri": "https://localhost:8080/",
          "height": 35
        },
        "outputId": "a3151599-4024-47a2-a666-eb62867cb5ff"
      },
      "source": [
        "#Naturellement, la multiplication résulte en une multiple concaténation\n",
        "my_list*2, [0]*10"
      ],
      "execution_count": 11,
      "outputs": [
        {
          "output_type": "execute_result",
          "data": {
            "text/plain": [
              "([1, 3, 5, 7, 1, 3, 5, 7], [0, 0, 0, 0, 0, 0, 0, 0, 0, 0])"
            ]
          },
          "metadata": {
            "tags": []
          },
          "execution_count": 11
        }
      ]
    },
    {
      "cell_type": "code",
      "metadata": {
        "colab_type": "code",
        "id": "5zPlIwfddMPl",
        "colab": {
          "base_uri": "https://localhost:8080/",
          "height": 35
        },
        "outputId": "1555ae39-3135-43ee-bb52-80e7fd389ab6"
      },
      "source": [
        "#On peut modifier les éléments d'une liste (on dit que c'est un objet mutable)\n",
        "my_list[0] = 42\n",
        "my_list"
      ],
      "execution_count": 12,
      "outputs": [
        {
          "output_type": "execute_result",
          "data": {
            "text/plain": [
              "[42, 3, 5, 7]"
            ]
          },
          "metadata": {
            "tags": []
          },
          "execution_count": 12
        }
      ]
    },
    {
      "cell_type": "code",
      "metadata": {
        "colab_type": "code",
        "id": "gnr4rZgkdMPn",
        "colab": {}
      },
      "source": [
        "#On ne peut pas additionner un entier à une liste\n",
        "#my_list + 4"
      ],
      "execution_count": 0,
      "outputs": []
    },
    {
      "cell_type": "code",
      "metadata": {
        "colab_type": "code",
        "id": "dZKQ4anxdMPo",
        "colab": {
          "base_uri": "https://localhost:8080/",
          "height": 35
        },
        "outputId": "22b66f7f-069b-438b-9a2b-6056d82f28cd"
      },
      "source": [
        "#Pour réaliser une opération sur chaque élément d'une liste, on peut utiliser une boucle for\n",
        "\n",
        "#%%timeit\n",
        "\n",
        "my_list_plus_4 = [0]*len(my_list)\n",
        "\n",
        "for i in range(len(my_list)):\n",
        "  my_list_plus_4[i] = my_list[i] + 4\n",
        "\n",
        "my_list_plus_4\n",
        "\n"
      ],
      "execution_count": 14,
      "outputs": [
        {
          "output_type": "execute_result",
          "data": {
            "text/plain": [
              "[46, 7, 9, 11]"
            ]
          },
          "metadata": {
            "tags": []
          },
          "execution_count": 14
        }
      ]
    },
    {
      "cell_type": "code",
      "metadata": {
        "colab_type": "code",
        "id": "lukH-ujldMPq",
        "colab": {
          "base_uri": "https://localhost:8080/",
          "height": 35
        },
        "outputId": "285afc4b-8a69-4247-b08d-359e3cab47eb"
      },
      "source": [
        "#Ou\n",
        "\n",
        "#%%timeit\n",
        "\n",
        "my_list_plus_4 = [] #liste vide\n",
        "\n",
        "for item in my_list:\n",
        "  my_list_plus_4.append(item + 4) #ajouter un élément à la nouvelle liste\n",
        "  \n",
        "my_list_plus_4  "
      ],
      "execution_count": 15,
      "outputs": [
        {
          "output_type": "execute_result",
          "data": {
            "text/plain": [
              "[46, 7, 9, 11]"
            ]
          },
          "metadata": {
            "tags": []
          },
          "execution_count": 15
        }
      ]
    },
    {
      "cell_type": "markdown",
      "metadata": {
        "id": "dhcFEDMvxd0Z",
        "colab_type": "text"
      },
      "source": [
        "## Fonctions de base sur les listes\n",
        "\n",
        "Pour chaque type de collection d'objets, différentes fonctions de base permettent de réaliser différents type d'opérations, tels que:"
      ]
    },
    {
      "cell_type": "code",
      "metadata": {
        "id": "QaYSaUrfx0xn",
        "colab_type": "code",
        "outputId": "bb352dd5-192a-42be-db43-31e7f230ef99",
        "colab": {
          "base_uri": "https://localhost:8080/",
          "height": 35
        }
      },
      "source": [
        "#permet de connaître la longueur d'une list\n",
        "l = len(my_list)\n",
        "#Les opérations mathématiques ne fonctionnent que sur les listes\n",
        "#dont tous les éléments sont numériques\n",
        "num_list = [1,2,3, True, 4.2]\n",
        "s = sum(num_list)\n",
        "M = max(num_list)\n",
        "m = min(num_list)\n",
        "\n",
        "a = any([False,False,True]) #output: True\n",
        "A = all([False,False,True]) #output: False\n",
        "print(l, s, M, m, a, A)"
      ],
      "execution_count": 16,
      "outputs": [
        {
          "output_type": "stream",
          "text": [
            "4 11.2 4.2 1 True False\n"
          ],
          "name": "stdout"
        }
      ]
    },
    {
      "cell_type": "markdown",
      "metadata": {
        "id": "9NGzHVBJnORI",
        "colab_type": "text"
      },
      "source": [
        "## Compréhension de listes\n",
        "Instruction plus compacte, et plus rapide (et souvent plus lisible) pour réaliser une opération sur chaque élément dans une liste.\n",
        "\n",
        "Syntaxe: \n",
        "\n",
        "`new_list = [instruction for item in list if condition]`\n",
        "\n",
        "Code équivalent sans compréhension de liste:\n",
        "\n",
        "\n",
        "```\n",
        "new_list = []\n",
        "for item in list:\n",
        "  if condition:\n",
        "    output = instruction\n",
        "    new_list.append(output)\n",
        "```\n",
        "\n",
        "\n",
        "\n"
      ]
    },
    {
      "cell_type": "code",
      "metadata": {
        "colab_type": "code",
        "id": "bhiq2Ge2dMPr",
        "colab": {
          "base_uri": "https://localhost:8080/",
          "height": 35
        },
        "outputId": "ecaab01a-aa71-4f26-f7fc-0534523b87b1"
      },
      "source": [
        "#Pour additionner un scalaire à chaque éléments d'une list, on peut aussi utiliser une \"list-comprehension\": plus compacte, et plus rapide\n",
        "\n",
        "#%%timeit\n",
        "\n",
        "my_list_plus_4 = [i + 4 for i in my_list]\n",
        "my_list_plus_4"
      ],
      "execution_count": 17,
      "outputs": [
        {
          "output_type": "execute_result",
          "data": {
            "text/plain": [
              "[46, 7, 9, 11]"
            ]
          },
          "metadata": {
            "tags": []
          },
          "execution_count": 17
        }
      ]
    },
    {
      "cell_type": "markdown",
      "metadata": {
        "id": "lUuWN0alo9Fv",
        "colab_type": "text"
      },
      "source": [
        "On peut représenter une matrice par une liste de listes. On peut réaliser une opération entre deux liste avec une double compréhension de liste.\n",
        "\n",
        "**Remarque**: En pratique, pour les opérations mathématiques on utilise généralement des librairies spécialisées, telles que **`numpy`** (voir Chapitre 5)."
      ]
    },
    {
      "cell_type": "code",
      "metadata": {
        "id": "za6XJnCWirv5",
        "colab_type": "code",
        "colab": {
          "base_uri": "https://localhost:8080/",
          "height": 35
        },
        "outputId": "b5c4757b-01f2-4bf1-95cf-a6ef065db395"
      },
      "source": [
        "my_list1 = [1,2,3,4]\n",
        "my_list2 = [5,6,7,8]\n",
        "\n",
        "#my_list1'*my_list2:\n",
        "matprod = [ [a*b for b in my_list2] for a in my_list1]\n",
        "matprod"
      ],
      "execution_count": 18,
      "outputs": [
        {
          "output_type": "execute_result",
          "data": {
            "text/plain": [
              "[[5, 6, 7, 8], [10, 12, 14, 16], [15, 18, 21, 24], [20, 24, 28, 32]]"
            ]
          },
          "metadata": {
            "tags": []
          },
          "execution_count": 18
        }
      ]
    },
    {
      "cell_type": "code",
      "metadata": {
        "colab_type": "code",
        "id": "Mv-JRjYFdMPu",
        "outputId": "d02975b4-88fc-4c8a-d703-9d2ebcb851c9",
        "colab": {
          "base_uri": "https://localhost:8080/",
          "height": 52
        }
      },
      "source": [
        "my_list = [-1, 2, 3, -7, 5, -4, 2, 8, -56, 9, 5.3, -4.5]\n",
        "\n",
        "#Remplacer les nombres négatifs par 0 ?\n",
        "zero_list = []\n",
        "for item in my_list:\n",
        "  if item < 0:\n",
        "    zero_list.append(0)\n",
        "  else:\n",
        "    zero_list.append(item)\n",
        "\n",
        "print('négatifs remplacés par 0:', zero_list)\n",
        "\n",
        "#Ou\n",
        "zero_list = [0 if item < 0 else item for item in my_list]\n",
        "\n",
        "print('négatifs remplacés par 0, bis:', zero_list)"
      ],
      "execution_count": 19,
      "outputs": [
        {
          "output_type": "stream",
          "text": [
            "négatifs remplacés par 0: [0, 2, 3, 0, 5, 0, 2, 8, 0, 9, 5.3, 0]\n",
            "négatifs remplacés par 0, bis: [0, 2, 3, 0, 5, 0, 2, 8, 0, 9, 5.3, 0]\n"
          ],
          "name": "stdout"
        }
      ]
    },
    {
      "cell_type": "code",
      "metadata": {
        "colab_type": "code",
        "id": "pvouVh1JdMPw",
        "outputId": "7ac0eeff-0060-4535-dde9-3ec772bf50b5",
        "colab": {
          "base_uri": "https://localhost:8080/",
          "height": 35
        }
      },
      "source": [
        "#Eliminer les nombres négatifs d'une liste ?\n",
        "my_list = [-1, 2, 3, -7, 5, -4, 2, 8, -56, 9, 5.3, -4.5]\n",
        "positive_list = [item for item in my_list if item >= 0]\n",
        "print('négatifs éliminés:', positive_list)"
      ],
      "execution_count": 20,
      "outputs": [
        {
          "output_type": "stream",
          "text": [
            "négatifs éliminés: [2, 3, 5, 2, 8, 9, 5.3]\n"
          ],
          "name": "stdout"
        }
      ]
    },
    {
      "cell_type": "markdown",
      "metadata": {
        "id": "2cr6Y6LzkcYF",
        "colab_type": "text"
      },
      "source": [
        "## Exercice: filtrer une liste de prix\n",
        "Parmi une liste de prix, ne garder que ceux entre 200.000 et 300.000."
      ]
    },
    {
      "cell_type": "code",
      "metadata": {
        "id": "enOi67CUqL33",
        "colab_type": "code",
        "colab": {}
      },
      "source": [
        "prices = [50000, 1000, 500000, 200000, 300000, 400000, 260000, 270000]"
      ],
      "execution_count": 0,
      "outputs": []
    },
    {
      "cell_type": "code",
      "metadata": {
        "id": "N_70SZ5SwDB6",
        "colab_type": "code",
        "colab": {}
      },
      "source": [
        ""
      ],
      "execution_count": 0,
      "outputs": []
    },
    {
      "cell_type": "markdown",
      "metadata": {
        "id": "iaqayQP0v8VO",
        "colab_type": "text"
      },
      "source": [
        "### Solution"
      ]
    },
    {
      "cell_type": "code",
      "metadata": {
        "id": "MgbUBQS9jwme",
        "colab_type": "code",
        "colab": {}
      },
      "source": [
        "\n",
        "#Boucle:\n",
        "filtered = []\n",
        "for p in prices:\n",
        "  if p >= 200000 and p <= 300000:\n",
        "    filtered.append(p)\n",
        "    \n",
        "#List-comprehension:\n",
        "filtered = [p for p in prices if p >= 200000 and p <= 300000 ]\n",
        "\n",
        "print(filtered)\n"
      ],
      "execution_count": 0,
      "outputs": []
    },
    {
      "cell_type": "markdown",
      "metadata": {
        "colab_type": "text",
        "id": "wTBznGUrdMPx"
      },
      "source": [
        "# Les tuples"
      ]
    },
    {
      "cell_type": "markdown",
      "metadata": {
        "id": "1np555hZbIAa",
        "colab_type": "text"
      },
      "source": [
        "* Les tuples sont des listes immuables.\n",
        "* A quoi ça sert ?\n",
        "  * Traitement plus rapide dans certains contextes\n",
        "  * Moins de risque de confusion due à de multiple références d'un objet mutable (voir Chapitre 3)\n",
        "  * Certains traitements nécessitent des objets immuables et ne peuvent donc pas être utilisés avec des listes. E.g.: les clés d'un dictionnaires (voir Section suivante)\n",
        "\n",
        "**Remarque**: on utilise en général des tuples pour représenter une structure de données: \n",
        "\n",
        "E.g.: `a_house = (\"Rue de Fer 25, Namur\", \"villa\", 2000000, 4, \"immoweb\")`\n",
        "\n",
        "Avec des types généralement différents. Ce type de représentation a peu d'intérêt d'être mutable.  Il représente les caractéristiques d'un bien immobilier dans cet exemple (addresse, type, prix, nombre de chambre, source).\n",
        "A l'inverse, on utilise généralement une liste pour représenter une collection d'objets homogènes (bien que ça accepte des types hétérogènes). \n",
        "\n",
        "E.g.: `house_prices = [200000, 350000, 170000, 270000]`\n",
        "\n",
        "L'utilisation d'une liste permet de facilement ajouter/supprimer des éléments (généralement du même type, e.g. de nouveaux prix), et de réaliser rapidement des instructions sur chaque élément grâce aux compréhensions de liste."
      ]
    },
    {
      "cell_type": "code",
      "metadata": {
        "colab_type": "code",
        "id": "DpGw57sKdMPy",
        "colab": {
          "base_uri": "https://localhost:8080/",
          "height": 35
        },
        "outputId": "fd6427b0-a505-4d84-932a-f4ceae6951ea"
      },
      "source": [
        "#L'utilisation de parenthèses permet de déclarer un tuple\n",
        "my_tuple = (\"Rue de Fer 25, Namur\", \"villa\", 2000000, 4, \"immoweb\")\n",
        "my_tuple"
      ],
      "execution_count": 21,
      "outputs": [
        {
          "output_type": "execute_result",
          "data": {
            "text/plain": [
              "('Rue de Fer 25, Namur', 'villa', 2000000, 4, 'immoweb')"
            ]
          },
          "metadata": {
            "tags": []
          },
          "execution_count": 21
        }
      ]
    },
    {
      "cell_type": "code",
      "metadata": {
        "id": "a3cE0iEobx8I",
        "colab_type": "code",
        "outputId": "0616bdaf-203e-4d47-8eb6-fa89bc494258",
        "colab": {
          "base_uri": "https://localhost:8080/",
          "height": 35
        }
      },
      "source": [
        "my_set = {2,1,1,2,1,3,1}\n",
        "my_set.add(4)\n",
        "my_set"
      ],
      "execution_count": 22,
      "outputs": [
        {
          "output_type": "execute_result",
          "data": {
            "text/plain": [
              "{1, 2, 3, 4}"
            ]
          },
          "metadata": {
            "tags": []
          },
          "execution_count": 22
        }
      ]
    },
    {
      "cell_type": "code",
      "metadata": {
        "colab_type": "code",
        "id": "XEZEZO0ldMPz",
        "colab": {
          "base_uri": "https://localhost:8080/",
          "height": 35
        },
        "outputId": "882b8cde-a0be-4d4e-cf71-d1399e61995a"
      },
      "source": [
        "# Les parenthèses sont conventionnelles mais ne sont cependant pas nécessaires pour déclarer un tuple\n",
        "my_tuple = \"Rue de Fer 25, Namur\", \"villa\", 2000000, 4, \"immoweb\"\n",
        "my_tuple"
      ],
      "execution_count": 23,
      "outputs": [
        {
          "output_type": "execute_result",
          "data": {
            "text/plain": [
              "('Rue de Fer 25, Namur', 'villa', 2000000, 4, 'immoweb')"
            ]
          },
          "metadata": {
            "tags": []
          },
          "execution_count": 23
        }
      ]
    },
    {
      "cell_type": "code",
      "metadata": {
        "colab_type": "code",
        "id": "kfHScQuRdMP1",
        "colab": {
          "base_uri": "https://localhost:8080/",
          "height": 35
        },
        "outputId": "f4dd50de-9f81-4eaf-acf2-4aa3961520ff"
      },
      "source": [
        "my_tuple[0]"
      ],
      "execution_count": 24,
      "outputs": [
        {
          "output_type": "execute_result",
          "data": {
            "text/plain": [
              "'Rue de Fer 25, Namur'"
            ]
          },
          "metadata": {
            "tags": []
          },
          "execution_count": 24
        }
      ]
    },
    {
      "cell_type": "code",
      "metadata": {
        "colab_type": "code",
        "id": "L-9ZVBPFdMP4",
        "colab": {
          "base_uri": "https://localhost:8080/",
          "height": 166
        },
        "outputId": "f4e721aa-c50c-4551-f3fb-b93f2098a8ab"
      },
      "source": [
        "#On ne peut pas modifier les éléments d'un tuple, on dit que c'est un \"objet immuable\" (immutable en anglais). La ligne suivante donne donc une erreur\n",
        "my_tuple[2] = 300000"
      ],
      "execution_count": 25,
      "outputs": [
        {
          "output_type": "error",
          "ename": "TypeError",
          "evalue": "ignored",
          "traceback": [
            "\u001b[0;31m---------------------------------------------------------------------------\u001b[0m",
            "\u001b[0;31mTypeError\u001b[0m                                 Traceback (most recent call last)",
            "\u001b[0;32m<ipython-input-25-86038907a6b7>\u001b[0m in \u001b[0;36m<module>\u001b[0;34m()\u001b[0m\n\u001b[0;32m----> 1\u001b[0;31m \u001b[0mmy_tuple\u001b[0m\u001b[0;34m[\u001b[0m\u001b[0;36m2\u001b[0m\u001b[0;34m]\u001b[0m \u001b[0;34m=\u001b[0m \u001b[0;36m300000\u001b[0m\u001b[0;34m\u001b[0m\u001b[0;34m\u001b[0m\u001b[0m\n\u001b[0m",
            "\u001b[0;31mTypeError\u001b[0m: 'tuple' object does not support item assignment"
          ]
        }
      ]
    },
    {
      "cell_type": "code",
      "metadata": {
        "colab_type": "code",
        "id": "CMB9TWuedMP6",
        "colab": {}
      },
      "source": [
        "my_list = [-1, 2, 3, -7, 5, -4, 2, 8, -56, 9, 5.3, -4.5]\n",
        "my_tuple = tuple(my_list)"
      ],
      "execution_count": 0,
      "outputs": []
    },
    {
      "cell_type": "code",
      "metadata": {
        "colab_type": "code",
        "id": "2zgmYLaSdMP8",
        "colab": {
          "base_uri": "https://localhost:8080/",
          "height": 69
        },
        "outputId": "0468292d-9802-4fbd-cfc3-e14f8ba9efc7"
      },
      "source": [
        "%timeit my_list = [-1, 2, 3, -7, 5, -4, 2, 8, -56, 9, 5.3, -4.5]\n",
        "%timeit my_tuple = (-1, 2, 3, -7, 5, -4, 2, 8, -56, 9, 5.3, -4.5)"
      ],
      "execution_count": 27,
      "outputs": [
        {
          "output_type": "stream",
          "text": [
            "The slowest run took 14.15 times longer than the fastest. This could mean that an intermediate result is being cached.\n",
            "10000000 loops, best of 3: 74.8 ns per loop\n",
            "100000000 loops, best of 3: 12.7 ns per loop\n"
          ],
          "name": "stdout"
        }
      ]
    },
    {
      "cell_type": "markdown",
      "metadata": {
        "id": "kZkX_xix6ZbT",
        "colab_type": "text"
      },
      "source": [
        "**Remarque**:\n",
        "\n",
        "Les commandes commençant pas % ou %% sont des \"commandes magiques\" propres aux Notebooks, et ne fonctionnent pas dans un script python classique. "
      ]
    },
    {
      "cell_type": "markdown",
      "metadata": {
        "id": "AycsAu2eMpUI",
        "colab_type": "text"
      },
      "source": [
        "# Les dictionnaires\n"
      ]
    },
    {
      "cell_type": "markdown",
      "metadata": {
        "id": "WQh0MoRvbLf2",
        "colab_type": "text"
      },
      "source": [
        "Les dictionnaires sont des collection de données de type paire clé-valeur.\n",
        "On utilise des accolades {} pour déclarer un dictionnaire.\n",
        "Les dictionnaires sont des objets mutables, ce qui veut dire qu'on peut ajouter des clés et des valeurs après déclaration.\n",
        "Les dictionnaires permettent notamment de manipuler un ensemble de données tabulaires.\n",
        "\n",
        "**Remarque:** Nous verrons plus loin qu'ils existe une représentation plus pratique de données tabulaires: le DataFrame.\n",
        "\n"
      ]
    },
    {
      "cell_type": "code",
      "metadata": {
        "id": "LZQJAw91z4j4",
        "colab_type": "code",
        "colab": {
          "base_uri": "https://localhost:8080/",
          "height": 139
        },
        "outputId": "f08e2aca-8634-4fcb-d7e1-759b5ce32db1"
      },
      "source": [
        "house1 = {\"address\":\"Rue de Fer 25, 5000 Namur\", \"website\":\"immoweb\", \"price\": 400000, \"surface\":150}\n",
        "\n",
        "house2 = {\"address\":\"Rue de Bruxelles 42, 5000 Namur\", \"website\":\"immoweb\", \"price\": 350000, \"surface\":200}\n",
        "\n",
        "house3 = {\"address\":\"Porte de Namur 25, Bruxelles\", \"website\":\"immovlan\", \"price\": 400000, \"surface\":100}\n",
        "\n",
        "#On peut modifier une valeur\n",
        "house1[\"surface\"] = 170\n",
        "\n",
        "#On peut aussi ajouter une clé\n",
        "house1[\"rooms\"] = 4\n",
        "\n",
        "#On peut itérer sur les clés d'un dictionnaire\n",
        "for key in house1:\n",
        "  print(key, ' - ', house1[key])\n",
        "  \n",
        "#On peut utiliser des compréhension de dictionnaire (ce qui crée un nouveau dictionnaire)\n",
        "house1_string = {key:str(house1[key]) for key in house1}\n",
        "print(\"Valeurs du dictionnaire converties en strings:\", house1_string)\n",
        "\n",
        "#On peut aussi utiliser des compréhensions de liste (Remarque: on peut utiliser des compréhension de liste sur tout objet itérable, c'est-à-dire utilisable avec l'instruction \"for\")\n",
        "is_string = [type(house1[key]) is str for key in house1]\n",
        "print(\"is_string:\", is_string)\n",
        "\n"
      ],
      "execution_count": 28,
      "outputs": [
        {
          "output_type": "stream",
          "text": [
            "address  -  Rue de Fer 25, 5000 Namur\n",
            "website  -  immoweb\n",
            "price  -  400000\n",
            "surface  -  170\n",
            "rooms  -  4\n",
            "Valeurs du dictionnaire converties en strings: {'address': 'Rue de Fer 25, 5000 Namur', 'website': 'immoweb', 'price': '400000', 'surface': '170', 'rooms': '4'}\n",
            "is_string: [True, True, False, False, False]\n"
          ],
          "name": "stdout"
        }
      ]
    },
    {
      "cell_type": "code",
      "metadata": {
        "id": "LPetWxyyMskg",
        "colab_type": "code",
        "colab": {
          "base_uri": "https://localhost:8080/",
          "height": 72
        },
        "outputId": "754c7797-63ad-4dc6-895e-cb58966f435b"
      },
      "source": [
        "#Dictionnaire de dictionnaires\n",
        "house_dataset = {1:house1,2:house2,3:house3}\n",
        "\n",
        "\n",
        "# => Facile d'extraire et ajouter une maison:\n",
        "my_house = house_dataset[2]\n",
        "house_dataset[4] = {\"address\":\"Rue de Fer 26, Namur\", \"website\":\"immovlan\", \"price\": 370000, \"surface\":170}\n",
        "\n",
        "\n",
        "# Facile de filtrer les maisons:\n",
        "big_houses = {k:house_dataset[k] for k in house_dataset if house_dataset[k][\"surface\"] > 150}\n",
        "print(\"Grandes maisons:\", big_houses)\n",
        "\n",
        "\n",
        "# Moins facile d'extraire ou ajouter une caractéristique pour toutes les maisons: on doit modifier itérativement chaque élément (maison)!\n",
        "rooms = [4,3,4,2]\n",
        "keys = list(house_dataset.keys())\n",
        "for i in range(4):\n",
        "  house_dataset[keys[i]][\"rooms\"] = rooms[i]\n",
        "\n",
        "print(house_dataset)"
      ],
      "execution_count": 29,
      "outputs": [
        {
          "output_type": "stream",
          "text": [
            "Grandes maisons: {1: {'address': 'Rue de Fer 25, 5000 Namur', 'website': 'immoweb', 'price': 400000, 'surface': 170, 'rooms': 4}, 2: {'address': 'Rue de Bruxelles 42, 5000 Namur', 'website': 'immoweb', 'price': 350000, 'surface': 200}, 4: {'address': 'Rue de Fer 26, Namur', 'website': 'immovlan', 'price': 370000, 'surface': 170}}\n",
            "{1: {'address': 'Rue de Fer 25, 5000 Namur', 'website': 'immoweb', 'price': 400000, 'surface': 170, 'rooms': 4}, 2: {'address': 'Rue de Bruxelles 42, 5000 Namur', 'website': 'immoweb', 'price': 350000, 'surface': 200, 'rooms': 3}, 3: {'address': 'Porte de Namur 25, Bruxelles', 'website': 'immovlan', 'price': 400000, 'surface': 100, 'rooms': 4}, 4: {'address': 'Rue de Fer 26, Namur', 'website': 'immovlan', 'price': 370000, 'surface': 170, 'rooms': 2}}\n"
          ],
          "name": "stdout"
        }
      ]
    },
    {
      "cell_type": "code",
      "metadata": {
        "id": "8nH1fRuF03Pn",
        "colab_type": "code",
        "colab": {
          "base_uri": "https://localhost:8080/",
          "height": 72
        },
        "outputId": "dd7e3377-ead2-42fb-f394-c51a36188172"
      },
      "source": [
        "#Dictionnaire de listes ?\n",
        "#Remarque: on peut écrire la déclaration d'une collection d'objet (list [], tuple () ou dict{}) sur plusieurs lignes.\n",
        "house_dataset2 = {\"address\":[\"Rue de Fer 25, 5000 Namur\", \"Rue de Bruxelles 42, 5000 Namur\", \"Porte de Namur 25, Bruxelles\"],\n",
        "          \"website\":[\"immoweb\",\"immoweb\",\"immovlan\"],\n",
        "           \"price\": [400000, 350000, 400000],\n",
        "           \"surface\":[150, 200, 100]}\n",
        "\n",
        "\n",
        "# Plus facile d'extaire et ajouter une caractéristique:\n",
        "prices = house_dataset2[\"price\"]\n",
        "house_dataset2[\"rooms\"] = [4,3,4]\n",
        "\n",
        "\n",
        "#Facile de filtrer des caractéristiques:\n",
        "house_numbers = {k:house_dataset2[k] for k in house_dataset2 if type(house_dataset2[k][0]) is int}\n",
        "print(\"Variables numériques:\", house_numbers)\n",
        "\n",
        "\n",
        "# Mais moins facile d'extraire ou ajouter une maison: on doit modifier itérativement chaque élément (liste)!\n",
        "house4 = (\"Rue de Fer 26, Namur\", \"immovlan\", 370000, 170, 2)\n",
        "keys = list(house_dataset2.keys())\n",
        "for i in range(5):\n",
        "  house_dataset2[keys[i]].append(house4[i])\n",
        "\n",
        "print(house_dataset2)"
      ],
      "execution_count": 30,
      "outputs": [
        {
          "output_type": "stream",
          "text": [
            "Variables numériques: {'price': [400000, 350000, 400000], 'surface': [150, 200, 100], 'rooms': [4, 3, 4]}\n",
            "{'address': ['Rue de Fer 25, 5000 Namur', 'Rue de Bruxelles 42, 5000 Namur', 'Porte de Namur 25, Bruxelles', 'Rue de Fer 26, Namur'], 'website': ['immoweb', 'immoweb', 'immovlan', 'immovlan'], 'price': [400000, 350000, 400000, 370000], 'surface': [150, 200, 100, 170], 'rooms': [4, 3, 4, 2]}\n"
          ],
          "name": "stdout"
        }
      ]
    },
    {
      "cell_type": "markdown",
      "metadata": {
        "id": "zs4LBR5T1yOb",
        "colab_type": "text"
      },
      "source": [
        "**Remarque:**\n",
        "\n",
        "On verra plus tard qu'il existe une représentation plus pratique des données (le DataFrame), qu'on peut utiliser avec des librairies spécialisées."
      ]
    },
    {
      "cell_type": "markdown",
      "metadata": {
        "colab_type": "text",
        "id": "YSsjbGuactyF"
      },
      "source": [
        "# Les strings sont des collections de données du même type"
      ]
    },
    {
      "cell_type": "markdown",
      "metadata": {
        "id": "5KoHyMI2bOn5",
        "colab_type": "text"
      },
      "source": [
        "* le string est une séquence (une collection ordonnée) de caractères\n",
        "* il existe de nombreuses méthodes spécifiques aux string"
      ]
    },
    {
      "cell_type": "code",
      "metadata": {
        "colab_type": "code",
        "id": "2-dmeXrYctyD",
        "colab": {
          "base_uri": "https://localhost:8080/",
          "height": 156
        },
        "outputId": "b54daf72-42e8-4fc5-a589-675f42bfb420"
      },
      "source": [
        "address = \"Rue de Bruxelles\"\n",
        "\n",
        "print(\"Premier élément:\\n\", address[0])\n",
        "\n",
        "#On peut convertir un string en une autre collection simple (e.g., une liste)\n",
        "print(\"Converti en liste:\\n\", list(address))\n",
        "\n",
        "print(\"Converti en minuscules:\\n\", address.lower() )\n",
        "\n",
        "print(\"Split des mots (i.e. splitter les chaînes entre les whitespaces (' ') ):\\n\", address.split(' ') )"
      ],
      "execution_count": 31,
      "outputs": [
        {
          "output_type": "stream",
          "text": [
            "Premier élément:\n",
            " R\n",
            "Converti en liste:\n",
            " ['R', 'u', 'e', ' ', 'd', 'e', ' ', 'B', 'r', 'u', 'x', 'e', 'l', 'l', 'e', 's']\n",
            "Converti en minuscules:\n",
            " rue de bruxelles\n",
            "Split des mots (i.e. splitter les chaînes entre les whitespaces (' ') ):\n",
            " ['Rue', 'de', 'Bruxelles']\n"
          ],
          "name": "stdout"
        }
      ]
    },
    {
      "cell_type": "markdown",
      "metadata": {
        "colab_type": "text",
        "id": "gybv34UucZhL"
      },
      "source": [
        "# Un opérateur spécifique aux collections: \"in\""
      ]
    },
    {
      "cell_type": "markdown",
      "metadata": {
        "id": "uJ969OlabSI5",
        "colab_type": "text"
      },
      "source": [
        "* **`for i in [0,1,2,3]:`** itération sur chaque élément de la collection\n",
        "* **`if \"n\" in [\"n\",\"a\",\"m\",\"u\",\"r\"]:`** permet de vérifier la condition qu'un élément soit dans une collection\n",
        "* ça fonctionne aussi pour les strings: **`\"n\" in \"namur\"`** => **`True`**"
      ]
    },
    {
      "cell_type": "code",
      "metadata": {
        "colab_type": "code",
        "id": "MtMvGFkwctyB",
        "outputId": "03f90e97-77b1-48bf-ee1b-654684925e49",
        "colab": {
          "base_uri": "https://localhost:8080/",
          "height": 52
        }
      },
      "source": [
        "address_list = ['Rue de la Loi, Bruxelles','Rue de Bruxelles 61, Namur',\n",
        "                'Rue de Fer 42, Namur', 'Chaussée de Bruxelles',\n",
        "                'Gauffre de Bruxelles', 'Grand Place, Bruxelles']\n",
        "\n",
        "brux = []\n",
        "\n",
        "for address in address_list:\n",
        "  if 'Bruxelles' in address:\n",
        "    brux.append(address)\n",
        "\n",
        "print(brux)\n",
        "#Ou\n",
        "brux = [address for address in address_list if 'Bruxelles' in address]\n",
        "\n",
        "print(brux)"
      ],
      "execution_count": 32,
      "outputs": [
        {
          "output_type": "stream",
          "text": [
            "['Rue de la Loi, Bruxelles', 'Rue de Bruxelles 61, Namur', 'Chaussée de Bruxelles', 'Gauffre de Bruxelles', 'Grand Place, Bruxelles']\n",
            "['Rue de la Loi, Bruxelles', 'Rue de Bruxelles 61, Namur', 'Chaussée de Bruxelles', 'Gauffre de Bruxelles', 'Grand Place, Bruxelles']\n"
          ],
          "name": "stdout"
        }
      ]
    },
    {
      "cell_type": "markdown",
      "metadata": {
        "id": "id59pbm2rLRr",
        "colab_type": "text"
      },
      "source": [
        "# Récapitulatif de syntaxe\n"
      ]
    },
    {
      "cell_type": "markdown",
      "metadata": {
        "id": "tPdut8FexLrw",
        "colab_type": "text"
      },
      "source": [
        "## Quand utiliser (), [] et {}\n",
        "\n",
        "Pour assigner une collection d'objet, on utilise `[]` pour une `list`, `()` pour un `tuple`, `{}` pour un `dict`.\n",
        "Pour accéder aux éléments d'une collection, on utilise toujours des crochets [i]. E.g.: `my_list[i], my_tuple[i], my_dict[i]`\n",
        "Pour appeler une function ou une méthode, on utilise des parenthèses. E.g. print(my_list), ou my_list.append(42)"
      ]
    },
    {
      "cell_type": "code",
      "metadata": {
        "id": "EnPczaoJUMPV",
        "colab_type": "code",
        "colab": {
          "base_uri": "https://localhost:8080/",
          "height": 35
        },
        "outputId": "68a83f25-12e4-40be-841b-54ce03d4d578"
      },
      "source": [
        "my_list = ['a','b','c']\n",
        "my_tuple = (1,2,3)\n",
        "my_dict = {'a':1, 'b':2, 'c':3}\n",
        "\n",
        "my_list.append('d')\n",
        "print(my_list[3], my_tuple[0], my_dict['c'])\n"
      ],
      "execution_count": 33,
      "outputs": [
        {
          "output_type": "stream",
          "text": [
            "d 1 3\n"
          ],
          "name": "stdout"
        }
      ]
    },
    {
      "cell_type": "markdown",
      "metadata": {
        "id": "443EvAluxQVq",
        "colab_type": "text"
      },
      "source": [
        "## Nouveaux mots-clés et types de données"
      ]
    },
    {
      "cell_type": "code",
      "metadata": {
        "id": "s6qg3h_RxOaV",
        "colab_type": "code",
        "colab": {}
      },
      "source": [
        "list\n",
        "dict\n",
        "tuple\n",
        "set\n",
        "\n",
        "len\n",
        "sum\n",
        "max\n",
        "min\n",
        "any\n",
        "all\n",
        "\n",
        "in\n",
        "\n",
        "#list comprehension syntax:\n",
        "[instruction for item in list if condition]\n",
        "\n",
        "#dictionary comprehension syntax\n",
        "{key_instruction:value_instruction for key in dict if condition}"
      ],
      "execution_count": 0,
      "outputs": []
    },
    {
      "cell_type": "markdown",
      "metadata": {
        "id": "Czz3CM7trM1f",
        "colab_type": "text"
      },
      "source": [
        "Vous êtes maintenant capables de manipuler des collections d'objets, vous pouvez passer au [Chapitre 3: Concepts avancés de programmation: exceptions, fonctions, objets](https://colab.research.google.com/github/titsitits/UNamur_Python_Analytics/blob/master/3_Advanced_Python.ipynb)"
      ]
    }
  ]
}