{
  "nbformat": 4,
  "nbformat_minor": 0,
  "metadata": {
    "colab": {
      "name": "5_Python_packages.ipynb",
      "provenance": [],
      "collapsed_sections": [],
      "toc_visible": true,
      "include_colab_link": true
    },
    "kernelspec": {
      "name": "python3",
      "display_name": "Python 3"
    }
  },
  "cells": [
    {
      "cell_type": "markdown",
      "metadata": {
        "id": "view-in-github",
        "colab_type": "text"
      },
      "source": [
        "<a href=\"https://colab.research.google.com/github/titsitits/Python_Data_Science/blob/master/Completed_notebooks/5_Python_packages.ipynb\" target=\"_parent\"><img src=\"https://colab.research.google.com/assets/colab-badge.svg\" alt=\"Open In Colab\"/></a>"
      ]
    },
    {
      "cell_type": "markdown",
      "metadata": {
        "id": "DfQ-d2onvooo",
        "colab_type": "text"
      },
      "source": [
        "Mickaël Tits\n",
        "CETIC\n",
        "mickael.tits@cetic.be"
      ]
    },
    {
      "cell_type": "markdown",
      "metadata": {
        "id": "Ug1Bj8_tAVWq",
        "colab_type": "text"
      },
      "source": [
        "# Chapitre 5 - Les librairies Python pour l'analyse de données\n",
        "\n",
        "Une des grandes forces du langage de programmation Python est l'énorme communauté de développeurs qui développent et maintiennent un grand nombre de librairies, facilitant la vie desprogrammeurs. Ces librairies permettent d'utiliser des nouveaux types d'objets spécialisés, aux applications très variées, dont par exemple l'import/export/le traitement/la visualisation de données spécifiques, de l'analyse mathématique/statistique/scientifique poussée, l'interfaçage et la connecticité avec d'autres outils informatiques, etc.\n",
        "\n",
        "Dans le domaine de l'analyse de données en particulier, voici une liste de librairies incontourables que nous allons voir dans le cadre de ce cours:\n",
        "* [numpy](https://numpy.org/) : librairie de calcul scientifique (algèbre, calcul matriciel, stochastique, etc.)\n",
        "* [scipy](https://www.scipy.org/): librairie de calcul scientifique et statistique (reposant sur numpy)\n",
        "* [pandas](https://pandas.pydata.org/) : librairie permettant la représentation, la manipulation et l'analyse de données sous forme de tableaux (ou DataFrames)\n",
        "* [matplotlib](https://matplotlib.org/) : librairie de visualisation graphique de données (voir Chapitre 6)\n",
        "\n",
        "\n",
        "Pour importer un package, il faut tout d'abord qu'il soit installé sur la machine (ce qui est déjà fait la plupart du temps dans Google Colab).\n",
        "Ensuite, il faut utiliser les mots-clés suivants:\n",
        "\n",
        "**`import`** `package` **`as`** `alias`\n",
        "\n",
        "ou:\n",
        "\n",
        "**`from`** `package` **`import`** `subpackage` **`as`** `alias`\n",
        "\n"
      ]
    },
    {
      "cell_type": "markdown",
      "metadata": {
        "id": "gBY_raFzHDU5",
        "colab_type": "text"
      },
      "source": [
        "# `Numpy`\n",
        "Numpy est une librairie de calcul mathématique. Elle inclut notamment l'objet **`ndarray`** (n-dimensional array) qui est une représentation d'un tableau multidimensionnel (un tenseur). On peut notamment utiliser cet objet pour représenter une matrice ou un vecteur. Le package dispose de nombreuses fonctions et méthodes permettant notamment des opérations algébriques sur ces objets, ou la génération de nombres aléatoires."
      ]
    },
    {
      "cell_type": "code",
      "metadata": {
        "id": "r52k4kgIBUNU",
        "colab_type": "code",
        "outputId": "d3fae682-8463-434c-9ff0-ec1648b58409",
        "colab": {
          "base_uri": "https://localhost:8080/",
          "height": 105
        }
      },
      "source": [
        "import numpy as np\n",
        "\n",
        "price_list = [ 100000, 300000, 250000]\n",
        "\n",
        "price_array = np.array(price_list)\n",
        "\n",
        "print(price_array)\n",
        "\n",
        "print(\"shape:\", price_array.shape)\n",
        "print(\"mean:\", price_array.mean())\n",
        "print(\"argmax:\", price_array.argmax())\n",
        "print(\"cumsum:\", price_array.cumsum())\n"
      ],
      "execution_count": 93,
      "outputs": [
        {
          "output_type": "stream",
          "text": [
            "[100000 300000 250000]\n",
            "shape: (3,)\n",
            "mean: 216666.66666666666\n",
            "argmax: 1\n",
            "cumsum: [100000 400000 650000]\n"
          ],
          "name": "stdout"
        }
      ]
    },
    {
      "cell_type": "code",
      "metadata": {
        "id": "R5iFYHDdFnsK",
        "colab_type": "code",
        "outputId": "0a7ec61c-451b-45fd-a99e-a5b1a379c87f",
        "colab": {
          "base_uri": "https://localhost:8080/",
          "height": 70
        }
      },
      "source": [
        "my_array1 = np.array([[1,2,3]])\n",
        "my_array2 = np.array([[4,5,6]])\n",
        "\n",
        "print(my_array1.shape)\n",
        "\n",
        "#element-wise\n",
        "print(my_array1*my_array2)\n",
        "#matrix product\n",
        "print(my_array1@my_array2.T)"
      ],
      "execution_count": 94,
      "outputs": [
        {
          "output_type": "stream",
          "text": [
            "(1, 3)\n",
            "[[ 4 10 18]]\n",
            "[[32]]\n"
          ],
          "name": "stdout"
        }
      ]
    },
    {
      "cell_type": "code",
      "metadata": {
        "id": "4xn6xR2tCu_4",
        "colab_type": "code",
        "outputId": "8ff189e5-f0a7-445c-f01b-166cadb3496b",
        "colab": {
          "base_uri": "https://localhost:8080/",
          "height": 55
        }
      },
      "source": [
        "print(\"Opérations de base sur des listes => concaténation:\", (price_list + price_list)*2)"
      ],
      "execution_count": 95,
      "outputs": [
        {
          "output_type": "stream",
          "text": [
            "Opérations de base sur des listes => concaténation: [100000, 300000, 250000, 100000, 300000, 250000, 100000, 300000, 250000, 100000, 300000, 250000]\n"
          ],
          "name": "stdout"
        }
      ]
    },
    {
      "cell_type": "code",
      "metadata": {
        "id": "NOO8Aqh3DTdD",
        "colab_type": "code",
        "outputId": "156429fc-0900-4ea1-fbb6-98b7904f4a22",
        "colab": {
          "base_uri": "https://localhost:8080/",
          "height": 35
        }
      },
      "source": [
        "print(\"Opérations de base sur un array => algèbre:\", (price_array + price_array)*2/100%42)"
      ],
      "execution_count": 96,
      "outputs": [
        {
          "output_type": "stream",
          "text": [
            "Opérations de base sur un array => algèbre: [10. 30.  4.]\n"
          ],
          "name": "stdout"
        }
      ]
    },
    {
      "cell_type": "markdown",
      "metadata": {
        "id": "5UFH469xK06U",
        "colab_type": "text"
      },
      "source": [
        "# `Scipy`\n",
        "\n",
        "Scipy est une librairie de calcul scientifique, et plus particulièrement de statistiques.\n",
        "Elle se base sur Numpy pour la représentation des données mathématiques."
      ]
    },
    {
      "cell_type": "code",
      "metadata": {
        "id": "NKPGpZsAK3F3",
        "colab_type": "code",
        "outputId": "718ff848-4f86-4c00-fe08-f8a4ffc08e0b",
        "colab": {
          "base_uri": "https://localhost:8080/",
          "height": 55
        }
      },
      "source": [
        "from scipy import stats\n",
        "\n",
        "#le package random permet de générer des nombres (pseudo-)aléatoires\n",
        "from numpy import random as rnd\n",
        "\n",
        "#génération d'un array contenant 100 valeurs aléatoires suivant une distribution gaussienne (randn = normal distribution; rand = uniform distribution)\n",
        "my_array = rnd.randn(100)\n",
        "\n",
        "#description statistique\n",
        "stats.describe(my_array)"
      ],
      "execution_count": 97,
      "outputs": [
        {
          "output_type": "execute_result",
          "data": {
            "text/plain": [
              "DescribeResult(nobs=100, minmax=(-2.802575001026095, 2.3866559492563884), mean=-0.20455859436737925, variance=0.9825717020169648, skewness=-0.08211432741588111, kurtosis=-0.4038582324354376)"
            ]
          },
          "metadata": {
            "tags": []
          },
          "execution_count": 97
        }
      ]
    },
    {
      "cell_type": "code",
      "metadata": {
        "id": "Z-9f3Rj55k6C",
        "colab_type": "code",
        "outputId": "145fbb5d-5e0e-4ae5-816f-487cc6e3172d",
        "colab": {
          "base_uri": "https://localhost:8080/",
          "height": 52
        }
      },
      "source": [
        "#Distribution normale standard:\n",
        "print(stats.norm.pdf(0), stats.norm.cdf(0))\n",
        "stats.norm.cdf(1)-stats.norm.cdf(0)"
      ],
      "execution_count": 98,
      "outputs": [
        {
          "output_type": "stream",
          "text": [
            "0.3989422804014327 0.5\n"
          ],
          "name": "stdout"
        },
        {
          "output_type": "execute_result",
          "data": {
            "text/plain": [
              "0.3413447460685429"
            ]
          },
          "metadata": {
            "tags": []
          },
          "execution_count": 98
        }
      ]
    },
    {
      "cell_type": "markdown",
      "metadata": {
        "id": "LTs6tGklut_5",
        "colab_type": "text"
      },
      "source": [
        "Exemple: simulons une séquence de 100 jets de dés, et analysons les statistiques:"
      ]
    },
    {
      "cell_type": "code",
      "metadata": {
        "id": "9g4YP0LjtM3h",
        "colab_type": "code",
        "outputId": "4f5cfc2f-0291-44a1-975b-7334f6acc1d9",
        "colab": {
          "base_uri": "https://localhost:8080/",
          "height": 35
        }
      },
      "source": [
        "#Jet de dé: distribution uniforme et discrète des nombres [1,2,3,4,5,6]\n",
        "#tosses = np.ceil(rnd.rand(100)*6).astype(int)\n",
        "#plus rapide:\n",
        "tosses = np.random.randint(1,7,100)\n",
        "#print(tosses)\n",
        "print(stats.describe(tosses))\n"
      ],
      "execution_count": 99,
      "outputs": [
        {
          "output_type": "stream",
          "text": [
            "DescribeResult(nobs=100, minmax=(1, 6), mean=3.5, variance=2.494949494949495, skewness=0.08500970517490147, kurtosis=-1.0572538477929492)\n"
          ],
          "name": "stdout"
        }
      ]
    },
    {
      "cell_type": "markdown",
      "metadata": {
        "id": "0edS6WEcIC0v",
        "colab_type": "text"
      },
      "source": [
        "# `Pandas`\n",
        "\n",
        "Pandas est une librairie permettant la représentation, la manipulation et l'analyse de données sous forme de tableaux. \n",
        "\n",
        "La librairie dispose de deux objets centraux: \n",
        "* La **`Series`**: une série de données à une dimension\n",
        "* Le **`Dataframe`**: un tableau de données à deux dimensions. (remarque: l'extraction d'une ligne ou d'une colonne d'un **`DataFrame`** donne une **`Series`**).\n",
        "\n",
        "Ces deux objets disposent d'un grand nombre de fonctions et méthodes qui peuvent être utilisées pour accéder/manipuler/extraire/modifier/filtrer/ajouter/supprimer des données, et extraire des statistiques (aussi appelés **aggrégats**).\n",
        "\n",
        "La liste complète des méthodes peut se trouver ici: [DataFrame](https://pandas.pydata.org/pandas-docs/stable/reference/frame.html), [Series](https://pandas.pydata.org/pandas-docs/stable/reference/series.html)"
      ]
    },
    {
      "cell_type": "markdown",
      "metadata": {
        "id": "OONEpcjUVceC",
        "colab_type": "text"
      },
      "source": [
        "## Reprenons l'inventaire des biens immobiliers"
      ]
    },
    {
      "cell_type": "code",
      "metadata": {
        "id": "tT6OCfRxVYna",
        "colab_type": "code",
        "outputId": "73327120-4262-47c9-f049-a09ec65553cb",
        "colab": {
          "base_uri": "https://localhost:8080/",
          "height": 55
        }
      },
      "source": [
        "#Un inventaire de biens immobiliers\n",
        "\n",
        "houses_dataset = {\"address\":[\"Rue de Fer 26, 5000 Namur\",\n",
        "                             \"Rue de Bruxelles 42, 5000 Namur\",\n",
        "                      \"Porte de Namur 25, Bruxelles\",\n",
        "                      \"Rue de L'Eglise 42, Charleroi\",\n",
        "                      \"Rue Saint-ghislain 30, 6224 Fleurus\",\n",
        "                     \"Rue de la Closière 20, Fleurus\",\n",
        "                     \"Rue de la Closière 20, Fleurus\",\n",
        "                     \"Rue de Fer 25, 5000 Namur\",\n",
        "                     \"Rue du Luxembourg 15, 1000 Bruxelles\",\n",
        "                     \"NaN\",\n",
        "                     \"Rue de Bruxelles 42, 5000 Namur\",\n",
        "                     \"Rue de la Loi 50, Bruxelles\"],\n",
        "          \"website\":[\"immoweb\",\"immoweb\",\"immoweb\",\"immoweb\",\"immoweb\",\"immoweb\",\"immoweb\",\"immovlan\",\"immovlan\",\"immovlan\",\"immovlan\",\"immovlan\"],\n",
        "           \"price\": [400000,\n",
        "                     350000,\n",
        "                     400000,\n",
        "                     150000,\n",
        "                     \"330000\",\n",
        "                     230000,\n",
        "                     230000,\n",
        "                     0,\n",
        "                     -100,\n",
        "                     \"cent mille\",\n",
        "                     350000,\n",
        "                     700000],\n",
        "           \"surface\":[150,\n",
        "                      200,\n",
        "                      120,\n",
        "                      150,\n",
        "                      320,\n",
        "                      175,\n",
        "                      170,\n",
        "                      170,\n",
        "                      100,\n",
        "                      100,\n",
        "                      200,\n",
        "                      220],\n",
        "                 \"rooms\":[4,5,3,5,5,2,3,3,\"two\",0,4,3]}\n",
        "\n",
        "print(houses_dataset)"
      ],
      "execution_count": 100,
      "outputs": [
        {
          "output_type": "stream",
          "text": [
            "{'address': ['Rue de Fer 26, 5000 Namur', 'Rue de Bruxelles 42, 5000 Namur', 'Porte de Namur 25, Bruxelles', \"Rue de L'Eglise 42, Charleroi\", 'Rue Saint-ghislain 30, 6224 Fleurus', 'Rue de la Closière 20, Fleurus', 'Rue de la Closière 20, Fleurus', 'Rue de Fer 25, 5000 Namur', 'Rue du Luxembourg 15, 1000 Bruxelles', 'NaN', 'Rue de Bruxelles 42, 5000 Namur', 'Rue de la Loi 50, Bruxelles'], 'website': ['immoweb', 'immoweb', 'immoweb', 'immoweb', 'immoweb', 'immoweb', 'immoweb', 'immovlan', 'immovlan', 'immovlan', 'immovlan', 'immovlan'], 'price': [400000, 350000, 400000, 150000, '330000', 230000, 230000, 0, -100, 'cent mille', 350000, 700000], 'surface': [150, 200, 120, 150, 320, 175, 170, 170, 100, 100, 200, 220], 'rooms': [4, 5, 3, 5, 5, 2, 3, 3, 'two', 0, 4, 3]}\n"
          ],
          "name": "stdout"
        }
      ]
    },
    {
      "cell_type": "markdown",
      "metadata": {
        "id": "wALiLgvxVZjY",
        "colab_type": "text"
      },
      "source": [
        "## Préparation du dataframe"
      ]
    },
    {
      "cell_type": "code",
      "metadata": {
        "id": "U-3impyQwfAd",
        "colab_type": "code",
        "outputId": "3136a992-968f-42d5-8f08-ff6ea582a1e0",
        "colab": {
          "base_uri": "https://localhost:8080/",
          "height": 418
        }
      },
      "source": [
        "import pandas as pd\n",
        "\n",
        "df = pd.DataFrame(houses_dataset)\n",
        "#print(df) #moins joli\n",
        "display(df) #plus joli"
      ],
      "execution_count": 101,
      "outputs": [
        {
          "output_type": "display_data",
          "data": {
            "text/html": [
              "<div>\n",
              "<style scoped>\n",
              "    .dataframe tbody tr th:only-of-type {\n",
              "        vertical-align: middle;\n",
              "    }\n",
              "\n",
              "    .dataframe tbody tr th {\n",
              "        vertical-align: top;\n",
              "    }\n",
              "\n",
              "    .dataframe thead th {\n",
              "        text-align: right;\n",
              "    }\n",
              "</style>\n",
              "<table border=\"1\" class=\"dataframe\">\n",
              "  <thead>\n",
              "    <tr style=\"text-align: right;\">\n",
              "      <th></th>\n",
              "      <th>address</th>\n",
              "      <th>website</th>\n",
              "      <th>price</th>\n",
              "      <th>surface</th>\n",
              "      <th>rooms</th>\n",
              "    </tr>\n",
              "  </thead>\n",
              "  <tbody>\n",
              "    <tr>\n",
              "      <th>0</th>\n",
              "      <td>Rue de Fer 26, 5000 Namur</td>\n",
              "      <td>immoweb</td>\n",
              "      <td>400000</td>\n",
              "      <td>150</td>\n",
              "      <td>4</td>\n",
              "    </tr>\n",
              "    <tr>\n",
              "      <th>1</th>\n",
              "      <td>Rue de Bruxelles 42, 5000 Namur</td>\n",
              "      <td>immoweb</td>\n",
              "      <td>350000</td>\n",
              "      <td>200</td>\n",
              "      <td>5</td>\n",
              "    </tr>\n",
              "    <tr>\n",
              "      <th>2</th>\n",
              "      <td>Porte de Namur 25, Bruxelles</td>\n",
              "      <td>immoweb</td>\n",
              "      <td>400000</td>\n",
              "      <td>120</td>\n",
              "      <td>3</td>\n",
              "    </tr>\n",
              "    <tr>\n",
              "      <th>3</th>\n",
              "      <td>Rue de L'Eglise 42, Charleroi</td>\n",
              "      <td>immoweb</td>\n",
              "      <td>150000</td>\n",
              "      <td>150</td>\n",
              "      <td>5</td>\n",
              "    </tr>\n",
              "    <tr>\n",
              "      <th>4</th>\n",
              "      <td>Rue Saint-ghislain 30, 6224 Fleurus</td>\n",
              "      <td>immoweb</td>\n",
              "      <td>330000</td>\n",
              "      <td>320</td>\n",
              "      <td>5</td>\n",
              "    </tr>\n",
              "    <tr>\n",
              "      <th>5</th>\n",
              "      <td>Rue de la Closière 20, Fleurus</td>\n",
              "      <td>immoweb</td>\n",
              "      <td>230000</td>\n",
              "      <td>175</td>\n",
              "      <td>2</td>\n",
              "    </tr>\n",
              "    <tr>\n",
              "      <th>6</th>\n",
              "      <td>Rue de la Closière 20, Fleurus</td>\n",
              "      <td>immoweb</td>\n",
              "      <td>230000</td>\n",
              "      <td>170</td>\n",
              "      <td>3</td>\n",
              "    </tr>\n",
              "    <tr>\n",
              "      <th>7</th>\n",
              "      <td>Rue de Fer 25, 5000 Namur</td>\n",
              "      <td>immovlan</td>\n",
              "      <td>0</td>\n",
              "      <td>170</td>\n",
              "      <td>3</td>\n",
              "    </tr>\n",
              "    <tr>\n",
              "      <th>8</th>\n",
              "      <td>Rue du Luxembourg 15, 1000 Bruxelles</td>\n",
              "      <td>immovlan</td>\n",
              "      <td>-100</td>\n",
              "      <td>100</td>\n",
              "      <td>two</td>\n",
              "    </tr>\n",
              "    <tr>\n",
              "      <th>9</th>\n",
              "      <td>NaN</td>\n",
              "      <td>immovlan</td>\n",
              "      <td>cent mille</td>\n",
              "      <td>100</td>\n",
              "      <td>0</td>\n",
              "    </tr>\n",
              "    <tr>\n",
              "      <th>10</th>\n",
              "      <td>Rue de Bruxelles 42, 5000 Namur</td>\n",
              "      <td>immovlan</td>\n",
              "      <td>350000</td>\n",
              "      <td>200</td>\n",
              "      <td>4</td>\n",
              "    </tr>\n",
              "    <tr>\n",
              "      <th>11</th>\n",
              "      <td>Rue de la Loi 50, Bruxelles</td>\n",
              "      <td>immovlan</td>\n",
              "      <td>700000</td>\n",
              "      <td>220</td>\n",
              "      <td>3</td>\n",
              "    </tr>\n",
              "  </tbody>\n",
              "</table>\n",
              "</div>"
            ],
            "text/plain": [
              "                                 address   website       price  surface rooms\n",
              "0              Rue de Fer 26, 5000 Namur   immoweb      400000      150     4\n",
              "1        Rue de Bruxelles 42, 5000 Namur   immoweb      350000      200     5\n",
              "2           Porte de Namur 25, Bruxelles   immoweb      400000      120     3\n",
              "3          Rue de L'Eglise 42, Charleroi   immoweb      150000      150     5\n",
              "4    Rue Saint-ghislain 30, 6224 Fleurus   immoweb      330000      320     5\n",
              "5         Rue de la Closière 20, Fleurus   immoweb      230000      175     2\n",
              "6         Rue de la Closière 20, Fleurus   immoweb      230000      170     3\n",
              "7              Rue de Fer 25, 5000 Namur  immovlan           0      170     3\n",
              "8   Rue du Luxembourg 15, 1000 Bruxelles  immovlan        -100      100   two\n",
              "9                                    NaN  immovlan  cent mille      100     0\n",
              "10       Rue de Bruxelles 42, 5000 Namur  immovlan      350000      200     4\n",
              "11           Rue de la Loi 50, Bruxelles  immovlan      700000      220     3"
            ]
          },
          "metadata": {
            "tags": []
          }
        }
      ]
    },
    {
      "cell_type": "code",
      "metadata": {
        "id": "LHWOxgLqMjyP",
        "colab_type": "code",
        "outputId": "eb6fba40-ab29-4a00-cfee-54974c404321",
        "colab": {
          "base_uri": "https://localhost:8080/",
          "height": 418
        }
      },
      "source": [
        "#convertir certaines colonnes en valeurs numériques (les valeurs invalides deviennent des NaN - not a number)\n",
        "str_cols = df.columns[:2] #address, website\n",
        "num_cols = df.columns[2:]# price, surface, rooms\n",
        "\n",
        "for col in num_cols:\n",
        "  df[col] = pd.to_numeric(df[col], errors = \"coerce\") #errors = \"coerce\" transforme en NaN les données qui ne peuvent être converties en nombre\n",
        "\n",
        "df0 = df\n",
        "\n",
        "df"
      ],
      "execution_count": 102,
      "outputs": [
        {
          "output_type": "execute_result",
          "data": {
            "text/html": [
              "<div>\n",
              "<style scoped>\n",
              "    .dataframe tbody tr th:only-of-type {\n",
              "        vertical-align: middle;\n",
              "    }\n",
              "\n",
              "    .dataframe tbody tr th {\n",
              "        vertical-align: top;\n",
              "    }\n",
              "\n",
              "    .dataframe thead th {\n",
              "        text-align: right;\n",
              "    }\n",
              "</style>\n",
              "<table border=\"1\" class=\"dataframe\">\n",
              "  <thead>\n",
              "    <tr style=\"text-align: right;\">\n",
              "      <th></th>\n",
              "      <th>address</th>\n",
              "      <th>website</th>\n",
              "      <th>price</th>\n",
              "      <th>surface</th>\n",
              "      <th>rooms</th>\n",
              "    </tr>\n",
              "  </thead>\n",
              "  <tbody>\n",
              "    <tr>\n",
              "      <th>0</th>\n",
              "      <td>Rue de Fer 26, 5000 Namur</td>\n",
              "      <td>immoweb</td>\n",
              "      <td>400000.0</td>\n",
              "      <td>150</td>\n",
              "      <td>4.0</td>\n",
              "    </tr>\n",
              "    <tr>\n",
              "      <th>1</th>\n",
              "      <td>Rue de Bruxelles 42, 5000 Namur</td>\n",
              "      <td>immoweb</td>\n",
              "      <td>350000.0</td>\n",
              "      <td>200</td>\n",
              "      <td>5.0</td>\n",
              "    </tr>\n",
              "    <tr>\n",
              "      <th>2</th>\n",
              "      <td>Porte de Namur 25, Bruxelles</td>\n",
              "      <td>immoweb</td>\n",
              "      <td>400000.0</td>\n",
              "      <td>120</td>\n",
              "      <td>3.0</td>\n",
              "    </tr>\n",
              "    <tr>\n",
              "      <th>3</th>\n",
              "      <td>Rue de L'Eglise 42, Charleroi</td>\n",
              "      <td>immoweb</td>\n",
              "      <td>150000.0</td>\n",
              "      <td>150</td>\n",
              "      <td>5.0</td>\n",
              "    </tr>\n",
              "    <tr>\n",
              "      <th>4</th>\n",
              "      <td>Rue Saint-ghislain 30, 6224 Fleurus</td>\n",
              "      <td>immoweb</td>\n",
              "      <td>330000.0</td>\n",
              "      <td>320</td>\n",
              "      <td>5.0</td>\n",
              "    </tr>\n",
              "    <tr>\n",
              "      <th>5</th>\n",
              "      <td>Rue de la Closière 20, Fleurus</td>\n",
              "      <td>immoweb</td>\n",
              "      <td>230000.0</td>\n",
              "      <td>175</td>\n",
              "      <td>2.0</td>\n",
              "    </tr>\n",
              "    <tr>\n",
              "      <th>6</th>\n",
              "      <td>Rue de la Closière 20, Fleurus</td>\n",
              "      <td>immoweb</td>\n",
              "      <td>230000.0</td>\n",
              "      <td>170</td>\n",
              "      <td>3.0</td>\n",
              "    </tr>\n",
              "    <tr>\n",
              "      <th>7</th>\n",
              "      <td>Rue de Fer 25, 5000 Namur</td>\n",
              "      <td>immovlan</td>\n",
              "      <td>0.0</td>\n",
              "      <td>170</td>\n",
              "      <td>3.0</td>\n",
              "    </tr>\n",
              "    <tr>\n",
              "      <th>8</th>\n",
              "      <td>Rue du Luxembourg 15, 1000 Bruxelles</td>\n",
              "      <td>immovlan</td>\n",
              "      <td>-100.0</td>\n",
              "      <td>100</td>\n",
              "      <td>NaN</td>\n",
              "    </tr>\n",
              "    <tr>\n",
              "      <th>9</th>\n",
              "      <td>NaN</td>\n",
              "      <td>immovlan</td>\n",
              "      <td>NaN</td>\n",
              "      <td>100</td>\n",
              "      <td>0.0</td>\n",
              "    </tr>\n",
              "    <tr>\n",
              "      <th>10</th>\n",
              "      <td>Rue de Bruxelles 42, 5000 Namur</td>\n",
              "      <td>immovlan</td>\n",
              "      <td>350000.0</td>\n",
              "      <td>200</td>\n",
              "      <td>4.0</td>\n",
              "    </tr>\n",
              "    <tr>\n",
              "      <th>11</th>\n",
              "      <td>Rue de la Loi 50, Bruxelles</td>\n",
              "      <td>immovlan</td>\n",
              "      <td>700000.0</td>\n",
              "      <td>220</td>\n",
              "      <td>3.0</td>\n",
              "    </tr>\n",
              "  </tbody>\n",
              "</table>\n",
              "</div>"
            ],
            "text/plain": [
              "                                 address   website     price  surface  rooms\n",
              "0              Rue de Fer 26, 5000 Namur   immoweb  400000.0      150    4.0\n",
              "1        Rue de Bruxelles 42, 5000 Namur   immoweb  350000.0      200    5.0\n",
              "2           Porte de Namur 25, Bruxelles   immoweb  400000.0      120    3.0\n",
              "3          Rue de L'Eglise 42, Charleroi   immoweb  150000.0      150    5.0\n",
              "4    Rue Saint-ghislain 30, 6224 Fleurus   immoweb  330000.0      320    5.0\n",
              "5         Rue de la Closière 20, Fleurus   immoweb  230000.0      175    2.0\n",
              "6         Rue de la Closière 20, Fleurus   immoweb  230000.0      170    3.0\n",
              "7              Rue de Fer 25, 5000 Namur  immovlan       0.0      170    3.0\n",
              "8   Rue du Luxembourg 15, 1000 Bruxelles  immovlan    -100.0      100    NaN\n",
              "9                                    NaN  immovlan       NaN      100    0.0\n",
              "10       Rue de Bruxelles 42, 5000 Namur  immovlan  350000.0      200    4.0\n",
              "11           Rue de la Loi 50, Bruxelles  immovlan  700000.0      220    3.0"
            ]
          },
          "metadata": {
            "tags": []
          },
          "execution_count": 102
        }
      ]
    },
    {
      "cell_type": "markdown",
      "metadata": {
        "id": "G5Xped0qDBTf",
        "colab_type": "text"
      },
      "source": [
        "## Concaténation de DataFrames"
      ]
    },
    {
      "cell_type": "code",
      "metadata": {
        "id": "3mktMs2bDEkQ",
        "colab_type": "code",
        "outputId": "d936e780-6e86-4303-b538-d7e06f02f04b",
        "colab": {
          "base_uri": "https://localhost:8080/",
          "height": 764
        }
      },
      "source": [
        "newhouses = pd.DataFrame({ \"address\": [\"Rue de la Loi 51, Bruxelles\", \"Rue de la Loi 52, Bruxelles\", \"Rue de la Loi 53, Bruxelles\", \"Rue de Fer 27, Namur\", \"Rue de Fer 28, Namur\", \"Rue de Fer 29, Namur\"], \n",
        "                          \"website\" : [\"immoweb\",\"immovlan\",\"immovlan\",\"immoweb\",\"immoweb\",\"immovlan\"], \n",
        "                          \"surface\" : [120, 150, 170, 140, 160, 180], \n",
        "                          \"price\" : [280000, 400000, 480000, 280000, 320000, 350000], \n",
        "                          \"rooms\" : [3,4,5,3,4,5]})\n",
        "\n",
        "df = pd.concat([df0, newhouses], ignore_index = True)\n",
        "\n",
        "df1 = df#on le garde pour plus tard\n",
        "\n",
        "df"
      ],
      "execution_count": 103,
      "outputs": [
        {
          "output_type": "stream",
          "text": [
            "/usr/local/lib/python3.6/dist-packages/ipykernel_launcher.py:7: FutureWarning: Sorting because non-concatenation axis is not aligned. A future version\n",
            "of pandas will change to not sort by default.\n",
            "\n",
            "To accept the future behavior, pass 'sort=False'.\n",
            "\n",
            "To retain the current behavior and silence the warning, pass 'sort=True'.\n",
            "\n",
            "  import sys\n"
          ],
          "name": "stderr"
        },
        {
          "output_type": "execute_result",
          "data": {
            "text/html": [
              "<div>\n",
              "<style scoped>\n",
              "    .dataframe tbody tr th:only-of-type {\n",
              "        vertical-align: middle;\n",
              "    }\n",
              "\n",
              "    .dataframe tbody tr th {\n",
              "        vertical-align: top;\n",
              "    }\n",
              "\n",
              "    .dataframe thead th {\n",
              "        text-align: right;\n",
              "    }\n",
              "</style>\n",
              "<table border=\"1\" class=\"dataframe\">\n",
              "  <thead>\n",
              "    <tr style=\"text-align: right;\">\n",
              "      <th></th>\n",
              "      <th>address</th>\n",
              "      <th>price</th>\n",
              "      <th>rooms</th>\n",
              "      <th>surface</th>\n",
              "      <th>website</th>\n",
              "    </tr>\n",
              "  </thead>\n",
              "  <tbody>\n",
              "    <tr>\n",
              "      <th>0</th>\n",
              "      <td>Rue de Fer 26, 5000 Namur</td>\n",
              "      <td>400000.0</td>\n",
              "      <td>4.0</td>\n",
              "      <td>150</td>\n",
              "      <td>immoweb</td>\n",
              "    </tr>\n",
              "    <tr>\n",
              "      <th>1</th>\n",
              "      <td>Rue de Bruxelles 42, 5000 Namur</td>\n",
              "      <td>350000.0</td>\n",
              "      <td>5.0</td>\n",
              "      <td>200</td>\n",
              "      <td>immoweb</td>\n",
              "    </tr>\n",
              "    <tr>\n",
              "      <th>2</th>\n",
              "      <td>Porte de Namur 25, Bruxelles</td>\n",
              "      <td>400000.0</td>\n",
              "      <td>3.0</td>\n",
              "      <td>120</td>\n",
              "      <td>immoweb</td>\n",
              "    </tr>\n",
              "    <tr>\n",
              "      <th>3</th>\n",
              "      <td>Rue de L'Eglise 42, Charleroi</td>\n",
              "      <td>150000.0</td>\n",
              "      <td>5.0</td>\n",
              "      <td>150</td>\n",
              "      <td>immoweb</td>\n",
              "    </tr>\n",
              "    <tr>\n",
              "      <th>4</th>\n",
              "      <td>Rue Saint-ghislain 30, 6224 Fleurus</td>\n",
              "      <td>330000.0</td>\n",
              "      <td>5.0</td>\n",
              "      <td>320</td>\n",
              "      <td>immoweb</td>\n",
              "    </tr>\n",
              "    <tr>\n",
              "      <th>5</th>\n",
              "      <td>Rue de la Closière 20, Fleurus</td>\n",
              "      <td>230000.0</td>\n",
              "      <td>2.0</td>\n",
              "      <td>175</td>\n",
              "      <td>immoweb</td>\n",
              "    </tr>\n",
              "    <tr>\n",
              "      <th>6</th>\n",
              "      <td>Rue de la Closière 20, Fleurus</td>\n",
              "      <td>230000.0</td>\n",
              "      <td>3.0</td>\n",
              "      <td>170</td>\n",
              "      <td>immoweb</td>\n",
              "    </tr>\n",
              "    <tr>\n",
              "      <th>7</th>\n",
              "      <td>Rue de Fer 25, 5000 Namur</td>\n",
              "      <td>0.0</td>\n",
              "      <td>3.0</td>\n",
              "      <td>170</td>\n",
              "      <td>immovlan</td>\n",
              "    </tr>\n",
              "    <tr>\n",
              "      <th>8</th>\n",
              "      <td>Rue du Luxembourg 15, 1000 Bruxelles</td>\n",
              "      <td>-100.0</td>\n",
              "      <td>NaN</td>\n",
              "      <td>100</td>\n",
              "      <td>immovlan</td>\n",
              "    </tr>\n",
              "    <tr>\n",
              "      <th>9</th>\n",
              "      <td>NaN</td>\n",
              "      <td>NaN</td>\n",
              "      <td>0.0</td>\n",
              "      <td>100</td>\n",
              "      <td>immovlan</td>\n",
              "    </tr>\n",
              "    <tr>\n",
              "      <th>10</th>\n",
              "      <td>Rue de Bruxelles 42, 5000 Namur</td>\n",
              "      <td>350000.0</td>\n",
              "      <td>4.0</td>\n",
              "      <td>200</td>\n",
              "      <td>immovlan</td>\n",
              "    </tr>\n",
              "    <tr>\n",
              "      <th>11</th>\n",
              "      <td>Rue de la Loi 50, Bruxelles</td>\n",
              "      <td>700000.0</td>\n",
              "      <td>3.0</td>\n",
              "      <td>220</td>\n",
              "      <td>immovlan</td>\n",
              "    </tr>\n",
              "    <tr>\n",
              "      <th>12</th>\n",
              "      <td>Rue de la Loi 51, Bruxelles</td>\n",
              "      <td>280000.0</td>\n",
              "      <td>3.0</td>\n",
              "      <td>120</td>\n",
              "      <td>immoweb</td>\n",
              "    </tr>\n",
              "    <tr>\n",
              "      <th>13</th>\n",
              "      <td>Rue de la Loi 52, Bruxelles</td>\n",
              "      <td>400000.0</td>\n",
              "      <td>4.0</td>\n",
              "      <td>150</td>\n",
              "      <td>immovlan</td>\n",
              "    </tr>\n",
              "    <tr>\n",
              "      <th>14</th>\n",
              "      <td>Rue de la Loi 53, Bruxelles</td>\n",
              "      <td>480000.0</td>\n",
              "      <td>5.0</td>\n",
              "      <td>170</td>\n",
              "      <td>immovlan</td>\n",
              "    </tr>\n",
              "    <tr>\n",
              "      <th>15</th>\n",
              "      <td>Rue de Fer 27, Namur</td>\n",
              "      <td>280000.0</td>\n",
              "      <td>3.0</td>\n",
              "      <td>140</td>\n",
              "      <td>immoweb</td>\n",
              "    </tr>\n",
              "    <tr>\n",
              "      <th>16</th>\n",
              "      <td>Rue de Fer 28, Namur</td>\n",
              "      <td>320000.0</td>\n",
              "      <td>4.0</td>\n",
              "      <td>160</td>\n",
              "      <td>immoweb</td>\n",
              "    </tr>\n",
              "    <tr>\n",
              "      <th>17</th>\n",
              "      <td>Rue de Fer 29, Namur</td>\n",
              "      <td>350000.0</td>\n",
              "      <td>5.0</td>\n",
              "      <td>180</td>\n",
              "      <td>immovlan</td>\n",
              "    </tr>\n",
              "  </tbody>\n",
              "</table>\n",
              "</div>"
            ],
            "text/plain": [
              "                                 address     price  rooms  surface   website\n",
              "0              Rue de Fer 26, 5000 Namur  400000.0    4.0      150   immoweb\n",
              "1        Rue de Bruxelles 42, 5000 Namur  350000.0    5.0      200   immoweb\n",
              "2           Porte de Namur 25, Bruxelles  400000.0    3.0      120   immoweb\n",
              "3          Rue de L'Eglise 42, Charleroi  150000.0    5.0      150   immoweb\n",
              "4    Rue Saint-ghislain 30, 6224 Fleurus  330000.0    5.0      320   immoweb\n",
              "5         Rue de la Closière 20, Fleurus  230000.0    2.0      175   immoweb\n",
              "6         Rue de la Closière 20, Fleurus  230000.0    3.0      170   immoweb\n",
              "7              Rue de Fer 25, 5000 Namur       0.0    3.0      170  immovlan\n",
              "8   Rue du Luxembourg 15, 1000 Bruxelles    -100.0    NaN      100  immovlan\n",
              "9                                    NaN       NaN    0.0      100  immovlan\n",
              "10       Rue de Bruxelles 42, 5000 Namur  350000.0    4.0      200  immovlan\n",
              "11           Rue de la Loi 50, Bruxelles  700000.0    3.0      220  immovlan\n",
              "12           Rue de la Loi 51, Bruxelles  280000.0    3.0      120   immoweb\n",
              "13           Rue de la Loi 52, Bruxelles  400000.0    4.0      150  immovlan\n",
              "14           Rue de la Loi 53, Bruxelles  480000.0    5.0      170  immovlan\n",
              "15                  Rue de Fer 27, Namur  280000.0    3.0      140   immoweb\n",
              "16                  Rue de Fer 28, Namur  320000.0    4.0      160   immoweb\n",
              "17                  Rue de Fer 29, Namur  350000.0    5.0      180  immovlan"
            ]
          },
          "metadata": {
            "tags": []
          },
          "execution_count": 103
        }
      ]
    },
    {
      "cell_type": "markdown",
      "metadata": {
        "id": "Q-iFzWpqXcuv",
        "colab_type": "text"
      },
      "source": [
        "## Accès aux données d'un dataframe"
      ]
    },
    {
      "cell_type": "code",
      "metadata": {
        "id": "fYUO8hwPXoRn",
        "colab_type": "code",
        "outputId": "4be93751-879f-4041-fccf-a26834156718",
        "colab": {
          "base_uri": "https://localhost:8080/",
          "height": 52
        }
      },
      "source": [
        "#Les labels du dataframe (i.e. les titres des lignes et des colonnes)\n",
        "print(df.index) # labels des lignes\n",
        "print(df.index.to_list()) # labels des lignes"
      ],
      "execution_count": 104,
      "outputs": [
        {
          "output_type": "stream",
          "text": [
            "RangeIndex(start=0, stop=18, step=1)\n",
            "[0, 1, 2, 3, 4, 5, 6, 7, 8, 9, 10, 11, 12, 13, 14, 15, 16, 17]\n"
          ],
          "name": "stdout"
        }
      ]
    },
    {
      "cell_type": "code",
      "metadata": {
        "id": "mwMmuPwRar4z",
        "colab_type": "code",
        "outputId": "bc26ac57-c455-4685-f757-87f3a17c5c10",
        "colab": {
          "base_uri": "https://localhost:8080/",
          "height": 52
        }
      },
      "source": [
        "print(df.columns) #labels des colonnes\n",
        "print(df.columns.to_list()) #labels des colonnes"
      ],
      "execution_count": 105,
      "outputs": [
        {
          "output_type": "stream",
          "text": [
            "Index(['address', 'price', 'rooms', 'surface', 'website'], dtype='object')\n",
            "['address', 'price', 'rooms', 'surface', 'website']\n"
          ],
          "name": "stdout"
        }
      ]
    },
    {
      "cell_type": "code",
      "metadata": {
        "id": "5EhDyw72azIW",
        "colab_type": "code",
        "outputId": "4ac677a9-0917-4ed0-9420-3ed8d48871c6",
        "colab": {
          "base_uri": "https://localhost:8080/",
          "height": 291
        }
      },
      "source": [
        "df.transpose() #permet de transposer le tableau"
      ],
      "execution_count": 106,
      "outputs": [
        {
          "output_type": "execute_result",
          "data": {
            "text/html": [
              "<div>\n",
              "<style scoped>\n",
              "    .dataframe tbody tr th:only-of-type {\n",
              "        vertical-align: middle;\n",
              "    }\n",
              "\n",
              "    .dataframe tbody tr th {\n",
              "        vertical-align: top;\n",
              "    }\n",
              "\n",
              "    .dataframe thead th {\n",
              "        text-align: right;\n",
              "    }\n",
              "</style>\n",
              "<table border=\"1\" class=\"dataframe\">\n",
              "  <thead>\n",
              "    <tr style=\"text-align: right;\">\n",
              "      <th></th>\n",
              "      <th>0</th>\n",
              "      <th>1</th>\n",
              "      <th>2</th>\n",
              "      <th>3</th>\n",
              "      <th>4</th>\n",
              "      <th>5</th>\n",
              "      <th>6</th>\n",
              "      <th>7</th>\n",
              "      <th>8</th>\n",
              "      <th>9</th>\n",
              "      <th>10</th>\n",
              "      <th>11</th>\n",
              "      <th>12</th>\n",
              "      <th>13</th>\n",
              "      <th>14</th>\n",
              "      <th>15</th>\n",
              "      <th>16</th>\n",
              "      <th>17</th>\n",
              "    </tr>\n",
              "  </thead>\n",
              "  <tbody>\n",
              "    <tr>\n",
              "      <th>address</th>\n",
              "      <td>Rue de Fer 26, 5000 Namur</td>\n",
              "      <td>Rue de Bruxelles 42, 5000 Namur</td>\n",
              "      <td>Porte de Namur 25, Bruxelles</td>\n",
              "      <td>Rue de L'Eglise 42, Charleroi</td>\n",
              "      <td>Rue Saint-ghislain 30, 6224 Fleurus</td>\n",
              "      <td>Rue de la Closière 20, Fleurus</td>\n",
              "      <td>Rue de la Closière 20, Fleurus</td>\n",
              "      <td>Rue de Fer 25, 5000 Namur</td>\n",
              "      <td>Rue du Luxembourg 15, 1000 Bruxelles</td>\n",
              "      <td>NaN</td>\n",
              "      <td>Rue de Bruxelles 42, 5000 Namur</td>\n",
              "      <td>Rue de la Loi 50, Bruxelles</td>\n",
              "      <td>Rue de la Loi 51, Bruxelles</td>\n",
              "      <td>Rue de la Loi 52, Bruxelles</td>\n",
              "      <td>Rue de la Loi 53, Bruxelles</td>\n",
              "      <td>Rue de Fer 27, Namur</td>\n",
              "      <td>Rue de Fer 28, Namur</td>\n",
              "      <td>Rue de Fer 29, Namur</td>\n",
              "    </tr>\n",
              "    <tr>\n",
              "      <th>price</th>\n",
              "      <td>400000</td>\n",
              "      <td>350000</td>\n",
              "      <td>400000</td>\n",
              "      <td>150000</td>\n",
              "      <td>330000</td>\n",
              "      <td>230000</td>\n",
              "      <td>230000</td>\n",
              "      <td>0</td>\n",
              "      <td>-100</td>\n",
              "      <td>NaN</td>\n",
              "      <td>350000</td>\n",
              "      <td>700000</td>\n",
              "      <td>280000</td>\n",
              "      <td>400000</td>\n",
              "      <td>480000</td>\n",
              "      <td>280000</td>\n",
              "      <td>320000</td>\n",
              "      <td>350000</td>\n",
              "    </tr>\n",
              "    <tr>\n",
              "      <th>rooms</th>\n",
              "      <td>4</td>\n",
              "      <td>5</td>\n",
              "      <td>3</td>\n",
              "      <td>5</td>\n",
              "      <td>5</td>\n",
              "      <td>2</td>\n",
              "      <td>3</td>\n",
              "      <td>3</td>\n",
              "      <td>NaN</td>\n",
              "      <td>0</td>\n",
              "      <td>4</td>\n",
              "      <td>3</td>\n",
              "      <td>3</td>\n",
              "      <td>4</td>\n",
              "      <td>5</td>\n",
              "      <td>3</td>\n",
              "      <td>4</td>\n",
              "      <td>5</td>\n",
              "    </tr>\n",
              "    <tr>\n",
              "      <th>surface</th>\n",
              "      <td>150</td>\n",
              "      <td>200</td>\n",
              "      <td>120</td>\n",
              "      <td>150</td>\n",
              "      <td>320</td>\n",
              "      <td>175</td>\n",
              "      <td>170</td>\n",
              "      <td>170</td>\n",
              "      <td>100</td>\n",
              "      <td>100</td>\n",
              "      <td>200</td>\n",
              "      <td>220</td>\n",
              "      <td>120</td>\n",
              "      <td>150</td>\n",
              "      <td>170</td>\n",
              "      <td>140</td>\n",
              "      <td>160</td>\n",
              "      <td>180</td>\n",
              "    </tr>\n",
              "    <tr>\n",
              "      <th>website</th>\n",
              "      <td>immoweb</td>\n",
              "      <td>immoweb</td>\n",
              "      <td>immoweb</td>\n",
              "      <td>immoweb</td>\n",
              "      <td>immoweb</td>\n",
              "      <td>immoweb</td>\n",
              "      <td>immoweb</td>\n",
              "      <td>immovlan</td>\n",
              "      <td>immovlan</td>\n",
              "      <td>immovlan</td>\n",
              "      <td>immovlan</td>\n",
              "      <td>immovlan</td>\n",
              "      <td>immoweb</td>\n",
              "      <td>immovlan</td>\n",
              "      <td>immovlan</td>\n",
              "      <td>immoweb</td>\n",
              "      <td>immoweb</td>\n",
              "      <td>immovlan</td>\n",
              "    </tr>\n",
              "  </tbody>\n",
              "</table>\n",
              "</div>"
            ],
            "text/plain": [
              "                                0   ...                    17\n",
              "address  Rue de Fer 26, 5000 Namur  ...  Rue de Fer 29, Namur\n",
              "price                       400000  ...                350000\n",
              "rooms                            4  ...                     5\n",
              "surface                        150  ...                   180\n",
              "website                    immoweb  ...              immovlan\n",
              "\n",
              "[5 rows x 18 columns]"
            ]
          },
          "metadata": {
            "tags": []
          },
          "execution_count": 106
        }
      ]
    },
    {
      "cell_type": "code",
      "metadata": {
        "id": "5o6yoFzTYnZX",
        "colab_type": "code",
        "outputId": "1090c60e-a8ce-461e-9384-b6715a8f0a7b",
        "colab": {
          "base_uri": "https://localhost:8080/",
          "height": 634
        }
      },
      "source": [
        "df.set_index(\"address\") #permet de modifier l'index"
      ],
      "execution_count": 107,
      "outputs": [
        {
          "output_type": "execute_result",
          "data": {
            "text/html": [
              "<div>\n",
              "<style scoped>\n",
              "    .dataframe tbody tr th:only-of-type {\n",
              "        vertical-align: middle;\n",
              "    }\n",
              "\n",
              "    .dataframe tbody tr th {\n",
              "        vertical-align: top;\n",
              "    }\n",
              "\n",
              "    .dataframe thead th {\n",
              "        text-align: right;\n",
              "    }\n",
              "</style>\n",
              "<table border=\"1\" class=\"dataframe\">\n",
              "  <thead>\n",
              "    <tr style=\"text-align: right;\">\n",
              "      <th></th>\n",
              "      <th>price</th>\n",
              "      <th>rooms</th>\n",
              "      <th>surface</th>\n",
              "      <th>website</th>\n",
              "    </tr>\n",
              "    <tr>\n",
              "      <th>address</th>\n",
              "      <th></th>\n",
              "      <th></th>\n",
              "      <th></th>\n",
              "      <th></th>\n",
              "    </tr>\n",
              "  </thead>\n",
              "  <tbody>\n",
              "    <tr>\n",
              "      <th>Rue de Fer 26, 5000 Namur</th>\n",
              "      <td>400000.0</td>\n",
              "      <td>4.0</td>\n",
              "      <td>150</td>\n",
              "      <td>immoweb</td>\n",
              "    </tr>\n",
              "    <tr>\n",
              "      <th>Rue de Bruxelles 42, 5000 Namur</th>\n",
              "      <td>350000.0</td>\n",
              "      <td>5.0</td>\n",
              "      <td>200</td>\n",
              "      <td>immoweb</td>\n",
              "    </tr>\n",
              "    <tr>\n",
              "      <th>Porte de Namur 25, Bruxelles</th>\n",
              "      <td>400000.0</td>\n",
              "      <td>3.0</td>\n",
              "      <td>120</td>\n",
              "      <td>immoweb</td>\n",
              "    </tr>\n",
              "    <tr>\n",
              "      <th>Rue de L'Eglise 42, Charleroi</th>\n",
              "      <td>150000.0</td>\n",
              "      <td>5.0</td>\n",
              "      <td>150</td>\n",
              "      <td>immoweb</td>\n",
              "    </tr>\n",
              "    <tr>\n",
              "      <th>Rue Saint-ghislain 30, 6224 Fleurus</th>\n",
              "      <td>330000.0</td>\n",
              "      <td>5.0</td>\n",
              "      <td>320</td>\n",
              "      <td>immoweb</td>\n",
              "    </tr>\n",
              "    <tr>\n",
              "      <th>Rue de la Closière 20, Fleurus</th>\n",
              "      <td>230000.0</td>\n",
              "      <td>2.0</td>\n",
              "      <td>175</td>\n",
              "      <td>immoweb</td>\n",
              "    </tr>\n",
              "    <tr>\n",
              "      <th>Rue de la Closière 20, Fleurus</th>\n",
              "      <td>230000.0</td>\n",
              "      <td>3.0</td>\n",
              "      <td>170</td>\n",
              "      <td>immoweb</td>\n",
              "    </tr>\n",
              "    <tr>\n",
              "      <th>Rue de Fer 25, 5000 Namur</th>\n",
              "      <td>0.0</td>\n",
              "      <td>3.0</td>\n",
              "      <td>170</td>\n",
              "      <td>immovlan</td>\n",
              "    </tr>\n",
              "    <tr>\n",
              "      <th>Rue du Luxembourg 15, 1000 Bruxelles</th>\n",
              "      <td>-100.0</td>\n",
              "      <td>NaN</td>\n",
              "      <td>100</td>\n",
              "      <td>immovlan</td>\n",
              "    </tr>\n",
              "    <tr>\n",
              "      <th>NaN</th>\n",
              "      <td>NaN</td>\n",
              "      <td>0.0</td>\n",
              "      <td>100</td>\n",
              "      <td>immovlan</td>\n",
              "    </tr>\n",
              "    <tr>\n",
              "      <th>Rue de Bruxelles 42, 5000 Namur</th>\n",
              "      <td>350000.0</td>\n",
              "      <td>4.0</td>\n",
              "      <td>200</td>\n",
              "      <td>immovlan</td>\n",
              "    </tr>\n",
              "    <tr>\n",
              "      <th>Rue de la Loi 50, Bruxelles</th>\n",
              "      <td>700000.0</td>\n",
              "      <td>3.0</td>\n",
              "      <td>220</td>\n",
              "      <td>immovlan</td>\n",
              "    </tr>\n",
              "    <tr>\n",
              "      <th>Rue de la Loi 51, Bruxelles</th>\n",
              "      <td>280000.0</td>\n",
              "      <td>3.0</td>\n",
              "      <td>120</td>\n",
              "      <td>immoweb</td>\n",
              "    </tr>\n",
              "    <tr>\n",
              "      <th>Rue de la Loi 52, Bruxelles</th>\n",
              "      <td>400000.0</td>\n",
              "      <td>4.0</td>\n",
              "      <td>150</td>\n",
              "      <td>immovlan</td>\n",
              "    </tr>\n",
              "    <tr>\n",
              "      <th>Rue de la Loi 53, Bruxelles</th>\n",
              "      <td>480000.0</td>\n",
              "      <td>5.0</td>\n",
              "      <td>170</td>\n",
              "      <td>immovlan</td>\n",
              "    </tr>\n",
              "    <tr>\n",
              "      <th>Rue de Fer 27, Namur</th>\n",
              "      <td>280000.0</td>\n",
              "      <td>3.0</td>\n",
              "      <td>140</td>\n",
              "      <td>immoweb</td>\n",
              "    </tr>\n",
              "    <tr>\n",
              "      <th>Rue de Fer 28, Namur</th>\n",
              "      <td>320000.0</td>\n",
              "      <td>4.0</td>\n",
              "      <td>160</td>\n",
              "      <td>immoweb</td>\n",
              "    </tr>\n",
              "    <tr>\n",
              "      <th>Rue de Fer 29, Namur</th>\n",
              "      <td>350000.0</td>\n",
              "      <td>5.0</td>\n",
              "      <td>180</td>\n",
              "      <td>immovlan</td>\n",
              "    </tr>\n",
              "  </tbody>\n",
              "</table>\n",
              "</div>"
            ],
            "text/plain": [
              "                                         price  rooms  surface   website\n",
              "address                                                                 \n",
              "Rue de Fer 26, 5000 Namur             400000.0    4.0      150   immoweb\n",
              "Rue de Bruxelles 42, 5000 Namur       350000.0    5.0      200   immoweb\n",
              "Porte de Namur 25, Bruxelles          400000.0    3.0      120   immoweb\n",
              "Rue de L'Eglise 42, Charleroi         150000.0    5.0      150   immoweb\n",
              "Rue Saint-ghislain 30, 6224 Fleurus   330000.0    5.0      320   immoweb\n",
              "Rue de la Closière 20, Fleurus        230000.0    2.0      175   immoweb\n",
              "Rue de la Closière 20, Fleurus        230000.0    3.0      170   immoweb\n",
              "Rue de Fer 25, 5000 Namur                  0.0    3.0      170  immovlan\n",
              "Rue du Luxembourg 15, 1000 Bruxelles    -100.0    NaN      100  immovlan\n",
              "NaN                                        NaN    0.0      100  immovlan\n",
              "Rue de Bruxelles 42, 5000 Namur       350000.0    4.0      200  immovlan\n",
              "Rue de la Loi 50, Bruxelles           700000.0    3.0      220  immovlan\n",
              "Rue de la Loi 51, Bruxelles           280000.0    3.0      120   immoweb\n",
              "Rue de la Loi 52, Bruxelles           400000.0    4.0      150  immovlan\n",
              "Rue de la Loi 53, Bruxelles           480000.0    5.0      170  immovlan\n",
              "Rue de Fer 27, Namur                  280000.0    3.0      140   immoweb\n",
              "Rue de Fer 28, Namur                  320000.0    4.0      160   immoweb\n",
              "Rue de Fer 29, Namur                  350000.0    5.0      180  immovlan"
            ]
          },
          "metadata": {
            "tags": []
          },
          "execution_count": 107
        }
      ]
    },
    {
      "cell_type": "code",
      "metadata": {
        "id": "OWuB83OZYELm",
        "colab_type": "code",
        "outputId": "c1533242-b6f8-4e11-a45b-f0000c40fe02",
        "colab": {
          "base_uri": "https://localhost:8080/",
          "height": 686
        }
      },
      "source": [
        "#Accès à une colonne\n",
        "print(df[\"price\"])\n",
        "#ou\n",
        "df.price"
      ],
      "execution_count": 108,
      "outputs": [
        {
          "output_type": "stream",
          "text": [
            "0     400000.0\n",
            "1     350000.0\n",
            "2     400000.0\n",
            "3     150000.0\n",
            "4     330000.0\n",
            "5     230000.0\n",
            "6     230000.0\n",
            "7          0.0\n",
            "8       -100.0\n",
            "9          NaN\n",
            "10    350000.0\n",
            "11    700000.0\n",
            "12    280000.0\n",
            "13    400000.0\n",
            "14    480000.0\n",
            "15    280000.0\n",
            "16    320000.0\n",
            "17    350000.0\n",
            "Name: price, dtype: float64\n"
          ],
          "name": "stdout"
        },
        {
          "output_type": "execute_result",
          "data": {
            "text/plain": [
              "0     400000.0\n",
              "1     350000.0\n",
              "2     400000.0\n",
              "3     150000.0\n",
              "4     330000.0\n",
              "5     230000.0\n",
              "6     230000.0\n",
              "7          0.0\n",
              "8       -100.0\n",
              "9          NaN\n",
              "10    350000.0\n",
              "11    700000.0\n",
              "12    280000.0\n",
              "13    400000.0\n",
              "14    480000.0\n",
              "15    280000.0\n",
              "16    320000.0\n",
              "17    350000.0\n",
              "Name: price, dtype: float64"
            ]
          },
          "metadata": {
            "tags": []
          },
          "execution_count": 108
        }
      ]
    },
    {
      "cell_type": "code",
      "metadata": {
        "id": "qzrlDEKiYxU3",
        "colab_type": "code",
        "outputId": "34bc99d9-b14c-4a86-e922-b14b15937410",
        "colab": {
          "base_uri": "https://localhost:8080/",
          "height": 603
        }
      },
      "source": [
        "#Accès à plusieurs colonnes\n",
        "df[[\"price\",\"surface\"]]"
      ],
      "execution_count": 109,
      "outputs": [
        {
          "output_type": "execute_result",
          "data": {
            "text/html": [
              "<div>\n",
              "<style scoped>\n",
              "    .dataframe tbody tr th:only-of-type {\n",
              "        vertical-align: middle;\n",
              "    }\n",
              "\n",
              "    .dataframe tbody tr th {\n",
              "        vertical-align: top;\n",
              "    }\n",
              "\n",
              "    .dataframe thead th {\n",
              "        text-align: right;\n",
              "    }\n",
              "</style>\n",
              "<table border=\"1\" class=\"dataframe\">\n",
              "  <thead>\n",
              "    <tr style=\"text-align: right;\">\n",
              "      <th></th>\n",
              "      <th>price</th>\n",
              "      <th>surface</th>\n",
              "    </tr>\n",
              "  </thead>\n",
              "  <tbody>\n",
              "    <tr>\n",
              "      <th>0</th>\n",
              "      <td>400000.0</td>\n",
              "      <td>150</td>\n",
              "    </tr>\n",
              "    <tr>\n",
              "      <th>1</th>\n",
              "      <td>350000.0</td>\n",
              "      <td>200</td>\n",
              "    </tr>\n",
              "    <tr>\n",
              "      <th>2</th>\n",
              "      <td>400000.0</td>\n",
              "      <td>120</td>\n",
              "    </tr>\n",
              "    <tr>\n",
              "      <th>3</th>\n",
              "      <td>150000.0</td>\n",
              "      <td>150</td>\n",
              "    </tr>\n",
              "    <tr>\n",
              "      <th>4</th>\n",
              "      <td>330000.0</td>\n",
              "      <td>320</td>\n",
              "    </tr>\n",
              "    <tr>\n",
              "      <th>5</th>\n",
              "      <td>230000.0</td>\n",
              "      <td>175</td>\n",
              "    </tr>\n",
              "    <tr>\n",
              "      <th>6</th>\n",
              "      <td>230000.0</td>\n",
              "      <td>170</td>\n",
              "    </tr>\n",
              "    <tr>\n",
              "      <th>7</th>\n",
              "      <td>0.0</td>\n",
              "      <td>170</td>\n",
              "    </tr>\n",
              "    <tr>\n",
              "      <th>8</th>\n",
              "      <td>-100.0</td>\n",
              "      <td>100</td>\n",
              "    </tr>\n",
              "    <tr>\n",
              "      <th>9</th>\n",
              "      <td>NaN</td>\n",
              "      <td>100</td>\n",
              "    </tr>\n",
              "    <tr>\n",
              "      <th>10</th>\n",
              "      <td>350000.0</td>\n",
              "      <td>200</td>\n",
              "    </tr>\n",
              "    <tr>\n",
              "      <th>11</th>\n",
              "      <td>700000.0</td>\n",
              "      <td>220</td>\n",
              "    </tr>\n",
              "    <tr>\n",
              "      <th>12</th>\n",
              "      <td>280000.0</td>\n",
              "      <td>120</td>\n",
              "    </tr>\n",
              "    <tr>\n",
              "      <th>13</th>\n",
              "      <td>400000.0</td>\n",
              "      <td>150</td>\n",
              "    </tr>\n",
              "    <tr>\n",
              "      <th>14</th>\n",
              "      <td>480000.0</td>\n",
              "      <td>170</td>\n",
              "    </tr>\n",
              "    <tr>\n",
              "      <th>15</th>\n",
              "      <td>280000.0</td>\n",
              "      <td>140</td>\n",
              "    </tr>\n",
              "    <tr>\n",
              "      <th>16</th>\n",
              "      <td>320000.0</td>\n",
              "      <td>160</td>\n",
              "    </tr>\n",
              "    <tr>\n",
              "      <th>17</th>\n",
              "      <td>350000.0</td>\n",
              "      <td>180</td>\n",
              "    </tr>\n",
              "  </tbody>\n",
              "</table>\n",
              "</div>"
            ],
            "text/plain": [
              "       price  surface\n",
              "0   400000.0      150\n",
              "1   350000.0      200\n",
              "2   400000.0      120\n",
              "3   150000.0      150\n",
              "4   330000.0      320\n",
              "5   230000.0      175\n",
              "6   230000.0      170\n",
              "7        0.0      170\n",
              "8     -100.0      100\n",
              "9        NaN      100\n",
              "10  350000.0      200\n",
              "11  700000.0      220\n",
              "12  280000.0      120\n",
              "13  400000.0      150\n",
              "14  480000.0      170\n",
              "15  280000.0      140\n",
              "16  320000.0      160\n",
              "17  350000.0      180"
            ]
          },
          "metadata": {
            "tags": []
          },
          "execution_count": 109
        }
      ]
    },
    {
      "cell_type": "code",
      "metadata": {
        "id": "H8tESOPCYpFN",
        "colab_type": "code",
        "outputId": "eb7b3f2a-18aa-4204-8a7a-94813515b8e8",
        "colab": {
          "base_uri": "https://localhost:8080/",
          "height": 123
        }
      },
      "source": [
        "#Accès à une ligne\n",
        "#par label: loc\n",
        "print(df.loc[0])"
      ],
      "execution_count": 110,
      "outputs": [
        {
          "output_type": "stream",
          "text": [
            "address    Rue de Fer 26, 5000 Namur\n",
            "price                         400000\n",
            "rooms                              4\n",
            "surface                          150\n",
            "website                      immoweb\n",
            "Name: 0, dtype: object\n"
          ],
          "name": "stdout"
        }
      ]
    },
    {
      "cell_type": "code",
      "metadata": {
        "id": "kBGAsJHja9Iu",
        "colab_type": "code",
        "outputId": "9ae8ebb4-077a-4244-b115-61ee3b125313",
        "colab": {
          "base_uri": "https://localhost:8080/",
          "height": 123
        }
      },
      "source": [
        "#par un entier: iloc (dans ce cas ça revient au même puisque l'index correspond à des entiers de 0 à 11)\n",
        "df.iloc[0]"
      ],
      "execution_count": 111,
      "outputs": [
        {
          "output_type": "execute_result",
          "data": {
            "text/plain": [
              "address    Rue de Fer 26, 5000 Namur\n",
              "price                         400000\n",
              "rooms                              4\n",
              "surface                          150\n",
              "website                      immoweb\n",
              "Name: 0, dtype: object"
            ]
          },
          "metadata": {
            "tags": []
          },
          "execution_count": 111
        }
      ]
    },
    {
      "cell_type": "code",
      "metadata": {
        "id": "jzz6e0ibZATG",
        "colab_type": "code",
        "outputId": "92d029b4-492f-4c1a-e9e2-7e9c072554e2",
        "colab": {
          "base_uri": "https://localhost:8080/",
          "height": 105
        }
      },
      "source": [
        "#Accès à une ligne\n",
        "print(df.set_index(\"address\").loc[\"NaN\"])"
      ],
      "execution_count": 112,
      "outputs": [
        {
          "output_type": "stream",
          "text": [
            "price           NaN\n",
            "rooms             0\n",
            "surface         100\n",
            "website    immovlan\n",
            "Name: NaN, dtype: object\n"
          ],
          "name": "stdout"
        }
      ]
    },
    {
      "cell_type": "code",
      "metadata": {
        "id": "ZaERu77dabJp",
        "colab_type": "code",
        "outputId": "b76786bd-7931-4f83-8e7d-7da7234c8481",
        "colab": {
          "base_uri": "https://localhost:8080/",
          "height": 105
        }
      },
      "source": [
        "df.set_index(\"address\").iloc[0]"
      ],
      "execution_count": 113,
      "outputs": [
        {
          "output_type": "execute_result",
          "data": {
            "text/plain": [
              "price       400000\n",
              "rooms            4\n",
              "surface        150\n",
              "website    immoweb\n",
              "Name: Rue de Fer 26, 5000 Namur, dtype: object"
            ]
          },
          "metadata": {
            "tags": []
          },
          "execution_count": 113
        }
      ]
    },
    {
      "cell_type": "code",
      "metadata": {
        "id": "7XQBSbOKZRkg",
        "colab_type": "code",
        "outputId": "0ed325eb-5ce2-4aff-ea6a-297a29793ff9",
        "colab": {
          "base_uri": "https://localhost:8080/",
          "height": 35
        }
      },
      "source": [
        "#Accès à un/plusieurs élément(s)\n",
        "df.iloc[0,0]"
      ],
      "execution_count": 114,
      "outputs": [
        {
          "output_type": "execute_result",
          "data": {
            "text/plain": [
              "'Rue de Fer 26, 5000 Namur'"
            ]
          },
          "metadata": {
            "tags": []
          },
          "execution_count": 114
        }
      ]
    },
    {
      "cell_type": "code",
      "metadata": {
        "id": "qXzeZQxQaHNg",
        "colab_type": "code",
        "outputId": "ce828598-3fc3-4ef8-ea99-98e2ced4560b",
        "colab": {
          "base_uri": "https://localhost:8080/",
          "height": 110
        }
      },
      "source": [
        "df.iloc[0:2,0:2]"
      ],
      "execution_count": 115,
      "outputs": [
        {
          "output_type": "execute_result",
          "data": {
            "text/html": [
              "<div>\n",
              "<style scoped>\n",
              "    .dataframe tbody tr th:only-of-type {\n",
              "        vertical-align: middle;\n",
              "    }\n",
              "\n",
              "    .dataframe tbody tr th {\n",
              "        vertical-align: top;\n",
              "    }\n",
              "\n",
              "    .dataframe thead th {\n",
              "        text-align: right;\n",
              "    }\n",
              "</style>\n",
              "<table border=\"1\" class=\"dataframe\">\n",
              "  <thead>\n",
              "    <tr style=\"text-align: right;\">\n",
              "      <th></th>\n",
              "      <th>address</th>\n",
              "      <th>price</th>\n",
              "    </tr>\n",
              "  </thead>\n",
              "  <tbody>\n",
              "    <tr>\n",
              "      <th>0</th>\n",
              "      <td>Rue de Fer 26, 5000 Namur</td>\n",
              "      <td>400000.0</td>\n",
              "    </tr>\n",
              "    <tr>\n",
              "      <th>1</th>\n",
              "      <td>Rue de Bruxelles 42, 5000 Namur</td>\n",
              "      <td>350000.0</td>\n",
              "    </tr>\n",
              "  </tbody>\n",
              "</table>\n",
              "</div>"
            ],
            "text/plain": [
              "                           address     price\n",
              "0        Rue de Fer 26, 5000 Namur  400000.0\n",
              "1  Rue de Bruxelles 42, 5000 Namur  350000.0"
            ]
          },
          "metadata": {
            "tags": []
          },
          "execution_count": 115
        }
      ]
    },
    {
      "cell_type": "code",
      "metadata": {
        "id": "1xTeVue7aJon",
        "colab_type": "code",
        "outputId": "4f51ac81-2688-4334-f0d5-b295f6430cbb",
        "colab": {
          "base_uri": "https://localhost:8080/",
          "height": 35
        }
      },
      "source": [
        "df.loc[0,\"price\"]"
      ],
      "execution_count": 116,
      "outputs": [
        {
          "output_type": "execute_result",
          "data": {
            "text/plain": [
              "400000.0"
            ]
          },
          "metadata": {
            "tags": []
          },
          "execution_count": 116
        }
      ]
    },
    {
      "cell_type": "code",
      "metadata": {
        "id": "msEMFzalaOMI",
        "colab_type": "code",
        "outputId": "da64f491-c142-417e-d9b2-8a640327349d",
        "colab": {
          "base_uri": "https://localhost:8080/",
          "height": 70
        }
      },
      "source": [
        "df.loc[0,[\"price\",\"surface\"]]"
      ],
      "execution_count": 117,
      "outputs": [
        {
          "output_type": "execute_result",
          "data": {
            "text/plain": [
              "price      400000\n",
              "surface       150\n",
              "Name: 0, dtype: object"
            ]
          },
          "metadata": {
            "tags": []
          },
          "execution_count": 117
        }
      ]
    },
    {
      "cell_type": "code",
      "metadata": {
        "id": "iqErTTDoaPj6",
        "colab_type": "code",
        "outputId": "6b28aba7-a22a-4d97-daa9-c6669b32cc99",
        "colab": {
          "base_uri": "https://localhost:8080/",
          "height": 172
        }
      },
      "source": [
        "df.loc[0:3,[\"price\",\"surface\"]]"
      ],
      "execution_count": 118,
      "outputs": [
        {
          "output_type": "execute_result",
          "data": {
            "text/html": [
              "<div>\n",
              "<style scoped>\n",
              "    .dataframe tbody tr th:only-of-type {\n",
              "        vertical-align: middle;\n",
              "    }\n",
              "\n",
              "    .dataframe tbody tr th {\n",
              "        vertical-align: top;\n",
              "    }\n",
              "\n",
              "    .dataframe thead th {\n",
              "        text-align: right;\n",
              "    }\n",
              "</style>\n",
              "<table border=\"1\" class=\"dataframe\">\n",
              "  <thead>\n",
              "    <tr style=\"text-align: right;\">\n",
              "      <th></th>\n",
              "      <th>price</th>\n",
              "      <th>surface</th>\n",
              "    </tr>\n",
              "  </thead>\n",
              "  <tbody>\n",
              "    <tr>\n",
              "      <th>0</th>\n",
              "      <td>400000.0</td>\n",
              "      <td>150</td>\n",
              "    </tr>\n",
              "    <tr>\n",
              "      <th>1</th>\n",
              "      <td>350000.0</td>\n",
              "      <td>200</td>\n",
              "    </tr>\n",
              "    <tr>\n",
              "      <th>2</th>\n",
              "      <td>400000.0</td>\n",
              "      <td>120</td>\n",
              "    </tr>\n",
              "    <tr>\n",
              "      <th>3</th>\n",
              "      <td>150000.0</td>\n",
              "      <td>150</td>\n",
              "    </tr>\n",
              "  </tbody>\n",
              "</table>\n",
              "</div>"
            ],
            "text/plain": [
              "      price  surface\n",
              "0  400000.0      150\n",
              "1  350000.0      200\n",
              "2  400000.0      120\n",
              "3  150000.0      150"
            ]
          },
          "metadata": {
            "tags": []
          },
          "execution_count": 118
        }
      ]
    },
    {
      "cell_type": "markdown",
      "metadata": {
        "id": "pBs1LmXgcgk5",
        "colab_type": "text"
      },
      "source": [
        "## Exploration statistique du dataframe\n"
      ]
    },
    {
      "cell_type": "markdown",
      "metadata": {
        "id": "czsPJk69ihKw",
        "colab_type": "text"
      },
      "source": [
        "Avant même de corriger le dataframe, il peut être intéressant de réaliser une première exploration statistique, qui permet parfois de se rendre compte directement des données à corriger.\n",
        "\n",
        "df.describe() permet de calculer différents aggrégats (des statistiques de base) pour toutes les colonnes numériques."
      ]
    },
    {
      "cell_type": "code",
      "metadata": {
        "id": "ipSGQZLvcOIX",
        "colab_type": "code",
        "outputId": "fa0fe34c-f852-4ec6-d828-9ebf6099ecf0",
        "colab": {
          "base_uri": "https://localhost:8080/",
          "height": 295
        }
      },
      "source": [
        "df.describe()"
      ],
      "execution_count": 119,
      "outputs": [
        {
          "output_type": "execute_result",
          "data": {
            "text/html": [
              "<div>\n",
              "<style scoped>\n",
              "    .dataframe tbody tr th:only-of-type {\n",
              "        vertical-align: middle;\n",
              "    }\n",
              "\n",
              "    .dataframe tbody tr th {\n",
              "        vertical-align: top;\n",
              "    }\n",
              "\n",
              "    .dataframe thead th {\n",
              "        text-align: right;\n",
              "    }\n",
              "</style>\n",
              "<table border=\"1\" class=\"dataframe\">\n",
              "  <thead>\n",
              "    <tr style=\"text-align: right;\">\n",
              "      <th></th>\n",
              "      <th>price</th>\n",
              "      <th>rooms</th>\n",
              "      <th>surface</th>\n",
              "    </tr>\n",
              "  </thead>\n",
              "  <tbody>\n",
              "    <tr>\n",
              "      <th>count</th>\n",
              "      <td>17.000000</td>\n",
              "      <td>17.000000</td>\n",
              "      <td>18.000000</td>\n",
              "    </tr>\n",
              "    <tr>\n",
              "      <th>mean</th>\n",
              "      <td>308817.647059</td>\n",
              "      <td>3.588235</td>\n",
              "      <td>166.388889</td>\n",
              "    </tr>\n",
              "    <tr>\n",
              "      <th>std</th>\n",
              "      <td>166402.795331</td>\n",
              "      <td>1.325652</td>\n",
              "      <td>50.695329</td>\n",
              "    </tr>\n",
              "    <tr>\n",
              "      <th>min</th>\n",
              "      <td>-100.000000</td>\n",
              "      <td>0.000000</td>\n",
              "      <td>100.000000</td>\n",
              "    </tr>\n",
              "    <tr>\n",
              "      <th>25%</th>\n",
              "      <td>230000.000000</td>\n",
              "      <td>3.000000</td>\n",
              "      <td>142.500000</td>\n",
              "    </tr>\n",
              "    <tr>\n",
              "      <th>50%</th>\n",
              "      <td>330000.000000</td>\n",
              "      <td>4.000000</td>\n",
              "      <td>165.000000</td>\n",
              "    </tr>\n",
              "    <tr>\n",
              "      <th>75%</th>\n",
              "      <td>400000.000000</td>\n",
              "      <td>5.000000</td>\n",
              "      <td>178.750000</td>\n",
              "    </tr>\n",
              "    <tr>\n",
              "      <th>max</th>\n",
              "      <td>700000.000000</td>\n",
              "      <td>5.000000</td>\n",
              "      <td>320.000000</td>\n",
              "    </tr>\n",
              "  </tbody>\n",
              "</table>\n",
              "</div>"
            ],
            "text/plain": [
              "               price      rooms     surface\n",
              "count      17.000000  17.000000   18.000000\n",
              "mean   308817.647059   3.588235  166.388889\n",
              "std    166402.795331   1.325652   50.695329\n",
              "min      -100.000000   0.000000  100.000000\n",
              "25%    230000.000000   3.000000  142.500000\n",
              "50%    330000.000000   4.000000  165.000000\n",
              "75%    400000.000000   5.000000  178.750000\n",
              "max    700000.000000   5.000000  320.000000"
            ]
          },
          "metadata": {
            "tags": []
          },
          "execution_count": 119
        }
      ]
    },
    {
      "cell_type": "markdown",
      "metadata": {
        "id": "bd8RQ1OpEI8q",
        "colab_type": "text"
      },
      "source": [
        "* On remarque directement des données incohérentes: le prix minimum est négatif, et le nombre de pièces minimum est 0. Il faut donc au moins corriger ces deux caractéristiques.\n",
        "* Il manque des valeurs pour les colonnes price et rooms (17 au lieu de 18). (Note: df.dropna() permet d'éliminer ces lignes invalides)\n",
        "* Les valeurs moyennes et maximales semble cohérentes."
      ]
    },
    {
      "cell_type": "markdown",
      "metadata": {
        "id": "gygRr631emVQ",
        "colab_type": "text"
      },
      "source": [
        "La méthode \"groupby\" permet de grouper les données selon leur adresse (on obtient un groupe par addresse unique), et la méthode \"count\" permet ensuite de compter les valeurs pour chaque groupe. Ceci permet de directement identifier les doublons, et les données non-valides.\n"
      ]
    },
    {
      "cell_type": "code",
      "metadata": {
        "id": "E6h4M8_4dHJ5",
        "colab_type": "code",
        "outputId": "54324f36-b954-4068-fe10-ac7ed9f36349",
        "colab": {
          "base_uri": "https://localhost:8080/",
          "height": 572
        }
      },
      "source": [
        "df.groupby(\"address\").count()"
      ],
      "execution_count": 120,
      "outputs": [
        {
          "output_type": "execute_result",
          "data": {
            "text/html": [
              "<div>\n",
              "<style scoped>\n",
              "    .dataframe tbody tr th:only-of-type {\n",
              "        vertical-align: middle;\n",
              "    }\n",
              "\n",
              "    .dataframe tbody tr th {\n",
              "        vertical-align: top;\n",
              "    }\n",
              "\n",
              "    .dataframe thead th {\n",
              "        text-align: right;\n",
              "    }\n",
              "</style>\n",
              "<table border=\"1\" class=\"dataframe\">\n",
              "  <thead>\n",
              "    <tr style=\"text-align: right;\">\n",
              "      <th></th>\n",
              "      <th>price</th>\n",
              "      <th>rooms</th>\n",
              "      <th>surface</th>\n",
              "      <th>website</th>\n",
              "    </tr>\n",
              "    <tr>\n",
              "      <th>address</th>\n",
              "      <th></th>\n",
              "      <th></th>\n",
              "      <th></th>\n",
              "      <th></th>\n",
              "    </tr>\n",
              "  </thead>\n",
              "  <tbody>\n",
              "    <tr>\n",
              "      <th>NaN</th>\n",
              "      <td>0</td>\n",
              "      <td>1</td>\n",
              "      <td>1</td>\n",
              "      <td>1</td>\n",
              "    </tr>\n",
              "    <tr>\n",
              "      <th>Porte de Namur 25, Bruxelles</th>\n",
              "      <td>1</td>\n",
              "      <td>1</td>\n",
              "      <td>1</td>\n",
              "      <td>1</td>\n",
              "    </tr>\n",
              "    <tr>\n",
              "      <th>Rue Saint-ghislain 30, 6224 Fleurus</th>\n",
              "      <td>1</td>\n",
              "      <td>1</td>\n",
              "      <td>1</td>\n",
              "      <td>1</td>\n",
              "    </tr>\n",
              "    <tr>\n",
              "      <th>Rue de Bruxelles 42, 5000 Namur</th>\n",
              "      <td>2</td>\n",
              "      <td>2</td>\n",
              "      <td>2</td>\n",
              "      <td>2</td>\n",
              "    </tr>\n",
              "    <tr>\n",
              "      <th>Rue de Fer 25, 5000 Namur</th>\n",
              "      <td>1</td>\n",
              "      <td>1</td>\n",
              "      <td>1</td>\n",
              "      <td>1</td>\n",
              "    </tr>\n",
              "    <tr>\n",
              "      <th>Rue de Fer 26, 5000 Namur</th>\n",
              "      <td>1</td>\n",
              "      <td>1</td>\n",
              "      <td>1</td>\n",
              "      <td>1</td>\n",
              "    </tr>\n",
              "    <tr>\n",
              "      <th>Rue de Fer 27, Namur</th>\n",
              "      <td>1</td>\n",
              "      <td>1</td>\n",
              "      <td>1</td>\n",
              "      <td>1</td>\n",
              "    </tr>\n",
              "    <tr>\n",
              "      <th>Rue de Fer 28, Namur</th>\n",
              "      <td>1</td>\n",
              "      <td>1</td>\n",
              "      <td>1</td>\n",
              "      <td>1</td>\n",
              "    </tr>\n",
              "    <tr>\n",
              "      <th>Rue de Fer 29, Namur</th>\n",
              "      <td>1</td>\n",
              "      <td>1</td>\n",
              "      <td>1</td>\n",
              "      <td>1</td>\n",
              "    </tr>\n",
              "    <tr>\n",
              "      <th>Rue de L'Eglise 42, Charleroi</th>\n",
              "      <td>1</td>\n",
              "      <td>1</td>\n",
              "      <td>1</td>\n",
              "      <td>1</td>\n",
              "    </tr>\n",
              "    <tr>\n",
              "      <th>Rue de la Closière 20, Fleurus</th>\n",
              "      <td>2</td>\n",
              "      <td>2</td>\n",
              "      <td>2</td>\n",
              "      <td>2</td>\n",
              "    </tr>\n",
              "    <tr>\n",
              "      <th>Rue de la Loi 50, Bruxelles</th>\n",
              "      <td>1</td>\n",
              "      <td>1</td>\n",
              "      <td>1</td>\n",
              "      <td>1</td>\n",
              "    </tr>\n",
              "    <tr>\n",
              "      <th>Rue de la Loi 51, Bruxelles</th>\n",
              "      <td>1</td>\n",
              "      <td>1</td>\n",
              "      <td>1</td>\n",
              "      <td>1</td>\n",
              "    </tr>\n",
              "    <tr>\n",
              "      <th>Rue de la Loi 52, Bruxelles</th>\n",
              "      <td>1</td>\n",
              "      <td>1</td>\n",
              "      <td>1</td>\n",
              "      <td>1</td>\n",
              "    </tr>\n",
              "    <tr>\n",
              "      <th>Rue de la Loi 53, Bruxelles</th>\n",
              "      <td>1</td>\n",
              "      <td>1</td>\n",
              "      <td>1</td>\n",
              "      <td>1</td>\n",
              "    </tr>\n",
              "    <tr>\n",
              "      <th>Rue du Luxembourg 15, 1000 Bruxelles</th>\n",
              "      <td>1</td>\n",
              "      <td>0</td>\n",
              "      <td>1</td>\n",
              "      <td>1</td>\n",
              "    </tr>\n",
              "  </tbody>\n",
              "</table>\n",
              "</div>"
            ],
            "text/plain": [
              "                                      price  rooms  surface  website\n",
              "address                                                             \n",
              "NaN                                       0      1        1        1\n",
              "Porte de Namur 25, Bruxelles              1      1        1        1\n",
              "Rue Saint-ghislain 30, 6224 Fleurus       1      1        1        1\n",
              "Rue de Bruxelles 42, 5000 Namur           2      2        2        2\n",
              "Rue de Fer 25, 5000 Namur                 1      1        1        1\n",
              "Rue de Fer 26, 5000 Namur                 1      1        1        1\n",
              "Rue de Fer 27, Namur                      1      1        1        1\n",
              "Rue de Fer 28, Namur                      1      1        1        1\n",
              "Rue de Fer 29, Namur                      1      1        1        1\n",
              "Rue de L'Eglise 42, Charleroi             1      1        1        1\n",
              "Rue de la Closière 20, Fleurus            2      2        2        2\n",
              "Rue de la Loi 50, Bruxelles               1      1        1        1\n",
              "Rue de la Loi 51, Bruxelles               1      1        1        1\n",
              "Rue de la Loi 52, Bruxelles               1      1        1        1\n",
              "Rue de la Loi 53, Bruxelles               1      1        1        1\n",
              "Rue du Luxembourg 15, 1000 Bruxelles      1      0        1        1"
            ]
          },
          "metadata": {
            "tags": []
          },
          "execution_count": 120
        }
      ]
    },
    {
      "cell_type": "markdown",
      "metadata": {
        "id": "Gi120EbAEMYS",
        "colab_type": "text"
      },
      "source": [
        "\n",
        "* On distingue 2 doublons: Rue de Bruxelles 42, 5000 Namur et Rue de la Closière 20, Fleurus\n",
        "\n",
        "* On remarque aussi des données invalides pour deux adresses: il manque le prix pour \"NaN\", de le nombre de pièces pour \"Rue du Luxembourg 15, 1000 Bruxelles\"\n",
        "* On aperçoit une adresse invalide: \"NaN\", qu'on peut enlever manuellement\n",
        "\n",
        "Note: df.dropna() permet d'éliminer directement ces données invalides (des NaN)"
      ]
    },
    {
      "cell_type": "markdown",
      "metadata": {
        "id": "Ri8VqV6lhD7t",
        "colab_type": "text"
      },
      "source": [
        "On peut réaliser le même processus pour l'autre colonne textuelle: website\n",
        "\n",
        "* On remarque en l'occurrence que plus de données viennent d'immoweb, et plus particulièrement que les données invalides viennent toutes de immovlan"
      ]
    },
    {
      "cell_type": "code",
      "metadata": {
        "id": "Asdqxln6g7Mj",
        "colab_type": "code",
        "outputId": "46b72c5d-7ce9-4fba-e88d-b8708a0f8d1e",
        "colab": {
          "base_uri": "https://localhost:8080/",
          "height": 141
        }
      },
      "source": [
        "df.groupby(\"website\").count()"
      ],
      "execution_count": 121,
      "outputs": [
        {
          "output_type": "execute_result",
          "data": {
            "text/html": [
              "<div>\n",
              "<style scoped>\n",
              "    .dataframe tbody tr th:only-of-type {\n",
              "        vertical-align: middle;\n",
              "    }\n",
              "\n",
              "    .dataframe tbody tr th {\n",
              "        vertical-align: top;\n",
              "    }\n",
              "\n",
              "    .dataframe thead th {\n",
              "        text-align: right;\n",
              "    }\n",
              "</style>\n",
              "<table border=\"1\" class=\"dataframe\">\n",
              "  <thead>\n",
              "    <tr style=\"text-align: right;\">\n",
              "      <th></th>\n",
              "      <th>address</th>\n",
              "      <th>price</th>\n",
              "      <th>rooms</th>\n",
              "      <th>surface</th>\n",
              "    </tr>\n",
              "    <tr>\n",
              "      <th>website</th>\n",
              "      <th></th>\n",
              "      <th></th>\n",
              "      <th></th>\n",
              "      <th></th>\n",
              "    </tr>\n",
              "  </thead>\n",
              "  <tbody>\n",
              "    <tr>\n",
              "      <th>immovlan</th>\n",
              "      <td>8</td>\n",
              "      <td>7</td>\n",
              "      <td>7</td>\n",
              "      <td>8</td>\n",
              "    </tr>\n",
              "    <tr>\n",
              "      <th>immoweb</th>\n",
              "      <td>10</td>\n",
              "      <td>10</td>\n",
              "      <td>10</td>\n",
              "      <td>10</td>\n",
              "    </tr>\n",
              "  </tbody>\n",
              "</table>\n",
              "</div>"
            ],
            "text/plain": [
              "          address  price  rooms  surface\n",
              "website                                 \n",
              "immovlan        8      7      7        8\n",
              "immoweb        10     10     10       10"
            ]
          },
          "metadata": {
            "tags": []
          },
          "execution_count": 121
        }
      ]
    },
    {
      "cell_type": "markdown",
      "metadata": {
        "id": "grHijEqKVR2e",
        "colab_type": "text"
      },
      "source": [
        "## Correction du dataframe en une seule instruction\n",
        "* Retire les données invalides:\n",
        "  * string à \"NaN\",\"\" ou \" \"\n",
        "  * nombre négatif\n",
        "  * nombre défini à NaN\n",
        "* Retire les doublons"
      ]
    },
    {
      "cell_type": "code",
      "metadata": {
        "id": "RSYtHkwfUSIr",
        "colab_type": "code",
        "outputId": "278feb74-ba8d-442d-d8b4-45acf981775e",
        "colab": {
          "base_uri": "https://localhost:8080/",
          "height": 449
        }
      },
      "source": [
        "#Correction du dataframe en une seule instruction: retire toutes les données invalides et les doublons\n",
        "df = df[~df.address.isin([\"NaN\",\"\",\" \"]) & \\\n",
        "        (df.price > 0) & (df.rooms > 0)]\\\n",
        "  .dropna()\\\n",
        "  .drop_duplicates(\"address\")\n",
        "\n",
        "df\n"
      ],
      "execution_count": 122,
      "outputs": [
        {
          "output_type": "execute_result",
          "data": {
            "text/html": [
              "<div>\n",
              "<style scoped>\n",
              "    .dataframe tbody tr th:only-of-type {\n",
              "        vertical-align: middle;\n",
              "    }\n",
              "\n",
              "    .dataframe tbody tr th {\n",
              "        vertical-align: top;\n",
              "    }\n",
              "\n",
              "    .dataframe thead th {\n",
              "        text-align: right;\n",
              "    }\n",
              "</style>\n",
              "<table border=\"1\" class=\"dataframe\">\n",
              "  <thead>\n",
              "    <tr style=\"text-align: right;\">\n",
              "      <th></th>\n",
              "      <th>address</th>\n",
              "      <th>price</th>\n",
              "      <th>rooms</th>\n",
              "      <th>surface</th>\n",
              "      <th>website</th>\n",
              "    </tr>\n",
              "  </thead>\n",
              "  <tbody>\n",
              "    <tr>\n",
              "      <th>0</th>\n",
              "      <td>Rue de Fer 26, 5000 Namur</td>\n",
              "      <td>400000.0</td>\n",
              "      <td>4.0</td>\n",
              "      <td>150</td>\n",
              "      <td>immoweb</td>\n",
              "    </tr>\n",
              "    <tr>\n",
              "      <th>1</th>\n",
              "      <td>Rue de Bruxelles 42, 5000 Namur</td>\n",
              "      <td>350000.0</td>\n",
              "      <td>5.0</td>\n",
              "      <td>200</td>\n",
              "      <td>immoweb</td>\n",
              "    </tr>\n",
              "    <tr>\n",
              "      <th>2</th>\n",
              "      <td>Porte de Namur 25, Bruxelles</td>\n",
              "      <td>400000.0</td>\n",
              "      <td>3.0</td>\n",
              "      <td>120</td>\n",
              "      <td>immoweb</td>\n",
              "    </tr>\n",
              "    <tr>\n",
              "      <th>3</th>\n",
              "      <td>Rue de L'Eglise 42, Charleroi</td>\n",
              "      <td>150000.0</td>\n",
              "      <td>5.0</td>\n",
              "      <td>150</td>\n",
              "      <td>immoweb</td>\n",
              "    </tr>\n",
              "    <tr>\n",
              "      <th>4</th>\n",
              "      <td>Rue Saint-ghislain 30, 6224 Fleurus</td>\n",
              "      <td>330000.0</td>\n",
              "      <td>5.0</td>\n",
              "      <td>320</td>\n",
              "      <td>immoweb</td>\n",
              "    </tr>\n",
              "    <tr>\n",
              "      <th>5</th>\n",
              "      <td>Rue de la Closière 20, Fleurus</td>\n",
              "      <td>230000.0</td>\n",
              "      <td>2.0</td>\n",
              "      <td>175</td>\n",
              "      <td>immoweb</td>\n",
              "    </tr>\n",
              "    <tr>\n",
              "      <th>11</th>\n",
              "      <td>Rue de la Loi 50, Bruxelles</td>\n",
              "      <td>700000.0</td>\n",
              "      <td>3.0</td>\n",
              "      <td>220</td>\n",
              "      <td>immovlan</td>\n",
              "    </tr>\n",
              "    <tr>\n",
              "      <th>12</th>\n",
              "      <td>Rue de la Loi 51, Bruxelles</td>\n",
              "      <td>280000.0</td>\n",
              "      <td>3.0</td>\n",
              "      <td>120</td>\n",
              "      <td>immoweb</td>\n",
              "    </tr>\n",
              "    <tr>\n",
              "      <th>13</th>\n",
              "      <td>Rue de la Loi 52, Bruxelles</td>\n",
              "      <td>400000.0</td>\n",
              "      <td>4.0</td>\n",
              "      <td>150</td>\n",
              "      <td>immovlan</td>\n",
              "    </tr>\n",
              "    <tr>\n",
              "      <th>14</th>\n",
              "      <td>Rue de la Loi 53, Bruxelles</td>\n",
              "      <td>480000.0</td>\n",
              "      <td>5.0</td>\n",
              "      <td>170</td>\n",
              "      <td>immovlan</td>\n",
              "    </tr>\n",
              "    <tr>\n",
              "      <th>15</th>\n",
              "      <td>Rue de Fer 27, Namur</td>\n",
              "      <td>280000.0</td>\n",
              "      <td>3.0</td>\n",
              "      <td>140</td>\n",
              "      <td>immoweb</td>\n",
              "    </tr>\n",
              "    <tr>\n",
              "      <th>16</th>\n",
              "      <td>Rue de Fer 28, Namur</td>\n",
              "      <td>320000.0</td>\n",
              "      <td>4.0</td>\n",
              "      <td>160</td>\n",
              "      <td>immoweb</td>\n",
              "    </tr>\n",
              "    <tr>\n",
              "      <th>17</th>\n",
              "      <td>Rue de Fer 29, Namur</td>\n",
              "      <td>350000.0</td>\n",
              "      <td>5.0</td>\n",
              "      <td>180</td>\n",
              "      <td>immovlan</td>\n",
              "    </tr>\n",
              "  </tbody>\n",
              "</table>\n",
              "</div>"
            ],
            "text/plain": [
              "                                address     price  rooms  surface   website\n",
              "0             Rue de Fer 26, 5000 Namur  400000.0    4.0      150   immoweb\n",
              "1       Rue de Bruxelles 42, 5000 Namur  350000.0    5.0      200   immoweb\n",
              "2          Porte de Namur 25, Bruxelles  400000.0    3.0      120   immoweb\n",
              "3         Rue de L'Eglise 42, Charleroi  150000.0    5.0      150   immoweb\n",
              "4   Rue Saint-ghislain 30, 6224 Fleurus  330000.0    5.0      320   immoweb\n",
              "5        Rue de la Closière 20, Fleurus  230000.0    2.0      175   immoweb\n",
              "11          Rue de la Loi 50, Bruxelles  700000.0    3.0      220  immovlan\n",
              "12          Rue de la Loi 51, Bruxelles  280000.0    3.0      120   immoweb\n",
              "13          Rue de la Loi 52, Bruxelles  400000.0    4.0      150  immovlan\n",
              "14          Rue de la Loi 53, Bruxelles  480000.0    5.0      170  immovlan\n",
              "15                 Rue de Fer 27, Namur  280000.0    3.0      140   immoweb\n",
              "16                 Rue de Fer 28, Namur  320000.0    4.0      160   immoweb\n",
              "17                 Rue de Fer 29, Namur  350000.0    5.0      180  immovlan"
            ]
          },
          "metadata": {
            "tags": []
          },
          "execution_count": 122
        }
      ]
    },
    {
      "cell_type": "markdown",
      "metadata": {
        "id": "4JgQN1tuVOuo",
        "colab_type": "text"
      },
      "source": [
        "## Correction étape par étape"
      ]
    },
    {
      "cell_type": "code",
      "metadata": {
        "id": "t6hD3BYPbd4o",
        "colab_type": "code",
        "colab": {
          "base_uri": "https://localhost:8080/",
          "height": 603
        },
        "outputId": "b0c6ed79-6158-449f-e3fd-15956625c887"
      },
      "source": [
        "#On reprend le dataframe non-corrigé pour comparer\n",
        "df = df1\n",
        "df"
      ],
      "execution_count": 123,
      "outputs": [
        {
          "output_type": "execute_result",
          "data": {
            "text/html": [
              "<div>\n",
              "<style scoped>\n",
              "    .dataframe tbody tr th:only-of-type {\n",
              "        vertical-align: middle;\n",
              "    }\n",
              "\n",
              "    .dataframe tbody tr th {\n",
              "        vertical-align: top;\n",
              "    }\n",
              "\n",
              "    .dataframe thead th {\n",
              "        text-align: right;\n",
              "    }\n",
              "</style>\n",
              "<table border=\"1\" class=\"dataframe\">\n",
              "  <thead>\n",
              "    <tr style=\"text-align: right;\">\n",
              "      <th></th>\n",
              "      <th>address</th>\n",
              "      <th>price</th>\n",
              "      <th>rooms</th>\n",
              "      <th>surface</th>\n",
              "      <th>website</th>\n",
              "    </tr>\n",
              "  </thead>\n",
              "  <tbody>\n",
              "    <tr>\n",
              "      <th>0</th>\n",
              "      <td>Rue de Fer 26, 5000 Namur</td>\n",
              "      <td>400000.0</td>\n",
              "      <td>4.0</td>\n",
              "      <td>150</td>\n",
              "      <td>immoweb</td>\n",
              "    </tr>\n",
              "    <tr>\n",
              "      <th>1</th>\n",
              "      <td>Rue de Bruxelles 42, 5000 Namur</td>\n",
              "      <td>350000.0</td>\n",
              "      <td>5.0</td>\n",
              "      <td>200</td>\n",
              "      <td>immoweb</td>\n",
              "    </tr>\n",
              "    <tr>\n",
              "      <th>2</th>\n",
              "      <td>Porte de Namur 25, Bruxelles</td>\n",
              "      <td>400000.0</td>\n",
              "      <td>3.0</td>\n",
              "      <td>120</td>\n",
              "      <td>immoweb</td>\n",
              "    </tr>\n",
              "    <tr>\n",
              "      <th>3</th>\n",
              "      <td>Rue de L'Eglise 42, Charleroi</td>\n",
              "      <td>150000.0</td>\n",
              "      <td>5.0</td>\n",
              "      <td>150</td>\n",
              "      <td>immoweb</td>\n",
              "    </tr>\n",
              "    <tr>\n",
              "      <th>4</th>\n",
              "      <td>Rue Saint-ghislain 30, 6224 Fleurus</td>\n",
              "      <td>330000.0</td>\n",
              "      <td>5.0</td>\n",
              "      <td>320</td>\n",
              "      <td>immoweb</td>\n",
              "    </tr>\n",
              "    <tr>\n",
              "      <th>5</th>\n",
              "      <td>Rue de la Closière 20, Fleurus</td>\n",
              "      <td>230000.0</td>\n",
              "      <td>2.0</td>\n",
              "      <td>175</td>\n",
              "      <td>immoweb</td>\n",
              "    </tr>\n",
              "    <tr>\n",
              "      <th>6</th>\n",
              "      <td>Rue de la Closière 20, Fleurus</td>\n",
              "      <td>230000.0</td>\n",
              "      <td>3.0</td>\n",
              "      <td>170</td>\n",
              "      <td>immoweb</td>\n",
              "    </tr>\n",
              "    <tr>\n",
              "      <th>7</th>\n",
              "      <td>Rue de Fer 25, 5000 Namur</td>\n",
              "      <td>0.0</td>\n",
              "      <td>3.0</td>\n",
              "      <td>170</td>\n",
              "      <td>immovlan</td>\n",
              "    </tr>\n",
              "    <tr>\n",
              "      <th>8</th>\n",
              "      <td>Rue du Luxembourg 15, 1000 Bruxelles</td>\n",
              "      <td>-100.0</td>\n",
              "      <td>NaN</td>\n",
              "      <td>100</td>\n",
              "      <td>immovlan</td>\n",
              "    </tr>\n",
              "    <tr>\n",
              "      <th>9</th>\n",
              "      <td>NaN</td>\n",
              "      <td>NaN</td>\n",
              "      <td>0.0</td>\n",
              "      <td>100</td>\n",
              "      <td>immovlan</td>\n",
              "    </tr>\n",
              "    <tr>\n",
              "      <th>10</th>\n",
              "      <td>Rue de Bruxelles 42, 5000 Namur</td>\n",
              "      <td>350000.0</td>\n",
              "      <td>4.0</td>\n",
              "      <td>200</td>\n",
              "      <td>immovlan</td>\n",
              "    </tr>\n",
              "    <tr>\n",
              "      <th>11</th>\n",
              "      <td>Rue de la Loi 50, Bruxelles</td>\n",
              "      <td>700000.0</td>\n",
              "      <td>3.0</td>\n",
              "      <td>220</td>\n",
              "      <td>immovlan</td>\n",
              "    </tr>\n",
              "    <tr>\n",
              "      <th>12</th>\n",
              "      <td>Rue de la Loi 51, Bruxelles</td>\n",
              "      <td>280000.0</td>\n",
              "      <td>3.0</td>\n",
              "      <td>120</td>\n",
              "      <td>immoweb</td>\n",
              "    </tr>\n",
              "    <tr>\n",
              "      <th>13</th>\n",
              "      <td>Rue de la Loi 52, Bruxelles</td>\n",
              "      <td>400000.0</td>\n",
              "      <td>4.0</td>\n",
              "      <td>150</td>\n",
              "      <td>immovlan</td>\n",
              "    </tr>\n",
              "    <tr>\n",
              "      <th>14</th>\n",
              "      <td>Rue de la Loi 53, Bruxelles</td>\n",
              "      <td>480000.0</td>\n",
              "      <td>5.0</td>\n",
              "      <td>170</td>\n",
              "      <td>immovlan</td>\n",
              "    </tr>\n",
              "    <tr>\n",
              "      <th>15</th>\n",
              "      <td>Rue de Fer 27, Namur</td>\n",
              "      <td>280000.0</td>\n",
              "      <td>3.0</td>\n",
              "      <td>140</td>\n",
              "      <td>immoweb</td>\n",
              "    </tr>\n",
              "    <tr>\n",
              "      <th>16</th>\n",
              "      <td>Rue de Fer 28, Namur</td>\n",
              "      <td>320000.0</td>\n",
              "      <td>4.0</td>\n",
              "      <td>160</td>\n",
              "      <td>immoweb</td>\n",
              "    </tr>\n",
              "    <tr>\n",
              "      <th>17</th>\n",
              "      <td>Rue de Fer 29, Namur</td>\n",
              "      <td>350000.0</td>\n",
              "      <td>5.0</td>\n",
              "      <td>180</td>\n",
              "      <td>immovlan</td>\n",
              "    </tr>\n",
              "  </tbody>\n",
              "</table>\n",
              "</div>"
            ],
            "text/plain": [
              "                                 address     price  rooms  surface   website\n",
              "0              Rue de Fer 26, 5000 Namur  400000.0    4.0      150   immoweb\n",
              "1        Rue de Bruxelles 42, 5000 Namur  350000.0    5.0      200   immoweb\n",
              "2           Porte de Namur 25, Bruxelles  400000.0    3.0      120   immoweb\n",
              "3          Rue de L'Eglise 42, Charleroi  150000.0    5.0      150   immoweb\n",
              "4    Rue Saint-ghislain 30, 6224 Fleurus  330000.0    5.0      320   immoweb\n",
              "5         Rue de la Closière 20, Fleurus  230000.0    2.0      175   immoweb\n",
              "6         Rue de la Closière 20, Fleurus  230000.0    3.0      170   immoweb\n",
              "7              Rue de Fer 25, 5000 Namur       0.0    3.0      170  immovlan\n",
              "8   Rue du Luxembourg 15, 1000 Bruxelles    -100.0    NaN      100  immovlan\n",
              "9                                    NaN       NaN    0.0      100  immovlan\n",
              "10       Rue de Bruxelles 42, 5000 Namur  350000.0    4.0      200  immovlan\n",
              "11           Rue de la Loi 50, Bruxelles  700000.0    3.0      220  immovlan\n",
              "12           Rue de la Loi 51, Bruxelles  280000.0    3.0      120   immoweb\n",
              "13           Rue de la Loi 52, Bruxelles  400000.0    4.0      150  immovlan\n",
              "14           Rue de la Loi 53, Bruxelles  480000.0    5.0      170  immovlan\n",
              "15                  Rue de Fer 27, Namur  280000.0    3.0      140   immoweb\n",
              "16                  Rue de Fer 28, Namur  320000.0    4.0      160   immoweb\n",
              "17                  Rue de Fer 29, Namur  350000.0    5.0      180  immovlan"
            ]
          },
          "metadata": {
            "tags": []
          },
          "execution_count": 123
        }
      ]
    },
    {
      "cell_type": "code",
      "metadata": {
        "id": "xBZMkmqlOva3",
        "colab_type": "code",
        "outputId": "7508185e-9ea5-4d31-b138-336be496424a",
        "colab": {
          "base_uri": "https://localhost:8080/",
          "height": 572
        }
      },
      "source": [
        "#Pour les colonnes de texte, retirer les valeurs invalides (NaN ou \"\" ou \" \")\n",
        "\n",
        "#df = df[df.address != \"NaN\"]\n",
        "#Ou pus complet\n",
        "df = df[~df.address.isin([\"NaN\",\"\",\" \"])]\n",
        "df"
      ],
      "execution_count": 124,
      "outputs": [
        {
          "output_type": "execute_result",
          "data": {
            "text/html": [
              "<div>\n",
              "<style scoped>\n",
              "    .dataframe tbody tr th:only-of-type {\n",
              "        vertical-align: middle;\n",
              "    }\n",
              "\n",
              "    .dataframe tbody tr th {\n",
              "        vertical-align: top;\n",
              "    }\n",
              "\n",
              "    .dataframe thead th {\n",
              "        text-align: right;\n",
              "    }\n",
              "</style>\n",
              "<table border=\"1\" class=\"dataframe\">\n",
              "  <thead>\n",
              "    <tr style=\"text-align: right;\">\n",
              "      <th></th>\n",
              "      <th>address</th>\n",
              "      <th>price</th>\n",
              "      <th>rooms</th>\n",
              "      <th>surface</th>\n",
              "      <th>website</th>\n",
              "    </tr>\n",
              "  </thead>\n",
              "  <tbody>\n",
              "    <tr>\n",
              "      <th>0</th>\n",
              "      <td>Rue de Fer 26, 5000 Namur</td>\n",
              "      <td>400000.0</td>\n",
              "      <td>4.0</td>\n",
              "      <td>150</td>\n",
              "      <td>immoweb</td>\n",
              "    </tr>\n",
              "    <tr>\n",
              "      <th>1</th>\n",
              "      <td>Rue de Bruxelles 42, 5000 Namur</td>\n",
              "      <td>350000.0</td>\n",
              "      <td>5.0</td>\n",
              "      <td>200</td>\n",
              "      <td>immoweb</td>\n",
              "    </tr>\n",
              "    <tr>\n",
              "      <th>2</th>\n",
              "      <td>Porte de Namur 25, Bruxelles</td>\n",
              "      <td>400000.0</td>\n",
              "      <td>3.0</td>\n",
              "      <td>120</td>\n",
              "      <td>immoweb</td>\n",
              "    </tr>\n",
              "    <tr>\n",
              "      <th>3</th>\n",
              "      <td>Rue de L'Eglise 42, Charleroi</td>\n",
              "      <td>150000.0</td>\n",
              "      <td>5.0</td>\n",
              "      <td>150</td>\n",
              "      <td>immoweb</td>\n",
              "    </tr>\n",
              "    <tr>\n",
              "      <th>4</th>\n",
              "      <td>Rue Saint-ghislain 30, 6224 Fleurus</td>\n",
              "      <td>330000.0</td>\n",
              "      <td>5.0</td>\n",
              "      <td>320</td>\n",
              "      <td>immoweb</td>\n",
              "    </tr>\n",
              "    <tr>\n",
              "      <th>5</th>\n",
              "      <td>Rue de la Closière 20, Fleurus</td>\n",
              "      <td>230000.0</td>\n",
              "      <td>2.0</td>\n",
              "      <td>175</td>\n",
              "      <td>immoweb</td>\n",
              "    </tr>\n",
              "    <tr>\n",
              "      <th>6</th>\n",
              "      <td>Rue de la Closière 20, Fleurus</td>\n",
              "      <td>230000.0</td>\n",
              "      <td>3.0</td>\n",
              "      <td>170</td>\n",
              "      <td>immoweb</td>\n",
              "    </tr>\n",
              "    <tr>\n",
              "      <th>7</th>\n",
              "      <td>Rue de Fer 25, 5000 Namur</td>\n",
              "      <td>0.0</td>\n",
              "      <td>3.0</td>\n",
              "      <td>170</td>\n",
              "      <td>immovlan</td>\n",
              "    </tr>\n",
              "    <tr>\n",
              "      <th>8</th>\n",
              "      <td>Rue du Luxembourg 15, 1000 Bruxelles</td>\n",
              "      <td>-100.0</td>\n",
              "      <td>NaN</td>\n",
              "      <td>100</td>\n",
              "      <td>immovlan</td>\n",
              "    </tr>\n",
              "    <tr>\n",
              "      <th>10</th>\n",
              "      <td>Rue de Bruxelles 42, 5000 Namur</td>\n",
              "      <td>350000.0</td>\n",
              "      <td>4.0</td>\n",
              "      <td>200</td>\n",
              "      <td>immovlan</td>\n",
              "    </tr>\n",
              "    <tr>\n",
              "      <th>11</th>\n",
              "      <td>Rue de la Loi 50, Bruxelles</td>\n",
              "      <td>700000.0</td>\n",
              "      <td>3.0</td>\n",
              "      <td>220</td>\n",
              "      <td>immovlan</td>\n",
              "    </tr>\n",
              "    <tr>\n",
              "      <th>12</th>\n",
              "      <td>Rue de la Loi 51, Bruxelles</td>\n",
              "      <td>280000.0</td>\n",
              "      <td>3.0</td>\n",
              "      <td>120</td>\n",
              "      <td>immoweb</td>\n",
              "    </tr>\n",
              "    <tr>\n",
              "      <th>13</th>\n",
              "      <td>Rue de la Loi 52, Bruxelles</td>\n",
              "      <td>400000.0</td>\n",
              "      <td>4.0</td>\n",
              "      <td>150</td>\n",
              "      <td>immovlan</td>\n",
              "    </tr>\n",
              "    <tr>\n",
              "      <th>14</th>\n",
              "      <td>Rue de la Loi 53, Bruxelles</td>\n",
              "      <td>480000.0</td>\n",
              "      <td>5.0</td>\n",
              "      <td>170</td>\n",
              "      <td>immovlan</td>\n",
              "    </tr>\n",
              "    <tr>\n",
              "      <th>15</th>\n",
              "      <td>Rue de Fer 27, Namur</td>\n",
              "      <td>280000.0</td>\n",
              "      <td>3.0</td>\n",
              "      <td>140</td>\n",
              "      <td>immoweb</td>\n",
              "    </tr>\n",
              "    <tr>\n",
              "      <th>16</th>\n",
              "      <td>Rue de Fer 28, Namur</td>\n",
              "      <td>320000.0</td>\n",
              "      <td>4.0</td>\n",
              "      <td>160</td>\n",
              "      <td>immoweb</td>\n",
              "    </tr>\n",
              "    <tr>\n",
              "      <th>17</th>\n",
              "      <td>Rue de Fer 29, Namur</td>\n",
              "      <td>350000.0</td>\n",
              "      <td>5.0</td>\n",
              "      <td>180</td>\n",
              "      <td>immovlan</td>\n",
              "    </tr>\n",
              "  </tbody>\n",
              "</table>\n",
              "</div>"
            ],
            "text/plain": [
              "                                 address     price  rooms  surface   website\n",
              "0              Rue de Fer 26, 5000 Namur  400000.0    4.0      150   immoweb\n",
              "1        Rue de Bruxelles 42, 5000 Namur  350000.0    5.0      200   immoweb\n",
              "2           Porte de Namur 25, Bruxelles  400000.0    3.0      120   immoweb\n",
              "3          Rue de L'Eglise 42, Charleroi  150000.0    5.0      150   immoweb\n",
              "4    Rue Saint-ghislain 30, 6224 Fleurus  330000.0    5.0      320   immoweb\n",
              "5         Rue de la Closière 20, Fleurus  230000.0    2.0      175   immoweb\n",
              "6         Rue de la Closière 20, Fleurus  230000.0    3.0      170   immoweb\n",
              "7              Rue de Fer 25, 5000 Namur       0.0    3.0      170  immovlan\n",
              "8   Rue du Luxembourg 15, 1000 Bruxelles    -100.0    NaN      100  immovlan\n",
              "10       Rue de Bruxelles 42, 5000 Namur  350000.0    4.0      200  immovlan\n",
              "11           Rue de la Loi 50, Bruxelles  700000.0    3.0      220  immovlan\n",
              "12           Rue de la Loi 51, Bruxelles  280000.0    3.0      120   immoweb\n",
              "13           Rue de la Loi 52, Bruxelles  400000.0    4.0      150  immovlan\n",
              "14           Rue de la Loi 53, Bruxelles  480000.0    5.0      170  immovlan\n",
              "15                  Rue de Fer 27, Namur  280000.0    3.0      140   immoweb\n",
              "16                  Rue de Fer 28, Namur  320000.0    4.0      160   immoweb\n",
              "17                  Rue de Fer 29, Namur  350000.0    5.0      180  immovlan"
            ]
          },
          "metadata": {
            "tags": []
          },
          "execution_count": 124
        }
      ]
    },
    {
      "cell_type": "code",
      "metadata": {
        "id": "b9hJbbkVQkpI",
        "colab_type": "code",
        "outputId": "bcce5659-784a-41c9-a80f-434a86f35dc3",
        "colab": {
          "base_uri": "https://localhost:8080/",
          "height": 541
        }
      },
      "source": [
        "#Elimine les lignes contenant des NaN\n",
        "df = df.dropna()\n",
        "df"
      ],
      "execution_count": 125,
      "outputs": [
        {
          "output_type": "execute_result",
          "data": {
            "text/html": [
              "<div>\n",
              "<style scoped>\n",
              "    .dataframe tbody tr th:only-of-type {\n",
              "        vertical-align: middle;\n",
              "    }\n",
              "\n",
              "    .dataframe tbody tr th {\n",
              "        vertical-align: top;\n",
              "    }\n",
              "\n",
              "    .dataframe thead th {\n",
              "        text-align: right;\n",
              "    }\n",
              "</style>\n",
              "<table border=\"1\" class=\"dataframe\">\n",
              "  <thead>\n",
              "    <tr style=\"text-align: right;\">\n",
              "      <th></th>\n",
              "      <th>address</th>\n",
              "      <th>price</th>\n",
              "      <th>rooms</th>\n",
              "      <th>surface</th>\n",
              "      <th>website</th>\n",
              "    </tr>\n",
              "  </thead>\n",
              "  <tbody>\n",
              "    <tr>\n",
              "      <th>0</th>\n",
              "      <td>Rue de Fer 26, 5000 Namur</td>\n",
              "      <td>400000.0</td>\n",
              "      <td>4.0</td>\n",
              "      <td>150</td>\n",
              "      <td>immoweb</td>\n",
              "    </tr>\n",
              "    <tr>\n",
              "      <th>1</th>\n",
              "      <td>Rue de Bruxelles 42, 5000 Namur</td>\n",
              "      <td>350000.0</td>\n",
              "      <td>5.0</td>\n",
              "      <td>200</td>\n",
              "      <td>immoweb</td>\n",
              "    </tr>\n",
              "    <tr>\n",
              "      <th>2</th>\n",
              "      <td>Porte de Namur 25, Bruxelles</td>\n",
              "      <td>400000.0</td>\n",
              "      <td>3.0</td>\n",
              "      <td>120</td>\n",
              "      <td>immoweb</td>\n",
              "    </tr>\n",
              "    <tr>\n",
              "      <th>3</th>\n",
              "      <td>Rue de L'Eglise 42, Charleroi</td>\n",
              "      <td>150000.0</td>\n",
              "      <td>5.0</td>\n",
              "      <td>150</td>\n",
              "      <td>immoweb</td>\n",
              "    </tr>\n",
              "    <tr>\n",
              "      <th>4</th>\n",
              "      <td>Rue Saint-ghislain 30, 6224 Fleurus</td>\n",
              "      <td>330000.0</td>\n",
              "      <td>5.0</td>\n",
              "      <td>320</td>\n",
              "      <td>immoweb</td>\n",
              "    </tr>\n",
              "    <tr>\n",
              "      <th>5</th>\n",
              "      <td>Rue de la Closière 20, Fleurus</td>\n",
              "      <td>230000.0</td>\n",
              "      <td>2.0</td>\n",
              "      <td>175</td>\n",
              "      <td>immoweb</td>\n",
              "    </tr>\n",
              "    <tr>\n",
              "      <th>6</th>\n",
              "      <td>Rue de la Closière 20, Fleurus</td>\n",
              "      <td>230000.0</td>\n",
              "      <td>3.0</td>\n",
              "      <td>170</td>\n",
              "      <td>immoweb</td>\n",
              "    </tr>\n",
              "    <tr>\n",
              "      <th>7</th>\n",
              "      <td>Rue de Fer 25, 5000 Namur</td>\n",
              "      <td>0.0</td>\n",
              "      <td>3.0</td>\n",
              "      <td>170</td>\n",
              "      <td>immovlan</td>\n",
              "    </tr>\n",
              "    <tr>\n",
              "      <th>10</th>\n",
              "      <td>Rue de Bruxelles 42, 5000 Namur</td>\n",
              "      <td>350000.0</td>\n",
              "      <td>4.0</td>\n",
              "      <td>200</td>\n",
              "      <td>immovlan</td>\n",
              "    </tr>\n",
              "    <tr>\n",
              "      <th>11</th>\n",
              "      <td>Rue de la Loi 50, Bruxelles</td>\n",
              "      <td>700000.0</td>\n",
              "      <td>3.0</td>\n",
              "      <td>220</td>\n",
              "      <td>immovlan</td>\n",
              "    </tr>\n",
              "    <tr>\n",
              "      <th>12</th>\n",
              "      <td>Rue de la Loi 51, Bruxelles</td>\n",
              "      <td>280000.0</td>\n",
              "      <td>3.0</td>\n",
              "      <td>120</td>\n",
              "      <td>immoweb</td>\n",
              "    </tr>\n",
              "    <tr>\n",
              "      <th>13</th>\n",
              "      <td>Rue de la Loi 52, Bruxelles</td>\n",
              "      <td>400000.0</td>\n",
              "      <td>4.0</td>\n",
              "      <td>150</td>\n",
              "      <td>immovlan</td>\n",
              "    </tr>\n",
              "    <tr>\n",
              "      <th>14</th>\n",
              "      <td>Rue de la Loi 53, Bruxelles</td>\n",
              "      <td>480000.0</td>\n",
              "      <td>5.0</td>\n",
              "      <td>170</td>\n",
              "      <td>immovlan</td>\n",
              "    </tr>\n",
              "    <tr>\n",
              "      <th>15</th>\n",
              "      <td>Rue de Fer 27, Namur</td>\n",
              "      <td>280000.0</td>\n",
              "      <td>3.0</td>\n",
              "      <td>140</td>\n",
              "      <td>immoweb</td>\n",
              "    </tr>\n",
              "    <tr>\n",
              "      <th>16</th>\n",
              "      <td>Rue de Fer 28, Namur</td>\n",
              "      <td>320000.0</td>\n",
              "      <td>4.0</td>\n",
              "      <td>160</td>\n",
              "      <td>immoweb</td>\n",
              "    </tr>\n",
              "    <tr>\n",
              "      <th>17</th>\n",
              "      <td>Rue de Fer 29, Namur</td>\n",
              "      <td>350000.0</td>\n",
              "      <td>5.0</td>\n",
              "      <td>180</td>\n",
              "      <td>immovlan</td>\n",
              "    </tr>\n",
              "  </tbody>\n",
              "</table>\n",
              "</div>"
            ],
            "text/plain": [
              "                                address     price  rooms  surface   website\n",
              "0             Rue de Fer 26, 5000 Namur  400000.0    4.0      150   immoweb\n",
              "1       Rue de Bruxelles 42, 5000 Namur  350000.0    5.0      200   immoweb\n",
              "2          Porte de Namur 25, Bruxelles  400000.0    3.0      120   immoweb\n",
              "3         Rue de L'Eglise 42, Charleroi  150000.0    5.0      150   immoweb\n",
              "4   Rue Saint-ghislain 30, 6224 Fleurus  330000.0    5.0      320   immoweb\n",
              "5        Rue de la Closière 20, Fleurus  230000.0    2.0      175   immoweb\n",
              "6        Rue de la Closière 20, Fleurus  230000.0    3.0      170   immoweb\n",
              "7             Rue de Fer 25, 5000 Namur       0.0    3.0      170  immovlan\n",
              "10      Rue de Bruxelles 42, 5000 Namur  350000.0    4.0      200  immovlan\n",
              "11          Rue de la Loi 50, Bruxelles  700000.0    3.0      220  immovlan\n",
              "12          Rue de la Loi 51, Bruxelles  280000.0    3.0      120   immoweb\n",
              "13          Rue de la Loi 52, Bruxelles  400000.0    4.0      150  immovlan\n",
              "14          Rue de la Loi 53, Bruxelles  480000.0    5.0      170  immovlan\n",
              "15                 Rue de Fer 27, Namur  280000.0    3.0      140   immoweb\n",
              "16                 Rue de Fer 28, Namur  320000.0    4.0      160   immoweb\n",
              "17                 Rue de Fer 29, Namur  350000.0    5.0      180  immovlan"
            ]
          },
          "metadata": {
            "tags": []
          },
          "execution_count": 125
        }
      ]
    },
    {
      "cell_type": "code",
      "metadata": {
        "id": "29AAOyEPQ034",
        "colab_type": "code",
        "outputId": "e1a5baf2-3c6f-4940-dfe0-689f2744c61f",
        "colab": {
          "base_uri": "https://localhost:8080/",
          "height": 511
        }
      },
      "source": [
        "#Retirer les valeurs numériques incohérentes\n",
        "df = df[(df.price > 0) & (df.rooms > 0)]\n",
        "df"
      ],
      "execution_count": 126,
      "outputs": [
        {
          "output_type": "execute_result",
          "data": {
            "text/html": [
              "<div>\n",
              "<style scoped>\n",
              "    .dataframe tbody tr th:only-of-type {\n",
              "        vertical-align: middle;\n",
              "    }\n",
              "\n",
              "    .dataframe tbody tr th {\n",
              "        vertical-align: top;\n",
              "    }\n",
              "\n",
              "    .dataframe thead th {\n",
              "        text-align: right;\n",
              "    }\n",
              "</style>\n",
              "<table border=\"1\" class=\"dataframe\">\n",
              "  <thead>\n",
              "    <tr style=\"text-align: right;\">\n",
              "      <th></th>\n",
              "      <th>address</th>\n",
              "      <th>price</th>\n",
              "      <th>rooms</th>\n",
              "      <th>surface</th>\n",
              "      <th>website</th>\n",
              "    </tr>\n",
              "  </thead>\n",
              "  <tbody>\n",
              "    <tr>\n",
              "      <th>0</th>\n",
              "      <td>Rue de Fer 26, 5000 Namur</td>\n",
              "      <td>400000.0</td>\n",
              "      <td>4.0</td>\n",
              "      <td>150</td>\n",
              "      <td>immoweb</td>\n",
              "    </tr>\n",
              "    <tr>\n",
              "      <th>1</th>\n",
              "      <td>Rue de Bruxelles 42, 5000 Namur</td>\n",
              "      <td>350000.0</td>\n",
              "      <td>5.0</td>\n",
              "      <td>200</td>\n",
              "      <td>immoweb</td>\n",
              "    </tr>\n",
              "    <tr>\n",
              "      <th>2</th>\n",
              "      <td>Porte de Namur 25, Bruxelles</td>\n",
              "      <td>400000.0</td>\n",
              "      <td>3.0</td>\n",
              "      <td>120</td>\n",
              "      <td>immoweb</td>\n",
              "    </tr>\n",
              "    <tr>\n",
              "      <th>3</th>\n",
              "      <td>Rue de L'Eglise 42, Charleroi</td>\n",
              "      <td>150000.0</td>\n",
              "      <td>5.0</td>\n",
              "      <td>150</td>\n",
              "      <td>immoweb</td>\n",
              "    </tr>\n",
              "    <tr>\n",
              "      <th>4</th>\n",
              "      <td>Rue Saint-ghislain 30, 6224 Fleurus</td>\n",
              "      <td>330000.0</td>\n",
              "      <td>5.0</td>\n",
              "      <td>320</td>\n",
              "      <td>immoweb</td>\n",
              "    </tr>\n",
              "    <tr>\n",
              "      <th>5</th>\n",
              "      <td>Rue de la Closière 20, Fleurus</td>\n",
              "      <td>230000.0</td>\n",
              "      <td>2.0</td>\n",
              "      <td>175</td>\n",
              "      <td>immoweb</td>\n",
              "    </tr>\n",
              "    <tr>\n",
              "      <th>6</th>\n",
              "      <td>Rue de la Closière 20, Fleurus</td>\n",
              "      <td>230000.0</td>\n",
              "      <td>3.0</td>\n",
              "      <td>170</td>\n",
              "      <td>immoweb</td>\n",
              "    </tr>\n",
              "    <tr>\n",
              "      <th>10</th>\n",
              "      <td>Rue de Bruxelles 42, 5000 Namur</td>\n",
              "      <td>350000.0</td>\n",
              "      <td>4.0</td>\n",
              "      <td>200</td>\n",
              "      <td>immovlan</td>\n",
              "    </tr>\n",
              "    <tr>\n",
              "      <th>11</th>\n",
              "      <td>Rue de la Loi 50, Bruxelles</td>\n",
              "      <td>700000.0</td>\n",
              "      <td>3.0</td>\n",
              "      <td>220</td>\n",
              "      <td>immovlan</td>\n",
              "    </tr>\n",
              "    <tr>\n",
              "      <th>12</th>\n",
              "      <td>Rue de la Loi 51, Bruxelles</td>\n",
              "      <td>280000.0</td>\n",
              "      <td>3.0</td>\n",
              "      <td>120</td>\n",
              "      <td>immoweb</td>\n",
              "    </tr>\n",
              "    <tr>\n",
              "      <th>13</th>\n",
              "      <td>Rue de la Loi 52, Bruxelles</td>\n",
              "      <td>400000.0</td>\n",
              "      <td>4.0</td>\n",
              "      <td>150</td>\n",
              "      <td>immovlan</td>\n",
              "    </tr>\n",
              "    <tr>\n",
              "      <th>14</th>\n",
              "      <td>Rue de la Loi 53, Bruxelles</td>\n",
              "      <td>480000.0</td>\n",
              "      <td>5.0</td>\n",
              "      <td>170</td>\n",
              "      <td>immovlan</td>\n",
              "    </tr>\n",
              "    <tr>\n",
              "      <th>15</th>\n",
              "      <td>Rue de Fer 27, Namur</td>\n",
              "      <td>280000.0</td>\n",
              "      <td>3.0</td>\n",
              "      <td>140</td>\n",
              "      <td>immoweb</td>\n",
              "    </tr>\n",
              "    <tr>\n",
              "      <th>16</th>\n",
              "      <td>Rue de Fer 28, Namur</td>\n",
              "      <td>320000.0</td>\n",
              "      <td>4.0</td>\n",
              "      <td>160</td>\n",
              "      <td>immoweb</td>\n",
              "    </tr>\n",
              "    <tr>\n",
              "      <th>17</th>\n",
              "      <td>Rue de Fer 29, Namur</td>\n",
              "      <td>350000.0</td>\n",
              "      <td>5.0</td>\n",
              "      <td>180</td>\n",
              "      <td>immovlan</td>\n",
              "    </tr>\n",
              "  </tbody>\n",
              "</table>\n",
              "</div>"
            ],
            "text/plain": [
              "                                address     price  rooms  surface   website\n",
              "0             Rue de Fer 26, 5000 Namur  400000.0    4.0      150   immoweb\n",
              "1       Rue de Bruxelles 42, 5000 Namur  350000.0    5.0      200   immoweb\n",
              "2          Porte de Namur 25, Bruxelles  400000.0    3.0      120   immoweb\n",
              "3         Rue de L'Eglise 42, Charleroi  150000.0    5.0      150   immoweb\n",
              "4   Rue Saint-ghislain 30, 6224 Fleurus  330000.0    5.0      320   immoweb\n",
              "5        Rue de la Closière 20, Fleurus  230000.0    2.0      175   immoweb\n",
              "6        Rue de la Closière 20, Fleurus  230000.0    3.0      170   immoweb\n",
              "10      Rue de Bruxelles 42, 5000 Namur  350000.0    4.0      200  immovlan\n",
              "11          Rue de la Loi 50, Bruxelles  700000.0    3.0      220  immovlan\n",
              "12          Rue de la Loi 51, Bruxelles  280000.0    3.0      120   immoweb\n",
              "13          Rue de la Loi 52, Bruxelles  400000.0    4.0      150  immovlan\n",
              "14          Rue de la Loi 53, Bruxelles  480000.0    5.0      170  immovlan\n",
              "15                 Rue de Fer 27, Namur  280000.0    3.0      140   immoweb\n",
              "16                 Rue de Fer 28, Namur  320000.0    4.0      160   immoweb\n",
              "17                 Rue de Fer 29, Namur  350000.0    5.0      180  immovlan"
            ]
          },
          "metadata": {
            "tags": []
          },
          "execution_count": 126
        }
      ]
    },
    {
      "cell_type": "code",
      "metadata": {
        "id": "Op6hoKP4kxgg",
        "colab_type": "code",
        "colab": {}
      },
      "source": [
        "#On stocke la version avec doublons pour plus tard\n",
        "dfdup = df"
      ],
      "execution_count": 0,
      "outputs": []
    },
    {
      "cell_type": "code",
      "metadata": {
        "id": "Fw5esCh7R5dO",
        "colab_type": "code",
        "outputId": "994cbeac-1795-410a-acd5-8e108823ffbc",
        "colab": {
          "base_uri": "https://localhost:8080/",
          "height": 449
        }
      },
      "source": [
        "#Retirer les doublons\n",
        "\n",
        "#df =df.drop_duplicates(\"address\")\n",
        "#Par défaut, le premier élément est gardé. On peut aussi garder le dernier (ce qui gardera notamment plus d'éléments d'immovlan)\n",
        "df = dfdup.drop_duplicates(\"address\", keep = \"last\")\n",
        "df"
      ],
      "execution_count": 128,
      "outputs": [
        {
          "output_type": "execute_result",
          "data": {
            "text/html": [
              "<div>\n",
              "<style scoped>\n",
              "    .dataframe tbody tr th:only-of-type {\n",
              "        vertical-align: middle;\n",
              "    }\n",
              "\n",
              "    .dataframe tbody tr th {\n",
              "        vertical-align: top;\n",
              "    }\n",
              "\n",
              "    .dataframe thead th {\n",
              "        text-align: right;\n",
              "    }\n",
              "</style>\n",
              "<table border=\"1\" class=\"dataframe\">\n",
              "  <thead>\n",
              "    <tr style=\"text-align: right;\">\n",
              "      <th></th>\n",
              "      <th>address</th>\n",
              "      <th>price</th>\n",
              "      <th>rooms</th>\n",
              "      <th>surface</th>\n",
              "      <th>website</th>\n",
              "    </tr>\n",
              "  </thead>\n",
              "  <tbody>\n",
              "    <tr>\n",
              "      <th>0</th>\n",
              "      <td>Rue de Fer 26, 5000 Namur</td>\n",
              "      <td>400000.0</td>\n",
              "      <td>4.0</td>\n",
              "      <td>150</td>\n",
              "      <td>immoweb</td>\n",
              "    </tr>\n",
              "    <tr>\n",
              "      <th>2</th>\n",
              "      <td>Porte de Namur 25, Bruxelles</td>\n",
              "      <td>400000.0</td>\n",
              "      <td>3.0</td>\n",
              "      <td>120</td>\n",
              "      <td>immoweb</td>\n",
              "    </tr>\n",
              "    <tr>\n",
              "      <th>3</th>\n",
              "      <td>Rue de L'Eglise 42, Charleroi</td>\n",
              "      <td>150000.0</td>\n",
              "      <td>5.0</td>\n",
              "      <td>150</td>\n",
              "      <td>immoweb</td>\n",
              "    </tr>\n",
              "    <tr>\n",
              "      <th>4</th>\n",
              "      <td>Rue Saint-ghislain 30, 6224 Fleurus</td>\n",
              "      <td>330000.0</td>\n",
              "      <td>5.0</td>\n",
              "      <td>320</td>\n",
              "      <td>immoweb</td>\n",
              "    </tr>\n",
              "    <tr>\n",
              "      <th>6</th>\n",
              "      <td>Rue de la Closière 20, Fleurus</td>\n",
              "      <td>230000.0</td>\n",
              "      <td>3.0</td>\n",
              "      <td>170</td>\n",
              "      <td>immoweb</td>\n",
              "    </tr>\n",
              "    <tr>\n",
              "      <th>10</th>\n",
              "      <td>Rue de Bruxelles 42, 5000 Namur</td>\n",
              "      <td>350000.0</td>\n",
              "      <td>4.0</td>\n",
              "      <td>200</td>\n",
              "      <td>immovlan</td>\n",
              "    </tr>\n",
              "    <tr>\n",
              "      <th>11</th>\n",
              "      <td>Rue de la Loi 50, Bruxelles</td>\n",
              "      <td>700000.0</td>\n",
              "      <td>3.0</td>\n",
              "      <td>220</td>\n",
              "      <td>immovlan</td>\n",
              "    </tr>\n",
              "    <tr>\n",
              "      <th>12</th>\n",
              "      <td>Rue de la Loi 51, Bruxelles</td>\n",
              "      <td>280000.0</td>\n",
              "      <td>3.0</td>\n",
              "      <td>120</td>\n",
              "      <td>immoweb</td>\n",
              "    </tr>\n",
              "    <tr>\n",
              "      <th>13</th>\n",
              "      <td>Rue de la Loi 52, Bruxelles</td>\n",
              "      <td>400000.0</td>\n",
              "      <td>4.0</td>\n",
              "      <td>150</td>\n",
              "      <td>immovlan</td>\n",
              "    </tr>\n",
              "    <tr>\n",
              "      <th>14</th>\n",
              "      <td>Rue de la Loi 53, Bruxelles</td>\n",
              "      <td>480000.0</td>\n",
              "      <td>5.0</td>\n",
              "      <td>170</td>\n",
              "      <td>immovlan</td>\n",
              "    </tr>\n",
              "    <tr>\n",
              "      <th>15</th>\n",
              "      <td>Rue de Fer 27, Namur</td>\n",
              "      <td>280000.0</td>\n",
              "      <td>3.0</td>\n",
              "      <td>140</td>\n",
              "      <td>immoweb</td>\n",
              "    </tr>\n",
              "    <tr>\n",
              "      <th>16</th>\n",
              "      <td>Rue de Fer 28, Namur</td>\n",
              "      <td>320000.0</td>\n",
              "      <td>4.0</td>\n",
              "      <td>160</td>\n",
              "      <td>immoweb</td>\n",
              "    </tr>\n",
              "    <tr>\n",
              "      <th>17</th>\n",
              "      <td>Rue de Fer 29, Namur</td>\n",
              "      <td>350000.0</td>\n",
              "      <td>5.0</td>\n",
              "      <td>180</td>\n",
              "      <td>immovlan</td>\n",
              "    </tr>\n",
              "  </tbody>\n",
              "</table>\n",
              "</div>"
            ],
            "text/plain": [
              "                                address     price  rooms  surface   website\n",
              "0             Rue de Fer 26, 5000 Namur  400000.0    4.0      150   immoweb\n",
              "2          Porte de Namur 25, Bruxelles  400000.0    3.0      120   immoweb\n",
              "3         Rue de L'Eglise 42, Charleroi  150000.0    5.0      150   immoweb\n",
              "4   Rue Saint-ghislain 30, 6224 Fleurus  330000.0    5.0      320   immoweb\n",
              "6        Rue de la Closière 20, Fleurus  230000.0    3.0      170   immoweb\n",
              "10      Rue de Bruxelles 42, 5000 Namur  350000.0    4.0      200  immovlan\n",
              "11          Rue de la Loi 50, Bruxelles  700000.0    3.0      220  immovlan\n",
              "12          Rue de la Loi 51, Bruxelles  280000.0    3.0      120   immoweb\n",
              "13          Rue de la Loi 52, Bruxelles  400000.0    4.0      150  immovlan\n",
              "14          Rue de la Loi 53, Bruxelles  480000.0    5.0      170  immovlan\n",
              "15                 Rue de Fer 27, Namur  280000.0    3.0      140   immoweb\n",
              "16                 Rue de Fer 28, Namur  320000.0    4.0      160   immoweb\n",
              "17                 Rue de Fer 29, Namur  350000.0    5.0      180  immovlan"
            ]
          },
          "metadata": {
            "tags": []
          },
          "execution_count": 128
        }
      ]
    },
    {
      "cell_type": "code",
      "metadata": {
        "id": "YbhbjCpPLkyP",
        "colab_type": "code",
        "outputId": "bd7c6083-7472-4308-9e7d-98a4c6df584b",
        "colab": {
          "base_uri": "https://localhost:8080/",
          "height": 295
        }
      },
      "source": [
        "#filtrer les données d'immoweb\n",
        "df[df.website == \"immoweb\"]"
      ],
      "execution_count": 129,
      "outputs": [
        {
          "output_type": "execute_result",
          "data": {
            "text/html": [
              "<div>\n",
              "<style scoped>\n",
              "    .dataframe tbody tr th:only-of-type {\n",
              "        vertical-align: middle;\n",
              "    }\n",
              "\n",
              "    .dataframe tbody tr th {\n",
              "        vertical-align: top;\n",
              "    }\n",
              "\n",
              "    .dataframe thead th {\n",
              "        text-align: right;\n",
              "    }\n",
              "</style>\n",
              "<table border=\"1\" class=\"dataframe\">\n",
              "  <thead>\n",
              "    <tr style=\"text-align: right;\">\n",
              "      <th></th>\n",
              "      <th>address</th>\n",
              "      <th>price</th>\n",
              "      <th>rooms</th>\n",
              "      <th>surface</th>\n",
              "      <th>website</th>\n",
              "    </tr>\n",
              "  </thead>\n",
              "  <tbody>\n",
              "    <tr>\n",
              "      <th>0</th>\n",
              "      <td>Rue de Fer 26, 5000 Namur</td>\n",
              "      <td>400000.0</td>\n",
              "      <td>4.0</td>\n",
              "      <td>150</td>\n",
              "      <td>immoweb</td>\n",
              "    </tr>\n",
              "    <tr>\n",
              "      <th>2</th>\n",
              "      <td>Porte de Namur 25, Bruxelles</td>\n",
              "      <td>400000.0</td>\n",
              "      <td>3.0</td>\n",
              "      <td>120</td>\n",
              "      <td>immoweb</td>\n",
              "    </tr>\n",
              "    <tr>\n",
              "      <th>3</th>\n",
              "      <td>Rue de L'Eglise 42, Charleroi</td>\n",
              "      <td>150000.0</td>\n",
              "      <td>5.0</td>\n",
              "      <td>150</td>\n",
              "      <td>immoweb</td>\n",
              "    </tr>\n",
              "    <tr>\n",
              "      <th>4</th>\n",
              "      <td>Rue Saint-ghislain 30, 6224 Fleurus</td>\n",
              "      <td>330000.0</td>\n",
              "      <td>5.0</td>\n",
              "      <td>320</td>\n",
              "      <td>immoweb</td>\n",
              "    </tr>\n",
              "    <tr>\n",
              "      <th>6</th>\n",
              "      <td>Rue de la Closière 20, Fleurus</td>\n",
              "      <td>230000.0</td>\n",
              "      <td>3.0</td>\n",
              "      <td>170</td>\n",
              "      <td>immoweb</td>\n",
              "    </tr>\n",
              "    <tr>\n",
              "      <th>12</th>\n",
              "      <td>Rue de la Loi 51, Bruxelles</td>\n",
              "      <td>280000.0</td>\n",
              "      <td>3.0</td>\n",
              "      <td>120</td>\n",
              "      <td>immoweb</td>\n",
              "    </tr>\n",
              "    <tr>\n",
              "      <th>15</th>\n",
              "      <td>Rue de Fer 27, Namur</td>\n",
              "      <td>280000.0</td>\n",
              "      <td>3.0</td>\n",
              "      <td>140</td>\n",
              "      <td>immoweb</td>\n",
              "    </tr>\n",
              "    <tr>\n",
              "      <th>16</th>\n",
              "      <td>Rue de Fer 28, Namur</td>\n",
              "      <td>320000.0</td>\n",
              "      <td>4.0</td>\n",
              "      <td>160</td>\n",
              "      <td>immoweb</td>\n",
              "    </tr>\n",
              "  </tbody>\n",
              "</table>\n",
              "</div>"
            ],
            "text/plain": [
              "                                address     price  rooms  surface  website\n",
              "0             Rue de Fer 26, 5000 Namur  400000.0    4.0      150  immoweb\n",
              "2          Porte de Namur 25, Bruxelles  400000.0    3.0      120  immoweb\n",
              "3         Rue de L'Eglise 42, Charleroi  150000.0    5.0      150  immoweb\n",
              "4   Rue Saint-ghislain 30, 6224 Fleurus  330000.0    5.0      320  immoweb\n",
              "6        Rue de la Closière 20, Fleurus  230000.0    3.0      170  immoweb\n",
              "12          Rue de la Loi 51, Bruxelles  280000.0    3.0      120  immoweb\n",
              "15                 Rue de Fer 27, Namur  280000.0    3.0      140  immoweb\n",
              "16                 Rue de Fer 28, Namur  320000.0    4.0      160  immoweb"
            ]
          },
          "metadata": {
            "tags": []
          },
          "execution_count": 129
        }
      ]
    },
    {
      "cell_type": "markdown",
      "metadata": {
        "id": "4mRu-QHMcJZ9",
        "colab_type": "text"
      },
      "source": [
        "## Aggrégats"
      ]
    },
    {
      "cell_type": "code",
      "metadata": {
        "id": "UrEN2kqJcKq1",
        "colab_type": "code",
        "outputId": "a0650288-4fb8-4b12-e778-0958e0d4eb44",
        "colab": {
          "base_uri": "https://localhost:8080/",
          "height": 87
        }
      },
      "source": [
        "df.mean()"
      ],
      "execution_count": 130,
      "outputs": [
        {
          "output_type": "execute_result",
          "data": {
            "text/plain": [
              "price      359230.769231\n",
              "rooms           3.923077\n",
              "surface       173.076923\n",
              "dtype: float64"
            ]
          },
          "metadata": {
            "tags": []
          },
          "execution_count": 130
        }
      ]
    },
    {
      "cell_type": "code",
      "metadata": {
        "id": "lXghl-S6i5yQ",
        "colab_type": "code",
        "outputId": "ab266d03-5269-41aa-d33b-6f321cf7a4ca",
        "colab": {
          "base_uri": "https://localhost:8080/",
          "height": 87
        }
      },
      "source": [
        "df[df.website == \"immoweb\"].mean()\n",
        "#On remarque que les maisons d'immoweb sont en moyenne moins chère que la moyenne totale"
      ],
      "execution_count": 131,
      "outputs": [
        {
          "output_type": "execute_result",
          "data": {
            "text/plain": [
              "price      298750.00\n",
              "rooms           3.75\n",
              "surface       166.25\n",
              "dtype: float64"
            ]
          },
          "metadata": {
            "tags": []
          },
          "execution_count": 131
        }
      ]
    },
    {
      "cell_type": "code",
      "metadata": {
        "id": "343kdifbcMlm",
        "colab_type": "code",
        "outputId": "1ed94d7b-d1a1-4cfb-bd57-e06b9c4ba742",
        "colab": {
          "base_uri": "https://localhost:8080/",
          "height": 123
        }
      },
      "source": [
        "df.count()"
      ],
      "execution_count": 132,
      "outputs": [
        {
          "output_type": "execute_result",
          "data": {
            "text/plain": [
              "address    13\n",
              "price      13\n",
              "rooms      13\n",
              "surface    13\n",
              "website    13\n",
              "dtype: int64"
            ]
          },
          "metadata": {
            "tags": []
          },
          "execution_count": 132
        }
      ]
    },
    {
      "cell_type": "markdown",
      "metadata": {
        "id": "my_jdhJGb85j",
        "colab_type": "text"
      },
      "source": [
        "## Comparer deux groupes (aggrégats groupés)\n",
        "Avec Pandas, il est très facile de comparer différents groupes d'échantillons, grâce à la méthode `pandas.DataFrame.groupby`, qui permet de faire des aggrégats groupés.\n",
        "\n",
        "Remarque: la méthode `pandas.DataFrame.groupby` renvoie en fait un objet d'un nouveau type (`GroupBy`), qui permet de gérer des groupements de données, et dispose de ses propres méthodes dont la liste complète peut se trouver ici: https://pandas.pydata.org/pandas-docs/stable/reference/groupby.html"
      ]
    },
    {
      "cell_type": "code",
      "metadata": {
        "id": "lhGeXuXtMnye",
        "colab_type": "code",
        "outputId": "181d2888-cc0f-4e18-ee8a-af5df99ed865",
        "colab": {
          "base_uri": "https://localhost:8080/",
          "height": 265
        }
      },
      "source": [
        "#Comparer les deux plateformes: c'est direct avec la méthode \"groupby\"\n",
        "display(df.groupby(\"website\").count())\n",
        "display(df.groupby(\"website\").mean())"
      ],
      "execution_count": 133,
      "outputs": [
        {
          "output_type": "display_data",
          "data": {
            "text/html": [
              "<div>\n",
              "<style scoped>\n",
              "    .dataframe tbody tr th:only-of-type {\n",
              "        vertical-align: middle;\n",
              "    }\n",
              "\n",
              "    .dataframe tbody tr th {\n",
              "        vertical-align: top;\n",
              "    }\n",
              "\n",
              "    .dataframe thead th {\n",
              "        text-align: right;\n",
              "    }\n",
              "</style>\n",
              "<table border=\"1\" class=\"dataframe\">\n",
              "  <thead>\n",
              "    <tr style=\"text-align: right;\">\n",
              "      <th></th>\n",
              "      <th>address</th>\n",
              "      <th>price</th>\n",
              "      <th>rooms</th>\n",
              "      <th>surface</th>\n",
              "    </tr>\n",
              "    <tr>\n",
              "      <th>website</th>\n",
              "      <th></th>\n",
              "      <th></th>\n",
              "      <th></th>\n",
              "      <th></th>\n",
              "    </tr>\n",
              "  </thead>\n",
              "  <tbody>\n",
              "    <tr>\n",
              "      <th>immovlan</th>\n",
              "      <td>5</td>\n",
              "      <td>5</td>\n",
              "      <td>5</td>\n",
              "      <td>5</td>\n",
              "    </tr>\n",
              "    <tr>\n",
              "      <th>immoweb</th>\n",
              "      <td>8</td>\n",
              "      <td>8</td>\n",
              "      <td>8</td>\n",
              "      <td>8</td>\n",
              "    </tr>\n",
              "  </tbody>\n",
              "</table>\n",
              "</div>"
            ],
            "text/plain": [
              "          address  price  rooms  surface\n",
              "website                                 \n",
              "immovlan        5      5      5        5\n",
              "immoweb         8      8      8        8"
            ]
          },
          "metadata": {
            "tags": []
          }
        },
        {
          "output_type": "display_data",
          "data": {
            "text/html": [
              "<div>\n",
              "<style scoped>\n",
              "    .dataframe tbody tr th:only-of-type {\n",
              "        vertical-align: middle;\n",
              "    }\n",
              "\n",
              "    .dataframe tbody tr th {\n",
              "        vertical-align: top;\n",
              "    }\n",
              "\n",
              "    .dataframe thead th {\n",
              "        text-align: right;\n",
              "    }\n",
              "</style>\n",
              "<table border=\"1\" class=\"dataframe\">\n",
              "  <thead>\n",
              "    <tr style=\"text-align: right;\">\n",
              "      <th></th>\n",
              "      <th>price</th>\n",
              "      <th>rooms</th>\n",
              "      <th>surface</th>\n",
              "    </tr>\n",
              "    <tr>\n",
              "      <th>website</th>\n",
              "      <th></th>\n",
              "      <th></th>\n",
              "      <th></th>\n",
              "    </tr>\n",
              "  </thead>\n",
              "  <tbody>\n",
              "    <tr>\n",
              "      <th>immovlan</th>\n",
              "      <td>456000.0</td>\n",
              "      <td>4.20</td>\n",
              "      <td>184.00</td>\n",
              "    </tr>\n",
              "    <tr>\n",
              "      <th>immoweb</th>\n",
              "      <td>298750.0</td>\n",
              "      <td>3.75</td>\n",
              "      <td>166.25</td>\n",
              "    </tr>\n",
              "  </tbody>\n",
              "</table>\n",
              "</div>"
            ],
            "text/plain": [
              "             price  rooms  surface\n",
              "website                           \n",
              "immovlan  456000.0   4.20   184.00\n",
              "immoweb   298750.0   3.75   166.25"
            ]
          },
          "metadata": {
            "tags": []
          }
        }
      ]
    },
    {
      "cell_type": "code",
      "metadata": {
        "id": "OTPrsUHjjLFw",
        "colab_type": "code",
        "outputId": "b0117bed-f2af-4a4d-a979-fdd3815366f5",
        "colab": {
          "base_uri": "https://localhost:8080/",
          "height": 265
        }
      },
      "source": [
        "#Idem en gardant les doublons\n",
        "\n",
        "display(dfdup.groupby(\"website\").count())\n",
        "display(dfdup.groupby(\"website\").mean())"
      ],
      "execution_count": 134,
      "outputs": [
        {
          "output_type": "display_data",
          "data": {
            "text/html": [
              "<div>\n",
              "<style scoped>\n",
              "    .dataframe tbody tr th:only-of-type {\n",
              "        vertical-align: middle;\n",
              "    }\n",
              "\n",
              "    .dataframe tbody tr th {\n",
              "        vertical-align: top;\n",
              "    }\n",
              "\n",
              "    .dataframe thead th {\n",
              "        text-align: right;\n",
              "    }\n",
              "</style>\n",
              "<table border=\"1\" class=\"dataframe\">\n",
              "  <thead>\n",
              "    <tr style=\"text-align: right;\">\n",
              "      <th></th>\n",
              "      <th>address</th>\n",
              "      <th>price</th>\n",
              "      <th>rooms</th>\n",
              "      <th>surface</th>\n",
              "    </tr>\n",
              "    <tr>\n",
              "      <th>website</th>\n",
              "      <th></th>\n",
              "      <th></th>\n",
              "      <th></th>\n",
              "      <th></th>\n",
              "    </tr>\n",
              "  </thead>\n",
              "  <tbody>\n",
              "    <tr>\n",
              "      <th>immovlan</th>\n",
              "      <td>5</td>\n",
              "      <td>5</td>\n",
              "      <td>5</td>\n",
              "      <td>5</td>\n",
              "    </tr>\n",
              "    <tr>\n",
              "      <th>immoweb</th>\n",
              "      <td>10</td>\n",
              "      <td>10</td>\n",
              "      <td>10</td>\n",
              "      <td>10</td>\n",
              "    </tr>\n",
              "  </tbody>\n",
              "</table>\n",
              "</div>"
            ],
            "text/plain": [
              "          address  price  rooms  surface\n",
              "website                                 \n",
              "immovlan        5      5      5        5\n",
              "immoweb        10     10     10       10"
            ]
          },
          "metadata": {
            "tags": []
          }
        },
        {
          "output_type": "display_data",
          "data": {
            "text/html": [
              "<div>\n",
              "<style scoped>\n",
              "    .dataframe tbody tr th:only-of-type {\n",
              "        vertical-align: middle;\n",
              "    }\n",
              "\n",
              "    .dataframe tbody tr th {\n",
              "        vertical-align: top;\n",
              "    }\n",
              "\n",
              "    .dataframe thead th {\n",
              "        text-align: right;\n",
              "    }\n",
              "</style>\n",
              "<table border=\"1\" class=\"dataframe\">\n",
              "  <thead>\n",
              "    <tr style=\"text-align: right;\">\n",
              "      <th></th>\n",
              "      <th>price</th>\n",
              "      <th>rooms</th>\n",
              "      <th>surface</th>\n",
              "    </tr>\n",
              "    <tr>\n",
              "      <th>website</th>\n",
              "      <th></th>\n",
              "      <th></th>\n",
              "      <th></th>\n",
              "    </tr>\n",
              "  </thead>\n",
              "  <tbody>\n",
              "    <tr>\n",
              "      <th>immovlan</th>\n",
              "      <td>456000.0</td>\n",
              "      <td>4.2</td>\n",
              "      <td>184.0</td>\n",
              "    </tr>\n",
              "    <tr>\n",
              "      <th>immoweb</th>\n",
              "      <td>297000.0</td>\n",
              "      <td>3.7</td>\n",
              "      <td>170.5</td>\n",
              "    </tr>\n",
              "  </tbody>\n",
              "</table>\n",
              "</div>"
            ],
            "text/plain": [
              "             price  rooms  surface\n",
              "website                           \n",
              "immovlan  456000.0    4.2    184.0\n",
              "immoweb   297000.0    3.7    170.5"
            ]
          },
          "metadata": {
            "tags": []
          }
        }
      ]
    },
    {
      "cell_type": "markdown",
      "metadata": {
        "id": "zQAhTkQcjVno",
        "colab_type": "text"
      },
      "source": [
        "Les chiffres* montrent que les maisons sur immovlan sont généralement plus grandes et plus chères.\n",
        "\n",
        "\\* (le dataset est bien évidemment simulé et trop petit pour donner des résultats significatifs)\n"
      ]
    },
    {
      "cell_type": "markdown",
      "metadata": {
        "id": "TVU7eDlG6xGy",
        "colab_type": "text"
      },
      "source": [
        "# Exercice: les maisons plus grandes sont-elles plus chères ?\n",
        "\n",
        "Divisez les maisons en deux groupes égaux (de part et d'autre de la surface médiane) et utilisez la méthode .describe() pour comparer les prix"
      ]
    },
    {
      "cell_type": "code",
      "metadata": {
        "id": "4wr5EHe282QH",
        "colab_type": "code",
        "colab": {}
      },
      "source": [
        ""
      ],
      "execution_count": 0,
      "outputs": []
    },
    {
      "cell_type": "markdown",
      "metadata": {
        "id": "jsnDb2Go8XdJ",
        "colab_type": "text"
      },
      "source": [
        "## Solution"
      ]
    },
    {
      "cell_type": "code",
      "metadata": {
        "id": "Zo-bLCZO8Y3i",
        "colab_type": "code",
        "outputId": "b417930f-7600-4315-ce66-2fe852b9ff45",
        "colab": {
          "base_uri": "https://localhost:8080/",
          "height": 141
        }
      },
      "source": [
        "#df[\"large_houses\"] = df.surface > df.surface.median()\n",
        "#df.groupby(\"large_houses\")[\"price\"].describe()\n",
        "\n",
        "#ou: (il n'est pas nécessaire d'ajouter une colonne dans le dataframe, \n",
        "#il suffit de donner comme argument du groupby une series de la même longueur que le dataframe)\n",
        "\n",
        "median_surface = df.surface.median()\n",
        "df.groupby(df.surface > median_surface)[\"price\"].describe()\n",
        "\n",
        "#ou directement:\n",
        "df.groupby(df.surface > df.surface.median())[\"price\"].describe()"
      ],
      "execution_count": 135,
      "outputs": [
        {
          "output_type": "execute_result",
          "data": {
            "text/html": [
              "<div>\n",
              "<style scoped>\n",
              "    .dataframe tbody tr th:only-of-type {\n",
              "        vertical-align: middle;\n",
              "    }\n",
              "\n",
              "    .dataframe tbody tr th {\n",
              "        vertical-align: top;\n",
              "    }\n",
              "\n",
              "    .dataframe thead th {\n",
              "        text-align: right;\n",
              "    }\n",
              "</style>\n",
              "<table border=\"1\" class=\"dataframe\">\n",
              "  <thead>\n",
              "    <tr style=\"text-align: right;\">\n",
              "      <th></th>\n",
              "      <th>count</th>\n",
              "      <th>mean</th>\n",
              "      <th>std</th>\n",
              "      <th>min</th>\n",
              "      <th>25%</th>\n",
              "      <th>50%</th>\n",
              "      <th>75%</th>\n",
              "      <th>max</th>\n",
              "    </tr>\n",
              "    <tr>\n",
              "      <th>surface</th>\n",
              "      <th></th>\n",
              "      <th></th>\n",
              "      <th></th>\n",
              "      <th></th>\n",
              "      <th></th>\n",
              "      <th></th>\n",
              "      <th></th>\n",
              "      <th></th>\n",
              "    </tr>\n",
              "  </thead>\n",
              "  <tbody>\n",
              "    <tr>\n",
              "      <th>False</th>\n",
              "      <td>7.0</td>\n",
              "      <td>318571.428571</td>\n",
              "      <td>92453.334432</td>\n",
              "      <td>150000.0</td>\n",
              "      <td>280000.0</td>\n",
              "      <td>320000.0</td>\n",
              "      <td>400000.0</td>\n",
              "      <td>400000.0</td>\n",
              "    </tr>\n",
              "    <tr>\n",
              "      <th>True</th>\n",
              "      <td>6.0</td>\n",
              "      <td>406666.666667</td>\n",
              "      <td>164276.190200</td>\n",
              "      <td>230000.0</td>\n",
              "      <td>335000.0</td>\n",
              "      <td>350000.0</td>\n",
              "      <td>447500.0</td>\n",
              "      <td>700000.0</td>\n",
              "    </tr>\n",
              "  </tbody>\n",
              "</table>\n",
              "</div>"
            ],
            "text/plain": [
              "         count           mean            std  ...       50%       75%       max\n",
              "surface                                       ...                              \n",
              "False      7.0  318571.428571   92453.334432  ...  320000.0  400000.0  400000.0\n",
              "True       6.0  406666.666667  164276.190200  ...  350000.0  447500.0  700000.0\n",
              "\n",
              "[2 rows x 8 columns]"
            ]
          },
          "metadata": {
            "tags": []
          },
          "execution_count": 135
        }
      ]
    },
    {
      "cell_type": "markdown",
      "metadata": {
        "id": "Ol7hZEyuFX1K",
        "colab_type": "text"
      },
      "source": [
        "## Sauvegarder/charger un dataframe"
      ]
    },
    {
      "cell_type": "code",
      "metadata": {
        "id": "QMK6nKrGFbTu",
        "colab_type": "code",
        "colab": {}
      },
      "source": [
        "\n",
        "df.to_csv(\"houses.csv\") #tableau ascii (comma separated values)\n",
        "df.to_hdf(\"houses.h5\",\"df\") #\"Hierarchical Data Format\". Format standard plus générique pour les ensembles de données\n",
        "df.to_parquet(\"houses.parquet\") #Format plus léger (compressé) et rapide à lire pour de gros volumes de données\n"
      ],
      "execution_count": 0,
      "outputs": []
    },
    {
      "cell_type": "code",
      "metadata": {
        "id": "05Q8_ckLFw8X",
        "colab_type": "code",
        "outputId": "50944fec-a9bd-4ca9-db89-042e2ae6833c",
        "colab": {
          "base_uri": "https://localhost:8080/",
          "height": 105
        }
      },
      "source": [
        "#Dans un notebook, on peut appeler une ligne de commande linux grâce au symbole \"!\"\n",
        "#le comande \"ls\" permet de lister les éléments du dossier courant. \n",
        "#Les lettre après le symbole \"-\" sont des options de la commande: \n",
        "#\"l\" permet un affichage plus détaillé, et \"h\" rend les données plus lisibles (affichage des tailles en Ko et Mo)\n",
        "!ls -lh"
      ],
      "execution_count": 137,
      "outputs": [
        {
          "output_type": "stream",
          "text": [
            "total 1.1M\n",
            "-rw-r--r-- 1 root root  787 Oct  9 09:33 houses.csv\n",
            "-rw-r--r-- 1 root root 1.1M Oct  9 09:33 houses.h5\n",
            "-rw-r--r-- 1 root root 3.1K Oct  9 09:33 houses.parquet\n",
            "drwxr-xr-x 1 root root 4.0K Aug 27 16:17 sample_data\n"
          ],
          "name": "stdout"
        }
      ]
    },
    {
      "cell_type": "markdown",
      "metadata": {
        "id": "yaQqPhsM0sFC",
        "colab_type": "text"
      },
      "source": [
        "Vous pouvez également utiliser l'interface graphique de Google Colab pour accéder aux fichiers temporairement stockés dans la machine virtuelle.\n",
        "\n",
        "Vous pouvez également utiliser cette interface pour télécharger (clic-droit sur le fichier) ou importer des fichiers.\n",
        "\n",
        "<figure>\n",
        "<center>\n",
        "<img src='https://github.com/titsitits/Python_Data_Science/blob/master/Images/File_UI.png?raw=true' width=\"500\" />\n",
        "<figcaption>Accès aux fichiers dans Google Colab</figcaption></center>\n",
        "</figure>"
      ]
    },
    {
      "cell_type": "markdown",
      "metadata": {
        "id": "7fYYGyPtwxPc",
        "colab_type": "text"
      },
      "source": [
        "Vous pouvez maintenant passer au [Chapitre 6: Introduction au Data Mining et à la visualisation de données](https://colab.research.google.com/github/titsitits/UNamur_Python_Analytics/blob/master/6_Data_Mining.ipynb)"
      ]
    }
  ]
}