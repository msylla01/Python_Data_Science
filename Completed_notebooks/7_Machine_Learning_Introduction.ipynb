{
  "nbformat": 4,
  "nbformat_minor": 0,
  "metadata": {
    "colab": {
      "name": "7_Machine_Learning_Introduction.ipynb",
      "provenance": [],
      "collapsed_sections": [],
      "toc_visible": true,
      "include_colab_link": true
    },
    "kernelspec": {
      "name": "python3",
      "display_name": "Python 3"
    }
  },
  "cells": [
    {
      "cell_type": "markdown",
      "metadata": {
        "id": "view-in-github",
        "colab_type": "text"
      },
      "source": [
        "<a href=\"https://colab.research.google.com/github/titsitits/Python_Data_Science/blob/master/Completed_notebooks/7_Machine_Learning_Introduction.ipynb\" target=\"_parent\"><img src=\"https://colab.research.google.com/assets/colab-badge.svg\" alt=\"Open In Colab\"/></a>"
      ]
    },
    {
      "cell_type": "markdown",
      "metadata": {
        "id": "DfQ-d2onvooo",
        "colab_type": "text"
      },
      "source": [
        "Mickaël Tits\n",
        "CETIC\n",
        "mickael.tits@cetic.be"
      ]
    },
    {
      "cell_type": "markdown",
      "metadata": {
        "id": "Ug1Bj8_tAVWq",
        "colab_type": "text"
      },
      "source": [
        "# Chapitre 7 - Introduction au Machine Learning\n",
        "\n",
        "Un sous-domaine important de l'analyse de données est le machine learning (apprentissage automatique). Le machine learning regroupe un ensemble de techniques permettant, à partir des données, d'apprendre automatiquement différents types de relations entre les variables.\n",
        "\n",
        "On distingue généralement:\n",
        "* Le machine learning **supervisé**, qui permet d'apprendre des relations entre les données et des labels. Plus spécifiquement, on entraîne généralement un algorithme à prédire les labels (aussi appelés **variables dépendantes**, ou **targets**) un ensemble de variables (appelées **variables prédictives**, ou **features**). Un modèle consiste en un algorithme doté de **paramètres** et qui, à partir d'opérations entre les paramètres et les variables prédictives, prédit un nouveau label. L'apprentissage consiste alors à modifier les paramètres du modèle de manière à ce que les labels prédits soient les plus proches des labels réels. Autrement dit, on **minimise l'erreur moyenne des prédictions**. Cette minimisation de l'erreur se fait généralement par de manière itérative, par **descente de gradient**.\n",
        "\n",
        "  Il existe deux applications principales de l'apprentissage supervisé:\n",
        "  \n",
        "  * La **classification**: on a un ensemble de données, par exemple des images, à partir desquelles on aimerait prédire une classe: le **label** de chaque image est alors une variable catégorielle, par exemple \"chat\" ou \"chien\". Les **variables prédictives** permettant d'entraîner l'algorithme sont par exemple les pixels des images, ou des relations entre ces pixels.\n",
        "  \n",
        "  * La **régression**: le **label** à prédire à partir des données est une valeur continue: par exemple le prix d'une maison, qu'on peut prédire à partir de différentes caractéristiques, ou l'âge d'une personne à prédire à partir d'une image.\n",
        "\n",
        "* Le machine learning **non-supervisé**, qui permet d'apprendre des relations entre différentes données, telles que les similitudes entre différentes variables, ou différentes données (e.g.: Clustering, Réduction de dimensions).\n"
      ]
    },
    {
      "cell_type": "markdown",
      "metadata": {
        "id": "SjzPpoDJYNA-",
        "colab_type": "text"
      },
      "source": [
        "Chargez d'abord le dataframe préparé lors du chapitre précédent."
      ]
    },
    {
      "cell_type": "code",
      "metadata": {
        "id": "p8HniutIYMdW",
        "colab_type": "code",
        "colab": {
          "base_uri": "https://localhost:8080/",
          "height": 386
        },
        "outputId": "80860434-9f43-4fa7-f6fa-5c6b2517cee9"
      },
      "source": [
        "import pandas as pd\n",
        "\n",
        "#Si vous venez d'exécuter le notebook précédent, vous pouvez simplement récupérer le fichier temporaire créé.\n",
        "#df = pd.read_csv(\"houses_features.csv\", index_col = 0)\n",
        "\n",
        "#Vous pouvez aussi récupérer une version du fichier hébergée ici:\n",
        "df = pd.read_csv(\"https://raw.githubusercontent.com/titsitits/Python_Data_Science/master/Donn%C3%A9es/houses_features.csv\", index_col = 0)\n",
        "dfbxl = df[df.city == \"Bruxelles\"]\n",
        "df"
      ],
      "execution_count": 1,
      "outputs": [
        {
          "output_type": "execute_result",
          "data": {
            "text/html": [
              "<div>\n",
              "<style scoped>\n",
              "    .dataframe tbody tr th:only-of-type {\n",
              "        vertical-align: middle;\n",
              "    }\n",
              "\n",
              "    .dataframe tbody tr th {\n",
              "        vertical-align: top;\n",
              "    }\n",
              "\n",
              "    .dataframe thead th {\n",
              "        text-align: right;\n",
              "    }\n",
              "</style>\n",
              "<table border=\"1\" class=\"dataframe\">\n",
              "  <thead>\n",
              "    <tr style=\"text-align: right;\">\n",
              "      <th></th>\n",
              "      <th>address</th>\n",
              "      <th>price</th>\n",
              "      <th>rooms</th>\n",
              "      <th>surface</th>\n",
              "      <th>website</th>\n",
              "      <th>city</th>\n",
              "      <th>price_per_m2</th>\n",
              "      <th>price_per_room</th>\n",
              "    </tr>\n",
              "  </thead>\n",
              "  <tbody>\n",
              "    <tr>\n",
              "      <th>0</th>\n",
              "      <td>Rue de Fer 26, 5000 Namur</td>\n",
              "      <td>400000.0</td>\n",
              "      <td>4.0</td>\n",
              "      <td>150</td>\n",
              "      <td>immoweb</td>\n",
              "      <td>Namur</td>\n",
              "      <td>2666.666667</td>\n",
              "      <td>100000.000000</td>\n",
              "    </tr>\n",
              "    <tr>\n",
              "      <th>2</th>\n",
              "      <td>Porte de Namur 25, Bruxelles</td>\n",
              "      <td>400000.0</td>\n",
              "      <td>3.0</td>\n",
              "      <td>120</td>\n",
              "      <td>immoweb</td>\n",
              "      <td>Bruxelles</td>\n",
              "      <td>3333.333333</td>\n",
              "      <td>133333.333333</td>\n",
              "    </tr>\n",
              "    <tr>\n",
              "      <th>4</th>\n",
              "      <td>Rue Saint-ghislain 30, 6224 Fleurus</td>\n",
              "      <td>330000.0</td>\n",
              "      <td>5.0</td>\n",
              "      <td>320</td>\n",
              "      <td>immoweb</td>\n",
              "      <td>Fleurus</td>\n",
              "      <td>1031.250000</td>\n",
              "      <td>66000.000000</td>\n",
              "    </tr>\n",
              "    <tr>\n",
              "      <th>6</th>\n",
              "      <td>Rue de la Closière 20, Fleurus</td>\n",
              "      <td>230000.0</td>\n",
              "      <td>3.0</td>\n",
              "      <td>170</td>\n",
              "      <td>immoweb</td>\n",
              "      <td>Fleurus</td>\n",
              "      <td>1352.941176</td>\n",
              "      <td>76666.666667</td>\n",
              "    </tr>\n",
              "    <tr>\n",
              "      <th>10</th>\n",
              "      <td>Rue de Bruxelles 42, 5000 Namur</td>\n",
              "      <td>350000.0</td>\n",
              "      <td>4.0</td>\n",
              "      <td>200</td>\n",
              "      <td>immovlan</td>\n",
              "      <td>Namur</td>\n",
              "      <td>1750.000000</td>\n",
              "      <td>87500.000000</td>\n",
              "    </tr>\n",
              "    <tr>\n",
              "      <th>12</th>\n",
              "      <td>Rue de la Loi 51, Bruxelles</td>\n",
              "      <td>280000.0</td>\n",
              "      <td>3.0</td>\n",
              "      <td>120</td>\n",
              "      <td>immoweb</td>\n",
              "      <td>Bruxelles</td>\n",
              "      <td>2333.333333</td>\n",
              "      <td>93333.333333</td>\n",
              "    </tr>\n",
              "    <tr>\n",
              "      <th>13</th>\n",
              "      <td>Rue de la Loi 52, Bruxelles</td>\n",
              "      <td>400000.0</td>\n",
              "      <td>4.0</td>\n",
              "      <td>150</td>\n",
              "      <td>immovlan</td>\n",
              "      <td>Bruxelles</td>\n",
              "      <td>2666.666667</td>\n",
              "      <td>100000.000000</td>\n",
              "    </tr>\n",
              "    <tr>\n",
              "      <th>14</th>\n",
              "      <td>Rue de la Loi 53, Bruxelles</td>\n",
              "      <td>480000.0</td>\n",
              "      <td>5.0</td>\n",
              "      <td>170</td>\n",
              "      <td>immovlan</td>\n",
              "      <td>Bruxelles</td>\n",
              "      <td>2823.529412</td>\n",
              "      <td>96000.000000</td>\n",
              "    </tr>\n",
              "    <tr>\n",
              "      <th>15</th>\n",
              "      <td>Rue de Fer 27, Namur</td>\n",
              "      <td>280000.0</td>\n",
              "      <td>3.0</td>\n",
              "      <td>140</td>\n",
              "      <td>immoweb</td>\n",
              "      <td>Namur</td>\n",
              "      <td>2000.000000</td>\n",
              "      <td>93333.333333</td>\n",
              "    </tr>\n",
              "    <tr>\n",
              "      <th>16</th>\n",
              "      <td>Rue de Fer 28, Namur</td>\n",
              "      <td>320000.0</td>\n",
              "      <td>4.0</td>\n",
              "      <td>160</td>\n",
              "      <td>immoweb</td>\n",
              "      <td>Namur</td>\n",
              "      <td>2000.000000</td>\n",
              "      <td>80000.000000</td>\n",
              "    </tr>\n",
              "    <tr>\n",
              "      <th>17</th>\n",
              "      <td>Rue de Fer 29, Namur</td>\n",
              "      <td>350000.0</td>\n",
              "      <td>5.0</td>\n",
              "      <td>180</td>\n",
              "      <td>immovlan</td>\n",
              "      <td>Namur</td>\n",
              "      <td>1944.444444</td>\n",
              "      <td>70000.000000</td>\n",
              "    </tr>\n",
              "  </tbody>\n",
              "</table>\n",
              "</div>"
            ],
            "text/plain": [
              "                                address     price  ...  price_per_m2  price_per_room\n",
              "0             Rue de Fer 26, 5000 Namur  400000.0  ...   2666.666667   100000.000000\n",
              "2          Porte de Namur 25, Bruxelles  400000.0  ...   3333.333333   133333.333333\n",
              "4   Rue Saint-ghislain 30, 6224 Fleurus  330000.0  ...   1031.250000    66000.000000\n",
              "6        Rue de la Closière 20, Fleurus  230000.0  ...   1352.941176    76666.666667\n",
              "10      Rue de Bruxelles 42, 5000 Namur  350000.0  ...   1750.000000    87500.000000\n",
              "12          Rue de la Loi 51, Bruxelles  280000.0  ...   2333.333333    93333.333333\n",
              "13          Rue de la Loi 52, Bruxelles  400000.0  ...   2666.666667   100000.000000\n",
              "14          Rue de la Loi 53, Bruxelles  480000.0  ...   2823.529412    96000.000000\n",
              "15                 Rue de Fer 27, Namur  280000.0  ...   2000.000000    93333.333333\n",
              "16                 Rue de Fer 28, Namur  320000.0  ...   2000.000000    80000.000000\n",
              "17                 Rue de Fer 29, Namur  350000.0  ...   1944.444444    70000.000000\n",
              "\n",
              "[11 rows x 8 columns]"
            ]
          },
          "metadata": {
            "tags": []
          },
          "execution_count": 1
        }
      ]
    },
    {
      "cell_type": "markdown",
      "metadata": {
        "id": "aL8QR73xbp57",
        "colab_type": "text"
      },
      "source": [
        "# Prédiction du prix d'une maison"
      ]
    },
    {
      "cell_type": "markdown",
      "metadata": {
        "id": "KVxiLN5Bbg5U",
        "colab_type": "text"
      },
      "source": [
        "## Préparation du dataset"
      ]
    },
    {
      "cell_type": "code",
      "metadata": {
        "id": "Z9ChZn7dl5xz",
        "colab_type": "code",
        "colab": {}
      },
      "source": [
        "#L'adresse n'a pas d'intérêt (on a déjà extrait la ville, qui est une catégorie intéressante)\n",
        "dataset = df.drop(\"address\",axis=1)\n",
        "#dataset = dfbxl.drop(\"address\",axis=1)\n"
      ],
      "execution_count": 0,
      "outputs": []
    },
    {
      "cell_type": "markdown",
      "metadata": {
        "id": "YII0m04S5ElQ",
        "colab_type": "text"
      },
      "source": [
        "De nombreux algorithmes de machine learning nécessitent l'utilisation exclusive de **variables prédictives numériques**. En effet, ces algorithmes se basent entièrement sur des opérations algébriques à partir de ces variables pour prédire la variable dépendante.\n",
        "Afin de pouvoir utiliser l'information contenue dans les variables catégorielles, il existe différentes techniques pour les transformer en variables continues:\n",
        "\n",
        "* **One-hot encoding** (dummy variable extraction): Pour chaque catégorie possible d'une variable catégorielle, on crée une variable binaire, indiquant si l'échantillon est de cette catégorie ou non. Par exemple, la variable \"`Ville`\" [\"Bruxelles\" ou \"Namur\"] peut être simplement transformée en une variable binaire \"`is_bruxelles`\": \"Bruxelles\" => 1, \"Namur\" => 0\n",
        "\n",
        "  Si `Ville` contient trois possibilités (e.g., [\"Bruxelles\" ou \"Namur\" ou \"Fleurus\"]), elle nécessitera la création de variables binaires, e.g.: `is_bruxelles` et `is_namur`. Pour chaque observation, une seule des deux variables ne peut être à 1 (puisque la variable `Ville` ne peut être qu'une ville à la fois). Si les deux sont fausses, c'est que la ville est Fleurus.\n",
        "  \n",
        "  De manière générale, une variable à n catégories nécessitera la création de n-1 variables binaires. On appelle généralement ces variables **dummy**.\n",
        "  \n",
        "* **Echelle** : certaines variables sont ordinale, comme `quality` [`bien`, `moyen`, `mauvais`]. Celle-ci peut être directement transformée un variable numérique: [bien => 0, moyen = >1, mauvais => 2]. Si ce n'est pas le cas, l'interprétation sémantique de la variable, et sa combinaison avec une autre variable continue permet de définir une échelle. Par exemple, on peut extraire certaines caractéristiques numériques d'une ville à partir du prix moyen des maisons, ou du nombre d'habitants: [\"Bruxelles\" => 300000, \"Namur\" => 250000, \"Fleurus\" => 200000].\n",
        "\n",
        "\n"
      ]
    },
    {
      "cell_type": "code",
      "metadata": {
        "id": "3ntQNgTI5CeS",
        "colab_type": "code",
        "colab": {
          "base_uri": "https://localhost:8080/",
          "height": 386
        },
        "outputId": "5a278ca5-afe3-4660-c104-34300811b444"
      },
      "source": [
        "#One-hot encoding des variables catégorielles\n",
        "dataset = pd.get_dummies(dataset, drop_first=True)\n",
        "dataset"
      ],
      "execution_count": 3,
      "outputs": [
        {
          "output_type": "execute_result",
          "data": {
            "text/html": [
              "<div>\n",
              "<style scoped>\n",
              "    .dataframe tbody tr th:only-of-type {\n",
              "        vertical-align: middle;\n",
              "    }\n",
              "\n",
              "    .dataframe tbody tr th {\n",
              "        vertical-align: top;\n",
              "    }\n",
              "\n",
              "    .dataframe thead th {\n",
              "        text-align: right;\n",
              "    }\n",
              "</style>\n",
              "<table border=\"1\" class=\"dataframe\">\n",
              "  <thead>\n",
              "    <tr style=\"text-align: right;\">\n",
              "      <th></th>\n",
              "      <th>price</th>\n",
              "      <th>rooms</th>\n",
              "      <th>surface</th>\n",
              "      <th>price_per_m2</th>\n",
              "      <th>price_per_room</th>\n",
              "      <th>website_immoweb</th>\n",
              "      <th>city_Fleurus</th>\n",
              "      <th>city_Namur</th>\n",
              "    </tr>\n",
              "  </thead>\n",
              "  <tbody>\n",
              "    <tr>\n",
              "      <th>0</th>\n",
              "      <td>400000.0</td>\n",
              "      <td>4.0</td>\n",
              "      <td>150</td>\n",
              "      <td>2666.666667</td>\n",
              "      <td>100000.000000</td>\n",
              "      <td>1</td>\n",
              "      <td>0</td>\n",
              "      <td>1</td>\n",
              "    </tr>\n",
              "    <tr>\n",
              "      <th>2</th>\n",
              "      <td>400000.0</td>\n",
              "      <td>3.0</td>\n",
              "      <td>120</td>\n",
              "      <td>3333.333333</td>\n",
              "      <td>133333.333333</td>\n",
              "      <td>1</td>\n",
              "      <td>0</td>\n",
              "      <td>0</td>\n",
              "    </tr>\n",
              "    <tr>\n",
              "      <th>4</th>\n",
              "      <td>330000.0</td>\n",
              "      <td>5.0</td>\n",
              "      <td>320</td>\n",
              "      <td>1031.250000</td>\n",
              "      <td>66000.000000</td>\n",
              "      <td>1</td>\n",
              "      <td>1</td>\n",
              "      <td>0</td>\n",
              "    </tr>\n",
              "    <tr>\n",
              "      <th>6</th>\n",
              "      <td>230000.0</td>\n",
              "      <td>3.0</td>\n",
              "      <td>170</td>\n",
              "      <td>1352.941176</td>\n",
              "      <td>76666.666667</td>\n",
              "      <td>1</td>\n",
              "      <td>1</td>\n",
              "      <td>0</td>\n",
              "    </tr>\n",
              "    <tr>\n",
              "      <th>10</th>\n",
              "      <td>350000.0</td>\n",
              "      <td>4.0</td>\n",
              "      <td>200</td>\n",
              "      <td>1750.000000</td>\n",
              "      <td>87500.000000</td>\n",
              "      <td>0</td>\n",
              "      <td>0</td>\n",
              "      <td>1</td>\n",
              "    </tr>\n",
              "    <tr>\n",
              "      <th>12</th>\n",
              "      <td>280000.0</td>\n",
              "      <td>3.0</td>\n",
              "      <td>120</td>\n",
              "      <td>2333.333333</td>\n",
              "      <td>93333.333333</td>\n",
              "      <td>1</td>\n",
              "      <td>0</td>\n",
              "      <td>0</td>\n",
              "    </tr>\n",
              "    <tr>\n",
              "      <th>13</th>\n",
              "      <td>400000.0</td>\n",
              "      <td>4.0</td>\n",
              "      <td>150</td>\n",
              "      <td>2666.666667</td>\n",
              "      <td>100000.000000</td>\n",
              "      <td>0</td>\n",
              "      <td>0</td>\n",
              "      <td>0</td>\n",
              "    </tr>\n",
              "    <tr>\n",
              "      <th>14</th>\n",
              "      <td>480000.0</td>\n",
              "      <td>5.0</td>\n",
              "      <td>170</td>\n",
              "      <td>2823.529412</td>\n",
              "      <td>96000.000000</td>\n",
              "      <td>0</td>\n",
              "      <td>0</td>\n",
              "      <td>0</td>\n",
              "    </tr>\n",
              "    <tr>\n",
              "      <th>15</th>\n",
              "      <td>280000.0</td>\n",
              "      <td>3.0</td>\n",
              "      <td>140</td>\n",
              "      <td>2000.000000</td>\n",
              "      <td>93333.333333</td>\n",
              "      <td>1</td>\n",
              "      <td>0</td>\n",
              "      <td>1</td>\n",
              "    </tr>\n",
              "    <tr>\n",
              "      <th>16</th>\n",
              "      <td>320000.0</td>\n",
              "      <td>4.0</td>\n",
              "      <td>160</td>\n",
              "      <td>2000.000000</td>\n",
              "      <td>80000.000000</td>\n",
              "      <td>1</td>\n",
              "      <td>0</td>\n",
              "      <td>1</td>\n",
              "    </tr>\n",
              "    <tr>\n",
              "      <th>17</th>\n",
              "      <td>350000.0</td>\n",
              "      <td>5.0</td>\n",
              "      <td>180</td>\n",
              "      <td>1944.444444</td>\n",
              "      <td>70000.000000</td>\n",
              "      <td>0</td>\n",
              "      <td>0</td>\n",
              "      <td>1</td>\n",
              "    </tr>\n",
              "  </tbody>\n",
              "</table>\n",
              "</div>"
            ],
            "text/plain": [
              "       price  rooms  surface  ...  website_immoweb  city_Fleurus  city_Namur\n",
              "0   400000.0    4.0      150  ...                1             0           1\n",
              "2   400000.0    3.0      120  ...                1             0           0\n",
              "4   330000.0    5.0      320  ...                1             1           0\n",
              "6   230000.0    3.0      170  ...                1             1           0\n",
              "10  350000.0    4.0      200  ...                0             0           1\n",
              "12  280000.0    3.0      120  ...                1             0           0\n",
              "13  400000.0    4.0      150  ...                0             0           0\n",
              "14  480000.0    5.0      170  ...                0             0           0\n",
              "15  280000.0    3.0      140  ...                1             0           1\n",
              "16  320000.0    4.0      160  ...                1             0           1\n",
              "17  350000.0    5.0      180  ...                0             0           1\n",
              "\n",
              "[11 rows x 8 columns]"
            ]
          },
          "metadata": {
            "tags": []
          },
          "execution_count": 3
        }
      ]
    },
    {
      "cell_type": "code",
      "metadata": {
        "id": "cinRBDirvnUR",
        "colab_type": "code",
        "colab": {
          "base_uri": "https://localhost:8080/",
          "height": 294
        },
        "outputId": "21c9d3a3-ab98-4057-c0b8-8e4498940edd"
      },
      "source": [
        "dataset.corr()"
      ],
      "execution_count": 4,
      "outputs": [
        {
          "output_type": "execute_result",
          "data": {
            "text/html": [
              "<div>\n",
              "<style scoped>\n",
              "    .dataframe tbody tr th:only-of-type {\n",
              "        vertical-align: middle;\n",
              "    }\n",
              "\n",
              "    .dataframe tbody tr th {\n",
              "        vertical-align: top;\n",
              "    }\n",
              "\n",
              "    .dataframe thead th {\n",
              "        text-align: right;\n",
              "    }\n",
              "</style>\n",
              "<table border=\"1\" class=\"dataframe\">\n",
              "  <thead>\n",
              "    <tr style=\"text-align: right;\">\n",
              "      <th></th>\n",
              "      <th>price</th>\n",
              "      <th>rooms</th>\n",
              "      <th>surface</th>\n",
              "      <th>price_per_m2</th>\n",
              "      <th>price_per_room</th>\n",
              "      <th>website_immoweb</th>\n",
              "      <th>city_Fleurus</th>\n",
              "      <th>city_Namur</th>\n",
              "    </tr>\n",
              "  </thead>\n",
              "  <tbody>\n",
              "    <tr>\n",
              "      <th>price</th>\n",
              "      <td>1.000000</td>\n",
              "      <td>0.540790</td>\n",
              "      <td>-0.040486</td>\n",
              "      <td>0.670604</td>\n",
              "      <td>0.452047</td>\n",
              "      <td>-0.536105</td>\n",
              "      <td>-0.471232</td>\n",
              "      <td>-0.098653</td>\n",
              "    </tr>\n",
              "    <tr>\n",
              "      <th>rooms</th>\n",
              "      <td>0.540790</td>\n",
              "      <td>1.000000</td>\n",
              "      <td>0.635903</td>\n",
              "      <td>-0.186823</td>\n",
              "      <td>-0.484037</td>\n",
              "      <td>-0.563621</td>\n",
              "      <td>0.054074</td>\n",
              "      <td>0.104713</td>\n",
              "    </tr>\n",
              "    <tr>\n",
              "      <th>surface</th>\n",
              "      <td>-0.040486</td>\n",
              "      <td>0.635903</td>\n",
              "      <td>1.000000</td>\n",
              "      <td>-0.714090</td>\n",
              "      <td>-0.652439</td>\n",
              "      <td>-0.058931</td>\n",
              "      <td>0.665578</td>\n",
              "      <td>-0.085399</td>\n",
              "    </tr>\n",
              "    <tr>\n",
              "      <th>price_per_m2</th>\n",
              "      <td>0.670604</td>\n",
              "      <td>-0.186823</td>\n",
              "      <td>-0.714090</td>\n",
              "      <td>1.000000</td>\n",
              "      <td>0.883056</td>\n",
              "      <td>-0.144850</td>\n",
              "      <td>-0.718931</td>\n",
              "      <td>-0.142938</td>\n",
              "    </tr>\n",
              "    <tr>\n",
              "      <th>price_per_room</th>\n",
              "      <td>0.452047</td>\n",
              "      <td>-0.484037</td>\n",
              "      <td>-0.652439</td>\n",
              "      <td>0.883056</td>\n",
              "      <td>1.000000</td>\n",
              "      <td>0.094077</td>\n",
              "      <td>-0.516111</td>\n",
              "      <td>-0.228400</td>\n",
              "    </tr>\n",
              "    <tr>\n",
              "      <th>website_immoweb</th>\n",
              "      <td>-0.536105</td>\n",
              "      <td>-0.563621</td>\n",
              "      <td>-0.058931</td>\n",
              "      <td>-0.144850</td>\n",
              "      <td>0.094077</td>\n",
              "      <td>1.000000</td>\n",
              "      <td>0.356348</td>\n",
              "      <td>-0.069007</td>\n",
              "    </tr>\n",
              "    <tr>\n",
              "      <th>city_Fleurus</th>\n",
              "      <td>-0.471232</td>\n",
              "      <td>0.054074</td>\n",
              "      <td>0.665578</td>\n",
              "      <td>-0.718931</td>\n",
              "      <td>-0.516111</td>\n",
              "      <td>0.356348</td>\n",
              "      <td>1.000000</td>\n",
              "      <td>-0.430331</td>\n",
              "    </tr>\n",
              "    <tr>\n",
              "      <th>city_Namur</th>\n",
              "      <td>-0.098653</td>\n",
              "      <td>0.104713</td>\n",
              "      <td>-0.085399</td>\n",
              "      <td>-0.142938</td>\n",
              "      <td>-0.228400</td>\n",
              "      <td>-0.069007</td>\n",
              "      <td>-0.430331</td>\n",
              "      <td>1.000000</td>\n",
              "    </tr>\n",
              "  </tbody>\n",
              "</table>\n",
              "</div>"
            ],
            "text/plain": [
              "                    price     rooms  ...  city_Fleurus  city_Namur\n",
              "price            1.000000  0.540790  ...     -0.471232   -0.098653\n",
              "rooms            0.540790  1.000000  ...      0.054074    0.104713\n",
              "surface         -0.040486  0.635903  ...      0.665578   -0.085399\n",
              "price_per_m2     0.670604 -0.186823  ...     -0.718931   -0.142938\n",
              "price_per_room   0.452047 -0.484037  ...     -0.516111   -0.228400\n",
              "website_immoweb -0.536105 -0.563621  ...      0.356348   -0.069007\n",
              "city_Fleurus    -0.471232  0.054074  ...      1.000000   -0.430331\n",
              "city_Namur      -0.098653  0.104713  ...     -0.430331    1.000000\n",
              "\n",
              "[8 rows x 8 columns]"
            ]
          },
          "metadata": {
            "tags": []
          },
          "execution_count": 4
        }
      ]
    },
    {
      "cell_type": "markdown",
      "metadata": {
        "id": "PWDhrdhzaEBD",
        "colab_type": "text"
      },
      "source": [
        "## Une framework Python de référence pour le machine learing: Scikit-learn\n",
        "\n",
        "Une librairie Python incontournable pour le machine learning est la librairie Scikit-learn: https://scikit-learn.org/stable/ .\n",
        "\n",
        "Elle inclut un geand nombre d'algorithmes de machine learning supervisé, non-supervisé, de préprocessing de caractéristiques, et de sélection de modèles de machine learning. L'API est assez simple, et est basée sur les librairies vues précédemment (Numpy, Scipy, Matplotlib).\n",
        "\n",
        "La librairie contient de nombreuses classes permettant d'instancier des modèles de machine learning, que l'on peut ensuite utiliser pour: \n",
        "1. Entraîner sur un ensemble de **données d'entraînement (ou training set)**.\n",
        "\n",
        "2. Chaque modèle contient généralement différents paramètres qui peuvent être adaptés aux données utilisées, afin d'améliorer les performances de l'algorithme. Pour vérifier les performances du modèles selon différents paramètres, on teste le modèle sur un set de **données de validation (ou validation set)**. On parle généralement de processus de **cross-validation**.\n",
        "\n",
        "3. Afin de vérifier que le modèle obtenu est efficace, on peut ensuite le tester avec de nouvelles données (autres que celles utilisées durant l'entraînement et la cross-validation), les **données de test (ou test set)**."
      ]
    },
    {
      "cell_type": "markdown",
      "metadata": {
        "id": "z43cMjWtqHGw",
        "colab_type": "text"
      },
      "source": [
        "### Régression linéaire"
      ]
    },
    {
      "cell_type": "markdown",
      "metadata": {
        "id": "W3MQD_61rQ-6",
        "colab_type": "text"
      },
      "source": [
        "Etant donné le peu de données de l'exemple, on utilisera un modèle simple (régression linéaire), avec un nombre restreint de caractéristiques (surface, rooms, et éventuellement la ville). On ne contentera d'un training set et d'un test set (pas de validation ici: on gardera les paramètres par défaut du modèle)."
      ]
    },
    {
      "cell_type": "code",
      "metadata": {
        "id": "3nRN3Xn6b9bk",
        "colab_type": "code",
        "colab": {}
      },
      "source": [
        "from sklearn.linear_model import LinearRegression\n",
        "\n",
        "#On crée un objet de la classe LinearRegression\n",
        "regressor = LinearRegression()\n"
      ],
      "execution_count": 0,
      "outputs": []
    },
    {
      "cell_type": "code",
      "metadata": {
        "id": "TVGUPjD2bnXE",
        "colab_type": "code",
        "colab": {}
      },
      "source": [
        "trainsize = 6\n",
        "\n",
        "trainset = dataset.iloc[:trainsize]\n",
        "testset = dataset.iloc[trainsize:]\n",
        "\n",
        "features = [\"surface\",\"rooms\"]\n",
        "#Pour tester un autre set de features, décommenter la ligne suivante\n",
        "features = [\"surface\",\"rooms\",\"city_Fleurus\",\"city_Namur\"]\n",
        "\n",
        "Xtrain, ytrain, Xtest, ytest = trainset[features], trainset[\"price\"], testset[features], testset[\"price\"]"
      ],
      "execution_count": 0,
      "outputs": []
    },
    {
      "cell_type": "markdown",
      "metadata": {
        "id": "W7DakFy-Eg4o",
        "colab_type": "text"
      },
      "source": [
        "#### Entraînement"
      ]
    },
    {
      "cell_type": "code",
      "metadata": {
        "id": "JFBVkNPZp3Mi",
        "colab_type": "code",
        "colab": {
          "base_uri": "https://localhost:8080/",
          "height": 35
        },
        "outputId": "1194d05e-1bfe-4645-f75d-90a9fb62abad"
      },
      "source": [
        "regressor.fit(Xtrain, ytrain)"
      ],
      "execution_count": 7,
      "outputs": [
        {
          "output_type": "execute_result",
          "data": {
            "text/plain": [
              "LinearRegression(copy_X=True, fit_intercept=True, n_jobs=None, normalize=False)"
            ]
          },
          "metadata": {
            "tags": []
          },
          "execution_count": 7
        }
      ]
    },
    {
      "cell_type": "markdown",
      "metadata": {
        "id": "JKN5aS1WEkef",
        "colab_type": "text"
      },
      "source": [
        "####Prédictions"
      ]
    },
    {
      "cell_type": "code",
      "metadata": {
        "id": "hp-fiF2xqn4L",
        "colab_type": "code",
        "colab": {
          "base_uri": "https://localhost:8080/",
          "height": 35
        },
        "outputId": "dfccb449-16a4-493d-9b64-8e661570b2f6"
      },
      "source": [
        "trainpred = regressor.predict(Xtrain)\n",
        "testpred = regressor.predict(Xtest)\n",
        "print(testpred[0], ytest.values[0])"
      ],
      "execution_count": 8,
      "outputs": [
        {
          "output_type": "stream",
          "text": [
            "434999.9999999971 400000.0\n"
          ],
          "name": "stdout"
        }
      ]
    },
    {
      "cell_type": "code",
      "metadata": {
        "id": "u1_XPhrBq9Y8",
        "colab_type": "code",
        "colab": {
          "base_uri": "https://localhost:8080/",
          "height": 35
        },
        "outputId": "1ab23d49-0be3-4e08-c2bc-d5431e8485b4"
      },
      "source": [
        "regressor.coef_"
      ],
      "execution_count": 9,
      "outputs": [
        {
          "output_type": "execute_result",
          "data": {
            "text/plain": [
              "array([ -1000., 125000., -60000., -35000.])"
            ]
          },
          "metadata": {
            "tags": []
          },
          "execution_count": 9
        }
      ]
    },
    {
      "cell_type": "markdown",
      "metadata": {
        "id": "5-bMh1zTEmr3",
        "colab_type": "text"
      },
      "source": [
        "#### Evaluation des prédictions"
      ]
    },
    {
      "cell_type": "code",
      "metadata": {
        "id": "p8UdTc9dBu0R",
        "colab_type": "code",
        "colab": {
          "base_uri": "https://localhost:8080/",
          "height": 35
        },
        "outputId": "38ea704d-6922-48e1-beb7-093207d8c93a"
      },
      "source": [
        "from sklearn.metrics import mean_absolute_error\n",
        "\n",
        "mae_train = mean_absolute_error(trainpred,ytrain)\n",
        "mae_test = mean_absolute_error(testpred,ytest)\n",
        "\n",
        "mae_train, mae_test"
      ],
      "execution_count": 10,
      "outputs": [
        {
          "output_type": "execute_result",
          "data": {
            "text/plain": [
              "(20000.000000003245, 62999.99999999812)"
            ]
          },
          "metadata": {
            "tags": []
          },
          "execution_count": 10
        }
      ]
    },
    {
      "cell_type": "code",
      "metadata": {
        "id": "dYFCaKf7FhWT",
        "colab_type": "code",
        "colab": {
          "base_uri": "https://localhost:8080/",
          "height": 52
        },
        "outputId": "97d6ec38-87b2-4e59-ff0c-8e30b0119f48"
      },
      "source": [
        "trainpred"
      ],
      "execution_count": 11,
      "outputs": [
        {
          "output_type": "execute_result",
          "data": {
            "text/plain": [
              "array([400000.        , 339999.99999999, 330000.00000001, 230000.        ,\n",
              "       350000.        , 339999.99999999])"
            ]
          },
          "metadata": {
            "tags": []
          },
          "execution_count": 11
        }
      ]
    },
    {
      "cell_type": "code",
      "metadata": {
        "id": "2_Drmv0LF3o5",
        "colab_type": "code",
        "colab": {
          "base_uri": "https://localhost:8080/",
          "height": 35
        },
        "outputId": "78cb7a6c-6244-4bc5-8b7f-2b4c9de45978"
      },
      "source": [
        "testpred"
      ],
      "execution_count": 12,
      "outputs": [
        {
          "output_type": "execute_result",
          "data": {
            "text/plain": [
              "array([435000., 540000., 285000., 390000., 495000.])"
            ]
          },
          "metadata": {
            "tags": []
          },
          "execution_count": 12
        }
      ]
    },
    {
      "cell_type": "code",
      "metadata": {
        "id": "iQN47OsoQZ1O",
        "colab_type": "code",
        "colab": {
          "base_uri": "https://localhost:8080/",
          "height": 121
        },
        "outputId": "68446457-734b-4def-c3f5-e816c6d73d13"
      },
      "source": [
        "ytest"
      ],
      "execution_count": 13,
      "outputs": [
        {
          "output_type": "execute_result",
          "data": {
            "text/plain": [
              "13    400000.0\n",
              "14    480000.0\n",
              "15    280000.0\n",
              "16    320000.0\n",
              "17    350000.0\n",
              "Name: price, dtype: float64"
            ]
          },
          "metadata": {
            "tags": []
          },
          "execution_count": 13
        }
      ]
    },
    {
      "cell_type": "code",
      "metadata": {
        "id": "GebyAFN7CYYI",
        "colab_type": "code",
        "colab": {
          "base_uri": "https://localhost:8080/",
          "height": 301
        },
        "outputId": "4b645ecc-4c6d-4814-d6a8-b5f325b33d76"
      },
      "source": [
        "from matplotlib import pyplot as plt\n",
        "\n",
        "plt.scatter(ytrain,trainpred)\n",
        "plt.scatter(ytest,testpred)\n",
        "\n",
        "\n",
        "plt.legend([\"train\",\"test\"])\n",
        "plt.xlabel(\"Labels\")\n",
        "plt.ylabel(\"Prédictions\")\n",
        "\n",
        "#Des prédictions parfaites devraient se situer sur la droite suivante (erreur de prédiction nulle)\n",
        "plt.plot([200000,600000],[200000,600000], 'g')"
      ],
      "execution_count": 14,
      "outputs": [
        {
          "output_type": "execute_result",
          "data": {
            "text/plain": [
              "[<matplotlib.lines.Line2D at 0x7f37655a5710>]"
            ]
          },
          "metadata": {
            "tags": []
          },
          "execution_count": 14
        },
        {
          "output_type": "display_data",
          "data": {
            "image/png": "[encoded data removed]",
            "text/plain": [
              "<Figure size 432x288 with 1 Axes>"
            ]
          },
          "metadata": {
            "tags": []
          }
        }
      ]
    },
    {
      "cell_type": "markdown",
      "metadata": {
        "id": "7jwJYoauQ3cf",
        "colab_type": "text"
      },
      "source": [
        "Le modèle semble indiquer qu'une des maisons du testset est sous-évaluée: le modèle estime sa valeur plus haute que le prix auquel elle est vendue."
      ]
    },
    {
      "cell_type": "code",
      "metadata": {
        "id": "rpj2otZvVWA7",
        "colab_type": "code",
        "colab": {
          "base_uri": "https://localhost:8080/",
          "height": 202
        },
        "outputId": "53b22cac-1547-4b6c-d835-6cef23dfc84a"
      },
      "source": [
        "output = df.iloc[trainsize:]\n",
        "output = output.assign(predictions = testpred)\n",
        "output[\"delta\"] = output[\"price\"] - output[\"predictions\"]\n",
        "output"
      ],
      "execution_count": 15,
      "outputs": [
        {
          "output_type": "execute_result",
          "data": {
            "text/html": [
              "<div>\n",
              "<style scoped>\n",
              "    .dataframe tbody tr th:only-of-type {\n",
              "        vertical-align: middle;\n",
              "    }\n",
              "\n",
              "    .dataframe tbody tr th {\n",
              "        vertical-align: top;\n",
              "    }\n",
              "\n",
              "    .dataframe thead th {\n",
              "        text-align: right;\n",
              "    }\n",
              "</style>\n",
              "<table border=\"1\" class=\"dataframe\">\n",
              "  <thead>\n",
              "    <tr style=\"text-align: right;\">\n",
              "      <th></th>\n",
              "      <th>address</th>\n",
              "      <th>price</th>\n",
              "      <th>rooms</th>\n",
              "      <th>surface</th>\n",
              "      <th>website</th>\n",
              "      <th>city</th>\n",
              "      <th>price_per_m2</th>\n",
              "      <th>price_per_room</th>\n",
              "      <th>predictions</th>\n",
              "      <th>delta</th>\n",
              "    </tr>\n",
              "  </thead>\n",
              "  <tbody>\n",
              "    <tr>\n",
              "      <th>13</th>\n",
              "      <td>Rue de la Loi 52, Bruxelles</td>\n",
              "      <td>400000.0</td>\n",
              "      <td>4.0</td>\n",
              "      <td>150</td>\n",
              "      <td>immovlan</td>\n",
              "      <td>Bruxelles</td>\n",
              "      <td>2666.666667</td>\n",
              "      <td>100000.000000</td>\n",
              "      <td>435000.0</td>\n",
              "      <td>-35000.0</td>\n",
              "    </tr>\n",
              "    <tr>\n",
              "      <th>14</th>\n",
              "      <td>Rue de la Loi 53, Bruxelles</td>\n",
              "      <td>480000.0</td>\n",
              "      <td>5.0</td>\n",
              "      <td>170</td>\n",
              "      <td>immovlan</td>\n",
              "      <td>Bruxelles</td>\n",
              "      <td>2823.529412</td>\n",
              "      <td>96000.000000</td>\n",
              "      <td>540000.0</td>\n",
              "      <td>-60000.0</td>\n",
              "    </tr>\n",
              "    <tr>\n",
              "      <th>15</th>\n",
              "      <td>Rue de Fer 27, Namur</td>\n",
              "      <td>280000.0</td>\n",
              "      <td>3.0</td>\n",
              "      <td>140</td>\n",
              "      <td>immoweb</td>\n",
              "      <td>Namur</td>\n",
              "      <td>2000.000000</td>\n",
              "      <td>93333.333333</td>\n",
              "      <td>285000.0</td>\n",
              "      <td>-5000.0</td>\n",
              "    </tr>\n",
              "    <tr>\n",
              "      <th>16</th>\n",
              "      <td>Rue de Fer 28, Namur</td>\n",
              "      <td>320000.0</td>\n",
              "      <td>4.0</td>\n",
              "      <td>160</td>\n",
              "      <td>immoweb</td>\n",
              "      <td>Namur</td>\n",
              "      <td>2000.000000</td>\n",
              "      <td>80000.000000</td>\n",
              "      <td>390000.0</td>\n",
              "      <td>-70000.0</td>\n",
              "    </tr>\n",
              "    <tr>\n",
              "      <th>17</th>\n",
              "      <td>Rue de Fer 29, Namur</td>\n",
              "      <td>350000.0</td>\n",
              "      <td>5.0</td>\n",
              "      <td>180</td>\n",
              "      <td>immovlan</td>\n",
              "      <td>Namur</td>\n",
              "      <td>1944.444444</td>\n",
              "      <td>70000.000000</td>\n",
              "      <td>495000.0</td>\n",
              "      <td>-145000.0</td>\n",
              "    </tr>\n",
              "  </tbody>\n",
              "</table>\n",
              "</div>"
            ],
            "text/plain": [
              "                        address     price  ...  predictions     delta\n",
              "13  Rue de la Loi 52, Bruxelles  400000.0  ...     435000.0  -35000.0\n",
              "14  Rue de la Loi 53, Bruxelles  480000.0  ...     540000.0  -60000.0\n",
              "15         Rue de Fer 27, Namur  280000.0  ...     285000.0   -5000.0\n",
              "16         Rue de Fer 28, Namur  320000.0  ...     390000.0  -70000.0\n",
              "17         Rue de Fer 29, Namur  350000.0  ...     495000.0 -145000.0\n",
              "\n",
              "[5 rows x 10 columns]"
            ]
          },
          "metadata": {
            "tags": []
          },
          "execution_count": 15
        }
      ]
    },
    {
      "cell_type": "markdown",
      "metadata": {
        "id": "thSKg_ZQWLne",
        "colab_type": "text"
      },
      "source": [
        "La maison à la Rue de Fer 29, Namur\tserait donc fortement sous-évaluée. On remarque en l'occurrence qu'elle a un prix par pièce particulièrement faible."
      ]
    },
    {
      "cell_type": "code",
      "metadata": {
        "id": "Uxyj34OcWryT",
        "colab_type": "code",
        "colab": {
          "base_uri": "https://localhost:8080/",
          "height": 386
        },
        "outputId": "e28a8f8c-75ab-4f48-cd56-0e9fd8980428"
      },
      "source": [
        "df"
      ],
      "execution_count": 16,
      "outputs": [
        {
          "output_type": "execute_result",
          "data": {
            "text/html": [
              "<div>\n",
              "<style scoped>\n",
              "    .dataframe tbody tr th:only-of-type {\n",
              "        vertical-align: middle;\n",
              "    }\n",
              "\n",
              "    .dataframe tbody tr th {\n",
              "        vertical-align: top;\n",
              "    }\n",
              "\n",
              "    .dataframe thead th {\n",
              "        text-align: right;\n",
              "    }\n",
              "</style>\n",
              "<table border=\"1\" class=\"dataframe\">\n",
              "  <thead>\n",
              "    <tr style=\"text-align: right;\">\n",
              "      <th></th>\n",
              "      <th>address</th>\n",
              "      <th>price</th>\n",
              "      <th>rooms</th>\n",
              "      <th>surface</th>\n",
              "      <th>website</th>\n",
              "      <th>city</th>\n",
              "      <th>price_per_m2</th>\n",
              "      <th>price_per_room</th>\n",
              "    </tr>\n",
              "  </thead>\n",
              "  <tbody>\n",
              "    <tr>\n",
              "      <th>0</th>\n",
              "      <td>Rue de Fer 26, 5000 Namur</td>\n",
              "      <td>400000.0</td>\n",
              "      <td>4.0</td>\n",
              "      <td>150</td>\n",
              "      <td>immoweb</td>\n",
              "      <td>Namur</td>\n",
              "      <td>2666.666667</td>\n",
              "      <td>100000.000000</td>\n",
              "    </tr>\n",
              "    <tr>\n",
              "      <th>2</th>\n",
              "      <td>Porte de Namur 25, Bruxelles</td>\n",
              "      <td>400000.0</td>\n",
              "      <td>3.0</td>\n",
              "      <td>120</td>\n",
              "      <td>immoweb</td>\n",
              "      <td>Bruxelles</td>\n",
              "      <td>3333.333333</td>\n",
              "      <td>133333.333333</td>\n",
              "    </tr>\n",
              "    <tr>\n",
              "      <th>4</th>\n",
              "      <td>Rue Saint-ghislain 30, 6224 Fleurus</td>\n",
              "      <td>330000.0</td>\n",
              "      <td>5.0</td>\n",
              "      <td>320</td>\n",
              "      <td>immoweb</td>\n",
              "      <td>Fleurus</td>\n",
              "      <td>1031.250000</td>\n",
              "      <td>66000.000000</td>\n",
              "    </tr>\n",
              "    <tr>\n",
              "      <th>6</th>\n",
              "      <td>Rue de la Closière 20, Fleurus</td>\n",
              "      <td>230000.0</td>\n",
              "      <td>3.0</td>\n",
              "      <td>170</td>\n",
              "      <td>immoweb</td>\n",
              "      <td>Fleurus</td>\n",
              "      <td>1352.941176</td>\n",
              "      <td>76666.666667</td>\n",
              "    </tr>\n",
              "    <tr>\n",
              "      <th>10</th>\n",
              "      <td>Rue de Bruxelles 42, 5000 Namur</td>\n",
              "      <td>350000.0</td>\n",
              "      <td>4.0</td>\n",
              "      <td>200</td>\n",
              "      <td>immovlan</td>\n",
              "      <td>Namur</td>\n",
              "      <td>1750.000000</td>\n",
              "      <td>87500.000000</td>\n",
              "    </tr>\n",
              "    <tr>\n",
              "      <th>12</th>\n",
              "      <td>Rue de la Loi 51, Bruxelles</td>\n",
              "      <td>280000.0</td>\n",
              "      <td>3.0</td>\n",
              "      <td>120</td>\n",
              "      <td>immoweb</td>\n",
              "      <td>Bruxelles</td>\n",
              "      <td>2333.333333</td>\n",
              "      <td>93333.333333</td>\n",
              "    </tr>\n",
              "    <tr>\n",
              "      <th>13</th>\n",
              "      <td>Rue de la Loi 52, Bruxelles</td>\n",
              "      <td>400000.0</td>\n",
              "      <td>4.0</td>\n",
              "      <td>150</td>\n",
              "      <td>immovlan</td>\n",
              "      <td>Bruxelles</td>\n",
              "      <td>2666.666667</td>\n",
              "      <td>100000.000000</td>\n",
              "    </tr>\n",
              "    <tr>\n",
              "      <th>14</th>\n",
              "      <td>Rue de la Loi 53, Bruxelles</td>\n",
              "      <td>480000.0</td>\n",
              "      <td>5.0</td>\n",
              "      <td>170</td>\n",
              "      <td>immovlan</td>\n",
              "      <td>Bruxelles</td>\n",
              "      <td>2823.529412</td>\n",
              "      <td>96000.000000</td>\n",
              "    </tr>\n",
              "    <tr>\n",
              "      <th>15</th>\n",
              "      <td>Rue de Fer 27, Namur</td>\n",
              "      <td>280000.0</td>\n",
              "      <td>3.0</td>\n",
              "      <td>140</td>\n",
              "      <td>immoweb</td>\n",
              "      <td>Namur</td>\n",
              "      <td>2000.000000</td>\n",
              "      <td>93333.333333</td>\n",
              "    </tr>\n",
              "    <tr>\n",
              "      <th>16</th>\n",
              "      <td>Rue de Fer 28, Namur</td>\n",
              "      <td>320000.0</td>\n",
              "      <td>4.0</td>\n",
              "      <td>160</td>\n",
              "      <td>immoweb</td>\n",
              "      <td>Namur</td>\n",
              "      <td>2000.000000</td>\n",
              "      <td>80000.000000</td>\n",
              "    </tr>\n",
              "    <tr>\n",
              "      <th>17</th>\n",
              "      <td>Rue de Fer 29, Namur</td>\n",
              "      <td>350000.0</td>\n",
              "      <td>5.0</td>\n",
              "      <td>180</td>\n",
              "      <td>immovlan</td>\n",
              "      <td>Namur</td>\n",
              "      <td>1944.444444</td>\n",
              "      <td>70000.000000</td>\n",
              "    </tr>\n",
              "  </tbody>\n",
              "</table>\n",
              "</div>"
            ],
            "text/plain": [
              "                                address     price  ...  price_per_m2  price_per_room\n",
              "0             Rue de Fer 26, 5000 Namur  400000.0  ...   2666.666667   100000.000000\n",
              "2          Porte de Namur 25, Bruxelles  400000.0  ...   3333.333333   133333.333333\n",
              "4   Rue Saint-ghislain 30, 6224 Fleurus  330000.0  ...   1031.250000    66000.000000\n",
              "6        Rue de la Closière 20, Fleurus  230000.0  ...   1352.941176    76666.666667\n",
              "10      Rue de Bruxelles 42, 5000 Namur  350000.0  ...   1750.000000    87500.000000\n",
              "12          Rue de la Loi 51, Bruxelles  280000.0  ...   2333.333333    93333.333333\n",
              "13          Rue de la Loi 52, Bruxelles  400000.0  ...   2666.666667   100000.000000\n",
              "14          Rue de la Loi 53, Bruxelles  480000.0  ...   2823.529412    96000.000000\n",
              "15                 Rue de Fer 27, Namur  280000.0  ...   2000.000000    93333.333333\n",
              "16                 Rue de Fer 28, Namur  320000.0  ...   2000.000000    80000.000000\n",
              "17                 Rue de Fer 29, Namur  350000.0  ...   1944.444444    70000.000000\n",
              "\n",
              "[11 rows x 8 columns]"
            ]
          },
          "metadata": {
            "tags": []
          },
          "execution_count": 16
        }
      ]
    },
    {
      "cell_type": "markdown",
      "metadata": {
        "id": "_ScIRJCUDmhx",
        "colab_type": "text"
      },
      "source": [
        "# Importance des variables prédictives\n",
        "\n",
        "On peut évaluer l'impact des variables prédictives sur la prédiction à partir de leur coefficient dans la régression linéaire. Néanmoins, pour que les coefficients soient comparables, il faut au préalable mettre à la même échelle les variable prédictives."
      ]
    },
    {
      "cell_type": "code",
      "metadata": {
        "id": "QuOMDeh7EHSZ",
        "colab_type": "code",
        "colab": {
          "base_uri": "https://localhost:8080/",
          "height": 52
        },
        "outputId": "2348a88e-d1ce-4c37-cdec-101d6844b599"
      },
      "source": [
        "from sklearn.preprocessing import StandardScaler\n",
        "\n",
        "#Scaling\n",
        "scaler = StandardScaler()\n",
        "Xtrain_scaled = scaler.fit_transform(Xtrain)\n",
        "Xtest_scaled = scaler.transform(Xtest)\n",
        "\n",
        "#Entraînement\n",
        "regressor.fit(Xtrain_scaled, ytrain)\n",
        "\n",
        "#Prédictions\n",
        "trainpred = regressor.predict(Xtrain_scaled)\n",
        "testpred = regressor.predict(Xtest_scaled)\n",
        "\n",
        "(features,regressor.coef_)"
      ],
      "execution_count": 17,
      "outputs": [
        {
          "output_type": "execute_result",
          "data": {
            "text/plain": [
              "(['surface', 'rooms', 'city_Fleurus', 'city_Namur'],\n",
              " array([-68556.54600401,  93169.49906249, -28284.27124746, -16499.15822769]))"
            ]
          },
          "metadata": {
            "tags": []
          },
          "execution_count": 17
        }
      ]
    },
    {
      "cell_type": "markdown",
      "metadata": {
        "id": "brQfBgjyEakn",
        "colab_type": "text"
      },
      "source": [
        "Le coefficient le plus grand en valeur absolue est le deuxième, et semble indiquer que c'est le nombre de pièces qui influence le plus le prix."
      ]
    },
    {
      "cell_type": "markdown",
      "metadata": {
        "id": "X1uEKyBx4FnD",
        "colab_type": "text"
      },
      "source": [
        "### La descente de gradient"
      ]
    },
    {
      "cell_type": "code",
      "metadata": {
        "id": "ddB3nBOJ4Iqo",
        "colab_type": "code",
        "colab": {
          "base_uri": "https://localhost:8080/",
          "height": 69
        },
        "outputId": "bb38dda5-bc5c-49cd-8fad-cbd686575c7f"
      },
      "source": [
        "from sklearn.linear_model import SGDRegressor\n",
        "\n",
        "#On crée un objet de la classe LinearRegression\n",
        "regressor = SGDRegressor(loss = \"squared_loss\", learning_rate = \"constant\", eta0 = 0.01, max_iter = 300)\n",
        "regressor.fit(Xtrain_scaled, ytrain)\n",
        "print(regressor.predict(Xtest_scaled)[0], ytest.values[0])"
      ],
      "execution_count": 18,
      "outputs": [
        {
          "output_type": "stream",
          "text": [
            "400501.3980016409 400000.0\n"
          ],
          "name": "stdout"
        },
        {
          "output_type": "stream",
          "text": [
            "/usr/local/lib/python3.6/dist-packages/sklearn/linear_model/stochastic_gradient.py:1185: ConvergenceWarning: Maximum number of iteration reached before convergence. Consider increasing max_iter to improve the fit.\n",
            "  ConvergenceWarning)\n"
          ],
          "name": "stderr"
        }
      ]
    },
    {
      "cell_type": "markdown",
      "metadata": {
        "id": "8SWA7APirNcj",
        "colab_type": "text"
      },
      "source": [
        "## Leave-one-out validation\n",
        "Lorsque l'ensemble de données est petit (comme dans cet exemple), il est intéressant d'utiliser une technique de tournante sur les données de test pour vérifier la qualité de l'algorithme choisi. Sur l'ensemble des données, on retient itérativement un sous-ensemble différent pour les données de test et on entraîne sur le reste. On peut parcourir itérativement toutes les données, pour ainsi tester au final l'algorithme sur l'ensemble des données."
      ]
    },
    {
      "cell_type": "code",
      "metadata": {
        "id": "GvdvVEv4qRWz",
        "colab_type": "code",
        "colab": {
          "base_uri": "https://localhost:8080/",
          "height": 624
        },
        "outputId": "4653425d-dafd-4c8c-a99f-a600133cb03c"
      },
      "source": [
        "from sklearn.metrics import mean_squared_error\n",
        "import numpy as np\n",
        "\n",
        "testpredictions = []\n",
        "\n",
        "input_features = features\n",
        "\n",
        "\n",
        "for i in dataset.index:\n",
        "  trainset = dataset[dataset.index!=i]\n",
        "  testset = dataset.loc[i].to_frame().transpose()\n",
        "  Xtrain, ytrain, Xtest, ytest = trainset[input_features], trainset[\"price\"], testset[input_features], testset[\"price\"]\n",
        "  \n",
        "  scaler = StandardScaler()\n",
        "  Xtrain_scaled = scaler.fit_transform(Xtrain)\n",
        "  Xtest_scaled = scaler.transform(Xtest)\n",
        "\n",
        "  regressor.fit(Xtrain_scaled, ytrain)\n",
        "  \n",
        "  trainpred = regressor.predict(Xtrain_scaled)\n",
        "  testpred = regressor.predict(Xtest_scaled)\n",
        "  \n",
        "  print(i, \" - training mean error:\", np.mean(np.abs(trainpred - ytrain)), \"\\n\\t test mean error:\", np.mean(np.abs(testpred - ytest)), \"\\n\")\n",
        "        \n",
        "  testpredictions.append(testpred[0])\n",
        "  "
      ],
      "execution_count": 19,
      "outputs": [
        {
          "output_type": "stream",
          "text": [
            "0  - training mean error: 22098.125063488646 \n",
            "\t test mean error: 77821.22281258123 \n",
            "\n",
            "2  - training mean error: 25104.519285743205 \n",
            "\t test mean error: 77884.77240540402 \n",
            "\n",
            "4  - training mean error: 28659.477992199907 \n",
            "\t test mean error: 5660.842784011795 \n",
            "\n",
            "6  - training mean error: 29405.876962469327 \n",
            "\t test mean error: 14160.291673228785 \n",
            "\n",
            "10  - training mean error: 27269.0642740404 \n",
            "\t test mean error: 18530.956250332587 \n",
            "\n",
            "12  - training mean error: 20549.725344569062 \n",
            "\t test mean error: 105019.60931160749 \n",
            "\n",
            "13  - training mean error: 28867.006073925317 \n",
            "\t test mean error: 2572.9922593316296 \n",
            "\n",
            "14  - training mean error: 28352.936624691436 \n",
            "\t test mean error: 48679.38603771926 \n",
            "\n",
            "15  - training mean error: 28739.099693246848 \n",
            "\t test mean error: 9645.187519753468 \n",
            "\n",
            "16  - training mean error: 27162.716411706748 \n",
            "\t test mean error: 26122.83300332015 \n",
            "\n",
            "17  - training mean error: 22628.270004464648 \n",
            "\t test mean error: 77049.49936481268 \n",
            "\n"
          ],
          "name": "stdout"
        },
        {
          "output_type": "stream",
          "text": [
            "/usr/local/lib/python3.6/dist-packages/sklearn/linear_model/stochastic_gradient.py:1185: ConvergenceWarning: Maximum number of iteration reached before convergence. Consider increasing max_iter to improve the fit.\n",
            "  ConvergenceWarning)\n"
          ],
          "name": "stderr"
        }
      ]
    },
    {
      "cell_type": "code",
      "metadata": {
        "id": "5em1yoQltVk6",
        "colab_type": "code",
        "colab": {
          "base_uri": "https://localhost:8080/",
          "height": 208
        },
        "outputId": "6437278a-781d-482e-82c5-ac29314e60fd"
      },
      "source": [
        "testpredictions"
      ],
      "execution_count": 20,
      "outputs": [
        {
          "output_type": "execute_result",
          "data": {
            "text/plain": [
              "[322178.7771874188,\n",
              " 322115.227594596,\n",
              " 335660.8427840118,\n",
              " 244160.29167322878,\n",
              " 331469.0437496674,\n",
              " 385019.6093116075,\n",
              " 402572.99225933163,\n",
              " 431320.61396228074,\n",
              " 289645.18751975347,\n",
              " 346122.83300332015,\n",
              " 427049.4993648127]"
            ]
          },
          "metadata": {
            "tags": []
          },
          "execution_count": 20
        }
      ]
    },
    {
      "cell_type": "code",
      "metadata": {
        "id": "1cu-R5nWt60W",
        "colab_type": "code",
        "colab": {
          "base_uri": "https://localhost:8080/",
          "height": 35
        },
        "outputId": "673aa046-4993-439b-e3cc-0c19bcdd944c"
      },
      "source": [
        "mean_absolute_error(dataset[\"price\"],testpredictions)"
      ],
      "execution_count": 21,
      "outputs": [
        {
          "output_type": "execute_result",
          "data": {
            "text/plain": [
              "42104.32667473664"
            ]
          },
          "metadata": {
            "tags": []
          },
          "execution_count": 21
        }
      ]
    },
    {
      "cell_type": "markdown",
      "metadata": {
        "id": "BLSgoaulk4Sd",
        "colab_type": "text"
      },
      "source": [
        "Si les performances sur le test set sont bien plus mauvaises que sur les données d'entraînement, il est fort probable qu'on soit dans une situation d'**overfitting**: le modèle a appris \"par coeur\" ce qu'il fallait prédire pour chaque donnée du training set. Il ne se généralise donc pas bien sur de nouvelles données. Afin d'éviter ce problème, on peut soit:\n",
        "\n",
        "* diminuer la complexité (le nombre de degrés de liberté, i.e. de paramètres) du modèle, soit en diminuant le nombre de caractéristique, soit en utilisant un algorithme plus simple.\n",
        "* entraîner le modèle sur plus de données.\n",
        "\n",
        "Si à l'inverse, les performances obtenues lors de l'entraînement sont faibles, on est en situation d'**underfitting**. Il faut alors au contraire augmenter la complexité au modèle et extraire des caractéristiques de meilleure qualité (ayant une relation pus forte avec le label à prédire).\n",
        "\n",
        "Le dataset minimaliste utilisé ici a permis de présenter très simplement certains concepts de base du machine learning. Néanmoins, en pratique, l'utilisation du machine learning nécessite généralement de beaucoup plus grands ensemble de données, permettant notamment de développer des modèles plus complexes qu'une régression linéaire. Dans le Chapitre suivant, nous utiliserons un dataset réel et plus pertinent pour explorer quelques concepts fondamentaux du machine learning.\n"
      ]
    }
  ]
}