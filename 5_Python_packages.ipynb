{
  "nbformat": 4,
  "nbformat_minor": 0,
  "metadata": {
    "colab": {
      "name": "5_Python_packages.ipynb",
      "version": "0.3.2",
      "provenance": [],
      "collapsed_sections": [
        "Q-iFzWpqXcuv",
        "pBs1LmXgcgk5"
      ],
      "toc_visible": true,
      "include_colab_link": true
    },
    "kernelspec": {
      "name": "python3",
      "display_name": "Python 3"
    }
  },
  "cells": [
    {
      "cell_type": "markdown",
      "metadata": {
        "id": "view-in-github",
        "colab_type": "text"
      },
      "source": [
        "<a href=\"https://colab.research.google.com/github/titsitits/UNamur_Python_Analytics/blob/master/5_Python_packages.ipynb\" target=\"_parent\"><img src=\"https://colab.research.google.com/assets/colab-badge.svg\" alt=\"Open In Colab\"/></a>"
      ]
    },
    {
      "cell_type": "markdown",
      "metadata": {
        "id": "DfQ-d2onvooo",
        "colab_type": "text"
      },
      "source": [
        "Mickaël Tits\n",
        "CETIC\n",
        "mickael.tits@cetic.be"
      ]
    },
    {
      "cell_type": "markdown",
      "metadata": {
        "id": "Ug1Bj8_tAVWq",
        "colab_type": "text"
      },
      "source": [
        "# Les librairies Python pour l'analyse de données\n",
        "\n",
        "Une des grandes forces du langage de programmation Python est l'énorme communauté de développeurs qui développent et maintiennent un grand nombre de librairies, facilitant la vie desprogrammeurs. Ces librairies permettent d'utiliser des nouveaux types d'objets, spécialisés aux applications très variées, dont par exemple l'import/export/le traitement/la visualisation données spécifiques, de l'analyse mathématique/statistique/scientifique poussée, de l'interfaçage et la connecticité avec d'autres outils informatiques, etc.\n",
        "\n",
        "Dans le domaine de l'analyse de données en particulier, voici une liste de librairies incontourables que nous allons voir dans le cadre de ce cours:\n",
        "* [numpy](https://numpy.org/) : librairie de calcul scientifique (algèbre, calcul matriciel, stochastique, etc.)\n",
        "* [scipy](https://www.scipy.org/): librairie de calcul scientifique et statistique (reposant sur numpy)\n",
        "* [pandas](https://pandas.pydata.org/) : librairie permettant la représentation, la manipulation et l'analyse de données sous forme de tableaux (ou DataFrames)\n",
        "* [matplotlib](https://matplotlib.org/) : librairie de visualisation graphique de données\n",
        "\n",
        "\n",
        "Pour importer un package, il faut tout d'abord qu'il soit installé sur la machine (ce qui est déjà fait la plupart du temps dans Google Colab).\n",
        "Ensuite, il faut utiliser les mots-clés suivants:\n",
        "\n",
        "**`import`** `package` **`as`** `alias`\n",
        "\n",
        "ou:\n",
        "\n",
        "**`from`** `package` **`import`** `subpackage` **`as`** `alias`\n",
        "\n"
      ]
    },
    {
      "cell_type": "markdown",
      "metadata": {
        "id": "gBY_raFzHDU5",
        "colab_type": "text"
      },
      "source": [
        "# Numpy\n",
        "Numpy est une librairie de calcul mathématique. Elle inclut notamment l'objet **`ndarray`** (n-dimensional array) qui est une représentation d'un tableau multidimensionnel (un tenseur). On peut notamment utiliser cet objet pour représenter une matrice ou un vecteur. Le package dispose de nombreuses fonctions et méthodes permettant notamment des opérations algébriques sur ces objets, ou la génération de nombres aléatoires."
      ]
    },
    {
      "cell_type": "code",
      "metadata": {
        "id": "r52k4kgIBUNU",
        "colab_type": "code",
        "colab": {
          "base_uri": "https://localhost:8080/",
          "height": 191
        },
        "outputId": "1317c8c2-00c9-4274-80a4-121dee492627"
      },
      "source": [
        "import numpy as np\n",
        "\n",
        "price_list = [ 100000, 300000, 250000]\n",
        "\n",
        "price_array = np.array(price_list)\n",
        "\n",
        "print(price_array)\n",
        "\n",
        "print(\"shape:\", price_array.shape)\n",
        "print(\"mean:\", price_array.mean())\n",
        "print(\"argmax:\", price_array.argmax())\n",
        "print(\"cumsum:\", price_array.cumsum())\n"
      ],
      "execution_count": 34,
      "outputs": [
        {
          "output_type": "stream",
          "text": [
            "[100000 300000 250000]\n",
            "shape: (3,)\n",
            "mean: 216666.66666666666\n",
            "argmax: 1\n",
            "cumsum: [100000 400000 650000]\n",
            "produit scalaire (dot): 162500000000\n",
            "produit matriciel (matmul): [[1 2 3]\n",
            " [2 4 6]\n",
            " [3 6 9]]\n",
            "produit matriciel (matmul): [[14]]\n"
          ],
          "name": "stdout"
        }
      ]
    },
    {
      "cell_type": "code",
      "metadata": {
        "id": "R5iFYHDdFnsK",
        "colab_type": "code",
        "colab": {
          "base_uri": "https://localhost:8080/",
          "height": 69
        },
        "outputId": "e49d110b-fee8-488f-ac20-ca71af037175"
      },
      "source": [
        "my_array1 = np.array([[1,2,3]])\n",
        "my_array2 = np.array([[4,5,6]])\n",
        "\n",
        "print(my_array1.shape)\n",
        "\n",
        "#element-wise\n",
        "print(my_array1*my_array2)\n",
        "#matrix product\n",
        "print(my_array1@my_array2.T)"
      ],
      "execution_count": 50,
      "outputs": [
        {
          "output_type": "stream",
          "text": [
            "(1, 3)\n",
            "[[ 4 10 18]]\n",
            "[[32]]\n"
          ],
          "name": "stdout"
        }
      ]
    },
    {
      "cell_type": "code",
      "metadata": {
        "id": "4xn6xR2tCu_4",
        "colab_type": "code",
        "colab": {
          "base_uri": "https://localhost:8080/",
          "height": 35
        },
        "outputId": "b69c2787-263a-4880-85a7-9834f21552d7"
      },
      "source": [
        "print(\"Opérations de base sur des listes => concaténation:\", (price_list + price_list)*2)"
      ],
      "execution_count": 20,
      "outputs": [
        {
          "output_type": "stream",
          "text": [
            "Opérations de base sur des listes => concaténation: [100000, 300000, 250000, 100000, 300000, 250000, 100000, 300000, 250000, 100000, 300000, 250000]\n"
          ],
          "name": "stdout"
        }
      ]
    },
    {
      "cell_type": "code",
      "metadata": {
        "id": "NOO8Aqh3DTdD",
        "colab_type": "code",
        "colab": {
          "base_uri": "https://localhost:8080/",
          "height": 35
        },
        "outputId": "d529d7a8-1f45-4590-be25-1d5deff0ac73"
      },
      "source": [
        "print(\"Opérations de base sur un array => algèbre:\", (price_array + price_array)*2/100%42)"
      ],
      "execution_count": 22,
      "outputs": [
        {
          "output_type": "stream",
          "text": [
            "Opérations de base sur un array => algèbre: [10. 30.  4.]\n"
          ],
          "name": "stdout"
        }
      ]
    },
    {
      "cell_type": "markdown",
      "metadata": {
        "id": "5UFH469xK06U",
        "colab_type": "text"
      },
      "source": [
        "# Scipy"
      ]
    },
    {
      "cell_type": "code",
      "metadata": {
        "id": "NKPGpZsAK3F3",
        "colab_type": "code",
        "colab": {
          "base_uri": "https://localhost:8080/",
          "height": 35
        },
        "outputId": "2f5551d3-ccc3-43fe-c4c6-9180470ffeb3"
      },
      "source": [
        "from scipy import stats\n",
        "from numpy import random\n",
        "\n",
        "#gaussian random data vector\n",
        "my_vector = random.randn(100)\n",
        "\n",
        "#summary statistics\n",
        "stats.describe(my_vector)"
      ],
      "execution_count": 57,
      "outputs": [
        {
          "output_type": "execute_result",
          "data": {
            "text/plain": [
              "DescribeResult(nobs=100, minmax=(-2.080294343393541, 2.622256826845497), mean=0.1380773891722558, variance=1.022186302035058, skewness=0.08607967899205543, kurtosis=-0.05605444859760089)"
            ]
          },
          "metadata": {
            "tags": []
          },
          "execution_count": 57
        }
      ]
    },
    {
      "cell_type": "markdown",
      "metadata": {
        "id": "0edS6WEcIC0v",
        "colab_type": "text"
      },
      "source": [
        "# Pandas"
      ]
    },
    {
      "cell_type": "markdown",
      "metadata": {
        "id": "OONEpcjUVceC",
        "colab_type": "text"
      },
      "source": [
        "## Reprenons l'inventaire des biens immobiliers"
      ]
    },
    {
      "cell_type": "code",
      "metadata": {
        "id": "tT6OCfRxVYna",
        "colab_type": "code",
        "colab": {
          "base_uri": "https://localhost:8080/",
          "height": 55
        },
        "outputId": "05e62c64-335b-4743-f53c-d0ad0eb075d0"
      },
      "source": [
        "#Un inventaire de biens immobiliers\n",
        "\n",
        "houses_dataset = {\"address\":[\"Rue de Fer 26, 5000 Namur\",\n",
        "                             \"Rue de Bruxelles 42, 5000 Namur\",\n",
        "                      \"Porte de Namur 25, Bruxelles\",\n",
        "                      \"Rue de L'Eglise 42, Charleroi\",\n",
        "                      \"Rue Saint-ghislain 30, 6224 Fleurus\",\n",
        "                     \"Rue de la Closière 20, Fleurus\",\n",
        "                     \"Rue de la Closière 20, Fleurus\",\n",
        "                     \"Rue de Fer 25, 5000 Namur\",\n",
        "                     \"Rue du Luxembourg 15, 1000 Bruxelles\",\n",
        "                     \"NaN\",\n",
        "                     \"Rue de Bruxelles 42, 5000 Namur\",\n",
        "                     \"Rue de la Loi 50, Bruxelles\"],\n",
        "          \"website\":[\"immoweb\",\"immoweb\",\"immoweb\",\"immoweb\",\"immoweb\",\"immoweb\",\"immoweb\",\"immovlan\",\"immovlan\",\"immovlan\",\"immovlan\",\"immovlan\"],\n",
        "           \"price\": [400000,\n",
        "                     350000,\n",
        "                     400000,\n",
        "                     150000,\n",
        "                     \"290000\",\n",
        "                     230000,\n",
        "                     230000,\n",
        "                     0,\n",
        "                     -100,\n",
        "                     \"cent mille\",\n",
        "                     350000,\n",
        "                     700000],\n",
        "           \"surface\":[150,\n",
        "                      200,\n",
        "                      120,\n",
        "                      150,\n",
        "                      320,\n",
        "                      175,\n",
        "                      170,\n",
        "                      170,\n",
        "                      100,\n",
        "                      100,\n",
        "                      200,\n",
        "                      220],\n",
        "                 \"rooms\":[3,4,5,5,3,2,3,3,\"two\",0,4,4]}\n",
        "\n",
        "print(houses_dataset)"
      ],
      "execution_count": 131,
      "outputs": [
        {
          "output_type": "stream",
          "text": [
            "{'address': ['Rue de Fer 26, 5000 Namur', 'Rue de Bruxelles 42, 5000 Namur', 'Porte de Namur 25, Bruxelles', \"Rue de L'Eglise 42, Charleroi\", 'Rue Saint-ghislain 30, 6224 Fleurus', 'Rue de la Closière 20, Fleurus', 'Rue de la Closière 20, Fleurus', 'Rue de Fer 25, 5000 Namur', 'Rue du Luxembourg 15, 1000 Bruxelles', 'NaN', 'Rue de Bruxelles 42, 5000 Namur', 'Rue de la Loi 50, Bruxelles'], 'website': ['immoweb', 'immoweb', 'immoweb', 'immoweb', 'immoweb', 'immoweb', 'immoweb', 'immovlan', 'immovlan', 'immovlan', 'immovlan', 'immovlan'], 'price': [400000, 350000, 400000, 150000, '290000', 230000, 230000, 0, -100, 'cent mille', 350000, 700000], 'surface': [150, 200, 120, 150, 320, 175, 170, 170, 100, 100, 200, 220], 'rooms': [3, 4, 5, 5, 3, 2, 3, 3, 'two', 0, 4, 4]}\n"
          ],
          "name": "stdout"
        }
      ]
    },
    {
      "cell_type": "markdown",
      "metadata": {
        "id": "wALiLgvxVZjY",
        "colab_type": "text"
      },
      "source": [
        "## Préparation du dataframe"
      ]
    },
    {
      "cell_type": "code",
      "metadata": {
        "id": "U-3impyQwfAd",
        "colab_type": "code",
        "colab": {
          "base_uri": "https://localhost:8080/",
          "height": 417
        },
        "outputId": "f95e7c4c-d49f-4a37-d7d2-bbc68d6fb254"
      },
      "source": [
        "import pandas as pd\n",
        "\n",
        "df = pd.DataFrame(houses_dataset)\n",
        "#print(df) #moins joli\n",
        "display(df) #plus joli"
      ],
      "execution_count": 223,
      "outputs": [
        {
          "output_type": "display_data",
          "data": {
            "text/html": [
              "<div>\n",
              "<style scoped>\n",
              "    .dataframe tbody tr th:only-of-type {\n",
              "        vertical-align: middle;\n",
              "    }\n",
              "\n",
              "    .dataframe tbody tr th {\n",
              "        vertical-align: top;\n",
              "    }\n",
              "\n",
              "    .dataframe thead th {\n",
              "        text-align: right;\n",
              "    }\n",
              "</style>\n",
              "<table border=\"1\" class=\"dataframe\">\n",
              "  <thead>\n",
              "    <tr style=\"text-align: right;\">\n",
              "      <th></th>\n",
              "      <th>address</th>\n",
              "      <th>website</th>\n",
              "      <th>price</th>\n",
              "      <th>surface</th>\n",
              "      <th>rooms</th>\n",
              "    </tr>\n",
              "  </thead>\n",
              "  <tbody>\n",
              "    <tr>\n",
              "      <th>0</th>\n",
              "      <td>Rue de Fer 26, 5000 Namur</td>\n",
              "      <td>immoweb</td>\n",
              "      <td>400000</td>\n",
              "      <td>150</td>\n",
              "      <td>3</td>\n",
              "    </tr>\n",
              "    <tr>\n",
              "      <th>1</th>\n",
              "      <td>Rue de Bruxelles 42, 5000 Namur</td>\n",
              "      <td>immoweb</td>\n",
              "      <td>350000</td>\n",
              "      <td>200</td>\n",
              "      <td>4</td>\n",
              "    </tr>\n",
              "    <tr>\n",
              "      <th>2</th>\n",
              "      <td>Porte de Namur 25, Bruxelles</td>\n",
              "      <td>immoweb</td>\n",
              "      <td>400000</td>\n",
              "      <td>120</td>\n",
              "      <td>5</td>\n",
              "    </tr>\n",
              "    <tr>\n",
              "      <th>3</th>\n",
              "      <td>Rue de L'Eglise 42, Charleroi</td>\n",
              "      <td>immoweb</td>\n",
              "      <td>150000</td>\n",
              "      <td>150</td>\n",
              "      <td>5</td>\n",
              "    </tr>\n",
              "    <tr>\n",
              "      <th>4</th>\n",
              "      <td>Rue Saint-ghislain 30, 6224 Fleurus</td>\n",
              "      <td>immoweb</td>\n",
              "      <td>290000</td>\n",
              "      <td>320</td>\n",
              "      <td>3</td>\n",
              "    </tr>\n",
              "    <tr>\n",
              "      <th>5</th>\n",
              "      <td>Rue de la Closière 20, Fleurus</td>\n",
              "      <td>immoweb</td>\n",
              "      <td>230000</td>\n",
              "      <td>175</td>\n",
              "      <td>2</td>\n",
              "    </tr>\n",
              "    <tr>\n",
              "      <th>6</th>\n",
              "      <td>Rue de la Closière 20, Fleurus</td>\n",
              "      <td>immoweb</td>\n",
              "      <td>230000</td>\n",
              "      <td>170</td>\n",
              "      <td>3</td>\n",
              "    </tr>\n",
              "    <tr>\n",
              "      <th>7</th>\n",
              "      <td>Rue de Fer 25, 5000 Namur</td>\n",
              "      <td>immovlan</td>\n",
              "      <td>0</td>\n",
              "      <td>170</td>\n",
              "      <td>3</td>\n",
              "    </tr>\n",
              "    <tr>\n",
              "      <th>8</th>\n",
              "      <td>Rue du Luxembourg 15, 1000 Bruxelles</td>\n",
              "      <td>immovlan</td>\n",
              "      <td>-100</td>\n",
              "      <td>100</td>\n",
              "      <td>two</td>\n",
              "    </tr>\n",
              "    <tr>\n",
              "      <th>9</th>\n",
              "      <td>NaN</td>\n",
              "      <td>immovlan</td>\n",
              "      <td>cent mille</td>\n",
              "      <td>100</td>\n",
              "      <td>0</td>\n",
              "    </tr>\n",
              "    <tr>\n",
              "      <th>10</th>\n",
              "      <td>Rue de Bruxelles 42, 5000 Namur</td>\n",
              "      <td>immovlan</td>\n",
              "      <td>350000</td>\n",
              "      <td>200</td>\n",
              "      <td>4</td>\n",
              "    </tr>\n",
              "    <tr>\n",
              "      <th>11</th>\n",
              "      <td>Rue de la Loi 50, Bruxelles</td>\n",
              "      <td>immovlan</td>\n",
              "      <td>700000</td>\n",
              "      <td>220</td>\n",
              "      <td>4</td>\n",
              "    </tr>\n",
              "  </tbody>\n",
              "</table>\n",
              "</div>"
            ],
            "text/plain": [
              "                                 address   website       price  surface rooms\n",
              "0              Rue de Fer 26, 5000 Namur   immoweb      400000      150     3\n",
              "1        Rue de Bruxelles 42, 5000 Namur   immoweb      350000      200     4\n",
              "2           Porte de Namur 25, Bruxelles   immoweb      400000      120     5\n",
              "3          Rue de L'Eglise 42, Charleroi   immoweb      150000      150     5\n",
              "4    Rue Saint-ghislain 30, 6224 Fleurus   immoweb      290000      320     3\n",
              "5         Rue de la Closière 20, Fleurus   immoweb      230000      175     2\n",
              "6         Rue de la Closière 20, Fleurus   immoweb      230000      170     3\n",
              "7              Rue de Fer 25, 5000 Namur  immovlan           0      170     3\n",
              "8   Rue du Luxembourg 15, 1000 Bruxelles  immovlan        -100      100   two\n",
              "9                                    NaN  immovlan  cent mille      100     0\n",
              "10       Rue de Bruxelles 42, 5000 Namur  immovlan      350000      200     4\n",
              "11           Rue de la Loi 50, Bruxelles  immovlan      700000      220     4"
            ]
          },
          "metadata": {
            "tags": []
          }
        }
      ]
    },
    {
      "cell_type": "code",
      "metadata": {
        "id": "LHWOxgLqMjyP",
        "colab_type": "code",
        "colab": {
          "base_uri": "https://localhost:8080/",
          "height": 417
        },
        "outputId": "a1912e32-17d3-4916-c69d-ad1234753d94"
      },
      "source": [
        "#convertir certaines colonnes en valeurs numériques (les valeurs invalides deviennent des NaN - not a number)\n",
        "str_cols = df.columns[:2] #address, website\n",
        "num_cols = df.columns[2:]# price, surface, rooms\n",
        "\n",
        "for col in num_cols:\n",
        "  df[col] = pd.to_numeric(df[col], errors = \"coerce\") #errors = \"coerce\" transforme en NaN les données qui ne peuvent être converties en nombre\n",
        "\n",
        "df1 = df#on le garde pour plus tard\n",
        "df"
      ],
      "execution_count": 224,
      "outputs": [
        {
          "output_type": "execute_result",
          "data": {
            "text/html": [
              "<div>\n",
              "<style scoped>\n",
              "    .dataframe tbody tr th:only-of-type {\n",
              "        vertical-align: middle;\n",
              "    }\n",
              "\n",
              "    .dataframe tbody tr th {\n",
              "        vertical-align: top;\n",
              "    }\n",
              "\n",
              "    .dataframe thead th {\n",
              "        text-align: right;\n",
              "    }\n",
              "</style>\n",
              "<table border=\"1\" class=\"dataframe\">\n",
              "  <thead>\n",
              "    <tr style=\"text-align: right;\">\n",
              "      <th></th>\n",
              "      <th>address</th>\n",
              "      <th>website</th>\n",
              "      <th>price</th>\n",
              "      <th>surface</th>\n",
              "      <th>rooms</th>\n",
              "    </tr>\n",
              "  </thead>\n",
              "  <tbody>\n",
              "    <tr>\n",
              "      <th>0</th>\n",
              "      <td>Rue de Fer 26, 5000 Namur</td>\n",
              "      <td>immoweb</td>\n",
              "      <td>400000.0</td>\n",
              "      <td>150</td>\n",
              "      <td>3.0</td>\n",
              "    </tr>\n",
              "    <tr>\n",
              "      <th>1</th>\n",
              "      <td>Rue de Bruxelles 42, 5000 Namur</td>\n",
              "      <td>immoweb</td>\n",
              "      <td>350000.0</td>\n",
              "      <td>200</td>\n",
              "      <td>4.0</td>\n",
              "    </tr>\n",
              "    <tr>\n",
              "      <th>2</th>\n",
              "      <td>Porte de Namur 25, Bruxelles</td>\n",
              "      <td>immoweb</td>\n",
              "      <td>400000.0</td>\n",
              "      <td>120</td>\n",
              "      <td>5.0</td>\n",
              "    </tr>\n",
              "    <tr>\n",
              "      <th>3</th>\n",
              "      <td>Rue de L'Eglise 42, Charleroi</td>\n",
              "      <td>immoweb</td>\n",
              "      <td>150000.0</td>\n",
              "      <td>150</td>\n",
              "      <td>5.0</td>\n",
              "    </tr>\n",
              "    <tr>\n",
              "      <th>4</th>\n",
              "      <td>Rue Saint-ghislain 30, 6224 Fleurus</td>\n",
              "      <td>immoweb</td>\n",
              "      <td>290000.0</td>\n",
              "      <td>320</td>\n",
              "      <td>3.0</td>\n",
              "    </tr>\n",
              "    <tr>\n",
              "      <th>5</th>\n",
              "      <td>Rue de la Closière 20, Fleurus</td>\n",
              "      <td>immoweb</td>\n",
              "      <td>230000.0</td>\n",
              "      <td>175</td>\n",
              "      <td>2.0</td>\n",
              "    </tr>\n",
              "    <tr>\n",
              "      <th>6</th>\n",
              "      <td>Rue de la Closière 20, Fleurus</td>\n",
              "      <td>immoweb</td>\n",
              "      <td>230000.0</td>\n",
              "      <td>170</td>\n",
              "      <td>3.0</td>\n",
              "    </tr>\n",
              "    <tr>\n",
              "      <th>7</th>\n",
              "      <td>Rue de Fer 25, 5000 Namur</td>\n",
              "      <td>immovlan</td>\n",
              "      <td>0.0</td>\n",
              "      <td>170</td>\n",
              "      <td>3.0</td>\n",
              "    </tr>\n",
              "    <tr>\n",
              "      <th>8</th>\n",
              "      <td>Rue du Luxembourg 15, 1000 Bruxelles</td>\n",
              "      <td>immovlan</td>\n",
              "      <td>-100.0</td>\n",
              "      <td>100</td>\n",
              "      <td>NaN</td>\n",
              "    </tr>\n",
              "    <tr>\n",
              "      <th>9</th>\n",
              "      <td>NaN</td>\n",
              "      <td>immovlan</td>\n",
              "      <td>NaN</td>\n",
              "      <td>100</td>\n",
              "      <td>0.0</td>\n",
              "    </tr>\n",
              "    <tr>\n",
              "      <th>10</th>\n",
              "      <td>Rue de Bruxelles 42, 5000 Namur</td>\n",
              "      <td>immovlan</td>\n",
              "      <td>350000.0</td>\n",
              "      <td>200</td>\n",
              "      <td>4.0</td>\n",
              "    </tr>\n",
              "    <tr>\n",
              "      <th>11</th>\n",
              "      <td>Rue de la Loi 50, Bruxelles</td>\n",
              "      <td>immovlan</td>\n",
              "      <td>700000.0</td>\n",
              "      <td>220</td>\n",
              "      <td>4.0</td>\n",
              "    </tr>\n",
              "  </tbody>\n",
              "</table>\n",
              "</div>"
            ],
            "text/plain": [
              "                                 address   website     price  surface  rooms\n",
              "0              Rue de Fer 26, 5000 Namur   immoweb  400000.0      150    3.0\n",
              "1        Rue de Bruxelles 42, 5000 Namur   immoweb  350000.0      200    4.0\n",
              "2           Porte de Namur 25, Bruxelles   immoweb  400000.0      120    5.0\n",
              "3          Rue de L'Eglise 42, Charleroi   immoweb  150000.0      150    5.0\n",
              "4    Rue Saint-ghislain 30, 6224 Fleurus   immoweb  290000.0      320    3.0\n",
              "5         Rue de la Closière 20, Fleurus   immoweb  230000.0      175    2.0\n",
              "6         Rue de la Closière 20, Fleurus   immoweb  230000.0      170    3.0\n",
              "7              Rue de Fer 25, 5000 Namur  immovlan       0.0      170    3.0\n",
              "8   Rue du Luxembourg 15, 1000 Bruxelles  immovlan    -100.0      100    NaN\n",
              "9                                    NaN  immovlan       NaN      100    0.0\n",
              "10       Rue de Bruxelles 42, 5000 Namur  immovlan  350000.0      200    4.0\n",
              "11           Rue de la Loi 50, Bruxelles  immovlan  700000.0      220    4.0"
            ]
          },
          "metadata": {
            "tags": []
          },
          "execution_count": 224
        }
      ]
    },
    {
      "cell_type": "markdown",
      "metadata": {
        "id": "Q-iFzWpqXcuv",
        "colab_type": "text"
      },
      "source": [
        "## Accès aux données d'un dataframe"
      ]
    },
    {
      "cell_type": "code",
      "metadata": {
        "id": "fYUO8hwPXoRn",
        "colab_type": "code",
        "colab": {
          "base_uri": "https://localhost:8080/",
          "height": 52
        },
        "outputId": "af76c906-4476-47de-e34f-ebb0f2334c02"
      },
      "source": [
        "#Les labels du dataframe (i.e. les titres des lignes et des colonnes)\n",
        "print(df.index) # labels des lignes\n",
        "print(df.index.to_list()) # labels des lignes"
      ],
      "execution_count": 172,
      "outputs": [
        {
          "output_type": "stream",
          "text": [
            "RangeIndex(start=0, stop=12, step=1)\n",
            "[0, 1, 2, 3, 4, 5, 6, 7, 8, 9, 10, 11]\n"
          ],
          "name": "stdout"
        }
      ]
    },
    {
      "cell_type": "code",
      "metadata": {
        "id": "mwMmuPwRar4z",
        "colab_type": "code",
        "colab": {
          "base_uri": "https://localhost:8080/",
          "height": 52
        },
        "outputId": "fc3e2c0e-a636-4043-ba2b-f8a4e7097fe9"
      },
      "source": [
        "print(df.columns) #labels des colonnes\n",
        "print(df.columns.to_list()) #labels des colonnes"
      ],
      "execution_count": 173,
      "outputs": [
        {
          "output_type": "stream",
          "text": [
            "Index(['address', 'website', 'price', 'surface', 'rooms'], dtype='object')\n",
            "['address', 'website', 'price', 'surface', 'rooms']\n"
          ],
          "name": "stdout"
        }
      ]
    },
    {
      "cell_type": "code",
      "metadata": {
        "id": "5EhDyw72azIW",
        "colab_type": "code",
        "colab": {
          "base_uri": "https://localhost:8080/",
          "height": 219
        },
        "outputId": "2574f5f7-7e10-41e9-b023-070eee232a18"
      },
      "source": [
        "df.transpose() #permet de transposer le tableau"
      ],
      "execution_count": 174,
      "outputs": [
        {
          "output_type": "execute_result",
          "data": {
            "text/html": [
              "<div>\n",
              "<style scoped>\n",
              "    .dataframe tbody tr th:only-of-type {\n",
              "        vertical-align: middle;\n",
              "    }\n",
              "\n",
              "    .dataframe tbody tr th {\n",
              "        vertical-align: top;\n",
              "    }\n",
              "\n",
              "    .dataframe thead th {\n",
              "        text-align: right;\n",
              "    }\n",
              "</style>\n",
              "<table border=\"1\" class=\"dataframe\">\n",
              "  <thead>\n",
              "    <tr style=\"text-align: right;\">\n",
              "      <th></th>\n",
              "      <th>0</th>\n",
              "      <th>1</th>\n",
              "      <th>2</th>\n",
              "      <th>3</th>\n",
              "      <th>4</th>\n",
              "      <th>5</th>\n",
              "      <th>6</th>\n",
              "      <th>7</th>\n",
              "      <th>8</th>\n",
              "      <th>9</th>\n",
              "      <th>10</th>\n",
              "      <th>11</th>\n",
              "    </tr>\n",
              "  </thead>\n",
              "  <tbody>\n",
              "    <tr>\n",
              "      <th>address</th>\n",
              "      <td>Rue de Fer 26, 5000 Namur</td>\n",
              "      <td>Rue de Bruxelles 42, 5000 Namur</td>\n",
              "      <td>Porte de Namur 25, Bruxelles</td>\n",
              "      <td>Rue de L'Eglise 42, Charleroi</td>\n",
              "      <td>Rue Saint-ghislain 30, 6224 Fleurus</td>\n",
              "      <td>Rue de la Closière 20, Fleurus</td>\n",
              "      <td>Rue de la Closière 20, Fleurus</td>\n",
              "      <td>Rue de Fer 25, 5000 Namur</td>\n",
              "      <td>Rue du Luxembourg 15, 1000 Bruxelles</td>\n",
              "      <td>NaN</td>\n",
              "      <td>Rue de Bruxelles 42, 5000 Namur</td>\n",
              "      <td>Rue de la Loi 50, Bruxelles</td>\n",
              "    </tr>\n",
              "    <tr>\n",
              "      <th>website</th>\n",
              "      <td>immoweb</td>\n",
              "      <td>immoweb</td>\n",
              "      <td>immoweb</td>\n",
              "      <td>immoweb</td>\n",
              "      <td>immoweb</td>\n",
              "      <td>immoweb</td>\n",
              "      <td>immoweb</td>\n",
              "      <td>immovlan</td>\n",
              "      <td>immovlan</td>\n",
              "      <td>immovlan</td>\n",
              "      <td>immovlan</td>\n",
              "      <td>immovlan</td>\n",
              "    </tr>\n",
              "    <tr>\n",
              "      <th>price</th>\n",
              "      <td>400000</td>\n",
              "      <td>350000</td>\n",
              "      <td>400000</td>\n",
              "      <td>150000</td>\n",
              "      <td>290000</td>\n",
              "      <td>230000</td>\n",
              "      <td>230000</td>\n",
              "      <td>0</td>\n",
              "      <td>-100</td>\n",
              "      <td>NaN</td>\n",
              "      <td>350000</td>\n",
              "      <td>700000</td>\n",
              "    </tr>\n",
              "    <tr>\n",
              "      <th>surface</th>\n",
              "      <td>150</td>\n",
              "      <td>200</td>\n",
              "      <td>120</td>\n",
              "      <td>150</td>\n",
              "      <td>320</td>\n",
              "      <td>175</td>\n",
              "      <td>170</td>\n",
              "      <td>170</td>\n",
              "      <td>100</td>\n",
              "      <td>100</td>\n",
              "      <td>200</td>\n",
              "      <td>220</td>\n",
              "    </tr>\n",
              "    <tr>\n",
              "      <th>rooms</th>\n",
              "      <td>3</td>\n",
              "      <td>4</td>\n",
              "      <td>5</td>\n",
              "      <td>5</td>\n",
              "      <td>3</td>\n",
              "      <td>2</td>\n",
              "      <td>3</td>\n",
              "      <td>3</td>\n",
              "      <td>NaN</td>\n",
              "      <td>0</td>\n",
              "      <td>4</td>\n",
              "      <td>4</td>\n",
              "    </tr>\n",
              "  </tbody>\n",
              "</table>\n",
              "</div>"
            ],
            "text/plain": [
              "                                0   ...                           11\n",
              "address  Rue de Fer 26, 5000 Namur  ...  Rue de la Loi 50, Bruxelles\n",
              "website                    immoweb  ...                     immovlan\n",
              "price                       400000  ...                       700000\n",
              "surface                        150  ...                          220\n",
              "rooms                            3  ...                            4\n",
              "\n",
              "[5 rows x 12 columns]"
            ]
          },
          "metadata": {
            "tags": []
          },
          "execution_count": 174
        }
      ]
    },
    {
      "cell_type": "code",
      "metadata": {
        "id": "5o6yoFzTYnZX",
        "colab_type": "code",
        "colab": {
          "base_uri": "https://localhost:8080/",
          "height": 447
        },
        "outputId": "d40be38a-2767-4af5-ab44-ece5dbe5e664"
      },
      "source": [
        "df.set_index(\"address\") #permet de modifier l'index"
      ],
      "execution_count": 175,
      "outputs": [
        {
          "output_type": "execute_result",
          "data": {
            "text/html": [
              "<div>\n",
              "<style scoped>\n",
              "    .dataframe tbody tr th:only-of-type {\n",
              "        vertical-align: middle;\n",
              "    }\n",
              "\n",
              "    .dataframe tbody tr th {\n",
              "        vertical-align: top;\n",
              "    }\n",
              "\n",
              "    .dataframe thead th {\n",
              "        text-align: right;\n",
              "    }\n",
              "</style>\n",
              "<table border=\"1\" class=\"dataframe\">\n",
              "  <thead>\n",
              "    <tr style=\"text-align: right;\">\n",
              "      <th></th>\n",
              "      <th>website</th>\n",
              "      <th>price</th>\n",
              "      <th>surface</th>\n",
              "      <th>rooms</th>\n",
              "    </tr>\n",
              "    <tr>\n",
              "      <th>address</th>\n",
              "      <th></th>\n",
              "      <th></th>\n",
              "      <th></th>\n",
              "      <th></th>\n",
              "    </tr>\n",
              "  </thead>\n",
              "  <tbody>\n",
              "    <tr>\n",
              "      <th>Rue de Fer 26, 5000 Namur</th>\n",
              "      <td>immoweb</td>\n",
              "      <td>400000.0</td>\n",
              "      <td>150</td>\n",
              "      <td>3.0</td>\n",
              "    </tr>\n",
              "    <tr>\n",
              "      <th>Rue de Bruxelles 42, 5000 Namur</th>\n",
              "      <td>immoweb</td>\n",
              "      <td>350000.0</td>\n",
              "      <td>200</td>\n",
              "      <td>4.0</td>\n",
              "    </tr>\n",
              "    <tr>\n",
              "      <th>Porte de Namur 25, Bruxelles</th>\n",
              "      <td>immoweb</td>\n",
              "      <td>400000.0</td>\n",
              "      <td>120</td>\n",
              "      <td>5.0</td>\n",
              "    </tr>\n",
              "    <tr>\n",
              "      <th>Rue de L'Eglise 42, Charleroi</th>\n",
              "      <td>immoweb</td>\n",
              "      <td>150000.0</td>\n",
              "      <td>150</td>\n",
              "      <td>5.0</td>\n",
              "    </tr>\n",
              "    <tr>\n",
              "      <th>Rue Saint-ghislain 30, 6224 Fleurus</th>\n",
              "      <td>immoweb</td>\n",
              "      <td>290000.0</td>\n",
              "      <td>320</td>\n",
              "      <td>3.0</td>\n",
              "    </tr>\n",
              "    <tr>\n",
              "      <th>Rue de la Closière 20, Fleurus</th>\n",
              "      <td>immoweb</td>\n",
              "      <td>230000.0</td>\n",
              "      <td>175</td>\n",
              "      <td>2.0</td>\n",
              "    </tr>\n",
              "    <tr>\n",
              "      <th>Rue de la Closière 20, Fleurus</th>\n",
              "      <td>immoweb</td>\n",
              "      <td>230000.0</td>\n",
              "      <td>170</td>\n",
              "      <td>3.0</td>\n",
              "    </tr>\n",
              "    <tr>\n",
              "      <th>Rue de Fer 25, 5000 Namur</th>\n",
              "      <td>immovlan</td>\n",
              "      <td>0.0</td>\n",
              "      <td>170</td>\n",
              "      <td>3.0</td>\n",
              "    </tr>\n",
              "    <tr>\n",
              "      <th>Rue du Luxembourg 15, 1000 Bruxelles</th>\n",
              "      <td>immovlan</td>\n",
              "      <td>-100.0</td>\n",
              "      <td>100</td>\n",
              "      <td>NaN</td>\n",
              "    </tr>\n",
              "    <tr>\n",
              "      <th>NaN</th>\n",
              "      <td>immovlan</td>\n",
              "      <td>NaN</td>\n",
              "      <td>100</td>\n",
              "      <td>0.0</td>\n",
              "    </tr>\n",
              "    <tr>\n",
              "      <th>Rue de Bruxelles 42, 5000 Namur</th>\n",
              "      <td>immovlan</td>\n",
              "      <td>350000.0</td>\n",
              "      <td>200</td>\n",
              "      <td>4.0</td>\n",
              "    </tr>\n",
              "    <tr>\n",
              "      <th>Rue de la Loi 50, Bruxelles</th>\n",
              "      <td>immovlan</td>\n",
              "      <td>700000.0</td>\n",
              "      <td>220</td>\n",
              "      <td>4.0</td>\n",
              "    </tr>\n",
              "  </tbody>\n",
              "</table>\n",
              "</div>"
            ],
            "text/plain": [
              "                                       website     price  surface  rooms\n",
              "address                                                                 \n",
              "Rue de Fer 26, 5000 Namur              immoweb  400000.0      150    3.0\n",
              "Rue de Bruxelles 42, 5000 Namur        immoweb  350000.0      200    4.0\n",
              "Porte de Namur 25, Bruxelles           immoweb  400000.0      120    5.0\n",
              "Rue de L'Eglise 42, Charleroi          immoweb  150000.0      150    5.0\n",
              "Rue Saint-ghislain 30, 6224 Fleurus    immoweb  290000.0      320    3.0\n",
              "Rue de la Closière 20, Fleurus         immoweb  230000.0      175    2.0\n",
              "Rue de la Closière 20, Fleurus         immoweb  230000.0      170    3.0\n",
              "Rue de Fer 25, 5000 Namur             immovlan       0.0      170    3.0\n",
              "Rue du Luxembourg 15, 1000 Bruxelles  immovlan    -100.0      100    NaN\n",
              "NaN                                   immovlan       NaN      100    0.0\n",
              "Rue de Bruxelles 42, 5000 Namur       immovlan  350000.0      200    4.0\n",
              "Rue de la Loi 50, Bruxelles           immovlan  700000.0      220    4.0"
            ]
          },
          "metadata": {
            "tags": []
          },
          "execution_count": 175
        }
      ]
    },
    {
      "cell_type": "code",
      "metadata": {
        "id": "OWuB83OZYELm",
        "colab_type": "code",
        "colab": {
          "base_uri": "https://localhost:8080/",
          "height": 468
        },
        "outputId": "9b840b65-19d0-46f8-faad-a78adf6b7912"
      },
      "source": [
        "#Accès à une colonne\n",
        "print(df[\"price\"])\n",
        "#ou\n",
        "df.price"
      ],
      "execution_count": 188,
      "outputs": [
        {
          "output_type": "stream",
          "text": [
            "0     400000.0\n",
            "1     350000.0\n",
            "2     400000.0\n",
            "3     150000.0\n",
            "4     290000.0\n",
            "5     230000.0\n",
            "6     230000.0\n",
            "7          0.0\n",
            "8       -100.0\n",
            "9          NaN\n",
            "10    350000.0\n",
            "11    700000.0\n",
            "Name: price, dtype: float64\n"
          ],
          "name": "stdout"
        },
        {
          "output_type": "execute_result",
          "data": {
            "text/plain": [
              "0     400000.0\n",
              "1     350000.0\n",
              "2     400000.0\n",
              "3     150000.0\n",
              "4     290000.0\n",
              "5     230000.0\n",
              "6     230000.0\n",
              "7          0.0\n",
              "8       -100.0\n",
              "9          NaN\n",
              "10    350000.0\n",
              "11    700000.0\n",
              "Name: price, dtype: float64"
            ]
          },
          "metadata": {
            "tags": []
          },
          "execution_count": 188
        }
      ]
    },
    {
      "cell_type": "code",
      "metadata": {
        "id": "qzrlDEKiYxU3",
        "colab_type": "code",
        "colab": {
          "base_uri": "https://localhost:8080/",
          "height": 417
        },
        "outputId": "c76ed135-ea31-420c-c931-3878b70e6913"
      },
      "source": [
        "#Accès à plusieurs colonnes\n",
        "df[[\"price\",\"surface\"]]"
      ],
      "execution_count": 177,
      "outputs": [
        {
          "output_type": "execute_result",
          "data": {
            "text/html": [
              "<div>\n",
              "<style scoped>\n",
              "    .dataframe tbody tr th:only-of-type {\n",
              "        vertical-align: middle;\n",
              "    }\n",
              "\n",
              "    .dataframe tbody tr th {\n",
              "        vertical-align: top;\n",
              "    }\n",
              "\n",
              "    .dataframe thead th {\n",
              "        text-align: right;\n",
              "    }\n",
              "</style>\n",
              "<table border=\"1\" class=\"dataframe\">\n",
              "  <thead>\n",
              "    <tr style=\"text-align: right;\">\n",
              "      <th></th>\n",
              "      <th>price</th>\n",
              "      <th>surface</th>\n",
              "    </tr>\n",
              "  </thead>\n",
              "  <tbody>\n",
              "    <tr>\n",
              "      <th>0</th>\n",
              "      <td>400000.0</td>\n",
              "      <td>150</td>\n",
              "    </tr>\n",
              "    <tr>\n",
              "      <th>1</th>\n",
              "      <td>350000.0</td>\n",
              "      <td>200</td>\n",
              "    </tr>\n",
              "    <tr>\n",
              "      <th>2</th>\n",
              "      <td>400000.0</td>\n",
              "      <td>120</td>\n",
              "    </tr>\n",
              "    <tr>\n",
              "      <th>3</th>\n",
              "      <td>150000.0</td>\n",
              "      <td>150</td>\n",
              "    </tr>\n",
              "    <tr>\n",
              "      <th>4</th>\n",
              "      <td>290000.0</td>\n",
              "      <td>320</td>\n",
              "    </tr>\n",
              "    <tr>\n",
              "      <th>5</th>\n",
              "      <td>230000.0</td>\n",
              "      <td>175</td>\n",
              "    </tr>\n",
              "    <tr>\n",
              "      <th>6</th>\n",
              "      <td>230000.0</td>\n",
              "      <td>170</td>\n",
              "    </tr>\n",
              "    <tr>\n",
              "      <th>7</th>\n",
              "      <td>0.0</td>\n",
              "      <td>170</td>\n",
              "    </tr>\n",
              "    <tr>\n",
              "      <th>8</th>\n",
              "      <td>-100.0</td>\n",
              "      <td>100</td>\n",
              "    </tr>\n",
              "    <tr>\n",
              "      <th>9</th>\n",
              "      <td>NaN</td>\n",
              "      <td>100</td>\n",
              "    </tr>\n",
              "    <tr>\n",
              "      <th>10</th>\n",
              "      <td>350000.0</td>\n",
              "      <td>200</td>\n",
              "    </tr>\n",
              "    <tr>\n",
              "      <th>11</th>\n",
              "      <td>700000.0</td>\n",
              "      <td>220</td>\n",
              "    </tr>\n",
              "  </tbody>\n",
              "</table>\n",
              "</div>"
            ],
            "text/plain": [
              "       price  surface\n",
              "0   400000.0      150\n",
              "1   350000.0      200\n",
              "2   400000.0      120\n",
              "3   150000.0      150\n",
              "4   290000.0      320\n",
              "5   230000.0      175\n",
              "6   230000.0      170\n",
              "7        0.0      170\n",
              "8     -100.0      100\n",
              "9        NaN      100\n",
              "10  350000.0      200\n",
              "11  700000.0      220"
            ]
          },
          "metadata": {
            "tags": []
          },
          "execution_count": 177
        }
      ]
    },
    {
      "cell_type": "code",
      "metadata": {
        "id": "H8tESOPCYpFN",
        "colab_type": "code",
        "colab": {
          "base_uri": "https://localhost:8080/",
          "height": 121
        },
        "outputId": "9e066c0b-13ba-451c-c2f5-606686d73c07"
      },
      "source": [
        "#Accès à une ligne\n",
        "#par label: loc\n",
        "print(df.loc[0])"
      ],
      "execution_count": 178,
      "outputs": [
        {
          "output_type": "stream",
          "text": [
            "address    Rue de Fer 26, 5000 Namur\n",
            "website                      immoweb\n",
            "price                         400000\n",
            "surface                          150\n",
            "rooms                              3\n",
            "Name: 0, dtype: object\n"
          ],
          "name": "stdout"
        }
      ]
    },
    {
      "cell_type": "code",
      "metadata": {
        "id": "kBGAsJHja9Iu",
        "colab_type": "code",
        "colab": {
          "base_uri": "https://localhost:8080/",
          "height": 121
        },
        "outputId": "65609740-09e7-4d17-c897-0f923959eba6"
      },
      "source": [
        "#par un entier: iloc (dans ce cas ça revient au même puisque l'index correspond à des entiers de 0 à 11)\n",
        "df.iloc[0]"
      ],
      "execution_count": 179,
      "outputs": [
        {
          "output_type": "execute_result",
          "data": {
            "text/plain": [
              "address    Rue de Fer 26, 5000 Namur\n",
              "website                      immoweb\n",
              "price                         400000\n",
              "surface                          150\n",
              "rooms                              3\n",
              "Name: 0, dtype: object"
            ]
          },
          "metadata": {
            "tags": []
          },
          "execution_count": 179
        }
      ]
    },
    {
      "cell_type": "code",
      "metadata": {
        "id": "jzz6e0ibZATG",
        "colab_type": "code",
        "colab": {
          "base_uri": "https://localhost:8080/",
          "height": 104
        },
        "outputId": "c4166e19-06ae-4e8f-f15a-bbeaab867921"
      },
      "source": [
        "#Accès à une ligne\n",
        "print(df.set_index(\"address\").loc[\"NaN\"])"
      ],
      "execution_count": 180,
      "outputs": [
        {
          "output_type": "stream",
          "text": [
            "website    immovlan\n",
            "price           NaN\n",
            "surface         100\n",
            "rooms             0\n",
            "Name: NaN, dtype: object\n"
          ],
          "name": "stdout"
        }
      ]
    },
    {
      "cell_type": "code",
      "metadata": {
        "id": "ZaERu77dabJp",
        "colab_type": "code",
        "colab": {
          "base_uri": "https://localhost:8080/",
          "height": 104
        },
        "outputId": "e0d91435-27d3-4575-f986-06332e74b840"
      },
      "source": [
        "df.set_index(\"address\").iloc[0]"
      ],
      "execution_count": 181,
      "outputs": [
        {
          "output_type": "execute_result",
          "data": {
            "text/plain": [
              "website    immoweb\n",
              "price       400000\n",
              "surface        150\n",
              "rooms            3\n",
              "Name: Rue de Fer 26, 5000 Namur, dtype: object"
            ]
          },
          "metadata": {
            "tags": []
          },
          "execution_count": 181
        }
      ]
    },
    {
      "cell_type": "code",
      "metadata": {
        "id": "7XQBSbOKZRkg",
        "colab_type": "code",
        "colab": {
          "base_uri": "https://localhost:8080/",
          "height": 35
        },
        "outputId": "68b3a03d-51bd-4a0f-a238-73dbe134220a"
      },
      "source": [
        "#Accès à un/plusieurs élément(s)\n",
        "df.iloc[0,0]"
      ],
      "execution_count": 182,
      "outputs": [
        {
          "output_type": "execute_result",
          "data": {
            "text/plain": [
              "'Rue de Fer 26, 5000 Namur'"
            ]
          },
          "metadata": {
            "tags": []
          },
          "execution_count": 182
        }
      ]
    },
    {
      "cell_type": "code",
      "metadata": {
        "id": "qXzeZQxQaHNg",
        "colab_type": "code",
        "colab": {
          "base_uri": "https://localhost:8080/",
          "height": 110
        },
        "outputId": "318c54fa-6431-4fd9-e8fe-c56f95f031df"
      },
      "source": [
        "df.iloc[0:2,0:2]"
      ],
      "execution_count": 183,
      "outputs": [
        {
          "output_type": "execute_result",
          "data": {
            "text/html": [
              "<div>\n",
              "<style scoped>\n",
              "    .dataframe tbody tr th:only-of-type {\n",
              "        vertical-align: middle;\n",
              "    }\n",
              "\n",
              "    .dataframe tbody tr th {\n",
              "        vertical-align: top;\n",
              "    }\n",
              "\n",
              "    .dataframe thead th {\n",
              "        text-align: right;\n",
              "    }\n",
              "</style>\n",
              "<table border=\"1\" class=\"dataframe\">\n",
              "  <thead>\n",
              "    <tr style=\"text-align: right;\">\n",
              "      <th></th>\n",
              "      <th>address</th>\n",
              "      <th>website</th>\n",
              "    </tr>\n",
              "  </thead>\n",
              "  <tbody>\n",
              "    <tr>\n",
              "      <th>0</th>\n",
              "      <td>Rue de Fer 26, 5000 Namur</td>\n",
              "      <td>immoweb</td>\n",
              "    </tr>\n",
              "    <tr>\n",
              "      <th>1</th>\n",
              "      <td>Rue de Bruxelles 42, 5000 Namur</td>\n",
              "      <td>immoweb</td>\n",
              "    </tr>\n",
              "  </tbody>\n",
              "</table>\n",
              "</div>"
            ],
            "text/plain": [
              "                           address  website\n",
              "0        Rue de Fer 26, 5000 Namur  immoweb\n",
              "1  Rue de Bruxelles 42, 5000 Namur  immoweb"
            ]
          },
          "metadata": {
            "tags": []
          },
          "execution_count": 183
        }
      ]
    },
    {
      "cell_type": "code",
      "metadata": {
        "id": "1xTeVue7aJon",
        "colab_type": "code",
        "colab": {
          "base_uri": "https://localhost:8080/",
          "height": 35
        },
        "outputId": "ae595cc7-f2d1-4a22-d48c-68419764b497"
      },
      "source": [
        "df.loc[0,\"price\"]"
      ],
      "execution_count": 184,
      "outputs": [
        {
          "output_type": "execute_result",
          "data": {
            "text/plain": [
              "400000.0"
            ]
          },
          "metadata": {
            "tags": []
          },
          "execution_count": 184
        }
      ]
    },
    {
      "cell_type": "code",
      "metadata": {
        "id": "msEMFzalaOMI",
        "colab_type": "code",
        "colab": {
          "base_uri": "https://localhost:8080/",
          "height": 69
        },
        "outputId": "c91fbbd9-bb24-4d68-9d4e-ee89cb880301"
      },
      "source": [
        "df.loc[0,[\"price\",\"surface\"]]"
      ],
      "execution_count": 185,
      "outputs": [
        {
          "output_type": "execute_result",
          "data": {
            "text/plain": [
              "price      400000\n",
              "surface       150\n",
              "Name: 0, dtype: object"
            ]
          },
          "metadata": {
            "tags": []
          },
          "execution_count": 185
        }
      ]
    },
    {
      "cell_type": "code",
      "metadata": {
        "id": "iqErTTDoaPj6",
        "colab_type": "code",
        "colab": {
          "base_uri": "https://localhost:8080/",
          "height": 171
        },
        "outputId": "82f08ae2-cc75-4dbb-abf4-c613418a45b7"
      },
      "source": [
        "df.loc[0:3,[\"price\",\"surface\"]]"
      ],
      "execution_count": 186,
      "outputs": [
        {
          "output_type": "execute_result",
          "data": {
            "text/html": [
              "<div>\n",
              "<style scoped>\n",
              "    .dataframe tbody tr th:only-of-type {\n",
              "        vertical-align: middle;\n",
              "    }\n",
              "\n",
              "    .dataframe tbody tr th {\n",
              "        vertical-align: top;\n",
              "    }\n",
              "\n",
              "    .dataframe thead th {\n",
              "        text-align: right;\n",
              "    }\n",
              "</style>\n",
              "<table border=\"1\" class=\"dataframe\">\n",
              "  <thead>\n",
              "    <tr style=\"text-align: right;\">\n",
              "      <th></th>\n",
              "      <th>price</th>\n",
              "      <th>surface</th>\n",
              "    </tr>\n",
              "  </thead>\n",
              "  <tbody>\n",
              "    <tr>\n",
              "      <th>0</th>\n",
              "      <td>400000.0</td>\n",
              "      <td>150</td>\n",
              "    </tr>\n",
              "    <tr>\n",
              "      <th>1</th>\n",
              "      <td>350000.0</td>\n",
              "      <td>200</td>\n",
              "    </tr>\n",
              "    <tr>\n",
              "      <th>2</th>\n",
              "      <td>400000.0</td>\n",
              "      <td>120</td>\n",
              "    </tr>\n",
              "    <tr>\n",
              "      <th>3</th>\n",
              "      <td>150000.0</td>\n",
              "      <td>150</td>\n",
              "    </tr>\n",
              "  </tbody>\n",
              "</table>\n",
              "</div>"
            ],
            "text/plain": [
              "      price  surface\n",
              "0  400000.0      150\n",
              "1  350000.0      200\n",
              "2  400000.0      120\n",
              "3  150000.0      150"
            ]
          },
          "metadata": {
            "tags": []
          },
          "execution_count": 186
        }
      ]
    },
    {
      "cell_type": "markdown",
      "metadata": {
        "id": "pBs1LmXgcgk5",
        "colab_type": "text"
      },
      "source": [
        "## Exploration statistique du dataframe\n"
      ]
    },
    {
      "cell_type": "markdown",
      "metadata": {
        "id": "czsPJk69ihKw",
        "colab_type": "text"
      },
      "source": [
        "Avant même de corriger le dataframe, il peut être intéressant de réaliser une première exploration statistique, qui permet parfois de se rendre compte directement des données à corriger.\n",
        "\n",
        "df.describe() permet de calculer différents aggrégats (des statistiques de base) pour toutes les colonnes numériques.\n",
        "\n",
        "* On remarque directement des données incohérentes: le prix minimum est négatif, et le nombre de pièces minimum est 0. Il faut donc au moins corriger ces deux caractéristiques.\n",
        "* Il manque des valeurs pour les colonnes price et rooms (11 au lieu de 12). (Note: df.dropna() permet d'éliminer ces lignes invalides)\n",
        "* Les valeurs moyennes et maximales semble cohérentes."
      ]
    },
    {
      "cell_type": "code",
      "metadata": {
        "id": "ipSGQZLvcOIX",
        "colab_type": "code",
        "colab": {
          "base_uri": "https://localhost:8080/",
          "height": 294
        },
        "outputId": "9450bfac-c9b3-4642-b03f-ee9ac52cd0eb"
      },
      "source": [
        "df.describe()"
      ],
      "execution_count": 208,
      "outputs": [
        {
          "output_type": "execute_result",
          "data": {
            "text/html": [
              "<div>\n",
              "<style scoped>\n",
              "    .dataframe tbody tr th:only-of-type {\n",
              "        vertical-align: middle;\n",
              "    }\n",
              "\n",
              "    .dataframe tbody tr th {\n",
              "        vertical-align: top;\n",
              "    }\n",
              "\n",
              "    .dataframe thead th {\n",
              "        text-align: right;\n",
              "    }\n",
              "</style>\n",
              "<table border=\"1\" class=\"dataframe\">\n",
              "  <thead>\n",
              "    <tr style=\"text-align: right;\">\n",
              "      <th></th>\n",
              "      <th>price</th>\n",
              "      <th>surface</th>\n",
              "      <th>rooms</th>\n",
              "    </tr>\n",
              "  </thead>\n",
              "  <tbody>\n",
              "    <tr>\n",
              "      <th>count</th>\n",
              "      <td>11.000000</td>\n",
              "      <td>12.000000</td>\n",
              "      <td>11.000000</td>\n",
              "    </tr>\n",
              "    <tr>\n",
              "      <th>mean</th>\n",
              "      <td>281809.090909</td>\n",
              "      <td>172.916667</td>\n",
              "      <td>3.272727</td>\n",
              "    </tr>\n",
              "    <tr>\n",
              "      <th>std</th>\n",
              "      <td>198448.988179</td>\n",
              "      <td>60.168639</td>\n",
              "      <td>1.420627</td>\n",
              "    </tr>\n",
              "    <tr>\n",
              "      <th>min</th>\n",
              "      <td>-100.000000</td>\n",
              "      <td>100.000000</td>\n",
              "      <td>0.000000</td>\n",
              "    </tr>\n",
              "    <tr>\n",
              "      <th>25%</th>\n",
              "      <td>190000.000000</td>\n",
              "      <td>142.500000</td>\n",
              "      <td>3.000000</td>\n",
              "    </tr>\n",
              "    <tr>\n",
              "      <th>50%</th>\n",
              "      <td>290000.000000</td>\n",
              "      <td>170.000000</td>\n",
              "      <td>3.000000</td>\n",
              "    </tr>\n",
              "    <tr>\n",
              "      <th>75%</th>\n",
              "      <td>375000.000000</td>\n",
              "      <td>200.000000</td>\n",
              "      <td>4.000000</td>\n",
              "    </tr>\n",
              "    <tr>\n",
              "      <th>max</th>\n",
              "      <td>700000.000000</td>\n",
              "      <td>320.000000</td>\n",
              "      <td>5.000000</td>\n",
              "    </tr>\n",
              "  </tbody>\n",
              "</table>\n",
              "</div>"
            ],
            "text/plain": [
              "               price     surface      rooms\n",
              "count      11.000000   12.000000  11.000000\n",
              "mean   281809.090909  172.916667   3.272727\n",
              "std    198448.988179   60.168639   1.420627\n",
              "min      -100.000000  100.000000   0.000000\n",
              "25%    190000.000000  142.500000   3.000000\n",
              "50%    290000.000000  170.000000   3.000000\n",
              "75%    375000.000000  200.000000   4.000000\n",
              "max    700000.000000  320.000000   5.000000"
            ]
          },
          "metadata": {
            "tags": []
          },
          "execution_count": 208
        }
      ]
    },
    {
      "cell_type": "markdown",
      "metadata": {
        "id": "gygRr631emVQ",
        "colab_type": "text"
      },
      "source": [
        "La méthode \"groupby\" permet de grouper les données selon leur adresse (on obtient un groupe par addresse unique), et la méthode \"count\" permet ensuite de compter les valeurs pour chaque groupe. Ceci permet de directement identifier les doublons, et les données non-valides.\n",
        "\n",
        "* On distingue 2 doublons (sur 10 adresses uniques): Rue de Bruxelles 42, 5000 Namur et Rue de la Closière 20, Fleurus\n",
        "\n",
        "* On remarque aussi des données invalides pour deux adresses: il manque le prix pour \"NaN\", de le nombre de pièces pour \"Rue du Luxembourg 15, 1000 Bruxelles\"\n",
        "* On aperçoit une adresse invalide: \"NaN\", qu'on peut enlever manuellement\n",
        "\n",
        "Note: df.dropna() permet d'éliminer directement ces données invalides (des NaN)"
      ]
    },
    {
      "cell_type": "code",
      "metadata": {
        "id": "E6h4M8_4dHJ5",
        "colab_type": "code",
        "colab": {
          "base_uri": "https://localhost:8080/",
          "height": 386
        },
        "outputId": "18760fdd-7c00-4b5b-b60d-b0c69bf4b8dc"
      },
      "source": [
        "df.groupby(\"address\").count()"
      ],
      "execution_count": 211,
      "outputs": [
        {
          "output_type": "execute_result",
          "data": {
            "text/html": [
              "<div>\n",
              "<style scoped>\n",
              "    .dataframe tbody tr th:only-of-type {\n",
              "        vertical-align: middle;\n",
              "    }\n",
              "\n",
              "    .dataframe tbody tr th {\n",
              "        vertical-align: top;\n",
              "    }\n",
              "\n",
              "    .dataframe thead th {\n",
              "        text-align: right;\n",
              "    }\n",
              "</style>\n",
              "<table border=\"1\" class=\"dataframe\">\n",
              "  <thead>\n",
              "    <tr style=\"text-align: right;\">\n",
              "      <th></th>\n",
              "      <th>website</th>\n",
              "      <th>price</th>\n",
              "      <th>surface</th>\n",
              "      <th>rooms</th>\n",
              "    </tr>\n",
              "    <tr>\n",
              "      <th>address</th>\n",
              "      <th></th>\n",
              "      <th></th>\n",
              "      <th></th>\n",
              "      <th></th>\n",
              "    </tr>\n",
              "  </thead>\n",
              "  <tbody>\n",
              "    <tr>\n",
              "      <th>NaN</th>\n",
              "      <td>1</td>\n",
              "      <td>0</td>\n",
              "      <td>1</td>\n",
              "      <td>1</td>\n",
              "    </tr>\n",
              "    <tr>\n",
              "      <th>Porte de Namur 25, Bruxelles</th>\n",
              "      <td>1</td>\n",
              "      <td>1</td>\n",
              "      <td>1</td>\n",
              "      <td>1</td>\n",
              "    </tr>\n",
              "    <tr>\n",
              "      <th>Rue Saint-ghislain 30, 6224 Fleurus</th>\n",
              "      <td>1</td>\n",
              "      <td>1</td>\n",
              "      <td>1</td>\n",
              "      <td>1</td>\n",
              "    </tr>\n",
              "    <tr>\n",
              "      <th>Rue de Bruxelles 42, 5000 Namur</th>\n",
              "      <td>2</td>\n",
              "      <td>2</td>\n",
              "      <td>2</td>\n",
              "      <td>2</td>\n",
              "    </tr>\n",
              "    <tr>\n",
              "      <th>Rue de Fer 25, 5000 Namur</th>\n",
              "      <td>1</td>\n",
              "      <td>1</td>\n",
              "      <td>1</td>\n",
              "      <td>1</td>\n",
              "    </tr>\n",
              "    <tr>\n",
              "      <th>Rue de Fer 26, 5000 Namur</th>\n",
              "      <td>1</td>\n",
              "      <td>1</td>\n",
              "      <td>1</td>\n",
              "      <td>1</td>\n",
              "    </tr>\n",
              "    <tr>\n",
              "      <th>Rue de L'Eglise 42, Charleroi</th>\n",
              "      <td>1</td>\n",
              "      <td>1</td>\n",
              "      <td>1</td>\n",
              "      <td>1</td>\n",
              "    </tr>\n",
              "    <tr>\n",
              "      <th>Rue de la Closière 20, Fleurus</th>\n",
              "      <td>2</td>\n",
              "      <td>2</td>\n",
              "      <td>2</td>\n",
              "      <td>2</td>\n",
              "    </tr>\n",
              "    <tr>\n",
              "      <th>Rue de la Loi 50, Bruxelles</th>\n",
              "      <td>1</td>\n",
              "      <td>1</td>\n",
              "      <td>1</td>\n",
              "      <td>1</td>\n",
              "    </tr>\n",
              "    <tr>\n",
              "      <th>Rue du Luxembourg 15, 1000 Bruxelles</th>\n",
              "      <td>1</td>\n",
              "      <td>1</td>\n",
              "      <td>1</td>\n",
              "      <td>0</td>\n",
              "    </tr>\n",
              "  </tbody>\n",
              "</table>\n",
              "</div>"
            ],
            "text/plain": [
              "                                      website  price  surface  rooms\n",
              "address                                                             \n",
              "NaN                                         1      0        1      1\n",
              "Porte de Namur 25, Bruxelles                1      1        1      1\n",
              "Rue Saint-ghislain 30, 6224 Fleurus         1      1        1      1\n",
              "Rue de Bruxelles 42, 5000 Namur             2      2        2      2\n",
              "Rue de Fer 25, 5000 Namur                   1      1        1      1\n",
              "Rue de Fer 26, 5000 Namur                   1      1        1      1\n",
              "Rue de L'Eglise 42, Charleroi               1      1        1      1\n",
              "Rue de la Closière 20, Fleurus              2      2        2      2\n",
              "Rue de la Loi 50, Bruxelles                 1      1        1      1\n",
              "Rue du Luxembourg 15, 1000 Bruxelles        1      1        1      0"
            ]
          },
          "metadata": {
            "tags": []
          },
          "execution_count": 211
        }
      ]
    },
    {
      "cell_type": "markdown",
      "metadata": {
        "id": "Ri8VqV6lhD7t",
        "colab_type": "text"
      },
      "source": [
        "On peut réaliser le même processus pour l'autre colonne textuelle: website\n",
        "\n",
        "* On remarque en l'occurrence que plus de données viennent d'immoweb, et plus particulièrement que les données invalides viennent toutes de immovlan"
      ]
    },
    {
      "cell_type": "code",
      "metadata": {
        "id": "Asdqxln6g7Mj",
        "colab_type": "code",
        "colab": {
          "base_uri": "https://localhost:8080/",
          "height": 141
        },
        "outputId": "3498032a-16bc-478d-b272-54353dc7651f"
      },
      "source": [
        "df.groupby(\"website\").count()"
      ],
      "execution_count": 212,
      "outputs": [
        {
          "output_type": "execute_result",
          "data": {
            "text/html": [
              "<div>\n",
              "<style scoped>\n",
              "    .dataframe tbody tr th:only-of-type {\n",
              "        vertical-align: middle;\n",
              "    }\n",
              "\n",
              "    .dataframe tbody tr th {\n",
              "        vertical-align: top;\n",
              "    }\n",
              "\n",
              "    .dataframe thead th {\n",
              "        text-align: right;\n",
              "    }\n",
              "</style>\n",
              "<table border=\"1\" class=\"dataframe\">\n",
              "  <thead>\n",
              "    <tr style=\"text-align: right;\">\n",
              "      <th></th>\n",
              "      <th>address</th>\n",
              "      <th>price</th>\n",
              "      <th>surface</th>\n",
              "      <th>rooms</th>\n",
              "    </tr>\n",
              "    <tr>\n",
              "      <th>website</th>\n",
              "      <th></th>\n",
              "      <th></th>\n",
              "      <th></th>\n",
              "      <th></th>\n",
              "    </tr>\n",
              "  </thead>\n",
              "  <tbody>\n",
              "    <tr>\n",
              "      <th>immovlan</th>\n",
              "      <td>5</td>\n",
              "      <td>4</td>\n",
              "      <td>5</td>\n",
              "      <td>4</td>\n",
              "    </tr>\n",
              "    <tr>\n",
              "      <th>immoweb</th>\n",
              "      <td>7</td>\n",
              "      <td>7</td>\n",
              "      <td>7</td>\n",
              "      <td>7</td>\n",
              "    </tr>\n",
              "  </tbody>\n",
              "</table>\n",
              "</div>"
            ],
            "text/plain": [
              "          address  price  surface  rooms\n",
              "website                                 \n",
              "immovlan        5      4        5      4\n",
              "immoweb         7      7        7      7"
            ]
          },
          "metadata": {
            "tags": []
          },
          "execution_count": 212
        }
      ]
    },
    {
      "cell_type": "markdown",
      "metadata": {
        "id": "grHijEqKVR2e",
        "colab_type": "text"
      },
      "source": [
        "## Correction du dataframe en une seule instruction\n",
        "* Retire les données invalides:\n",
        "  * string à \"NaN\",\"\" ou \" \"\n",
        "  * nombre négatif\n",
        "  * nombre défini à NaN\n",
        "* Retire les doublons"
      ]
    },
    {
      "cell_type": "code",
      "metadata": {
        "id": "RSYtHkwfUSIr",
        "colab_type": "code",
        "colab": {
          "base_uri": "https://localhost:8080/",
          "height": 263
        },
        "outputId": "bb941a2c-7375-44e4-a74a-32a8b7a39178"
      },
      "source": [
        "#Correction du dataframe en une seule instruction: retire toutes les données invalides et les doublons\n",
        "df = df[~df.address.isin([\"NaN\",\"\",\" \"]) & \\\n",
        "        (df.price > 0) & (df.rooms > 0)]\\\n",
        "  .dropna()\\\n",
        "  .drop_duplicates(\"address\")\n",
        "\n",
        "df\n"
      ],
      "execution_count": 214,
      "outputs": [
        {
          "output_type": "execute_result",
          "data": {
            "text/html": [
              "<div>\n",
              "<style scoped>\n",
              "    .dataframe tbody tr th:only-of-type {\n",
              "        vertical-align: middle;\n",
              "    }\n",
              "\n",
              "    .dataframe tbody tr th {\n",
              "        vertical-align: top;\n",
              "    }\n",
              "\n",
              "    .dataframe thead th {\n",
              "        text-align: right;\n",
              "    }\n",
              "</style>\n",
              "<table border=\"1\" class=\"dataframe\">\n",
              "  <thead>\n",
              "    <tr style=\"text-align: right;\">\n",
              "      <th></th>\n",
              "      <th>address</th>\n",
              "      <th>website</th>\n",
              "      <th>price</th>\n",
              "      <th>surface</th>\n",
              "      <th>rooms</th>\n",
              "    </tr>\n",
              "  </thead>\n",
              "  <tbody>\n",
              "    <tr>\n",
              "      <th>0</th>\n",
              "      <td>Rue de Fer 26, 5000 Namur</td>\n",
              "      <td>immoweb</td>\n",
              "      <td>400000.0</td>\n",
              "      <td>150</td>\n",
              "      <td>3.0</td>\n",
              "    </tr>\n",
              "    <tr>\n",
              "      <th>1</th>\n",
              "      <td>Rue de Bruxelles 42, 5000 Namur</td>\n",
              "      <td>immoweb</td>\n",
              "      <td>350000.0</td>\n",
              "      <td>200</td>\n",
              "      <td>4.0</td>\n",
              "    </tr>\n",
              "    <tr>\n",
              "      <th>2</th>\n",
              "      <td>Porte de Namur 25, Bruxelles</td>\n",
              "      <td>immoweb</td>\n",
              "      <td>400000.0</td>\n",
              "      <td>120</td>\n",
              "      <td>5.0</td>\n",
              "    </tr>\n",
              "    <tr>\n",
              "      <th>3</th>\n",
              "      <td>Rue de L'Eglise 42, Charleroi</td>\n",
              "      <td>immoweb</td>\n",
              "      <td>150000.0</td>\n",
              "      <td>150</td>\n",
              "      <td>5.0</td>\n",
              "    </tr>\n",
              "    <tr>\n",
              "      <th>4</th>\n",
              "      <td>Rue Saint-ghislain 30, 6224 Fleurus</td>\n",
              "      <td>immoweb</td>\n",
              "      <td>290000.0</td>\n",
              "      <td>320</td>\n",
              "      <td>3.0</td>\n",
              "    </tr>\n",
              "    <tr>\n",
              "      <th>5</th>\n",
              "      <td>Rue de la Closière 20, Fleurus</td>\n",
              "      <td>immoweb</td>\n",
              "      <td>230000.0</td>\n",
              "      <td>175</td>\n",
              "      <td>2.0</td>\n",
              "    </tr>\n",
              "    <tr>\n",
              "      <th>11</th>\n",
              "      <td>Rue de la Loi 50, Bruxelles</td>\n",
              "      <td>immovlan</td>\n",
              "      <td>700000.0</td>\n",
              "      <td>220</td>\n",
              "      <td>4.0</td>\n",
              "    </tr>\n",
              "  </tbody>\n",
              "</table>\n",
              "</div>"
            ],
            "text/plain": [
              "                                address   website     price  surface  rooms\n",
              "0             Rue de Fer 26, 5000 Namur   immoweb  400000.0      150    3.0\n",
              "1       Rue de Bruxelles 42, 5000 Namur   immoweb  350000.0      200    4.0\n",
              "2          Porte de Namur 25, Bruxelles   immoweb  400000.0      120    5.0\n",
              "3         Rue de L'Eglise 42, Charleroi   immoweb  150000.0      150    5.0\n",
              "4   Rue Saint-ghislain 30, 6224 Fleurus   immoweb  290000.0      320    3.0\n",
              "5        Rue de la Closière 20, Fleurus   immoweb  230000.0      175    2.0\n",
              "11          Rue de la Loi 50, Bruxelles  immovlan  700000.0      220    4.0"
            ]
          },
          "metadata": {
            "tags": []
          },
          "execution_count": 214
        }
      ]
    },
    {
      "cell_type": "markdown",
      "metadata": {
        "id": "4JgQN1tuVOuo",
        "colab_type": "text"
      },
      "source": [
        "## Correction étape par étape"
      ]
    },
    {
      "cell_type": "code",
      "metadata": {
        "id": "t6hD3BYPbd4o",
        "colab_type": "code",
        "colab": {}
      },
      "source": [
        "#On reprend le dataframe non-corrigé pour comparer\n",
        "df = df1"
      ],
      "execution_count": 0,
      "outputs": []
    },
    {
      "cell_type": "code",
      "metadata": {
        "id": "xBZMkmqlOva3",
        "colab_type": "code",
        "colab": {
          "base_uri": "https://localhost:8080/",
          "height": 386
        },
        "outputId": "0a8498a1-6681-44f0-da33-1dca6952a4cb"
      },
      "source": [
        "#Pour les colonnes de texte, retirer les valeurs invalides (NaN ou \"\" ou \" \")\n",
        "\n",
        "#df = df[df.address != \"NaN\"]\n",
        "#Ou pus complet\n",
        "df = df[~df.address.isin([\"NaN\",\"\",\" \"])]\n",
        "df"
      ],
      "execution_count": 226,
      "outputs": [
        {
          "output_type": "execute_result",
          "data": {
            "text/html": [
              "<div>\n",
              "<style scoped>\n",
              "    .dataframe tbody tr th:only-of-type {\n",
              "        vertical-align: middle;\n",
              "    }\n",
              "\n",
              "    .dataframe tbody tr th {\n",
              "        vertical-align: top;\n",
              "    }\n",
              "\n",
              "    .dataframe thead th {\n",
              "        text-align: right;\n",
              "    }\n",
              "</style>\n",
              "<table border=\"1\" class=\"dataframe\">\n",
              "  <thead>\n",
              "    <tr style=\"text-align: right;\">\n",
              "      <th></th>\n",
              "      <th>address</th>\n",
              "      <th>website</th>\n",
              "      <th>price</th>\n",
              "      <th>surface</th>\n",
              "      <th>rooms</th>\n",
              "    </tr>\n",
              "  </thead>\n",
              "  <tbody>\n",
              "    <tr>\n",
              "      <th>0</th>\n",
              "      <td>Rue de Fer 26, 5000 Namur</td>\n",
              "      <td>immoweb</td>\n",
              "      <td>400000.0</td>\n",
              "      <td>150</td>\n",
              "      <td>3.0</td>\n",
              "    </tr>\n",
              "    <tr>\n",
              "      <th>1</th>\n",
              "      <td>Rue de Bruxelles 42, 5000 Namur</td>\n",
              "      <td>immoweb</td>\n",
              "      <td>350000.0</td>\n",
              "      <td>200</td>\n",
              "      <td>4.0</td>\n",
              "    </tr>\n",
              "    <tr>\n",
              "      <th>2</th>\n",
              "      <td>Porte de Namur 25, Bruxelles</td>\n",
              "      <td>immoweb</td>\n",
              "      <td>400000.0</td>\n",
              "      <td>120</td>\n",
              "      <td>5.0</td>\n",
              "    </tr>\n",
              "    <tr>\n",
              "      <th>3</th>\n",
              "      <td>Rue de L'Eglise 42, Charleroi</td>\n",
              "      <td>immoweb</td>\n",
              "      <td>150000.0</td>\n",
              "      <td>150</td>\n",
              "      <td>5.0</td>\n",
              "    </tr>\n",
              "    <tr>\n",
              "      <th>4</th>\n",
              "      <td>Rue Saint-ghislain 30, 6224 Fleurus</td>\n",
              "      <td>immoweb</td>\n",
              "      <td>290000.0</td>\n",
              "      <td>320</td>\n",
              "      <td>3.0</td>\n",
              "    </tr>\n",
              "    <tr>\n",
              "      <th>5</th>\n",
              "      <td>Rue de la Closière 20, Fleurus</td>\n",
              "      <td>immoweb</td>\n",
              "      <td>230000.0</td>\n",
              "      <td>175</td>\n",
              "      <td>2.0</td>\n",
              "    </tr>\n",
              "    <tr>\n",
              "      <th>6</th>\n",
              "      <td>Rue de la Closière 20, Fleurus</td>\n",
              "      <td>immoweb</td>\n",
              "      <td>230000.0</td>\n",
              "      <td>170</td>\n",
              "      <td>3.0</td>\n",
              "    </tr>\n",
              "    <tr>\n",
              "      <th>7</th>\n",
              "      <td>Rue de Fer 25, 5000 Namur</td>\n",
              "      <td>immovlan</td>\n",
              "      <td>0.0</td>\n",
              "      <td>170</td>\n",
              "      <td>3.0</td>\n",
              "    </tr>\n",
              "    <tr>\n",
              "      <th>8</th>\n",
              "      <td>Rue du Luxembourg 15, 1000 Bruxelles</td>\n",
              "      <td>immovlan</td>\n",
              "      <td>-100.0</td>\n",
              "      <td>100</td>\n",
              "      <td>NaN</td>\n",
              "    </tr>\n",
              "    <tr>\n",
              "      <th>10</th>\n",
              "      <td>Rue de Bruxelles 42, 5000 Namur</td>\n",
              "      <td>immovlan</td>\n",
              "      <td>350000.0</td>\n",
              "      <td>200</td>\n",
              "      <td>4.0</td>\n",
              "    </tr>\n",
              "    <tr>\n",
              "      <th>11</th>\n",
              "      <td>Rue de la Loi 50, Bruxelles</td>\n",
              "      <td>immovlan</td>\n",
              "      <td>700000.0</td>\n",
              "      <td>220</td>\n",
              "      <td>4.0</td>\n",
              "    </tr>\n",
              "  </tbody>\n",
              "</table>\n",
              "</div>"
            ],
            "text/plain": [
              "                                 address   website     price  surface  rooms\n",
              "0              Rue de Fer 26, 5000 Namur   immoweb  400000.0      150    3.0\n",
              "1        Rue de Bruxelles 42, 5000 Namur   immoweb  350000.0      200    4.0\n",
              "2           Porte de Namur 25, Bruxelles   immoweb  400000.0      120    5.0\n",
              "3          Rue de L'Eglise 42, Charleroi   immoweb  150000.0      150    5.0\n",
              "4    Rue Saint-ghislain 30, 6224 Fleurus   immoweb  290000.0      320    3.0\n",
              "5         Rue de la Closière 20, Fleurus   immoweb  230000.0      175    2.0\n",
              "6         Rue de la Closière 20, Fleurus   immoweb  230000.0      170    3.0\n",
              "7              Rue de Fer 25, 5000 Namur  immovlan       0.0      170    3.0\n",
              "8   Rue du Luxembourg 15, 1000 Bruxelles  immovlan    -100.0      100    NaN\n",
              "10       Rue de Bruxelles 42, 5000 Namur  immovlan  350000.0      200    4.0\n",
              "11           Rue de la Loi 50, Bruxelles  immovlan  700000.0      220    4.0"
            ]
          },
          "metadata": {
            "tags": []
          },
          "execution_count": 226
        }
      ]
    },
    {
      "cell_type": "code",
      "metadata": {
        "id": "b9hJbbkVQkpI",
        "colab_type": "code",
        "colab": {
          "base_uri": "https://localhost:8080/",
          "height": 355
        },
        "outputId": "2e48cac6-9cc3-4898-bac6-d7f213284c78"
      },
      "source": [
        "#Elimine les lignes contenant des NaN\n",
        "df = df.dropna()\n",
        "df"
      ],
      "execution_count": 227,
      "outputs": [
        {
          "output_type": "execute_result",
          "data": {
            "text/html": [
              "<div>\n",
              "<style scoped>\n",
              "    .dataframe tbody tr th:only-of-type {\n",
              "        vertical-align: middle;\n",
              "    }\n",
              "\n",
              "    .dataframe tbody tr th {\n",
              "        vertical-align: top;\n",
              "    }\n",
              "\n",
              "    .dataframe thead th {\n",
              "        text-align: right;\n",
              "    }\n",
              "</style>\n",
              "<table border=\"1\" class=\"dataframe\">\n",
              "  <thead>\n",
              "    <tr style=\"text-align: right;\">\n",
              "      <th></th>\n",
              "      <th>address</th>\n",
              "      <th>website</th>\n",
              "      <th>price</th>\n",
              "      <th>surface</th>\n",
              "      <th>rooms</th>\n",
              "    </tr>\n",
              "  </thead>\n",
              "  <tbody>\n",
              "    <tr>\n",
              "      <th>0</th>\n",
              "      <td>Rue de Fer 26, 5000 Namur</td>\n",
              "      <td>immoweb</td>\n",
              "      <td>400000.0</td>\n",
              "      <td>150</td>\n",
              "      <td>3.0</td>\n",
              "    </tr>\n",
              "    <tr>\n",
              "      <th>1</th>\n",
              "      <td>Rue de Bruxelles 42, 5000 Namur</td>\n",
              "      <td>immoweb</td>\n",
              "      <td>350000.0</td>\n",
              "      <td>200</td>\n",
              "      <td>4.0</td>\n",
              "    </tr>\n",
              "    <tr>\n",
              "      <th>2</th>\n",
              "      <td>Porte de Namur 25, Bruxelles</td>\n",
              "      <td>immoweb</td>\n",
              "      <td>400000.0</td>\n",
              "      <td>120</td>\n",
              "      <td>5.0</td>\n",
              "    </tr>\n",
              "    <tr>\n",
              "      <th>3</th>\n",
              "      <td>Rue de L'Eglise 42, Charleroi</td>\n",
              "      <td>immoweb</td>\n",
              "      <td>150000.0</td>\n",
              "      <td>150</td>\n",
              "      <td>5.0</td>\n",
              "    </tr>\n",
              "    <tr>\n",
              "      <th>4</th>\n",
              "      <td>Rue Saint-ghislain 30, 6224 Fleurus</td>\n",
              "      <td>immoweb</td>\n",
              "      <td>290000.0</td>\n",
              "      <td>320</td>\n",
              "      <td>3.0</td>\n",
              "    </tr>\n",
              "    <tr>\n",
              "      <th>5</th>\n",
              "      <td>Rue de la Closière 20, Fleurus</td>\n",
              "      <td>immoweb</td>\n",
              "      <td>230000.0</td>\n",
              "      <td>175</td>\n",
              "      <td>2.0</td>\n",
              "    </tr>\n",
              "    <tr>\n",
              "      <th>6</th>\n",
              "      <td>Rue de la Closière 20, Fleurus</td>\n",
              "      <td>immoweb</td>\n",
              "      <td>230000.0</td>\n",
              "      <td>170</td>\n",
              "      <td>3.0</td>\n",
              "    </tr>\n",
              "    <tr>\n",
              "      <th>7</th>\n",
              "      <td>Rue de Fer 25, 5000 Namur</td>\n",
              "      <td>immovlan</td>\n",
              "      <td>0.0</td>\n",
              "      <td>170</td>\n",
              "      <td>3.0</td>\n",
              "    </tr>\n",
              "    <tr>\n",
              "      <th>10</th>\n",
              "      <td>Rue de Bruxelles 42, 5000 Namur</td>\n",
              "      <td>immovlan</td>\n",
              "      <td>350000.0</td>\n",
              "      <td>200</td>\n",
              "      <td>4.0</td>\n",
              "    </tr>\n",
              "    <tr>\n",
              "      <th>11</th>\n",
              "      <td>Rue de la Loi 50, Bruxelles</td>\n",
              "      <td>immovlan</td>\n",
              "      <td>700000.0</td>\n",
              "      <td>220</td>\n",
              "      <td>4.0</td>\n",
              "    </tr>\n",
              "  </tbody>\n",
              "</table>\n",
              "</div>"
            ],
            "text/plain": [
              "                                address   website     price  surface  rooms\n",
              "0             Rue de Fer 26, 5000 Namur   immoweb  400000.0      150    3.0\n",
              "1       Rue de Bruxelles 42, 5000 Namur   immoweb  350000.0      200    4.0\n",
              "2          Porte de Namur 25, Bruxelles   immoweb  400000.0      120    5.0\n",
              "3         Rue de L'Eglise 42, Charleroi   immoweb  150000.0      150    5.0\n",
              "4   Rue Saint-ghislain 30, 6224 Fleurus   immoweb  290000.0      320    3.0\n",
              "5        Rue de la Closière 20, Fleurus   immoweb  230000.0      175    2.0\n",
              "6        Rue de la Closière 20, Fleurus   immoweb  230000.0      170    3.0\n",
              "7             Rue de Fer 25, 5000 Namur  immovlan       0.0      170    3.0\n",
              "10      Rue de Bruxelles 42, 5000 Namur  immovlan  350000.0      200    4.0\n",
              "11          Rue de la Loi 50, Bruxelles  immovlan  700000.0      220    4.0"
            ]
          },
          "metadata": {
            "tags": []
          },
          "execution_count": 227
        }
      ]
    },
    {
      "cell_type": "code",
      "metadata": {
        "id": "29AAOyEPQ034",
        "colab_type": "code",
        "colab": {
          "base_uri": "https://localhost:8080/",
          "height": 325
        },
        "outputId": "f0d6e325-5b18-4d48-de8c-c1eb38c532fd"
      },
      "source": [
        "#Retirer les valeurs numériques incohérentes\n",
        "df = df[(df.price > 0) & (df.rooms > 0)]\n",
        "df"
      ],
      "execution_count": 228,
      "outputs": [
        {
          "output_type": "execute_result",
          "data": {
            "text/html": [
              "<div>\n",
              "<style scoped>\n",
              "    .dataframe tbody tr th:only-of-type {\n",
              "        vertical-align: middle;\n",
              "    }\n",
              "\n",
              "    .dataframe tbody tr th {\n",
              "        vertical-align: top;\n",
              "    }\n",
              "\n",
              "    .dataframe thead th {\n",
              "        text-align: right;\n",
              "    }\n",
              "</style>\n",
              "<table border=\"1\" class=\"dataframe\">\n",
              "  <thead>\n",
              "    <tr style=\"text-align: right;\">\n",
              "      <th></th>\n",
              "      <th>address</th>\n",
              "      <th>website</th>\n",
              "      <th>price</th>\n",
              "      <th>surface</th>\n",
              "      <th>rooms</th>\n",
              "    </tr>\n",
              "  </thead>\n",
              "  <tbody>\n",
              "    <tr>\n",
              "      <th>0</th>\n",
              "      <td>Rue de Fer 26, 5000 Namur</td>\n",
              "      <td>immoweb</td>\n",
              "      <td>400000.0</td>\n",
              "      <td>150</td>\n",
              "      <td>3.0</td>\n",
              "    </tr>\n",
              "    <tr>\n",
              "      <th>1</th>\n",
              "      <td>Rue de Bruxelles 42, 5000 Namur</td>\n",
              "      <td>immoweb</td>\n",
              "      <td>350000.0</td>\n",
              "      <td>200</td>\n",
              "      <td>4.0</td>\n",
              "    </tr>\n",
              "    <tr>\n",
              "      <th>2</th>\n",
              "      <td>Porte de Namur 25, Bruxelles</td>\n",
              "      <td>immoweb</td>\n",
              "      <td>400000.0</td>\n",
              "      <td>120</td>\n",
              "      <td>5.0</td>\n",
              "    </tr>\n",
              "    <tr>\n",
              "      <th>3</th>\n",
              "      <td>Rue de L'Eglise 42, Charleroi</td>\n",
              "      <td>immoweb</td>\n",
              "      <td>150000.0</td>\n",
              "      <td>150</td>\n",
              "      <td>5.0</td>\n",
              "    </tr>\n",
              "    <tr>\n",
              "      <th>4</th>\n",
              "      <td>Rue Saint-ghislain 30, 6224 Fleurus</td>\n",
              "      <td>immoweb</td>\n",
              "      <td>290000.0</td>\n",
              "      <td>320</td>\n",
              "      <td>3.0</td>\n",
              "    </tr>\n",
              "    <tr>\n",
              "      <th>5</th>\n",
              "      <td>Rue de la Closière 20, Fleurus</td>\n",
              "      <td>immoweb</td>\n",
              "      <td>230000.0</td>\n",
              "      <td>175</td>\n",
              "      <td>2.0</td>\n",
              "    </tr>\n",
              "    <tr>\n",
              "      <th>6</th>\n",
              "      <td>Rue de la Closière 20, Fleurus</td>\n",
              "      <td>immoweb</td>\n",
              "      <td>230000.0</td>\n",
              "      <td>170</td>\n",
              "      <td>3.0</td>\n",
              "    </tr>\n",
              "    <tr>\n",
              "      <th>10</th>\n",
              "      <td>Rue de Bruxelles 42, 5000 Namur</td>\n",
              "      <td>immovlan</td>\n",
              "      <td>350000.0</td>\n",
              "      <td>200</td>\n",
              "      <td>4.0</td>\n",
              "    </tr>\n",
              "    <tr>\n",
              "      <th>11</th>\n",
              "      <td>Rue de la Loi 50, Bruxelles</td>\n",
              "      <td>immovlan</td>\n",
              "      <td>700000.0</td>\n",
              "      <td>220</td>\n",
              "      <td>4.0</td>\n",
              "    </tr>\n",
              "  </tbody>\n",
              "</table>\n",
              "</div>"
            ],
            "text/plain": [
              "                                address   website     price  surface  rooms\n",
              "0             Rue de Fer 26, 5000 Namur   immoweb  400000.0      150    3.0\n",
              "1       Rue de Bruxelles 42, 5000 Namur   immoweb  350000.0      200    4.0\n",
              "2          Porte de Namur 25, Bruxelles   immoweb  400000.0      120    5.0\n",
              "3         Rue de L'Eglise 42, Charleroi   immoweb  150000.0      150    5.0\n",
              "4   Rue Saint-ghislain 30, 6224 Fleurus   immoweb  290000.0      320    3.0\n",
              "5        Rue de la Closière 20, Fleurus   immoweb  230000.0      175    2.0\n",
              "6        Rue de la Closière 20, Fleurus   immoweb  230000.0      170    3.0\n",
              "10      Rue de Bruxelles 42, 5000 Namur  immovlan  350000.0      200    4.0\n",
              "11          Rue de la Loi 50, Bruxelles  immovlan  700000.0      220    4.0"
            ]
          },
          "metadata": {
            "tags": []
          },
          "execution_count": 228
        }
      ]
    },
    {
      "cell_type": "code",
      "metadata": {
        "id": "Op6hoKP4kxgg",
        "colab_type": "code",
        "colab": {}
      },
      "source": [
        "#On stocke la version avec doublons pour plus tard\n",
        "dfdup = df"
      ],
      "execution_count": 0,
      "outputs": []
    },
    {
      "cell_type": "code",
      "metadata": {
        "id": "Fw5esCh7R5dO",
        "colab_type": "code",
        "colab": {
          "base_uri": "https://localhost:8080/",
          "height": 263
        },
        "outputId": "093f2bc8-951c-49a6-bb5c-3db3cddcc5de"
      },
      "source": [
        "#Retirer les doublons\n",
        "\n",
        "#df =df.drop_duplicates(\"address\")\n",
        "#Par défaut, le premier élément est gardé. On peut aussi garder le dernier (ce qui gardera notamment plus d'éléments d'immovlan)\n",
        "df =dfdup.drop_duplicates(\"address\", keep = \"last\")\n",
        "df"
      ],
      "execution_count": 243,
      "outputs": [
        {
          "output_type": "execute_result",
          "data": {
            "text/html": [
              "<div>\n",
              "<style scoped>\n",
              "    .dataframe tbody tr th:only-of-type {\n",
              "        vertical-align: middle;\n",
              "    }\n",
              "\n",
              "    .dataframe tbody tr th {\n",
              "        vertical-align: top;\n",
              "    }\n",
              "\n",
              "    .dataframe thead th {\n",
              "        text-align: right;\n",
              "    }\n",
              "</style>\n",
              "<table border=\"1\" class=\"dataframe\">\n",
              "  <thead>\n",
              "    <tr style=\"text-align: right;\">\n",
              "      <th></th>\n",
              "      <th>address</th>\n",
              "      <th>website</th>\n",
              "      <th>price</th>\n",
              "      <th>surface</th>\n",
              "      <th>rooms</th>\n",
              "    </tr>\n",
              "  </thead>\n",
              "  <tbody>\n",
              "    <tr>\n",
              "      <th>0</th>\n",
              "      <td>Rue de Fer 26, 5000 Namur</td>\n",
              "      <td>immoweb</td>\n",
              "      <td>400000.0</td>\n",
              "      <td>150</td>\n",
              "      <td>3.0</td>\n",
              "    </tr>\n",
              "    <tr>\n",
              "      <th>2</th>\n",
              "      <td>Porte de Namur 25, Bruxelles</td>\n",
              "      <td>immoweb</td>\n",
              "      <td>400000.0</td>\n",
              "      <td>120</td>\n",
              "      <td>5.0</td>\n",
              "    </tr>\n",
              "    <tr>\n",
              "      <th>3</th>\n",
              "      <td>Rue de L'Eglise 42, Charleroi</td>\n",
              "      <td>immoweb</td>\n",
              "      <td>150000.0</td>\n",
              "      <td>150</td>\n",
              "      <td>5.0</td>\n",
              "    </tr>\n",
              "    <tr>\n",
              "      <th>4</th>\n",
              "      <td>Rue Saint-ghislain 30, 6224 Fleurus</td>\n",
              "      <td>immoweb</td>\n",
              "      <td>290000.0</td>\n",
              "      <td>320</td>\n",
              "      <td>3.0</td>\n",
              "    </tr>\n",
              "    <tr>\n",
              "      <th>6</th>\n",
              "      <td>Rue de la Closière 20, Fleurus</td>\n",
              "      <td>immoweb</td>\n",
              "      <td>230000.0</td>\n",
              "      <td>170</td>\n",
              "      <td>3.0</td>\n",
              "    </tr>\n",
              "    <tr>\n",
              "      <th>10</th>\n",
              "      <td>Rue de Bruxelles 42, 5000 Namur</td>\n",
              "      <td>immovlan</td>\n",
              "      <td>350000.0</td>\n",
              "      <td>200</td>\n",
              "      <td>4.0</td>\n",
              "    </tr>\n",
              "    <tr>\n",
              "      <th>11</th>\n",
              "      <td>Rue de la Loi 50, Bruxelles</td>\n",
              "      <td>immovlan</td>\n",
              "      <td>700000.0</td>\n",
              "      <td>220</td>\n",
              "      <td>4.0</td>\n",
              "    </tr>\n",
              "  </tbody>\n",
              "</table>\n",
              "</div>"
            ],
            "text/plain": [
              "                                address   website     price  surface  rooms\n",
              "0             Rue de Fer 26, 5000 Namur   immoweb  400000.0      150    3.0\n",
              "2          Porte de Namur 25, Bruxelles   immoweb  400000.0      120    5.0\n",
              "3         Rue de L'Eglise 42, Charleroi   immoweb  150000.0      150    5.0\n",
              "4   Rue Saint-ghislain 30, 6224 Fleurus   immoweb  290000.0      320    3.0\n",
              "6        Rue de la Closière 20, Fleurus   immoweb  230000.0      170    3.0\n",
              "10      Rue de Bruxelles 42, 5000 Namur  immovlan  350000.0      200    4.0\n",
              "11          Rue de la Loi 50, Bruxelles  immovlan  700000.0      220    4.0"
            ]
          },
          "metadata": {
            "tags": []
          },
          "execution_count": 243
        }
      ]
    },
    {
      "cell_type": "code",
      "metadata": {
        "id": "YbhbjCpPLkyP",
        "colab_type": "code",
        "colab": {
          "base_uri": "https://localhost:8080/",
          "height": 202
        },
        "outputId": "652d819d-54de-4391-8976-d0bd1a364d97"
      },
      "source": [
        "#filtrer les données d'immoweb\n",
        "df[df.website == \"immoweb\"]"
      ],
      "execution_count": 244,
      "outputs": [
        {
          "output_type": "execute_result",
          "data": {
            "text/html": [
              "<div>\n",
              "<style scoped>\n",
              "    .dataframe tbody tr th:only-of-type {\n",
              "        vertical-align: middle;\n",
              "    }\n",
              "\n",
              "    .dataframe tbody tr th {\n",
              "        vertical-align: top;\n",
              "    }\n",
              "\n",
              "    .dataframe thead th {\n",
              "        text-align: right;\n",
              "    }\n",
              "</style>\n",
              "<table border=\"1\" class=\"dataframe\">\n",
              "  <thead>\n",
              "    <tr style=\"text-align: right;\">\n",
              "      <th></th>\n",
              "      <th>address</th>\n",
              "      <th>website</th>\n",
              "      <th>price</th>\n",
              "      <th>surface</th>\n",
              "      <th>rooms</th>\n",
              "    </tr>\n",
              "  </thead>\n",
              "  <tbody>\n",
              "    <tr>\n",
              "      <th>0</th>\n",
              "      <td>Rue de Fer 26, 5000 Namur</td>\n",
              "      <td>immoweb</td>\n",
              "      <td>400000.0</td>\n",
              "      <td>150</td>\n",
              "      <td>3.0</td>\n",
              "    </tr>\n",
              "    <tr>\n",
              "      <th>2</th>\n",
              "      <td>Porte de Namur 25, Bruxelles</td>\n",
              "      <td>immoweb</td>\n",
              "      <td>400000.0</td>\n",
              "      <td>120</td>\n",
              "      <td>5.0</td>\n",
              "    </tr>\n",
              "    <tr>\n",
              "      <th>3</th>\n",
              "      <td>Rue de L'Eglise 42, Charleroi</td>\n",
              "      <td>immoweb</td>\n",
              "      <td>150000.0</td>\n",
              "      <td>150</td>\n",
              "      <td>5.0</td>\n",
              "    </tr>\n",
              "    <tr>\n",
              "      <th>4</th>\n",
              "      <td>Rue Saint-ghislain 30, 6224 Fleurus</td>\n",
              "      <td>immoweb</td>\n",
              "      <td>290000.0</td>\n",
              "      <td>320</td>\n",
              "      <td>3.0</td>\n",
              "    </tr>\n",
              "    <tr>\n",
              "      <th>6</th>\n",
              "      <td>Rue de la Closière 20, Fleurus</td>\n",
              "      <td>immoweb</td>\n",
              "      <td>230000.0</td>\n",
              "      <td>170</td>\n",
              "      <td>3.0</td>\n",
              "    </tr>\n",
              "  </tbody>\n",
              "</table>\n",
              "</div>"
            ],
            "text/plain": [
              "                               address  website     price  surface  rooms\n",
              "0            Rue de Fer 26, 5000 Namur  immoweb  400000.0      150    3.0\n",
              "2         Porte de Namur 25, Bruxelles  immoweb  400000.0      120    5.0\n",
              "3        Rue de L'Eglise 42, Charleroi  immoweb  150000.0      150    5.0\n",
              "4  Rue Saint-ghislain 30, 6224 Fleurus  immoweb  290000.0      320    3.0\n",
              "6       Rue de la Closière 20, Fleurus  immoweb  230000.0      170    3.0"
            ]
          },
          "metadata": {
            "tags": []
          },
          "execution_count": 244
        }
      ]
    },
    {
      "cell_type": "markdown",
      "metadata": {
        "id": "4mRu-QHMcJZ9",
        "colab_type": "text"
      },
      "source": [
        "## Aggrégats"
      ]
    },
    {
      "cell_type": "code",
      "metadata": {
        "id": "UrEN2kqJcKq1",
        "colab_type": "code",
        "colab": {
          "base_uri": "https://localhost:8080/",
          "height": 87
        },
        "outputId": "679ccbe9-d6cd-406d-ba35-e4ad0ab62a19"
      },
      "source": [
        "df.mean()"
      ],
      "execution_count": 232,
      "outputs": [
        {
          "output_type": "execute_result",
          "data": {
            "text/plain": [
              "price      360000.000000\n",
              "surface       190.000000\n",
              "rooms           3.857143\n",
              "dtype: float64"
            ]
          },
          "metadata": {
            "tags": []
          },
          "execution_count": 232
        }
      ]
    },
    {
      "cell_type": "code",
      "metadata": {
        "id": "lXghl-S6i5yQ",
        "colab_type": "code",
        "colab": {
          "base_uri": "https://localhost:8080/",
          "height": 87
        },
        "outputId": "320c9b2a-f17d-4cfd-f7f9-bb5b7dedd1c1"
      },
      "source": [
        "df[df.website == \"immoweb\"].mean()\n",
        "#On remarque que les maisons d'immoweb sont en moyenne moins chère que la moyenne totale"
      ],
      "execution_count": 233,
      "outputs": [
        {
          "output_type": "execute_result",
          "data": {
            "text/plain": [
              "price      294000.0\n",
              "surface       182.0\n",
              "rooms           3.8\n",
              "dtype: float64"
            ]
          },
          "metadata": {
            "tags": []
          },
          "execution_count": 233
        }
      ]
    },
    {
      "cell_type": "code",
      "metadata": {
        "id": "343kdifbcMlm",
        "colab_type": "code",
        "colab": {
          "base_uri": "https://localhost:8080/",
          "height": 121
        },
        "outputId": "c0ad2456-2e87-4536-ddff-6002311bfa46"
      },
      "source": [
        "df.count()"
      ],
      "execution_count": 234,
      "outputs": [
        {
          "output_type": "execute_result",
          "data": {
            "text/plain": [
              "address    7\n",
              "website    7\n",
              "price      7\n",
              "surface    7\n",
              "rooms      7\n",
              "dtype: int64"
            ]
          },
          "metadata": {
            "tags": []
          },
          "execution_count": 234
        }
      ]
    },
    {
      "cell_type": "markdown",
      "metadata": {
        "id": "my_jdhJGb85j",
        "colab_type": "text"
      },
      "source": [
        "## Comparer deux groupes (aggrégats groupés)\n",
        "Avec Pandas, il est très facile de comparer différentes groupes d'échantillons, grâce à la méthode \"groupby\", qui permet de faire des aggrégats groupés."
      ]
    },
    {
      "cell_type": "code",
      "metadata": {
        "id": "lhGeXuXtMnye",
        "colab_type": "code",
        "colab": {
          "base_uri": "https://localhost:8080/",
          "height": 264
        },
        "outputId": "88f10598-ada8-43b7-d858-03edc67bd509"
      },
      "source": [
        "#Comparer les deux plateformes: c'est direct avec la méthode \"groupby\"\n",
        "display(df.groupby(\"website\").count())\n",
        "display(df.groupby(\"website\").mean())"
      ],
      "execution_count": 235,
      "outputs": [
        {
          "output_type": "display_data",
          "data": {
            "text/html": [
              "<div>\n",
              "<style scoped>\n",
              "    .dataframe tbody tr th:only-of-type {\n",
              "        vertical-align: middle;\n",
              "    }\n",
              "\n",
              "    .dataframe tbody tr th {\n",
              "        vertical-align: top;\n",
              "    }\n",
              "\n",
              "    .dataframe thead th {\n",
              "        text-align: right;\n",
              "    }\n",
              "</style>\n",
              "<table border=\"1\" class=\"dataframe\">\n",
              "  <thead>\n",
              "    <tr style=\"text-align: right;\">\n",
              "      <th></th>\n",
              "      <th>address</th>\n",
              "      <th>price</th>\n",
              "      <th>surface</th>\n",
              "      <th>rooms</th>\n",
              "    </tr>\n",
              "    <tr>\n",
              "      <th>website</th>\n",
              "      <th></th>\n",
              "      <th></th>\n",
              "      <th></th>\n",
              "      <th></th>\n",
              "    </tr>\n",
              "  </thead>\n",
              "  <tbody>\n",
              "    <tr>\n",
              "      <th>immovlan</th>\n",
              "      <td>2</td>\n",
              "      <td>2</td>\n",
              "      <td>2</td>\n",
              "      <td>2</td>\n",
              "    </tr>\n",
              "    <tr>\n",
              "      <th>immoweb</th>\n",
              "      <td>5</td>\n",
              "      <td>5</td>\n",
              "      <td>5</td>\n",
              "      <td>5</td>\n",
              "    </tr>\n",
              "  </tbody>\n",
              "</table>\n",
              "</div>"
            ],
            "text/plain": [
              "          address  price  surface  rooms\n",
              "website                                 \n",
              "immovlan        2      2        2      2\n",
              "immoweb         5      5        5      5"
            ]
          },
          "metadata": {
            "tags": []
          }
        },
        {
          "output_type": "display_data",
          "data": {
            "text/html": [
              "<div>\n",
              "<style scoped>\n",
              "    .dataframe tbody tr th:only-of-type {\n",
              "        vertical-align: middle;\n",
              "    }\n",
              "\n",
              "    .dataframe tbody tr th {\n",
              "        vertical-align: top;\n",
              "    }\n",
              "\n",
              "    .dataframe thead th {\n",
              "        text-align: right;\n",
              "    }\n",
              "</style>\n",
              "<table border=\"1\" class=\"dataframe\">\n",
              "  <thead>\n",
              "    <tr style=\"text-align: right;\">\n",
              "      <th></th>\n",
              "      <th>price</th>\n",
              "      <th>surface</th>\n",
              "      <th>rooms</th>\n",
              "    </tr>\n",
              "    <tr>\n",
              "      <th>website</th>\n",
              "      <th></th>\n",
              "      <th></th>\n",
              "      <th></th>\n",
              "    </tr>\n",
              "  </thead>\n",
              "  <tbody>\n",
              "    <tr>\n",
              "      <th>immovlan</th>\n",
              "      <td>525000.0</td>\n",
              "      <td>210</td>\n",
              "      <td>4.0</td>\n",
              "    </tr>\n",
              "    <tr>\n",
              "      <th>immoweb</th>\n",
              "      <td>294000.0</td>\n",
              "      <td>182</td>\n",
              "      <td>3.8</td>\n",
              "    </tr>\n",
              "  </tbody>\n",
              "</table>\n",
              "</div>"
            ],
            "text/plain": [
              "             price  surface  rooms\n",
              "website                           \n",
              "immovlan  525000.0      210    4.0\n",
              "immoweb   294000.0      182    3.8"
            ]
          },
          "metadata": {
            "tags": []
          }
        }
      ]
    },
    {
      "cell_type": "code",
      "metadata": {
        "id": "OTPrsUHjjLFw",
        "colab_type": "code",
        "colab": {
          "base_uri": "https://localhost:8080/",
          "height": 264
        },
        "outputId": "fccb9d3f-bb34-42ef-aaca-6546717eba61"
      },
      "source": [
        "#Idem en gardant les doublons\n",
        "\n",
        "display(dfdup.groupby(\"website\").count())\n",
        "display(dfdup.groupby(\"website\").mean())"
      ],
      "execution_count": 236,
      "outputs": [
        {
          "output_type": "display_data",
          "data": {
            "text/html": [
              "<div>\n",
              "<style scoped>\n",
              "    .dataframe tbody tr th:only-of-type {\n",
              "        vertical-align: middle;\n",
              "    }\n",
              "\n",
              "    .dataframe tbody tr th {\n",
              "        vertical-align: top;\n",
              "    }\n",
              "\n",
              "    .dataframe thead th {\n",
              "        text-align: right;\n",
              "    }\n",
              "</style>\n",
              "<table border=\"1\" class=\"dataframe\">\n",
              "  <thead>\n",
              "    <tr style=\"text-align: right;\">\n",
              "      <th></th>\n",
              "      <th>address</th>\n",
              "      <th>price</th>\n",
              "      <th>surface</th>\n",
              "      <th>rooms</th>\n",
              "    </tr>\n",
              "    <tr>\n",
              "      <th>website</th>\n",
              "      <th></th>\n",
              "      <th></th>\n",
              "      <th></th>\n",
              "      <th></th>\n",
              "    </tr>\n",
              "  </thead>\n",
              "  <tbody>\n",
              "    <tr>\n",
              "      <th>immovlan</th>\n",
              "      <td>2</td>\n",
              "      <td>2</td>\n",
              "      <td>2</td>\n",
              "      <td>2</td>\n",
              "    </tr>\n",
              "    <tr>\n",
              "      <th>immoweb</th>\n",
              "      <td>7</td>\n",
              "      <td>7</td>\n",
              "      <td>7</td>\n",
              "      <td>7</td>\n",
              "    </tr>\n",
              "  </tbody>\n",
              "</table>\n",
              "</div>"
            ],
            "text/plain": [
              "          address  price  surface  rooms\n",
              "website                                 \n",
              "immovlan        2      2        2      2\n",
              "immoweb         7      7        7      7"
            ]
          },
          "metadata": {
            "tags": []
          }
        },
        {
          "output_type": "display_data",
          "data": {
            "text/html": [
              "<div>\n",
              "<style scoped>\n",
              "    .dataframe tbody tr th:only-of-type {\n",
              "        vertical-align: middle;\n",
              "    }\n",
              "\n",
              "    .dataframe tbody tr th {\n",
              "        vertical-align: top;\n",
              "    }\n",
              "\n",
              "    .dataframe thead th {\n",
              "        text-align: right;\n",
              "    }\n",
              "</style>\n",
              "<table border=\"1\" class=\"dataframe\">\n",
              "  <thead>\n",
              "    <tr style=\"text-align: right;\">\n",
              "      <th></th>\n",
              "      <th>price</th>\n",
              "      <th>surface</th>\n",
              "      <th>rooms</th>\n",
              "    </tr>\n",
              "    <tr>\n",
              "      <th>website</th>\n",
              "      <th></th>\n",
              "      <th></th>\n",
              "      <th></th>\n",
              "    </tr>\n",
              "  </thead>\n",
              "  <tbody>\n",
              "    <tr>\n",
              "      <th>immovlan</th>\n",
              "      <td>525000.000000</td>\n",
              "      <td>210.000000</td>\n",
              "      <td>4.000000</td>\n",
              "    </tr>\n",
              "    <tr>\n",
              "      <th>immoweb</th>\n",
              "      <td>292857.142857</td>\n",
              "      <td>183.571429</td>\n",
              "      <td>3.571429</td>\n",
              "    </tr>\n",
              "  </tbody>\n",
              "</table>\n",
              "</div>"
            ],
            "text/plain": [
              "                  price     surface     rooms\n",
              "website                                      \n",
              "immovlan  525000.000000  210.000000  4.000000\n",
              "immoweb   292857.142857  183.571429  3.571429"
            ]
          },
          "metadata": {
            "tags": []
          }
        }
      ]
    },
    {
      "cell_type": "markdown",
      "metadata": {
        "id": "zQAhTkQcjVno",
        "colab_type": "text"
      },
      "source": [
        "Les chiffres* montrent que les maisons sur immovlan sont généralement plus grandes et plus chères.\n",
        "\n",
        "\\* (le dataset est bien évidemment simulé et trop petit pour donner des résultats significatifs)\n"
      ]
    },
    {
      "cell_type": "markdown",
      "metadata": {
        "id": "ZCMYrQKBXKUt",
        "colab_type": "text"
      },
      "source": [
        "## Augmentation du dataframe (ajout de caractéristiques, i.e. de colonnes)"
      ]
    },
    {
      "cell_type": "code",
      "metadata": {
        "id": "zWaSDF3HMz4C",
        "colab_type": "code",
        "colab": {}
      },
      "source": [
        "#Extract city\n",
        "def get_city(address):\n",
        "\n",
        "  #Le nom de la rue est la partie après le dernier nombre, ou une virgule si aucun code postal n'est renseigné. On cherche donc un nombre en commençant par la fin ( range(len(address),0,-1) )\n",
        "  for i in range(len(address)-1,0,-1):\n",
        "    c = address[i]\n",
        "    if c in \"0123456789,\":\n",
        "      #c est un nombre (ou une virgule), on peut sortir de la boucle\n",
        "      break\n",
        "\n",
        "  #On extrait le nom de la ville\n",
        "  city = address[i+2:]\n",
        "\n",
        "  return city"
      ],
      "execution_count": 0,
      "outputs": []
    },
    {
      "cell_type": "code",
      "metadata": {
        "id": "Rzxt1LTVkiYo",
        "colab_type": "code",
        "colab": {
          "base_uri": "https://localhost:8080/",
          "height": 263
        },
        "outputId": "b8b494a0-1912-4417-a49f-b17dae911f17"
      },
      "source": [
        "df = df.assign(city = df[\"address\"].apply(get_city))\n",
        "df = df.assign(price_per_m2 = df.price/df.surface)\n",
        "df = df.assign(price_per_room = df.price/df.rooms)\n",
        "df"
      ],
      "execution_count": 248,
      "outputs": [
        {
          "output_type": "execute_result",
          "data": {
            "text/html": [
              "<div>\n",
              "<style scoped>\n",
              "    .dataframe tbody tr th:only-of-type {\n",
              "        vertical-align: middle;\n",
              "    }\n",
              "\n",
              "    .dataframe tbody tr th {\n",
              "        vertical-align: top;\n",
              "    }\n",
              "\n",
              "    .dataframe thead th {\n",
              "        text-align: right;\n",
              "    }\n",
              "</style>\n",
              "<table border=\"1\" class=\"dataframe\">\n",
              "  <thead>\n",
              "    <tr style=\"text-align: right;\">\n",
              "      <th></th>\n",
              "      <th>address</th>\n",
              "      <th>website</th>\n",
              "      <th>price</th>\n",
              "      <th>surface</th>\n",
              "      <th>rooms</th>\n",
              "      <th>city</th>\n",
              "      <th>price_per_m2</th>\n",
              "      <th>price_per_room</th>\n",
              "    </tr>\n",
              "  </thead>\n",
              "  <tbody>\n",
              "    <tr>\n",
              "      <th>0</th>\n",
              "      <td>Rue de Fer 26, 5000 Namur</td>\n",
              "      <td>immoweb</td>\n",
              "      <td>400000.0</td>\n",
              "      <td>150</td>\n",
              "      <td>3.0</td>\n",
              "      <td>Namur</td>\n",
              "      <td>2666.666667</td>\n",
              "      <td>133333.333333</td>\n",
              "    </tr>\n",
              "    <tr>\n",
              "      <th>2</th>\n",
              "      <td>Porte de Namur 25, Bruxelles</td>\n",
              "      <td>immoweb</td>\n",
              "      <td>400000.0</td>\n",
              "      <td>120</td>\n",
              "      <td>5.0</td>\n",
              "      <td>Bruxelles</td>\n",
              "      <td>3333.333333</td>\n",
              "      <td>80000.000000</td>\n",
              "    </tr>\n",
              "    <tr>\n",
              "      <th>3</th>\n",
              "      <td>Rue de L'Eglise 42, Charleroi</td>\n",
              "      <td>immoweb</td>\n",
              "      <td>150000.0</td>\n",
              "      <td>150</td>\n",
              "      <td>5.0</td>\n",
              "      <td>Charleroi</td>\n",
              "      <td>1000.000000</td>\n",
              "      <td>30000.000000</td>\n",
              "    </tr>\n",
              "    <tr>\n",
              "      <th>4</th>\n",
              "      <td>Rue Saint-ghislain 30, 6224 Fleurus</td>\n",
              "      <td>immoweb</td>\n",
              "      <td>290000.0</td>\n",
              "      <td>320</td>\n",
              "      <td>3.0</td>\n",
              "      <td>Fleurus</td>\n",
              "      <td>906.250000</td>\n",
              "      <td>96666.666667</td>\n",
              "    </tr>\n",
              "    <tr>\n",
              "      <th>6</th>\n",
              "      <td>Rue de la Closière 20, Fleurus</td>\n",
              "      <td>immoweb</td>\n",
              "      <td>230000.0</td>\n",
              "      <td>170</td>\n",
              "      <td>3.0</td>\n",
              "      <td>Fleurus</td>\n",
              "      <td>1352.941176</td>\n",
              "      <td>76666.666667</td>\n",
              "    </tr>\n",
              "    <tr>\n",
              "      <th>10</th>\n",
              "      <td>Rue de Bruxelles 42, 5000 Namur</td>\n",
              "      <td>immovlan</td>\n",
              "      <td>350000.0</td>\n",
              "      <td>200</td>\n",
              "      <td>4.0</td>\n",
              "      <td>Namur</td>\n",
              "      <td>1750.000000</td>\n",
              "      <td>87500.000000</td>\n",
              "    </tr>\n",
              "    <tr>\n",
              "      <th>11</th>\n",
              "      <td>Rue de la Loi 50, Bruxelles</td>\n",
              "      <td>immovlan</td>\n",
              "      <td>700000.0</td>\n",
              "      <td>220</td>\n",
              "      <td>4.0</td>\n",
              "      <td>Bruxelles</td>\n",
              "      <td>3181.818182</td>\n",
              "      <td>175000.000000</td>\n",
              "    </tr>\n",
              "  </tbody>\n",
              "</table>\n",
              "</div>"
            ],
            "text/plain": [
              "                                address   website  ...  price_per_m2  price_per_room\n",
              "0             Rue de Fer 26, 5000 Namur   immoweb  ...   2666.666667   133333.333333\n",
              "2          Porte de Namur 25, Bruxelles   immoweb  ...   3333.333333    80000.000000\n",
              "3         Rue de L'Eglise 42, Charleroi   immoweb  ...   1000.000000    30000.000000\n",
              "4   Rue Saint-ghislain 30, 6224 Fleurus   immoweb  ...    906.250000    96666.666667\n",
              "6        Rue de la Closière 20, Fleurus   immoweb  ...   1352.941176    76666.666667\n",
              "10      Rue de Bruxelles 42, 5000 Namur  immovlan  ...   1750.000000    87500.000000\n",
              "11          Rue de la Loi 50, Bruxelles  immovlan  ...   3181.818182   175000.000000\n",
              "\n",
              "[7 rows x 8 columns]"
            ]
          },
          "metadata": {
            "tags": []
          },
          "execution_count": 248
        }
      ]
    },
    {
      "cell_type": "code",
      "metadata": {
        "id": "120j9NbNMIQ2",
        "colab_type": "code",
        "colab": {
          "base_uri": "https://localhost:8080/",
          "height": 263
        },
        "outputId": "16a65fee-f7c1-4547-a9e7-9bd2fba71e21"
      },
      "source": [
        "#Ou (idem)\n",
        "df[\"city\"] = df[\"address\"].apply(get_city)\n",
        "df[\"price_per_m2\"] = df.price/df.surface\n",
        "df[\"price_per_room\"] = df.price/df.rooms\n",
        "df"
      ],
      "execution_count": 249,
      "outputs": [
        {
          "output_type": "execute_result",
          "data": {
            "text/html": [
              "<div>\n",
              "<style scoped>\n",
              "    .dataframe tbody tr th:only-of-type {\n",
              "        vertical-align: middle;\n",
              "    }\n",
              "\n",
              "    .dataframe tbody tr th {\n",
              "        vertical-align: top;\n",
              "    }\n",
              "\n",
              "    .dataframe thead th {\n",
              "        text-align: right;\n",
              "    }\n",
              "</style>\n",
              "<table border=\"1\" class=\"dataframe\">\n",
              "  <thead>\n",
              "    <tr style=\"text-align: right;\">\n",
              "      <th></th>\n",
              "      <th>address</th>\n",
              "      <th>website</th>\n",
              "      <th>price</th>\n",
              "      <th>surface</th>\n",
              "      <th>rooms</th>\n",
              "      <th>city</th>\n",
              "      <th>price_per_m2</th>\n",
              "      <th>price_per_room</th>\n",
              "    </tr>\n",
              "  </thead>\n",
              "  <tbody>\n",
              "    <tr>\n",
              "      <th>0</th>\n",
              "      <td>Rue de Fer 26, 5000 Namur</td>\n",
              "      <td>immoweb</td>\n",
              "      <td>400000.0</td>\n",
              "      <td>150</td>\n",
              "      <td>3.0</td>\n",
              "      <td>Namur</td>\n",
              "      <td>2666.666667</td>\n",
              "      <td>133333.333333</td>\n",
              "    </tr>\n",
              "    <tr>\n",
              "      <th>2</th>\n",
              "      <td>Porte de Namur 25, Bruxelles</td>\n",
              "      <td>immoweb</td>\n",
              "      <td>400000.0</td>\n",
              "      <td>120</td>\n",
              "      <td>5.0</td>\n",
              "      <td>Bruxelles</td>\n",
              "      <td>3333.333333</td>\n",
              "      <td>80000.000000</td>\n",
              "    </tr>\n",
              "    <tr>\n",
              "      <th>3</th>\n",
              "      <td>Rue de L'Eglise 42, Charleroi</td>\n",
              "      <td>immoweb</td>\n",
              "      <td>150000.0</td>\n",
              "      <td>150</td>\n",
              "      <td>5.0</td>\n",
              "      <td>Charleroi</td>\n",
              "      <td>1000.000000</td>\n",
              "      <td>30000.000000</td>\n",
              "    </tr>\n",
              "    <tr>\n",
              "      <th>4</th>\n",
              "      <td>Rue Saint-ghislain 30, 6224 Fleurus</td>\n",
              "      <td>immoweb</td>\n",
              "      <td>290000.0</td>\n",
              "      <td>320</td>\n",
              "      <td>3.0</td>\n",
              "      <td>Fleurus</td>\n",
              "      <td>906.250000</td>\n",
              "      <td>96666.666667</td>\n",
              "    </tr>\n",
              "    <tr>\n",
              "      <th>6</th>\n",
              "      <td>Rue de la Closière 20, Fleurus</td>\n",
              "      <td>immoweb</td>\n",
              "      <td>230000.0</td>\n",
              "      <td>170</td>\n",
              "      <td>3.0</td>\n",
              "      <td>Fleurus</td>\n",
              "      <td>1352.941176</td>\n",
              "      <td>76666.666667</td>\n",
              "    </tr>\n",
              "    <tr>\n",
              "      <th>10</th>\n",
              "      <td>Rue de Bruxelles 42, 5000 Namur</td>\n",
              "      <td>immovlan</td>\n",
              "      <td>350000.0</td>\n",
              "      <td>200</td>\n",
              "      <td>4.0</td>\n",
              "      <td>Namur</td>\n",
              "      <td>1750.000000</td>\n",
              "      <td>87500.000000</td>\n",
              "    </tr>\n",
              "    <tr>\n",
              "      <th>11</th>\n",
              "      <td>Rue de la Loi 50, Bruxelles</td>\n",
              "      <td>immovlan</td>\n",
              "      <td>700000.0</td>\n",
              "      <td>220</td>\n",
              "      <td>4.0</td>\n",
              "      <td>Bruxelles</td>\n",
              "      <td>3181.818182</td>\n",
              "      <td>175000.000000</td>\n",
              "    </tr>\n",
              "  </tbody>\n",
              "</table>\n",
              "</div>"
            ],
            "text/plain": [
              "                                address   website  ...  price_per_m2  price_per_room\n",
              "0             Rue de Fer 26, 5000 Namur   immoweb  ...   2666.666667   133333.333333\n",
              "2          Porte de Namur 25, Bruxelles   immoweb  ...   3333.333333    80000.000000\n",
              "3         Rue de L'Eglise 42, Charleroi   immoweb  ...   1000.000000    30000.000000\n",
              "4   Rue Saint-ghislain 30, 6224 Fleurus   immoweb  ...    906.250000    96666.666667\n",
              "6        Rue de la Closière 20, Fleurus   immoweb  ...   1352.941176    76666.666667\n",
              "10      Rue de Bruxelles 42, 5000 Namur  immovlan  ...   1750.000000    87500.000000\n",
              "11          Rue de la Loi 50, Bruxelles  immovlan  ...   3181.818182   175000.000000\n",
              "\n",
              "[7 rows x 8 columns]"
            ]
          },
          "metadata": {
            "tags": []
          },
          "execution_count": 249
        }
      ]
    },
    {
      "cell_type": "code",
      "metadata": {
        "id": "siHvkjWKlVDI",
        "colab_type": "code",
        "colab": {
          "base_uri": "https://localhost:8080/",
          "height": 141
        },
        "outputId": "5c164534-f7fa-45e0-fc8f-77763a021006"
      },
      "source": [
        "df.groupby(\"website\").mean()"
      ],
      "execution_count": 251,
      "outputs": [
        {
          "output_type": "execute_result",
          "data": {
            "text/html": [
              "<div>\n",
              "<style scoped>\n",
              "    .dataframe tbody tr th:only-of-type {\n",
              "        vertical-align: middle;\n",
              "    }\n",
              "\n",
              "    .dataframe tbody tr th {\n",
              "        vertical-align: top;\n",
              "    }\n",
              "\n",
              "    .dataframe thead th {\n",
              "        text-align: right;\n",
              "    }\n",
              "</style>\n",
              "<table border=\"1\" class=\"dataframe\">\n",
              "  <thead>\n",
              "    <tr style=\"text-align: right;\">\n",
              "      <th></th>\n",
              "      <th>price</th>\n",
              "      <th>surface</th>\n",
              "      <th>rooms</th>\n",
              "      <th>price_per_m2</th>\n",
              "      <th>price_per_room</th>\n",
              "    </tr>\n",
              "    <tr>\n",
              "      <th>website</th>\n",
              "      <th></th>\n",
              "      <th></th>\n",
              "      <th></th>\n",
              "      <th></th>\n",
              "      <th></th>\n",
              "    </tr>\n",
              "  </thead>\n",
              "  <tbody>\n",
              "    <tr>\n",
              "      <th>immovlan</th>\n",
              "      <td>525000.0</td>\n",
              "      <td>210</td>\n",
              "      <td>4.0</td>\n",
              "      <td>2465.909091</td>\n",
              "      <td>131250.000000</td>\n",
              "    </tr>\n",
              "    <tr>\n",
              "      <th>immoweb</th>\n",
              "      <td>294000.0</td>\n",
              "      <td>182</td>\n",
              "      <td>3.8</td>\n",
              "      <td>1851.838235</td>\n",
              "      <td>83333.333333</td>\n",
              "    </tr>\n",
              "  </tbody>\n",
              "</table>\n",
              "</div>"
            ],
            "text/plain": [
              "             price  surface  rooms  price_per_m2  price_per_room\n",
              "website                                                         \n",
              "immovlan  525000.0      210    4.0   2465.909091   131250.000000\n",
              "immoweb   294000.0      182    3.8   1851.838235    83333.333333"
            ]
          },
          "metadata": {
            "tags": []
          },
          "execution_count": 251
        }
      ]
    },
    {
      "cell_type": "markdown",
      "metadata": {
        "id": "CZaA_8dTlgHw",
        "colab_type": "text"
      },
      "source": [
        "Le prix/m2 et le prix/pièce est en moyenne plus élevé sur immovlan."
      ]
    },
    {
      "cell_type": "code",
      "metadata": {
        "id": "VXTedsTKlsTz",
        "colab_type": "code",
        "colab": {
          "base_uri": "https://localhost:8080/",
          "height": 202
        },
        "outputId": "45b8f900-e841-4bce-b534-8030b1ced6f4"
      },
      "source": [
        "df.groupby(\"city\").mean()"
      ],
      "execution_count": 252,
      "outputs": [
        {
          "output_type": "execute_result",
          "data": {
            "text/html": [
              "<div>\n",
              "<style scoped>\n",
              "    .dataframe tbody tr th:only-of-type {\n",
              "        vertical-align: middle;\n",
              "    }\n",
              "\n",
              "    .dataframe tbody tr th {\n",
              "        vertical-align: top;\n",
              "    }\n",
              "\n",
              "    .dataframe thead th {\n",
              "        text-align: right;\n",
              "    }\n",
              "</style>\n",
              "<table border=\"1\" class=\"dataframe\">\n",
              "  <thead>\n",
              "    <tr style=\"text-align: right;\">\n",
              "      <th></th>\n",
              "      <th>price</th>\n",
              "      <th>surface</th>\n",
              "      <th>rooms</th>\n",
              "      <th>price_per_m2</th>\n",
              "      <th>price_per_room</th>\n",
              "    </tr>\n",
              "    <tr>\n",
              "      <th>city</th>\n",
              "      <th></th>\n",
              "      <th></th>\n",
              "      <th></th>\n",
              "      <th></th>\n",
              "      <th></th>\n",
              "    </tr>\n",
              "  </thead>\n",
              "  <tbody>\n",
              "    <tr>\n",
              "      <th>Bruxelles</th>\n",
              "      <td>550000.0</td>\n",
              "      <td>170</td>\n",
              "      <td>4.5</td>\n",
              "      <td>3257.575758</td>\n",
              "      <td>127500.000000</td>\n",
              "    </tr>\n",
              "    <tr>\n",
              "      <th>Charleroi</th>\n",
              "      <td>150000.0</td>\n",
              "      <td>150</td>\n",
              "      <td>5.0</td>\n",
              "      <td>1000.000000</td>\n",
              "      <td>30000.000000</td>\n",
              "    </tr>\n",
              "    <tr>\n",
              "      <th>Fleurus</th>\n",
              "      <td>260000.0</td>\n",
              "      <td>245</td>\n",
              "      <td>3.0</td>\n",
              "      <td>1129.595588</td>\n",
              "      <td>86666.666667</td>\n",
              "    </tr>\n",
              "    <tr>\n",
              "      <th>Namur</th>\n",
              "      <td>375000.0</td>\n",
              "      <td>175</td>\n",
              "      <td>3.5</td>\n",
              "      <td>2208.333333</td>\n",
              "      <td>110416.666667</td>\n",
              "    </tr>\n",
              "  </tbody>\n",
              "</table>\n",
              "</div>"
            ],
            "text/plain": [
              "              price  surface  rooms  price_per_m2  price_per_room\n",
              "city                                                             \n",
              "Bruxelles  550000.0      170    4.5   3257.575758   127500.000000\n",
              "Charleroi  150000.0      150    5.0   1000.000000    30000.000000\n",
              "Fleurus    260000.0      245    3.0   1129.595588    86666.666667\n",
              "Namur      375000.0      175    3.5   2208.333333   110416.666667"
            ]
          },
          "metadata": {
            "tags": []
          },
          "execution_count": 252
        }
      ]
    },
    {
      "cell_type": "markdown",
      "metadata": {
        "id": "NMy1CDKCmA_F",
        "colab_type": "text"
      },
      "source": [
        "Quelques observations:\n",
        "* Bruxelles serait la ville la plus chère\n",
        "* Charleroi la ville la moins chère\n",
        "* Les maisons sont généralement plus grandes à Fleurus, mais auraient peu de pièces (très grandes du coup)\n",
        "* Les maisons de Fleurus sont plus chères qu'à Charleroi, mais le prix au m2 est presque le même\n",
        "* Les maisons de Charleroi seraient petites mais avec beaucoup de pièces (toutes petites du coup)"
      ]
    },
    {
      "cell_type": "markdown",
      "metadata": {
        "id": "QtoIJoNFm964",
        "colab_type": "text"
      },
      "source": [
        "## Types de caractéristiques: variables continues et catégorielles\n",
        "\n",
        "On peut identifier deux types de variables: des variables **continues** (tel que le prix ou la surface), et des variables **catégorielles**, tel que la ville ou la plateforme.\n",
        "\n",
        "* Les variables continues permettent d'extraire toutes sortes de statistiques, et peuvent être comparées entre elles, par exemple par une analyse de corrélation, ou par des modèles prédictifs (e.g.: régression linéaire).\n",
        "\n",
        "* Les variables catégorielles permettent quand à elles une analyse comparative de catégories (une analyse factorielle), par comparaison des statistiques extraites sur les variables continues pour chaque catégorie.\n",
        "\n",
        "Certaines variables peuvent également être considérées de plusieurs manières: le nombre de pièces est une variable **discrète**. Etant donné que le nombre de valeurs différentes est très limité, on pourrait la considérer comme une variable catégorielle (plus spécifiquement comme une variable **ordinale**, i.e. une échelle).\n",
        "\n",
        "A l'inverse, l'adresse pourrait être considérée comme une variable continue si on la traduisait en coordonnées GPS, ou en une distance (à vol d'oiseau ou par la route) à un lieu de référence (distance au magasin le plus proche, l'autoroute la plus proche, à la capitale, à la frontière, etc.)."
      ]
    },
    {
      "cell_type": "code",
      "metadata": {
        "id": "W7QQ8Pm_qgOh",
        "colab_type": "code",
        "colab": {
          "base_uri": "https://localhost:8080/",
          "height": 171
        },
        "outputId": "4a1257ab-7a69-4731-9332-5647573421a6"
      },
      "source": [
        "df.groupby(\"rooms\").mean()"
      ],
      "execution_count": 253,
      "outputs": [
        {
          "output_type": "execute_result",
          "data": {
            "text/html": [
              "<div>\n",
              "<style scoped>\n",
              "    .dataframe tbody tr th:only-of-type {\n",
              "        vertical-align: middle;\n",
              "    }\n",
              "\n",
              "    .dataframe tbody tr th {\n",
              "        vertical-align: top;\n",
              "    }\n",
              "\n",
              "    .dataframe thead th {\n",
              "        text-align: right;\n",
              "    }\n",
              "</style>\n",
              "<table border=\"1\" class=\"dataframe\">\n",
              "  <thead>\n",
              "    <tr style=\"text-align: right;\">\n",
              "      <th></th>\n",
              "      <th>price</th>\n",
              "      <th>surface</th>\n",
              "      <th>price_per_m2</th>\n",
              "      <th>price_per_room</th>\n",
              "    </tr>\n",
              "    <tr>\n",
              "      <th>rooms</th>\n",
              "      <th></th>\n",
              "      <th></th>\n",
              "      <th></th>\n",
              "      <th></th>\n",
              "    </tr>\n",
              "  </thead>\n",
              "  <tbody>\n",
              "    <tr>\n",
              "      <th>3.0</th>\n",
              "      <td>306666.666667</td>\n",
              "      <td>213.333333</td>\n",
              "      <td>1641.952614</td>\n",
              "      <td>102222.222222</td>\n",
              "    </tr>\n",
              "    <tr>\n",
              "      <th>4.0</th>\n",
              "      <td>525000.000000</td>\n",
              "      <td>210.000000</td>\n",
              "      <td>2465.909091</td>\n",
              "      <td>131250.000000</td>\n",
              "    </tr>\n",
              "    <tr>\n",
              "      <th>5.0</th>\n",
              "      <td>275000.000000</td>\n",
              "      <td>135.000000</td>\n",
              "      <td>2166.666667</td>\n",
              "      <td>55000.000000</td>\n",
              "    </tr>\n",
              "  </tbody>\n",
              "</table>\n",
              "</div>"
            ],
            "text/plain": [
              "               price     surface  price_per_m2  price_per_room\n",
              "rooms                                                         \n",
              "3.0    306666.666667  213.333333   1641.952614   102222.222222\n",
              "4.0    525000.000000  210.000000   2465.909091   131250.000000\n",
              "5.0    275000.000000  135.000000   2166.666667    55000.000000"
            ]
          },
          "metadata": {
            "tags": []
          },
          "execution_count": 253
        }
      ]
    },
    {
      "cell_type": "markdown",
      "metadata": {
        "id": "qhmyYJupq-C3",
        "colab_type": "text"
      },
      "source": [
        "* En l'occurence, on remarque étrangement que les maisons à 5 pièces sont moins chères."
      ]
    },
    {
      "cell_type": "code",
      "metadata": {
        "id": "pz8qPP8vs5mY",
        "colab_type": "code",
        "colab": {
          "base_uri": "https://localhost:8080/",
          "height": 110
        },
        "outputId": "2a761750-3718-4af0-addf-c515e79c5ba5"
      },
      "source": [
        "df[df.rooms == 5]"
      ],
      "execution_count": 254,
      "outputs": [
        {
          "output_type": "execute_result",
          "data": {
            "text/html": [
              "<div>\n",
              "<style scoped>\n",
              "    .dataframe tbody tr th:only-of-type {\n",
              "        vertical-align: middle;\n",
              "    }\n",
              "\n",
              "    .dataframe tbody tr th {\n",
              "        vertical-align: top;\n",
              "    }\n",
              "\n",
              "    .dataframe thead th {\n",
              "        text-align: right;\n",
              "    }\n",
              "</style>\n",
              "<table border=\"1\" class=\"dataframe\">\n",
              "  <thead>\n",
              "    <tr style=\"text-align: right;\">\n",
              "      <th></th>\n",
              "      <th>address</th>\n",
              "      <th>website</th>\n",
              "      <th>price</th>\n",
              "      <th>surface</th>\n",
              "      <th>rooms</th>\n",
              "      <th>city</th>\n",
              "      <th>price_per_m2</th>\n",
              "      <th>price_per_room</th>\n",
              "    </tr>\n",
              "  </thead>\n",
              "  <tbody>\n",
              "    <tr>\n",
              "      <th>2</th>\n",
              "      <td>Porte de Namur 25, Bruxelles</td>\n",
              "      <td>immoweb</td>\n",
              "      <td>400000.0</td>\n",
              "      <td>120</td>\n",
              "      <td>5.0</td>\n",
              "      <td>Bruxelles</td>\n",
              "      <td>3333.333333</td>\n",
              "      <td>80000.0</td>\n",
              "    </tr>\n",
              "    <tr>\n",
              "      <th>3</th>\n",
              "      <td>Rue de L'Eglise 42, Charleroi</td>\n",
              "      <td>immoweb</td>\n",
              "      <td>150000.0</td>\n",
              "      <td>150</td>\n",
              "      <td>5.0</td>\n",
              "      <td>Charleroi</td>\n",
              "      <td>1000.000000</td>\n",
              "      <td>30000.0</td>\n",
              "    </tr>\n",
              "  </tbody>\n",
              "</table>\n",
              "</div>"
            ],
            "text/plain": [
              "                         address  website  ...  price_per_m2  price_per_room\n",
              "2   Porte de Namur 25, Bruxelles  immoweb  ...   3333.333333         80000.0\n",
              "3  Rue de L'Eglise 42, Charleroi  immoweb  ...   1000.000000         30000.0\n",
              "\n",
              "[2 rows x 8 columns]"
            ]
          },
          "metadata": {
            "tags": []
          },
          "execution_count": 254
        }
      ]
    },
    {
      "cell_type": "markdown",
      "metadata": {
        "id": "HwCs3n-mrSRa",
        "colab_type": "text"
      },
      "source": [
        "## Détection/suppression des anomalies ?\n",
        "\n",
        "Les anomalies sont des observations très différentes de la masse des données. Par exemple, si pour un dataset de 100 maisons, toutes sont entre 200000 et 400000 et une seule est à 100000, elle peut-être considérée comme une anomalie. Ou si on a 100 maisons à Bruxelles et une seule à Philippeville, on peut considérer cette dernière comme anormale. Elle risque en effet d'être tellement différente des autres qu'elle aura une forte influence sur les statistiques.\n",
        "\n",
        "En l'occurrence, dans notre dataset de test, on pourrait considérer celle de Charleroi comme anormale: son prix par pièce est beaucoup moins élevé que celui de toutes les autres.\n",
        "\n",
        "Les anomalies peuvent se détecter de deux manières: les statistiques et la visualisation graphique."
      ]
    },
    {
      "cell_type": "markdown",
      "metadata": {
        "id": "C7DGIGdluWig",
        "colab_type": "text"
      },
      "source": [
        "# Matplotlib"
      ]
    },
    {
      "cell_type": "code",
      "metadata": {
        "id": "E_g3E8o9rY0E",
        "colab_type": "code",
        "colab": {
          "base_uri": "https://localhost:8080/",
          "height": 455
        },
        "outputId": "fb56edff-06ef-42ea-c342-5206b7ca885b"
      },
      "source": [
        "from matplotlib import pyplot as plt\n",
        "\n",
        "plt.bar(df.address,df.price_per_room)\n",
        "plt.xticks(rotation=90)"
      ],
      "execution_count": 271,
      "outputs": [
        {
          "output_type": "execute_result",
          "data": {
            "text/plain": [
              "([0, 1, 2, 3, 4, 5, 6], <a list of 7 Text xticklabel objects>)"
            ]
          },
          "metadata": {
            "tags": []
          },
          "execution_count": 271
        },
        {
          "output_type": "display_data",
          "data": {
            "image/png": "[encoded data removed]",
            "text/plain": [
              "<Figure size 432x288 with 1 Axes>"
            ]
          },
          "metadata": {
            "tags": []
          }
        }
      ]
    },
    {
      "cell_type": "code",
      "metadata": {
        "id": "6qnUZJK2tbMo",
        "colab_type": "code",
        "colab": {
          "base_uri": "https://localhost:8080/",
          "height": 290
        },
        "outputId": "7448f107-76c2-41c5-fd83-1e32a873c0d9"
      },
      "source": [
        "#méthode intégrée de pandas\n",
        "df.plot.bar(y=\"price_per_room\")\n",
        "plt.xticks(rotation=90)           "
      ],
      "execution_count": 279,
      "outputs": [
        {
          "output_type": "execute_result",
          "data": {
            "text/plain": [
              "(array([0, 1, 2, 3, 4, 5, 6]), <a list of 7 Text xticklabel objects>)"
            ]
          },
          "metadata": {
            "tags": []
          },
          "execution_count": 279
        },
        {
          "output_type": "display_data",
          "data": {
            "image/png": "[encoded data removed]",
            "text/plain": [
              "<Figure size 432x288 with 1 Axes>"
            ]
          },
          "metadata": {
            "tags": []
          }
        }
      ]
    },
    {
      "cell_type": "code",
      "metadata": {
        "id": "xEUcqzP5vvfH",
        "colab_type": "code",
        "colab": {
          "base_uri": "https://localhost:8080/",
          "height": 202
        },
        "outputId": "c42edd90-ac9c-4556-9f56-003e7424562a"
      },
      "source": [
        "#On retire les données extrêmes\n",
        "df2 = df.drop([3,11])\n",
        "df2"
      ],
      "execution_count": 282,
      "outputs": [
        {
          "output_type": "execute_result",
          "data": {
            "text/html": [
              "<div>\n",
              "<style scoped>\n",
              "    .dataframe tbody tr th:only-of-type {\n",
              "        vertical-align: middle;\n",
              "    }\n",
              "\n",
              "    .dataframe tbody tr th {\n",
              "        vertical-align: top;\n",
              "    }\n",
              "\n",
              "    .dataframe thead th {\n",
              "        text-align: right;\n",
              "    }\n",
              "</style>\n",
              "<table border=\"1\" class=\"dataframe\">\n",
              "  <thead>\n",
              "    <tr style=\"text-align: right;\">\n",
              "      <th></th>\n",
              "      <th>address</th>\n",
              "      <th>website</th>\n",
              "      <th>price</th>\n",
              "      <th>surface</th>\n",
              "      <th>rooms</th>\n",
              "      <th>city</th>\n",
              "      <th>price_per_m2</th>\n",
              "      <th>price_per_room</th>\n",
              "    </tr>\n",
              "  </thead>\n",
              "  <tbody>\n",
              "    <tr>\n",
              "      <th>0</th>\n",
              "      <td>Rue de Fer 26, 5000 Namur</td>\n",
              "      <td>immoweb</td>\n",
              "      <td>400000.0</td>\n",
              "      <td>150</td>\n",
              "      <td>3.0</td>\n",
              "      <td>Namur</td>\n",
              "      <td>2666.666667</td>\n",
              "      <td>133333.333333</td>\n",
              "    </tr>\n",
              "    <tr>\n",
              "      <th>2</th>\n",
              "      <td>Porte de Namur 25, Bruxelles</td>\n",
              "      <td>immoweb</td>\n",
              "      <td>400000.0</td>\n",
              "      <td>120</td>\n",
              "      <td>5.0</td>\n",
              "      <td>Bruxelles</td>\n",
              "      <td>3333.333333</td>\n",
              "      <td>80000.000000</td>\n",
              "    </tr>\n",
              "    <tr>\n",
              "      <th>4</th>\n",
              "      <td>Rue Saint-ghislain 30, 6224 Fleurus</td>\n",
              "      <td>immoweb</td>\n",
              "      <td>290000.0</td>\n",
              "      <td>320</td>\n",
              "      <td>3.0</td>\n",
              "      <td>Fleurus</td>\n",
              "      <td>906.250000</td>\n",
              "      <td>96666.666667</td>\n",
              "    </tr>\n",
              "    <tr>\n",
              "      <th>6</th>\n",
              "      <td>Rue de la Closière 20, Fleurus</td>\n",
              "      <td>immoweb</td>\n",
              "      <td>230000.0</td>\n",
              "      <td>170</td>\n",
              "      <td>3.0</td>\n",
              "      <td>Fleurus</td>\n",
              "      <td>1352.941176</td>\n",
              "      <td>76666.666667</td>\n",
              "    </tr>\n",
              "    <tr>\n",
              "      <th>10</th>\n",
              "      <td>Rue de Bruxelles 42, 5000 Namur</td>\n",
              "      <td>immovlan</td>\n",
              "      <td>350000.0</td>\n",
              "      <td>200</td>\n",
              "      <td>4.0</td>\n",
              "      <td>Namur</td>\n",
              "      <td>1750.000000</td>\n",
              "      <td>87500.000000</td>\n",
              "    </tr>\n",
              "  </tbody>\n",
              "</table>\n",
              "</div>"
            ],
            "text/plain": [
              "                                address   website  ...  price_per_m2  price_per_room\n",
              "0             Rue de Fer 26, 5000 Namur   immoweb  ...   2666.666667   133333.333333\n",
              "2          Porte de Namur 25, Bruxelles   immoweb  ...   3333.333333    80000.000000\n",
              "4   Rue Saint-ghislain 30, 6224 Fleurus   immoweb  ...    906.250000    96666.666667\n",
              "6        Rue de la Closière 20, Fleurus   immoweb  ...   1352.941176    76666.666667\n",
              "10      Rue de Bruxelles 42, 5000 Namur  immovlan  ...   1750.000000    87500.000000\n",
              "\n",
              "[5 rows x 8 columns]"
            ]
          },
          "metadata": {
            "tags": []
          },
          "execution_count": 282
        }
      ]
    },
    {
      "cell_type": "code",
      "metadata": {
        "id": "8pd7l-Z3wHAD",
        "colab_type": "code",
        "colab": {
          "base_uri": "https://localhost:8080/",
          "height": 171
        },
        "outputId": "6ed07727-e5ac-484c-a272-0407b70211fe"
      },
      "source": [
        "df2.groupby(\"rooms\").mean()"
      ],
      "execution_count": 283,
      "outputs": [
        {
          "output_type": "execute_result",
          "data": {
            "text/html": [
              "<div>\n",
              "<style scoped>\n",
              "    .dataframe tbody tr th:only-of-type {\n",
              "        vertical-align: middle;\n",
              "    }\n",
              "\n",
              "    .dataframe tbody tr th {\n",
              "        vertical-align: top;\n",
              "    }\n",
              "\n",
              "    .dataframe thead th {\n",
              "        text-align: right;\n",
              "    }\n",
              "</style>\n",
              "<table border=\"1\" class=\"dataframe\">\n",
              "  <thead>\n",
              "    <tr style=\"text-align: right;\">\n",
              "      <th></th>\n",
              "      <th>price</th>\n",
              "      <th>surface</th>\n",
              "      <th>price_per_m2</th>\n",
              "      <th>price_per_room</th>\n",
              "    </tr>\n",
              "    <tr>\n",
              "      <th>rooms</th>\n",
              "      <th></th>\n",
              "      <th></th>\n",
              "      <th></th>\n",
              "      <th></th>\n",
              "    </tr>\n",
              "  </thead>\n",
              "  <tbody>\n",
              "    <tr>\n",
              "      <th>3.0</th>\n",
              "      <td>306666.666667</td>\n",
              "      <td>213.333333</td>\n",
              "      <td>1641.952614</td>\n",
              "      <td>102222.222222</td>\n",
              "    </tr>\n",
              "    <tr>\n",
              "      <th>4.0</th>\n",
              "      <td>350000.000000</td>\n",
              "      <td>200.000000</td>\n",
              "      <td>1750.000000</td>\n",
              "      <td>87500.000000</td>\n",
              "    </tr>\n",
              "    <tr>\n",
              "      <th>5.0</th>\n",
              "      <td>400000.000000</td>\n",
              "      <td>120.000000</td>\n",
              "      <td>3333.333333</td>\n",
              "      <td>80000.000000</td>\n",
              "    </tr>\n",
              "  </tbody>\n",
              "</table>\n",
              "</div>"
            ],
            "text/plain": [
              "               price     surface  price_per_m2  price_per_room\n",
              "rooms                                                         \n",
              "3.0    306666.666667  213.333333   1641.952614   102222.222222\n",
              "4.0    350000.000000  200.000000   1750.000000    87500.000000\n",
              "5.0    400000.000000  120.000000   3333.333333    80000.000000"
            ]
          },
          "metadata": {
            "tags": []
          },
          "execution_count": 283
        }
      ]
    },
    {
      "cell_type": "markdown",
      "metadata": {
        "id": "mCSyQ5Lswbl5",
        "colab_type": "text"
      },
      "source": [
        "* Après avoir retiré les donénes extrêmes, l'évolution du prix en fonction du nombre de chambres est plus cohérent.\n",
        "* On remarque que le prix au m2 augmente, mais que le prix par pièce diminue"
      ]
    },
    {
      "cell_type": "code",
      "metadata": {
        "id": "zDVI9DvqwxFX",
        "colab_type": "code",
        "colab": {
          "base_uri": "https://localhost:8080/",
          "height": 307
        },
        "outputId": "fb4e63e7-78c4-41e7-adb7-3f561248f92d"
      },
      "source": [
        "result = df2.groupby(\"rooms\").mean()\n",
        "#Divide each column by its sum (so that sum is 1) - so that multiple bar plots with various orders are visible\n",
        "result = result/result.sum()\n",
        "result.plot(kind=\"bar\")"
      ],
      "execution_count": 290,
      "outputs": [
        {
          "output_type": "execute_result",
          "data": {
            "text/plain": [
              "<matplotlib.axes._subplots.AxesSubplot at 0x7fca538f24a8>"
            ]
          },
          "metadata": {
            "tags": []
          },
          "execution_count": 290
        },
        {
          "output_type": "display_data",
          "data": {
            "image/png": "[encoded data removed]",
            "text/plain": [
              "<Figure size 432x288 with 1 Axes>"
            ]
          },
          "metadata": {
            "tags": []
          }
        }
      ]
    },
    {
      "cell_type": "markdown",
      "metadata": {
        "id": "8jXwAMMRzJnf",
        "colab_type": "text"
      },
      "source": [
        "On remarque en effet que:\n",
        "* le prix augmente\n",
        "* la surface diminue\n",
        "* le prix au m2 augmente (logiquement)\n",
        "* le prix par pièce diminue"
      ]
    },
    {
      "cell_type": "code",
      "metadata": {
        "id": "lpskK1wozDBH",
        "colab_type": "code",
        "colab": {
          "base_uri": "https://localhost:8080/",
          "height": 354
        },
        "outputId": "3719e114-534b-495a-9e41-d8d3db277e42"
      },
      "source": [
        "#00% stacked bar: transpose the dataframe so that each bar is a variable\n",
        "result.transpose().plot(kind=\"bar\",stacked = True)"
      ],
      "execution_count": 291,
      "outputs": [
        {
          "output_type": "execute_result",
          "data": {
            "text/plain": [
              "<matplotlib.axes._subplots.AxesSubplot at 0x7fca53a105c0>"
            ]
          },
          "metadata": {
            "tags": []
          },
          "execution_count": 291
        },
        {
          "output_type": "display_data",
          "data": {
            "image/png": "[encoded data removed]",
            "text/plain": [
              "<Figure size 432x288 with 1 Axes>"
            ]
          },
          "metadata": {
            "tags": []
          }
        }
      ]
    },
    {
      "cell_type": "markdown",
      "metadata": {
        "id": "zNLSdGxTywCa",
        "colab_type": "text"
      },
      "source": [
        ""
      ]
    },
    {
      "cell_type": "code",
      "metadata": {
        "id": "oFJhEsNat6io",
        "colab_type": "code",
        "colab": {
          "base_uri": "https://localhost:8080/",
          "height": 340
        },
        "outputId": "8211b410-d656-4066-ce95-a9deea476c83"
      },
      "source": [
        "website_comparison = df.groupby(\"website\").mean()\n",
        "website_comparison.plot.bar(y=\"price\")"
      ],
      "execution_count": 278,
      "outputs": [
        {
          "output_type": "execute_result",
          "data": {
            "text/plain": [
              "<matplotlib.axes._subplots.AxesSubplot at 0x7fca5384dcc0>"
            ]
          },
          "metadata": {
            "tags": []
          },
          "execution_count": 278
        },
        {
          "output_type": "display_data",
          "data": {
            "image/png": "[encoded data removed]",
            "text/plain": [
              "<Figure size 432x288 with 1 Axes>"
            ]
          },
          "metadata": {
            "tags": []
          }
        }
      ]
    },
    {
      "cell_type": "code",
      "metadata": {
        "id": "ad0KrEotvBiZ",
        "colab_type": "code",
        "colab": {}
      },
      "source": [
        ""
      ],
      "execution_count": 0,
      "outputs": []
    }
  ]
}